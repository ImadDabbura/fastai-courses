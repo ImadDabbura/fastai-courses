{
 "cells": [
  {
   "cell_type": "markdown",
   "metadata": {
    "heading_collapsed": "true"
   },
   "source": [
    "# Imports "
   ]
  },
  {
   "cell_type": "code",
   "execution_count": 1,
   "metadata": {},
   "outputs": [
    {
     "data": {
      "application/javascript": [
       "\n",
       "            setTimeout(function() {\n",
       "                var nbb_cell_id = 1;\n",
       "                var nbb_unformatted_code = \"%load_ext autoreload\\n%autoreload 2\\n\\n%load_ext nb_black\";\n",
       "                var nbb_formatted_code = \"%load_ext autoreload\\n%autoreload 2\\n\\n%load_ext nb_black\";\n",
       "                var nbb_cells = Jupyter.notebook.get_cells();\n",
       "                for (var i = 0; i < nbb_cells.length; ++i) {\n",
       "                    if (nbb_cells[i].input_prompt_number == nbb_cell_id) {\n",
       "                        if (nbb_cells[i].get_text() == nbb_unformatted_code) {\n",
       "                             nbb_cells[i].set_text(nbb_formatted_code);\n",
       "                        }\n",
       "                        break;\n",
       "                    }\n",
       "                }\n",
       "            }, 500);\n",
       "            "
      ],
      "text/plain": [
       "<IPython.core.display.Javascript object>"
      ]
     },
     "metadata": {},
     "output_type": "display_data"
    }
   ],
   "source": [
    "%load_ext autoreload\n",
    "%autoreload 2\n",
    "\n",
    "%load_ext nb_black"
   ]
  },
  {
   "cell_type": "code",
   "execution_count": 2,
   "metadata": {},
   "outputs": [
    {
     "data": {
      "application/javascript": [
       "\n",
       "            setTimeout(function() {\n",
       "                var nbb_cell_id = 2;\n",
       "                var nbb_unformatted_code = \"#export\\nfrom exp.nb_07a import *\";\n",
       "                var nbb_formatted_code = \"# export\\nfrom exp.nb_07a import *\";\n",
       "                var nbb_cells = Jupyter.notebook.get_cells();\n",
       "                for (var i = 0; i < nbb_cells.length; ++i) {\n",
       "                    if (nbb_cells[i].input_prompt_number == nbb_cell_id) {\n",
       "                        if (nbb_cells[i].get_text() == nbb_unformatted_code) {\n",
       "                             nbb_cells[i].set_text(nbb_formatted_code);\n",
       "                        }\n",
       "                        break;\n",
       "                    }\n",
       "                }\n",
       "            }, 500);\n",
       "            "
      ],
      "text/plain": [
       "<IPython.core.display.Javascript object>"
      ]
     },
     "metadata": {},
     "output_type": "display_data"
    }
   ],
   "source": [
    "#export\n",
    "from exp.nb_07a import *"
   ]
  },
  {
   "cell_type": "markdown",
   "metadata": {
    "heading_collapsed": "true"
   },
   "source": [
    "# Introduction"
   ]
  },
  {
   "cell_type": "markdown",
   "metadata": {},
   "source": [
    "- Images 32 x 32 have very different characteristics than large images. Once you get below 96 x 96 they behave differently. This means what works well; for example on CIFAR 10, most likely will not work well on Imagenet. 128 x 128 pixel images do generalize well to bigger images, and conclusions made on such images hold well to large images and much faster to train.\n",
    "\n",
    "These are subsets of Imagenet images with different sizes/characteristics:\n",
    "- Imagenette: A subset of 10 easily classified classes from Imagenet.\n",
    "- Imagewoof: A subset of 10 classes from Imagenet that aren’t easy to classify (all dog breeds).\n",
    "- Imagewang: Imagenette and Imagewoof combined with some twists to make it into a tricky semi-supervised unbalanced classification problem.\n",
    "\n",
    "Each of the datasets is available in 3 sizes:\n",
    "- Full size.\n",
    "- Shortest length resized to 160px (aspect ratio maintained).\n",
    "- Shortest length resized to 320px (aspect ratio maintained).\n",
    "\n",
    "A big part of a getting good at using deep learning in your domain is knowing how to create small, workable, useful datasets…\n",
    "Try to come up with a toy problem or two that will give you insight into your full problem."
   ]
  },
  {
   "cell_type": "markdown",
   "metadata": {},
   "source": [
    "[Jump_to lesson 11 video](https://course.fast.ai/videos/?lesson=11&t=600)"
   ]
  },
  {
   "cell_type": "markdown",
   "metadata": {
    "heading_collapsed": "true"
   },
   "source": [
    "# Data block API foundations"
   ]
  },
  {
   "cell_type": "code",
   "execution_count": 3,
   "metadata": {},
   "outputs": [
    {
     "data": {
      "application/javascript": [
       "\n",
       "            setTimeout(function() {\n",
       "                var nbb_cell_id = 3;\n",
       "                var nbb_unformatted_code = \"#export\\nfrom fastai.data.external import download_url, URLs, untar_data\";\n",
       "                var nbb_formatted_code = \"# export\\nfrom fastai.data.external import download_url, URLs, untar_data\";\n",
       "                var nbb_cells = Jupyter.notebook.get_cells();\n",
       "                for (var i = 0; i < nbb_cells.length; ++i) {\n",
       "                    if (nbb_cells[i].input_prompt_number == nbb_cell_id) {\n",
       "                        if (nbb_cells[i].get_text() == nbb_unformatted_code) {\n",
       "                             nbb_cells[i].set_text(nbb_formatted_code);\n",
       "                        }\n",
       "                        break;\n",
       "                    }\n",
       "                }\n",
       "            }, 500);\n",
       "            "
      ],
      "text/plain": [
       "<IPython.core.display.Javascript object>"
      ]
     },
     "metadata": {},
     "output_type": "display_data"
    }
   ],
   "source": [
    "#export\n",
    "from fastai.data.external import download_url, URLs, untar_data"
   ]
  },
  {
   "cell_type": "code",
   "execution_count": 4,
   "metadata": {},
   "outputs": [
    {
     "data": {
      "text/plain": [
       "'https://s3.amazonaws.com/fast-ai-imageclas/imagenette2-160.tgz'"
      ]
     },
     "execution_count": 4,
     "metadata": {},
     "output_type": "execute_result"
    },
    {
     "data": {
      "application/javascript": [
       "\n",
       "            setTimeout(function() {\n",
       "                var nbb_cell_id = 4;\n",
       "                var nbb_unformatted_code = \"URLs.IMAGENETTE_160\";\n",
       "                var nbb_formatted_code = \"URLs.IMAGENETTE_160\";\n",
       "                var nbb_cells = Jupyter.notebook.get_cells();\n",
       "                for (var i = 0; i < nbb_cells.length; ++i) {\n",
       "                    if (nbb_cells[i].input_prompt_number == nbb_cell_id) {\n",
       "                        if (nbb_cells[i].get_text() == nbb_unformatted_code) {\n",
       "                             nbb_cells[i].set_text(nbb_formatted_code);\n",
       "                        }\n",
       "                        break;\n",
       "                    }\n",
       "                }\n",
       "            }, 500);\n",
       "            "
      ],
      "text/plain": [
       "<IPython.core.display.Javascript object>"
      ]
     },
     "metadata": {},
     "output_type": "display_data"
    }
   ],
   "source": [
    "URLs.IMAGENETTE_160"
   ]
  },
  {
   "cell_type": "markdown",
   "metadata": {},
   "source": [
    "Previously we were reading in to RAM the whole MNIST dataset at once, loading it as a pickle file. We can't do that for datasets larger than our RAM capacity, so instead we leave the images on disk and just grab the ones we need for each mini-batch as we use them.\n",
    "\n",
    "Let's use the [imagenette dataset](https://github.com/fastai/imagenette/blob/master/README.md) and build the data blocks we need along the way."
   ]
  },
  {
   "cell_type": "code",
   "execution_count": 5,
   "metadata": {},
   "outputs": [
    {
     "data": {
      "text/plain": [
       "Path('/Users/imad/.fastai/data/imagenette2-160')"
      ]
     },
     "execution_count": 5,
     "metadata": {},
     "output_type": "execute_result"
    },
    {
     "data": {
      "application/javascript": [
       "\n",
       "            setTimeout(function() {\n",
       "                var nbb_cell_id = 5;\n",
       "                var nbb_unformatted_code = \"path = untar_data(URLs.IMAGENETTE_160)\\npath\";\n",
       "                var nbb_formatted_code = \"path = untar_data(URLs.IMAGENETTE_160)\\npath\";\n",
       "                var nbb_cells = Jupyter.notebook.get_cells();\n",
       "                for (var i = 0; i < nbb_cells.length; ++i) {\n",
       "                    if (nbb_cells[i].input_prompt_number == nbb_cell_id) {\n",
       "                        if (nbb_cells[i].get_text() == nbb_unformatted_code) {\n",
       "                             nbb_cells[i].set_text(nbb_formatted_code);\n",
       "                        }\n",
       "                        break;\n",
       "                    }\n",
       "                }\n",
       "            }, 500);\n",
       "            "
      ],
      "text/plain": [
       "<IPython.core.display.Javascript object>"
      ]
     },
     "metadata": {},
     "output_type": "display_data"
    }
   ],
   "source": [
    "path = untar_data(URLs.IMAGENETTE_160)\n",
    "path"
   ]
  },
  {
   "cell_type": "markdown",
   "metadata": {},
   "source": [
    "To be able to look at what's inside a directory from a notebook, we add the `.ls` method to `Path` with a monkey-patch."
   ]
  },
  {
   "cell_type": "code",
   "execution_count": 6,
   "metadata": {},
   "outputs": [
    {
     "data": {
      "application/javascript": [
       "\n",
       "            setTimeout(function() {\n",
       "                var nbb_cell_id = 6;\n",
       "                var nbb_unformatted_code = \"#export\\nimport PIL, os, mimetypes\\nPath.ls = lambda x: list(x.iterdir())\";\n",
       "                var nbb_formatted_code = \"# export\\nimport PIL, os, mimetypes\\n\\nPath.ls = lambda x: list(x.iterdir())\";\n",
       "                var nbb_cells = Jupyter.notebook.get_cells();\n",
       "                for (var i = 0; i < nbb_cells.length; ++i) {\n",
       "                    if (nbb_cells[i].input_prompt_number == nbb_cell_id) {\n",
       "                        if (nbb_cells[i].get_text() == nbb_unformatted_code) {\n",
       "                             nbb_cells[i].set_text(nbb_formatted_code);\n",
       "                        }\n",
       "                        break;\n",
       "                    }\n",
       "                }\n",
       "            }, 500);\n",
       "            "
      ],
      "text/plain": [
       "<IPython.core.display.Javascript object>"
      ]
     },
     "metadata": {},
     "output_type": "display_data"
    }
   ],
   "source": [
    "#export\n",
    "import PIL, os, mimetypes\n",
    "Path.ls = lambda x: list(x.iterdir())"
   ]
  },
  {
   "cell_type": "code",
   "execution_count": 7,
   "metadata": {},
   "outputs": [
    {
     "data": {
      "text/plain": [
       "[Path('/Users/imad/.fastai/data/imagenette2-160/train'),\n",
       " Path('/Users/imad/.fastai/data/imagenette2-160/val')]"
      ]
     },
     "execution_count": 7,
     "metadata": {},
     "output_type": "execute_result"
    },
    {
     "data": {
      "application/javascript": [
       "\n",
       "            setTimeout(function() {\n",
       "                var nbb_cell_id = 7;\n",
       "                var nbb_unformatted_code = \"path.ls()\";\n",
       "                var nbb_formatted_code = \"path.ls()\";\n",
       "                var nbb_cells = Jupyter.notebook.get_cells();\n",
       "                for (var i = 0; i < nbb_cells.length; ++i) {\n",
       "                    if (nbb_cells[i].input_prompt_number == nbb_cell_id) {\n",
       "                        if (nbb_cells[i].get_text() == nbb_unformatted_code) {\n",
       "                             nbb_cells[i].set_text(nbb_formatted_code);\n",
       "                        }\n",
       "                        break;\n",
       "                    }\n",
       "                }\n",
       "            }, 500);\n",
       "            "
      ],
      "text/plain": [
       "<IPython.core.display.Javascript object>"
      ]
     },
     "metadata": {},
     "output_type": "display_data"
    }
   ],
   "source": [
    "path.ls()"
   ]
  },
  {
   "cell_type": "code",
   "execution_count": 8,
   "metadata": {},
   "outputs": [
    {
     "data": {
      "text/plain": [
       "[Path('/Users/imad/.fastai/data/imagenette2-160/val/n03394916'),\n",
       " Path('/Users/imad/.fastai/data/imagenette2-160/val/n03417042')]"
      ]
     },
     "execution_count": 8,
     "metadata": {},
     "output_type": "execute_result"
    },
    {
     "data": {
      "application/javascript": [
       "\n",
       "            setTimeout(function() {\n",
       "                var nbb_cell_id = 8;\n",
       "                var nbb_unformatted_code = \"(path/'val').ls()[:2]\";\n",
       "                var nbb_formatted_code = \"(path / \\\"val\\\").ls()[:2]\";\n",
       "                var nbb_cells = Jupyter.notebook.get_cells();\n",
       "                for (var i = 0; i < nbb_cells.length; ++i) {\n",
       "                    if (nbb_cells[i].input_prompt_number == nbb_cell_id) {\n",
       "                        if (nbb_cells[i].get_text() == nbb_unformatted_code) {\n",
       "                             nbb_cells[i].set_text(nbb_formatted_code);\n",
       "                        }\n",
       "                        break;\n",
       "                    }\n",
       "                }\n",
       "            }, 500);\n",
       "            "
      ],
      "text/plain": [
       "<IPython.core.display.Javascript object>"
      ]
     },
     "metadata": {},
     "output_type": "display_data"
    }
   ],
   "source": [
    "(path/'val').ls()[:2]"
   ]
  },
  {
   "cell_type": "markdown",
   "metadata": {},
   "source": [
    "Let's have a look inside a class folder (the first class is tench):"
   ]
  },
  {
   "cell_type": "code",
   "execution_count": 9,
   "metadata": {},
   "outputs": [
    {
     "data": {
      "application/javascript": [
       "\n",
       "            setTimeout(function() {\n",
       "                var nbb_cell_id = 9;\n",
       "                var nbb_unformatted_code = \"path_tench = path/'val'/'n01440764'\";\n",
       "                var nbb_formatted_code = \"path_tench = path / \\\"val\\\" / \\\"n01440764\\\"\";\n",
       "                var nbb_cells = Jupyter.notebook.get_cells();\n",
       "                for (var i = 0; i < nbb_cells.length; ++i) {\n",
       "                    if (nbb_cells[i].input_prompt_number == nbb_cell_id) {\n",
       "                        if (nbb_cells[i].get_text() == nbb_unformatted_code) {\n",
       "                             nbb_cells[i].set_text(nbb_formatted_code);\n",
       "                        }\n",
       "                        break;\n",
       "                    }\n",
       "                }\n",
       "            }, 500);\n",
       "            "
      ],
      "text/plain": [
       "<IPython.core.display.Javascript object>"
      ]
     },
     "metadata": {},
     "output_type": "display_data"
    }
   ],
   "source": [
    "path_tench = path/'val'/'n01440764'"
   ]
  },
  {
   "cell_type": "code",
   "execution_count": 10,
   "metadata": {},
   "outputs": [
    {
     "data": {
      "text/plain": [
       "Path('/Users/imad/.fastai/data/imagenette2-160/val/n01440764/n01440764_32420.JPEG')"
      ]
     },
     "execution_count": 10,
     "metadata": {},
     "output_type": "execute_result"
    },
    {
     "data": {
      "application/javascript": [
       "\n",
       "            setTimeout(function() {\n",
       "                var nbb_cell_id = 10;\n",
       "                var nbb_unformatted_code = \"img_fn = path_tench.ls()[0]\\nimg_fn\";\n",
       "                var nbb_formatted_code = \"img_fn = path_tench.ls()[0]\\nimg_fn\";\n",
       "                var nbb_cells = Jupyter.notebook.get_cells();\n",
       "                for (var i = 0; i < nbb_cells.length; ++i) {\n",
       "                    if (nbb_cells[i].input_prompt_number == nbb_cell_id) {\n",
       "                        if (nbb_cells[i].get_text() == nbb_unformatted_code) {\n",
       "                             nbb_cells[i].set_text(nbb_formatted_code);\n",
       "                        }\n",
       "                        break;\n",
       "                    }\n",
       "                }\n",
       "            }, 500);\n",
       "            "
      ],
      "text/plain": [
       "<IPython.core.display.Javascript object>"
      ]
     },
     "metadata": {},
     "output_type": "display_data"
    }
   ],
   "source": [
    "img_fn = path_tench.ls()[0]\n",
    "img_fn"
   ]
  },
  {
   "cell_type": "code",
   "execution_count": 11,
   "metadata": {},
   "outputs": [
    {
     "data": {
      "image/png": "[encoded data removed]",
      "text/plain": [
       "<PIL.JpegImagePlugin.JpegImageFile image mode=RGB size=160x213 at 0x7F8645FDD850>"
      ]
     },
     "execution_count": 11,
     "metadata": {},
     "output_type": "execute_result"
    },
    {
     "data": {
      "application/javascript": [
       "\n",
       "            setTimeout(function() {\n",
       "                var nbb_cell_id = 11;\n",
       "                var nbb_unformatted_code = \"img = PIL.Image.open(img_fn)\\nimg\";\n",
       "                var nbb_formatted_code = \"img = PIL.Image.open(img_fn)\\nimg\";\n",
       "                var nbb_cells = Jupyter.notebook.get_cells();\n",
       "                for (var i = 0; i < nbb_cells.length; ++i) {\n",
       "                    if (nbb_cells[i].input_prompt_number == nbb_cell_id) {\n",
       "                        if (nbb_cells[i].get_text() == nbb_unformatted_code) {\n",
       "                             nbb_cells[i].set_text(nbb_formatted_code);\n",
       "                        }\n",
       "                        break;\n",
       "                    }\n",
       "                }\n",
       "            }, 500);\n",
       "            "
      ],
      "text/plain": [
       "<IPython.core.display.Javascript object>"
      ]
     },
     "metadata": {},
     "output_type": "display_data"
    }
   ],
   "source": [
    "img = PIL.Image.open(img_fn)\n",
    "img"
   ]
  },
  {
   "cell_type": "code",
   "execution_count": 12,
   "metadata": {},
   "outputs": [
    {
     "data": {
      "image/png": "[encoded data removed]",
      "text/plain": [
       "<Figure size 432x288 with 1 Axes>"
      ]
     },
     "metadata": {
      "needs_background": "light"
     },
     "output_type": "display_data"
    },
    {
     "data": {
      "application/javascript": [
       "\n",
       "            setTimeout(function() {\n",
       "                var nbb_cell_id = 12;\n",
       "                var nbb_unformatted_code = \"plt.imshow(img)\\nplt.axis('off');\";\n",
       "                var nbb_formatted_code = \"plt.imshow(img)\\nplt.axis(\\\"off\\\")\";\n",
       "                var nbb_cells = Jupyter.notebook.get_cells();\n",
       "                for (var i = 0; i < nbb_cells.length; ++i) {\n",
       "                    if (nbb_cells[i].input_prompt_number == nbb_cell_id) {\n",
       "                        if (nbb_cells[i].get_text() == nbb_unformatted_code) {\n",
       "                             nbb_cells[i].set_text(nbb_formatted_code);\n",
       "                        }\n",
       "                        break;\n",
       "                    }\n",
       "                }\n",
       "            }, 500);\n",
       "            "
      ],
      "text/plain": [
       "<IPython.core.display.Javascript object>"
      ]
     },
     "metadata": {},
     "output_type": "display_data"
    }
   ],
   "source": [
    "plt.imshow(img)\n",
    "plt.axis('off');"
   ]
  },
  {
   "cell_type": "code",
   "execution_count": 13,
   "metadata": {},
   "outputs": [
    {
     "data": {
      "text/plain": [
       "PIL.JpegImagePlugin.JpegImageFile"
      ]
     },
     "execution_count": 13,
     "metadata": {},
     "output_type": "execute_result"
    },
    {
     "data": {
      "application/javascript": [
       "\n",
       "            setTimeout(function() {\n",
       "                var nbb_cell_id = 13;\n",
       "                var nbb_unformatted_code = \"type(img)\";\n",
       "                var nbb_formatted_code = \"type(img)\";\n",
       "                var nbb_cells = Jupyter.notebook.get_cells();\n",
       "                for (var i = 0; i < nbb_cells.length; ++i) {\n",
       "                    if (nbb_cells[i].input_prompt_number == nbb_cell_id) {\n",
       "                        if (nbb_cells[i].get_text() == nbb_unformatted_code) {\n",
       "                             nbb_cells[i].set_text(nbb_formatted_code);\n",
       "                        }\n",
       "                        break;\n",
       "                    }\n",
       "                }\n",
       "            }, 500);\n",
       "            "
      ],
      "text/plain": [
       "<IPython.core.display.Javascript object>"
      ]
     },
     "metadata": {},
     "output_type": "display_data"
    }
   ],
   "source": [
    "type(img)"
   ]
  },
  {
   "cell_type": "code",
   "execution_count": 14,
   "metadata": {},
   "outputs": [
    {
     "data": {
      "text/plain": [
       "(213, 160, 3)"
      ]
     },
     "execution_count": 14,
     "metadata": {},
     "output_type": "execute_result"
    },
    {
     "data": {
      "application/javascript": [
       "\n",
       "            setTimeout(function() {\n",
       "                var nbb_cell_id = 14;\n",
       "                var nbb_unformatted_code = \"import numpy\\nimga = numpy.array(img)\\nimga.shape\";\n",
       "                var nbb_formatted_code = \"import numpy\\n\\nimga = numpy.array(img)\\nimga.shape\";\n",
       "                var nbb_cells = Jupyter.notebook.get_cells();\n",
       "                for (var i = 0; i < nbb_cells.length; ++i) {\n",
       "                    if (nbb_cells[i].input_prompt_number == nbb_cell_id) {\n",
       "                        if (nbb_cells[i].get_text() == nbb_unformatted_code) {\n",
       "                             nbb_cells[i].set_text(nbb_formatted_code);\n",
       "                        }\n",
       "                        break;\n",
       "                    }\n",
       "                }\n",
       "            }, 500);\n",
       "            "
      ],
      "text/plain": [
       "<IPython.core.display.Javascript object>"
      ]
     },
     "metadata": {},
     "output_type": "display_data"
    }
   ],
   "source": [
    "import numpy\n",
    "imga = numpy.array(img)\n",
    "imga.shape"
   ]
  },
  {
   "cell_type": "code",
   "execution_count": 15,
   "metadata": {},
   "outputs": [
    {
     "data": {
      "text/plain": [
       "array([[168, 167, 165, 165, 165, 169, 176, 180, 173, 174],\n",
       "       [168, 168, 172, 176, 178, 178, 173, 170, 169, 172],\n",
       "       [177, 172, 167, 167, 173, 176, 178, 176, 177, 177],\n",
       "       [179, 176, 172, 169, 169, 173, 177, 181, 177, 176],\n",
       "       [153, 165, 178, 182, 178, 175, 174, 176, 178, 176],\n",
       "       [115, 130, 147, 154, 155, 160, 172, 184, 187, 187],\n",
       "       [ 96, 102, 108, 110, 113, 126, 148, 166, 166, 169],\n",
       "       [103, 105, 105, 100,  96,  98, 106, 114, 115, 126],\n",
       "       [111,  99,  87,  84,  91, 101, 108, 109, 105, 105],\n",
       "       [100,  95,  90,  91,  97, 101,  99,  96, 103, 105]], dtype=uint8)"
      ]
     },
     "execution_count": 15,
     "metadata": {},
     "output_type": "execute_result"
    },
    {
     "data": {
      "application/javascript": [
       "\n",
       "            setTimeout(function() {\n",
       "                var nbb_cell_id = 15;\n",
       "                var nbb_unformatted_code = \"imga[:10,:10,0]\";\n",
       "                var nbb_formatted_code = \"imga[:10, :10, 0]\";\n",
       "                var nbb_cells = Jupyter.notebook.get_cells();\n",
       "                for (var i = 0; i < nbb_cells.length; ++i) {\n",
       "                    if (nbb_cells[i].input_prompt_number == nbb_cell_id) {\n",
       "                        if (nbb_cells[i].get_text() == nbb_unformatted_code) {\n",
       "                             nbb_cells[i].set_text(nbb_formatted_code);\n",
       "                        }\n",
       "                        break;\n",
       "                    }\n",
       "                }\n",
       "            }, 500);\n",
       "            "
      ],
      "text/plain": [
       "<IPython.core.display.Javascript object>"
      ]
     },
     "metadata": {},
     "output_type": "display_data"
    }
   ],
   "source": [
    "imga[:10,:10,0]"
   ]
  },
  {
   "cell_type": "markdown",
   "metadata": {},
   "source": [
    "Just in case there are other files in the directory (models, texts...) we want to keep only the images. Let's not write it out by hand, but instead use what's already on our computer (the MIME types database). __MIME types__ are the media types which are two-part identifier for file formats and format contents transmitted on the Internet. "
   ]
  },
  {
   "cell_type": "code",
   "execution_count": 16,
   "metadata": {},
   "outputs": [
    {
     "data": {
      "text/plain": [
       "[('.js', 'application/javascript'),\n",
       " ('.mjs', 'application/javascript'),\n",
       " ('.json', 'application/json'),\n",
       " ('.webmanifest', 'application/manifest+json'),\n",
       " ('.doc', 'application/msword')]"
      ]
     },
     "execution_count": 16,
     "metadata": {},
     "output_type": "execute_result"
    },
    {
     "data": {
      "application/javascript": [
       "\n",
       "            setTimeout(function() {\n",
       "                var nbb_cell_id = 16;\n",
       "                var nbb_unformatted_code = \"list(mimetypes.types_map.items())[:5]\";\n",
       "                var nbb_formatted_code = \"list(mimetypes.types_map.items())[:5]\";\n",
       "                var nbb_cells = Jupyter.notebook.get_cells();\n",
       "                for (var i = 0; i < nbb_cells.length; ++i) {\n",
       "                    if (nbb_cells[i].input_prompt_number == nbb_cell_id) {\n",
       "                        if (nbb_cells[i].get_text() == nbb_unformatted_code) {\n",
       "                             nbb_cells[i].set_text(nbb_formatted_code);\n",
       "                        }\n",
       "                        break;\n",
       "                    }\n",
       "                }\n",
       "            }, 500);\n",
       "            "
      ],
      "text/plain": [
       "<IPython.core.display.Javascript object>"
      ]
     },
     "metadata": {},
     "output_type": "display_data"
    }
   ],
   "source": [
    "list(mimetypes.types_map.items())[:5]"
   ]
  },
  {
   "cell_type": "code",
   "execution_count": 17,
   "metadata": {},
   "outputs": [
    {
     "data": {
      "text/plain": [
       "['.js', '.mjs', '.json', '.webmanifest', '.doc']"
      ]
     },
     "execution_count": 17,
     "metadata": {},
     "output_type": "execute_result"
    },
    {
     "data": {
      "application/javascript": [
       "\n",
       "            setTimeout(function() {\n",
       "                var nbb_cell_id = 17;\n",
       "                var nbb_unformatted_code = \"list(mimetypes.types_map.keys())[:5]\";\n",
       "                var nbb_formatted_code = \"list(mimetypes.types_map.keys())[:5]\";\n",
       "                var nbb_cells = Jupyter.notebook.get_cells();\n",
       "                for (var i = 0; i < nbb_cells.length; ++i) {\n",
       "                    if (nbb_cells[i].input_prompt_number == nbb_cell_id) {\n",
       "                        if (nbb_cells[i].get_text() == nbb_unformatted_code) {\n",
       "                             nbb_cells[i].set_text(nbb_formatted_code);\n",
       "                        }\n",
       "                        break;\n",
       "                    }\n",
       "                }\n",
       "            }, 500);\n",
       "            "
      ],
      "text/plain": [
       "<IPython.core.display.Javascript object>"
      ]
     },
     "metadata": {},
     "output_type": "display_data"
    }
   ],
   "source": [
    "list(mimetypes.types_map.keys())[:5]"
   ]
  },
  {
   "cell_type": "code",
   "execution_count": 18,
   "metadata": {},
   "outputs": [
    {
     "data": {
      "application/javascript": [
       "\n",
       "            setTimeout(function() {\n",
       "                var nbb_cell_id = 18;\n",
       "                var nbb_unformatted_code = \"#export\\nimage_extensions = set(k for k, v in mimetypes.types_map.items()\\n                       if v.startswith('image/'))\";\n",
       "                var nbb_formatted_code = \"# export\\nimage_extensions = set(\\n    k for k, v in mimetypes.types_map.items() if v.startswith(\\\"image/\\\")\\n)\";\n",
       "                var nbb_cells = Jupyter.notebook.get_cells();\n",
       "                for (var i = 0; i < nbb_cells.length; ++i) {\n",
       "                    if (nbb_cells[i].input_prompt_number == nbb_cell_id) {\n",
       "                        if (nbb_cells[i].get_text() == nbb_unformatted_code) {\n",
       "                             nbb_cells[i].set_text(nbb_formatted_code);\n",
       "                        }\n",
       "                        break;\n",
       "                    }\n",
       "                }\n",
       "            }, 500);\n",
       "            "
      ],
      "text/plain": [
       "<IPython.core.display.Javascript object>"
      ]
     },
     "metadata": {},
     "output_type": "display_data"
    }
   ],
   "source": [
    "#export\n",
    "image_extensions = set(k for k, v in mimetypes.types_map.items()\n",
    "                       if v.startswith('image/'))"
   ]
  },
  {
   "cell_type": "code",
   "execution_count": 19,
   "metadata": {},
   "outputs": [
    {
     "data": {
      "text/plain": [
       "'.mmr .pcx .svgz .wbmp .uvvi .uvi .fpx .webp .ief .mac .ico .fh .pntg .fst .rgb .pnt .dxf .btif .3ds .sgi .xif .jpg .xwd .cmx .npx .fh7 .jpe .pic .psd .pnm .g3 .ras .uvvg .xpm .ktx .tga .pict .fhc .jp2 .mdi .fh4 .tiff .sid .tif .qtif .png .jpeg .djv .rlc .pct .uvg .wdp .bmp .svg .dwg .pgm .pbm .fh5 .qti .djvu .cgm .fbs .gif .xbm .ppm'"
      ]
     },
     "execution_count": 19,
     "metadata": {},
     "output_type": "execute_result"
    },
    {
     "data": {
      "application/javascript": [
       "\n",
       "            setTimeout(function() {\n",
       "                var nbb_cell_id = 19;\n",
       "                var nbb_unformatted_code = \"' '.join(image_extensions)\";\n",
       "                var nbb_formatted_code = \"\\\" \\\".join(image_extensions)\";\n",
       "                var nbb_cells = Jupyter.notebook.get_cells();\n",
       "                for (var i = 0; i < nbb_cells.length; ++i) {\n",
       "                    if (nbb_cells[i].input_prompt_number == nbb_cell_id) {\n",
       "                        if (nbb_cells[i].get_text() == nbb_unformatted_code) {\n",
       "                             nbb_cells[i].set_text(nbb_formatted_code);\n",
       "                        }\n",
       "                        break;\n",
       "                    }\n",
       "                }\n",
       "            }, 500);\n",
       "            "
      ],
      "text/plain": [
       "<IPython.core.display.Javascript object>"
      ]
     },
     "metadata": {},
     "output_type": "display_data"
    }
   ],
   "source": [
    "' '.join(image_extensions)"
   ]
  },
  {
   "cell_type": "markdown",
   "metadata": {},
   "source": [
    "`set` is faster than list when checking if the an element is in the collection."
   ]
  },
  {
   "cell_type": "code",
   "execution_count": 20,
   "metadata": {},
   "outputs": [
    {
     "data": {
      "application/javascript": [
       "\n",
       "            setTimeout(function() {\n",
       "                var nbb_cell_id = 20;\n",
       "                var nbb_unformatted_code = \"#export\\ndef setify(o):\\n    return o if isinstance(o, set) else set(listify(o))\";\n",
       "                var nbb_formatted_code = \"# export\\ndef setify(o):\\n    return o if isinstance(o, set) else set(listify(o))\";\n",
       "                var nbb_cells = Jupyter.notebook.get_cells();\n",
       "                for (var i = 0; i < nbb_cells.length; ++i) {\n",
       "                    if (nbb_cells[i].input_prompt_number == nbb_cell_id) {\n",
       "                        if (nbb_cells[i].get_text() == nbb_unformatted_code) {\n",
       "                             nbb_cells[i].set_text(nbb_formatted_code);\n",
       "                        }\n",
       "                        break;\n",
       "                    }\n",
       "                }\n",
       "            }, 500);\n",
       "            "
      ],
      "text/plain": [
       "<IPython.core.display.Javascript object>"
      ]
     },
     "metadata": {},
     "output_type": "display_data"
    }
   ],
   "source": [
    "#export\n",
    "def setify(o):\n",
    "    return o if isinstance(o, set) else set(listify(o))"
   ]
  },
  {
   "cell_type": "code",
   "execution_count": 21,
   "metadata": {},
   "outputs": [
    {
     "data": {
      "application/javascript": [
       "\n",
       "            setTimeout(function() {\n",
       "                var nbb_cell_id = 21;\n",
       "                var nbb_unformatted_code = \"test_eq(setify('aa'), {'aa'})\\ntest_eq(setify(['aa', 1]), {'aa', 1})\\ntest_eq(setify(None), set())\\ntest_eq(setify(1), {1})\\ntest_eq(setify({1}), {1})\";\n",
       "                var nbb_formatted_code = \"test_eq(setify(\\\"aa\\\"), {\\\"aa\\\"})\\ntest_eq(setify([\\\"aa\\\", 1]), {\\\"aa\\\", 1})\\ntest_eq(setify(None), set())\\ntest_eq(setify(1), {1})\\ntest_eq(setify({1}), {1})\";\n",
       "                var nbb_cells = Jupyter.notebook.get_cells();\n",
       "                for (var i = 0; i < nbb_cells.length; ++i) {\n",
       "                    if (nbb_cells[i].input_prompt_number == nbb_cell_id) {\n",
       "                        if (nbb_cells[i].get_text() == nbb_unformatted_code) {\n",
       "                             nbb_cells[i].set_text(nbb_formatted_code);\n",
       "                        }\n",
       "                        break;\n",
       "                    }\n",
       "                }\n",
       "            }, 500);\n",
       "            "
      ],
      "text/plain": [
       "<IPython.core.display.Javascript object>"
      ]
     },
     "metadata": {},
     "output_type": "display_data"
    }
   ],
   "source": [
    "test_eq(setify('aa'), {'aa'})\n",
    "test_eq(setify(['aa', 1]), {'aa', 1})\n",
    "test_eq(setify(None), set())\n",
    "test_eq(setify(1), {1})\n",
    "test_eq(setify({1}), {1})"
   ]
  },
  {
   "cell_type": "markdown",
   "metadata": {},
   "source": [
    "Now let's walk through the directories and grab all the images. The first private function grabs all the images inside a given directory and the second one walks (potentially recursively) through all the folder in `path`."
   ]
  },
  {
   "cell_type": "code",
   "execution_count": 22,
   "metadata": {},
   "outputs": [
    {
     "data": {
      "application/javascript": [
       "\n",
       "            setTimeout(function() {\n",
       "                var nbb_cell_id = 22;\n",
       "                var nbb_unformatted_code = \"#export\\ndef _get_files(p, fs, extensions=None):\\n    \\\"\\\"\\\"Get filenames in `path` that have extension `extensions`.\\\"\\\"\\\"\\n    p = Path(p)\\n    res = [\\n        p / f for f in fs if not f.startswith('.') and (\\n            (not extensions) or f'.{f.split(\\\".\\\")[-1].lower()}' in extensions)\\n    ]\\n    return res\";\n",
       "                var nbb_formatted_code = \"# export\\ndef _get_files(p, fs, extensions=None):\\n    \\\"\\\"\\\"Get filenames in `path` that have extension `extensions`.\\\"\\\"\\\"\\n    p = Path(p)\\n    res = [\\n        p / f\\n        for f in fs\\n        if not f.startswith(\\\".\\\")\\n        and ((not extensions) or f'.{f.split(\\\".\\\")[-1].lower()}' in extensions)\\n    ]\\n    return res\";\n",
       "                var nbb_cells = Jupyter.notebook.get_cells();\n",
       "                for (var i = 0; i < nbb_cells.length; ++i) {\n",
       "                    if (nbb_cells[i].input_prompt_number == nbb_cell_id) {\n",
       "                        if (nbb_cells[i].get_text() == nbb_unformatted_code) {\n",
       "                             nbb_cells[i].set_text(nbb_formatted_code);\n",
       "                        }\n",
       "                        break;\n",
       "                    }\n",
       "                }\n",
       "            }, 500);\n",
       "            "
      ],
      "text/plain": [
       "<IPython.core.display.Javascript object>"
      ]
     },
     "metadata": {},
     "output_type": "display_data"
    }
   ],
   "source": [
    "#export\n",
    "def _get_files(p, fs, extensions=None):\n",
    "    \"\"\"Get filenames in `path` that have extension `extensions`.\"\"\"\n",
    "    p = Path(p)\n",
    "    res = [\n",
    "        p / f for f in fs if not f.startswith('.') and (\n",
    "            (not extensions) or f'.{f.split(\".\")[-1].lower()}' in extensions)\n",
    "    ]\n",
    "    return res"
   ]
  },
  {
   "cell_type": "code",
   "execution_count": 23,
   "metadata": {},
   "outputs": [
    {
     "data": {
      "text/plain": [
       "[Path('/Users/imad/.fastai/data/imagenette2-160/n01440764_32420.JPEG'),\n",
       " Path('/Users/imad/.fastai/data/imagenette2-160/n01440764_4562.JPEG'),\n",
       " Path('/Users/imad/.fastai/data/imagenette2-160/n01440764_910.JPEG')]"
      ]
     },
     "execution_count": 23,
     "metadata": {},
     "output_type": "execute_result"
    },
    {
     "data": {
      "application/javascript": [
       "\n",
       "            setTimeout(function() {\n",
       "                var nbb_cell_id = 23;\n",
       "                var nbb_unformatted_code = \"# Returns all the file names in a path directory\\nt = [o.name for o in os.scandir(path_tench)]\\n\\n# Get filenames of images only\\nt = _get_files(path, t, extensions=image_extensions)\\nt[:3]\";\n",
       "                var nbb_formatted_code = \"# Returns all the file names in a path directory\\nt = [o.name for o in os.scandir(path_tench)]\\n\\n# Get filenames of images only\\nt = _get_files(path, t, extensions=image_extensions)\\nt[:3]\";\n",
       "                var nbb_cells = Jupyter.notebook.get_cells();\n",
       "                for (var i = 0; i < nbb_cells.length; ++i) {\n",
       "                    if (nbb_cells[i].input_prompt_number == nbb_cell_id) {\n",
       "                        if (nbb_cells[i].get_text() == nbb_unformatted_code) {\n",
       "                             nbb_cells[i].set_text(nbb_formatted_code);\n",
       "                        }\n",
       "                        break;\n",
       "                    }\n",
       "                }\n",
       "            }, 500);\n",
       "            "
      ],
      "text/plain": [
       "<IPython.core.display.Javascript object>"
      ]
     },
     "metadata": {},
     "output_type": "display_data"
    }
   ],
   "source": [
    "# Returns all the file names in a path directory\n",
    "t = [o.name for o in os.scandir(path_tench)]\n",
    "\n",
    "# Get filenames of images only\n",
    "t = _get_files(path, t, extensions=image_extensions)\n",
    "t[:3]"
   ]
  },
  {
   "cell_type": "code",
   "execution_count": 24,
   "metadata": {},
   "outputs": [
    {
     "data": {
      "text/plain": [
       "Path('/Users/imad/.fastai/data/imagenette2-160/val/n01440764')"
      ]
     },
     "execution_count": 24,
     "metadata": {},
     "output_type": "execute_result"
    },
    {
     "data": {
      "application/javascript": [
       "\n",
       "            setTimeout(function() {\n",
       "                var nbb_cell_id = 24;\n",
       "                var nbb_unformatted_code = \"path_tench\";\n",
       "                var nbb_formatted_code = \"path_tench\";\n",
       "                var nbb_cells = Jupyter.notebook.get_cells();\n",
       "                for (var i = 0; i < nbb_cells.length; ++i) {\n",
       "                    if (nbb_cells[i].input_prompt_number == nbb_cell_id) {\n",
       "                        if (nbb_cells[i].get_text() == nbb_unformatted_code) {\n",
       "                             nbb_cells[i].set_text(nbb_formatted_code);\n",
       "                        }\n",
       "                        break;\n",
       "                    }\n",
       "                }\n",
       "            }, 500);\n",
       "            "
      ],
      "text/plain": [
       "<IPython.core.display.Javascript object>"
      ]
     },
     "metadata": {},
     "output_type": "display_data"
    }
   ],
   "source": [
    "path_tench"
   ]
  },
  {
   "cell_type": "code",
   "execution_count": 25,
   "metadata": {},
   "outputs": [
    {
     "data": {
      "application/javascript": [
       "\n",
       "            setTimeout(function() {\n",
       "                var nbb_cell_id = 25;\n",
       "                var nbb_unformatted_code = \"os.scandir??\";\n",
       "                var nbb_formatted_code = \"os.scandir??\";\n",
       "                var nbb_cells = Jupyter.notebook.get_cells();\n",
       "                for (var i = 0; i < nbb_cells.length; ++i) {\n",
       "                    if (nbb_cells[i].input_prompt_number == nbb_cell_id) {\n",
       "                        if (nbb_cells[i].get_text() == nbb_unformatted_code) {\n",
       "                             nbb_cells[i].set_text(nbb_formatted_code);\n",
       "                        }\n",
       "                        break;\n",
       "                    }\n",
       "                }\n",
       "            }, 500);\n",
       "            "
      ],
      "text/plain": [
       "<IPython.core.display.Javascript object>"
      ]
     },
     "metadata": {},
     "output_type": "display_data"
    },
    {
     "data": {
      "text/plain": [
       "\u001b[0;31mSignature:\u001b[0m \u001b[0mos\u001b[0m\u001b[0;34m.\u001b[0m\u001b[0mscandir\u001b[0m\u001b[0;34m(\u001b[0m\u001b[0mpath\u001b[0m\u001b[0;34m=\u001b[0m\u001b[0;32mNone\u001b[0m\u001b[0;34m)\u001b[0m\u001b[0;34m\u001b[0m\u001b[0;34m\u001b[0m\u001b[0m\n",
       "\u001b[0;31mDocstring:\u001b[0m\n",
       "Return an iterator of DirEntry objects for given path.\n",
       "\n",
       "path can be specified as either str, bytes, or a path-like object.  If path\n",
       "is bytes, the names of yielded DirEntry objects will also be bytes; in\n",
       "all other circumstances they will be str.\n",
       "\n",
       "If path is None, uses the path='.'.\n",
       "\u001b[0;31mType:\u001b[0m      builtin_function_or_method\n"
      ]
     },
     "metadata": {},
     "output_type": "display_data"
    }
   ],
   "source": [
    "os.scandir??"
   ]
  },
  {
   "cell_type": "code",
   "execution_count": 26,
   "metadata": {},
   "outputs": [
    {
     "data": {
      "text/plain": [
       "['inode', 'is_dir', 'is_file', 'is_symlink', 'name', 'path', 'stat']"
      ]
     },
     "execution_count": 26,
     "metadata": {},
     "output_type": "execute_result"
    },
    {
     "data": {
      "application/javascript": [
       "\n",
       "            setTimeout(function() {\n",
       "                var nbb_cell_id = 26;\n",
       "                var nbb_unformatted_code = \"[attr for attr in dir(list(os.scandir(path_tench))[0]) if not attr.startswith(\\\"__\\\")]\";\n",
       "                var nbb_formatted_code = \"[attr for attr in dir(list(os.scandir(path_tench))[0]) if not attr.startswith(\\\"__\\\")]\";\n",
       "                var nbb_cells = Jupyter.notebook.get_cells();\n",
       "                for (var i = 0; i < nbb_cells.length; ++i) {\n",
       "                    if (nbb_cells[i].input_prompt_number == nbb_cell_id) {\n",
       "                        if (nbb_cells[i].get_text() == nbb_unformatted_code) {\n",
       "                             nbb_cells[i].set_text(nbb_formatted_code);\n",
       "                        }\n",
       "                        break;\n",
       "                    }\n",
       "                }\n",
       "            }, 500);\n",
       "            "
      ],
      "text/plain": [
       "<IPython.core.display.Javascript object>"
      ]
     },
     "metadata": {},
     "output_type": "display_data"
    }
   ],
   "source": [
    "[attr for attr in dir(list(os.scandir(path_tench))[0]) if not attr.startswith(\"__\")]"
   ]
  },
  {
   "cell_type": "code",
   "execution_count": 27,
   "metadata": {},
   "outputs": [
    {
     "data": {
      "text/plain": [
       "[<DirEntry '01_Matrix-Multiplication.ipynb'>,\n",
       " <DirEntry '11_train_imagenette.ipynb'>,\n",
       " <DirEntry 'transforms-dali.ipynb'>,\n",
       " <DirEntry '04_Callbacks-Imad.ipynb'>,\n",
       " <DirEntry 'audio.ipynb'>]"
      ]
     },
     "execution_count": 27,
     "metadata": {},
     "output_type": "execute_result"
    },
    {
     "data": {
      "application/javascript": [
       "\n",
       "            setTimeout(function() {\n",
       "                var nbb_cell_id = 27;\n",
       "                var nbb_unformatted_code = \"list(os.scandir('.'))[:5]\";\n",
       "                var nbb_formatted_code = \"list(os.scandir(\\\".\\\"))[:5]\";\n",
       "                var nbb_cells = Jupyter.notebook.get_cells();\n",
       "                for (var i = 0; i < nbb_cells.length; ++i) {\n",
       "                    if (nbb_cells[i].input_prompt_number == nbb_cell_id) {\n",
       "                        if (nbb_cells[i].get_text() == nbb_unformatted_code) {\n",
       "                             nbb_cells[i].set_text(nbb_formatted_code);\n",
       "                        }\n",
       "                        break;\n",
       "                    }\n",
       "                }\n",
       "            }, 500);\n",
       "            "
      ],
      "text/plain": [
       "<IPython.core.display.Javascript object>"
      ]
     },
     "metadata": {},
     "output_type": "display_data"
    }
   ],
   "source": [
    "list(os.scandir('.'))[:5]"
   ]
  },
  {
   "cell_type": "code",
   "execution_count": 28,
   "metadata": {},
   "outputs": [
    {
     "data": {
      "text/plain": [
       "[Path('../resources/kaiming_init_derivation.png'),\n",
       " Path('../resources/xavier_init_derivation.png'),\n",
       " Path('../notebooks/images/seq2seq.png'),\n",
       " Path('../notebooks/images/attention.png'),\n",
       " Path('../notebooks/images/Transformer.png'),\n",
       " Path('../notebooks/images/overfit.png'),\n",
       " Path('../notebooks/images/retinanet.png'),\n",
       " Path('../notebooks/images/half_representation.png'),\n",
       " Path('../notebooks/images/half.png'),\n",
       " Path('../notebooks/images/beta.png'),\n",
       " Path('../notebooks/images/norms.png')]"
      ]
     },
     "execution_count": 28,
     "metadata": {},
     "output_type": "execute_result"
    },
    {
     "data": {
      "application/javascript": [
       "\n",
       "            setTimeout(function() {\n",
       "                var nbb_cell_id = 28;\n",
       "                var nbb_unformatted_code = \"list(Path('../').rglob(\\\"*.png\\\"))\";\n",
       "                var nbb_formatted_code = \"list(Path(\\\"../\\\").rglob(\\\"*.png\\\"))\";\n",
       "                var nbb_cells = Jupyter.notebook.get_cells();\n",
       "                for (var i = 0; i < nbb_cells.length; ++i) {\n",
       "                    if (nbb_cells[i].input_prompt_number == nbb_cell_id) {\n",
       "                        if (nbb_cells[i].get_text() == nbb_unformatted_code) {\n",
       "                             nbb_cells[i].set_text(nbb_formatted_code);\n",
       "                        }\n",
       "                        break;\n",
       "                    }\n",
       "                }\n",
       "            }, 500);\n",
       "            "
      ],
      "text/plain": [
       "<IPython.core.display.Javascript object>"
      ]
     },
     "metadata": {},
     "output_type": "display_data"
    }
   ],
   "source": [
    "list(Path('../').rglob(\"*.png\"))"
   ]
  },
  {
   "cell_type": "code",
   "execution_count": 29,
   "metadata": {},
   "outputs": [
    {
     "name": "stdout",
     "output_type": "stream",
     "text": [
      "2.64 s ± 39.1 ms per loop (mean ± std. dev. of 7 runs, 1 loop each)\n"
     ]
    },
    {
     "data": {
      "application/javascript": [
       "\n",
       "            setTimeout(function() {\n",
       "                var nbb_cell_id = 29;\n",
       "                var nbb_unformatted_code = \"%timeit [list(path_tench.parent.parent.rglob(f\\\"*{ext.upper()}\\\")) for ext in image_extensions]\";\n",
       "                var nbb_formatted_code = \"%timeit [list(path_tench.parent.parent.rglob(f\\\"*{ext.upper()}\\\")) for ext in image_extensions]\";\n",
       "                var nbb_cells = Jupyter.notebook.get_cells();\n",
       "                for (var i = 0; i < nbb_cells.length; ++i) {\n",
       "                    if (nbb_cells[i].input_prompt_number == nbb_cell_id) {\n",
       "                        if (nbb_cells[i].get_text() == nbb_unformatted_code) {\n",
       "                             nbb_cells[i].set_text(nbb_formatted_code);\n",
       "                        }\n",
       "                        break;\n",
       "                    }\n",
       "                }\n",
       "            }, 500);\n",
       "            "
      ],
      "text/plain": [
       "<IPython.core.display.Javascript object>"
      ]
     },
     "metadata": {},
     "output_type": "display_data"
    }
   ],
   "source": [
    "%timeit [list(path_tench.parent.parent.rglob(f\"*{ext.upper()}\")) for ext in image_extensions]"
   ]
  },
  {
   "cell_type": "code",
   "execution_count": 30,
   "metadata": {},
   "outputs": [
    {
     "data": {
      "application/javascript": [
       "\n",
       "            setTimeout(function() {\n",
       "                var nbb_cell_id = 30;\n",
       "                var nbb_unformatted_code = \"os.walk?\";\n",
       "                var nbb_formatted_code = \"os.walk?\";\n",
       "                var nbb_cells = Jupyter.notebook.get_cells();\n",
       "                for (var i = 0; i < nbb_cells.length; ++i) {\n",
       "                    if (nbb_cells[i].input_prompt_number == nbb_cell_id) {\n",
       "                        if (nbb_cells[i].get_text() == nbb_unformatted_code) {\n",
       "                             nbb_cells[i].set_text(nbb_formatted_code);\n",
       "                        }\n",
       "                        break;\n",
       "                    }\n",
       "                }\n",
       "            }, 500);\n",
       "            "
      ],
      "text/plain": [
       "<IPython.core.display.Javascript object>"
      ]
     },
     "metadata": {},
     "output_type": "display_data"
    },
    {
     "data": {
      "text/plain": [
       "\u001b[0;31mSignature:\u001b[0m \u001b[0mos\u001b[0m\u001b[0;34m.\u001b[0m\u001b[0mwalk\u001b[0m\u001b[0;34m(\u001b[0m\u001b[0mtop\u001b[0m\u001b[0;34m,\u001b[0m \u001b[0mtopdown\u001b[0m\u001b[0;34m=\u001b[0m\u001b[0;32mTrue\u001b[0m\u001b[0;34m,\u001b[0m \u001b[0monerror\u001b[0m\u001b[0;34m=\u001b[0m\u001b[0;32mNone\u001b[0m\u001b[0;34m,\u001b[0m \u001b[0mfollowlinks\u001b[0m\u001b[0;34m=\u001b[0m\u001b[0;32mFalse\u001b[0m\u001b[0;34m)\u001b[0m\u001b[0;34m\u001b[0m\u001b[0;34m\u001b[0m\u001b[0m\n",
       "\u001b[0;31mDocstring:\u001b[0m\n",
       "Directory tree generator.\n",
       "\n",
       "For each directory in the directory tree rooted at top (including top\n",
       "itself, but excluding '.' and '..'), yields a 3-tuple\n",
       "\n",
       "    dirpath, dirnames, filenames\n",
       "\n",
       "dirpath is a string, the path to the directory.  dirnames is a list of\n",
       "the names of the subdirectories in dirpath (excluding '.' and '..').\n",
       "filenames is a list of the names of the non-directory files in dirpath.\n",
       "Note that the names in the lists are just names, with no path components.\n",
       "To get a full path (which begins with top) to a file or directory in\n",
       "dirpath, do os.path.join(dirpath, name).\n",
       "\n",
       "If optional arg 'topdown' is true or not specified, the triple for a\n",
       "directory is generated before the triples for any of its subdirectories\n",
       "(directories are generated top down).  If topdown is false, the triple\n",
       "for a directory is generated after the triples for all of its\n",
       "subdirectories (directories are generated bottom up).\n",
       "\n",
       "When topdown is true, the caller can modify the dirnames list in-place\n",
       "(e.g., via del or slice assignment), and walk will only recurse into the\n",
       "subdirectories whose names remain in dirnames; this can be used to prune the\n",
       "search, or to impose a specific order of visiting.  Modifying dirnames when\n",
       "topdown is false has no effect on the behavior of os.walk(), since the\n",
       "directories in dirnames have already been generated by the time dirnames\n",
       "itself is generated. No matter the value of topdown, the list of\n",
       "subdirectories is retrieved before the tuples for the directory and its\n",
       "subdirectories are generated.\n",
       "\n",
       "By default errors from the os.scandir() call are ignored.  If\n",
       "optional arg 'onerror' is specified, it should be a function; it\n",
       "will be called with one argument, an OSError instance.  It can\n",
       "report the error to continue with the walk, or raise the exception\n",
       "to abort the walk.  Note that the filename is available as the\n",
       "filename attribute of the exception object.\n",
       "\n",
       "By default, os.walk does not follow symbolic links to subdirectories on\n",
       "systems that support them.  In order to get this functionality, set the\n",
       "optional argument 'followlinks' to true.\n",
       "\n",
       "Caution:  if you pass a relative pathname for top, don't change the\n",
       "current working directory between resumptions of walk.  walk never\n",
       "changes the current directory, and assumes that the client doesn't\n",
       "either.\n",
       "\n",
       "Example:\n",
       "\n",
       "import os\n",
       "from os.path import join, getsize\n",
       "for root, dirs, files in os.walk('python/Lib/email'):\n",
       "    print(root, \"consumes\", end=\"\")\n",
       "    print(sum(getsize(join(root, name)) for name in files), end=\"\")\n",
       "    print(\"bytes in\", len(files), \"non-directory files\")\n",
       "    if 'CVS' in dirs:\n",
       "        dirs.remove('CVS')  # don't visit CVS directories\n",
       "\u001b[0;31mFile:\u001b[0m      ~/anaconda3/envs/fastbook/lib/python3.9/os.py\n",
       "\u001b[0;31mType:\u001b[0m      function\n"
      ]
     },
     "metadata": {},
     "output_type": "display_data"
    }
   ],
   "source": [
    "os.walk?"
   ]
  },
  {
   "cell_type": "code",
   "execution_count": 31,
   "metadata": {},
   "outputs": [
    {
     "data": {
      "text/plain": [
       "[('/Users/imad/Desktop',\n",
       "  ['mama'],\n",
       "  ['.DS_Store',\n",
       "   '.swp',\n",
       "   'TxDMV - Vehicle Registration Renewal.pdf',\n",
       "   'computer-architecture-quantitative-approach (dragged) 4.pdf',\n",
       "   'computer-architecture-quantitative-approach (dragged) 3.pdf',\n",
       "   'computer-architecture-quantitative-approach (dragged) 2.pdf']),\n",
       " ('/Users/imad/Desktop/mama',\n",
       "  [],\n",
       "  ['image0.jpeg',\n",
       "   'image1.jpeg',\n",
       "   'certificate.JPG',\n",
       "   'narrative.jpg',\n",
       "   'image2.jpeg'])]"
      ]
     },
     "execution_count": 31,
     "metadata": {},
     "output_type": "execute_result"
    },
    {
     "data": {
      "application/javascript": [
       "\n",
       "            setTimeout(function() {\n",
       "                var nbb_cell_id = 31;\n",
       "                var nbb_unformatted_code = \"list(os.walk(Path(\\\"/Users/imad/Desktop/\\\")))\";\n",
       "                var nbb_formatted_code = \"list(os.walk(Path(\\\"/Users/imad/Desktop/\\\")))\";\n",
       "                var nbb_cells = Jupyter.notebook.get_cells();\n",
       "                for (var i = 0; i < nbb_cells.length; ++i) {\n",
       "                    if (nbb_cells[i].input_prompt_number == nbb_cell_id) {\n",
       "                        if (nbb_cells[i].get_text() == nbb_unformatted_code) {\n",
       "                             nbb_cells[i].set_text(nbb_formatted_code);\n",
       "                        }\n",
       "                        break;\n",
       "                    }\n",
       "                }\n",
       "            }, 500);\n",
       "            "
      ],
      "text/plain": [
       "<IPython.core.display.Javascript object>"
      ]
     },
     "metadata": {},
     "output_type": "display_data"
    }
   ],
   "source": [
    "list(os.walk(Path(\"/Users/imad/Desktop/\")))"
   ]
  },
  {
   "cell_type": "code",
   "execution_count": 32,
   "metadata": {},
   "outputs": [
    {
     "data": {
      "application/javascript": [
       "\n",
       "            setTimeout(function() {\n",
       "                var nbb_cell_id = 32;\n",
       "                var nbb_unformatted_code = \"#export\\ndef get_files(path, extensions=None, recurse=False, include=None):\\n    path = Path(path)\\n    extensions = setify(extensions)\\n    extensions = {e.lower() for e in extensions}\\n    if recurse:\\n        res = []\\n        for i, (p, d, f) in enumerate(os.walk(path)): # returns (dirpath, dirnames, filenames)\\n            res += _get_files(p, f, extensions)\\n        return res\\n    else:\\n        f = [o.name for o in os.scandir(path) if o.is_file()]\\n        return _get_files(path, f, extensions)\";\n",
       "                var nbb_formatted_code = \"# export\\ndef get_files(path, extensions=None, recurse=False, include=None):\\n    path = Path(path)\\n    extensions = setify(extensions)\\n    extensions = {e.lower() for e in extensions}\\n    if recurse:\\n        res = []\\n        for i, (p, d, f) in enumerate(\\n            os.walk(path)\\n        ):  # returns (dirpath, dirnames, filenames)\\n            res += _get_files(p, f, extensions)\\n        return res\\n    else:\\n        f = [o.name for o in os.scandir(path) if o.is_file()]\\n        return _get_files(path, f, extensions)\";\n",
       "                var nbb_cells = Jupyter.notebook.get_cells();\n",
       "                for (var i = 0; i < nbb_cells.length; ++i) {\n",
       "                    if (nbb_cells[i].input_prompt_number == nbb_cell_id) {\n",
       "                        if (nbb_cells[i].get_text() == nbb_unformatted_code) {\n",
       "                             nbb_cells[i].set_text(nbb_formatted_code);\n",
       "                        }\n",
       "                        break;\n",
       "                    }\n",
       "                }\n",
       "            }, 500);\n",
       "            "
      ],
      "text/plain": [
       "<IPython.core.display.Javascript object>"
      ]
     },
     "metadata": {},
     "output_type": "display_data"
    }
   ],
   "source": [
    "#export\n",
    "def get_files(path, extensions=None, recurse=False, include=None):\n",
    "    path = Path(path)\n",
    "    extensions = setify(extensions)\n",
    "    extensions = {e.lower() for e in extensions}\n",
    "    if recurse:\n",
    "        res = []\n",
    "        for i, (p, d, f) in enumerate(os.walk(path)): # returns (dirpath, dirnames, filenames)\n",
    "            res += _get_files(p, f, extensions)\n",
    "        return res\n",
    "    else:\n",
    "        f = [o.name for o in os.scandir(path) if o.is_file()]\n",
    "        return _get_files(path, f, extensions)"
   ]
  },
  {
   "cell_type": "markdown",
   "metadata": {},
   "source": [
    "We need the recurse argument when we start from `path` since the pictures are two level below in directories."
   ]
  },
  {
   "cell_type": "code",
   "execution_count": 33,
   "metadata": {},
   "outputs": [
    {
     "data": {
      "text/plain": [
       "[Path('/Users/imad/.fastai/data/imagenette2-160/train/n03394916/ILSVRC2012_val_00046669.JPEG'),\n",
       " Path('/Users/imad/.fastai/data/imagenette2-160/train/n03394916/n03394916_58454.JPEG'),\n",
       " Path('/Users/imad/.fastai/data/imagenette2-160/train/n03394916/n03394916_32588.JPEG')]"
      ]
     },
     "execution_count": 33,
     "metadata": {},
     "output_type": "execute_result"
    },
    {
     "data": {
      "application/javascript": [
       "\n",
       "            setTimeout(function() {\n",
       "                var nbb_cell_id = 33;\n",
       "                var nbb_unformatted_code = \"get_files(path, image_extensions, recurse=True)[:3]\";\n",
       "                var nbb_formatted_code = \"get_files(path, image_extensions, recurse=True)[:3]\";\n",
       "                var nbb_cells = Jupyter.notebook.get_cells();\n",
       "                for (var i = 0; i < nbb_cells.length; ++i) {\n",
       "                    if (nbb_cells[i].input_prompt_number == nbb_cell_id) {\n",
       "                        if (nbb_cells[i].get_text() == nbb_unformatted_code) {\n",
       "                             nbb_cells[i].set_text(nbb_formatted_code);\n",
       "                        }\n",
       "                        break;\n",
       "                    }\n",
       "                }\n",
       "            }, 500);\n",
       "            "
      ],
      "text/plain": [
       "<IPython.core.display.Javascript object>"
      ]
     },
     "metadata": {},
     "output_type": "display_data"
    }
   ],
   "source": [
    "get_files(path, image_extensions, recurse=True)[:3]"
   ]
  },
  {
   "cell_type": "code",
   "execution_count": 34,
   "metadata": {},
   "outputs": [
    {
     "data": {
      "text/plain": [
       "13394"
      ]
     },
     "execution_count": 34,
     "metadata": {},
     "output_type": "execute_result"
    },
    {
     "data": {
      "application/javascript": [
       "\n",
       "            setTimeout(function() {\n",
       "                var nbb_cell_id = 34;\n",
       "                var nbb_unformatted_code = \"all_fns = get_files(path, image_extensions, recurse=True)\\nlen(all_fns)\";\n",
       "                var nbb_formatted_code = \"all_fns = get_files(path, image_extensions, recurse=True)\\nlen(all_fns)\";\n",
       "                var nbb_cells = Jupyter.notebook.get_cells();\n",
       "                for (var i = 0; i < nbb_cells.length; ++i) {\n",
       "                    if (nbb_cells[i].input_prompt_number == nbb_cell_id) {\n",
       "                        if (nbb_cells[i].get_text() == nbb_unformatted_code) {\n",
       "                             nbb_cells[i].set_text(nbb_formatted_code);\n",
       "                        }\n",
       "                        break;\n",
       "                    }\n",
       "                }\n",
       "            }, 500);\n",
       "            "
      ],
      "text/plain": [
       "<IPython.core.display.Javascript object>"
      ]
     },
     "metadata": {},
     "output_type": "display_data"
    }
   ],
   "source": [
    "all_fns = get_files(path, image_extensions, recurse=True)\n",
    "len(all_fns)"
   ]
  },
  {
   "cell_type": "markdown",
   "metadata": {},
   "source": [
    "Imagenet is 100 times bigger than imagenette, so we need this to be fast."
   ]
  },
  {
   "cell_type": "code",
   "execution_count": 35,
   "metadata": {},
   "outputs": [
    {
     "name": "stdout",
     "output_type": "stream",
     "text": [
      "69.4 ms ± 2.24 ms per loop (mean ± std. dev. of 7 runs, 10 loops each)\n"
     ]
    },
    {
     "data": {
      "application/javascript": [
       "\n",
       "            setTimeout(function() {\n",
       "                var nbb_cell_id = 35;\n",
       "                var nbb_unformatted_code = \"%timeit -n 10 get_files(path, image_extensions, recurse=True)\";\n",
       "                var nbb_formatted_code = \"%timeit -n 10 get_files(path, image_extensions, recurse=True)\";\n",
       "                var nbb_cells = Jupyter.notebook.get_cells();\n",
       "                for (var i = 0; i < nbb_cells.length; ++i) {\n",
       "                    if (nbb_cells[i].input_prompt_number == nbb_cell_id) {\n",
       "                        if (nbb_cells[i].get_text() == nbb_unformatted_code) {\n",
       "                             nbb_cells[i].set_text(nbb_formatted_code);\n",
       "                        }\n",
       "                        break;\n",
       "                    }\n",
       "                }\n",
       "            }, 500);\n",
       "            "
      ],
      "text/plain": [
       "<IPython.core.display.Javascript object>"
      ]
     },
     "metadata": {},
     "output_type": "display_data"
    }
   ],
   "source": [
    "%timeit -n 10 get_files(path, image_extensions, recurse=True)"
   ]
  },
  {
   "cell_type": "markdown",
   "metadata": {
    "heading_collapsed": "true"
   },
   "source": [
    "# Prepare for modeling"
   ]
  },
  {
   "cell_type": "markdown",
   "metadata": {
    "hidden": true
   },
   "source": [
    "What we need to do:\n",
    "\n",
    "- Get files\n",
    "- Split validation set\n",
    "  - random%, folder name, csv, ...\n",
    "- Label: \n",
    "  - folder name, file name/re, csv, ...\n",
    "- Transform per image (optional)\n",
    "- Transform to tensor\n",
    "- DataLoader\n",
    "- Transform per batch (optional)\n",
    "- DataBunch\n",
    "- Add test set (optional)"
   ]
  },
  {
   "cell_type": "markdown",
   "metadata": {
    "heading_collapsed": "true",
    "hidden": true
   },
   "source": [
    "### Get files"
   ]
  },
  {
   "cell_type": "markdown",
   "metadata": {
    "hidden": true
   },
   "source": [
    "We use the `ListContainer` class from notebook 06 to store our objects in an `ItemList`. The `get` method will need to be subclassed to explain how to access an element (open an image for instance), then the private `_get` method can allow us to apply any additional transform to it. Note that the list would only contain file names and not the actual data, i.e. we don't store data into memory unless we need it.\n",
    "\n",
    "An item in an ItemList would be any data point such as image, text, etc. When we ask for an item, a list of transforms are composed and applied to that item before returning it.\n",
    "\n",
    ">> \n",
    "__Note__: `compose` function: takes a list of functions and combines them into a pipeline that chains the outputs of the first function to input of the second and so on. NN can be seen as a composition of layers.\n",
    "\n",
    "`new` will be used in conjunction with `__getitem__` (that works for one index or a list of indices) to create training and validation set from a single stream when we split the data."
   ]
  },
  {
   "cell_type": "code",
   "execution_count": 36,
   "metadata": {
    "hidden": true
   },
   "outputs": [
    {
     "data": {
      "application/javascript": [
       "\n",
       "            setTimeout(function() {\n",
       "                var nbb_cell_id = 36;\n",
       "                var nbb_unformatted_code = \"#export\\ndef compose(x, funcs, *args, order_key='_order', **kwargs):\\n    key = lambda o: getattr(o, order_key, 0)\\n    for f in sorted(listify(funcs), key=key): \\n        x = f(x, **kwargs)\\n    return x\\n\\n\\nclass ItemList(ListContainer):\\n    def __init__(self, items, path='.', tfms=None):\\n        super().__init__(items)\\n        self.path = Path(path)\\n        self.tfms = tfms\\n\\n    def __repr__(self): \\n        return f'{super().__repr__()}\\\\nPath: {self.path}'\\n    \\n    def new(self, items, cls=None):\\n        if cls is None: \\n            cls = self.__class__\\n        return cls(items, self.path, tfms=self.tfms)\\n    \\n    def get(self, i): \\n        return i\\n    \\n    def _get(self, i): \\n        return compose(self.get(i), self.tfms)\\n    \\n    def __getitem__(self, idx):\\n        res = super().__getitem__(idx)\\n        if isinstance(res, list): \\n            return [self._get(o) for o in res]\\n        return self._get(res)\\n\\n    \\nclass ImageList(ItemList):\\n    @classmethod\\n    def from_files(cls, path, extensions=None, recurse=True, include=None, **kwargs):\\n        if extensions is None: \\n            extensions = image_extensions\\n        return cls(get_files(path, extensions, recurse=recurse, include=include), path, **kwargs)\\n    \\n    def get(self, fn): \\n        return PIL.Image.open(fn)\";\n",
       "                var nbb_formatted_code = \"# export\\ndef compose(x, funcs, *args, order_key=\\\"_order\\\", **kwargs):\\n    key = lambda o: getattr(o, order_key, 0)\\n    for f in sorted(listify(funcs), key=key):\\n        x = f(x, **kwargs)\\n    return x\\n\\n\\nclass ItemList(ListContainer):\\n    def __init__(self, items, path=\\\".\\\", tfms=None):\\n        super().__init__(items)\\n        self.path = Path(path)\\n        self.tfms = tfms\\n\\n    def __repr__(self):\\n        return f\\\"{super().__repr__()}\\\\nPath: {self.path}\\\"\\n\\n    def new(self, items, cls=None):\\n        if cls is None:\\n            cls = self.__class__\\n        return cls(items, self.path, tfms=self.tfms)\\n\\n    def get(self, i):\\n        return i\\n\\n    def _get(self, i):\\n        return compose(self.get(i), self.tfms)\\n\\n    def __getitem__(self, idx):\\n        res = super().__getitem__(idx)\\n        if isinstance(res, list):\\n            return [self._get(o) for o in res]\\n        return self._get(res)\\n\\n\\nclass ImageList(ItemList):\\n    @classmethod\\n    def from_files(cls, path, extensions=None, recurse=True, include=None, **kwargs):\\n        if extensions is None:\\n            extensions = image_extensions\\n        return cls(\\n            get_files(path, extensions, recurse=recurse, include=include),\\n            path,\\n            **kwargs,\\n        )\\n\\n    def get(self, fn):\\n        return PIL.Image.open(fn)\";\n",
       "                var nbb_cells = Jupyter.notebook.get_cells();\n",
       "                for (var i = 0; i < nbb_cells.length; ++i) {\n",
       "                    if (nbb_cells[i].input_prompt_number == nbb_cell_id) {\n",
       "                        if (nbb_cells[i].get_text() == nbb_unformatted_code) {\n",
       "                             nbb_cells[i].set_text(nbb_formatted_code);\n",
       "                        }\n",
       "                        break;\n",
       "                    }\n",
       "                }\n",
       "            }, 500);\n",
       "            "
      ],
      "text/plain": [
       "<IPython.core.display.Javascript object>"
      ]
     },
     "metadata": {},
     "output_type": "display_data"
    }
   ],
   "source": [
    "#export\n",
    "def compose(x, funcs, *args, order_key='_order', **kwargs):\n",
    "    key = lambda o: getattr(o, order_key, 0)\n",
    "    for f in sorted(listify(funcs), key=key): \n",
    "        x = f(x, **kwargs)\n",
    "    return x\n",
    "\n",
    "\n",
    "class ItemList(ListContainer):\n",
    "    def __init__(self, items, path='.', tfms=None):\n",
    "        super().__init__(items)\n",
    "        self.path = Path(path)\n",
    "        self.tfms = tfms\n",
    "\n",
    "    def __repr__(self): \n",
    "        return f'{super().__repr__()}\\nPath: {self.path}'\n",
    "    \n",
    "    def new(self, items, cls=None):\n",
    "        if cls is None: \n",
    "            cls = self.__class__\n",
    "        return cls(items, self.path, tfms=self.tfms)\n",
    "    \n",
    "    def get(self, i): \n",
    "        return i\n",
    "    \n",
    "    def _get(self, i): \n",
    "        return compose(self.get(i), self.tfms)\n",
    "    \n",
    "    def __getitem__(self, idx):\n",
    "        res = super().__getitem__(idx)\n",
    "        if isinstance(res, list): \n",
    "            return [self._get(o) for o in res]\n",
    "        return self._get(res)\n",
    "\n",
    "    \n",
    "class ImageList(ItemList):\n",
    "    @classmethod\n",
    "    def from_files(cls, path, extensions=None, recurse=True, include=None, **kwargs):\n",
    "        if extensions is None: \n",
    "            extensions = image_extensions\n",
    "        return cls(get_files(path, extensions, recurse=recurse, include=include), path, **kwargs)\n",
    "    \n",
    "    def get(self, fn): \n",
    "        return PIL.Image.open(fn)"
   ]
  },
  {
   "cell_type": "markdown",
   "metadata": {
    "hidden": true
   },
   "source": [
    "Transforms aren't only used for data augmentation. To allow total flexibility, `ImageList` returns the raw PIL image. The first thing is to convert it to 'RGB' (or something else).\n",
    "\n",
    "Transforms only need to be functions that take an element of the `ItemList` and transform it. If they need state, they can be defined as a class. Also, having them as a class allows to define an `_order` attribute (default 0) that is used to sort the transforms."
   ]
  },
  {
   "cell_type": "code",
   "execution_count": 37,
   "metadata": {
    "hidden": true
   },
   "outputs": [
    {
     "data": {
      "application/javascript": [
       "\n",
       "            setTimeout(function() {\n",
       "                var nbb_cell_id = 37;\n",
       "                var nbb_unformatted_code = \"#export\\nclass Transform(): \\n    _order=0\\n\\n\\n# We can use either function or class to convert to RGB\\nclass MakeRGB(Transform):\\n    def __call__(self, item): \\n        # if the image is already rgb, then PIL does not do anything\\n        return item.convert('RGB')\\n\\n    \\ndef make_rgb(item): \\n    return item.convert('RGB')\";\n",
       "                var nbb_formatted_code = \"# export\\nclass Transform:\\n    _order = 0\\n\\n\\n# We can use either function or class to convert to RGB\\nclass MakeRGB(Transform):\\n    def __call__(self, item):\\n        # if the image is already rgb, then PIL does not do anything\\n        return item.convert(\\\"RGB\\\")\\n\\n\\ndef make_rgb(item):\\n    return item.convert(\\\"RGB\\\")\";\n",
       "                var nbb_cells = Jupyter.notebook.get_cells();\n",
       "                for (var i = 0; i < nbb_cells.length; ++i) {\n",
       "                    if (nbb_cells[i].input_prompt_number == nbb_cell_id) {\n",
       "                        if (nbb_cells[i].get_text() == nbb_unformatted_code) {\n",
       "                             nbb_cells[i].set_text(nbb_formatted_code);\n",
       "                        }\n",
       "                        break;\n",
       "                    }\n",
       "                }\n",
       "            }, 500);\n",
       "            "
      ],
      "text/plain": [
       "<IPython.core.display.Javascript object>"
      ]
     },
     "metadata": {},
     "output_type": "display_data"
    }
   ],
   "source": [
    "#export\n",
    "class Transform(): \n",
    "    _order=0\n",
    "\n",
    "\n",
    "# We can use either function or class to convert to RGB\n",
    "class MakeRGB(Transform):\n",
    "    def __call__(self, item): \n",
    "        # if the image is already rgb, then PIL does not do anything\n",
    "        return item.convert('RGB')\n",
    "\n",
    "    \n",
    "def make_rgb(item): \n",
    "    return item.convert('RGB')"
   ]
  },
  {
   "cell_type": "code",
   "execution_count": 38,
   "metadata": {
    "hidden": true
   },
   "outputs": [
    {
     "data": {
      "text/plain": [
       "ImageList (13394 items)\n",
       "[Path('/Users/imad/.fastai/data/imagenette2-160/train/n03394916/ILSVRC2012_val_00046669.JPEG'), Path('/Users/imad/.fastai/data/imagenette2-160/train/n03394916/n03394916_58454.JPEG'), Path('/Users/imad/.fastai/data/imagenette2-160/train/n03394916/n03394916_32588.JPEG'), Path('/Users/imad/.fastai/data/imagenette2-160/train/n03394916/n03394916_33663.JPEG'), Path('/Users/imad/.fastai/data/imagenette2-160/train/n03394916/n03394916_27948.JPEG'), Path('/Users/imad/.fastai/data/imagenette2-160/train/n03394916/n03394916_38644.JPEG'), Path('/Users/imad/.fastai/data/imagenette2-160/train/n03394916/n03394916_35076.JPEG'), Path('/Users/imad/.fastai/data/imagenette2-160/train/n03394916/n03394916_38214.JPEG'), Path('/Users/imad/.fastai/data/imagenette2-160/train/n03394916/n03394916_23008.JPEG'), Path('/Users/imad/.fastai/data/imagenette2-160/train/n03394916/n03394916_33008.JPEG')...]\n",
       "Path: /Users/imad/.fastai/data/imagenette2-160"
      ]
     },
     "execution_count": 38,
     "metadata": {},
     "output_type": "execute_result"
    },
    {
     "data": {
      "application/javascript": [
       "\n",
       "            setTimeout(function() {\n",
       "                var nbb_cell_id = 38;\n",
       "                var nbb_unformatted_code = \"il = ImageList.from_files(path, tfms=make_rgb)\\nil\";\n",
       "                var nbb_formatted_code = \"il = ImageList.from_files(path, tfms=make_rgb)\\nil\";\n",
       "                var nbb_cells = Jupyter.notebook.get_cells();\n",
       "                for (var i = 0; i < nbb_cells.length; ++i) {\n",
       "                    if (nbb_cells[i].input_prompt_number == nbb_cell_id) {\n",
       "                        if (nbb_cells[i].get_text() == nbb_unformatted_code) {\n",
       "                             nbb_cells[i].set_text(nbb_formatted_code);\n",
       "                        }\n",
       "                        break;\n",
       "                    }\n",
       "                }\n",
       "            }, 500);\n",
       "            "
      ],
      "text/plain": [
       "<IPython.core.display.Javascript object>"
      ]
     },
     "metadata": {},
     "output_type": "display_data"
    }
   ],
   "source": [
    "il = ImageList.from_files(path, tfms=make_rgb)\n",
    "il"
   ]
  },
  {
   "cell_type": "code",
   "execution_count": 39,
   "metadata": {
    "hidden": true
   },
   "outputs": [
    {
     "data": {
      "image/png": "[encoded data removed]",
      "text/plain": [
       "<PIL.Image.Image image mode=RGB size=231x160 at 0x7F864B5E04C0>"
      ]
     },
     "execution_count": 39,
     "metadata": {},
     "output_type": "execute_result"
    },
    {
     "data": {
      "application/javascript": [
       "\n",
       "            setTimeout(function() {\n",
       "                var nbb_cell_id = 39;\n",
       "                var nbb_unformatted_code = \"img = il[0]; img\";\n",
       "                var nbb_formatted_code = \"img = il[0]\\nimg\";\n",
       "                var nbb_cells = Jupyter.notebook.get_cells();\n",
       "                for (var i = 0; i < nbb_cells.length; ++i) {\n",
       "                    if (nbb_cells[i].input_prompt_number == nbb_cell_id) {\n",
       "                        if (nbb_cells[i].get_text() == nbb_unformatted_code) {\n",
       "                             nbb_cells[i].set_text(nbb_formatted_code);\n",
       "                        }\n",
       "                        break;\n",
       "                    }\n",
       "                }\n",
       "            }, 500);\n",
       "            "
      ],
      "text/plain": [
       "<IPython.core.display.Javascript object>"
      ]
     },
     "metadata": {},
     "output_type": "display_data"
    }
   ],
   "source": [
    "img = il[0]; img"
   ]
  },
  {
   "cell_type": "markdown",
   "metadata": {
    "hidden": true
   },
   "source": [
    "We can also index with a range or a list of integers:"
   ]
  },
  {
   "cell_type": "code",
   "execution_count": 40,
   "metadata": {
    "hidden": true
   },
   "outputs": [
    {
     "data": {
      "image/png": "[encoded data removed]",
      "text/plain": [
       "<PIL.JpegImagePlugin.JpegImageFile image mode=RGB size=231x160 at 0x7F864B5FAD00>"
      ]
     },
     "execution_count": 40,
     "metadata": {},
     "output_type": "execute_result"
    },
    {
     "data": {
      "application/javascript": [
       "\n",
       "            setTimeout(function() {\n",
       "                var nbb_cell_id = 40;\n",
       "                var nbb_unformatted_code = \"il.get(all_fns[0])\";\n",
       "                var nbb_formatted_code = \"il.get(all_fns[0])\";\n",
       "                var nbb_cells = Jupyter.notebook.get_cells();\n",
       "                for (var i = 0; i < nbb_cells.length; ++i) {\n",
       "                    if (nbb_cells[i].input_prompt_number == nbb_cell_id) {\n",
       "                        if (nbb_cells[i].get_text() == nbb_unformatted_code) {\n",
       "                             nbb_cells[i].set_text(nbb_formatted_code);\n",
       "                        }\n",
       "                        break;\n",
       "                    }\n",
       "                }\n",
       "            }, 500);\n",
       "            "
      ],
      "text/plain": [
       "<IPython.core.display.Javascript object>"
      ]
     },
     "metadata": {},
     "output_type": "display_data"
    }
   ],
   "source": [
    "il.get(all_fns[0])"
   ]
  },
  {
   "cell_type": "code",
   "execution_count": 41,
   "metadata": {
    "hidden": true
   },
   "outputs": [
    {
     "data": {
      "text/plain": [
       "[<PIL.Image.Image image mode=RGB size=231x160 at 0x7F864B5E0B80>]"
      ]
     },
     "execution_count": 41,
     "metadata": {},
     "output_type": "execute_result"
    },
    {
     "data": {
      "application/javascript": [
       "\n",
       "            setTimeout(function() {\n",
       "                var nbb_cell_id = 41;\n",
       "                var nbb_unformatted_code = \"il[:1]\";\n",
       "                var nbb_formatted_code = \"il[:1]\";\n",
       "                var nbb_cells = Jupyter.notebook.get_cells();\n",
       "                for (var i = 0; i < nbb_cells.length; ++i) {\n",
       "                    if (nbb_cells[i].input_prompt_number == nbb_cell_id) {\n",
       "                        if (nbb_cells[i].get_text() == nbb_unformatted_code) {\n",
       "                             nbb_cells[i].set_text(nbb_formatted_code);\n",
       "                        }\n",
       "                        break;\n",
       "                    }\n",
       "                }\n",
       "            }, 500);\n",
       "            "
      ],
      "text/plain": [
       "<IPython.core.display.Javascript object>"
      ]
     },
     "metadata": {},
     "output_type": "display_data"
    }
   ],
   "source": [
    "il[:1]"
   ]
  },
  {
   "cell_type": "markdown",
   "metadata": {
    "heading_collapsed": "true",
    "hidden": true
   },
   "source": [
    "### Split validation set"
   ]
  },
  {
   "cell_type": "markdown",
   "metadata": {
    "hidden": true
   },
   "source": [
    "Here, we need to split the files between those in the folder train and those in the folder val."
   ]
  },
  {
   "cell_type": "code",
   "execution_count": 42,
   "metadata": {
    "hidden": true
   },
   "outputs": [
    {
     "data": {
      "text/plain": [
       "Path('/Users/imad/.fastai/data/imagenette2-160/train/n03394916/ILSVRC2012_val_00046669.JPEG')"
      ]
     },
     "execution_count": 42,
     "metadata": {},
     "output_type": "execute_result"
    },
    {
     "data": {
      "application/javascript": [
       "\n",
       "            setTimeout(function() {\n",
       "                var nbb_cell_id = 42;\n",
       "                var nbb_unformatted_code = \"fn = il.items[0]; fn\";\n",
       "                var nbb_formatted_code = \"fn = il.items[0]\\nfn\";\n",
       "                var nbb_cells = Jupyter.notebook.get_cells();\n",
       "                for (var i = 0; i < nbb_cells.length; ++i) {\n",
       "                    if (nbb_cells[i].input_prompt_number == nbb_cell_id) {\n",
       "                        if (nbb_cells[i].get_text() == nbb_unformatted_code) {\n",
       "                             nbb_cells[i].set_text(nbb_formatted_code);\n",
       "                        }\n",
       "                        break;\n",
       "                    }\n",
       "                }\n",
       "            }, 500);\n",
       "            "
      ],
      "text/plain": [
       "<IPython.core.display.Javascript object>"
      ]
     },
     "metadata": {},
     "output_type": "display_data"
    }
   ],
   "source": [
    "fn = il.items[0]; fn"
   ]
  },
  {
   "cell_type": "markdown",
   "metadata": {
    "hidden": true
   },
   "source": [
    "Since our filenames are `path` object, we can find the directory of the file with `.parent`. We need to go back two folders before since the last folders are the class names."
   ]
  },
  {
   "cell_type": "code",
   "execution_count": 43,
   "metadata": {
    "hidden": true
   },
   "outputs": [
    {
     "data": {
      "text/plain": [
       "'train'"
      ]
     },
     "execution_count": 43,
     "metadata": {},
     "output_type": "execute_result"
    },
    {
     "data": {
      "application/javascript": [
       "\n",
       "            setTimeout(function() {\n",
       "                var nbb_cell_id = 43;\n",
       "                var nbb_unformatted_code = \"fn.parent.parent.name\";\n",
       "                var nbb_formatted_code = \"fn.parent.parent.name\";\n",
       "                var nbb_cells = Jupyter.notebook.get_cells();\n",
       "                for (var i = 0; i < nbb_cells.length; ++i) {\n",
       "                    if (nbb_cells[i].input_prompt_number == nbb_cell_id) {\n",
       "                        if (nbb_cells[i].get_text() == nbb_unformatted_code) {\n",
       "                             nbb_cells[i].set_text(nbb_formatted_code);\n",
       "                        }\n",
       "                        break;\n",
       "                    }\n",
       "                }\n",
       "            }, 500);\n",
       "            "
      ],
      "text/plain": [
       "<IPython.core.display.Javascript object>"
      ]
     },
     "metadata": {},
     "output_type": "display_data"
    }
   ],
   "source": [
    "fn.parent.parent.name"
   ]
  },
  {
   "cell_type": "markdown",
   "metadata": {
    "hidden": true
   },
   "source": [
    "[Jump_to lesson 11 video](https://course.fast.ai/videos/?lesson=11&t=2175)"
   ]
  },
  {
   "cell_type": "code",
   "execution_count": 44,
   "metadata": {
    "hidden": true
   },
   "outputs": [
    {
     "data": {
      "application/javascript": [
       "\n",
       "            setTimeout(function() {\n",
       "                var nbb_cell_id = 44;\n",
       "                var nbb_unformatted_code = \"#export\\ndef grandparent_splitter(fn, valid_name='valid', train_name='train'):\\n    gp = fn.parent.parent.name\\n    if gp == valid_name:\\n        return True\\n    elif gp == train_name:\\n        return False\\n    return\\n#     return True if gp == valid_name else False if gp==train_name else None\\n\\n\\ndef split_by_func(items, f):\\n    mask = [f(o) for o in items]\\n    # `None` values will be filtered out\\n    val = [o for o, m in zip(items, mask) if m]\\n    train = [o for o, m in zip(items, mask) if m == False]\\n    return train, val\";\n",
       "                var nbb_formatted_code = \"# export\\ndef grandparent_splitter(fn, valid_name=\\\"valid\\\", train_name=\\\"train\\\"):\\n    gp = fn.parent.parent.name\\n    if gp == valid_name:\\n        return True\\n    elif gp == train_name:\\n        return False\\n    return\\n\\n\\n#     return True if gp == valid_name else False if gp==train_name else None\\n\\n\\ndef split_by_func(items, f):\\n    mask = [f(o) for o in items]\\n    # `None` values will be filtered out\\n    val = [o for o, m in zip(items, mask) if m]\\n    train = [o for o, m in zip(items, mask) if m == False]\\n    return train, val\";\n",
       "                var nbb_cells = Jupyter.notebook.get_cells();\n",
       "                for (var i = 0; i < nbb_cells.length; ++i) {\n",
       "                    if (nbb_cells[i].input_prompt_number == nbb_cell_id) {\n",
       "                        if (nbb_cells[i].get_text() == nbb_unformatted_code) {\n",
       "                             nbb_cells[i].set_text(nbb_formatted_code);\n",
       "                        }\n",
       "                        break;\n",
       "                    }\n",
       "                }\n",
       "            }, 500);\n",
       "            "
      ],
      "text/plain": [
       "<IPython.core.display.Javascript object>"
      ]
     },
     "metadata": {},
     "output_type": "display_data"
    }
   ],
   "source": [
    "#export\n",
    "def grandparent_splitter(fn, valid_name='valid', train_name='train'):\n",
    "    gp = fn.parent.parent.name\n",
    "    if gp == valid_name:\n",
    "        return True\n",
    "    elif gp == train_name:\n",
    "        return False\n",
    "    return\n",
    "#     return True if gp == valid_name else False if gp==train_name else None\n",
    "\n",
    "\n",
    "def split_by_func(items, f):\n",
    "    mask = [f(o) for o in items]\n",
    "    # `None` values will be filtered out\n",
    "    val = [o for o, m in zip(items, mask) if m]\n",
    "    train = [o for o, m in zip(items, mask) if m == False]\n",
    "    return train, val"
   ]
  },
  {
   "cell_type": "code",
   "execution_count": 45,
   "metadata": {
    "hidden": true
   },
   "outputs": [
    {
     "data": {
      "application/javascript": [
       "\n",
       "            setTimeout(function() {\n",
       "                var nbb_cell_id = 45;\n",
       "                var nbb_unformatted_code = \"splitter = partial(grandparent_splitter, valid_name='val')\";\n",
       "                var nbb_formatted_code = \"splitter = partial(grandparent_splitter, valid_name=\\\"val\\\")\";\n",
       "                var nbb_cells = Jupyter.notebook.get_cells();\n",
       "                for (var i = 0; i < nbb_cells.length; ++i) {\n",
       "                    if (nbb_cells[i].input_prompt_number == nbb_cell_id) {\n",
       "                        if (nbb_cells[i].get_text() == nbb_unformatted_code) {\n",
       "                             nbb_cells[i].set_text(nbb_formatted_code);\n",
       "                        }\n",
       "                        break;\n",
       "                    }\n",
       "                }\n",
       "            }, 500);\n",
       "            "
      ],
      "text/plain": [
       "<IPython.core.display.Javascript object>"
      ]
     },
     "metadata": {},
     "output_type": "display_data"
    }
   ],
   "source": [
    "splitter = partial(grandparent_splitter, valid_name='val')"
   ]
  },
  {
   "cell_type": "code",
   "execution_count": 46,
   "metadata": {
    "hidden": true
   },
   "outputs": [
    {
     "name": "stdout",
     "output_type": "stream",
     "text": [
      "CPU times: user 39.2 ms, sys: 2.01 ms, total: 41.2 ms\n",
      "Wall time: 40.7 ms\n"
     ]
    },
    {
     "data": {
      "application/javascript": [
       "\n",
       "            setTimeout(function() {\n",
       "                var nbb_cell_id = 46;\n",
       "                var nbb_unformatted_code = \"%time train, valid = split_by_func(il, splitter)\";\n",
       "                var nbb_formatted_code = \"%time train, valid = split_by_func(il, splitter)\";\n",
       "                var nbb_cells = Jupyter.notebook.get_cells();\n",
       "                for (var i = 0; i < nbb_cells.length; ++i) {\n",
       "                    if (nbb_cells[i].input_prompt_number == nbb_cell_id) {\n",
       "                        if (nbb_cells[i].get_text() == nbb_unformatted_code) {\n",
       "                             nbb_cells[i].set_text(nbb_formatted_code);\n",
       "                        }\n",
       "                        break;\n",
       "                    }\n",
       "                }\n",
       "            }, 500);\n",
       "            "
      ],
      "text/plain": [
       "<IPython.core.display.Javascript object>"
      ]
     },
     "metadata": {},
     "output_type": "display_data"
    }
   ],
   "source": [
    "%time train, valid = split_by_func(il, splitter)"
   ]
  },
  {
   "cell_type": "code",
   "execution_count": 47,
   "metadata": {
    "hidden": true
   },
   "outputs": [
    {
     "data": {
      "text/plain": [
       "(9469, 3925)"
      ]
     },
     "execution_count": 47,
     "metadata": {},
     "output_type": "execute_result"
    },
    {
     "data": {
      "application/javascript": [
       "\n",
       "            setTimeout(function() {\n",
       "                var nbb_cell_id = 47;\n",
       "                var nbb_unformatted_code = \"len(train), len(valid)\";\n",
       "                var nbb_formatted_code = \"len(train), len(valid)\";\n",
       "                var nbb_cells = Jupyter.notebook.get_cells();\n",
       "                for (var i = 0; i < nbb_cells.length; ++i) {\n",
       "                    if (nbb_cells[i].input_prompt_number == nbb_cell_id) {\n",
       "                        if (nbb_cells[i].get_text() == nbb_unformatted_code) {\n",
       "                             nbb_cells[i].set_text(nbb_formatted_code);\n",
       "                        }\n",
       "                        break;\n",
       "                    }\n",
       "                }\n",
       "            }, 500);\n",
       "            "
      ],
      "text/plain": [
       "<IPython.core.display.Javascript object>"
      ]
     },
     "metadata": {},
     "output_type": "display_data"
    }
   ],
   "source": [
    "len(train), len(valid)"
   ]
  },
  {
   "cell_type": "code",
   "execution_count": 48,
   "metadata": {},
   "outputs": [
    {
     "data": {
      "text/plain": [
       "9469"
      ]
     },
     "execution_count": 48,
     "metadata": {},
     "output_type": "execute_result"
    },
    {
     "data": {
      "application/javascript": [
       "\n",
       "            setTimeout(function() {\n",
       "                var nbb_cell_id = 48;\n",
       "                var nbb_unformatted_code = \"len(get_files(path / 'train', image_extensions, recurse=True))\";\n",
       "                var nbb_formatted_code = \"len(get_files(path / \\\"train\\\", image_extensions, recurse=True))\";\n",
       "                var nbb_cells = Jupyter.notebook.get_cells();\n",
       "                for (var i = 0; i < nbb_cells.length; ++i) {\n",
       "                    if (nbb_cells[i].input_prompt_number == nbb_cell_id) {\n",
       "                        if (nbb_cells[i].get_text() == nbb_unformatted_code) {\n",
       "                             nbb_cells[i].set_text(nbb_formatted_code);\n",
       "                        }\n",
       "                        break;\n",
       "                    }\n",
       "                }\n",
       "            }, 500);\n",
       "            "
      ],
      "text/plain": [
       "<IPython.core.display.Javascript object>"
      ]
     },
     "metadata": {},
     "output_type": "display_data"
    }
   ],
   "source": [
    "len(get_files(path / 'train', image_extensions, recurse=True))"
   ]
  },
  {
   "cell_type": "code",
   "execution_count": 49,
   "metadata": {},
   "outputs": [
    {
     "data": {
      "text/plain": [
       "3925"
      ]
     },
     "execution_count": 49,
     "metadata": {},
     "output_type": "execute_result"
    },
    {
     "data": {
      "application/javascript": [
       "\n",
       "            setTimeout(function() {\n",
       "                var nbb_cell_id = 49;\n",
       "                var nbb_unformatted_code = \"len(get_files(path / 'val', image_extensions, recurse=True))\";\n",
       "                var nbb_formatted_code = \"len(get_files(path / \\\"val\\\", image_extensions, recurse=True))\";\n",
       "                var nbb_cells = Jupyter.notebook.get_cells();\n",
       "                for (var i = 0; i < nbb_cells.length; ++i) {\n",
       "                    if (nbb_cells[i].input_prompt_number == nbb_cell_id) {\n",
       "                        if (nbb_cells[i].get_text() == nbb_unformatted_code) {\n",
       "                             nbb_cells[i].set_text(nbb_formatted_code);\n",
       "                        }\n",
       "                        break;\n",
       "                    }\n",
       "                }\n",
       "            }, 500);\n",
       "            "
      ],
      "text/plain": [
       "<IPython.core.display.Javascript object>"
      ]
     },
     "metadata": {},
     "output_type": "display_data"
    }
   ],
   "source": [
    "len(get_files(path / 'val', image_extensions, recurse=True))"
   ]
  },
  {
   "cell_type": "markdown",
   "metadata": {
    "hidden": true
   },
   "source": [
    "Now that we can split our data, let's create the class that will contain it. It just needs two `ItemList` to be initialized, and we create a shortcut to all the unknown attributes by trying to grab them in the `train` `ItemList`. "
   ]
  },
  {
   "cell_type": "code",
   "execution_count": 50,
   "metadata": {
    "hidden": true
   },
   "outputs": [
    {
     "data": {
      "application/javascript": [
       "\n",
       "            setTimeout(function() {\n",
       "                var nbb_cell_id = 50;\n",
       "                var nbb_unformatted_code = \"#export\\nclass SplitData:\\n    def __init__(self, train, valid): \\n        self.train = train\\n        self.valid = valid\\n        \\n    def __getattr__(self,k): \\n        return getattr(self.train, k)\\n    \\n    #This is needed if we want to pickle SplitData and be able to load it back without recursion errors\\n    def __setstate__(self, data): \\n        self.__dict__.update(data) \\n    \\n    @classmethod\\n    def split_by_func(cls, il, f):\\n        lists = map(il.new, split_by_func(il.items, f))\\n        return cls(*lists)\\n    \\n    def __repr__(self): \\n        return f'{self.__class__.__name__}\\\\nTrain: {self.train}\\\\nValid: {self.valid}\\\\n'\";\n",
       "                var nbb_formatted_code = \"# export\\nclass SplitData:\\n    def __init__(self, train, valid):\\n        self.train = train\\n        self.valid = valid\\n\\n    def __getattr__(self, k):\\n        return getattr(self.train, k)\\n\\n    # This is needed if we want to pickle SplitData and be able to load it back without recursion errors\\n    def __setstate__(self, data):\\n        self.__dict__.update(data)\\n\\n    @classmethod\\n    def split_by_func(cls, il, f):\\n        lists = map(il.new, split_by_func(il.items, f))\\n        return cls(*lists)\\n\\n    def __repr__(self):\\n        return f\\\"{self.__class__.__name__}\\\\nTrain: {self.train}\\\\nValid: {self.valid}\\\\n\\\"\";\n",
       "                var nbb_cells = Jupyter.notebook.get_cells();\n",
       "                for (var i = 0; i < nbb_cells.length; ++i) {\n",
       "                    if (nbb_cells[i].input_prompt_number == nbb_cell_id) {\n",
       "                        if (nbb_cells[i].get_text() == nbb_unformatted_code) {\n",
       "                             nbb_cells[i].set_text(nbb_formatted_code);\n",
       "                        }\n",
       "                        break;\n",
       "                    }\n",
       "                }\n",
       "            }, 500);\n",
       "            "
      ],
      "text/plain": [
       "<IPython.core.display.Javascript object>"
      ]
     },
     "metadata": {},
     "output_type": "display_data"
    }
   ],
   "source": [
    "#export\n",
    "class SplitData:\n",
    "    def __init__(self, train, valid): \n",
    "        self.train = train\n",
    "        self.valid = valid\n",
    "        \n",
    "    def __getattr__(self,k): \n",
    "        return getattr(self.train, k)\n",
    "    \n",
    "    #This is needed if we want to pickle SplitData and be able to load it back without recursion errors\n",
    "    def __setstate__(self, data): \n",
    "        self.__dict__.update(data) \n",
    "    \n",
    "    @classmethod\n",
    "    def split_by_func(cls, il, f):\n",
    "        lists = map(il.new, split_by_func(il.items, f))\n",
    "        return cls(*lists)\n",
    "    \n",
    "    def __repr__(self): \n",
    "        return f'{self.__class__.__name__}\\nTrain: {self.train}\\nValid: {self.valid}\\n'"
   ]
  },
  {
   "cell_type": "code",
   "execution_count": 51,
   "metadata": {
    "hidden": true
   },
   "outputs": [
    {
     "data": {
      "text/plain": [
       "SplitData\n",
       "Train: ImageList (9469 items)\n",
       "[Path('/Users/imad/.fastai/data/imagenette2-160/train/n03394916/ILSVRC2012_val_00046669.JPEG'), Path('/Users/imad/.fastai/data/imagenette2-160/train/n03394916/n03394916_58454.JPEG'), Path('/Users/imad/.fastai/data/imagenette2-160/train/n03394916/n03394916_32588.JPEG'), Path('/Users/imad/.fastai/data/imagenette2-160/train/n03394916/n03394916_33663.JPEG'), Path('/Users/imad/.fastai/data/imagenette2-160/train/n03394916/n03394916_27948.JPEG'), Path('/Users/imad/.fastai/data/imagenette2-160/train/n03394916/n03394916_38644.JPEG'), Path('/Users/imad/.fastai/data/imagenette2-160/train/n03394916/n03394916_35076.JPEG'), Path('/Users/imad/.fastai/data/imagenette2-160/train/n03394916/n03394916_38214.JPEG'), Path('/Users/imad/.fastai/data/imagenette2-160/train/n03394916/n03394916_23008.JPEG'), Path('/Users/imad/.fastai/data/imagenette2-160/train/n03394916/n03394916_33008.JPEG')...]\n",
       "Path: /Users/imad/.fastai/data/imagenette2-160\n",
       "Valid: ImageList (3925 items)\n",
       "[Path('/Users/imad/.fastai/data/imagenette2-160/val/n03394916/n03394916_32422.JPEG'), Path('/Users/imad/.fastai/data/imagenette2-160/val/n03394916/n03394916_69132.JPEG'), Path('/Users/imad/.fastai/data/imagenette2-160/val/n03394916/n03394916_33771.JPEG'), Path('/Users/imad/.fastai/data/imagenette2-160/val/n03394916/n03394916_29940.JPEG'), Path('/Users/imad/.fastai/data/imagenette2-160/val/n03394916/ILSVRC2012_val_00033682.JPEG'), Path('/Users/imad/.fastai/data/imagenette2-160/val/n03394916/n03394916_40160.JPEG'), Path('/Users/imad/.fastai/data/imagenette2-160/val/n03394916/n03394916_36420.JPEG'), Path('/Users/imad/.fastai/data/imagenette2-160/val/n03394916/n03394916_5011.JPEG'), Path('/Users/imad/.fastai/data/imagenette2-160/val/n03394916/n03394916_35871.JPEG'), Path('/Users/imad/.fastai/data/imagenette2-160/val/n03394916/n03394916_35172.JPEG')...]\n",
       "Path: /Users/imad/.fastai/data/imagenette2-160"
      ]
     },
     "execution_count": 51,
     "metadata": {},
     "output_type": "execute_result"
    },
    {
     "data": {
      "application/javascript": [
       "\n",
       "            setTimeout(function() {\n",
       "                var nbb_cell_id = 51;\n",
       "                var nbb_unformatted_code = \"sd = SplitData.split_by_func(il, splitter); sd\";\n",
       "                var nbb_formatted_code = \"sd = SplitData.split_by_func(il, splitter)\\nsd\";\n",
       "                var nbb_cells = Jupyter.notebook.get_cells();\n",
       "                for (var i = 0; i < nbb_cells.length; ++i) {\n",
       "                    if (nbb_cells[i].input_prompt_number == nbb_cell_id) {\n",
       "                        if (nbb_cells[i].get_text() == nbb_unformatted_code) {\n",
       "                             nbb_cells[i].set_text(nbb_formatted_code);\n",
       "                        }\n",
       "                        break;\n",
       "                    }\n",
       "                }\n",
       "            }, 500);\n",
       "            "
      ],
      "text/plain": [
       "<IPython.core.display.Javascript object>"
      ]
     },
     "metadata": {},
     "output_type": "display_data"
    }
   ],
   "source": [
    "sd = SplitData.split_by_func(il, splitter); sd"
   ]
  },
  {
   "cell_type": "markdown",
   "metadata": {
    "heading_collapsed": "true",
    "hidden": true
   },
   "source": [
    "### Labeling"
   ]
  },
  {
   "cell_type": "markdown",
   "metadata": {
    "hidden": true
   },
   "source": [
    "Labeling has to be done *after* splitting, because it uses *training* set information to apply to the *validation* set, using a *Processor*.\n",
    "\n",
    "A *Processor* is a transformation that is applied to all the inputs once at initialization, with some *state* computed on the training set that is then applied without modification on the validation set (and maybe the test set or at inference time on a single item). For instance, it could be **processing texts** to **tokenize**, then **numericalize** them. In that case we want the validation set to be numericalized with exactly the same vocabulary as the training set.\n",
    "\n",
    "Another example is in **tabular data**, where we **fill missing values** with (for instance) the median computed on the training set. That statistic is stored in the inner state of the *Processor* and applied on the validation set.\n",
    "\n",
    "In our case, we want to **convert label strings to numbers** in a consistent and reproducible way. So we create a list of possible labels in the training set, and then convert our labels to numbers based on this *vocab*."
   ]
  },
  {
   "cell_type": "markdown",
   "metadata": {
    "hidden": true
   },
   "source": [
    "[Jump_to lesson 11 video](https://course.fast.ai/videos/?lesson=11&t=2368)"
   ]
  },
  {
   "cell_type": "code",
   "execution_count": 52,
   "metadata": {
    "hidden": true
   },
   "outputs": [
    {
     "data": {
      "application/javascript": [
       "\n",
       "            setTimeout(function() {\n",
       "                var nbb_cell_id = 52;\n",
       "                var nbb_unformatted_code = \"#export\\nfrom collections import OrderedDict\\n\\ndef uniqueify(x, sort=False):\\n    res = list(OrderedDict.fromkeys(x).keys())\\n    if sort: \\n        res.sort()\\n    return res\";\n",
       "                var nbb_formatted_code = \"# export\\nfrom collections import OrderedDict\\n\\n\\ndef uniqueify(x, sort=False):\\n    res = list(OrderedDict.fromkeys(x).keys())\\n    if sort:\\n        res.sort()\\n    return res\";\n",
       "                var nbb_cells = Jupyter.notebook.get_cells();\n",
       "                for (var i = 0; i < nbb_cells.length; ++i) {\n",
       "                    if (nbb_cells[i].input_prompt_number == nbb_cell_id) {\n",
       "                        if (nbb_cells[i].get_text() == nbb_unformatted_code) {\n",
       "                             nbb_cells[i].set_text(nbb_formatted_code);\n",
       "                        }\n",
       "                        break;\n",
       "                    }\n",
       "                }\n",
       "            }, 500);\n",
       "            "
      ],
      "text/plain": [
       "<IPython.core.display.Javascript object>"
      ]
     },
     "metadata": {},
     "output_type": "display_data"
    }
   ],
   "source": [
    "#export\n",
    "from collections import OrderedDict\n",
    "\n",
    "def uniqueify(x, sort=False):\n",
    "    res = list(OrderedDict.fromkeys(x).keys())\n",
    "    if sort: \n",
    "        res.sort()\n",
    "    return res"
   ]
  },
  {
   "cell_type": "markdown",
   "metadata": {
    "hidden": true
   },
   "source": [
    "First, let's define the processor. We also define a `ProcessedItemList` with an `obj` method that can get the unprocessed items: for instance a processed label will be an index between 0 and the number of classes - 1, the corresponding `obj` will be the name of the class. The first one is needed by the model for the training, but the second one is better for displaying the objects."
   ]
  },
  {
   "cell_type": "code",
   "execution_count": 53,
   "metadata": {
    "hidden": true
   },
   "outputs": [
    {
     "data": {
      "application/javascript": [
       "\n",
       "            setTimeout(function() {\n",
       "                var nbb_cell_id = 53;\n",
       "                var nbb_unformatted_code = \"#export\\nclass Processor: \\n    def process(self, items): \\n        return items\\n\\nclass CategoryProcessor(Processor):\\n    def __init__(self): \\n        self.vocab = None\\n    \\n    def __call__(self, items):\\n        #The vocab is defined on the first use.\\n        if self.vocab is None:\\n            self.vocab = uniqueify(items)\\n            self.otoi  = {v:k for k,v in enumerate(self.vocab)}\\n        return [self.process(o) for o in items]\\n    \\n    def process(self, item):  \\n        return self.otoi[item]\\n    \\n    def deprocess(self, idxs):\\n        assert self.vocab is not None, \\\"Vocab is not defined\\\"\\n        return [self._deprocess(idx) for idx in idxs]\\n    \\n    def _deprocess(self, idx): \\n        return self.vocab[idx]\";\n",
       "                var nbb_formatted_code = \"# export\\nclass Processor:\\n    def process(self, items):\\n        return items\\n\\n\\nclass CategoryProcessor(Processor):\\n    def __init__(self):\\n        self.vocab = None\\n\\n    def __call__(self, items):\\n        # The vocab is defined on the first use.\\n        if self.vocab is None:\\n            self.vocab = uniqueify(items)\\n            self.otoi = {v: k for k, v in enumerate(self.vocab)}\\n        return [self.process(o) for o in items]\\n\\n    def process(self, item):\\n        return self.otoi[item]\\n\\n    def deprocess(self, idxs):\\n        assert self.vocab is not None, \\\"Vocab is not defined\\\"\\n        return [self._deprocess(idx) for idx in idxs]\\n\\n    def _deprocess(self, idx):\\n        return self.vocab[idx]\";\n",
       "                var nbb_cells = Jupyter.notebook.get_cells();\n",
       "                for (var i = 0; i < nbb_cells.length; ++i) {\n",
       "                    if (nbb_cells[i].input_prompt_number == nbb_cell_id) {\n",
       "                        if (nbb_cells[i].get_text() == nbb_unformatted_code) {\n",
       "                             nbb_cells[i].set_text(nbb_formatted_code);\n",
       "                        }\n",
       "                        break;\n",
       "                    }\n",
       "                }\n",
       "            }, 500);\n",
       "            "
      ],
      "text/plain": [
       "<IPython.core.display.Javascript object>"
      ]
     },
     "metadata": {},
     "output_type": "display_data"
    }
   ],
   "source": [
    "#export\n",
    "class Processor: \n",
    "    def process(self, items): \n",
    "        return items\n",
    "\n",
    "class CategoryProcessor(Processor):\n",
    "    def __init__(self): \n",
    "        self.vocab = None\n",
    "    \n",
    "    def __call__(self, items):\n",
    "        #The vocab is defined on the first use.\n",
    "        if self.vocab is None:\n",
    "            self.vocab = uniqueify(items)\n",
    "            self.otoi  = {v:k for k,v in enumerate(self.vocab)}\n",
    "        return [self.process(o) for o in items]\n",
    "    \n",
    "    def process(self, item):  \n",
    "        return self.otoi[item]\n",
    "    \n",
    "    def deprocess(self, idxs):\n",
    "        assert self.vocab is not None, \"Vocab is not defined\"\n",
    "        return [self._deprocess(idx) for idx in idxs]\n",
    "    \n",
    "    def _deprocess(self, idx): \n",
    "        return self.vocab[idx]"
   ]
  },
  {
   "cell_type": "markdown",
   "metadata": {
    "hidden": true
   },
   "source": [
    "Here we label according to the folders of the images, so simply `fn.parent.name`. We label the training set first with a newly created `CategoryProcessor` so that it computes its inner `vocab` on that set. Then we label the validation set using the same processor, which means it uses the same `vocab`. The end result is another `SplitData` object."
   ]
  },
  {
   "cell_type": "code",
   "execution_count": 54,
   "metadata": {
    "hidden": true
   },
   "outputs": [
    {
     "data": {
      "application/javascript": [
       "\n",
       "            setTimeout(function() {\n",
       "                var nbb_cell_id = 54;\n",
       "                var nbb_unformatted_code = \"#export\\ndef parent_labeler(fn): \\n    return fn.parent.name\\n\\n\\ndef _label_by_func(ds, f, cls=ItemList): \\n    return cls([f(o) for o in ds.items], path=ds.path)\\n\\n\\n#This is a slightly different from what was seen during the lesson,\\n#   we'll discuss the changes in lesson 11\\nclass LabeledData:\\n    \\n    def __init__(self, x, y, proc_x=None, proc_y=None):\\n        self.x = self.process(x, proc_x)\\n        self.y = self.process(y, proc_y)\\n        self.proc_x = proc_x\\n        self.proc_y = proc_y\\n    \\n    def process(self, il, proc): \\n        return il.new(compose(il.items, proc))\\n        \\n    def __repr__(self): \\n        return f'{self.__class__.__name__}\\\\nx: {self.x}\\\\ny: {self.y}\\\\n'\\n    \\n    def __getitem__(self,idx): \\n        return self.x[idx], self.y[idx]\\n    \\n    def __len__(self): \\n        return len(self.x)\\n    \\n    def x_obj(self, idx): \\n        return self.obj(self.x, idx, self.proc_x)\\n    \\n    def y_obj(self, idx): \\n        return self.obj(self.y, idx, self.proc_y)\\n    \\n    def obj(self, items, idx, procs):\\n        isint = isinstance(idx, int) or (isinstance(idx, torch.LongTensor) and not idx.ndim)\\n        item = items[idx]\\n        for proc in reversed(listify(procs)):\\n            item = proc._deprocess(item) if isint else proc.deprocess(item)\\n        return item\\n\\n    @classmethod\\n    def label_by_func(cls, il, f, proc_x=None, proc_y=None):\\n        return cls(il, _label_by_func(il, f), proc_x=proc_x, proc_y=proc_y)\\n\\ndef label_by_func(sd, f, proc_x=None, proc_y=None):\\n    train = LabeledData.label_by_func(sd.train, f, proc_x=proc_x, proc_y=proc_y)\\n    valid = LabeledData.label_by_func(sd.valid, f, proc_x=proc_x, proc_y=proc_y)\\n    return SplitData(train,valid)\";\n",
       "                var nbb_formatted_code = \"# export\\ndef parent_labeler(fn):\\n    return fn.parent.name\\n\\n\\ndef _label_by_func(ds, f, cls=ItemList):\\n    return cls([f(o) for o in ds.items], path=ds.path)\\n\\n\\n# This is a slightly different from what was seen during the lesson,\\n#   we'll discuss the changes in lesson 11\\nclass LabeledData:\\n    def __init__(self, x, y, proc_x=None, proc_y=None):\\n        self.x = self.process(x, proc_x)\\n        self.y = self.process(y, proc_y)\\n        self.proc_x = proc_x\\n        self.proc_y = proc_y\\n\\n    def process(self, il, proc):\\n        return il.new(compose(il.items, proc))\\n\\n    def __repr__(self):\\n        return f\\\"{self.__class__.__name__}\\\\nx: {self.x}\\\\ny: {self.y}\\\\n\\\"\\n\\n    def __getitem__(self, idx):\\n        return self.x[idx], self.y[idx]\\n\\n    def __len__(self):\\n        return len(self.x)\\n\\n    def x_obj(self, idx):\\n        return self.obj(self.x, idx, self.proc_x)\\n\\n    def y_obj(self, idx):\\n        return self.obj(self.y, idx, self.proc_y)\\n\\n    def obj(self, items, idx, procs):\\n        isint = isinstance(idx, int) or (\\n            isinstance(idx, torch.LongTensor) and not idx.ndim\\n        )\\n        item = items[idx]\\n        for proc in reversed(listify(procs)):\\n            item = proc._deprocess(item) if isint else proc.deprocess(item)\\n        return item\\n\\n    @classmethod\\n    def label_by_func(cls, il, f, proc_x=None, proc_y=None):\\n        return cls(il, _label_by_func(il, f), proc_x=proc_x, proc_y=proc_y)\\n\\n\\ndef label_by_func(sd, f, proc_x=None, proc_y=None):\\n    train = LabeledData.label_by_func(sd.train, f, proc_x=proc_x, proc_y=proc_y)\\n    valid = LabeledData.label_by_func(sd.valid, f, proc_x=proc_x, proc_y=proc_y)\\n    return SplitData(train, valid)\";\n",
       "                var nbb_cells = Jupyter.notebook.get_cells();\n",
       "                for (var i = 0; i < nbb_cells.length; ++i) {\n",
       "                    if (nbb_cells[i].input_prompt_number == nbb_cell_id) {\n",
       "                        if (nbb_cells[i].get_text() == nbb_unformatted_code) {\n",
       "                             nbb_cells[i].set_text(nbb_formatted_code);\n",
       "                        }\n",
       "                        break;\n",
       "                    }\n",
       "                }\n",
       "            }, 500);\n",
       "            "
      ],
      "text/plain": [
       "<IPython.core.display.Javascript object>"
      ]
     },
     "metadata": {},
     "output_type": "display_data"
    }
   ],
   "source": [
    "#export\n",
    "def parent_labeler(fn): \n",
    "    return fn.parent.name\n",
    "\n",
    "\n",
    "def _label_by_func(ds, f, cls=ItemList): \n",
    "    return cls([f(o) for o in ds.items], path=ds.path)\n",
    "\n",
    "\n",
    "#This is a slightly different from what was seen during the lesson,\n",
    "#   we'll discuss the changes in lesson 11\n",
    "class LabeledData:\n",
    "    \n",
    "    def __init__(self, x, y, proc_x=None, proc_y=None):\n",
    "        self.x = self.process(x, proc_x)\n",
    "        self.y = self.process(y, proc_y)\n",
    "        self.proc_x = proc_x\n",
    "        self.proc_y = proc_y\n",
    "    \n",
    "    def process(self, il, proc): \n",
    "        return il.new(compose(il.items, proc))\n",
    "        \n",
    "    def __repr__(self): \n",
    "        return f'{self.__class__.__name__}\\nx: {self.x}\\ny: {self.y}\\n'\n",
    "    \n",
    "    def __getitem__(self,idx): \n",
    "        return self.x[idx], self.y[idx]\n",
    "    \n",
    "    def __len__(self): \n",
    "        return len(self.x)\n",
    "    \n",
    "    def x_obj(self, idx): \n",
    "        return self.obj(self.x, idx, self.proc_x)\n",
    "    \n",
    "    def y_obj(self, idx): \n",
    "        return self.obj(self.y, idx, self.proc_y)\n",
    "    \n",
    "    def obj(self, items, idx, procs):\n",
    "        isint = isinstance(idx, int) or (isinstance(idx, torch.LongTensor) and not idx.ndim)\n",
    "        item = items[idx]\n",
    "        for proc in reversed(listify(procs)):\n",
    "            item = proc._deprocess(item) if isint else proc.deprocess(item)\n",
    "        return item\n",
    "\n",
    "    @classmethod\n",
    "    def label_by_func(cls, il, f, proc_x=None, proc_y=None):\n",
    "        return cls(il, _label_by_func(il, f), proc_x=proc_x, proc_y=proc_y)\n",
    "\n",
    "def label_by_func(sd, f, proc_x=None, proc_y=None):\n",
    "    train = LabeledData.label_by_func(sd.train, f, proc_x=proc_x, proc_y=proc_y)\n",
    "    valid = LabeledData.label_by_func(sd.valid, f, proc_x=proc_x, proc_y=proc_y)\n",
    "    return SplitData(train,valid)"
   ]
  },
  {
   "cell_type": "code",
   "execution_count": 55,
   "metadata": {
    "hidden": true
   },
   "outputs": [
    {
     "data": {
      "application/javascript": [
       "\n",
       "            setTimeout(function() {\n",
       "                var nbb_cell_id = 55;\n",
       "                var nbb_unformatted_code = \"ll = label_by_func(sd, parent_labeler, proc_y=CategoryProcessor())\";\n",
       "                var nbb_formatted_code = \"ll = label_by_func(sd, parent_labeler, proc_y=CategoryProcessor())\";\n",
       "                var nbb_cells = Jupyter.notebook.get_cells();\n",
       "                for (var i = 0; i < nbb_cells.length; ++i) {\n",
       "                    if (nbb_cells[i].input_prompt_number == nbb_cell_id) {\n",
       "                        if (nbb_cells[i].get_text() == nbb_unformatted_code) {\n",
       "                             nbb_cells[i].set_text(nbb_formatted_code);\n",
       "                        }\n",
       "                        break;\n",
       "                    }\n",
       "                }\n",
       "            }, 500);\n",
       "            "
      ],
      "text/plain": [
       "<IPython.core.display.Javascript object>"
      ]
     },
     "metadata": {},
     "output_type": "display_data"
    }
   ],
   "source": [
    "ll = label_by_func(sd, parent_labeler, proc_y=CategoryProcessor())"
   ]
  },
  {
   "cell_type": "code",
   "execution_count": 56,
   "metadata": {
    "hidden": true
   },
   "outputs": [
    {
     "data": {
      "application/javascript": [
       "\n",
       "            setTimeout(function() {\n",
       "                var nbb_cell_id = 56;\n",
       "                var nbb_unformatted_code = \"assert ll.train.proc_y is ll.valid.proc_y\";\n",
       "                var nbb_formatted_code = \"assert ll.train.proc_y is ll.valid.proc_y\";\n",
       "                var nbb_cells = Jupyter.notebook.get_cells();\n",
       "                for (var i = 0; i < nbb_cells.length; ++i) {\n",
       "                    if (nbb_cells[i].input_prompt_number == nbb_cell_id) {\n",
       "                        if (nbb_cells[i].get_text() == nbb_unformatted_code) {\n",
       "                             nbb_cells[i].set_text(nbb_formatted_code);\n",
       "                        }\n",
       "                        break;\n",
       "                    }\n",
       "                }\n",
       "            }, 500);\n",
       "            "
      ],
      "text/plain": [
       "<IPython.core.display.Javascript object>"
      ]
     },
     "metadata": {},
     "output_type": "display_data"
    }
   ],
   "source": [
    "assert ll.train.proc_y is ll.valid.proc_y"
   ]
  },
  {
   "cell_type": "code",
   "execution_count": 57,
   "metadata": {
    "hidden": true
   },
   "outputs": [
    {
     "data": {
      "text/plain": [
       "ItemList (9469 items)\n",
       "[0, 0, 0, 0, 0, 0, 0, 0, 0, 0...]\n",
       "Path: /Users/imad/.fastai/data/imagenette2-160"
      ]
     },
     "execution_count": 57,
     "metadata": {},
     "output_type": "execute_result"
    },
    {
     "data": {
      "application/javascript": [
       "\n",
       "            setTimeout(function() {\n",
       "                var nbb_cell_id = 57;\n",
       "                var nbb_unformatted_code = \"ll.train.y\";\n",
       "                var nbb_formatted_code = \"ll.train.y\";\n",
       "                var nbb_cells = Jupyter.notebook.get_cells();\n",
       "                for (var i = 0; i < nbb_cells.length; ++i) {\n",
       "                    if (nbb_cells[i].input_prompt_number == nbb_cell_id) {\n",
       "                        if (nbb_cells[i].get_text() == nbb_unformatted_code) {\n",
       "                             nbb_cells[i].set_text(nbb_formatted_code);\n",
       "                        }\n",
       "                        break;\n",
       "                    }\n",
       "                }\n",
       "            }, 500);\n",
       "            "
      ],
      "text/plain": [
       "<IPython.core.display.Javascript object>"
      ]
     },
     "metadata": {},
     "output_type": "display_data"
    }
   ],
   "source": [
    "ll.train.y"
   ]
  },
  {
   "cell_type": "code",
   "execution_count": 59,
   "metadata": {
    "hidden": true
   },
   "outputs": [
    {
     "data": {
      "image/png": "[encoded data removed]",
      "text/plain": [
       "<PIL.Image.Image image mode=RGB size=231x160 at 0x7F864B5ED850>"
      ]
     },
     "execution_count": 59,
     "metadata": {},
     "output_type": "execute_result"
    },
    {
     "data": {
      "application/javascript": [
       "\n",
       "            setTimeout(function() {\n",
       "                var nbb_cell_id = 59;\n",
       "                var nbb_unformatted_code = \"ll.train.x[0]\";\n",
       "                var nbb_formatted_code = \"ll.train.x[0]\";\n",
       "                var nbb_cells = Jupyter.notebook.get_cells();\n",
       "                for (var i = 0; i < nbb_cells.length; ++i) {\n",
       "                    if (nbb_cells[i].input_prompt_number == nbb_cell_id) {\n",
       "                        if (nbb_cells[i].get_text() == nbb_unformatted_code) {\n",
       "                             nbb_cells[i].set_text(nbb_formatted_code);\n",
       "                        }\n",
       "                        break;\n",
       "                    }\n",
       "                }\n",
       "            }, 500);\n",
       "            "
      ],
      "text/plain": [
       "<IPython.core.display.Javascript object>"
      ]
     },
     "metadata": {},
     "output_type": "display_data"
    }
   ],
   "source": [
    "ll.train.x[0]"
   ]
  },
  {
   "cell_type": "code",
   "execution_count": 60,
   "metadata": {
    "hidden": true
   },
   "outputs": [
    {
     "data": {
      "text/plain": [
       "(0, 'n03394916', ['n03394916', 'n03394916'])"
      ]
     },
     "execution_count": 60,
     "metadata": {},
     "output_type": "execute_result"
    },
    {
     "data": {
      "application/javascript": [
       "\n",
       "            setTimeout(function() {\n",
       "                var nbb_cell_id = 60;\n",
       "                var nbb_unformatted_code = \"ll.train.y.items[0], ll.train.y_obj(0), ll.train.y_obj(slice(2))\";\n",
       "                var nbb_formatted_code = \"ll.train.y.items[0], ll.train.y_obj(0), ll.train.y_obj(slice(2))\";\n",
       "                var nbb_cells = Jupyter.notebook.get_cells();\n",
       "                for (var i = 0; i < nbb_cells.length; ++i) {\n",
       "                    if (nbb_cells[i].input_prompt_number == nbb_cell_id) {\n",
       "                        if (nbb_cells[i].get_text() == nbb_unformatted_code) {\n",
       "                             nbb_cells[i].set_text(nbb_formatted_code);\n",
       "                        }\n",
       "                        break;\n",
       "                    }\n",
       "                }\n",
       "            }, 500);\n",
       "            "
      ],
      "text/plain": [
       "<IPython.core.display.Javascript object>"
      ]
     },
     "metadata": {},
     "output_type": "display_data"
    }
   ],
   "source": [
    "ll.train.y.items[0], ll.train.y_obj(0), ll.train.y_obj(slice(2))"
   ]
  },
  {
   "cell_type": "code",
   "execution_count": 61,
   "metadata": {
    "hidden": true
   },
   "outputs": [
    {
     "data": {
      "text/plain": [
       "SplitData\n",
       "Train: LabeledData\n",
       "x: ImageList (9469 items)\n",
       "[Path('/Users/imad/.fastai/data/imagenette2-160/train/n03394916/ILSVRC2012_val_00046669.JPEG'), Path('/Users/imad/.fastai/data/imagenette2-160/train/n03394916/n03394916_58454.JPEG'), Path('/Users/imad/.fastai/data/imagenette2-160/train/n03394916/n03394916_32588.JPEG'), Path('/Users/imad/.fastai/data/imagenette2-160/train/n03394916/n03394916_33663.JPEG'), Path('/Users/imad/.fastai/data/imagenette2-160/train/n03394916/n03394916_27948.JPEG'), Path('/Users/imad/.fastai/data/imagenette2-160/train/n03394916/n03394916_38644.JPEG'), Path('/Users/imad/.fastai/data/imagenette2-160/train/n03394916/n03394916_35076.JPEG'), Path('/Users/imad/.fastai/data/imagenette2-160/train/n03394916/n03394916_38214.JPEG'), Path('/Users/imad/.fastai/data/imagenette2-160/train/n03394916/n03394916_23008.JPEG'), Path('/Users/imad/.fastai/data/imagenette2-160/train/n03394916/n03394916_33008.JPEG')...]\n",
       "Path: /Users/imad/.fastai/data/imagenette2-160\n",
       "y: ItemList (9469 items)\n",
       "[0, 0, 0, 0, 0, 0, 0, 0, 0, 0...]\n",
       "Path: /Users/imad/.fastai/data/imagenette2-160\n",
       "\n",
       "Valid: LabeledData\n",
       "x: ImageList (3925 items)\n",
       "[Path('/Users/imad/.fastai/data/imagenette2-160/val/n03394916/n03394916_32422.JPEG'), Path('/Users/imad/.fastai/data/imagenette2-160/val/n03394916/n03394916_69132.JPEG'), Path('/Users/imad/.fastai/data/imagenette2-160/val/n03394916/n03394916_33771.JPEG'), Path('/Users/imad/.fastai/data/imagenette2-160/val/n03394916/n03394916_29940.JPEG'), Path('/Users/imad/.fastai/data/imagenette2-160/val/n03394916/ILSVRC2012_val_00033682.JPEG'), Path('/Users/imad/.fastai/data/imagenette2-160/val/n03394916/n03394916_40160.JPEG'), Path('/Users/imad/.fastai/data/imagenette2-160/val/n03394916/n03394916_36420.JPEG'), Path('/Users/imad/.fastai/data/imagenette2-160/val/n03394916/n03394916_5011.JPEG'), Path('/Users/imad/.fastai/data/imagenette2-160/val/n03394916/n03394916_35871.JPEG'), Path('/Users/imad/.fastai/data/imagenette2-160/val/n03394916/n03394916_35172.JPEG')...]\n",
       "Path: /Users/imad/.fastai/data/imagenette2-160\n",
       "y: ItemList (3925 items)\n",
       "[0, 0, 0, 0, 0, 0, 0, 0, 0, 0...]\n",
       "Path: /Users/imad/.fastai/data/imagenette2-160\n"
      ]
     },
     "execution_count": 61,
     "metadata": {},
     "output_type": "execute_result"
    },
    {
     "data": {
      "application/javascript": [
       "\n",
       "            setTimeout(function() {\n",
       "                var nbb_cell_id = 61;\n",
       "                var nbb_unformatted_code = \"ll\";\n",
       "                var nbb_formatted_code = \"ll\";\n",
       "                var nbb_cells = Jupyter.notebook.get_cells();\n",
       "                for (var i = 0; i < nbb_cells.length; ++i) {\n",
       "                    if (nbb_cells[i].input_prompt_number == nbb_cell_id) {\n",
       "                        if (nbb_cells[i].get_text() == nbb_unformatted_code) {\n",
       "                             nbb_cells[i].set_text(nbb_formatted_code);\n",
       "                        }\n",
       "                        break;\n",
       "                    }\n",
       "                }\n",
       "            }, 500);\n",
       "            "
      ],
      "text/plain": [
       "<IPython.core.display.Javascript object>"
      ]
     },
     "metadata": {},
     "output_type": "display_data"
    }
   ],
   "source": [
    "ll"
   ]
  },
  {
   "cell_type": "markdown",
   "metadata": {
    "heading_collapsed": "true",
    "hidden": true
   },
   "source": [
    "### Transform to tensor"
   ]
  },
  {
   "cell_type": "markdown",
   "metadata": {
    "hidden": true
   },
   "source": [
    "[Jump_to lesson 11 video](https://course.fast.ai/videos/?lesson=11&t=3044)"
   ]
  },
  {
   "cell_type": "code",
   "execution_count": 62,
   "metadata": {
    "hidden": true
   },
   "outputs": [
    {
     "data": {
      "text/plain": [
       "(<PIL.Image.Image image mode=RGB size=231x160 at 0x7F864B621550>, 0)"
      ]
     },
     "execution_count": 62,
     "metadata": {},
     "output_type": "execute_result"
    },
    {
     "data": {
      "application/javascript": [
       "\n",
       "            setTimeout(function() {\n",
       "                var nbb_cell_id = 62;\n",
       "                var nbb_unformatted_code = \"ll.train[0]\";\n",
       "                var nbb_formatted_code = \"ll.train[0]\";\n",
       "                var nbb_cells = Jupyter.notebook.get_cells();\n",
       "                for (var i = 0; i < nbb_cells.length; ++i) {\n",
       "                    if (nbb_cells[i].input_prompt_number == nbb_cell_id) {\n",
       "                        if (nbb_cells[i].get_text() == nbb_unformatted_code) {\n",
       "                             nbb_cells[i].set_text(nbb_formatted_code);\n",
       "                        }\n",
       "                        break;\n",
       "                    }\n",
       "                }\n",
       "            }, 500);\n",
       "            "
      ],
      "text/plain": [
       "<IPython.core.display.Javascript object>"
      ]
     },
     "metadata": {},
     "output_type": "display_data"
    }
   ],
   "source": [
    "ll.train[0]"
   ]
  },
  {
   "cell_type": "code",
   "execution_count": 63,
   "metadata": {
    "hidden": true
   },
   "outputs": [
    {
     "data": {
      "image/png": "[encoded data removed]",
      "text/plain": [
       "<PIL.Image.Image image mode=RGB size=231x160 at 0x7F864B621B80>"
      ]
     },
     "execution_count": 63,
     "metadata": {},
     "output_type": "execute_result"
    },
    {
     "data": {
      "application/javascript": [
       "\n",
       "            setTimeout(function() {\n",
       "                var nbb_cell_id = 63;\n",
       "                var nbb_unformatted_code = \"ll.train[0][0]\";\n",
       "                var nbb_formatted_code = \"ll.train[0][0]\";\n",
       "                var nbb_cells = Jupyter.notebook.get_cells();\n",
       "                for (var i = 0; i < nbb_cells.length; ++i) {\n",
       "                    if (nbb_cells[i].input_prompt_number == nbb_cell_id) {\n",
       "                        if (nbb_cells[i].get_text() == nbb_unformatted_code) {\n",
       "                             nbb_cells[i].set_text(nbb_formatted_code);\n",
       "                        }\n",
       "                        break;\n",
       "                    }\n",
       "                }\n",
       "            }, 500);\n",
       "            "
      ],
      "text/plain": [
       "<IPython.core.display.Javascript object>"
      ]
     },
     "metadata": {},
     "output_type": "display_data"
    }
   ],
   "source": [
    "ll.train[0][0]"
   ]
  },
  {
   "cell_type": "markdown",
   "metadata": {
    "hidden": true
   },
   "source": [
    "To be able to put all our images in a batch, we need them to have all the same size. We can do this easily in PIL."
   ]
  },
  {
   "cell_type": "code",
   "execution_count": 64,
   "metadata": {
    "hidden": true
   },
   "outputs": [
    {
     "data": {
      "image/png": "[encoded data removed]",
      "text/plain": [
       "<PIL.Image.Image image mode=RGB size=128x128 at 0x7F864B52D7C0>"
      ]
     },
     "execution_count": 64,
     "metadata": {},
     "output_type": "execute_result"
    },
    {
     "data": {
      "application/javascript": [
       "\n",
       "            setTimeout(function() {\n",
       "                var nbb_cell_id = 64;\n",
       "                var nbb_unformatted_code = \"ll.train[0][0].resize((128,128))\";\n",
       "                var nbb_formatted_code = \"ll.train[0][0].resize((128, 128))\";\n",
       "                var nbb_cells = Jupyter.notebook.get_cells();\n",
       "                for (var i = 0; i < nbb_cells.length; ++i) {\n",
       "                    if (nbb_cells[i].input_prompt_number == nbb_cell_id) {\n",
       "                        if (nbb_cells[i].get_text() == nbb_unformatted_code) {\n",
       "                             nbb_cells[i].set_text(nbb_formatted_code);\n",
       "                        }\n",
       "                        break;\n",
       "                    }\n",
       "                }\n",
       "            }, 500);\n",
       "            "
      ],
      "text/plain": [
       "<IPython.core.display.Javascript object>"
      ]
     },
     "metadata": {},
     "output_type": "display_data"
    }
   ],
   "source": [
    "ll.train[0][0].resize((128,128))"
   ]
  },
  {
   "cell_type": "markdown",
   "metadata": {
    "hidden": true
   },
   "source": [
    "The first transform resizes to a given size, then we convert the image to a byte tensor before converting it to float and dividing by 255. We will investigate data augmentation transforms at length in notebook 10."
   ]
  },
  {
   "cell_type": "code",
   "execution_count": 65,
   "metadata": {
    "hidden": true
   },
   "outputs": [
    {
     "data": {
      "application/javascript": [
       "\n",
       "            setTimeout(function() {\n",
       "                var nbb_cell_id = 65;\n",
       "                var nbb_unformatted_code = \"#export\\nclass ResizeFixed(Transform):\\n    _order=10\\n    def __init__(self, size):\\n        if isinstance(size, int): \\n            size = (size, size)\\n        self.size = size\\n        \\n    def __call__(self, item):\\n        return item.resize(self.size, PIL.Image.BILINEAR)\\n\\n    \\ndef to_byte_tensor(item):\\n    res = torch.ByteTensor(torch.ByteStorage.from_buffer(item.tobytes()))\\n    w, h = item.size\\n    return res.view(h, w, -1).permute(2,0,1)\\nto_byte_tensor._order=20\\n\\ndef to_float_tensor(item):\\n    return item.float().div_(255.)\\nto_float_tensor._order=20\";\n",
       "                var nbb_formatted_code = \"# export\\nclass ResizeFixed(Transform):\\n    _order = 10\\n\\n    def __init__(self, size):\\n        if isinstance(size, int):\\n            size = (size, size)\\n        self.size = size\\n\\n    def __call__(self, item):\\n        return item.resize(self.size, PIL.Image.BILINEAR)\\n\\n\\ndef to_byte_tensor(item):\\n    res = torch.ByteTensor(torch.ByteStorage.from_buffer(item.tobytes()))\\n    w, h = item.size\\n    return res.view(h, w, -1).permute(2, 0, 1)\\n\\n\\nto_byte_tensor._order = 20\\n\\n\\ndef to_float_tensor(item):\\n    return item.float().div_(255.0)\\n\\n\\nto_float_tensor._order = 20\";\n",
       "                var nbb_cells = Jupyter.notebook.get_cells();\n",
       "                for (var i = 0; i < nbb_cells.length; ++i) {\n",
       "                    if (nbb_cells[i].input_prompt_number == nbb_cell_id) {\n",
       "                        if (nbb_cells[i].get_text() == nbb_unformatted_code) {\n",
       "                             nbb_cells[i].set_text(nbb_formatted_code);\n",
       "                        }\n",
       "                        break;\n",
       "                    }\n",
       "                }\n",
       "            }, 500);\n",
       "            "
      ],
      "text/plain": [
       "<IPython.core.display.Javascript object>"
      ]
     },
     "metadata": {},
     "output_type": "display_data"
    }
   ],
   "source": [
    "#export\n",
    "class ResizeFixed(Transform):\n",
    "    _order=10\n",
    "    def __init__(self, size):\n",
    "        if isinstance(size, int): \n",
    "            size = (size, size)\n",
    "        self.size = size\n",
    "        \n",
    "    def __call__(self, item):\n",
    "        return item.resize(self.size, PIL.Image.BILINEAR)\n",
    "\n",
    "    \n",
    "def to_byte_tensor(item):\n",
    "    res = torch.ByteTensor(torch.ByteStorage.from_buffer(item.tobytes()))\n",
    "    w, h = item.size\n",
    "    return res.view(h, w, -1).permute(2,0,1)\n",
    "to_byte_tensor._order=20\n",
    "\n",
    "def to_float_tensor(item):\n",
    "    return item.float().div_(255.)\n",
    "to_float_tensor._order=20"
   ]
  },
  {
   "cell_type": "code",
   "execution_count": 66,
   "metadata": {
    "hidden": true
   },
   "outputs": [
    {
     "data": {
      "application/javascript": [
       "\n",
       "            setTimeout(function() {\n",
       "                var nbb_cell_id = 66;\n",
       "                var nbb_unformatted_code = \"tfms = [make_rgb, ResizeFixed(128), to_byte_tensor, to_float_tensor]\\n\\nil = ImageList.from_files(path, tfms=tfms)\\nsd = SplitData.split_by_func(il, splitter)\\nll = label_by_func(sd, parent_labeler, proc_y=CategoryProcessor())\";\n",
       "                var nbb_formatted_code = \"tfms = [make_rgb, ResizeFixed(128), to_byte_tensor, to_float_tensor]\\n\\nil = ImageList.from_files(path, tfms=tfms)\\nsd = SplitData.split_by_func(il, splitter)\\nll = label_by_func(sd, parent_labeler, proc_y=CategoryProcessor())\";\n",
       "                var nbb_cells = Jupyter.notebook.get_cells();\n",
       "                for (var i = 0; i < nbb_cells.length; ++i) {\n",
       "                    if (nbb_cells[i].input_prompt_number == nbb_cell_id) {\n",
       "                        if (nbb_cells[i].get_text() == nbb_unformatted_code) {\n",
       "                             nbb_cells[i].set_text(nbb_formatted_code);\n",
       "                        }\n",
       "                        break;\n",
       "                    }\n",
       "                }\n",
       "            }, 500);\n",
       "            "
      ],
      "text/plain": [
       "<IPython.core.display.Javascript object>"
      ]
     },
     "metadata": {},
     "output_type": "display_data"
    }
   ],
   "source": [
    "tfms = [make_rgb, ResizeFixed(128), to_byte_tensor, to_float_tensor]\n",
    "\n",
    "il = ImageList.from_files(path, tfms=tfms)\n",
    "sd = SplitData.split_by_func(il, splitter)\n",
    "ll = label_by_func(sd, parent_labeler, proc_y=CategoryProcessor())"
   ]
  },
  {
   "cell_type": "markdown",
   "metadata": {
    "hidden": true
   },
   "source": [
    "Here is a little convenience function to show an image from the corresponding tensor."
   ]
  },
  {
   "cell_type": "code",
   "execution_count": 67,
   "metadata": {
    "hidden": true
   },
   "outputs": [
    {
     "data": {
      "application/javascript": [
       "\n",
       "            setTimeout(function() {\n",
       "                var nbb_cell_id = 67;\n",
       "                var nbb_unformatted_code = \"#export\\ndef show_image(im, figsize=(3,3)):\\n    plt.figure(figsize=figsize)\\n    plt.axis('off')\\n    plt.imshow(im.permute(1,2,0))\";\n",
       "                var nbb_formatted_code = \"# export\\ndef show_image(im, figsize=(3, 3)):\\n    plt.figure(figsize=figsize)\\n    plt.axis(\\\"off\\\")\\n    plt.imshow(im.permute(1, 2, 0))\";\n",
       "                var nbb_cells = Jupyter.notebook.get_cells();\n",
       "                for (var i = 0; i < nbb_cells.length; ++i) {\n",
       "                    if (nbb_cells[i].input_prompt_number == nbb_cell_id) {\n",
       "                        if (nbb_cells[i].get_text() == nbb_unformatted_code) {\n",
       "                             nbb_cells[i].set_text(nbb_formatted_code);\n",
       "                        }\n",
       "                        break;\n",
       "                    }\n",
       "                }\n",
       "            }, 500);\n",
       "            "
      ],
      "text/plain": [
       "<IPython.core.display.Javascript object>"
      ]
     },
     "metadata": {},
     "output_type": "display_data"
    }
   ],
   "source": [
    "#export\n",
    "def show_image(im, figsize=(3,3)):\n",
    "    plt.figure(figsize=figsize)\n",
    "    plt.axis('off')\n",
    "    plt.imshow(im.permute(1,2,0))"
   ]
  },
  {
   "cell_type": "code",
   "execution_count": 68,
   "metadata": {
    "hidden": true
   },
   "outputs": [
    {
     "data": {
      "text/plain": [
       "torch.Size([3, 128, 128])"
      ]
     },
     "execution_count": 68,
     "metadata": {},
     "output_type": "execute_result"
    },
    {
     "data": {
      "application/javascript": [
       "\n",
       "            setTimeout(function() {\n",
       "                var nbb_cell_id = 68;\n",
       "                var nbb_unformatted_code = \"x, y = ll.train[0]\\nx.shape\";\n",
       "                var nbb_formatted_code = \"x, y = ll.train[0]\\nx.shape\";\n",
       "                var nbb_cells = Jupyter.notebook.get_cells();\n",
       "                for (var i = 0; i < nbb_cells.length; ++i) {\n",
       "                    if (nbb_cells[i].input_prompt_number == nbb_cell_id) {\n",
       "                        if (nbb_cells[i].get_text() == nbb_unformatted_code) {\n",
       "                             nbb_cells[i].set_text(nbb_formatted_code);\n",
       "                        }\n",
       "                        break;\n",
       "                    }\n",
       "                }\n",
       "            }, 500);\n",
       "            "
      ],
      "text/plain": [
       "<IPython.core.display.Javascript object>"
      ]
     },
     "metadata": {},
     "output_type": "display_data"
    }
   ],
   "source": [
    "x, y = ll.train[0]\n",
    "x.shape"
   ]
  },
  {
   "cell_type": "code",
   "execution_count": 69,
   "metadata": {
    "hidden": true
   },
   "outputs": [
    {
     "data": {
      "image/png": "[encoded data removed]",
      "text/plain": [
       "<Figure size 216x216 with 1 Axes>"
      ]
     },
     "metadata": {
      "needs_background": "light"
     },
     "output_type": "display_data"
    },
    {
     "data": {
      "application/javascript": [
       "\n",
       "            setTimeout(function() {\n",
       "                var nbb_cell_id = 69;\n",
       "                var nbb_unformatted_code = \"show_image(x)\";\n",
       "                var nbb_formatted_code = \"show_image(x)\";\n",
       "                var nbb_cells = Jupyter.notebook.get_cells();\n",
       "                for (var i = 0; i < nbb_cells.length; ++i) {\n",
       "                    if (nbb_cells[i].input_prompt_number == nbb_cell_id) {\n",
       "                        if (nbb_cells[i].get_text() == nbb_unformatted_code) {\n",
       "                             nbb_cells[i].set_text(nbb_formatted_code);\n",
       "                        }\n",
       "                        break;\n",
       "                    }\n",
       "                }\n",
       "            }, 500);\n",
       "            "
      ],
      "text/plain": [
       "<IPython.core.display.Javascript object>"
      ]
     },
     "metadata": {},
     "output_type": "display_data"
    }
   ],
   "source": [
    "show_image(x)"
   ]
  },
  {
   "cell_type": "markdown",
   "metadata": {
    "heading_collapsed": "true"
   },
   "source": [
    "# Modeling"
   ]
  },
  {
   "cell_type": "markdown",
   "metadata": {
    "heading_collapsed": "true",
    "hidden": true
   },
   "source": [
    "### DataBunch"
   ]
  },
  {
   "cell_type": "markdown",
   "metadata": {
    "hidden": true
   },
   "source": [
    "Now we are ready to put our datasets together in a `DataBunch`."
   ]
  },
  {
   "cell_type": "code",
   "execution_count": 70,
   "metadata": {
    "hidden": true
   },
   "outputs": [
    {
     "data": {
      "application/javascript": [
       "\n",
       "            setTimeout(function() {\n",
       "                var nbb_cell_id = 70;\n",
       "                var nbb_unformatted_code = \"bs=64\";\n",
       "                var nbb_formatted_code = \"bs = 64\";\n",
       "                var nbb_cells = Jupyter.notebook.get_cells();\n",
       "                for (var i = 0; i < nbb_cells.length; ++i) {\n",
       "                    if (nbb_cells[i].input_prompt_number == nbb_cell_id) {\n",
       "                        if (nbb_cells[i].get_text() == nbb_unformatted_code) {\n",
       "                             nbb_cells[i].set_text(nbb_formatted_code);\n",
       "                        }\n",
       "                        break;\n",
       "                    }\n",
       "                }\n",
       "            }, 500);\n",
       "            "
      ],
      "text/plain": [
       "<IPython.core.display.Javascript object>"
      ]
     },
     "metadata": {},
     "output_type": "display_data"
    }
   ],
   "source": [
    "bs=64"
   ]
  },
  {
   "cell_type": "code",
   "execution_count": 71,
   "metadata": {
    "hidden": true
   },
   "outputs": [
    {
     "data": {
      "application/javascript": [
       "\n",
       "            setTimeout(function() {\n",
       "                var nbb_cell_id = 71;\n",
       "                var nbb_unformatted_code = \"train_dl,valid_dl = get_dls(ll.train,ll.valid,bs, num_workers=4)\";\n",
       "                var nbb_formatted_code = \"train_dl, valid_dl = get_dls(ll.train, ll.valid, bs, num_workers=4)\";\n",
       "                var nbb_cells = Jupyter.notebook.get_cells();\n",
       "                for (var i = 0; i < nbb_cells.length; ++i) {\n",
       "                    if (nbb_cells[i].input_prompt_number == nbb_cell_id) {\n",
       "                        if (nbb_cells[i].get_text() == nbb_unformatted_code) {\n",
       "                             nbb_cells[i].set_text(nbb_formatted_code);\n",
       "                        }\n",
       "                        break;\n",
       "                    }\n",
       "                }\n",
       "            }, 500);\n",
       "            "
      ],
      "text/plain": [
       "<IPython.core.display.Javascript object>"
      ]
     },
     "metadata": {},
     "output_type": "display_data"
    }
   ],
   "source": [
    "train_dl,valid_dl = get_dls(ll.train,ll.valid,bs, num_workers=4)"
   ]
  },
  {
   "cell_type": "code",
   "execution_count": 72,
   "metadata": {
    "hidden": true
   },
   "outputs": [
    {
     "data": {
      "text/plain": [
       "torch.Size([3, 128, 128])"
      ]
     },
     "execution_count": 72,
     "metadata": {},
     "output_type": "execute_result"
    },
    {
     "data": {
      "application/javascript": [
       "\n",
       "            setTimeout(function() {\n",
       "                var nbb_cell_id = 72;\n",
       "                var nbb_unformatted_code = \"x.shape\";\n",
       "                var nbb_formatted_code = \"x.shape\";\n",
       "                var nbb_cells = Jupyter.notebook.get_cells();\n",
       "                for (var i = 0; i < nbb_cells.length; ++i) {\n",
       "                    if (nbb_cells[i].input_prompt_number == nbb_cell_id) {\n",
       "                        if (nbb_cells[i].get_text() == nbb_unformatted_code) {\n",
       "                             nbb_cells[i].set_text(nbb_formatted_code);\n",
       "                        }\n",
       "                        break;\n",
       "                    }\n",
       "                }\n",
       "            }, 500);\n",
       "            "
      ],
      "text/plain": [
       "<IPython.core.display.Javascript object>"
      ]
     },
     "metadata": {},
     "output_type": "display_data"
    }
   ],
   "source": [
    "x.shape"
   ]
  },
  {
   "cell_type": "markdown",
   "metadata": {
    "hidden": true
   },
   "source": [
    "We can still see the images in a batch and get the corresponding classes."
   ]
  },
  {
   "cell_type": "code",
   "execution_count": 74,
   "metadata": {
    "hidden": true
   },
   "outputs": [
    {
     "data": {
      "text/plain": [
       "'n03394916'"
      ]
     },
     "execution_count": 74,
     "metadata": {},
     "output_type": "execute_result"
    },
    {
     "data": {
      "image/png": "[encoded data removed]",
      "text/plain": [
       "<Figure size 216x216 with 1 Axes>"
      ]
     },
     "metadata": {
      "needs_background": "light"
     },
     "output_type": "display_data"
    },
    {
     "data": {
      "application/javascript": [
       "\n",
       "            setTimeout(function() {\n",
       "                var nbb_cell_id = 74;\n",
       "                var nbb_unformatted_code = \"show_image(x)\\nll.train.proc_y.vocab[y]\";\n",
       "                var nbb_formatted_code = \"show_image(x)\\nll.train.proc_y.vocab[y]\";\n",
       "                var nbb_cells = Jupyter.notebook.get_cells();\n",
       "                for (var i = 0; i < nbb_cells.length; ++i) {\n",
       "                    if (nbb_cells[i].input_prompt_number == nbb_cell_id) {\n",
       "                        if (nbb_cells[i].get_text() == nbb_unformatted_code) {\n",
       "                             nbb_cells[i].set_text(nbb_formatted_code);\n",
       "                        }\n",
       "                        break;\n",
       "                    }\n",
       "                }\n",
       "            }, 500);\n",
       "            "
      ],
      "text/plain": [
       "<IPython.core.display.Javascript object>"
      ]
     },
     "metadata": {},
     "output_type": "display_data"
    }
   ],
   "source": [
    "show_image(x)\n",
    "ll.train.proc_y.vocab[y]"
   ]
  },
  {
   "cell_type": "code",
   "execution_count": 75,
   "metadata": {
    "hidden": true
   },
   "outputs": [
    {
     "data": {
      "text/plain": [
       "0"
      ]
     },
     "execution_count": 75,
     "metadata": {},
     "output_type": "execute_result"
    },
    {
     "data": {
      "application/javascript": [
       "\n",
       "            setTimeout(function() {\n",
       "                var nbb_cell_id = 75;\n",
       "                var nbb_unformatted_code = \"y\";\n",
       "                var nbb_formatted_code = \"y\";\n",
       "                var nbb_cells = Jupyter.notebook.get_cells();\n",
       "                for (var i = 0; i < nbb_cells.length; ++i) {\n",
       "                    if (nbb_cells[i].input_prompt_number == nbb_cell_id) {\n",
       "                        if (nbb_cells[i].get_text() == nbb_unformatted_code) {\n",
       "                             nbb_cells[i].set_text(nbb_formatted_code);\n",
       "                        }\n",
       "                        break;\n",
       "                    }\n",
       "                }\n",
       "            }, 500);\n",
       "            "
      ],
      "text/plain": [
       "<IPython.core.display.Javascript object>"
      ]
     },
     "metadata": {},
     "output_type": "display_data"
    }
   ],
   "source": [
    "y"
   ]
  },
  {
   "cell_type": "markdown",
   "metadata": {
    "hidden": true
   },
   "source": [
    "We change a little bit our `DataBunch` to add a few attributes: `c_in` (for channel in) and `c_out` (for channel out) instead of just `c`. This will help when we need to build our model."
   ]
  },
  {
   "cell_type": "code",
   "execution_count": 76,
   "metadata": {
    "hidden": true
   },
   "outputs": [
    {
     "data": {
      "application/javascript": [
       "\n",
       "            setTimeout(function() {\n",
       "                var nbb_cell_id = 76;\n",
       "                var nbb_unformatted_code = \"#export\\nclass DataBunch():\\n    def __init__(self, train_dl, valid_dl, c_in=None, c_out=None):\\n        self.train_dl,self.valid_dl,self.c_in,self.c_out = train_dl,valid_dl,c_in,c_out\\n\\n    @property\\n    def train_ds(self): return self.train_dl.dataset\\n\\n    @property\\n    def valid_ds(self): return self.valid_dl.dataset\";\n",
       "                var nbb_formatted_code = \"# export\\nclass DataBunch:\\n    def __init__(self, train_dl, valid_dl, c_in=None, c_out=None):\\n        self.train_dl, self.valid_dl, self.c_in, self.c_out = (\\n            train_dl,\\n            valid_dl,\\n            c_in,\\n            c_out,\\n        )\\n\\n    @property\\n    def train_ds(self):\\n        return self.train_dl.dataset\\n\\n    @property\\n    def valid_ds(self):\\n        return self.valid_dl.dataset\";\n",
       "                var nbb_cells = Jupyter.notebook.get_cells();\n",
       "                for (var i = 0; i < nbb_cells.length; ++i) {\n",
       "                    if (nbb_cells[i].input_prompt_number == nbb_cell_id) {\n",
       "                        if (nbb_cells[i].get_text() == nbb_unformatted_code) {\n",
       "                             nbb_cells[i].set_text(nbb_formatted_code);\n",
       "                        }\n",
       "                        break;\n",
       "                    }\n",
       "                }\n",
       "            }, 500);\n",
       "            "
      ],
      "text/plain": [
       "<IPython.core.display.Javascript object>"
      ]
     },
     "metadata": {},
     "output_type": "display_data"
    }
   ],
   "source": [
    "#export\n",
    "class DataBunch():\n",
    "    def __init__(self, train_dl, valid_dl, c_in=None, c_out=None):\n",
    "        self.train_dl,self.valid_dl,self.c_in,self.c_out = train_dl,valid_dl,c_in,c_out\n",
    "\n",
    "    @property\n",
    "    def train_ds(self): return self.train_dl.dataset\n",
    "\n",
    "    @property\n",
    "    def valid_ds(self): return self.valid_dl.dataset"
   ]
  },
  {
   "cell_type": "markdown",
   "metadata": {
    "hidden": true
   },
   "source": [
    "Then we define a function that goes directly from the `SplitData` to a `DataBunch`."
   ]
  },
  {
   "cell_type": "code",
   "execution_count": 77,
   "metadata": {
    "hidden": true
   },
   "outputs": [
    {
     "data": {
      "application/javascript": [
       "\n",
       "            setTimeout(function() {\n",
       "                var nbb_cell_id = 77;\n",
       "                var nbb_unformatted_code = \"#export\\ndef databunchify(sd, bs, c_in=None, c_out=None, **kwargs):\\n    dls = get_dls(sd.train, sd.valid, bs, **kwargs)\\n    return DataBunch(*dls, c_in=c_in, c_out=c_out)\\n\\nSplitData.to_databunch = databunchify\";\n",
       "                var nbb_formatted_code = \"# export\\ndef databunchify(sd, bs, c_in=None, c_out=None, **kwargs):\\n    dls = get_dls(sd.train, sd.valid, bs, **kwargs)\\n    return DataBunch(*dls, c_in=c_in, c_out=c_out)\\n\\n\\nSplitData.to_databunch = databunchify\";\n",
       "                var nbb_cells = Jupyter.notebook.get_cells();\n",
       "                for (var i = 0; i < nbb_cells.length; ++i) {\n",
       "                    if (nbb_cells[i].input_prompt_number == nbb_cell_id) {\n",
       "                        if (nbb_cells[i].get_text() == nbb_unformatted_code) {\n",
       "                             nbb_cells[i].set_text(nbb_formatted_code);\n",
       "                        }\n",
       "                        break;\n",
       "                    }\n",
       "                }\n",
       "            }, 500);\n",
       "            "
      ],
      "text/plain": [
       "<IPython.core.display.Javascript object>"
      ]
     },
     "metadata": {},
     "output_type": "display_data"
    }
   ],
   "source": [
    "#export\n",
    "def databunchify(sd, bs, c_in=None, c_out=None, **kwargs):\n",
    "    dls = get_dls(sd.train, sd.valid, bs, **kwargs)\n",
    "    return DataBunch(*dls, c_in=c_in, c_out=c_out)\n",
    "\n",
    "SplitData.to_databunch = databunchify"
   ]
  },
  {
   "cell_type": "markdown",
   "metadata": {
    "hidden": true
   },
   "source": [
    "This gives us the full summary on how to grab our data and put it in a `DataBunch`:"
   ]
  },
  {
   "cell_type": "code",
   "execution_count": 78,
   "metadata": {
    "hidden": true
   },
   "outputs": [
    {
     "data": {
      "application/javascript": [
       "\n",
       "            setTimeout(function() {\n",
       "                var nbb_cell_id = 78;\n",
       "                var nbb_unformatted_code = \"path = untar_data(URLs.IMAGENETTE_160)\\ntfms = [make_rgb, ResizeFixed(128), to_byte_tensor, to_float_tensor]\\n\\nil = ImageList.from_files(path, tfms=tfms)\\nsd = SplitData.split_by_func(il, partial(grandparent_splitter, valid_name='val'))\\nll = label_by_func(sd, parent_labeler, proc_y=CategoryProcessor())\\ndata = ll.to_databunch(bs, c_in=3, c_out=10, num_workers=4)\";\n",
       "                var nbb_formatted_code = \"path = untar_data(URLs.IMAGENETTE_160)\\ntfms = [make_rgb, ResizeFixed(128), to_byte_tensor, to_float_tensor]\\n\\nil = ImageList.from_files(path, tfms=tfms)\\nsd = SplitData.split_by_func(il, partial(grandparent_splitter, valid_name=\\\"val\\\"))\\nll = label_by_func(sd, parent_labeler, proc_y=CategoryProcessor())\\ndata = ll.to_databunch(bs, c_in=3, c_out=10, num_workers=4)\";\n",
       "                var nbb_cells = Jupyter.notebook.get_cells();\n",
       "                for (var i = 0; i < nbb_cells.length; ++i) {\n",
       "                    if (nbb_cells[i].input_prompt_number == nbb_cell_id) {\n",
       "                        if (nbb_cells[i].get_text() == nbb_unformatted_code) {\n",
       "                             nbb_cells[i].set_text(nbb_formatted_code);\n",
       "                        }\n",
       "                        break;\n",
       "                    }\n",
       "                }\n",
       "            }, 500);\n",
       "            "
      ],
      "text/plain": [
       "<IPython.core.display.Javascript object>"
      ]
     },
     "metadata": {},
     "output_type": "display_data"
    }
   ],
   "source": [
    "path = untar_data(URLs.IMAGENETTE_160)\n",
    "tfms = [make_rgb, ResizeFixed(128), to_byte_tensor, to_float_tensor]\n",
    "\n",
    "il = ImageList.from_files(path, tfms=tfms)\n",
    "sd = SplitData.split_by_func(il, partial(grandparent_splitter, valid_name='val'))\n",
    "ll = label_by_func(sd, parent_labeler, proc_y=CategoryProcessor())\n",
    "data = ll.to_databunch(bs, c_in=3, c_out=10, num_workers=4)"
   ]
  },
  {
   "cell_type": "markdown",
   "metadata": {
    "heading_collapsed": "true",
    "hidden": true
   },
   "source": [
    "### Model"
   ]
  },
  {
   "cell_type": "code",
   "execution_count": 97,
   "metadata": {
    "hidden": true
   },
   "outputs": [
    {
     "data": {
      "application/javascript": [
       "\n",
       "            setTimeout(function() {\n",
       "                var nbb_cell_id = 97;\n",
       "                var nbb_unformatted_code = \"cbfs = [partial(AvgStatsCallback,accuracy),]\\n#         CudaCallback]\";\n",
       "                var nbb_formatted_code = \"cbfs = [partial(AvgStatsCallback, accuracy)]\\n#         CudaCallback]\";\n",
       "                var nbb_cells = Jupyter.notebook.get_cells();\n",
       "                for (var i = 0; i < nbb_cells.length; ++i) {\n",
       "                    if (nbb_cells[i].input_prompt_number == nbb_cell_id) {\n",
       "                        if (nbb_cells[i].get_text() == nbb_unformatted_code) {\n",
       "                             nbb_cells[i].set_text(nbb_formatted_code);\n",
       "                        }\n",
       "                        break;\n",
       "                    }\n",
       "                }\n",
       "            }, 500);\n",
       "            "
      ],
      "text/plain": [
       "<IPython.core.display.Javascript object>"
      ]
     },
     "metadata": {},
     "output_type": "display_data"
    }
   ],
   "source": [
    "cbfs = [partial(AvgStatsCallback,accuracy),]\n",
    "#         CudaCallback]"
   ]
  },
  {
   "cell_type": "markdown",
   "metadata": {
    "hidden": true
   },
   "source": [
    "We will normalize with the statistics from a batch."
   ]
  },
  {
   "cell_type": "code",
   "execution_count": 98,
   "metadata": {
    "hidden": true
   },
   "outputs": [
    {
     "data": {
      "text/plain": [
       "(tensor([0.5861, 0.5792, 0.5655]), tensor([0.2536, 0.2538, 0.2577]))"
      ]
     },
     "execution_count": 98,
     "metadata": {},
     "output_type": "execute_result"
    },
    {
     "data": {
      "application/javascript": [
       "\n",
       "            setTimeout(function() {\n",
       "                var nbb_cell_id = 98;\n",
       "                var nbb_unformatted_code = \"m,s = x[None].mean((0,2,3)),x[None].std((0,2,3))\\nm,s\";\n",
       "                var nbb_formatted_code = \"m, s = x[None].mean((0, 2, 3)), x[None].std((0, 2, 3))\\nm, s\";\n",
       "                var nbb_cells = Jupyter.notebook.get_cells();\n",
       "                for (var i = 0; i < nbb_cells.length; ++i) {\n",
       "                    if (nbb_cells[i].input_prompt_number == nbb_cell_id) {\n",
       "                        if (nbb_cells[i].get_text() == nbb_unformatted_code) {\n",
       "                             nbb_cells[i].set_text(nbb_formatted_code);\n",
       "                        }\n",
       "                        break;\n",
       "                    }\n",
       "                }\n",
       "            }, 500);\n",
       "            "
      ],
      "text/plain": [
       "<IPython.core.display.Javascript object>"
      ]
     },
     "metadata": {},
     "output_type": "display_data"
    }
   ],
   "source": [
    "m,s = x[None].mean((0,2,3)),x[None].std((0,2,3))\n",
    "m,s"
   ]
  },
  {
   "cell_type": "code",
   "execution_count": 99,
   "metadata": {
    "hidden": true
   },
   "outputs": [
    {
     "data": {
      "application/javascript": [
       "\n",
       "            setTimeout(function() {\n",
       "                var nbb_cell_id = 99;\n",
       "                var nbb_unformatted_code = \"#export\\ndef normalize_chan(x, mean, std):\\n    return (x-mean[...,None,None]) / std[...,None,None]\\n\\n_m = tensor([0.47, 0.48, 0.45])\\n_s = tensor([0.29, 0.28, 0.30])\\nnorm_imagenette = partial(normalize_chan, mean=_m, std=_s)\";\n",
       "                var nbb_formatted_code = \"# export\\ndef normalize_chan(x, mean, std):\\n    return (x - mean[..., None, None]) / std[..., None, None]\\n\\n\\n_m = tensor([0.47, 0.48, 0.45])\\n_s = tensor([0.29, 0.28, 0.30])\\nnorm_imagenette = partial(normalize_chan, mean=_m, std=_s)\";\n",
       "                var nbb_cells = Jupyter.notebook.get_cells();\n",
       "                for (var i = 0; i < nbb_cells.length; ++i) {\n",
       "                    if (nbb_cells[i].input_prompt_number == nbb_cell_id) {\n",
       "                        if (nbb_cells[i].get_text() == nbb_unformatted_code) {\n",
       "                             nbb_cells[i].set_text(nbb_formatted_code);\n",
       "                        }\n",
       "                        break;\n",
       "                    }\n",
       "                }\n",
       "            }, 500);\n",
       "            "
      ],
      "text/plain": [
       "<IPython.core.display.Javascript object>"
      ]
     },
     "metadata": {},
     "output_type": "display_data"
    }
   ],
   "source": [
    "#export\n",
    "def normalize_chan(x, mean, std):\n",
    "    return (x-mean[...,None,None]) / std[...,None,None]\n",
    "\n",
    "_m = tensor([0.47, 0.48, 0.45])\n",
    "_s = tensor([0.29, 0.28, 0.30])\n",
    "norm_imagenette = partial(normalize_chan, mean=_m, std=_s)"
   ]
  },
  {
   "cell_type": "code",
   "execution_count": 100,
   "metadata": {
    "hidden": true
   },
   "outputs": [
    {
     "data": {
      "application/javascript": [
       "\n",
       "            setTimeout(function() {\n",
       "                var nbb_cell_id = 100;\n",
       "                var nbb_unformatted_code = \"cbfs.append(partial(BatchTransformXCallback, norm_imagenette))\";\n",
       "                var nbb_formatted_code = \"cbfs.append(partial(BatchTransformXCallback, norm_imagenette))\";\n",
       "                var nbb_cells = Jupyter.notebook.get_cells();\n",
       "                for (var i = 0; i < nbb_cells.length; ++i) {\n",
       "                    if (nbb_cells[i].input_prompt_number == nbb_cell_id) {\n",
       "                        if (nbb_cells[i].get_text() == nbb_unformatted_code) {\n",
       "                             nbb_cells[i].set_text(nbb_formatted_code);\n",
       "                        }\n",
       "                        break;\n",
       "                    }\n",
       "                }\n",
       "            }, 500);\n",
       "            "
      ],
      "text/plain": [
       "<IPython.core.display.Javascript object>"
      ]
     },
     "metadata": {},
     "output_type": "display_data"
    }
   ],
   "source": [
    "cbfs.append(partial(BatchTransformXCallback, norm_imagenette))"
   ]
  },
  {
   "cell_type": "code",
   "execution_count": 101,
   "metadata": {
    "hidden": true
   },
   "outputs": [
    {
     "data": {
      "application/javascript": [
       "\n",
       "            setTimeout(function() {\n",
       "                var nbb_cell_id = 101;\n",
       "                var nbb_unformatted_code = \"nfs = [64,64,128,256]\";\n",
       "                var nbb_formatted_code = \"nfs = [64, 64, 128, 256]\";\n",
       "                var nbb_cells = Jupyter.notebook.get_cells();\n",
       "                for (var i = 0; i < nbb_cells.length; ++i) {\n",
       "                    if (nbb_cells[i].input_prompt_number == nbb_cell_id) {\n",
       "                        if (nbb_cells[i].get_text() == nbb_unformatted_code) {\n",
       "                             nbb_cells[i].set_text(nbb_formatted_code);\n",
       "                        }\n",
       "                        break;\n",
       "                    }\n",
       "                }\n",
       "            }, 500);\n",
       "            "
      ],
      "text/plain": [
       "<IPython.core.display.Javascript object>"
      ]
     },
     "metadata": {},
     "output_type": "display_data"
    }
   ],
   "source": [
    "nfs = [64,64,128,256]"
   ]
  },
  {
   "cell_type": "markdown",
   "metadata": {
    "hidden": true
   },
   "source": [
    "We build our model using [Bag of Tricks for Image Classification with Convolutional Neural Networks](https://arxiv.org/abs/1812.01187), in particular: we don't use a big conv 7x7 at first but three 3x3 convs, and don't go directly from 3 channels to 64 but progressively add those."
   ]
  },
  {
   "cell_type": "code",
   "execution_count": 102,
   "metadata": {
    "hidden": true
   },
   "outputs": [
    {
     "data": {
      "application/javascript": [
       "\n",
       "            setTimeout(function() {\n",
       "                var nbb_cell_id = 102;\n",
       "                var nbb_unformatted_code = \"#export\\nimport math\\ndef prev_pow_2(x): return 2**math.floor(math.log2(x))\\n\\ndef get_cnn_layers(data, nfs, layer, **kwargs):\\n    def f(ni, nf, stride=2): return layer(ni, nf, 3, stride=stride, **kwargs)\\n    l1 = data.c_in\\n    l2 = prev_pow_2(l1*3*3)\\n    layers =  [f(l1  , l2  , stride=1),\\n               f(l2  , l2*2, stride=2),\\n               f(l2*2, l2*4, stride=2)]\\n    nfs = [l2*4] + nfs\\n    layers += [f(nfs[i], nfs[i+1]) for i in range(len(nfs)-1)]\\n    layers += [nn.AdaptiveAvgPool2d(1), Lambda(flatten), \\n               nn.Linear(nfs[-1], data.c_out)]\\n    return layers\\n\\ndef get_cnn_model(data, nfs, layer, **kwargs):\\n    return nn.Sequential(*get_cnn_layers(data, nfs, layer, **kwargs))\\n\\ndef get_learn_run(nfs, data, lr, layer, cbs=None, opt_func=None, **kwargs):\\n    model = get_cnn_model(data, nfs, layer, **kwargs)\\n    init_cnn(model)\\n    return get_learner(model, data, lr=lr, cbs=cbs, opt_func=opt_func)\";\n",
       "                var nbb_formatted_code = \"# export\\nimport math\\n\\n\\ndef prev_pow_2(x):\\n    return 2 ** math.floor(math.log2(x))\\n\\n\\ndef get_cnn_layers(data, nfs, layer, **kwargs):\\n    def f(ni, nf, stride=2):\\n        return layer(ni, nf, 3, stride=stride, **kwargs)\\n\\n    l1 = data.c_in\\n    l2 = prev_pow_2(l1 * 3 * 3)\\n    layers = [f(l1, l2, stride=1), f(l2, l2 * 2, stride=2), f(l2 * 2, l2 * 4, stride=2)]\\n    nfs = [l2 * 4] + nfs\\n    layers += [f(nfs[i], nfs[i + 1]) for i in range(len(nfs) - 1)]\\n    layers += [nn.AdaptiveAvgPool2d(1), Lambda(flatten), nn.Linear(nfs[-1], data.c_out)]\\n    return layers\\n\\n\\ndef get_cnn_model(data, nfs, layer, **kwargs):\\n    return nn.Sequential(*get_cnn_layers(data, nfs, layer, **kwargs))\\n\\n\\ndef get_learn_run(nfs, data, lr, layer, cbs=None, opt_func=None, **kwargs):\\n    model = get_cnn_model(data, nfs, layer, **kwargs)\\n    init_cnn(model)\\n    return get_learner(model, data, lr=lr, cbs=cbs, opt_func=opt_func)\";\n",
       "                var nbb_cells = Jupyter.notebook.get_cells();\n",
       "                for (var i = 0; i < nbb_cells.length; ++i) {\n",
       "                    if (nbb_cells[i].input_prompt_number == nbb_cell_id) {\n",
       "                        if (nbb_cells[i].get_text() == nbb_unformatted_code) {\n",
       "                             nbb_cells[i].set_text(nbb_formatted_code);\n",
       "                        }\n",
       "                        break;\n",
       "                    }\n",
       "                }\n",
       "            }, 500);\n",
       "            "
      ],
      "text/plain": [
       "<IPython.core.display.Javascript object>"
      ]
     },
     "metadata": {},
     "output_type": "display_data"
    }
   ],
   "source": [
    "#export\n",
    "import math\n",
    "def prev_pow_2(x): return 2**math.floor(math.log2(x))\n",
    "\n",
    "def get_cnn_layers(data, nfs, layer, **kwargs):\n",
    "    def f(ni, nf, stride=2): return layer(ni, nf, 3, stride=stride, **kwargs)\n",
    "    l1 = data.c_in\n",
    "    l2 = prev_pow_2(l1*3*3)\n",
    "    layers =  [f(l1  , l2  , stride=1),\n",
    "               f(l2  , l2*2, stride=2),\n",
    "               f(l2*2, l2*4, stride=2)]\n",
    "    nfs = [l2*4] + nfs\n",
    "    layers += [f(nfs[i], nfs[i+1]) for i in range(len(nfs)-1)]\n",
    "    layers += [nn.AdaptiveAvgPool2d(1), Lambda(flatten), \n",
    "               nn.Linear(nfs[-1], data.c_out)]\n",
    "    return layers\n",
    "\n",
    "def get_cnn_model(data, nfs, layer, **kwargs):\n",
    "    return nn.Sequential(*get_cnn_layers(data, nfs, layer, **kwargs))\n",
    "\n",
    "def get_learn_run(nfs, data, lr, layer, cbs=None, opt_func=None, **kwargs):\n",
    "    model = get_cnn_model(data, nfs, layer, **kwargs)\n",
    "    init_cnn(model)\n",
    "    return get_learner(model, data, lr=lr, cbs=cbs, opt_func=opt_func)"
   ]
  },
  {
   "cell_type": "code",
   "execution_count": 103,
   "metadata": {
    "hidden": true
   },
   "outputs": [
    {
     "data": {
      "application/javascript": [
       "\n",
       "            setTimeout(function() {\n",
       "                var nbb_cell_id = 103;\n",
       "                var nbb_unformatted_code = \"sched = combine_scheds([0.3,0.7], cos_1cycle_anneal(0.1,0.3,0.05))\";\n",
       "                var nbb_formatted_code = \"sched = combine_scheds([0.3, 0.7], cos_1cycle_anneal(0.1, 0.3, 0.05))\";\n",
       "                var nbb_cells = Jupyter.notebook.get_cells();\n",
       "                for (var i = 0; i < nbb_cells.length; ++i) {\n",
       "                    if (nbb_cells[i].input_prompt_number == nbb_cell_id) {\n",
       "                        if (nbb_cells[i].get_text() == nbb_unformatted_code) {\n",
       "                             nbb_cells[i].set_text(nbb_formatted_code);\n",
       "                        }\n",
       "                        break;\n",
       "                    }\n",
       "                }\n",
       "            }, 500);\n",
       "            "
      ],
      "text/plain": [
       "<IPython.core.display.Javascript object>"
      ]
     },
     "metadata": {},
     "output_type": "display_data"
    }
   ],
   "source": [
    "sched = combine_scheds([0.3,0.7], cos_1cycle_anneal(0.1,0.3,0.05))"
   ]
  },
  {
   "cell_type": "code",
   "execution_count": 104,
   "metadata": {
    "hidden": true
   },
   "outputs": [
    {
     "data": {
      "application/javascript": [
       "\n",
       "            setTimeout(function() {\n",
       "                var nbb_cell_id = 104;\n",
       "                var nbb_unformatted_code = \"learner = get_learn_run(nfs, data, 0.2, conv_layer, cbs=cbfs+[\\n    partial(ParamScheduler, 'lr', sched)\\n])\";\n",
       "                var nbb_formatted_code = \"learner = get_learn_run(\\n    nfs, data, 0.2, conv_layer, cbs=cbfs + [partial(ParamScheduler, \\\"lr\\\", sched)]\\n)\";\n",
       "                var nbb_cells = Jupyter.notebook.get_cells();\n",
       "                for (var i = 0; i < nbb_cells.length; ++i) {\n",
       "                    if (nbb_cells[i].input_prompt_number == nbb_cell_id) {\n",
       "                        if (nbb_cells[i].get_text() == nbb_unformatted_code) {\n",
       "                             nbb_cells[i].set_text(nbb_formatted_code);\n",
       "                        }\n",
       "                        break;\n",
       "                    }\n",
       "                }\n",
       "            }, 500);\n",
       "            "
      ],
      "text/plain": [
       "<IPython.core.display.Javascript object>"
      ]
     },
     "metadata": {},
     "output_type": "display_data"
    }
   ],
   "source": [
    "learner = get_learn_run(nfs, data, 0.2, conv_layer, cbs=cbfs+[\n",
    "    partial(ParamScheduler, 'lr', sched)\n",
    "])"
   ]
  },
  {
   "cell_type": "markdown",
   "metadata": {
    "hidden": true
   },
   "source": [
    "Let's have a look at our model using Hooks. We print the layers and the shapes of their outputs."
   ]
  },
  {
   "cell_type": "code",
   "execution_count": 105,
   "metadata": {
    "hidden": true
   },
   "outputs": [
    {
     "data": {
      "application/javascript": [
       "\n",
       "            setTimeout(function() {\n",
       "                var nbb_cell_id = 105;\n",
       "                var nbb_unformatted_code = \"#export\\ndef model_summary(learner, data, find_all=False):\\n    xb,yb = get_batch(data.valid_dl, learner)\\n    device = next(learner.model.parameters()).device#Model may not be on the GPU yet\\n    xb,yb = xb.to(device),yb.to(device)\\n    mods = find_modules(learner.model, is_lin_layer) if find_all else learner.model.children()\\n    f = lambda hook,mod,inp,out: print(f\\\"{mod}\\\\n{out.shape}\\\\n\\\")\\n    with Hooks(mods, f) as hooks: learner.model(xb)\";\n",
       "                var nbb_formatted_code = \"# export\\ndef model_summary(learner, data, find_all=False):\\n    xb, yb = get_batch(data.valid_dl, learner)\\n    device = next(learner.model.parameters()).device  # Model may not be on the GPU yet\\n    xb, yb = xb.to(device), yb.to(device)\\n    mods = (\\n        find_modules(learner.model, is_lin_layer)\\n        if find_all\\n        else learner.model.children()\\n    )\\n    f = lambda hook, mod, inp, out: print(f\\\"{mod}\\\\n{out.shape}\\\\n\\\")\\n    with Hooks(mods, f) as hooks:\\n        learner.model(xb)\";\n",
       "                var nbb_cells = Jupyter.notebook.get_cells();\n",
       "                for (var i = 0; i < nbb_cells.length; ++i) {\n",
       "                    if (nbb_cells[i].input_prompt_number == nbb_cell_id) {\n",
       "                        if (nbb_cells[i].get_text() == nbb_unformatted_code) {\n",
       "                             nbb_cells[i].set_text(nbb_formatted_code);\n",
       "                        }\n",
       "                        break;\n",
       "                    }\n",
       "                }\n",
       "            }, 500);\n",
       "            "
      ],
      "text/plain": [
       "<IPython.core.display.Javascript object>"
      ]
     },
     "metadata": {},
     "output_type": "display_data"
    }
   ],
   "source": [
    "#export\n",
    "def model_summary(learner, data, find_all=False):\n",
    "    xb,yb = get_batch(data.valid_dl, learner)\n",
    "    device = next(learner.model.parameters()).device#Model may not be on the GPU yet\n",
    "    xb,yb = xb.to(device),yb.to(device)\n",
    "    mods = find_modules(learner.model, is_lin_layer) if find_all else learner.model.children()\n",
    "    f = lambda hook,mod,inp,out: print(f\"{mod}\\n{out.shape}\\n\")\n",
    "    with Hooks(mods, f) as hooks: learner.model(xb)"
   ]
  },
  {
   "cell_type": "code",
   "execution_count": 114,
   "metadata": {},
   "outputs": [
    {
     "data": {
      "application/javascript": [
       "\n",
       "            setTimeout(function() {\n",
       "                var nbb_cell_id = 114;\n",
       "                var nbb_unformatted_code = \"from torch.optim import SGD\";\n",
       "                var nbb_formatted_code = \"from torch.optim import SGD\";\n",
       "                var nbb_cells = Jupyter.notebook.get_cells();\n",
       "                for (var i = 0; i < nbb_cells.length; ++i) {\n",
       "                    if (nbb_cells[i].input_prompt_number == nbb_cell_id) {\n",
       "                        if (nbb_cells[i].get_text() == nbb_unformatted_code) {\n",
       "                             nbb_cells[i].set_text(nbb_formatted_code);\n",
       "                        }\n",
       "                        break;\n",
       "                    }\n",
       "                }\n",
       "            }, 500);\n",
       "            "
      ],
      "text/plain": [
       "<IPython.core.display.Javascript object>"
      ]
     },
     "metadata": {},
     "output_type": "display_data"
    }
   ],
   "source": [
    "from torch.optim import SGD"
   ]
  },
  {
   "cell_type": "code",
   "execution_count": 109,
   "metadata": {
    "hidden": true
   },
   "outputs": [
    {
     "data": {
      "application/javascript": [
       "\n",
       "            setTimeout(function() {\n",
       "                var nbb_cell_id = 109;\n",
       "                var nbb_unformatted_code = \"# model_summary(learner, data)\";\n",
       "                var nbb_formatted_code = \"# model_summary(learner, data)\";\n",
       "                var nbb_cells = Jupyter.notebook.get_cells();\n",
       "                for (var i = 0; i < nbb_cells.length; ++i) {\n",
       "                    if (nbb_cells[i].input_prompt_number == nbb_cell_id) {\n",
       "                        if (nbb_cells[i].get_text() == nbb_unformatted_code) {\n",
       "                             nbb_cells[i].set_text(nbb_formatted_code);\n",
       "                        }\n",
       "                        break;\n",
       "                    }\n",
       "                }\n",
       "            }, 500);\n",
       "            "
      ],
      "text/plain": [
       "<IPython.core.display.Javascript object>"
      ]
     },
     "metadata": {},
     "output_type": "display_data"
    }
   ],
   "source": [
    "# model_summary(learner, data)"
   ]
  },
  {
   "cell_type": "markdown",
   "metadata": {
    "hidden": true
   },
   "source": [
    "And we can train the model:"
   ]
  },
  {
   "cell_type": "code",
   "execution_count": 220,
   "metadata": {
    "hidden": true
   },
   "outputs": [
    {
     "data": {
      "application/javascript": [
       "\n",
       "            setTimeout(function() {\n",
       "                var nbb_cell_id = 220;\n",
       "                var nbb_unformatted_code = \"# %time run.fit(5, learn)\";\n",
       "                var nbb_formatted_code = \"# %time run.fit(5, learn)\";\n",
       "                var nbb_cells = Jupyter.notebook.get_cells();\n",
       "                for (var i = 0; i < nbb_cells.length; ++i) {\n",
       "                    if (nbb_cells[i].input_prompt_number == nbb_cell_id) {\n",
       "                        if (nbb_cells[i].get_text() == nbb_unformatted_code) {\n",
       "                             nbb_cells[i].set_text(nbb_formatted_code);\n",
       "                        }\n",
       "                        break;\n",
       "                    }\n",
       "                }\n",
       "            }, 500);\n",
       "            "
      ],
      "text/plain": [
       "<IPython.core.display.Javascript object>"
      ]
     },
     "metadata": {},
     "output_type": "display_data"
    }
   ],
   "source": [
    "# %time run.fit(5, learn)"
   ]
  },
  {
   "cell_type": "markdown",
   "metadata": {
    "hidden": true
   },
   "source": [
    "The [leaderboard](https://github.com/fastai/imagenette/blob/master/README.md) as this notebook is written has ~85% accuracy for 5 epochs at 128px size, so we're definitely on the right track!"
   ]
  },
  {
   "cell_type": "markdown",
   "metadata": {
    "heading_collapsed": "true"
   },
   "source": [
    "# Export"
   ]
  },
  {
   "cell_type": "code",
   "execution_count": 267,
   "metadata": {
    "hidden": true
   },
   "outputs": [
    {
     "name": "stdout",
     "output_type": "stream",
     "text": [
      "Converted 08_Data_Block-Imad.ipynb to exp/nb_08.py\n"
     ]
    },
    {
     "data": {
      "application/javascript": [
       "\n",
       "            setTimeout(function() {\n",
       "                var nbb_cell_id = 267;\n",
       "                var nbb_unformatted_code = \"!python ../src/notebook2script.py 08_Data_Block-Imad.ipynb\";\n",
       "                var nbb_formatted_code = \"!python ../src/notebook2script.py 08_Data_Block-Imad.ipynb\";\n",
       "                var nbb_cells = Jupyter.notebook.get_cells();\n",
       "                for (var i = 0; i < nbb_cells.length; ++i) {\n",
       "                    if (nbb_cells[i].input_prompt_number == nbb_cell_id) {\n",
       "                        if (nbb_cells[i].get_text() == nbb_unformatted_code) {\n",
       "                             nbb_cells[i].set_text(nbb_formatted_code);\n",
       "                        }\n",
       "                        break;\n",
       "                    }\n",
       "                }\n",
       "            }, 500);\n",
       "            "
      ],
      "text/plain": [
       "<IPython.core.display.Javascript object>"
      ]
     },
     "metadata": {},
     "output_type": "display_data"
    }
   ],
   "source": [
    "!python ../src/notebook2script.py 08_Data_Block-Imad.ipynb"
   ]
  }
 ],
 "metadata": {
  "hide_input": false,
  "kernelspec": {
   "display_name": "Python 3 (ipykernel)",
   "language": "python",
   "name": "python3"
  },
  "language_info": {
   "codemirror_mode": {
    "name": "ipython",
    "version": 3
   },
   "file_extension": ".py",
   "mimetype": "text/x-python",
   "name": "python",
   "nbconvert_exporter": "python",
   "pygments_lexer": "ipython3",
   "version": "3.10.4"
  },
  "toc": {
   "base_numbering": 1,
   "nav_menu": {},
   "number_sections": true,
   "sideBar": true,
   "skip_h1_title": false,
   "title_cell": "Table of Contents",
   "title_sidebar": "Contents",
   "toc_cell": false,
   "toc_position": {},
   "toc_section_display": true,
   "toc_window_display": false
  }
 },
 "nbformat": 4,
 "nbformat_minor": 4
}
