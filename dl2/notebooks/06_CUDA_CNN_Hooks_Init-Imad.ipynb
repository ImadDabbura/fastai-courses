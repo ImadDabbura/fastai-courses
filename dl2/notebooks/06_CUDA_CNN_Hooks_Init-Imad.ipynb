{
 "cells": [
  {
   "cell_type": "code",
   "execution_count": 1,
   "metadata": {},
   "outputs": [
    {
     "data": {
      "application/javascript": [
       "\n",
       "            setTimeout(function() {\n",
       "                var nbb_cell_id = 1;\n",
       "                var nbb_unformatted_code = \"%load_ext autoreload\\n%autoreload 2\\n\\n%load_ext nb_black\";\n",
       "                var nbb_formatted_code = \"%load_ext autoreload\\n%autoreload 2\\n\\n%load_ext nb_black\";\n",
       "                var nbb_cells = Jupyter.notebook.get_cells();\n",
       "                for (var i = 0; i < nbb_cells.length; ++i) {\n",
       "                    if (nbb_cells[i].input_prompt_number == nbb_cell_id) {\n",
       "                        if (nbb_cells[i].get_text() == nbb_unformatted_code) {\n",
       "                             nbb_cells[i].set_text(nbb_formatted_code);\n",
       "                        }\n",
       "                        break;\n",
       "                    }\n",
       "                }\n",
       "            }, 500);\n",
       "            "
      ],
      "text/plain": [
       "<IPython.core.display.Javascript object>"
      ]
     },
     "metadata": {},
     "output_type": "display_data"
    }
   ],
   "source": [
    "%load_ext autoreload\n",
    "%autoreload 2\n",
    "\n",
    "%load_ext nb_black"
   ]
  },
  {
   "cell_type": "code",
   "execution_count": 2,
   "metadata": {},
   "outputs": [
    {
     "data": {
      "application/javascript": [
       "\n",
       "            setTimeout(function() {\n",
       "                var nbb_cell_id = 2;\n",
       "                var nbb_unformatted_code = \"#export\\nfrom exp.nb_05b import *\\ntorch.set_num_threads(2)\";\n",
       "                var nbb_formatted_code = \"# export\\nfrom exp.nb_05b import *\\n\\ntorch.set_num_threads(2)\";\n",
       "                var nbb_cells = Jupyter.notebook.get_cells();\n",
       "                for (var i = 0; i < nbb_cells.length; ++i) {\n",
       "                    if (nbb_cells[i].input_prompt_number == nbb_cell_id) {\n",
       "                        if (nbb_cells[i].get_text() == nbb_unformatted_code) {\n",
       "                             nbb_cells[i].set_text(nbb_formatted_code);\n",
       "                        }\n",
       "                        break;\n",
       "                    }\n",
       "                }\n",
       "            }, 500);\n",
       "            "
      ],
      "text/plain": [
       "<IPython.core.display.Javascript object>"
      ]
     },
     "metadata": {},
     "output_type": "display_data"
    }
   ],
   "source": [
    "#export\n",
    "from exp.nb_05b import *\n",
    "torch.set_num_threads(2)"
   ]
  },
  {
   "cell_type": "markdown",
   "metadata": {},
   "source": [
    "[Jump_to lesson 10 video](https://course.fast.ai/videos/?lesson=10&t=3641)"
   ]
  },
  {
   "cell_type": "markdown",
   "metadata": {
    "heading_collapsed": "true"
   },
   "source": [
    "# ConvNet"
   ]
  },
  {
   "cell_type": "code",
   "execution_count": 3,
   "metadata": {
    "hidden": true
   },
   "outputs": [
    {
     "data": {
      "application/javascript": [
       "\n",
       "            setTimeout(function() {\n",
       "                var nbb_cell_id = 3;\n",
       "                var nbb_unformatted_code = \"x_train, y_train, x_valid, y_valid = get_data()\";\n",
       "                var nbb_formatted_code = \"x_train, y_train, x_valid, y_valid = get_data()\";\n",
       "                var nbb_cells = Jupyter.notebook.get_cells();\n",
       "                for (var i = 0; i < nbb_cells.length; ++i) {\n",
       "                    if (nbb_cells[i].input_prompt_number == nbb_cell_id) {\n",
       "                        if (nbb_cells[i].get_text() == nbb_unformatted_code) {\n",
       "                             nbb_cells[i].set_text(nbb_formatted_code);\n",
       "                        }\n",
       "                        break;\n",
       "                    }\n",
       "                }\n",
       "            }, 500);\n",
       "            "
      ],
      "text/plain": [
       "<IPython.core.display.Javascript object>"
      ]
     },
     "metadata": {},
     "output_type": "display_data"
    }
   ],
   "source": [
    "x_train, y_train, x_valid, y_valid = get_data()"
   ]
  },
  {
   "cell_type": "markdown",
   "metadata": {
    "hidden": true
   },
   "source": [
    "Helper function to quickly normalize with the mean and standard deviation from our training set:"
   ]
  },
  {
   "cell_type": "code",
   "execution_count": 4,
   "metadata": {
    "hidden": true
   },
   "outputs": [
    {
     "data": {
      "application/javascript": [
       "\n",
       "            setTimeout(function() {\n",
       "                var nbb_cell_id = 4;\n",
       "                var nbb_unformatted_code = \"#export\\ndef normalize_to(train, valid):\\n    m, s = train.mean(), train.std()\\n    return normalize(train, m, s), normalize(valid, m, s)\";\n",
       "                var nbb_formatted_code = \"# export\\ndef normalize_to(train, valid):\\n    m, s = train.mean(), train.std()\\n    return normalize(train, m, s), normalize(valid, m, s)\";\n",
       "                var nbb_cells = Jupyter.notebook.get_cells();\n",
       "                for (var i = 0; i < nbb_cells.length; ++i) {\n",
       "                    if (nbb_cells[i].input_prompt_number == nbb_cell_id) {\n",
       "                        if (nbb_cells[i].get_text() == nbb_unformatted_code) {\n",
       "                             nbb_cells[i].set_text(nbb_formatted_code);\n",
       "                        }\n",
       "                        break;\n",
       "                    }\n",
       "                }\n",
       "            }, 500);\n",
       "            "
      ],
      "text/plain": [
       "<IPython.core.display.Javascript object>"
      ]
     },
     "metadata": {},
     "output_type": "display_data"
    }
   ],
   "source": [
    "#export\n",
    "def normalize_to(train, valid):\n",
    "    m, s = train.mean(), train.std()\n",
    "    return normalize(train, m, s), normalize(valid, m, s)"
   ]
  },
  {
   "cell_type": "code",
   "execution_count": 5,
   "metadata": {
    "hidden": true
   },
   "outputs": [
    {
     "data": {
      "application/javascript": [
       "\n",
       "            setTimeout(function() {\n",
       "                var nbb_cell_id = 5;\n",
       "                var nbb_unformatted_code = \"x_train, x_valid = normalize_to(x_train, x_valid)\\ntrain_ds, valid_ds = Dataset(x_train, y_train), Dataset(x_valid, y_valid)\";\n",
       "                var nbb_formatted_code = \"x_train, x_valid = normalize_to(x_train, x_valid)\\ntrain_ds, valid_ds = Dataset(x_train, y_train), Dataset(x_valid, y_valid)\";\n",
       "                var nbb_cells = Jupyter.notebook.get_cells();\n",
       "                for (var i = 0; i < nbb_cells.length; ++i) {\n",
       "                    if (nbb_cells[i].input_prompt_number == nbb_cell_id) {\n",
       "                        if (nbb_cells[i].get_text() == nbb_unformatted_code) {\n",
       "                             nbb_cells[i].set_text(nbb_formatted_code);\n",
       "                        }\n",
       "                        break;\n",
       "                    }\n",
       "                }\n",
       "            }, 500);\n",
       "            "
      ],
      "text/plain": [
       "<IPython.core.display.Javascript object>"
      ]
     },
     "metadata": {},
     "output_type": "display_data"
    }
   ],
   "source": [
    "x_train, x_valid = normalize_to(x_train, x_valid)\n",
    "train_ds, valid_ds = Dataset(x_train, y_train), Dataset(x_valid, y_valid)"
   ]
  },
  {
   "cell_type": "markdown",
   "metadata": {
    "hidden": true
   },
   "source": [
    "Let's check it behaved properly."
   ]
  },
  {
   "cell_type": "code",
   "execution_count": 6,
   "metadata": {
    "hidden": true
   },
   "outputs": [
    {
     "data": {
      "text/plain": [
       "(tensor(3.9162e-08), tensor(1.))"
      ]
     },
     "execution_count": 6,
     "metadata": {},
     "output_type": "execute_result"
    },
    {
     "data": {
      "application/javascript": [
       "\n",
       "            setTimeout(function() {\n",
       "                var nbb_cell_id = 6;\n",
       "                var nbb_unformatted_code = \"x_train.mean(),x_train.std()\";\n",
       "                var nbb_formatted_code = \"x_train.mean(), x_train.std()\";\n",
       "                var nbb_cells = Jupyter.notebook.get_cells();\n",
       "                for (var i = 0; i < nbb_cells.length; ++i) {\n",
       "                    if (nbb_cells[i].input_prompt_number == nbb_cell_id) {\n",
       "                        if (nbb_cells[i].get_text() == nbb_unformatted_code) {\n",
       "                             nbb_cells[i].set_text(nbb_formatted_code);\n",
       "                        }\n",
       "                        break;\n",
       "                    }\n",
       "                }\n",
       "            }, 500);\n",
       "            "
      ],
      "text/plain": [
       "<IPython.core.display.Javascript object>"
      ]
     },
     "metadata": {},
     "output_type": "display_data"
    }
   ],
   "source": [
    "x_train.mean(),x_train.std()"
   ]
  },
  {
   "cell_type": "code",
   "execution_count": 7,
   "metadata": {
    "hidden": true
   },
   "outputs": [
    {
     "data": {
      "application/javascript": [
       "\n",
       "            setTimeout(function() {\n",
       "                var nbb_cell_id = 7;\n",
       "                var nbb_unformatted_code = \"nh, bs = 50, 512\\nc = y_train.max().item() + 1\\nloss_func = F.cross_entropy\\n\\ndata = DataBunch(*get_dls(train_ds, valid_ds, bs), c)\";\n",
       "                var nbb_formatted_code = \"nh, bs = 50, 512\\nc = y_train.max().item() + 1\\nloss_func = F.cross_entropy\\n\\ndata = DataBunch(*get_dls(train_ds, valid_ds, bs), c)\";\n",
       "                var nbb_cells = Jupyter.notebook.get_cells();\n",
       "                for (var i = 0; i < nbb_cells.length; ++i) {\n",
       "                    if (nbb_cells[i].input_prompt_number == nbb_cell_id) {\n",
       "                        if (nbb_cells[i].get_text() == nbb_unformatted_code) {\n",
       "                             nbb_cells[i].set_text(nbb_formatted_code);\n",
       "                        }\n",
       "                        break;\n",
       "                    }\n",
       "                }\n",
       "            }, 500);\n",
       "            "
      ],
      "text/plain": [
       "<IPython.core.display.Javascript object>"
      ]
     },
     "metadata": {},
     "output_type": "display_data"
    }
   ],
   "source": [
    "nh, bs = 50, 512\n",
    "c = y_train.max().item() + 1\n",
    "loss_func = F.cross_entropy\n",
    "\n",
    "data = DataBunch(*get_dls(train_ds, valid_ds, bs), c)"
   ]
  },
  {
   "cell_type": "markdown",
   "metadata": {
    "hidden": true
   },
   "source": [
    "To refactor layers, it's useful to have a `Lambda` layer that can take a basic function and convert it to a layer you can put in `nn.Sequential`.\n",
    "\n",
    "NB: if you use a Lambda layer with a lambda function, your model won't pickle so you won't be able to save it with PyTorch. So it's best to give a name to the function you're using inside your Lambda (like flatten below)."
   ]
  },
  {
   "cell_type": "code",
   "execution_count": 8,
   "metadata": {
    "hidden": true
   },
   "outputs": [
    {
     "data": {
      "application/javascript": [
       "\n",
       "            setTimeout(function() {\n",
       "                var nbb_cell_id = 8;\n",
       "                var nbb_unformatted_code = \"#export\\nclass Lambda(nn.Module):\\n    def __init__(self, func):\\n        super().__init__()\\n        self.func = func\\n\\n    def forward(self, x):\\n        return self.func(x)\";\n",
       "                var nbb_formatted_code = \"# export\\nclass Lambda(nn.Module):\\n    def __init__(self, func):\\n        super().__init__()\\n        self.func = func\\n\\n    def forward(self, x):\\n        return self.func(x)\";\n",
       "                var nbb_cells = Jupyter.notebook.get_cells();\n",
       "                for (var i = 0; i < nbb_cells.length; ++i) {\n",
       "                    if (nbb_cells[i].input_prompt_number == nbb_cell_id) {\n",
       "                        if (nbb_cells[i].get_text() == nbb_unformatted_code) {\n",
       "                             nbb_cells[i].set_text(nbb_formatted_code);\n",
       "                        }\n",
       "                        break;\n",
       "                    }\n",
       "                }\n",
       "            }, 500);\n",
       "            "
      ],
      "text/plain": [
       "<IPython.core.display.Javascript object>"
      ]
     },
     "metadata": {},
     "output_type": "display_data"
    }
   ],
   "source": [
    "#export\n",
    "class Lambda(nn.Module):\n",
    "    def __init__(self, func):\n",
    "        super().__init__()\n",
    "        self.func = func\n",
    "\n",
    "    def forward(self, x):\n",
    "        return self.func(x)"
   ]
  },
  {
   "cell_type": "code",
   "execution_count": 9,
   "metadata": {
    "hidden": true
   },
   "outputs": [
    {
     "data": {
      "application/javascript": [
       "\n",
       "            setTimeout(function() {\n",
       "                var nbb_cell_id = 9;\n",
       "                var nbb_unformatted_code = \"#export\\ndef flatten(x):\\n    return x.view(x.shape[0], -1)\";\n",
       "                var nbb_formatted_code = \"# export\\ndef flatten(x):\\n    return x.view(x.shape[0], -1)\";\n",
       "                var nbb_cells = Jupyter.notebook.get_cells();\n",
       "                for (var i = 0; i < nbb_cells.length; ++i) {\n",
       "                    if (nbb_cells[i].input_prompt_number == nbb_cell_id) {\n",
       "                        if (nbb_cells[i].get_text() == nbb_unformatted_code) {\n",
       "                             nbb_cells[i].set_text(nbb_formatted_code);\n",
       "                        }\n",
       "                        break;\n",
       "                    }\n",
       "                }\n",
       "            }, 500);\n",
       "            "
      ],
      "text/plain": [
       "<IPython.core.display.Javascript object>"
      ]
     },
     "metadata": {},
     "output_type": "display_data"
    }
   ],
   "source": [
    "#export\n",
    "def flatten(x):\n",
    "    return x.view(x.shape[0], -1)"
   ]
  },
  {
   "cell_type": "markdown",
   "metadata": {
    "hidden": true
   },
   "source": [
    "This one takes the flat vector of size `bs x 784` and puts it back as a batch of images of 28 by 28 pixels. Images in PyTorch are expected to be in this format:\n",
    "`bs x channels x height x width`"
   ]
  },
  {
   "cell_type": "code",
   "execution_count": 10,
   "metadata": {
    "hidden": true
   },
   "outputs": [
    {
     "data": {
      "application/javascript": [
       "\n",
       "            setTimeout(function() {\n",
       "                var nbb_cell_id = 10;\n",
       "                var nbb_unformatted_code = \"#export\\ndef mnist_resize(x):\\n    return x.view(-1, 1, 28, 28)\";\n",
       "                var nbb_formatted_code = \"# export\\ndef mnist_resize(x):\\n    return x.view(-1, 1, 28, 28)\";\n",
       "                var nbb_cells = Jupyter.notebook.get_cells();\n",
       "                for (var i = 0; i < nbb_cells.length; ++i) {\n",
       "                    if (nbb_cells[i].input_prompt_number == nbb_cell_id) {\n",
       "                        if (nbb_cells[i].get_text() == nbb_unformatted_code) {\n",
       "                             nbb_cells[i].set_text(nbb_formatted_code);\n",
       "                        }\n",
       "                        break;\n",
       "                    }\n",
       "                }\n",
       "            }, 500);\n",
       "            "
      ],
      "text/plain": [
       "<IPython.core.display.Javascript object>"
      ]
     },
     "metadata": {},
     "output_type": "display_data"
    }
   ],
   "source": [
    "#export\n",
    "def mnist_resize(x):\n",
    "    return x.view(-1, 1, 28, 28)"
   ]
  },
  {
   "cell_type": "markdown",
   "metadata": {
    "hidden": true
   },
   "source": [
    "We can now define a simple CNN."
   ]
  },
  {
   "cell_type": "markdown",
   "metadata": {
    "hidden": true
   },
   "source": [
    "$$H = \\lfloor\\frac{H + 2 * padding - kernel\\_H}{stride}\\rfloor + 1$$"
   ]
  },
  {
   "cell_type": "code",
   "execution_count": 11,
   "metadata": {
    "hidden": true
   },
   "outputs": [
    {
     "data": {
      "application/javascript": [
       "\n",
       "            setTimeout(function() {\n",
       "                var nbb_cell_id = 11;\n",
       "                var nbb_unformatted_code = \"#export\\ndef get_cnn_model(data):\\n    return nn.Sequential(\\n        Lambda(mnist_resize),\\n        nn.Conv2d(1, 8, 5, padding=2, stride=2),\\n        nn.ReLU(),  #14\\n        nn.Conv2d(8, 16, 3, padding=1, stride=2),\\n        nn.ReLU(),  # 7\\n        nn.Conv2d(16, 32, 3, padding=1, stride=2),\\n        nn.ReLU(),  # 4\\n        nn.Conv2d(32, 32, 3, padding=1, stride=2),\\n        nn.ReLU(),  # 2\\n        nn.AdaptiveAvgPool2d(1),\\n        Lambda(flatten),\\n        nn.Linear(32, data.c))\";\n",
       "                var nbb_formatted_code = \"# export\\ndef get_cnn_model(data):\\n    return nn.Sequential(\\n        Lambda(mnist_resize),\\n        nn.Conv2d(1, 8, 5, padding=2, stride=2),\\n        nn.ReLU(),  # 14\\n        nn.Conv2d(8, 16, 3, padding=1, stride=2),\\n        nn.ReLU(),  # 7\\n        nn.Conv2d(16, 32, 3, padding=1, stride=2),\\n        nn.ReLU(),  # 4\\n        nn.Conv2d(32, 32, 3, padding=1, stride=2),\\n        nn.ReLU(),  # 2\\n        nn.AdaptiveAvgPool2d(1),\\n        Lambda(flatten),\\n        nn.Linear(32, data.c),\\n    )\";\n",
       "                var nbb_cells = Jupyter.notebook.get_cells();\n",
       "                for (var i = 0; i < nbb_cells.length; ++i) {\n",
       "                    if (nbb_cells[i].input_prompt_number == nbb_cell_id) {\n",
       "                        if (nbb_cells[i].get_text() == nbb_unformatted_code) {\n",
       "                             nbb_cells[i].set_text(nbb_formatted_code);\n",
       "                        }\n",
       "                        break;\n",
       "                    }\n",
       "                }\n",
       "            }, 500);\n",
       "            "
      ],
      "text/plain": [
       "<IPython.core.display.Javascript object>"
      ]
     },
     "metadata": {},
     "output_type": "display_data"
    }
   ],
   "source": [
    "#export\n",
    "def get_cnn_model(data):\n",
    "    return nn.Sequential(\n",
    "        Lambda(mnist_resize),\n",
    "        nn.Conv2d(1, 8, 5, padding=2, stride=2),\n",
    "        nn.ReLU(),  #14\n",
    "        nn.Conv2d(8, 16, 3, padding=1, stride=2),\n",
    "        nn.ReLU(),  # 7\n",
    "        nn.Conv2d(16, 32, 3, padding=1, stride=2),\n",
    "        nn.ReLU(),  # 4\n",
    "        nn.Conv2d(32, 32, 3, padding=1, stride=2),\n",
    "        nn.ReLU(),  # 2\n",
    "        nn.AdaptiveAvgPool2d(1),\n",
    "        Lambda(flatten),\n",
    "        nn.Linear(32, data.c))"
   ]
  },
  {
   "cell_type": "code",
   "execution_count": 12,
   "metadata": {
    "hidden": true
   },
   "outputs": [
    {
     "data": {
      "text/plain": [
       "torch.Size([512, 32, 1, 1])"
      ]
     },
     "execution_count": 12,
     "metadata": {},
     "output_type": "execute_result"
    },
    {
     "data": {
      "application/javascript": [
       "\n",
       "            setTimeout(function() {\n",
       "                var nbb_cell_id = 12;\n",
       "                var nbb_unformatted_code = \"nn.AdaptiveAvgPool2d(1)(torch.ones(bs, 32, 5, 5)).shape\";\n",
       "                var nbb_formatted_code = \"nn.AdaptiveAvgPool2d(1)(torch.ones(bs, 32, 5, 5)).shape\";\n",
       "                var nbb_cells = Jupyter.notebook.get_cells();\n",
       "                for (var i = 0; i < nbb_cells.length; ++i) {\n",
       "                    if (nbb_cells[i].input_prompt_number == nbb_cell_id) {\n",
       "                        if (nbb_cells[i].get_text() == nbb_unformatted_code) {\n",
       "                             nbb_cells[i].set_text(nbb_formatted_code);\n",
       "                        }\n",
       "                        break;\n",
       "                    }\n",
       "                }\n",
       "            }, 500);\n",
       "            "
      ],
      "text/plain": [
       "<IPython.core.display.Javascript object>"
      ]
     },
     "metadata": {},
     "output_type": "display_data"
    }
   ],
   "source": [
    "nn.AdaptiveAvgPool2d(1)(torch.ones(bs, 32, 5, 5)).shape"
   ]
  },
  {
   "cell_type": "code",
   "execution_count": 13,
   "metadata": {
    "hidden": true
   },
   "outputs": [
    {
     "data": {
      "text/plain": [
       "torch.Size([512, 32])"
      ]
     },
     "execution_count": 13,
     "metadata": {},
     "output_type": "execute_result"
    },
    {
     "data": {
      "application/javascript": [
       "\n",
       "            setTimeout(function() {\n",
       "                var nbb_cell_id = 13;\n",
       "                var nbb_unformatted_code = \"nn.AdaptiveAvgPool2d(1)(torch.ones(bs, 32, 5, 5)).view(bs, -1).shape\";\n",
       "                var nbb_formatted_code = \"nn.AdaptiveAvgPool2d(1)(torch.ones(bs, 32, 5, 5)).view(bs, -1).shape\";\n",
       "                var nbb_cells = Jupyter.notebook.get_cells();\n",
       "                for (var i = 0; i < nbb_cells.length; ++i) {\n",
       "                    if (nbb_cells[i].input_prompt_number == nbb_cell_id) {\n",
       "                        if (nbb_cells[i].get_text() == nbb_unformatted_code) {\n",
       "                             nbb_cells[i].set_text(nbb_formatted_code);\n",
       "                        }\n",
       "                        break;\n",
       "                    }\n",
       "                }\n",
       "            }, 500);\n",
       "            "
      ],
      "text/plain": [
       "<IPython.core.display.Javascript object>"
      ]
     },
     "metadata": {},
     "output_type": "display_data"
    }
   ],
   "source": [
    "nn.AdaptiveAvgPool2d(1)(torch.ones(bs, 32, 5, 5)).view(bs, -1).shape"
   ]
  },
  {
   "cell_type": "code",
   "execution_count": 16,
   "metadata": {
    "hidden": true
   },
   "outputs": [
    {
     "data": {
      "text/plain": [
       "Sequential(\n",
       "  (0): Lambda()\n",
       "  (1): Conv2d(1, 8, kernel_size=(5, 5), stride=(2, 2), padding=(2, 2))\n",
       "  (2): ReLU()\n",
       "  (3): Conv2d(8, 16, kernel_size=(3, 3), stride=(2, 2), padding=(1, 1))\n",
       "  (4): ReLU()\n",
       "  (5): Conv2d(16, 32, kernel_size=(3, 3), stride=(2, 2), padding=(1, 1))\n",
       "  (6): ReLU()\n",
       "  (7): Conv2d(32, 32, kernel_size=(3, 3), stride=(2, 2), padding=(1, 1))\n",
       "  (8): ReLU()\n",
       "  (9): AdaptiveAvgPool2d(output_size=1)\n",
       "  (10): Lambda()\n",
       "  (11): Linear(in_features=32, out_features=10, bias=True)\n",
       ")"
      ]
     },
     "execution_count": 16,
     "metadata": {},
     "output_type": "execute_result"
    },
    {
     "data": {
      "application/javascript": [
       "\n",
       "            setTimeout(function() {\n",
       "                var nbb_cell_id = 16;\n",
       "                var nbb_unformatted_code = \"model = get_cnn_model(data)\\nmodel\";\n",
       "                var nbb_formatted_code = \"model = get_cnn_model(data)\\nmodel\";\n",
       "                var nbb_cells = Jupyter.notebook.get_cells();\n",
       "                for (var i = 0; i < nbb_cells.length; ++i) {\n",
       "                    if (nbb_cells[i].input_prompt_number == nbb_cell_id) {\n",
       "                        if (nbb_cells[i].get_text() == nbb_unformatted_code) {\n",
       "                             nbb_cells[i].set_text(nbb_formatted_code);\n",
       "                        }\n",
       "                        break;\n",
       "                    }\n",
       "                }\n",
       "            }, 500);\n",
       "            "
      ],
      "text/plain": [
       "<IPython.core.display.Javascript object>"
      ]
     },
     "metadata": {},
     "output_type": "display_data"
    }
   ],
   "source": [
    "model = get_cnn_model(data)\n",
    "model"
   ]
  },
  {
   "cell_type": "markdown",
   "metadata": {
    "hidden": true
   },
   "source": [
    "Basic callbacks from the previous notebook:"
   ]
  },
  {
   "cell_type": "code",
   "execution_count": 60,
   "metadata": {
    "hidden": true
   },
   "outputs": [
    {
     "data": {
      "application/javascript": [
       "\n",
       "            setTimeout(function() {\n",
       "                var nbb_cell_id = 60;\n",
       "                var nbb_unformatted_code = \"cbfs = [Recorder, partial(AvgStatsCallback,accuracy)]\";\n",
       "                var nbb_formatted_code = \"cbfs = [Recorder, partial(AvgStatsCallback, accuracy)]\";\n",
       "                var nbb_cells = Jupyter.notebook.get_cells();\n",
       "                for (var i = 0; i < nbb_cells.length; ++i) {\n",
       "                    if (nbb_cells[i].input_prompt_number == nbb_cell_id) {\n",
       "                        if (nbb_cells[i].get_text() == nbb_unformatted_code) {\n",
       "                             nbb_cells[i].set_text(nbb_formatted_code);\n",
       "                        }\n",
       "                        break;\n",
       "                    }\n",
       "                }\n",
       "            }, 500);\n",
       "            "
      ],
      "text/plain": [
       "<IPython.core.display.Javascript object>"
      ]
     },
     "metadata": {},
     "output_type": "display_data"
    }
   ],
   "source": [
    "cbfs = [Recorder, partial(AvgStatsCallback,accuracy)]"
   ]
  },
  {
   "cell_type": "code",
   "execution_count": 20,
   "metadata": {
    "hidden": true
   },
   "outputs": [
    {
     "data": {
      "application/javascript": [
       "\n",
       "            setTimeout(function() {\n",
       "                var nbb_cell_id = 20;\n",
       "                var nbb_unformatted_code = \"opt = optim.SGD(model.parameters(), lr=0.4)\\nlearner = Learner(model, data, loss_func, opt, cb_funcs=cbfs)\";\n",
       "                var nbb_formatted_code = \"opt = optim.SGD(model.parameters(), lr=0.4)\\nlearner = Learner(model, data, loss_func, opt, cb_funcs=cbfs)\";\n",
       "                var nbb_cells = Jupyter.notebook.get_cells();\n",
       "                for (var i = 0; i < nbb_cells.length; ++i) {\n",
       "                    if (nbb_cells[i].input_prompt_number == nbb_cell_id) {\n",
       "                        if (nbb_cells[i].get_text() == nbb_unformatted_code) {\n",
       "                             nbb_cells[i].set_text(nbb_formatted_code);\n",
       "                        }\n",
       "                        break;\n",
       "                    }\n",
       "                }\n",
       "            }, 500);\n",
       "            "
      ],
      "text/plain": [
       "<IPython.core.display.Javascript object>"
      ]
     },
     "metadata": {},
     "output_type": "display_data"
    }
   ],
   "source": [
    "opt = optim.SGD(model.parameters(), lr=0.4)\n",
    "learner = Learner(model, data, loss_func, opt, cb_funcs=cbfs)"
   ]
  },
  {
   "cell_type": "code",
   "execution_count": 21,
   "metadata": {
    "hidden": true
   },
   "outputs": [
    {
     "name": "stdout",
     "output_type": "stream",
     "text": [
      "train: [2.1729175, tensor(0.2127)]\n",
      "valid: [1.68856953125, tensor(0.3567)]\n",
      "CPU times: user 3.85 s, sys: 747 ms, total: 4.6 s\n",
      "Wall time: 4.48 s\n"
     ]
    },
    {
     "data": {
      "application/javascript": [
       "\n",
       "            setTimeout(function() {\n",
       "                var nbb_cell_id = 21;\n",
       "                var nbb_unformatted_code = \"%time learner.fit(1)\";\n",
       "                var nbb_formatted_code = \"%time learner.fit(1)\";\n",
       "                var nbb_cells = Jupyter.notebook.get_cells();\n",
       "                for (var i = 0; i < nbb_cells.length; ++i) {\n",
       "                    if (nbb_cells[i].input_prompt_number == nbb_cell_id) {\n",
       "                        if (nbb_cells[i].get_text() == nbb_unformatted_code) {\n",
       "                             nbb_cells[i].set_text(nbb_formatted_code);\n",
       "                        }\n",
       "                        break;\n",
       "                    }\n",
       "                }\n",
       "            }, 500);\n",
       "            "
      ],
      "text/plain": [
       "<IPython.core.display.Javascript object>"
      ]
     },
     "metadata": {},
     "output_type": "display_data"
    }
   ],
   "source": [
    "%time learner.fit(1)"
   ]
  },
  {
   "cell_type": "markdown",
   "metadata": {
    "heading_collapsed": "true"
   },
   "source": [
    "# CUDA"
   ]
  },
  {
   "cell_type": "markdown",
   "metadata": {
    "hidden": true
   },
   "source": [
    "This took a long time to run, so it's time to use a GPU. A simple Callback can make sure the model, inputs and targets are all on the same device."
   ]
  },
  {
   "cell_type": "code",
   "execution_count": 24,
   "metadata": {
    "hidden": true
   },
   "outputs": [
    {
     "data": {
      "text/plain": [
       "device(type='cuda', index=0)"
      ]
     },
     "execution_count": 24,
     "metadata": {},
     "output_type": "execute_result"
    },
    {
     "data": {
      "application/javascript": [
       "\n",
       "            setTimeout(function() {\n",
       "                var nbb_cell_id = 24;\n",
       "                var nbb_unformatted_code = \"# Somewhat more flexible way\\ndevice = torch.device('cuda', 0)\\ndevice\";\n",
       "                var nbb_formatted_code = \"# Somewhat more flexible way\\ndevice = torch.device(\\\"cuda\\\", 0)\\ndevice\";\n",
       "                var nbb_cells = Jupyter.notebook.get_cells();\n",
       "                for (var i = 0; i < nbb_cells.length; ++i) {\n",
       "                    if (nbb_cells[i].input_prompt_number == nbb_cell_id) {\n",
       "                        if (nbb_cells[i].get_text() == nbb_unformatted_code) {\n",
       "                             nbb_cells[i].set_text(nbb_formatted_code);\n",
       "                        }\n",
       "                        break;\n",
       "                    }\n",
       "                }\n",
       "            }, 500);\n",
       "            "
      ],
      "text/plain": [
       "<IPython.core.display.Javascript object>"
      ]
     },
     "metadata": {},
     "output_type": "display_data"
    }
   ],
   "source": [
    "# Somewhat more flexible way\n",
    "device = torch.device('cuda', 0)\n",
    "device"
   ]
  },
  {
   "cell_type": "code",
   "execution_count": 25,
   "metadata": {
    "hidden": true
   },
   "outputs": [
    {
     "data": {
      "application/javascript": [
       "\n",
       "            setTimeout(function() {\n",
       "                var nbb_cell_id = 25;\n",
       "                var nbb_unformatted_code = \"class CudaCallback(Callback):\\n    def __init__(self, device):\\n        self.device = device\\n\\n    def begin_fit(self):\\n        self.model.to(self.device)\\n\\n    def begin_batch(self):\\n        self.learner.xb, self.learner.yb = self.xb.to(self.device), self.yb.to(\\n            self.device)\";\n",
       "                var nbb_formatted_code = \"class CudaCallback(Callback):\\n    def __init__(self, device):\\n        self.device = device\\n\\n    def begin_fit(self):\\n        self.model.to(self.device)\\n\\n    def begin_batch(self):\\n        self.learner.xb, self.learner.yb = (\\n            self.xb.to(self.device),\\n            self.yb.to(self.device),\\n        )\";\n",
       "                var nbb_cells = Jupyter.notebook.get_cells();\n",
       "                for (var i = 0; i < nbb_cells.length; ++i) {\n",
       "                    if (nbb_cells[i].input_prompt_number == nbb_cell_id) {\n",
       "                        if (nbb_cells[i].get_text() == nbb_unformatted_code) {\n",
       "                             nbb_cells[i].set_text(nbb_formatted_code);\n",
       "                        }\n",
       "                        break;\n",
       "                    }\n",
       "                }\n",
       "            }, 500);\n",
       "            "
      ],
      "text/plain": [
       "<IPython.core.display.Javascript object>"
      ]
     },
     "metadata": {},
     "output_type": "display_data"
    }
   ],
   "source": [
    "class CudaCallback(Callback):\n",
    "    def __init__(self, device):\n",
    "        self.device = device\n",
    "\n",
    "    def begin_fit(self):\n",
    "        self.model.to(self.device)\n",
    "\n",
    "    def begin_batch(self):\n",
    "        self.learner.xb, self.learner.yb = self.xb.to(self.device), self.yb.to(\n",
    "            self.device)"
   ]
  },
  {
   "cell_type": "markdown",
   "metadata": {
    "hidden": true
   },
   "source": [
    "If we have only one GPU, then `.cuda()` would work after we set the device like below. Also, it is most common to have only one GPU."
   ]
  },
  {
   "cell_type": "code",
   "execution_count": 26,
   "metadata": {
    "hidden": true
   },
   "outputs": [
    {
     "ename": "AttributeError",
     "evalue": "module 'torch._C' has no attribute '_cuda_setDevice'",
     "output_type": "error",
     "traceback": [
      "\u001b[0;31m---------------------------------------------------------------------------\u001b[0m",
      "\u001b[0;31mAttributeError\u001b[0m                            Traceback (most recent call last)",
      "\u001b[0;32m<ipython-input-26-f046779d8249>\u001b[0m in \u001b[0;36m<module>\u001b[0;34m\u001b[0m\n\u001b[1;32m      1\u001b[0m \u001b[0;31m# Somewhat less flexible, but quite convenient\u001b[0m\u001b[0;34m\u001b[0m\u001b[0;34m\u001b[0m\u001b[0;34m\u001b[0m\u001b[0m\n\u001b[0;32m----> 2\u001b[0;31m \u001b[0mtorch\u001b[0m\u001b[0;34m.\u001b[0m\u001b[0mcuda\u001b[0m\u001b[0;34m.\u001b[0m\u001b[0mset_device\u001b[0m\u001b[0;34m(\u001b[0m\u001b[0mdevice\u001b[0m\u001b[0;34m)\u001b[0m\u001b[0;34m\u001b[0m\u001b[0;34m\u001b[0m\u001b[0m\n\u001b[0m",
      "\u001b[0;32m~/anaconda3/envs/fastbook/lib/python3.9/site-packages/torch/cuda/__init__.py\u001b[0m in \u001b[0;36mset_device\u001b[0;34m(device)\u001b[0m\n\u001b[1;32m    262\u001b[0m     \u001b[0mdevice\u001b[0m \u001b[0;34m=\u001b[0m \u001b[0m_get_device_index\u001b[0m\u001b[0;34m(\u001b[0m\u001b[0mdevice\u001b[0m\u001b[0;34m)\u001b[0m\u001b[0;34m\u001b[0m\u001b[0;34m\u001b[0m\u001b[0m\n\u001b[1;32m    263\u001b[0m     \u001b[0;32mif\u001b[0m \u001b[0mdevice\u001b[0m \u001b[0;34m>=\u001b[0m \u001b[0;36m0\u001b[0m\u001b[0;34m:\u001b[0m\u001b[0;34m\u001b[0m\u001b[0;34m\u001b[0m\u001b[0m\n\u001b[0;32m--> 264\u001b[0;31m         \u001b[0mtorch\u001b[0m\u001b[0;34m.\u001b[0m\u001b[0m_C\u001b[0m\u001b[0;34m.\u001b[0m\u001b[0m_cuda_setDevice\u001b[0m\u001b[0;34m(\u001b[0m\u001b[0mdevice\u001b[0m\u001b[0;34m)\u001b[0m\u001b[0;34m\u001b[0m\u001b[0;34m\u001b[0m\u001b[0m\n\u001b[0m\u001b[1;32m    265\u001b[0m \u001b[0;34m\u001b[0m\u001b[0m\n\u001b[1;32m    266\u001b[0m \u001b[0;34m\u001b[0m\u001b[0m\n",
      "\u001b[0;31mAttributeError\u001b[0m: module 'torch._C' has no attribute '_cuda_setDevice'"
     ]
    },
    {
     "data": {
      "application/javascript": [
       "\n",
       "            setTimeout(function() {\n",
       "                var nbb_cell_id = 26;\n",
       "                var nbb_unformatted_code = \"# Somewhat less flexible, but quite convenient\\ntorch.cuda.set_device(device)\";\n",
       "                var nbb_formatted_code = \"# Somewhat less flexible, but quite convenient\\ntorch.cuda.set_device(device)\";\n",
       "                var nbb_cells = Jupyter.notebook.get_cells();\n",
       "                for (var i = 0; i < nbb_cells.length; ++i) {\n",
       "                    if (nbb_cells[i].input_prompt_number == nbb_cell_id) {\n",
       "                        if (nbb_cells[i].get_text() == nbb_unformatted_code) {\n",
       "                             nbb_cells[i].set_text(nbb_formatted_code);\n",
       "                        }\n",
       "                        break;\n",
       "                    }\n",
       "                }\n",
       "            }, 500);\n",
       "            "
      ],
      "text/plain": [
       "<IPython.core.display.Javascript object>"
      ]
     },
     "metadata": {},
     "output_type": "display_data"
    }
   ],
   "source": [
    "# Somewhat less flexible, but quite convenient\n",
    "torch.cuda.set_device(device)"
   ]
  },
  {
   "cell_type": "code",
   "execution_count": 27,
   "metadata": {
    "hidden": true
   },
   "outputs": [
    {
     "data": {
      "application/javascript": [
       "\n",
       "            setTimeout(function() {\n",
       "                var nbb_cell_id = 27;\n",
       "                var nbb_unformatted_code = \"#export\\nclass CudaCallback(Callback):\\n    def begin_fit(self):\\n        self.model.cuda()\\n\\n    def begin_batch(self):\\n        self.run.xb, self.run.yb = self.xb.cuda(), self.yb.cuda()\";\n",
       "                var nbb_formatted_code = \"# export\\nclass CudaCallback(Callback):\\n    def begin_fit(self):\\n        self.model.cuda()\\n\\n    def begin_batch(self):\\n        self.run.xb, self.run.yb = self.xb.cuda(), self.yb.cuda()\";\n",
       "                var nbb_cells = Jupyter.notebook.get_cells();\n",
       "                for (var i = 0; i < nbb_cells.length; ++i) {\n",
       "                    if (nbb_cells[i].input_prompt_number == nbb_cell_id) {\n",
       "                        if (nbb_cells[i].get_text() == nbb_unformatted_code) {\n",
       "                             nbb_cells[i].set_text(nbb_formatted_code);\n",
       "                        }\n",
       "                        break;\n",
       "                    }\n",
       "                }\n",
       "            }, 500);\n",
       "            "
      ],
      "text/plain": [
       "<IPython.core.display.Javascript object>"
      ]
     },
     "metadata": {},
     "output_type": "display_data"
    }
   ],
   "source": [
    "#export\n",
    "class CudaCallback(Callback):\n",
    "    def begin_fit(self):\n",
    "        self.model.cuda()\n",
    "\n",
    "    def begin_batch(self):\n",
    "        self.run.xb, self.run.yb = self.xb.cuda(), self.yb.cuda()"
   ]
  },
  {
   "cell_type": "code",
   "execution_count": 28,
   "metadata": {
    "hidden": true
   },
   "outputs": [
    {
     "data": {
      "application/javascript": [
       "\n",
       "            setTimeout(function() {\n",
       "                var nbb_cell_id = 28;\n",
       "                var nbb_unformatted_code = \"cbfs.append(CudaCallback)\";\n",
       "                var nbb_formatted_code = \"cbfs.append(CudaCallback)\";\n",
       "                var nbb_cells = Jupyter.notebook.get_cells();\n",
       "                for (var i = 0; i < nbb_cells.length; ++i) {\n",
       "                    if (nbb_cells[i].input_prompt_number == nbb_cell_id) {\n",
       "                        if (nbb_cells[i].get_text() == nbb_unformatted_code) {\n",
       "                             nbb_cells[i].set_text(nbb_formatted_code);\n",
       "                        }\n",
       "                        break;\n",
       "                    }\n",
       "                }\n",
       "            }, 500);\n",
       "            "
      ],
      "text/plain": [
       "<IPython.core.display.Javascript object>"
      ]
     },
     "metadata": {},
     "output_type": "display_data"
    }
   ],
   "source": [
    "# cbfs.append(CudaCallback)"
   ]
  },
  {
   "cell_type": "code",
   "execution_count": 29,
   "metadata": {
    "hidden": true
   },
   "outputs": [
    {
     "data": {
      "application/javascript": [
       "\n",
       "            setTimeout(function() {\n",
       "                var nbb_cell_id = 29;\n",
       "                var nbb_unformatted_code = \"model = get_cnn_model(data)\";\n",
       "                var nbb_formatted_code = \"model = get_cnn_model(data)\";\n",
       "                var nbb_cells = Jupyter.notebook.get_cells();\n",
       "                for (var i = 0; i < nbb_cells.length; ++i) {\n",
       "                    if (nbb_cells[i].input_prompt_number == nbb_cell_id) {\n",
       "                        if (nbb_cells[i].get_text() == nbb_unformatted_code) {\n",
       "                             nbb_cells[i].set_text(nbb_formatted_code);\n",
       "                        }\n",
       "                        break;\n",
       "                    }\n",
       "                }\n",
       "            }, 500);\n",
       "            "
      ],
      "text/plain": [
       "<IPython.core.display.Javascript object>"
      ]
     },
     "metadata": {},
     "output_type": "display_data"
    }
   ],
   "source": [
    "model = get_cnn_model(data)"
   ]
  },
  {
   "cell_type": "code",
   "execution_count": null,
   "metadata": {
    "hidden": true
   },
   "outputs": [],
   "source": [
    "opt = optim.SGD(model.parameters(), lr=0.4)\n",
    "learn = Learner(model, opt, loss_func, data)\n",
    "run = Runner(cb_funcs=cbfs)"
   ]
  },
  {
   "cell_type": "code",
   "execution_count": null,
   "metadata": {
    "hidden": true
   },
   "outputs": [],
   "source": [
    "%time run.fit(3, learn)"
   ]
  },
  {
   "cell_type": "markdown",
   "metadata": {
    "hidden": true
   },
   "source": [
    "Now, that's definitely faster!"
   ]
  },
  {
   "cell_type": "markdown",
   "metadata": {
    "hidden": true
   },
   "source": [
    "I don't have a GPU so I wont run the Cuda section."
   ]
  },
  {
   "cell_type": "markdown",
   "metadata": {
    "heading_collapsed": "true"
   },
   "source": [
    "# Refactor model"
   ]
  },
  {
   "cell_type": "markdown",
   "metadata": {
    "hidden": true
   },
   "source": [
    "First we can regroup all the conv/relu in a single function:"
   ]
  },
  {
   "cell_type": "code",
   "execution_count": 49,
   "metadata": {
    "hidden": true
   },
   "outputs": [
    {
     "data": {
      "application/javascript": [
       "\n",
       "            setTimeout(function() {\n",
       "                var nbb_cell_id = 49;\n",
       "                var nbb_unformatted_code = \"def conv2d(ni, nf, ks=3, stride=2):\\n    return nn.Sequential(nn.Conv2d(ni, nf, ks, padding=ks // 2, stride=stride),\\n                         nn.ReLU())\";\n",
       "                var nbb_formatted_code = \"def conv2d(ni, nf, ks=3, stride=2):\\n    return nn.Sequential(\\n        nn.Conv2d(ni, nf, ks, padding=ks // 2, stride=stride), nn.ReLU()\\n    )\";\n",
       "                var nbb_cells = Jupyter.notebook.get_cells();\n",
       "                for (var i = 0; i < nbb_cells.length; ++i) {\n",
       "                    if (nbb_cells[i].input_prompt_number == nbb_cell_id) {\n",
       "                        if (nbb_cells[i].get_text() == nbb_unformatted_code) {\n",
       "                             nbb_cells[i].set_text(nbb_formatted_code);\n",
       "                        }\n",
       "                        break;\n",
       "                    }\n",
       "                }\n",
       "            }, 500);\n",
       "            "
      ],
      "text/plain": [
       "<IPython.core.display.Javascript object>"
      ]
     },
     "metadata": {},
     "output_type": "display_data"
    }
   ],
   "source": [
    "def conv2d(ni, nf, ks=3, stride=2):\n",
    "    return nn.Sequential(nn.Conv2d(ni, nf, ks, padding=ks // 2, stride=stride),\n",
    "                         nn.ReLU())"
   ]
  },
  {
   "cell_type": "markdown",
   "metadata": {
    "hidden": true
   },
   "source": [
    "Another thing is that we can do the mnist resize in a batch transform, that we can do with a Callback. This way, the callback will be generlizable by passing any function we want to transform X, and it should take care of transforming it before feeding it to the model."
   ]
  },
  {
   "cell_type": "code",
   "execution_count": 61,
   "metadata": {
    "hidden": true
   },
   "outputs": [
    {
     "data": {
      "application/javascript": [
       "\n",
       "            setTimeout(function() {\n",
       "                var nbb_cell_id = 61;\n",
       "                var nbb_unformatted_code = \"#export\\nclass BatchTransformXCallback(Callback):\\n    _order = 2\\n\\n    def __init__(self, tfm):\\n        self.tfm = tfm\\n\\n    def before_batch(self):\\n        self.learner.xb = self.tfm(self.xb)\\n\\n\\ndef view_tfm(*size):\\n    def _inner(x):\\n        return x.view(*((-1, ) + size))\\n\\n    return _inner\";\n",
       "                var nbb_formatted_code = \"# export\\nclass BatchTransformXCallback(Callback):\\n    _order = 2\\n\\n    def __init__(self, tfm):\\n        self.tfm = tfm\\n\\n    def before_batch(self):\\n        self.learner.xb = self.tfm(self.xb)\\n\\n\\ndef view_tfm(*size):\\n    def _inner(x):\\n        return x.view(*((-1,) + size))\\n\\n    return _inner\";\n",
       "                var nbb_cells = Jupyter.notebook.get_cells();\n",
       "                for (var i = 0; i < nbb_cells.length; ++i) {\n",
       "                    if (nbb_cells[i].input_prompt_number == nbb_cell_id) {\n",
       "                        if (nbb_cells[i].get_text() == nbb_unformatted_code) {\n",
       "                             nbb_cells[i].set_text(nbb_formatted_code);\n",
       "                        }\n",
       "                        break;\n",
       "                    }\n",
       "                }\n",
       "            }, 500);\n",
       "            "
      ],
      "text/plain": [
       "<IPython.core.display.Javascript object>"
      ]
     },
     "metadata": {},
     "output_type": "display_data"
    }
   ],
   "source": [
    "#export\n",
    "class BatchTransformXCallback(Callback):\n",
    "    _order = 2\n",
    "\n",
    "    def __init__(self, tfm):\n",
    "        self.tfm = tfm\n",
    "\n",
    "    def before_batch(self):\n",
    "        self.learner.xb = self.tfm(self.xb)\n",
    "\n",
    "\n",
    "def view_tfm(*size):\n",
    "    def _inner(x):\n",
    "        return x.view(*((-1, ) + size))\n",
    "\n",
    "    return _inner"
   ]
  },
  {
   "cell_type": "code",
   "execution_count": 62,
   "metadata": {
    "hidden": true
   },
   "outputs": [
    {
     "data": {
      "text/plain": [
       "[exp.nb_05b.Recorder,\n",
       " functools.partial(<class 'exp.nb_05b.AvgStatsCallback'>, <function accuracy at 0x7f8bfe3e70d0>),\n",
       " functools.partial(<class '__main__.BatchTransformXCallback'>, <function view_tfm.<locals>._inner at 0x7f8bc9db3700>)]"
      ]
     },
     "execution_count": 62,
     "metadata": {},
     "output_type": "execute_result"
    },
    {
     "data": {
      "application/javascript": [
       "\n",
       "            setTimeout(function() {\n",
       "                var nbb_cell_id = 62;\n",
       "                var nbb_unformatted_code = \"mnist_view = view_tfm(1,28,28)\\ncbfs += [partial(BatchTransformXCallback, mnist_view)]\\ncbfs\";\n",
       "                var nbb_formatted_code = \"mnist_view = view_tfm(1, 28, 28)\\ncbfs += [partial(BatchTransformXCallback, mnist_view)]\\ncbfs\";\n",
       "                var nbb_cells = Jupyter.notebook.get_cells();\n",
       "                for (var i = 0; i < nbb_cells.length; ++i) {\n",
       "                    if (nbb_cells[i].input_prompt_number == nbb_cell_id) {\n",
       "                        if (nbb_cells[i].get_text() == nbb_unformatted_code) {\n",
       "                             nbb_cells[i].set_text(nbb_formatted_code);\n",
       "                        }\n",
       "                        break;\n",
       "                    }\n",
       "                }\n",
       "            }, 500);\n",
       "            "
      ],
      "text/plain": [
       "<IPython.core.display.Javascript object>"
      ]
     },
     "metadata": {},
     "output_type": "display_data"
    }
   ],
   "source": [
    "mnist_view = view_tfm(1,28,28)\n",
    "cbfs += [partial(BatchTransformXCallback, mnist_view)]\n",
    "cbfs"
   ]
  },
  {
   "cell_type": "markdown",
   "metadata": {
    "hidden": true
   },
   "source": [
    "With the `AdaptiveAvgPool`, this model can now work on any size input:"
   ]
  },
  {
   "cell_type": "code",
   "execution_count": 63,
   "metadata": {
    "hidden": true
   },
   "outputs": [
    {
     "data": {
      "application/javascript": [
       "\n",
       "            setTimeout(function() {\n",
       "                var nbb_cell_id = 63;\n",
       "                var nbb_unformatted_code = \"nfs = [8, 16, 32, 32]\";\n",
       "                var nbb_formatted_code = \"nfs = [8, 16, 32, 32]\";\n",
       "                var nbb_cells = Jupyter.notebook.get_cells();\n",
       "                for (var i = 0; i < nbb_cells.length; ++i) {\n",
       "                    if (nbb_cells[i].input_prompt_number == nbb_cell_id) {\n",
       "                        if (nbb_cells[i].get_text() == nbb_unformatted_code) {\n",
       "                             nbb_cells[i].set_text(nbb_formatted_code);\n",
       "                        }\n",
       "                        break;\n",
       "                    }\n",
       "                }\n",
       "            }, 500);\n",
       "            "
      ],
      "text/plain": [
       "<IPython.core.display.Javascript object>"
      ]
     },
     "metadata": {},
     "output_type": "display_data"
    }
   ],
   "source": [
    "nfs = [8, 16, 32, 32]"
   ]
  },
  {
   "cell_type": "code",
   "execution_count": 64,
   "metadata": {
    "hidden": true
   },
   "outputs": [
    {
     "data": {
      "application/javascript": [
       "\n",
       "            setTimeout(function() {\n",
       "                var nbb_cell_id = 64;\n",
       "                var nbb_unformatted_code = \"def get_cnn_layers(data, nfs):\\n    nfs = [1] + nfs\\n    return [\\n        conv2d(nfs[i], nfs[i + 1], 5 if i == 0 else 3)\\n        for i in range(len(nfs) - 1)\\n    ] + [nn.AdaptiveAvgPool2d(1),\\n         Lambda(flatten),\\n         nn.Linear(nfs[-1], data.c)]\\n\\n\\ndef get_cnn_model(data, nfs):\\n    return nn.Sequential(*get_cnn_layers(data, nfs))\";\n",
       "                var nbb_formatted_code = \"def get_cnn_layers(data, nfs):\\n    nfs = [1] + nfs\\n    return [\\n        conv2d(nfs[i], nfs[i + 1], 5 if i == 0 else 3) for i in range(len(nfs) - 1)\\n    ] + [nn.AdaptiveAvgPool2d(1), Lambda(flatten), nn.Linear(nfs[-1], data.c)]\\n\\n\\ndef get_cnn_model(data, nfs):\\n    return nn.Sequential(*get_cnn_layers(data, nfs))\";\n",
       "                var nbb_cells = Jupyter.notebook.get_cells();\n",
       "                for (var i = 0; i < nbb_cells.length; ++i) {\n",
       "                    if (nbb_cells[i].input_prompt_number == nbb_cell_id) {\n",
       "                        if (nbb_cells[i].get_text() == nbb_unformatted_code) {\n",
       "                             nbb_cells[i].set_text(nbb_formatted_code);\n",
       "                        }\n",
       "                        break;\n",
       "                    }\n",
       "                }\n",
       "            }, 500);\n",
       "            "
      ],
      "text/plain": [
       "<IPython.core.display.Javascript object>"
      ]
     },
     "metadata": {},
     "output_type": "display_data"
    }
   ],
   "source": [
    "def get_cnn_layers(data, nfs):\n",
    "    nfs = [1] + nfs\n",
    "    return [\n",
    "        conv2d(nfs[i], nfs[i + 1], 5 if i == 0 else 3)\n",
    "        for i in range(len(nfs) - 1)\n",
    "    ] + [nn.AdaptiveAvgPool2d(1),\n",
    "         Lambda(flatten),\n",
    "         nn.Linear(nfs[-1], data.c)]\n",
    "\n",
    "\n",
    "def get_cnn_model(data, nfs):\n",
    "    return nn.Sequential(*get_cnn_layers(data, nfs))"
   ]
  },
  {
   "cell_type": "markdown",
   "metadata": {
    "hidden": true
   },
   "source": [
    "And this helper function will quickly give us everything needed to run the training."
   ]
  },
  {
   "cell_type": "code",
   "execution_count": 65,
   "metadata": {
    "hidden": true
   },
   "outputs": [
    {
     "data": {
      "application/javascript": [
       "\n",
       "            setTimeout(function() {\n",
       "                var nbb_cell_id = 65;\n",
       "                var nbb_unformatted_code = \"#export\\ndef get_learner(model,\\n               data,\\n               lr=0.6,\\n               cbs=None,\\n               opt_func=None,\\n               loss_func=F.cross_entropy):\\n    if opt_func is None: opt_func = optim.SGD\\n    opt = opt_func(model.parameters(), lr=lr)\\n    return Learner(model, data, loss_func, opt, cb_funcs=listify(cbs))\";\n",
       "                var nbb_formatted_code = \"# export\\ndef get_learner(\\n    model, data, lr=0.6, cbs=None, opt_func=None, loss_func=F.cross_entropy\\n):\\n    if opt_func is None:\\n        opt_func = optim.SGD\\n    opt = opt_func(model.parameters(), lr=lr)\\n    return Learner(model, data, loss_func, opt, cb_funcs=listify(cbs))\";\n",
       "                var nbb_cells = Jupyter.notebook.get_cells();\n",
       "                for (var i = 0; i < nbb_cells.length; ++i) {\n",
       "                    if (nbb_cells[i].input_prompt_number == nbb_cell_id) {\n",
       "                        if (nbb_cells[i].get_text() == nbb_unformatted_code) {\n",
       "                             nbb_cells[i].set_text(nbb_formatted_code);\n",
       "                        }\n",
       "                        break;\n",
       "                    }\n",
       "                }\n",
       "            }, 500);\n",
       "            "
      ],
      "text/plain": [
       "<IPython.core.display.Javascript object>"
      ]
     },
     "metadata": {},
     "output_type": "display_data"
    }
   ],
   "source": [
    "#export\n",
    "def get_learner(model,\n",
    "               data,\n",
    "               lr=0.6,\n",
    "               cbs=None,\n",
    "               opt_func=None,\n",
    "               loss_func=F.cross_entropy):\n",
    "    if opt_func is None: opt_func = optim.SGD\n",
    "    opt = opt_func(model.parameters(), lr=lr)\n",
    "    return Learner(model, data, loss_func, opt, cb_funcs=listify(cbs))"
   ]
  },
  {
   "cell_type": "code",
   "execution_count": 66,
   "metadata": {
    "hidden": true
   },
   "outputs": [
    {
     "data": {
      "application/javascript": [
       "\n",
       "            setTimeout(function() {\n",
       "                var nbb_cell_id = 66;\n",
       "                var nbb_unformatted_code = \"model = get_cnn_model(data, nfs)\\nlearner = get_learner(model, data, lr=0.4, cbs=cbfs)\";\n",
       "                var nbb_formatted_code = \"model = get_cnn_model(data, nfs)\\nlearner = get_learner(model, data, lr=0.4, cbs=cbfs)\";\n",
       "                var nbb_cells = Jupyter.notebook.get_cells();\n",
       "                for (var i = 0; i < nbb_cells.length; ++i) {\n",
       "                    if (nbb_cells[i].input_prompt_number == nbb_cell_id) {\n",
       "                        if (nbb_cells[i].get_text() == nbb_unformatted_code) {\n",
       "                             nbb_cells[i].set_text(nbb_formatted_code);\n",
       "                        }\n",
       "                        break;\n",
       "                    }\n",
       "                }\n",
       "            }, 500);\n",
       "            "
      ],
      "text/plain": [
       "<IPython.core.display.Javascript object>"
      ]
     },
     "metadata": {},
     "output_type": "display_data"
    }
   ],
   "source": [
    "model = get_cnn_model(data, nfs)\n",
    "learner = get_learner(model, data, lr=0.4, cbs=cbfs)"
   ]
  },
  {
   "cell_type": "code",
   "execution_count": 67,
   "metadata": {
    "hidden": true
   },
   "outputs": [
    {
     "data": {
      "text/plain": [
       "Sequential(\n",
       "  (0): Sequential(\n",
       "    (0): Conv2d(1, 8, kernel_size=(5, 5), stride=(2, 2), padding=(2, 2))\n",
       "    (1): ReLU()\n",
       "  )\n",
       "  (1): Sequential(\n",
       "    (0): Conv2d(8, 16, kernel_size=(3, 3), stride=(2, 2), padding=(1, 1))\n",
       "    (1): ReLU()\n",
       "  )\n",
       "  (2): Sequential(\n",
       "    (0): Conv2d(16, 32, kernel_size=(3, 3), stride=(2, 2), padding=(1, 1))\n",
       "    (1): ReLU()\n",
       "  )\n",
       "  (3): Sequential(\n",
       "    (0): Conv2d(32, 32, kernel_size=(3, 3), stride=(2, 2), padding=(1, 1))\n",
       "    (1): ReLU()\n",
       "  )\n",
       "  (4): AdaptiveAvgPool2d(output_size=1)\n",
       "  (5): Lambda()\n",
       "  (6): Linear(in_features=32, out_features=10, bias=True)\n",
       ")"
      ]
     },
     "execution_count": 67,
     "metadata": {},
     "output_type": "execute_result"
    },
    {
     "data": {
      "application/javascript": [
       "\n",
       "            setTimeout(function() {\n",
       "                var nbb_cell_id = 67;\n",
       "                var nbb_unformatted_code = \"model\";\n",
       "                var nbb_formatted_code = \"model\";\n",
       "                var nbb_cells = Jupyter.notebook.get_cells();\n",
       "                for (var i = 0; i < nbb_cells.length; ++i) {\n",
       "                    if (nbb_cells[i].input_prompt_number == nbb_cell_id) {\n",
       "                        if (nbb_cells[i].get_text() == nbb_unformatted_code) {\n",
       "                             nbb_cells[i].set_text(nbb_formatted_code);\n",
       "                        }\n",
       "                        break;\n",
       "                    }\n",
       "                }\n",
       "            }, 500);\n",
       "            "
      ],
      "text/plain": [
       "<IPython.core.display.Javascript object>"
      ]
     },
     "metadata": {},
     "output_type": "display_data"
    }
   ],
   "source": [
    "model"
   ]
  },
  {
   "cell_type": "code",
   "execution_count": 68,
   "metadata": {
    "hidden": true
   },
   "outputs": [
    {
     "name": "stdout",
     "output_type": "stream",
     "text": [
      "train: [1.6152425, tensor(0.4523)]\n",
      "valid: [0.63517421875, tensor(0.8039)]\n",
      "train: [0.32314859375, tensor(0.9023)]\n",
      "valid: [0.18730223388671874, tensor(0.9441)]\n",
      "train: [0.1770338671875, tensor(0.9467)]\n",
      "valid: [0.245772021484375, tensor(0.9234)]\n"
     ]
    },
    {
     "data": {
      "application/javascript": [
       "\n",
       "            setTimeout(function() {\n",
       "                var nbb_cell_id = 68;\n",
       "                var nbb_unformatted_code = \"learner.fit(3)\";\n",
       "                var nbb_formatted_code = \"learner.fit(3)\";\n",
       "                var nbb_cells = Jupyter.notebook.get_cells();\n",
       "                for (var i = 0; i < nbb_cells.length; ++i) {\n",
       "                    if (nbb_cells[i].input_prompt_number == nbb_cell_id) {\n",
       "                        if (nbb_cells[i].get_text() == nbb_unformatted_code) {\n",
       "                             nbb_cells[i].set_text(nbb_formatted_code);\n",
       "                        }\n",
       "                        break;\n",
       "                    }\n",
       "                }\n",
       "            }, 500);\n",
       "            "
      ],
      "text/plain": [
       "<IPython.core.display.Javascript object>"
      ]
     },
     "metadata": {},
     "output_type": "display_data"
    }
   ],
   "source": [
    "learner.fit(3)"
   ]
  },
  {
   "cell_type": "code",
   "execution_count": 70,
   "metadata": {
    "hidden": true
   },
   "outputs": [
    {
     "data": {
      "image/png": "[encoded data removed]",
      "text/plain": [
       "<Figure size 432x288 with 1 Axes>"
      ]
     },
     "metadata": {
      "needs_background": "light"
     },
     "output_type": "display_data"
    },
    {
     "data": {
      "application/javascript": [
       "\n",
       "            setTimeout(function() {\n",
       "                var nbb_cell_id = 70;\n",
       "                var nbb_unformatted_code = \"learner.recorder.plot_loss()\";\n",
       "                var nbb_formatted_code = \"learner.recorder.plot_loss()\";\n",
       "                var nbb_cells = Jupyter.notebook.get_cells();\n",
       "                for (var i = 0; i < nbb_cells.length; ++i) {\n",
       "                    if (nbb_cells[i].input_prompt_number == nbb_cell_id) {\n",
       "                        if (nbb_cells[i].get_text() == nbb_unformatted_code) {\n",
       "                             nbb_cells[i].set_text(nbb_formatted_code);\n",
       "                        }\n",
       "                        break;\n",
       "                    }\n",
       "                }\n",
       "            }, 500);\n",
       "            "
      ],
      "text/plain": [
       "<IPython.core.display.Javascript object>"
      ]
     },
     "metadata": {},
     "output_type": "display_data"
    }
   ],
   "source": [
    "learner.recorder.plot_loss()"
   ]
  },
  {
   "cell_type": "markdown",
   "metadata": {
    "heading_collapsed": "true"
   },
   "source": [
    "# Hooks"
   ]
  },
  {
   "cell_type": "markdown",
   "metadata": {
    "heading_collapsed": "true",
    "hidden": true
   },
   "source": [
    "### Manual insertion"
   ]
  },
  {
   "cell_type": "markdown",
   "metadata": {
    "hidden": true
   },
   "source": [
    "Let's say we want to do some telemetry, and want the mean and standard deviation of each activations in the model. First we can do it manually like this:"
   ]
  },
  {
   "cell_type": "code",
   "execution_count": 71,
   "metadata": {
    "hidden": true
   },
   "outputs": [
    {
     "data": {
      "application/javascript": [
       "\n",
       "            setTimeout(function() {\n",
       "                var nbb_cell_id = 71;\n",
       "                var nbb_unformatted_code = \"class SequentialModel(nn.Module):\\n    def __init__(self, *layers):\\n        super().__init__()\\n        self.layers = nn.ModuleList(layers)\\n        self.act_means = [[] for _ in layers]\\n        self.act_stds = [[] for _ in layers]\\n\\n    def __call__(self, x):\\n        for i, l in enumerate(self.layers):\\n            x = l(x)\\n            self.act_means[i].append(x.data.mean())\\n            self.act_stds[i].append(x.data.std())\\n        return x\\n\\n    def __iter__(self):\\n        return iter(self.layers)\";\n",
       "                var nbb_formatted_code = \"class SequentialModel(nn.Module):\\n    def __init__(self, *layers):\\n        super().__init__()\\n        self.layers = nn.ModuleList(layers)\\n        self.act_means = [[] for _ in layers]\\n        self.act_stds = [[] for _ in layers]\\n\\n    def __call__(self, x):\\n        for i, l in enumerate(self.layers):\\n            x = l(x)\\n            self.act_means[i].append(x.data.mean())\\n            self.act_stds[i].append(x.data.std())\\n        return x\\n\\n    def __iter__(self):\\n        return iter(self.layers)\";\n",
       "                var nbb_cells = Jupyter.notebook.get_cells();\n",
       "                for (var i = 0; i < nbb_cells.length; ++i) {\n",
       "                    if (nbb_cells[i].input_prompt_number == nbb_cell_id) {\n",
       "                        if (nbb_cells[i].get_text() == nbb_unformatted_code) {\n",
       "                             nbb_cells[i].set_text(nbb_formatted_code);\n",
       "                        }\n",
       "                        break;\n",
       "                    }\n",
       "                }\n",
       "            }, 500);\n",
       "            "
      ],
      "text/plain": [
       "<IPython.core.display.Javascript object>"
      ]
     },
     "metadata": {},
     "output_type": "display_data"
    }
   ],
   "source": [
    "class SequentialModel(nn.Module):\n",
    "    def __init__(self, *layers):\n",
    "        super().__init__()\n",
    "        self.layers = nn.ModuleList(layers)\n",
    "        self.act_means = [[] for _ in layers]\n",
    "        self.act_stds = [[] for _ in layers]\n",
    "\n",
    "    def __call__(self, x):\n",
    "        for i, l in enumerate(self.layers):\n",
    "            x = l(x)\n",
    "            self.act_means[i].append(x.data.mean())\n",
    "            self.act_stds[i].append(x.data.std())\n",
    "        return x\n",
    "\n",
    "    def __iter__(self):\n",
    "        return iter(self.layers)"
   ]
  },
  {
   "cell_type": "code",
   "execution_count": 72,
   "metadata": {
    "hidden": true
   },
   "outputs": [
    {
     "data": {
      "text/plain": [
       "SequentialModel(\n",
       "  (layers): ModuleList(\n",
       "    (0): Sequential(\n",
       "      (0): Conv2d(1, 8, kernel_size=(5, 5), stride=(2, 2), padding=(2, 2))\n",
       "      (1): ReLU()\n",
       "    )\n",
       "    (1): Sequential(\n",
       "      (0): Conv2d(8, 16, kernel_size=(3, 3), stride=(2, 2), padding=(1, 1))\n",
       "      (1): ReLU()\n",
       "    )\n",
       "    (2): Sequential(\n",
       "      (0): Conv2d(16, 32, kernel_size=(3, 3), stride=(2, 2), padding=(1, 1))\n",
       "      (1): ReLU()\n",
       "    )\n",
       "    (3): Sequential(\n",
       "      (0): Conv2d(32, 32, kernel_size=(3, 3), stride=(2, 2), padding=(1, 1))\n",
       "      (1): ReLU()\n",
       "    )\n",
       "    (4): AdaptiveAvgPool2d(output_size=1)\n",
       "    (5): Lambda()\n",
       "    (6): Linear(in_features=32, out_features=10, bias=True)\n",
       "  )\n",
       ")"
      ]
     },
     "execution_count": 72,
     "metadata": {},
     "output_type": "execute_result"
    },
    {
     "data": {
      "application/javascript": [
       "\n",
       "            setTimeout(function() {\n",
       "                var nbb_cell_id = 72;\n",
       "                var nbb_unformatted_code = \"model =  SequentialModel(*get_cnn_layers(data, nfs))\\nmodel\";\n",
       "                var nbb_formatted_code = \"model = SequentialModel(*get_cnn_layers(data, nfs))\\nmodel\";\n",
       "                var nbb_cells = Jupyter.notebook.get_cells();\n",
       "                for (var i = 0; i < nbb_cells.length; ++i) {\n",
       "                    if (nbb_cells[i].input_prompt_number == nbb_cell_id) {\n",
       "                        if (nbb_cells[i].get_text() == nbb_unformatted_code) {\n",
       "                             nbb_cells[i].set_text(nbb_formatted_code);\n",
       "                        }\n",
       "                        break;\n",
       "                    }\n",
       "                }\n",
       "            }, 500);\n",
       "            "
      ],
      "text/plain": [
       "<IPython.core.display.Javascript object>"
      ]
     },
     "metadata": {},
     "output_type": "display_data"
    }
   ],
   "source": [
    "model =  SequentialModel(*get_cnn_layers(data, nfs))\n",
    "model"
   ]
  },
  {
   "cell_type": "code",
   "execution_count": 74,
   "metadata": {
    "hidden": true
   },
   "outputs": [
    {
     "data": {
      "application/javascript": [
       "\n",
       "            setTimeout(function() {\n",
       "                var nbb_cell_id = 74;\n",
       "                var nbb_unformatted_code = \"learner = get_learner(model, data, lr=0.9, cbs=cbfs)\";\n",
       "                var nbb_formatted_code = \"learner = get_learner(model, data, lr=0.9, cbs=cbfs)\";\n",
       "                var nbb_cells = Jupyter.notebook.get_cells();\n",
       "                for (var i = 0; i < nbb_cells.length; ++i) {\n",
       "                    if (nbb_cells[i].input_prompt_number == nbb_cell_id) {\n",
       "                        if (nbb_cells[i].get_text() == nbb_unformatted_code) {\n",
       "                             nbb_cells[i].set_text(nbb_formatted_code);\n",
       "                        }\n",
       "                        break;\n",
       "                    }\n",
       "                }\n",
       "            }, 500);\n",
       "            "
      ],
      "text/plain": [
       "<IPython.core.display.Javascript object>"
      ]
     },
     "metadata": {},
     "output_type": "display_data"
    }
   ],
   "source": [
    "learner = get_learner(model, data, lr=0.9, cbs=cbfs)"
   ]
  },
  {
   "cell_type": "code",
   "execution_count": 75,
   "metadata": {
    "hidden": true
   },
   "outputs": [
    {
     "name": "stdout",
     "output_type": "stream",
     "text": [
      "train: [2.2168646875, tensor(0.1790)]\n",
      "valid: [1.648433203125, tensor(0.3920)]\n",
      "train: [1.944179375, tensor(0.2990)]\n",
      "valid: [1.17498876953125, tensor(0.6137)]\n"
     ]
    },
    {
     "data": {
      "application/javascript": [
       "\n",
       "            setTimeout(function() {\n",
       "                var nbb_cell_id = 75;\n",
       "                var nbb_unformatted_code = \"learner.fit(2)\";\n",
       "                var nbb_formatted_code = \"learner.fit(2)\";\n",
       "                var nbb_cells = Jupyter.notebook.get_cells();\n",
       "                for (var i = 0; i < nbb_cells.length; ++i) {\n",
       "                    if (nbb_cells[i].input_prompt_number == nbb_cell_id) {\n",
       "                        if (nbb_cells[i].get_text() == nbb_unformatted_code) {\n",
       "                             nbb_cells[i].set_text(nbb_formatted_code);\n",
       "                        }\n",
       "                        break;\n",
       "                    }\n",
       "                }\n",
       "            }, 500);\n",
       "            "
      ],
      "text/plain": [
       "<IPython.core.display.Javascript object>"
      ]
     },
     "metadata": {},
     "output_type": "display_data"
    }
   ],
   "source": [
    "learner.fit(2)"
   ]
  },
  {
   "cell_type": "markdown",
   "metadata": {
    "hidden": true
   },
   "source": [
    "Now we can have a look at the means and stds of the activations at the beginning of training."
   ]
  },
  {
   "cell_type": "code",
   "execution_count": 76,
   "metadata": {
    "hidden": true
   },
   "outputs": [
    {
     "data": {
      "text/plain": [
       "<matplotlib.legend.Legend at 0x7f8bc9c308e0>"
      ]
     },
     "execution_count": 76,
     "metadata": {},
     "output_type": "execute_result"
    },
    {
     "data": {
      "image/png": "[encoded data removed]",
      "text/plain": [
       "<Figure size 432x288 with 1 Axes>"
      ]
     },
     "metadata": {
      "needs_background": "light"
     },
     "output_type": "display_data"
    },
    {
     "data": {
      "application/javascript": [
       "\n",
       "            setTimeout(function() {\n",
       "                var nbb_cell_id = 76;\n",
       "                var nbb_unformatted_code = \"for l in model.act_means:\\n    plt.plot(l)\\nplt.legend(range(6))\";\n",
       "                var nbb_formatted_code = \"for l in model.act_means:\\n    plt.plot(l)\\nplt.legend(range(6))\";\n",
       "                var nbb_cells = Jupyter.notebook.get_cells();\n",
       "                for (var i = 0; i < nbb_cells.length; ++i) {\n",
       "                    if (nbb_cells[i].input_prompt_number == nbb_cell_id) {\n",
       "                        if (nbb_cells[i].get_text() == nbb_unformatted_code) {\n",
       "                             nbb_cells[i].set_text(nbb_formatted_code);\n",
       "                        }\n",
       "                        break;\n",
       "                    }\n",
       "                }\n",
       "            }, 500);\n",
       "            "
      ],
      "text/plain": [
       "<IPython.core.display.Javascript object>"
      ]
     },
     "metadata": {},
     "output_type": "display_data"
    }
   ],
   "source": [
    "for l in model.act_means:\n",
    "    plt.plot(l)\n",
    "plt.legend(range(6))"
   ]
  },
  {
   "cell_type": "markdown",
   "metadata": {
    "hidden": true
   },
   "source": [
    "From this chart, we don't know if after the spikes in the beginning of the training the gradients are not very close to zero. This means that the majority of the parameters are close to zero and not much training is done."
   ]
  },
  {
   "cell_type": "code",
   "execution_count": 77,
   "metadata": {
    "hidden": true
   },
   "outputs": [
    {
     "data": {
      "text/plain": [
       "<matplotlib.legend.Legend at 0x7f8bc96934f0>"
      ]
     },
     "execution_count": 77,
     "metadata": {},
     "output_type": "execute_result"
    },
    {
     "data": {
      "image/png": "[encoded data removed]",
      "text/plain": [
       "<Figure size 432x288 with 1 Axes>"
      ]
     },
     "metadata": {
      "needs_background": "light"
     },
     "output_type": "display_data"
    },
    {
     "data": {
      "application/javascript": [
       "\n",
       "            setTimeout(function() {\n",
       "                var nbb_cell_id = 77;\n",
       "                var nbb_unformatted_code = \"for l in model.act_stds:\\n    plt.plot(l)\\nplt.legend(range(6))\";\n",
       "                var nbb_formatted_code = \"for l in model.act_stds:\\n    plt.plot(l)\\nplt.legend(range(6))\";\n",
       "                var nbb_cells = Jupyter.notebook.get_cells();\n",
       "                for (var i = 0; i < nbb_cells.length; ++i) {\n",
       "                    if (nbb_cells[i].input_prompt_number == nbb_cell_id) {\n",
       "                        if (nbb_cells[i].get_text() == nbb_unformatted_code) {\n",
       "                             nbb_cells[i].set_text(nbb_formatted_code);\n",
       "                        }\n",
       "                        break;\n",
       "                    }\n",
       "                }\n",
       "            }, 500);\n",
       "            "
      ],
      "text/plain": [
       "<IPython.core.display.Javascript object>"
      ]
     },
     "metadata": {},
     "output_type": "display_data"
    }
   ],
   "source": [
    "for l in model.act_stds:\n",
    "    plt.plot(l)\n",
    "plt.legend(range(6))"
   ]
  },
  {
   "cell_type": "code",
   "execution_count": 78,
   "metadata": {
    "hidden": true
   },
   "outputs": [
    {
     "data": {
      "image/png": "[encoded data removed]",
      "text/plain": [
       "<Figure size 432x288 with 1 Axes>"
      ]
     },
     "metadata": {
      "needs_background": "light"
     },
     "output_type": "display_data"
    },
    {
     "data": {
      "application/javascript": [
       "\n",
       "            setTimeout(function() {\n",
       "                var nbb_cell_id = 78;\n",
       "                var nbb_unformatted_code = \"for l in model.act_means:\\n    plt.plot(l[:10])\\nplt.legend(range(6));\";\n",
       "                var nbb_formatted_code = \"for l in model.act_means:\\n    plt.plot(l[:10])\\nplt.legend(range(6))\";\n",
       "                var nbb_cells = Jupyter.notebook.get_cells();\n",
       "                for (var i = 0; i < nbb_cells.length; ++i) {\n",
       "                    if (nbb_cells[i].input_prompt_number == nbb_cell_id) {\n",
       "                        if (nbb_cells[i].get_text() == nbb_unformatted_code) {\n",
       "                             nbb_cells[i].set_text(nbb_formatted_code);\n",
       "                        }\n",
       "                        break;\n",
       "                    }\n",
       "                }\n",
       "            }, 500);\n",
       "            "
      ],
      "text/plain": [
       "<IPython.core.display.Javascript object>"
      ]
     },
     "metadata": {},
     "output_type": "display_data"
    }
   ],
   "source": [
    "for l in model.act_means:\n",
    "    plt.plot(l[:10])\n",
    "plt.legend(range(6));"
   ]
  },
  {
   "cell_type": "code",
   "execution_count": 79,
   "metadata": {
    "hidden": true
   },
   "outputs": [
    {
     "data": {
      "image/png": "[encoded data removed]",
      "text/plain": [
       "<Figure size 432x288 with 1 Axes>"
      ]
     },
     "metadata": {
      "needs_background": "light"
     },
     "output_type": "display_data"
    },
    {
     "data": {
      "application/javascript": [
       "\n",
       "            setTimeout(function() {\n",
       "                var nbb_cell_id = 79;\n",
       "                var nbb_unformatted_code = \"for l in model.act_stds:\\n    plt.plot(l[:10])\\nplt.legend(range(6));\";\n",
       "                var nbb_formatted_code = \"for l in model.act_stds:\\n    plt.plot(l[:10])\\nplt.legend(range(6))\";\n",
       "                var nbb_cells = Jupyter.notebook.get_cells();\n",
       "                for (var i = 0; i < nbb_cells.length; ++i) {\n",
       "                    if (nbb_cells[i].input_prompt_number == nbb_cell_id) {\n",
       "                        if (nbb_cells[i].get_text() == nbb_unformatted_code) {\n",
       "                             nbb_cells[i].set_text(nbb_formatted_code);\n",
       "                        }\n",
       "                        break;\n",
       "                    }\n",
       "                }\n",
       "            }, 500);\n",
       "            "
      ],
      "text/plain": [
       "<IPython.core.display.Javascript object>"
      ]
     },
     "metadata": {},
     "output_type": "display_data"
    }
   ],
   "source": [
    "for l in model.act_stds:\n",
    "    plt.plot(l[:10])\n",
    "plt.legend(range(6));"
   ]
  },
  {
   "cell_type": "markdown",
   "metadata": {
    "hidden": true
   },
   "source": [
    "It is very obvious that later layers are not training since their means and stds are very close to zero. That is because the gradients at the beginning were very big that the parameters of those layers kinda fall of cliff and have to restart again."
   ]
  },
  {
   "cell_type": "markdown",
   "metadata": {
    "heading_collapsed": "true",
    "hidden": true
   },
   "source": [
    "### Pytorch hooks"
   ]
  },
  {
   "cell_type": "markdown",
   "metadata": {
    "hidden": true
   },
   "source": [
    "Hooks are PyTorch object you can add to any nn.Module. A hook will be called when a layer, it is registered to, is executed during the forward pass (forward hook) or the backward pass (backward hook).\n",
    "\n",
    "Hooks don't require us to rewrite the model."
   ]
  },
  {
   "cell_type": "code",
   "execution_count": 81,
   "metadata": {
    "hidden": true
   },
   "outputs": [
    {
     "data": {
      "application/javascript": [
       "\n",
       "            setTimeout(function() {\n",
       "                var nbb_cell_id = 81;\n",
       "                var nbb_unformatted_code = \"model = get_cnn_model(data, nfs)\\nlearner = get_learner(model, data, lr=0.5, cbs=cbfs)\";\n",
       "                var nbb_formatted_code = \"model = get_cnn_model(data, nfs)\\nlearner = get_learner(model, data, lr=0.5, cbs=cbfs)\";\n",
       "                var nbb_cells = Jupyter.notebook.get_cells();\n",
       "                for (var i = 0; i < nbb_cells.length; ++i) {\n",
       "                    if (nbb_cells[i].input_prompt_number == nbb_cell_id) {\n",
       "                        if (nbb_cells[i].get_text() == nbb_unformatted_code) {\n",
       "                             nbb_cells[i].set_text(nbb_formatted_code);\n",
       "                        }\n",
       "                        break;\n",
       "                    }\n",
       "                }\n",
       "            }, 500);\n",
       "            "
      ],
      "text/plain": [
       "<IPython.core.display.Javascript object>"
      ]
     },
     "metadata": {},
     "output_type": "display_data"
    }
   ],
   "source": [
    "model = get_cnn_model(data, nfs)\n",
    "learner = get_learner(model, data, lr=0.5, cbs=cbfs)"
   ]
  },
  {
   "cell_type": "code",
   "execution_count": 82,
   "metadata": {
    "hidden": true
   },
   "outputs": [
    {
     "data": {
      "application/javascript": [
       "\n",
       "            setTimeout(function() {\n",
       "                var nbb_cell_id = 82;\n",
       "                var nbb_unformatted_code = \"act_means = [[] for _ in model]\\nact_stds  = [[] for _ in model]\";\n",
       "                var nbb_formatted_code = \"act_means = [[] for _ in model]\\nact_stds = [[] for _ in model]\";\n",
       "                var nbb_cells = Jupyter.notebook.get_cells();\n",
       "                for (var i = 0; i < nbb_cells.length; ++i) {\n",
       "                    if (nbb_cells[i].input_prompt_number == nbb_cell_id) {\n",
       "                        if (nbb_cells[i].get_text() == nbb_unformatted_code) {\n",
       "                             nbb_cells[i].set_text(nbb_formatted_code);\n",
       "                        }\n",
       "                        break;\n",
       "                    }\n",
       "                }\n",
       "            }, 500);\n",
       "            "
      ],
      "text/plain": [
       "<IPython.core.display.Javascript object>"
      ]
     },
     "metadata": {},
     "output_type": "display_data"
    }
   ],
   "source": [
    "act_means = [[] for _ in model]\n",
    "act_stds  = [[] for _ in model]"
   ]
  },
  {
   "cell_type": "markdown",
   "metadata": {
    "hidden": true
   },
   "source": [
    "A hook is attached to a layer, and needs to have a function that takes three arguments: module, input, output. Here we store the mean and std of the output in the correct position of our list."
   ]
  },
  {
   "cell_type": "code",
   "execution_count": 83,
   "metadata": {
    "hidden": true
   },
   "outputs": [
    {
     "data": {
      "application/javascript": [
       "\n",
       "            setTimeout(function() {\n",
       "                var nbb_cell_id = 83;\n",
       "                var nbb_unformatted_code = \"def append_stats(i, mod, inp, outp):\\n    act_means[i].append(outp.data.mean())\\n    act_stds [i].append(outp.data.std())\";\n",
       "                var nbb_formatted_code = \"def append_stats(i, mod, inp, outp):\\n    act_means[i].append(outp.data.mean())\\n    act_stds[i].append(outp.data.std())\";\n",
       "                var nbb_cells = Jupyter.notebook.get_cells();\n",
       "                for (var i = 0; i < nbb_cells.length; ++i) {\n",
       "                    if (nbb_cells[i].input_prompt_number == nbb_cell_id) {\n",
       "                        if (nbb_cells[i].get_text() == nbb_unformatted_code) {\n",
       "                             nbb_cells[i].set_text(nbb_formatted_code);\n",
       "                        }\n",
       "                        break;\n",
       "                    }\n",
       "                }\n",
       "            }, 500);\n",
       "            "
      ],
      "text/plain": [
       "<IPython.core.display.Javascript object>"
      ]
     },
     "metadata": {},
     "output_type": "display_data"
    }
   ],
   "source": [
    "def append_stats(i, mod, inp, outp):\n",
    "    act_means[i].append(outp.data.mean())\n",
    "    act_stds [i].append(outp.data.std())"
   ]
  },
  {
   "cell_type": "code",
   "execution_count": 84,
   "metadata": {
    "hidden": true
   },
   "outputs": [
    {
     "data": {
      "application/javascript": [
       "\n",
       "            setTimeout(function() {\n",
       "                var nbb_cell_id = 84;\n",
       "                var nbb_unformatted_code = \"for i, module in enumerate(model): \\n    module.register_forward_hook(partial(append_stats, i))\";\n",
       "                var nbb_formatted_code = \"for i, module in enumerate(model):\\n    module.register_forward_hook(partial(append_stats, i))\";\n",
       "                var nbb_cells = Jupyter.notebook.get_cells();\n",
       "                for (var i = 0; i < nbb_cells.length; ++i) {\n",
       "                    if (nbb_cells[i].input_prompt_number == nbb_cell_id) {\n",
       "                        if (nbb_cells[i].get_text() == nbb_unformatted_code) {\n",
       "                             nbb_cells[i].set_text(nbb_formatted_code);\n",
       "                        }\n",
       "                        break;\n",
       "                    }\n",
       "                }\n",
       "            }, 500);\n",
       "            "
      ],
      "text/plain": [
       "<IPython.core.display.Javascript object>"
      ]
     },
     "metadata": {},
     "output_type": "display_data"
    }
   ],
   "source": [
    "for i, module in enumerate(model): \n",
    "    module.register_forward_hook(partial(append_stats, i))"
   ]
  },
  {
   "cell_type": "code",
   "execution_count": 86,
   "metadata": {
    "hidden": true
   },
   "outputs": [
    {
     "name": "stdout",
     "output_type": "stream",
     "text": [
      "train: [1.83576625, tensor(0.3487)]\n",
      "valid: [1.0543125, tensor(0.6864)]\n"
     ]
    },
    {
     "data": {
      "application/javascript": [
       "\n",
       "            setTimeout(function() {\n",
       "                var nbb_cell_id = 86;\n",
       "                var nbb_unformatted_code = \"learner.fit(1)\";\n",
       "                var nbb_formatted_code = \"learner.fit(1)\";\n",
       "                var nbb_cells = Jupyter.notebook.get_cells();\n",
       "                for (var i = 0; i < nbb_cells.length; ++i) {\n",
       "                    if (nbb_cells[i].input_prompt_number == nbb_cell_id) {\n",
       "                        if (nbb_cells[i].get_text() == nbb_unformatted_code) {\n",
       "                             nbb_cells[i].set_text(nbb_formatted_code);\n",
       "                        }\n",
       "                        break;\n",
       "                    }\n",
       "                }\n",
       "            }, 500);\n",
       "            "
      ],
      "text/plain": [
       "<IPython.core.display.Javascript object>"
      ]
     },
     "metadata": {},
     "output_type": "display_data"
    }
   ],
   "source": [
    "learner.fit(1)"
   ]
  },
  {
   "cell_type": "code",
   "execution_count": 87,
   "metadata": {
    "hidden": true
   },
   "outputs": [
    {
     "data": {
      "image/png": "[encoded data removed]",
      "text/plain": [
       "<Figure size 432x288 with 1 Axes>"
      ]
     },
     "metadata": {
      "needs_background": "light"
     },
     "output_type": "display_data"
    },
    {
     "data": {
      "application/javascript": [
       "\n",
       "            setTimeout(function() {\n",
       "                var nbb_cell_id = 87;\n",
       "                var nbb_unformatted_code = \"for o in act_means: plt.plot(o)\\nplt.legend(range(5));\";\n",
       "                var nbb_formatted_code = \"for o in act_means:\\n    plt.plot(o)\\nplt.legend(range(5))\";\n",
       "                var nbb_cells = Jupyter.notebook.get_cells();\n",
       "                for (var i = 0; i < nbb_cells.length; ++i) {\n",
       "                    if (nbb_cells[i].input_prompt_number == nbb_cell_id) {\n",
       "                        if (nbb_cells[i].get_text() == nbb_unformatted_code) {\n",
       "                             nbb_cells[i].set_text(nbb_formatted_code);\n",
       "                        }\n",
       "                        break;\n",
       "                    }\n",
       "                }\n",
       "            }, 500);\n",
       "            "
      ],
      "text/plain": [
       "<IPython.core.display.Javascript object>"
      ]
     },
     "metadata": {},
     "output_type": "display_data"
    }
   ],
   "source": [
    "for o in act_means: plt.plot(o)\n",
    "plt.legend(range(5));"
   ]
  },
  {
   "cell_type": "markdown",
   "metadata": {
    "heading_collapsed": "true",
    "hidden": true
   },
   "source": [
    "### Hook class"
   ]
  },
  {
   "cell_type": "markdown",
   "metadata": {
    "hidden": true
   },
   "source": [
    "We can refactor this in a Hook class. It's very important to remove the hooks when they are deleted, otherwise there will be references kept and the memory won't be properly released when your model is deleted."
   ]
  },
  {
   "cell_type": "code",
   "execution_count": 88,
   "metadata": {
    "hidden": true
   },
   "outputs": [
    {
     "data": {
      "application/javascript": [
       "\n",
       "            setTimeout(function() {\n",
       "                var nbb_cell_id = 88;\n",
       "                var nbb_unformatted_code = \"#export\\ndef children(m):\\n    return list(m.children())\\n\\n\\nclass Hook:\\n    def __init__(self, module, func, is_forward=True):\\n        self.is_forward = is_forward\\n        if self.is_forward:\\n            self.hook = module.register_forward_hook(partial(func, self))\\n        else:\\n            self.hook = module.register_backward_hook(partial(func, self))\\n\\n    def remove(self):\\n        self.hook.remove()\\n\\n    def __del__(self):\\n        self.remove()\\n\\n\\ndef compute_stats(hook, module, inp, outp):\\n    '''Compute the means and std of each layer.'''\\n    if not hasattr(hook, 'stats'):\\n        hook.stats = ([], [])\\n    if not hook.is_forward:\\n        inp = inp[0], outp = outp[0]\\n    hook.stats[0].append(outp.data.mean())\\n    hook.stats[1].append(outp.data.std()) \";\n",
       "                var nbb_formatted_code = \"# export\\ndef children(m):\\n    return list(m.children())\\n\\n\\nclass Hook:\\n    def __init__(self, module, func, is_forward=True):\\n        self.is_forward = is_forward\\n        if self.is_forward:\\n            self.hook = module.register_forward_hook(partial(func, self))\\n        else:\\n            self.hook = module.register_backward_hook(partial(func, self))\\n\\n    def remove(self):\\n        self.hook.remove()\\n\\n    def __del__(self):\\n        self.remove()\\n\\n\\ndef compute_stats(hook, module, inp, outp):\\n    \\\"\\\"\\\"Compute the means and std of each layer.\\\"\\\"\\\"\\n    if not hasattr(hook, \\\"stats\\\"):\\n        hook.stats = ([], [])\\n    if not hook.is_forward:\\n        inp = inp[0], outp = outp[0]\\n    hook.stats[0].append(outp.data.mean())\\n    hook.stats[1].append(outp.data.std())\";\n",
       "                var nbb_cells = Jupyter.notebook.get_cells();\n",
       "                for (var i = 0; i < nbb_cells.length; ++i) {\n",
       "                    if (nbb_cells[i].input_prompt_number == nbb_cell_id) {\n",
       "                        if (nbb_cells[i].get_text() == nbb_unformatted_code) {\n",
       "                             nbb_cells[i].set_text(nbb_formatted_code);\n",
       "                        }\n",
       "                        break;\n",
       "                    }\n",
       "                }\n",
       "            }, 500);\n",
       "            "
      ],
      "text/plain": [
       "<IPython.core.display.Javascript object>"
      ]
     },
     "metadata": {},
     "output_type": "display_data"
    }
   ],
   "source": [
    "#export\n",
    "def children(m):\n",
    "    return list(m.children())\n",
    "\n",
    "\n",
    "class Hook:\n",
    "    def __init__(self, module, func, is_forward=True):\n",
    "        self.is_forward = is_forward\n",
    "        if self.is_forward:\n",
    "            self.hook = module.register_forward_hook(partial(func, self))\n",
    "        else:\n",
    "            self.hook = module.register_backward_hook(partial(func, self))\n",
    "\n",
    "    def remove(self):\n",
    "        self.hook.remove()\n",
    "\n",
    "    def __del__(self):\n",
    "        self.remove()\n",
    "\n",
    "\n",
    "def compute_stats(hook, module, inp, outp):\n",
    "    '''Compute the means and std of each layer.'''\n",
    "    if not hasattr(hook, 'stats'):\n",
    "        hook.stats = ([], [])\n",
    "    if not hook.is_forward:\n",
    "        inp = inp[0], outp = outp[0]\n",
    "    hook.stats[0].append(outp.data.mean())\n",
    "    hook.stats[1].append(outp.data.std()) "
   ]
  },
  {
   "cell_type": "code",
   "execution_count": 89,
   "metadata": {
    "hidden": true
   },
   "outputs": [
    {
     "data": {
      "application/javascript": [
       "\n",
       "            setTimeout(function() {\n",
       "                var nbb_cell_id = 89;\n",
       "                var nbb_unformatted_code = \"model = get_cnn_model(data, nfs)\\nlearner = get_learner(model, data, lr=0.5, cbs=cbfs)\";\n",
       "                var nbb_formatted_code = \"model = get_cnn_model(data, nfs)\\nlearner = get_learner(model, data, lr=0.5, cbs=cbfs)\";\n",
       "                var nbb_cells = Jupyter.notebook.get_cells();\n",
       "                for (var i = 0; i < nbb_cells.length; ++i) {\n",
       "                    if (nbb_cells[i].input_prompt_number == nbb_cell_id) {\n",
       "                        if (nbb_cells[i].get_text() == nbb_unformatted_code) {\n",
       "                             nbb_cells[i].set_text(nbb_formatted_code);\n",
       "                        }\n",
       "                        break;\n",
       "                    }\n",
       "                }\n",
       "            }, 500);\n",
       "            "
      ],
      "text/plain": [
       "<IPython.core.display.Javascript object>"
      ]
     },
     "metadata": {},
     "output_type": "display_data"
    }
   ],
   "source": [
    "model = get_cnn_model(data, nfs)\n",
    "learner = get_learner(model, data, lr=0.5, cbs=cbfs)"
   ]
  },
  {
   "cell_type": "code",
   "execution_count": 90,
   "metadata": {
    "hidden": true
   },
   "outputs": [
    {
     "data": {
      "application/javascript": [
       "\n",
       "            setTimeout(function() {\n",
       "                var nbb_cell_id = 90;\n",
       "                var nbb_unformatted_code = \"hooks = [Hook(l, compute_stats, True) for l in children(model[:4])]\";\n",
       "                var nbb_formatted_code = \"hooks = [Hook(l, compute_stats, True) for l in children(model[:4])]\";\n",
       "                var nbb_cells = Jupyter.notebook.get_cells();\n",
       "                for (var i = 0; i < nbb_cells.length; ++i) {\n",
       "                    if (nbb_cells[i].input_prompt_number == nbb_cell_id) {\n",
       "                        if (nbb_cells[i].get_text() == nbb_unformatted_code) {\n",
       "                             nbb_cells[i].set_text(nbb_formatted_code);\n",
       "                        }\n",
       "                        break;\n",
       "                    }\n",
       "                }\n",
       "            }, 500);\n",
       "            "
      ],
      "text/plain": [
       "<IPython.core.display.Javascript object>"
      ]
     },
     "metadata": {},
     "output_type": "display_data"
    }
   ],
   "source": [
    "hooks = [Hook(l, compute_stats, True) for l in children(model[:4])]"
   ]
  },
  {
   "cell_type": "code",
   "execution_count": 91,
   "metadata": {
    "hidden": true
   },
   "outputs": [
    {
     "name": "stdout",
     "output_type": "stream",
     "text": [
      "train: [2.0753290625, tensor(0.2448)]\n",
      "valid: [0.81704794921875, tensor(0.7285)]\n",
      "train: [0.5302457421875, tensor(0.8308)]\n",
      "valid: [0.17519892578125, tensor(0.9473)]\n"
     ]
    },
    {
     "data": {
      "application/javascript": [
       "\n",
       "            setTimeout(function() {\n",
       "                var nbb_cell_id = 91;\n",
       "                var nbb_unformatted_code = \"learner.fit(2)\";\n",
       "                var nbb_formatted_code = \"learner.fit(2)\";\n",
       "                var nbb_cells = Jupyter.notebook.get_cells();\n",
       "                for (var i = 0; i < nbb_cells.length; ++i) {\n",
       "                    if (nbb_cells[i].input_prompt_number == nbb_cell_id) {\n",
       "                        if (nbb_cells[i].get_text() == nbb_unformatted_code) {\n",
       "                             nbb_cells[i].set_text(nbb_formatted_code);\n",
       "                        }\n",
       "                        break;\n",
       "                    }\n",
       "                }\n",
       "            }, 500);\n",
       "            "
      ],
      "text/plain": [
       "<IPython.core.display.Javascript object>"
      ]
     },
     "metadata": {},
     "output_type": "display_data"
    }
   ],
   "source": [
    "learner.fit(2)"
   ]
  },
  {
   "cell_type": "code",
   "execution_count": 92,
   "metadata": {
    "hidden": true
   },
   "outputs": [
    {
     "data": {
      "image/png": "[encoded data removed]",
      "text/plain": [
       "<Figure size 432x288 with 1 Axes>"
      ]
     },
     "metadata": {
      "needs_background": "light"
     },
     "output_type": "display_data"
    },
    {
     "data": {
      "application/javascript": [
       "\n",
       "            setTimeout(function() {\n",
       "                var nbb_cell_id = 92;\n",
       "                var nbb_unformatted_code = \"for h in hooks:\\n    plt.plot(h.stats[0])\\n    h.remove()\\nplt.legend(range(4));\";\n",
       "                var nbb_formatted_code = \"for h in hooks:\\n    plt.plot(h.stats[0])\\n    h.remove()\\nplt.legend(range(4))\";\n",
       "                var nbb_cells = Jupyter.notebook.get_cells();\n",
       "                for (var i = 0; i < nbb_cells.length; ++i) {\n",
       "                    if (nbb_cells[i].input_prompt_number == nbb_cell_id) {\n",
       "                        if (nbb_cells[i].get_text() == nbb_unformatted_code) {\n",
       "                             nbb_cells[i].set_text(nbb_formatted_code);\n",
       "                        }\n",
       "                        break;\n",
       "                    }\n",
       "                }\n",
       "            }, 500);\n",
       "            "
      ],
      "text/plain": [
       "<IPython.core.display.Javascript object>"
      ]
     },
     "metadata": {},
     "output_type": "display_data"
    }
   ],
   "source": [
    "for h in hooks:\n",
    "    plt.plot(h.stats[0])\n",
    "    h.remove()\n",
    "plt.legend(range(4));"
   ]
  },
  {
   "cell_type": "code",
   "execution_count": 93,
   "metadata": {
    "hidden": true
   },
   "outputs": [
    {
     "data": {
      "image/png": "[encoded data removed]",
      "text/plain": [
       "<Figure size 432x288 with 1 Axes>"
      ]
     },
     "metadata": {
      "needs_background": "light"
     },
     "output_type": "display_data"
    },
    {
     "data": {
      "application/javascript": [
       "\n",
       "            setTimeout(function() {\n",
       "                var nbb_cell_id = 93;\n",
       "                var nbb_unformatted_code = \"for h in hooks:\\n    plt.plot(h.stats[1])\\n    h.remove()\\nplt.legend(range(4));\";\n",
       "                var nbb_formatted_code = \"for h in hooks:\\n    plt.plot(h.stats[1])\\n    h.remove()\\nplt.legend(range(4))\";\n",
       "                var nbb_cells = Jupyter.notebook.get_cells();\n",
       "                for (var i = 0; i < nbb_cells.length; ++i) {\n",
       "                    if (nbb_cells[i].input_prompt_number == nbb_cell_id) {\n",
       "                        if (nbb_cells[i].get_text() == nbb_unformatted_code) {\n",
       "                             nbb_cells[i].set_text(nbb_formatted_code);\n",
       "                        }\n",
       "                        break;\n",
       "                    }\n",
       "                }\n",
       "            }, 500);\n",
       "            "
      ],
      "text/plain": [
       "<IPython.core.display.Javascript object>"
      ]
     },
     "metadata": {},
     "output_type": "display_data"
    }
   ],
   "source": [
    "for h in hooks:\n",
    "    plt.plot(h.stats[1])\n",
    "    h.remove()\n",
    "plt.legend(range(4));"
   ]
  },
  {
   "cell_type": "markdown",
   "metadata": {
    "heading_collapsed": "true",
    "hidden": true
   },
   "source": [
    "### A Hooks class"
   ]
  },
  {
   "cell_type": "markdown",
   "metadata": {
    "hidden": true
   },
   "source": [
    "Let's design our own class that can contain a list of objects. It will behave a bit like a numpy array in the sense that we can index into it via:\n",
    "- a single index\n",
    "- a slice (like 1:5)\n",
    "- a list of indices\n",
    "- a mask of indices (`[True,False,False,True,...]`)\n",
    "\n",
    "The `__iter__` method is there to be able to do things like `for x in ...`."
   ]
  },
  {
   "cell_type": "code",
   "execution_count": 94,
   "metadata": {
    "hidden": true
   },
   "outputs": [
    {
     "data": {
      "application/javascript": [
       "\n",
       "            setTimeout(function() {\n",
       "                var nbb_cell_id = 94;\n",
       "                var nbb_unformatted_code = \"#export\\nclass ListContainer():\\n    def __init__(self, items): \\n        self.items = listify(items)\\n\\n    def __getitem__(self, idx):\\n        if isinstance(idx, (int,slice)):\\n            return self.items[idx]\\n        if isinstance(idx[0],bool):\\n            assert len(idx)==len(self) # bool mask\\n            return [o for m,o in zip(idx,self.items) if m]\\n        return [self.items[i] for i in idx]\\n    \\n    def __len__(self):\\n        return len(self.items)\\n    \\n    def __iter__(self):\\n        return iter(self.items)\\n    \\n    def __setitem__(self, i, o):\\n        self.items[i] = o\\n    \\n    def __delitem__(self, i):\\n        del(self.items[i])\\n    \\n    def __repr__(self):\\n        res = f'{self.__class__.__name__} ({len(self)} items)\\\\n{self.items[:10]}'\\n        if len(self)>10: res = res[:-1]+ '...]'\\n        return res\";\n",
       "                var nbb_formatted_code = \"# export\\nclass ListContainer:\\n    def __init__(self, items):\\n        self.items = listify(items)\\n\\n    def __getitem__(self, idx):\\n        if isinstance(idx, (int, slice)):\\n            return self.items[idx]\\n        if isinstance(idx[0], bool):\\n            assert len(idx) == len(self)  # bool mask\\n            return [o for m, o in zip(idx, self.items) if m]\\n        return [self.items[i] for i in idx]\\n\\n    def __len__(self):\\n        return len(self.items)\\n\\n    def __iter__(self):\\n        return iter(self.items)\\n\\n    def __setitem__(self, i, o):\\n        self.items[i] = o\\n\\n    def __delitem__(self, i):\\n        del self.items[i]\\n\\n    def __repr__(self):\\n        res = f\\\"{self.__class__.__name__} ({len(self)} items)\\\\n{self.items[:10]}\\\"\\n        if len(self) > 10:\\n            res = res[:-1] + \\\"...]\\\"\\n        return res\";\n",
       "                var nbb_cells = Jupyter.notebook.get_cells();\n",
       "                for (var i = 0; i < nbb_cells.length; ++i) {\n",
       "                    if (nbb_cells[i].input_prompt_number == nbb_cell_id) {\n",
       "                        if (nbb_cells[i].get_text() == nbb_unformatted_code) {\n",
       "                             nbb_cells[i].set_text(nbb_formatted_code);\n",
       "                        }\n",
       "                        break;\n",
       "                    }\n",
       "                }\n",
       "            }, 500);\n",
       "            "
      ],
      "text/plain": [
       "<IPython.core.display.Javascript object>"
      ]
     },
     "metadata": {},
     "output_type": "display_data"
    }
   ],
   "source": [
    "#export\n",
    "class ListContainer():\n",
    "    def __init__(self, items): \n",
    "        self.items = listify(items)\n",
    "\n",
    "    def __getitem__(self, idx):\n",
    "        if isinstance(idx, (int,slice)):\n",
    "            return self.items[idx]\n",
    "        if isinstance(idx[0],bool):\n",
    "            assert len(idx)==len(self) # bool mask\n",
    "            return [o for m,o in zip(idx,self.items) if m]\n",
    "        return [self.items[i] for i in idx]\n",
    "    \n",
    "    def __len__(self):\n",
    "        return len(self.items)\n",
    "    \n",
    "    def __iter__(self):\n",
    "        return iter(self.items)\n",
    "    \n",
    "    def __setitem__(self, i, o):\n",
    "        self.items[i] = o\n",
    "    \n",
    "    def __delitem__(self, i):\n",
    "        del(self.items[i])\n",
    "    \n",
    "    def __repr__(self):\n",
    "        res = f'{self.__class__.__name__} ({len(self)} items)\\n{self.items[:10]}'\n",
    "        if len(self)>10: res = res[:-1]+ '...]'\n",
    "        return res"
   ]
  },
  {
   "cell_type": "code",
   "execution_count": 95,
   "metadata": {
    "hidden": true
   },
   "outputs": [
    {
     "data": {
      "text/plain": [
       "ListContainer (10 items)\n",
       "[0, 1, 2, 3, 4, 5, 6, 7, 8, 9]"
      ]
     },
     "execution_count": 95,
     "metadata": {},
     "output_type": "execute_result"
    },
    {
     "data": {
      "application/javascript": [
       "\n",
       "            setTimeout(function() {\n",
       "                var nbb_cell_id = 95;\n",
       "                var nbb_unformatted_code = \"ListContainer(range(10))\";\n",
       "                var nbb_formatted_code = \"ListContainer(range(10))\";\n",
       "                var nbb_cells = Jupyter.notebook.get_cells();\n",
       "                for (var i = 0; i < nbb_cells.length; ++i) {\n",
       "                    if (nbb_cells[i].input_prompt_number == nbb_cell_id) {\n",
       "                        if (nbb_cells[i].get_text() == nbb_unformatted_code) {\n",
       "                             nbb_cells[i].set_text(nbb_formatted_code);\n",
       "                        }\n",
       "                        break;\n",
       "                    }\n",
       "                }\n",
       "            }, 500);\n",
       "            "
      ],
      "text/plain": [
       "<IPython.core.display.Javascript object>"
      ]
     },
     "metadata": {},
     "output_type": "display_data"
    }
   ],
   "source": [
    "ListContainer(range(10))"
   ]
  },
  {
   "cell_type": "code",
   "execution_count": 96,
   "metadata": {
    "hidden": true
   },
   "outputs": [
    {
     "data": {
      "text/plain": [
       "ListContainer (100 items)\n",
       "[0, 1, 2, 3, 4, 5, 6, 7, 8, 9...]"
      ]
     },
     "execution_count": 96,
     "metadata": {},
     "output_type": "execute_result"
    },
    {
     "data": {
      "application/javascript": [
       "\n",
       "            setTimeout(function() {\n",
       "                var nbb_cell_id = 96;\n",
       "                var nbb_unformatted_code = \"ListContainer(range(100))\";\n",
       "                var nbb_formatted_code = \"ListContainer(range(100))\";\n",
       "                var nbb_cells = Jupyter.notebook.get_cells();\n",
       "                for (var i = 0; i < nbb_cells.length; ++i) {\n",
       "                    if (nbb_cells[i].input_prompt_number == nbb_cell_id) {\n",
       "                        if (nbb_cells[i].get_text() == nbb_unformatted_code) {\n",
       "                             nbb_cells[i].set_text(nbb_formatted_code);\n",
       "                        }\n",
       "                        break;\n",
       "                    }\n",
       "                }\n",
       "            }, 500);\n",
       "            "
      ],
      "text/plain": [
       "<IPython.core.display.Javascript object>"
      ]
     },
     "metadata": {},
     "output_type": "display_data"
    }
   ],
   "source": [
    "ListContainer(range(100))"
   ]
  },
  {
   "cell_type": "code",
   "execution_count": 97,
   "metadata": {
    "hidden": true
   },
   "outputs": [
    {
     "data": {
      "text/plain": [
       "([1, 2], [8])"
      ]
     },
     "execution_count": 97,
     "metadata": {},
     "output_type": "execute_result"
    },
    {
     "data": {
      "application/javascript": [
       "\n",
       "            setTimeout(function() {\n",
       "                var nbb_cell_id = 97;\n",
       "                var nbb_unformatted_code = \"t = ListContainer(range(10))\\nt[[1,2]], t[[False]*8 + [True,False]]\";\n",
       "                var nbb_formatted_code = \"t = ListContainer(range(10))\\nt[[1, 2]], t[[False] * 8 + [True, False]]\";\n",
       "                var nbb_cells = Jupyter.notebook.get_cells();\n",
       "                for (var i = 0; i < nbb_cells.length; ++i) {\n",
       "                    if (nbb_cells[i].input_prompt_number == nbb_cell_id) {\n",
       "                        if (nbb_cells[i].get_text() == nbb_unformatted_code) {\n",
       "                             nbb_cells[i].set_text(nbb_formatted_code);\n",
       "                        }\n",
       "                        break;\n",
       "                    }\n",
       "                }\n",
       "            }, 500);\n",
       "            "
      ],
      "text/plain": [
       "<IPython.core.display.Javascript object>"
      ]
     },
     "metadata": {},
     "output_type": "display_data"
    }
   ],
   "source": [
    "t = ListContainer(range(10))\n",
    "t[[1,2]], t[[False]*8 + [True,False]]"
   ]
  },
  {
   "cell_type": "markdown",
   "metadata": {
    "hidden": true
   },
   "source": [
    "We can use it to write a `Hooks` class that contains several hooks. We will also use it in the next notebook as a container for our objects in the data block API."
   ]
  },
  {
   "cell_type": "code",
   "execution_count": 99,
   "metadata": {
    "hidden": true
   },
   "outputs": [
    {
     "data": {
      "application/javascript": [
       "\n",
       "            setTimeout(function() {\n",
       "                var nbb_cell_id = 99;\n",
       "                var nbb_unformatted_code = \"#export\\nclass Hooks:\\n    def __init__(self, modules, func, is_forward):\\n        self.hooks = [Hook(module, func, is_forward) for module in modules]\\n\\n    def __getitem__(self, idx):\\n        return self.hooks[idx]\\n\\n    def __len__(self):\\n        return len(self.hooks)\\n\\n#     def __iter__(self):\\n#         return iter(self.hooks)\\n\\n    def __enter__(self, *args):\\n        return self\\n\\n    def __exit__(self, *args):\\n        self.remove()\\n\\n    def remove(self):\\n        for hook in self.hooks:\\n            hook.remove()\\n\\n    def __del__(self):\\n        self.remove()\";\n",
       "                var nbb_formatted_code = \"# export\\nclass Hooks:\\n    def __init__(self, modules, func, is_forward):\\n        self.hooks = [Hook(module, func, is_forward) for module in modules]\\n\\n    def __getitem__(self, idx):\\n        return self.hooks[idx]\\n\\n    def __len__(self):\\n        return len(self.hooks)\\n\\n    #     def __iter__(self):\\n    #         return iter(self.hooks)\\n\\n    def __enter__(self, *args):\\n        return self\\n\\n    def __exit__(self, *args):\\n        self.remove()\\n\\n    def remove(self):\\n        for hook in self.hooks:\\n            hook.remove()\\n\\n    def __del__(self):\\n        self.remove()\";\n",
       "                var nbb_cells = Jupyter.notebook.get_cells();\n",
       "                for (var i = 0; i < nbb_cells.length; ++i) {\n",
       "                    if (nbb_cells[i].input_prompt_number == nbb_cell_id) {\n",
       "                        if (nbb_cells[i].get_text() == nbb_unformatted_code) {\n",
       "                             nbb_cells[i].set_text(nbb_formatted_code);\n",
       "                        }\n",
       "                        break;\n",
       "                    }\n",
       "                }\n",
       "            }, 500);\n",
       "            "
      ],
      "text/plain": [
       "<IPython.core.display.Javascript object>"
      ]
     },
     "metadata": {},
     "output_type": "display_data"
    }
   ],
   "source": [
    "#export\n",
    "class Hooks:\n",
    "    def __init__(self, modules, func, is_forward):\n",
    "        self.hooks = [Hook(module, func, is_forward) for module in modules]\n",
    "\n",
    "    def __getitem__(self, idx):\n",
    "        return self.hooks[idx]\n",
    "\n",
    "    def __len__(self):\n",
    "        return len(self.hooks)\n",
    "\n",
    "#     def __iter__(self):\n",
    "#         return iter(self.hooks)\n",
    "\n",
    "    def __enter__(self, *args):\n",
    "        return self\n",
    "\n",
    "    def __exit__(self, *args):\n",
    "        self.remove()\n",
    "\n",
    "    def remove(self):\n",
    "        for hook in self.hooks:\n",
    "            hook.remove()\n",
    "\n",
    "    def __del__(self):\n",
    "        self.remove()"
   ]
  },
  {
   "cell_type": "code",
   "execution_count": 101,
   "metadata": {
    "hidden": true
   },
   "outputs": [
    {
     "data": {
      "application/javascript": [
       "\n",
       "            setTimeout(function() {\n",
       "                var nbb_cell_id = 101;\n",
       "                var nbb_unformatted_code = \"model = get_cnn_model(data, nfs)\\nlearner = get_learner(model, data, lr=0.5, cbs=cbfs)\";\n",
       "                var nbb_formatted_code = \"model = get_cnn_model(data, nfs)\\nlearner = get_learner(model, data, lr=0.5, cbs=cbfs)\";\n",
       "                var nbb_cells = Jupyter.notebook.get_cells();\n",
       "                for (var i = 0; i < nbb_cells.length; ++i) {\n",
       "                    if (nbb_cells[i].input_prompt_number == nbb_cell_id) {\n",
       "                        if (nbb_cells[i].get_text() == nbb_unformatted_code) {\n",
       "                             nbb_cells[i].set_text(nbb_formatted_code);\n",
       "                        }\n",
       "                        break;\n",
       "                    }\n",
       "                }\n",
       "            }, 500);\n",
       "            "
      ],
      "text/plain": [
       "<IPython.core.display.Javascript object>"
      ]
     },
     "metadata": {},
     "output_type": "display_data"
    }
   ],
   "source": [
    "model = get_cnn_model(data, nfs)\n",
    "learner = get_learner(model, data, lr=0.5, cbs=cbfs)"
   ]
  },
  {
   "cell_type": "code",
   "execution_count": 102,
   "metadata": {
    "hidden": true
   },
   "outputs": [
    {
     "data": {
      "text/plain": [
       "<__main__.Hooks at 0x7f8bc9b90f70>"
      ]
     },
     "execution_count": 102,
     "metadata": {},
     "output_type": "execute_result"
    },
    {
     "data": {
      "application/javascript": [
       "\n",
       "            setTimeout(function() {\n",
       "                var nbb_cell_id = 102;\n",
       "                var nbb_unformatted_code = \"hooks = Hooks(model, compute_stats, True)\\nhooks\";\n",
       "                var nbb_formatted_code = \"hooks = Hooks(model, compute_stats, True)\\nhooks\";\n",
       "                var nbb_cells = Jupyter.notebook.get_cells();\n",
       "                for (var i = 0; i < nbb_cells.length; ++i) {\n",
       "                    if (nbb_cells[i].input_prompt_number == nbb_cell_id) {\n",
       "                        if (nbb_cells[i].get_text() == nbb_unformatted_code) {\n",
       "                             nbb_cells[i].set_text(nbb_formatted_code);\n",
       "                        }\n",
       "                        break;\n",
       "                    }\n",
       "                }\n",
       "            }, 500);\n",
       "            "
      ],
      "text/plain": [
       "<IPython.core.display.Javascript object>"
      ]
     },
     "metadata": {},
     "output_type": "display_data"
    }
   ],
   "source": [
    "hooks = Hooks(model, compute_stats, True)\n",
    "hooks"
   ]
  },
  {
   "cell_type": "code",
   "execution_count": 103,
   "metadata": {
    "hidden": true
   },
   "outputs": [
    {
     "data": {
      "application/javascript": [
       "\n",
       "            setTimeout(function() {\n",
       "                var nbb_cell_id = 103;\n",
       "                var nbb_unformatted_code = \"hooks.remove()\";\n",
       "                var nbb_formatted_code = \"hooks.remove()\";\n",
       "                var nbb_cells = Jupyter.notebook.get_cells();\n",
       "                for (var i = 0; i < nbb_cells.length; ++i) {\n",
       "                    if (nbb_cells[i].input_prompt_number == nbb_cell_id) {\n",
       "                        if (nbb_cells[i].get_text() == nbb_unformatted_code) {\n",
       "                             nbb_cells[i].set_text(nbb_formatted_code);\n",
       "                        }\n",
       "                        break;\n",
       "                    }\n",
       "                }\n",
       "            }, 500);\n",
       "            "
      ],
      "text/plain": [
       "<IPython.core.display.Javascript object>"
      ]
     },
     "metadata": {},
     "output_type": "display_data"
    }
   ],
   "source": [
    "hooks.remove()"
   ]
  },
  {
   "cell_type": "code",
   "execution_count": 104,
   "metadata": {
    "hidden": true
   },
   "outputs": [
    {
     "data": {
      "application/javascript": [
       "\n",
       "            setTimeout(function() {\n",
       "                var nbb_cell_id = 104;\n",
       "                var nbb_unformatted_code = \"x, y = next(iter(data.train_dl))\\nx = mnist_resize(x)\";\n",
       "                var nbb_formatted_code = \"x, y = next(iter(data.train_dl))\\nx = mnist_resize(x)\";\n",
       "                var nbb_cells = Jupyter.notebook.get_cells();\n",
       "                for (var i = 0; i < nbb_cells.length; ++i) {\n",
       "                    if (nbb_cells[i].input_prompt_number == nbb_cell_id) {\n",
       "                        if (nbb_cells[i].get_text() == nbb_unformatted_code) {\n",
       "                             nbb_cells[i].set_text(nbb_formatted_code);\n",
       "                        }\n",
       "                        break;\n",
       "                    }\n",
       "                }\n",
       "            }, 500);\n",
       "            "
      ],
      "text/plain": [
       "<IPython.core.display.Javascript object>"
      ]
     },
     "metadata": {},
     "output_type": "display_data"
    }
   ],
   "source": [
    "x, y = next(iter(data.train_dl))\n",
    "x = mnist_resize(x)"
   ]
  },
  {
   "cell_type": "code",
   "execution_count": 105,
   "metadata": {
    "hidden": true
   },
   "outputs": [
    {
     "data": {
      "text/plain": [
       "(tensor(-0.0009), tensor(0.9986))"
      ]
     },
     "execution_count": 105,
     "metadata": {},
     "output_type": "execute_result"
    },
    {
     "data": {
      "application/javascript": [
       "\n",
       "            setTimeout(function() {\n",
       "                var nbb_cell_id = 105;\n",
       "                var nbb_unformatted_code = \"x.mean(),x.std()\";\n",
       "                var nbb_formatted_code = \"x.mean(), x.std()\";\n",
       "                var nbb_cells = Jupyter.notebook.get_cells();\n",
       "                for (var i = 0; i < nbb_cells.length; ++i) {\n",
       "                    if (nbb_cells[i].input_prompt_number == nbb_cell_id) {\n",
       "                        if (nbb_cells[i].get_text() == nbb_unformatted_code) {\n",
       "                             nbb_cells[i].set_text(nbb_formatted_code);\n",
       "                        }\n",
       "                        break;\n",
       "                    }\n",
       "                }\n",
       "            }, 500);\n",
       "            "
      ],
      "text/plain": [
       "<IPython.core.display.Javascript object>"
      ]
     },
     "metadata": {},
     "output_type": "display_data"
    }
   ],
   "source": [
    "x.mean(),x.std()"
   ]
  },
  {
   "cell_type": "code",
   "execution_count": 106,
   "metadata": {
    "hidden": true
   },
   "outputs": [
    {
     "data": {
      "text/plain": [
       "(tensor(0.2338, grad_fn=<MeanBackward0>),\n",
       " tensor(0.4671, grad_fn=<StdBackward>))"
      ]
     },
     "execution_count": 106,
     "metadata": {},
     "output_type": "execute_result"
    },
    {
     "data": {
      "application/javascript": [
       "\n",
       "            setTimeout(function() {\n",
       "                var nbb_cell_id = 106;\n",
       "                var nbb_unformatted_code = \"p = model[0](x)\\np.mean(), p.std()\";\n",
       "                var nbb_formatted_code = \"p = model[0](x)\\np.mean(), p.std()\";\n",
       "                var nbb_cells = Jupyter.notebook.get_cells();\n",
       "                for (var i = 0; i < nbb_cells.length; ++i) {\n",
       "                    if (nbb_cells[i].input_prompt_number == nbb_cell_id) {\n",
       "                        if (nbb_cells[i].get_text() == nbb_unformatted_code) {\n",
       "                             nbb_cells[i].set_text(nbb_formatted_code);\n",
       "                        }\n",
       "                        break;\n",
       "                    }\n",
       "                }\n",
       "            }, 500);\n",
       "            "
      ],
      "text/plain": [
       "<IPython.core.display.Javascript object>"
      ]
     },
     "metadata": {},
     "output_type": "display_data"
    }
   ],
   "source": [
    "p = model[0](x)\n",
    "p.mean(), p.std()"
   ]
  },
  {
   "cell_type": "code",
   "execution_count": 107,
   "metadata": {
    "hidden": true
   },
   "outputs": [
    {
     "data": {
      "application/javascript": [
       "\n",
       "            setTimeout(function() {\n",
       "                var nbb_cell_id = 107;\n",
       "                var nbb_unformatted_code = \"for l in model:\\n    if isinstance(l, nn.Sequential):\\n        init.kaiming_normal_(l[0].weight)\\n        l[0].bias.data.zero_()\";\n",
       "                var nbb_formatted_code = \"for l in model:\\n    if isinstance(l, nn.Sequential):\\n        init.kaiming_normal_(l[0].weight)\\n        l[0].bias.data.zero_()\";\n",
       "                var nbb_cells = Jupyter.notebook.get_cells();\n",
       "                for (var i = 0; i < nbb_cells.length; ++i) {\n",
       "                    if (nbb_cells[i].input_prompt_number == nbb_cell_id) {\n",
       "                        if (nbb_cells[i].get_text() == nbb_unformatted_code) {\n",
       "                             nbb_cells[i].set_text(nbb_formatted_code);\n",
       "                        }\n",
       "                        break;\n",
       "                    }\n",
       "                }\n",
       "            }, 500);\n",
       "            "
      ],
      "text/plain": [
       "<IPython.core.display.Javascript object>"
      ]
     },
     "metadata": {},
     "output_type": "display_data"
    }
   ],
   "source": [
    "for l in model:\n",
    "    if isinstance(l, nn.Sequential):\n",
    "        init.kaiming_normal_(l[0].weight)\n",
    "        l[0].bias.data.zero_()"
   ]
  },
  {
   "cell_type": "code",
   "execution_count": 108,
   "metadata": {
    "hidden": true
   },
   "outputs": [
    {
     "data": {
      "text/plain": [
       "(tensor(0.3041, grad_fn=<MeanBackward0>),\n",
       " tensor(0.4986, grad_fn=<StdBackward>))"
      ]
     },
     "execution_count": 108,
     "metadata": {},
     "output_type": "execute_result"
    },
    {
     "data": {
      "application/javascript": [
       "\n",
       "            setTimeout(function() {\n",
       "                var nbb_cell_id = 108;\n",
       "                var nbb_unformatted_code = \"p = model[0](x)\\np.mean(),p.std()\";\n",
       "                var nbb_formatted_code = \"p = model[0](x)\\np.mean(), p.std()\";\n",
       "                var nbb_cells = Jupyter.notebook.get_cells();\n",
       "                for (var i = 0; i < nbb_cells.length; ++i) {\n",
       "                    if (nbb_cells[i].input_prompt_number == nbb_cell_id) {\n",
       "                        if (nbb_cells[i].get_text() == nbb_unformatted_code) {\n",
       "                             nbb_cells[i].set_text(nbb_formatted_code);\n",
       "                        }\n",
       "                        break;\n",
       "                    }\n",
       "                }\n",
       "            }, 500);\n",
       "            "
      ],
      "text/plain": [
       "<IPython.core.display.Javascript object>"
      ]
     },
     "metadata": {},
     "output_type": "display_data"
    }
   ],
   "source": [
    "p = model[0](x)\n",
    "p.mean(),p.std()"
   ]
  },
  {
   "cell_type": "markdown",
   "metadata": {
    "hidden": true
   },
   "source": [
    "Having given an `__enter__` and `__exit__` method to our `Hooks` class, we can use it as a context manager. This makes sure that onces we are out of the `with` block, all the hooks have been removed and aren't there to pollute our memory."
   ]
  },
  {
   "cell_type": "code",
   "execution_count": 111,
   "metadata": {
    "hidden": true
   },
   "outputs": [
    {
     "name": "stdout",
     "output_type": "stream",
     "text": [
      "train: [2.49381125, tensor(0.1928)]\n",
      "valid: [1.61978828125, tensor(0.4839)]\n",
      "train: [1.297578515625, tensor(0.5737)]\n",
      "valid: [0.538785498046875, tensor(0.8265)]\n"
     ]
    },
    {
     "data": {
      "image/png": "[encoded data removed]",
      "text/plain": [
       "<Figure size 720x288 with 2 Axes>"
      ]
     },
     "metadata": {
      "needs_background": "light"
     },
     "output_type": "display_data"
    },
    {
     "data": {
      "image/png": "[encoded data removed]",
      "text/plain": [
       "<Figure size 720x288 with 2 Axes>"
      ]
     },
     "metadata": {
      "needs_background": "light"
     },
     "output_type": "display_data"
    },
    {
     "data": {
      "application/javascript": [
       "\n",
       "            setTimeout(function() {\n",
       "                var nbb_cell_id = 111;\n",
       "                var nbb_unformatted_code = \"model = get_cnn_model(data, nfs)\\nfor l in model:\\n    if isinstance(l, nn.Sequential):\\n        init.kaiming_normal_(l[0].weight)\\n        l[0].bias.data.zero_()\\n\\nlearner = get_learner(model, data, lr=0.9, cbs=cbfs)\\n\\nwith Hooks(model, compute_stats, True) as hooks:\\n    learner.fit(2)\\n    fig, (ax0, ax1) = plt.subplots(1, 2, figsize=(10, 4))\\n    for h in hooks:\\n        ms, ss = h.stats\\n        ax0.plot(ms[:10])\\n        ax1.plot(ss[:10])\\n    plt.legend(range(6))\\n\\n    fig, (ax0, ax1) = plt.subplots(1, 2, figsize=(10, 4))\\n    for h in hooks:\\n        ms, ss = h.stats\\n        ax0.plot(ms)\\n        ax1.plot(ss)\\n    plt.legend(range(6))\";\n",
       "                var nbb_formatted_code = \"model = get_cnn_model(data, nfs)\\nfor l in model:\\n    if isinstance(l, nn.Sequential):\\n        init.kaiming_normal_(l[0].weight)\\n        l[0].bias.data.zero_()\\n\\nlearner = get_learner(model, data, lr=0.9, cbs=cbfs)\\n\\nwith Hooks(model, compute_stats, True) as hooks:\\n    learner.fit(2)\\n    fig, (ax0, ax1) = plt.subplots(1, 2, figsize=(10, 4))\\n    for h in hooks:\\n        ms, ss = h.stats\\n        ax0.plot(ms[:10])\\n        ax1.plot(ss[:10])\\n    plt.legend(range(6))\\n\\n    fig, (ax0, ax1) = plt.subplots(1, 2, figsize=(10, 4))\\n    for h in hooks:\\n        ms, ss = h.stats\\n        ax0.plot(ms)\\n        ax1.plot(ss)\\n    plt.legend(range(6))\";\n",
       "                var nbb_cells = Jupyter.notebook.get_cells();\n",
       "                for (var i = 0; i < nbb_cells.length; ++i) {\n",
       "                    if (nbb_cells[i].input_prompt_number == nbb_cell_id) {\n",
       "                        if (nbb_cells[i].get_text() == nbb_unformatted_code) {\n",
       "                             nbb_cells[i].set_text(nbb_formatted_code);\n",
       "                        }\n",
       "                        break;\n",
       "                    }\n",
       "                }\n",
       "            }, 500);\n",
       "            "
      ],
      "text/plain": [
       "<IPython.core.display.Javascript object>"
      ]
     },
     "metadata": {},
     "output_type": "display_data"
    }
   ],
   "source": [
    "model = get_cnn_model(data, nfs)\n",
    "for l in model:\n",
    "    if isinstance(l, nn.Sequential):\n",
    "        init.kaiming_normal_(l[0].weight)\n",
    "        l[0].bias.data.zero_()\n",
    "\n",
    "learner = get_learner(model, data, lr=0.9, cbs=cbfs)\n",
    "\n",
    "with Hooks(model, compute_stats, True) as hooks:\n",
    "    learner.fit(2)\n",
    "    fig, (ax0, ax1) = plt.subplots(1, 2, figsize=(10, 4))\n",
    "    for h in hooks:\n",
    "        ms, ss = h.stats\n",
    "        ax0.plot(ms[:10])\n",
    "        ax1.plot(ss[:10])\n",
    "    plt.legend(range(6))\n",
    "\n",
    "    fig, (ax0, ax1) = plt.subplots(1, 2, figsize=(10, 4))\n",
    "    for h in hooks:\n",
    "        ms, ss = h.stats\n",
    "        ax0.plot(ms)\n",
    "        ax1.plot(ss)\n",
    "    plt.legend(range(6))"
   ]
  },
  {
   "cell_type": "markdown",
   "metadata": {
    "heading_collapsed": "true",
    "hidden": true
   },
   "source": [
    "### Other statistics"
   ]
  },
  {
   "cell_type": "markdown",
   "metadata": {
    "hidden": true
   },
   "source": [
    "Let's store more than the means and stds and plot histograms of our activations now."
   ]
  },
  {
   "cell_type": "code",
   "execution_count": 151,
   "metadata": {
    "hidden": true
   },
   "outputs": [
    {
     "data": {
      "application/javascript": [
       "\n",
       "            setTimeout(function() {\n",
       "                var nbb_cell_id = 151;\n",
       "                var nbb_unformatted_code = \"#export\\ndef children(m):\\n    return list(m.children())\\n\\n\\nclass Hook:\\n    def __init__(self, module, func, is_forward=True, **kwargs):\\n        self.is_forward = is_forward\\n        if self.is_forward:\\n            self.hook = module.register_forward_hook(partial(func, self, **kwargs))\\n        else:\\n            self.hook = module.register_backward_hook(partial(func, self, **kwargs))\\n\\n    def remove(self):\\n        self.hook.remove()\\n\\n    def __del__(self):\\n        self.remove()\";\n",
       "                var nbb_formatted_code = \"# export\\ndef children(m):\\n    return list(m.children())\\n\\n\\nclass Hook:\\n    def __init__(self, module, func, is_forward=True, **kwargs):\\n        self.is_forward = is_forward\\n        if self.is_forward:\\n            self.hook = module.register_forward_hook(partial(func, self, **kwargs))\\n        else:\\n            self.hook = module.register_backward_hook(partial(func, self, **kwargs))\\n\\n    def remove(self):\\n        self.hook.remove()\\n\\n    def __del__(self):\\n        self.remove()\";\n",
       "                var nbb_cells = Jupyter.notebook.get_cells();\n",
       "                for (var i = 0; i < nbb_cells.length; ++i) {\n",
       "                    if (nbb_cells[i].input_prompt_number == nbb_cell_id) {\n",
       "                        if (nbb_cells[i].get_text() == nbb_unformatted_code) {\n",
       "                             nbb_cells[i].set_text(nbb_formatted_code);\n",
       "                        }\n",
       "                        break;\n",
       "                    }\n",
       "                }\n",
       "            }, 500);\n",
       "            "
      ],
      "text/plain": [
       "<IPython.core.display.Javascript object>"
      ]
     },
     "metadata": {},
     "output_type": "display_data"
    }
   ],
   "source": [
    "#export\n",
    "def children(m):\n",
    "    return list(m.children())\n",
    "\n",
    "\n",
    "class Hook:\n",
    "    def __init__(self, module, func, is_forward=True, **kwargs):\n",
    "        self.is_forward = is_forward\n",
    "        if self.is_forward:\n",
    "            self.hook = module.register_forward_hook(partial(func, self, **kwargs))\n",
    "        else:\n",
    "            self.hook = module.register_backward_hook(partial(func, self, **kwargs))\n",
    "\n",
    "    def remove(self):\n",
    "        self.hook.remove()\n",
    "\n",
    "    def __del__(self):\n",
    "        self.remove()"
   ]
  },
  {
   "cell_type": "code",
   "execution_count": 152,
   "metadata": {
    "hidden": true
   },
   "outputs": [
    {
     "data": {
      "application/javascript": [
       "\n",
       "            setTimeout(function() {\n",
       "                var nbb_cell_id = 152;\n",
       "                var nbb_unformatted_code = \"#export\\nclass Hooks:\\n    def __init__(self, modules, func, is_forward, **kwargs):\\n        self.hooks = [Hook(module, func, is_forward, **kwargs) for module in modules]\\n\\n    def __getitem__(self, idx):\\n        return self.hooks[idx]\\n\\n    def __len__(self):\\n        return len(self.hooks)\\n\\n    def __iter__(self):\\n        return iter(self.hooks)\\n\\n    def __enter__(self, *args):\\n        return self\\n\\n    def __exit__(self, *args):\\n        self.remove()\\n\\n    def remove(self):\\n        for hook in self.hooks:\\n            hook.remove()\\n\\n    def __del__(self):\\n        self.remove()\";\n",
       "                var nbb_formatted_code = \"# export\\nclass Hooks:\\n    def __init__(self, modules, func, is_forward, **kwargs):\\n        self.hooks = [Hook(module, func, is_forward, **kwargs) for module in modules]\\n\\n    def __getitem__(self, idx):\\n        return self.hooks[idx]\\n\\n    def __len__(self):\\n        return len(self.hooks)\\n\\n    def __iter__(self):\\n        return iter(self.hooks)\\n\\n    def __enter__(self, *args):\\n        return self\\n\\n    def __exit__(self, *args):\\n        self.remove()\\n\\n    def remove(self):\\n        for hook in self.hooks:\\n            hook.remove()\\n\\n    def __del__(self):\\n        self.remove()\";\n",
       "                var nbb_cells = Jupyter.notebook.get_cells();\n",
       "                for (var i = 0; i < nbb_cells.length; ++i) {\n",
       "                    if (nbb_cells[i].input_prompt_number == nbb_cell_id) {\n",
       "                        if (nbb_cells[i].get_text() == nbb_unformatted_code) {\n",
       "                             nbb_cells[i].set_text(nbb_formatted_code);\n",
       "                        }\n",
       "                        break;\n",
       "                    }\n",
       "                }\n",
       "            }, 500);\n",
       "            "
      ],
      "text/plain": [
       "<IPython.core.display.Javascript object>"
      ]
     },
     "metadata": {},
     "output_type": "display_data"
    }
   ],
   "source": [
    "#export\n",
    "class Hooks:\n",
    "    def __init__(self, modules, func, is_forward, **kwargs):\n",
    "        self.hooks = [Hook(module, func, is_forward, **kwargs) for module in modules]\n",
    "\n",
    "    def __getitem__(self, idx):\n",
    "        return self.hooks[idx]\n",
    "\n",
    "    def __len__(self):\n",
    "        return len(self.hooks)\n",
    "\n",
    "    def __iter__(self):\n",
    "        return iter(self.hooks)\n",
    "\n",
    "    def __enter__(self, *args):\n",
    "        return self\n",
    "\n",
    "    def __exit__(self, *args):\n",
    "        self.remove()\n",
    "\n",
    "    def remove(self):\n",
    "        for hook in self.hooks:\n",
    "            hook.remove()\n",
    "\n",
    "    def __del__(self):\n",
    "        self.remove()"
   ]
  },
  {
   "cell_type": "code",
   "execution_count": 154,
   "metadata": {
    "hidden": true
   },
   "outputs": [
    {
     "data": {
      "application/javascript": [
       "\n",
       "            setTimeout(function() {\n",
       "                var nbb_cell_id = 154;\n",
       "                var nbb_unformatted_code = \"#export\\ndef compute_stats(hook, module, inp, outp, bins=40, hist_range=(0, 10)):\\n    \\\"\\\"\\\"Compute the means and std of each layer.\\\"\\\"\\\"\\n    if not hasattr(hook, \\\"stats\\\"):\\n        hook.stats = ([], [], [])\\n    if not hook.is_forward:\\n        inp = inp[0], outp = outp[0]\\n    hook.stats[0].append(outp.data.mean().cpu())\\n    hook.stats[1].append(outp.data.std().cpu())\\n    hook.stats[2].append(outp.data.cpu().histc(\\n        bins, *hist_range))  #histc isn't implemented on the GPU\";\n",
       "                var nbb_formatted_code = \"# export\\ndef compute_stats(hook, module, inp, outp, bins=40, hist_range=(0, 10)):\\n    \\\"\\\"\\\"Compute the means and std of each layer.\\\"\\\"\\\"\\n    if not hasattr(hook, \\\"stats\\\"):\\n        hook.stats = ([], [], [])\\n    if not hook.is_forward:\\n        inp = inp[0], outp = outp[0]\\n    hook.stats[0].append(outp.data.mean().cpu())\\n    hook.stats[1].append(outp.data.std().cpu())\\n    hook.stats[2].append(\\n        outp.data.cpu().histc(bins, *hist_range)\\n    )  # histc isn't implemented on the GPU\";\n",
       "                var nbb_cells = Jupyter.notebook.get_cells();\n",
       "                for (var i = 0; i < nbb_cells.length; ++i) {\n",
       "                    if (nbb_cells[i].input_prompt_number == nbb_cell_id) {\n",
       "                        if (nbb_cells[i].get_text() == nbb_unformatted_code) {\n",
       "                             nbb_cells[i].set_text(nbb_formatted_code);\n",
       "                        }\n",
       "                        break;\n",
       "                    }\n",
       "                }\n",
       "            }, 500);\n",
       "            "
      ],
      "text/plain": [
       "<IPython.core.display.Javascript object>"
      ]
     },
     "metadata": {},
     "output_type": "display_data"
    }
   ],
   "source": [
    "#export\n",
    "def compute_stats(hook, module, inp, outp, bins=40, hist_range=(0, 10)):\n",
    "    \"\"\"Compute the means and std of each layer.\"\"\"\n",
    "    if not hasattr(hook, \"stats\"):\n",
    "        hook.stats = ([], [], [])\n",
    "    if not hook.is_forward:\n",
    "        inp = inp[0], outp = outp[0]\n",
    "    hook.stats[0].append(outp.data.mean().cpu())\n",
    "    hook.stats[1].append(outp.data.std().cpu())\n",
    "    hook.stats[2].append(outp.data.cpu().histc(\n",
    "        bins, *hist_range))  #histc isn't implemented on the GPU"
   ]
  },
  {
   "cell_type": "code",
   "execution_count": 115,
   "metadata": {
    "hidden": true
   },
   "outputs": [
    {
     "data": {
      "application/javascript": [
       "\n",
       "            setTimeout(function() {\n",
       "                var nbb_cell_id = 115;\n",
       "                var nbb_unformatted_code = \"model = get_cnn_model(data, nfs)\\nlearner = get_learner(model, data, lr=0.9, cbs=cbfs)\";\n",
       "                var nbb_formatted_code = \"model = get_cnn_model(data, nfs)\\nlearner = get_learner(model, data, lr=0.9, cbs=cbfs)\";\n",
       "                var nbb_cells = Jupyter.notebook.get_cells();\n",
       "                for (var i = 0; i < nbb_cells.length; ++i) {\n",
       "                    if (nbb_cells[i].input_prompt_number == nbb_cell_id) {\n",
       "                        if (nbb_cells[i].get_text() == nbb_unformatted_code) {\n",
       "                             nbb_cells[i].set_text(nbb_formatted_code);\n",
       "                        }\n",
       "                        break;\n",
       "                    }\n",
       "                }\n",
       "            }, 500);\n",
       "            "
      ],
      "text/plain": [
       "<IPython.core.display.Javascript object>"
      ]
     },
     "metadata": {},
     "output_type": "display_data"
    }
   ],
   "source": [
    "model = get_cnn_model(data, nfs)\n",
    "learner = get_learner(model, data, lr=0.9, cbs=cbfs)"
   ]
  },
  {
   "cell_type": "code",
   "execution_count": 116,
   "metadata": {
    "hidden": true
   },
   "outputs": [
    {
     "data": {
      "application/javascript": [
       "\n",
       "            setTimeout(function() {\n",
       "                var nbb_cell_id = 116;\n",
       "                var nbb_unformatted_code = \"for l in model:\\n    if isinstance(l, nn.Sequential):\\n        init.kaiming_normal_(l[0].weight)\\n        l[0].bias.data.zero_()\";\n",
       "                var nbb_formatted_code = \"for l in model:\\n    if isinstance(l, nn.Sequential):\\n        init.kaiming_normal_(l[0].weight)\\n        l[0].bias.data.zero_()\";\n",
       "                var nbb_cells = Jupyter.notebook.get_cells();\n",
       "                for (var i = 0; i < nbb_cells.length; ++i) {\n",
       "                    if (nbb_cells[i].input_prompt_number == nbb_cell_id) {\n",
       "                        if (nbb_cells[i].get_text() == nbb_unformatted_code) {\n",
       "                             nbb_cells[i].set_text(nbb_formatted_code);\n",
       "                        }\n",
       "                        break;\n",
       "                    }\n",
       "                }\n",
       "            }, 500);\n",
       "            "
      ],
      "text/plain": [
       "<IPython.core.display.Javascript object>"
      ]
     },
     "metadata": {},
     "output_type": "display_data"
    }
   ],
   "source": [
    "for l in model:\n",
    "    if isinstance(l, nn.Sequential):\n",
    "        init.kaiming_normal_(l[0].weight)\n",
    "        l[0].bias.data.zero_()"
   ]
  },
  {
   "cell_type": "code",
   "execution_count": 117,
   "metadata": {
    "hidden": true
   },
   "outputs": [
    {
     "name": "stdout",
     "output_type": "stream",
     "text": [
      "train: [1.944795, tensor(0.3534)]\n",
      "valid: [1.56673994140625, tensor(0.5066)]\n"
     ]
    },
    {
     "data": {
      "application/javascript": [
       "\n",
       "            setTimeout(function() {\n",
       "                var nbb_cell_id = 117;\n",
       "                var nbb_unformatted_code = \"with Hooks(model, compute_stats, True, bins=40, hist_range=(0, 10)) as hooks:\\n    learner.fit(1)\";\n",
       "                var nbb_formatted_code = \"with Hooks(model, compute_stats, True, bins=40, hist_range=(0, 10)) as hooks:\\n    learner.fit(1)\";\n",
       "                var nbb_cells = Jupyter.notebook.get_cells();\n",
       "                for (var i = 0; i < nbb_cells.length; ++i) {\n",
       "                    if (nbb_cells[i].input_prompt_number == nbb_cell_id) {\n",
       "                        if (nbb_cells[i].get_text() == nbb_unformatted_code) {\n",
       "                             nbb_cells[i].set_text(nbb_formatted_code);\n",
       "                        }\n",
       "                        break;\n",
       "                    }\n",
       "                }\n",
       "            }, 500);\n",
       "            "
      ],
      "text/plain": [
       "<IPython.core.display.Javascript object>"
      ]
     },
     "metadata": {},
     "output_type": "display_data"
    }
   ],
   "source": [
    "with Hooks(model, compute_stats, True, bins=40, hist_range=(0, 10)) as hooks:\n",
    "    learner.fit(1)"
   ]
  },
  {
   "cell_type": "code",
   "execution_count": 155,
   "metadata": {
    "hidden": true
   },
   "outputs": [
    {
     "data": {
      "application/javascript": [
       "\n",
       "            setTimeout(function() {\n",
       "                var nbb_cell_id = 155;\n",
       "                var nbb_unformatted_code = \"# Thanks to @ste for initial version of histgram plotting code\\n#export\\ndef get_hist(h):\\n    return torch.stack(h.stats[2]).t().float().log1p()\";\n",
       "                var nbb_formatted_code = \"# Thanks to @ste for initial version of histgram plotting code\\n# export\\ndef get_hist(h):\\n    return torch.stack(h.stats[2]).t().float().log1p()\";\n",
       "                var nbb_cells = Jupyter.notebook.get_cells();\n",
       "                for (var i = 0; i < nbb_cells.length; ++i) {\n",
       "                    if (nbb_cells[i].input_prompt_number == nbb_cell_id) {\n",
       "                        if (nbb_cells[i].get_text() == nbb_unformatted_code) {\n",
       "                             nbb_cells[i].set_text(nbb_formatted_code);\n",
       "                        }\n",
       "                        break;\n",
       "                    }\n",
       "                }\n",
       "            }, 500);\n",
       "            "
      ],
      "text/plain": [
       "<IPython.core.display.Javascript object>"
      ]
     },
     "metadata": {},
     "output_type": "display_data"
    }
   ],
   "source": [
    "# Thanks to @ste for initial version of histgram plotting code\n",
    "#export\n",
    "def get_hist(h):\n",
    "    return torch.stack(h.stats[2]).t().float().log1p()"
   ]
  },
  {
   "cell_type": "code",
   "execution_count": 119,
   "metadata": {
    "hidden": true
   },
   "outputs": [
    {
     "data": {
      "image/png": "[encoded data removed]",
      "text/plain": [
       "<Figure size 1080x432 with 4 Axes>"
      ]
     },
     "metadata": {
      "needs_background": "light"
     },
     "output_type": "display_data"
    },
    {
     "data": {
      "application/javascript": [
       "\n",
       "            setTimeout(function() {\n",
       "                var nbb_cell_id = 119;\n",
       "                var nbb_unformatted_code = \"fig, axes = plt.subplots(2, 2, figsize=(15, 6))\\nfor ax, h in zip(axes.flatten(), hooks[:4]):\\n    ax.imshow(get_hist(h), origin='lower')\\n    ax.axis('off')\\nplt.tight_layout()\";\n",
       "                var nbb_formatted_code = \"fig, axes = plt.subplots(2, 2, figsize=(15, 6))\\nfor ax, h in zip(axes.flatten(), hooks[:4]):\\n    ax.imshow(get_hist(h), origin=\\\"lower\\\")\\n    ax.axis(\\\"off\\\")\\nplt.tight_layout()\";\n",
       "                var nbb_cells = Jupyter.notebook.get_cells();\n",
       "                for (var i = 0; i < nbb_cells.length; ++i) {\n",
       "                    if (nbb_cells[i].input_prompt_number == nbb_cell_id) {\n",
       "                        if (nbb_cells[i].get_text() == nbb_unformatted_code) {\n",
       "                             nbb_cells[i].set_text(nbb_formatted_code);\n",
       "                        }\n",
       "                        break;\n",
       "                    }\n",
       "                }\n",
       "            }, 500);\n",
       "            "
      ],
      "text/plain": [
       "<IPython.core.display.Javascript object>"
      ]
     },
     "metadata": {},
     "output_type": "display_data"
    }
   ],
   "source": [
    "fig, axes = plt.subplots(2, 2, figsize=(15, 6))\n",
    "for ax, h in zip(axes.flatten(), hooks[:4]):\n",
    "    ax.imshow(get_hist(h), origin='lower')\n",
    "    ax.axis('off')\n",
    "plt.tight_layout()"
   ]
  },
  {
   "cell_type": "code",
   "execution_count": 120,
   "metadata": {
    "hidden": true
   },
   "outputs": [
    {
     "data": {
      "text/plain": [
       "107.421875"
      ]
     },
     "execution_count": 120,
     "metadata": {},
     "output_type": "execute_result"
    },
    {
     "data": {
      "application/javascript": [
       "\n",
       "            setTimeout(function() {\n",
       "                var nbb_cell_id = 120;\n",
       "                var nbb_unformatted_code = \"(len(train_ds) / bs) + len(valid_ds) / (bs * 2)\";\n",
       "                var nbb_formatted_code = \"(len(train_ds) / bs) + len(valid_ds) / (bs * 2)\";\n",
       "                var nbb_cells = Jupyter.notebook.get_cells();\n",
       "                for (var i = 0; i < nbb_cells.length; ++i) {\n",
       "                    if (nbb_cells[i].input_prompt_number == nbb_cell_id) {\n",
       "                        if (nbb_cells[i].get_text() == nbb_unformatted_code) {\n",
       "                             nbb_cells[i].set_text(nbb_formatted_code);\n",
       "                        }\n",
       "                        break;\n",
       "                    }\n",
       "                }\n",
       "            }, 500);\n",
       "            "
      ],
      "text/plain": [
       "<IPython.core.display.Javascript object>"
      ]
     },
     "metadata": {},
     "output_type": "display_data"
    }
   ],
   "source": [
    "(len(train_ds) / bs) + len(valid_ds) / (bs * 2)"
   ]
  },
  {
   "cell_type": "code",
   "execution_count": 121,
   "metadata": {
    "hidden": true
   },
   "outputs": [
    {
     "data": {
      "text/plain": [
       "108"
      ]
     },
     "execution_count": 121,
     "metadata": {},
     "output_type": "execute_result"
    },
    {
     "data": {
      "application/javascript": [
       "\n",
       "            setTimeout(function() {\n",
       "                var nbb_cell_id = 121;\n",
       "                var nbb_unformatted_code = \"# Number of iteration for both train and valid\\nlen(hooks[1].stats[0])\";\n",
       "                var nbb_formatted_code = \"# Number of iteration for both train and valid\\nlen(hooks[1].stats[0])\";\n",
       "                var nbb_cells = Jupyter.notebook.get_cells();\n",
       "                for (var i = 0; i < nbb_cells.length; ++i) {\n",
       "                    if (nbb_cells[i].input_prompt_number == nbb_cell_id) {\n",
       "                        if (nbb_cells[i].get_text() == nbb_unformatted_code) {\n",
       "                             nbb_cells[i].set_text(nbb_formatted_code);\n",
       "                        }\n",
       "                        break;\n",
       "                    }\n",
       "                }\n",
       "            }, 500);\n",
       "            "
      ],
      "text/plain": [
       "<IPython.core.display.Javascript object>"
      ]
     },
     "metadata": {},
     "output_type": "display_data"
    }
   ],
   "source": [
    "# Number of iteration for both train and valid\n",
    "len(hooks[1].stats[0])"
   ]
  },
  {
   "cell_type": "code",
   "execution_count": 149,
   "metadata": {},
   "outputs": [
    {
     "data": {
      "text/plain": [
       "torch.Size([40])"
      ]
     },
     "execution_count": 149,
     "metadata": {},
     "output_type": "execute_result"
    },
    {
     "data": {
      "application/javascript": [
       "\n",
       "            setTimeout(function() {\n",
       "                var nbb_cell_id = 149;\n",
       "                var nbb_unformatted_code = \"hooks[0].stats[-1][0].shape\";\n",
       "                var nbb_formatted_code = \"hooks[0].stats[-1][0].shape\";\n",
       "                var nbb_cells = Jupyter.notebook.get_cells();\n",
       "                for (var i = 0; i < nbb_cells.length; ++i) {\n",
       "                    if (nbb_cells[i].input_prompt_number == nbb_cell_id) {\n",
       "                        if (nbb_cells[i].get_text() == nbb_unformatted_code) {\n",
       "                             nbb_cells[i].set_text(nbb_formatted_code);\n",
       "                        }\n",
       "                        break;\n",
       "                    }\n",
       "                }\n",
       "            }, 500);\n",
       "            "
      ],
      "text/plain": [
       "<IPython.core.display.Javascript object>"
      ]
     },
     "metadata": {},
     "output_type": "display_data"
    }
   ],
   "source": [
    "hooks[0].stats[-1][0].shape"
   ]
  },
  {
   "cell_type": "code",
   "execution_count": 122,
   "metadata": {
    "hidden": true
   },
   "outputs": [
    {
     "data": {
      "text/plain": [
       "torch.Size([40])"
      ]
     },
     "execution_count": 122,
     "metadata": {},
     "output_type": "execute_result"
    },
    {
     "data": {
      "application/javascript": [
       "\n",
       "            setTimeout(function() {\n",
       "                var nbb_cell_id = 122;\n",
       "                var nbb_unformatted_code = \"# Number of bins\\nhooks[0].stats[-1][0].shape\";\n",
       "                var nbb_formatted_code = \"# Number of bins\\nhooks[0].stats[-1][0].shape\";\n",
       "                var nbb_cells = Jupyter.notebook.get_cells();\n",
       "                for (var i = 0; i < nbb_cells.length; ++i) {\n",
       "                    if (nbb_cells[i].input_prompt_number == nbb_cell_id) {\n",
       "                        if (nbb_cells[i].get_text() == nbb_unformatted_code) {\n",
       "                             nbb_cells[i].set_text(nbb_formatted_code);\n",
       "                        }\n",
       "                        break;\n",
       "                    }\n",
       "                }\n",
       "            }, 500);\n",
       "            "
      ],
      "text/plain": [
       "<IPython.core.display.Javascript object>"
      ]
     },
     "metadata": {},
     "output_type": "display_data"
    }
   ],
   "source": [
    "# Number of bins\n",
    "hooks[0].stats[-1][0].shape"
   ]
  },
  {
   "cell_type": "markdown",
   "metadata": {
    "hidden": true
   },
   "source": [
    "From the histograms, we can easily get more informations like the min or max of the activations"
   ]
  },
  {
   "cell_type": "code",
   "execution_count": 142,
   "metadata": {},
   "outputs": [
    {
     "data": {
      "application/javascript": [
       "\n",
       "            setTimeout(function() {\n",
       "                var nbb_cell_id = 142;\n",
       "                var nbb_unformatted_code = \"torch.histc??\";\n",
       "                var nbb_formatted_code = \"torch.histc??\";\n",
       "                var nbb_cells = Jupyter.notebook.get_cells();\n",
       "                for (var i = 0; i < nbb_cells.length; ++i) {\n",
       "                    if (nbb_cells[i].input_prompt_number == nbb_cell_id) {\n",
       "                        if (nbb_cells[i].get_text() == nbb_unformatted_code) {\n",
       "                             nbb_cells[i].set_text(nbb_formatted_code);\n",
       "                        }\n",
       "                        break;\n",
       "                    }\n",
       "                }\n",
       "            }, 500);\n",
       "            "
      ],
      "text/plain": [
       "<IPython.core.display.Javascript object>"
      ]
     },
     "metadata": {},
     "output_type": "display_data"
    },
    {
     "data": {
      "text/plain": [
       "\u001b[0;31mDocstring:\u001b[0m\n",
       "histc(input, bins=100, min=0, max=0, *, out=None) -> Tensor\n",
       "\n",
       "Computes the histogram of a tensor.\n",
       "\n",
       "The elements are sorted into equal width bins between :attr:`min` and\n",
       ":attr:`max`. If :attr:`min` and :attr:`max` are both zero, the minimum and\n",
       "maximum values of the data are used.\n",
       "\n",
       "Elements lower than min and higher than max are ignored.\n",
       "\n",
       "Args:\n",
       "    input (Tensor): the input tensor.\n",
       "    bins (int): number of histogram bins\n",
       "    min (int): lower end of the range (inclusive)\n",
       "    max (int): upper end of the range (inclusive)\n",
       "\n",
       "Keyword args:\n",
       "    out (Tensor, optional): the output tensor.\n",
       "\n",
       "Returns:\n",
       "    Tensor: Histogram represented as a tensor\n",
       "\n",
       "Example::\n",
       "\n",
       "    >>> torch.histc(torch.tensor([1., 2, 1]), bins=4, min=0, max=3)\n",
       "    tensor([ 0.,  2.,  1.,  0.])\n",
       "\u001b[0;31mType:\u001b[0m      builtin_function_or_method\n"
      ]
     },
     "metadata": {},
     "output_type": "display_data"
    }
   ],
   "source": [
    "torch.histc??"
   ]
  },
  {
   "cell_type": "code",
   "execution_count": 123,
   "metadata": {
    "hidden": true
   },
   "outputs": [
    {
     "data": {
      "text/plain": [
       "torch.Size([40, 108])"
      ]
     },
     "execution_count": 123,
     "metadata": {},
     "output_type": "execute_result"
    },
    {
     "data": {
      "application/javascript": [
       "\n",
       "            setTimeout(function() {\n",
       "                var nbb_cell_id = 123;\n",
       "                var nbb_unformatted_code = \"h1 = torch.stack(h.stats[2]).t().float()\\nh1.shape\";\n",
       "                var nbb_formatted_code = \"h1 = torch.stack(h.stats[2]).t().float()\\nh1.shape\";\n",
       "                var nbb_cells = Jupyter.notebook.get_cells();\n",
       "                for (var i = 0; i < nbb_cells.length; ++i) {\n",
       "                    if (nbb_cells[i].input_prompt_number == nbb_cell_id) {\n",
       "                        if (nbb_cells[i].get_text() == nbb_unformatted_code) {\n",
       "                             nbb_cells[i].set_text(nbb_formatted_code);\n",
       "                        }\n",
       "                        break;\n",
       "                    }\n",
       "                }\n",
       "            }, 500);\n",
       "            "
      ],
      "text/plain": [
       "<IPython.core.display.Javascript object>"
      ]
     },
     "metadata": {},
     "output_type": "display_data"
    }
   ],
   "source": [
    "h1 = torch.stack(h.stats[2]).t().float()\n",
    "h1.shape"
   ]
  },
  {
   "cell_type": "code",
   "execution_count": 156,
   "metadata": {
    "hidden": true
   },
   "outputs": [
    {
     "data": {
      "application/javascript": [
       "\n",
       "            setTimeout(function() {\n",
       "                var nbb_cell_id = 156;\n",
       "                var nbb_unformatted_code = \"#export\\ndef get_min(hook, bins_range):\\n    res = torch.stack(hook.stats[2]).t().float()\\n    return res[slice(*bins_range)].sum(0) / res.sum(0)\";\n",
       "                var nbb_formatted_code = \"# export\\ndef get_min(hook, bins_range):\\n    res = torch.stack(hook.stats[2]).t().float()\\n    return res[slice(*bins_range)].sum(0) / res.sum(0)\";\n",
       "                var nbb_cells = Jupyter.notebook.get_cells();\n",
       "                for (var i = 0; i < nbb_cells.length; ++i) {\n",
       "                    if (nbb_cells[i].input_prompt_number == nbb_cell_id) {\n",
       "                        if (nbb_cells[i].get_text() == nbb_unformatted_code) {\n",
       "                             nbb_cells[i].set_text(nbb_formatted_code);\n",
       "                        }\n",
       "                        break;\n",
       "                    }\n",
       "                }\n",
       "            }, 500);\n",
       "            "
      ],
      "text/plain": [
       "<IPython.core.display.Javascript object>"
      ]
     },
     "metadata": {},
     "output_type": "display_data"
    }
   ],
   "source": [
    "#export\n",
    "def get_min(hook, bins_range):\n",
    "    res = torch.stack(hook.stats[2]).t().float()\n",
    "    return res[slice(*bins_range)].sum(0) / res.sum(0)"
   ]
  },
  {
   "cell_type": "code",
   "execution_count": 125,
   "metadata": {
    "hidden": true
   },
   "outputs": [
    {
     "data": {
      "image/png": "[encoded data removed]",
      "text/plain": [
       "<Figure size 1080x432 with 4 Axes>"
      ]
     },
     "metadata": {
      "needs_background": "light"
     },
     "output_type": "display_data"
    },
    {
     "data": {
      "application/javascript": [
       "\n",
       "            setTimeout(function() {\n",
       "                var nbb_cell_id = 125;\n",
       "                var nbb_unformatted_code = \"fig, axes = plt.subplots(2, 2, figsize=(15, 6))\\nfor ax, h in zip(axes.flatten(), hooks[:4]):\\n    ax.plot(get_min(h, (0, 2)))\\n    ax.set_ylim(0, 1)\\nplt.tight_layout()\";\n",
       "                var nbb_formatted_code = \"fig, axes = plt.subplots(2, 2, figsize=(15, 6))\\nfor ax, h in zip(axes.flatten(), hooks[:4]):\\n    ax.plot(get_min(h, (0, 2)))\\n    ax.set_ylim(0, 1)\\nplt.tight_layout()\";\n",
       "                var nbb_cells = Jupyter.notebook.get_cells();\n",
       "                for (var i = 0; i < nbb_cells.length; ++i) {\n",
       "                    if (nbb_cells[i].input_prompt_number == nbb_cell_id) {\n",
       "                        if (nbb_cells[i].get_text() == nbb_unformatted_code) {\n",
       "                             nbb_cells[i].set_text(nbb_formatted_code);\n",
       "                        }\n",
       "                        break;\n",
       "                    }\n",
       "                }\n",
       "            }, 500);\n",
       "            "
      ],
      "text/plain": [
       "<IPython.core.display.Javascript object>"
      ]
     },
     "metadata": {},
     "output_type": "display_data"
    }
   ],
   "source": [
    "fig, axes = plt.subplots(2, 2, figsize=(15, 6))\n",
    "for ax, h in zip(axes.flatten(), hooks[:4]):\n",
    "    ax.plot(get_min(h, (0, 2)))\n",
    "    ax.set_ylim(0, 1)\n",
    "plt.tight_layout()"
   ]
  },
  {
   "cell_type": "markdown",
   "metadata": {},
   "source": [
    "# Generalized ReLU"
   ]
  },
  {
   "cell_type": "markdown",
   "metadata": {
    "hidden": true
   },
   "source": [
    "Now let's use our model with a generalized ReLU that can be shifted and with maximum value."
   ]
  },
  {
   "cell_type": "code",
   "execution_count": 126,
   "metadata": {
    "hidden": true
   },
   "outputs": [
    {
     "data": {
      "application/javascript": [
       "\n",
       "            setTimeout(function() {\n",
       "                var nbb_cell_id = 126;\n",
       "                var nbb_unformatted_code = \"#export\\ndef get_cnn_layers(data, nfs, layer, **kwargs):\\n    nfs = [1] + nfs\\n    return [\\n        layer(nfs[i], nfs[i + 1], 5 if i == 0 else 3, **kwargs)\\n        for i in range(len(nfs) - 1)\\n    ] + [nn.AdaptiveAvgPool2d(1),\\n         Lambda(flatten),\\n         nn.Linear(nfs[-1], data.c)]\\n\\n\\ndef conv_layer(ni, nf, ks=3, stride=2, **kwargs):\\n    return nn.Sequential(nn.Conv2d(ni, nf, ks, padding=ks // 2, stride=stride),\\n                         GeneralRelu(**kwargs))\\n\\n\\nclass GeneralRelu(nn.Module):\\n    def __init__(self, leak=None, sub=None, maxv=None):\\n        super().__init__()\\n        self.leak, self.sub, self.maxv = leak, sub, maxv\\n\\n    def forward(self, x):\\n        x = F.leaky_relu(x, self.leak) if self.leak is not None else F.relu(x)\\n        if self.sub is not None: \\n            x.sub_(self.sub)\\n        if self.maxv is not None:\\n            x.clamp_max_(self.maxv)\\n        return x\\n\\n\\ndef init_cnn(m, uniform=False):\\n    f = init.kaiming_uniform_ if uniform else init.kaiming_normal_\\n    for l in m:\\n        if isinstance(l, nn.Sequential):\\n            f(l[0].weight, a=0.1)\\n            l[0].bias.data.zero_()\\n\\n\\ndef get_cnn_model(data, nfs, layer, **kwargs):\\n    return nn.Sequential(*get_cnn_layers(data, nfs, layer, **kwargs))\";\n",
       "                var nbb_formatted_code = \"# export\\ndef get_cnn_layers(data, nfs, layer, **kwargs):\\n    nfs = [1] + nfs\\n    return [\\n        layer(nfs[i], nfs[i + 1], 5 if i == 0 else 3, **kwargs)\\n        for i in range(len(nfs) - 1)\\n    ] + [nn.AdaptiveAvgPool2d(1), Lambda(flatten), nn.Linear(nfs[-1], data.c)]\\n\\n\\ndef conv_layer(ni, nf, ks=3, stride=2, **kwargs):\\n    return nn.Sequential(\\n        nn.Conv2d(ni, nf, ks, padding=ks // 2, stride=stride), GeneralRelu(**kwargs)\\n    )\\n\\n\\nclass GeneralRelu(nn.Module):\\n    def __init__(self, leak=None, sub=None, maxv=None):\\n        super().__init__()\\n        self.leak, self.sub, self.maxv = leak, sub, maxv\\n\\n    def forward(self, x):\\n        x = F.leaky_relu(x, self.leak) if self.leak is not None else F.relu(x)\\n        if self.sub is not None:\\n            x.sub_(self.sub)\\n        if self.maxv is not None:\\n            x.clamp_max_(self.maxv)\\n        return x\\n\\n\\ndef init_cnn(m, uniform=False):\\n    f = init.kaiming_uniform_ if uniform else init.kaiming_normal_\\n    for l in m:\\n        if isinstance(l, nn.Sequential):\\n            f(l[0].weight, a=0.1)\\n            l[0].bias.data.zero_()\\n\\n\\ndef get_cnn_model(data, nfs, layer, **kwargs):\\n    return nn.Sequential(*get_cnn_layers(data, nfs, layer, **kwargs))\";\n",
       "                var nbb_cells = Jupyter.notebook.get_cells();\n",
       "                for (var i = 0; i < nbb_cells.length; ++i) {\n",
       "                    if (nbb_cells[i].input_prompt_number == nbb_cell_id) {\n",
       "                        if (nbb_cells[i].get_text() == nbb_unformatted_code) {\n",
       "                             nbb_cells[i].set_text(nbb_formatted_code);\n",
       "                        }\n",
       "                        break;\n",
       "                    }\n",
       "                }\n",
       "            }, 500);\n",
       "            "
      ],
      "text/plain": [
       "<IPython.core.display.Javascript object>"
      ]
     },
     "metadata": {},
     "output_type": "display_data"
    }
   ],
   "source": [
    "#export\n",
    "def get_cnn_layers(data, nfs, layer, **kwargs):\n",
    "    nfs = [1] + nfs\n",
    "    return [\n",
    "        layer(nfs[i], nfs[i + 1], 5 if i == 0 else 3, **kwargs)\n",
    "        for i in range(len(nfs) - 1)\n",
    "    ] + [nn.AdaptiveAvgPool2d(1),\n",
    "         Lambda(flatten),\n",
    "         nn.Linear(nfs[-1], data.c)]\n",
    "\n",
    "\n",
    "def conv_layer(ni, nf, ks=3, stride=2, **kwargs):\n",
    "    return nn.Sequential(nn.Conv2d(ni, nf, ks, padding=ks // 2, stride=stride),\n",
    "                         GeneralRelu(**kwargs))\n",
    "\n",
    "\n",
    "class GeneralRelu(nn.Module):\n",
    "    def __init__(self, leak=None, sub=None, maxv=None):\n",
    "        super().__init__()\n",
    "        self.leak, self.sub, self.maxv = leak, sub, maxv\n",
    "\n",
    "    def forward(self, x):\n",
    "        x = F.leaky_relu(x, self.leak) if self.leak is not None else F.relu(x)\n",
    "        if self.sub is not None: \n",
    "            x.sub_(self.sub)\n",
    "        if self.maxv is not None:\n",
    "            x.clamp_max_(self.maxv)\n",
    "        return x\n",
    "\n",
    "\n",
    "def init_cnn(m, uniform=False):\n",
    "    f = init.kaiming_uniform_ if uniform else init.kaiming_normal_\n",
    "    for l in m:\n",
    "        if isinstance(l, nn.Sequential):\n",
    "            f(l[0].weight, a=0.1)\n",
    "            l[0].bias.data.zero_()\n",
    "\n",
    "\n",
    "def get_cnn_model(data, nfs, layer, **kwargs):\n",
    "    return nn.Sequential(*get_cnn_layers(data, nfs, layer, **kwargs))"
   ]
  },
  {
   "cell_type": "code",
   "execution_count": 127,
   "metadata": {
    "hidden": true
   },
   "outputs": [
    {
     "data": {
      "application/javascript": [
       "\n",
       "            setTimeout(function() {\n",
       "                var nbb_cell_id = 127;\n",
       "                var nbb_unformatted_code = \"model = get_cnn_model(data, nfs, conv_layer, leak=0.1, sub=0.4, maxv=6.)\\ninit_cnn(model)\\nlearner = get_learner(model, data, lr=0.9, cbs=cbfs)\";\n",
       "                var nbb_formatted_code = \"model = get_cnn_model(data, nfs, conv_layer, leak=0.1, sub=0.4, maxv=6.0)\\ninit_cnn(model)\\nlearner = get_learner(model, data, lr=0.9, cbs=cbfs)\";\n",
       "                var nbb_cells = Jupyter.notebook.get_cells();\n",
       "                for (var i = 0; i < nbb_cells.length; ++i) {\n",
       "                    if (nbb_cells[i].input_prompt_number == nbb_cell_id) {\n",
       "                        if (nbb_cells[i].get_text() == nbb_unformatted_code) {\n",
       "                             nbb_cells[i].set_text(nbb_formatted_code);\n",
       "                        }\n",
       "                        break;\n",
       "                    }\n",
       "                }\n",
       "            }, 500);\n",
       "            "
      ],
      "text/plain": [
       "<IPython.core.display.Javascript object>"
      ]
     },
     "metadata": {},
     "output_type": "display_data"
    }
   ],
   "source": [
    "model = get_cnn_model(data, nfs, conv_layer, leak=0.1, sub=0.4, maxv=6.)\n",
    "init_cnn(model)\n",
    "learner = get_learner(model, data, lr=0.9, cbs=cbfs)"
   ]
  },
  {
   "cell_type": "code",
   "execution_count": 129,
   "metadata": {
    "hidden": true
   },
   "outputs": [
    {
     "name": "stdout",
     "output_type": "stream",
     "text": [
      "train: [0.467748515625, tensor(0.8526)]\n",
      "valid: [0.15083929443359376, tensor(0.9550)]\n"
     ]
    },
    {
     "data": {
      "image/png": "[encoded data removed]",
      "text/plain": [
       "<Figure size 720x288 with 2 Axes>"
      ]
     },
     "metadata": {
      "needs_background": "light"
     },
     "output_type": "display_data"
    },
    {
     "data": {
      "image/png": "[encoded data removed]",
      "text/plain": [
       "<Figure size 720x288 with 2 Axes>"
      ]
     },
     "metadata": {
      "needs_background": "light"
     },
     "output_type": "display_data"
    },
    {
     "data": {
      "application/javascript": [
       "\n",
       "            setTimeout(function() {\n",
       "                var nbb_cell_id = 129;\n",
       "                var nbb_unformatted_code = \"with Hooks(model, compute_stats, True, bins=40, hist_range=(-7, 7)) as hooks:\\n    learner.fit(1)\\n    fig, (ax0, ax1) = plt.subplots(1, 2, figsize=(10, 4))\\n    for h in hooks:\\n        ms, ss, hi = h.stats\\n        ax0.plot(ms[:10])\\n        ax1.plot(ss[:10])\\n        h.remove()\\n    plt.legend(range(5))\\n\\n    fig, (ax0, ax1) = plt.subplots(1, 2, figsize=(10, 4))\\n    for h in hooks:\\n        ms, ss, hi = h.stats\\n        ax0.plot(ms)\\n        ax1.plot(ss)\\n    plt.legend(range(5))\";\n",
       "                var nbb_formatted_code = \"with Hooks(model, compute_stats, True, bins=40, hist_range=(-7, 7)) as hooks:\\n    learner.fit(1)\\n    fig, (ax0, ax1) = plt.subplots(1, 2, figsize=(10, 4))\\n    for h in hooks:\\n        ms, ss, hi = h.stats\\n        ax0.plot(ms[:10])\\n        ax1.plot(ss[:10])\\n        h.remove()\\n    plt.legend(range(5))\\n\\n    fig, (ax0, ax1) = plt.subplots(1, 2, figsize=(10, 4))\\n    for h in hooks:\\n        ms, ss, hi = h.stats\\n        ax0.plot(ms)\\n        ax1.plot(ss)\\n    plt.legend(range(5))\";\n",
       "                var nbb_cells = Jupyter.notebook.get_cells();\n",
       "                for (var i = 0; i < nbb_cells.length; ++i) {\n",
       "                    if (nbb_cells[i].input_prompt_number == nbb_cell_id) {\n",
       "                        if (nbb_cells[i].get_text() == nbb_unformatted_code) {\n",
       "                             nbb_cells[i].set_text(nbb_formatted_code);\n",
       "                        }\n",
       "                        break;\n",
       "                    }\n",
       "                }\n",
       "            }, 500);\n",
       "            "
      ],
      "text/plain": [
       "<IPython.core.display.Javascript object>"
      ]
     },
     "metadata": {},
     "output_type": "display_data"
    }
   ],
   "source": [
    "with Hooks(model, compute_stats, True, bins=40, hist_range=(-7, 7)) as hooks:\n",
    "    learner.fit(1)\n",
    "    fig, (ax0, ax1) = plt.subplots(1, 2, figsize=(10, 4))\n",
    "    for h in hooks:\n",
    "        ms, ss, hi = h.stats\n",
    "        ax0.plot(ms[:10])\n",
    "        ax1.plot(ss[:10])\n",
    "        h.remove()\n",
    "    plt.legend(range(5))\n",
    "\n",
    "    fig, (ax0, ax1) = plt.subplots(1, 2, figsize=(10, 4))\n",
    "    for h in hooks:\n",
    "        ms, ss, hi = h.stats\n",
    "        ax0.plot(ms)\n",
    "        ax1.plot(ss)\n",
    "    plt.legend(range(5))"
   ]
  },
  {
   "cell_type": "code",
   "execution_count": 130,
   "metadata": {
    "hidden": true
   },
   "outputs": [
    {
     "data": {
      "image/png": "[encoded data removed]",
      "text/plain": [
       "<Figure size 1080x432 with 4 Axes>"
      ]
     },
     "metadata": {
      "needs_background": "light"
     },
     "output_type": "display_data"
    },
    {
     "data": {
      "application/javascript": [
       "\n",
       "            setTimeout(function() {\n",
       "                var nbb_cell_id = 130;\n",
       "                var nbb_unformatted_code = \"fig, axes = plt.subplots(2, 2, figsize=(15, 6))\\nfor ax, h in zip(axes.flatten(), hooks[:4]):\\n    ax.imshow(get_hist(h), origin='lower')\\n    ax.axis('off')\\nplt.tight_layout()\";\n",
       "                var nbb_formatted_code = \"fig, axes = plt.subplots(2, 2, figsize=(15, 6))\\nfor ax, h in zip(axes.flatten(), hooks[:4]):\\n    ax.imshow(get_hist(h), origin=\\\"lower\\\")\\n    ax.axis(\\\"off\\\")\\nplt.tight_layout()\";\n",
       "                var nbb_cells = Jupyter.notebook.get_cells();\n",
       "                for (var i = 0; i < nbb_cells.length; ++i) {\n",
       "                    if (nbb_cells[i].input_prompt_number == nbb_cell_id) {\n",
       "                        if (nbb_cells[i].get_text() == nbb_unformatted_code) {\n",
       "                             nbb_cells[i].set_text(nbb_formatted_code);\n",
       "                        }\n",
       "                        break;\n",
       "                    }\n",
       "                }\n",
       "            }, 500);\n",
       "            "
      ],
      "text/plain": [
       "<IPython.core.display.Javascript object>"
      ]
     },
     "metadata": {},
     "output_type": "display_data"
    }
   ],
   "source": [
    "fig, axes = plt.subplots(2, 2, figsize=(15, 6))\n",
    "for ax, h in zip(axes.flatten(), hooks[:4]):\n",
    "    ax.imshow(get_hist(h), origin='lower')\n",
    "    ax.axis('off')\n",
    "plt.tight_layout()"
   ]
  },
  {
   "cell_type": "code",
   "execution_count": 131,
   "metadata": {
    "hidden": true
   },
   "outputs": [
    {
     "data": {
      "image/png": "[encoded data removed]",
      "text/plain": [
       "<Figure size 1080x432 with 4 Axes>"
      ]
     },
     "metadata": {
      "needs_background": "light"
     },
     "output_type": "display_data"
    },
    {
     "data": {
      "application/javascript": [
       "\n",
       "            setTimeout(function() {\n",
       "                var nbb_cell_id = 131;\n",
       "                var nbb_unformatted_code = \"fig, axes = plt.subplots(2, 2, figsize=(15, 6))\\nfor ax, h in zip(axes.flatten(), hooks[:4]):\\n    ax.plot(get_min(h, (19, 22)))\\n    ax.set_ylim(0, 1)\\nplt.tight_layout()\";\n",
       "                var nbb_formatted_code = \"fig, axes = plt.subplots(2, 2, figsize=(15, 6))\\nfor ax, h in zip(axes.flatten(), hooks[:4]):\\n    ax.plot(get_min(h, (19, 22)))\\n    ax.set_ylim(0, 1)\\nplt.tight_layout()\";\n",
       "                var nbb_cells = Jupyter.notebook.get_cells();\n",
       "                for (var i = 0; i < nbb_cells.length; ++i) {\n",
       "                    if (nbb_cells[i].input_prompt_number == nbb_cell_id) {\n",
       "                        if (nbb_cells[i].get_text() == nbb_unformatted_code) {\n",
       "                             nbb_cells[i].set_text(nbb_formatted_code);\n",
       "                        }\n",
       "                        break;\n",
       "                    }\n",
       "                }\n",
       "            }, 500);\n",
       "            "
      ],
      "text/plain": [
       "<IPython.core.display.Javascript object>"
      ]
     },
     "metadata": {},
     "output_type": "display_data"
    }
   ],
   "source": [
    "fig, axes = plt.subplots(2, 2, figsize=(15, 6))\n",
    "for ax, h in zip(axes.flatten(), hooks[:4]):\n",
    "    ax.plot(get_min(h, (19, 22)))\n",
    "    ax.set_ylim(0, 1)\n",
    "plt.tight_layout()"
   ]
  },
  {
   "cell_type": "code",
   "execution_count": 134,
   "metadata": {
    "hidden": true
   },
   "outputs": [
    {
     "data": {
      "application/javascript": [
       "\n",
       "            setTimeout(function() {\n",
       "                var nbb_cell_id = 134;\n",
       "                var nbb_unformatted_code = \"#export\\ndef get_learn_run(nfs,\\n                  data,\\n                  lr,\\n                  layer,\\n                  cbs=None,\\n                  opt_func=None,\\n                  uniform=False,\\n                  **kwargs):\\n    model = get_cnn_model(data, nfs, layer, **kwargs)\\n    init_cnn(model, uniform=uniform)\\n    return get_learner(model, data, lr=lr, cbs=cbs, opt_func=opt_func)\";\n",
       "                var nbb_formatted_code = \"# export\\ndef get_learn_run(\\n    nfs, data, lr, layer, cbs=None, opt_func=None, uniform=False, **kwargs\\n):\\n    model = get_cnn_model(data, nfs, layer, **kwargs)\\n    init_cnn(model, uniform=uniform)\\n    return get_learner(model, data, lr=lr, cbs=cbs, opt_func=opt_func)\";\n",
       "                var nbb_cells = Jupyter.notebook.get_cells();\n",
       "                for (var i = 0; i < nbb_cells.length; ++i) {\n",
       "                    if (nbb_cells[i].input_prompt_number == nbb_cell_id) {\n",
       "                        if (nbb_cells[i].get_text() == nbb_unformatted_code) {\n",
       "                             nbb_cells[i].set_text(nbb_formatted_code);\n",
       "                        }\n",
       "                        break;\n",
       "                    }\n",
       "                }\n",
       "            }, 500);\n",
       "            "
      ],
      "text/plain": [
       "<IPython.core.display.Javascript object>"
      ]
     },
     "metadata": {},
     "output_type": "display_data"
    }
   ],
   "source": [
    "#export\n",
    "def get_learn_run(nfs,\n",
    "                  data,\n",
    "                  lr,\n",
    "                  layer,\n",
    "                  cbs=None,\n",
    "                  opt_func=None,\n",
    "                  uniform=False,\n",
    "                  **kwargs):\n",
    "    model = get_cnn_model(data, nfs, layer, **kwargs)\n",
    "    init_cnn(model, uniform=uniform)\n",
    "    return get_learner(model, data, lr=lr, cbs=cbs, opt_func=opt_func)"
   ]
  },
  {
   "cell_type": "code",
   "execution_count": 135,
   "metadata": {
    "hidden": true
   },
   "outputs": [
    {
     "data": {
      "application/javascript": [
       "\n",
       "            setTimeout(function() {\n",
       "                var nbb_cell_id = 135;\n",
       "                var nbb_unformatted_code = \"sched = combine_scheds([0.5, 0.5], [sched_cos(0.2, 1.), sched_cos(1., 0.1)])\";\n",
       "                var nbb_formatted_code = \"sched = combine_scheds([0.5, 0.5], [sched_cos(0.2, 1.0), sched_cos(1.0, 0.1)])\";\n",
       "                var nbb_cells = Jupyter.notebook.get_cells();\n",
       "                for (var i = 0; i < nbb_cells.length; ++i) {\n",
       "                    if (nbb_cells[i].input_prompt_number == nbb_cell_id) {\n",
       "                        if (nbb_cells[i].get_text() == nbb_unformatted_code) {\n",
       "                             nbb_cells[i].set_text(nbb_formatted_code);\n",
       "                        }\n",
       "                        break;\n",
       "                    }\n",
       "                }\n",
       "            }, 500);\n",
       "            "
      ],
      "text/plain": [
       "<IPython.core.display.Javascript object>"
      ]
     },
     "metadata": {},
     "output_type": "display_data"
    }
   ],
   "source": [
    "sched = combine_scheds([0.5, 0.5], [sched_cos(0.2, 1.), sched_cos(1., 0.1)])"
   ]
  },
  {
   "cell_type": "code",
   "execution_count": 136,
   "metadata": {
    "hidden": true
   },
   "outputs": [
    {
     "data": {
      "application/javascript": [
       "\n",
       "            setTimeout(function() {\n",
       "                var nbb_cell_id = 136;\n",
       "                var nbb_unformatted_code = \"learner = get_learn_run(nfs,\\n                           data,\\n                           1.,\\n                           conv_layer,\\n                           cbs=cbfs + [partial(ParamScheduler, 'lr', sched)])\";\n",
       "                var nbb_formatted_code = \"learner = get_learn_run(\\n    nfs, data, 1.0, conv_layer, cbs=cbfs + [partial(ParamScheduler, \\\"lr\\\", sched)]\\n)\";\n",
       "                var nbb_cells = Jupyter.notebook.get_cells();\n",
       "                for (var i = 0; i < nbb_cells.length; ++i) {\n",
       "                    if (nbb_cells[i].input_prompt_number == nbb_cell_id) {\n",
       "                        if (nbb_cells[i].get_text() == nbb_unformatted_code) {\n",
       "                             nbb_cells[i].set_text(nbb_formatted_code);\n",
       "                        }\n",
       "                        break;\n",
       "                    }\n",
       "                }\n",
       "            }, 500);\n",
       "            "
      ],
      "text/plain": [
       "<IPython.core.display.Javascript object>"
      ]
     },
     "metadata": {},
     "output_type": "display_data"
    }
   ],
   "source": [
    "learner = get_learn_run(nfs,\n",
    "                           data,\n",
    "                           1.,\n",
    "                           conv_layer,\n",
    "                           cbs=cbfs + [partial(ParamScheduler, 'lr', sched)])"
   ]
  },
  {
   "cell_type": "code",
   "execution_count": 137,
   "metadata": {
    "hidden": true
   },
   "outputs": [
    {
     "name": "stdout",
     "output_type": "stream",
     "text": [
      "train: [1.14679234375, tensor(0.6358)]\n",
      "valid: [0.3738161376953125, tensor(0.8796)]\n",
      "train: [0.349367421875, tensor(0.8926)]\n",
      "valid: [0.1618093505859375, tensor(0.9520)]\n",
      "train: [0.3958880859375, tensor(0.8801)]\n",
      "valid: [0.38497685546875, tensor(0.8878)]\n",
      "train: [0.140319931640625, tensor(0.9579)]\n",
      "valid: [0.11622218017578125, tensor(0.9657)]\n",
      "train: [0.084175908203125, tensor(0.9746)]\n",
      "valid: [0.06995999755859375, tensor(0.9788)]\n",
      "train: [0.0620545361328125, tensor(0.9815)]\n",
      "valid: [0.06465770263671874, tensor(0.9805)]\n",
      "train: [0.047132783203125, tensor(0.9855)]\n",
      "valid: [0.062388958740234375, tensor(0.9815)]\n",
      "train: [0.03912074951171875, tensor(0.9884)]\n",
      "valid: [0.06001511840820312, tensor(0.9830)]\n"
     ]
    },
    {
     "data": {
      "application/javascript": [
       "\n",
       "            setTimeout(function() {\n",
       "                var nbb_cell_id = 137;\n",
       "                var nbb_unformatted_code = \"learner.fit(8)\";\n",
       "                var nbb_formatted_code = \"learner.fit(8)\";\n",
       "                var nbb_cells = Jupyter.notebook.get_cells();\n",
       "                for (var i = 0; i < nbb_cells.length; ++i) {\n",
       "                    if (nbb_cells[i].input_prompt_number == nbb_cell_id) {\n",
       "                        if (nbb_cells[i].get_text() == nbb_unformatted_code) {\n",
       "                             nbb_cells[i].set_text(nbb_formatted_code);\n",
       "                        }\n",
       "                        break;\n",
       "                    }\n",
       "                }\n",
       "            }, 500);\n",
       "            "
      ],
      "text/plain": [
       "<IPython.core.display.Javascript object>"
      ]
     },
     "metadata": {},
     "output_type": "display_data"
    }
   ],
   "source": [
    "learner.fit(8)"
   ]
  },
  {
   "cell_type": "markdown",
   "metadata": {
    "hidden": true
   },
   "source": [
    "Uniform init may provide more useful initial weights (normal distribution puts a lot of them at 0)."
   ]
  },
  {
   "cell_type": "code",
   "execution_count": 138,
   "metadata": {
    "hidden": true
   },
   "outputs": [
    {
     "data": {
      "application/javascript": [
       "\n",
       "            setTimeout(function() {\n",
       "                var nbb_cell_id = 138;\n",
       "                var nbb_unformatted_code = \"learner = get_learn_run(nfs,\\n                           data,\\n                           1.,\\n                           conv_layer,\\n                           uniform=True,\\n                           cbs=cbfs + [partial(ParamScheduler, 'lr', sched)])\";\n",
       "                var nbb_formatted_code = \"learner = get_learn_run(\\n    nfs,\\n    data,\\n    1.0,\\n    conv_layer,\\n    uniform=True,\\n    cbs=cbfs + [partial(ParamScheduler, \\\"lr\\\", sched)],\\n)\";\n",
       "                var nbb_cells = Jupyter.notebook.get_cells();\n",
       "                for (var i = 0; i < nbb_cells.length; ++i) {\n",
       "                    if (nbb_cells[i].input_prompt_number == nbb_cell_id) {\n",
       "                        if (nbb_cells[i].get_text() == nbb_unformatted_code) {\n",
       "                             nbb_cells[i].set_text(nbb_formatted_code);\n",
       "                        }\n",
       "                        break;\n",
       "                    }\n",
       "                }\n",
       "            }, 500);\n",
       "            "
      ],
      "text/plain": [
       "<IPython.core.display.Javascript object>"
      ]
     },
     "metadata": {},
     "output_type": "display_data"
    }
   ],
   "source": [
    "learner = get_learn_run(nfs,\n",
    "                           data,\n",
    "                           1.,\n",
    "                           conv_layer,\n",
    "                           uniform=True,\n",
    "                           cbs=cbfs + [partial(ParamScheduler, 'lr', sched)])"
   ]
  },
  {
   "cell_type": "code",
   "execution_count": 139,
   "metadata": {
    "hidden": true
   },
   "outputs": [
    {
     "name": "stdout",
     "output_type": "stream",
     "text": [
      "train: [1.006130703125, tensor(0.6876)]\n",
      "valid: [0.3393136962890625, tensor(0.8933)]\n",
      "train: [0.36487015625, tensor(0.8907)]\n",
      "valid: [0.15315078125, tensor(0.9560)]\n",
      "train: [0.15870029296875, tensor(0.9508)]\n",
      "valid: [0.1521597412109375, tensor(0.9533)]\n",
      "train: [1.5396884375, tensor(0.5059)]\n",
      "valid: [1.1713912109375, tensor(0.6046)]\n",
      "train: [0.5330229296875, tensor(0.8290)]\n",
      "valid: [0.194618017578125, tensor(0.9404)]\n",
      "train: [0.16319931640625, tensor(0.9494)]\n",
      "valid: [0.131367724609375, tensor(0.9613)]\n",
      "train: [0.114317412109375, tensor(0.9648)]\n",
      "valid: [0.1097249755859375, tensor(0.9678)]\n",
      "train: [0.0974128515625, tensor(0.9705)]\n",
      "valid: [0.10461824951171875, tensor(0.9698)]\n"
     ]
    },
    {
     "data": {
      "application/javascript": [
       "\n",
       "            setTimeout(function() {\n",
       "                var nbb_cell_id = 139;\n",
       "                var nbb_unformatted_code = \"learner.fit(8)\";\n",
       "                var nbb_formatted_code = \"learner.fit(8)\";\n",
       "                var nbb_cells = Jupyter.notebook.get_cells();\n",
       "                for (var i = 0; i < nbb_cells.length; ++i) {\n",
       "                    if (nbb_cells[i].input_prompt_number == nbb_cell_id) {\n",
       "                        if (nbb_cells[i].get_text() == nbb_unformatted_code) {\n",
       "                             nbb_cells[i].set_text(nbb_formatted_code);\n",
       "                        }\n",
       "                        break;\n",
       "                    }\n",
       "                }\n",
       "            }, 500);\n",
       "            "
      ],
      "text/plain": [
       "<IPython.core.display.Javascript object>"
      ]
     },
     "metadata": {},
     "output_type": "display_data"
    }
   ],
   "source": [
    "learner.fit(8)"
   ]
  },
  {
   "cell_type": "markdown",
   "metadata": {
    "heading_collapsed": "true"
   },
   "source": [
    "# Export"
   ]
  },
  {
   "cell_type": "markdown",
   "metadata": {
    "hidden": true
   },
   "source": [
    "Here's a handy way to export our module without needing to update the file name - after we define this, we can just use `nb_auto_export()` in the future (h/t Stas Bekman):"
   ]
  },
  {
   "cell_type": "code",
   "execution_count": 157,
   "metadata": {},
   "outputs": [
    {
     "name": "stdout",
     "output_type": "stream",
     "text": [
      "Converted 06_CUDA_CNN_Hooks_Init-Imad.ipynb to exp/nb_06.py\n"
     ]
    },
    {
     "data": {
      "application/javascript": [
       "\n",
       "            setTimeout(function() {\n",
       "                var nbb_cell_id = 157;\n",
       "                var nbb_unformatted_code = \"!python ../src/notebook2script.py 06_CUDA_CNN_Hooks_Init-Imad.ipynb\";\n",
       "                var nbb_formatted_code = \"!python ../src/notebook2script.py 06_CUDA_CNN_Hooks_Init-Imad.ipynb\";\n",
       "                var nbb_cells = Jupyter.notebook.get_cells();\n",
       "                for (var i = 0; i < nbb_cells.length; ++i) {\n",
       "                    if (nbb_cells[i].input_prompt_number == nbb_cell_id) {\n",
       "                        if (nbb_cells[i].get_text() == nbb_unformatted_code) {\n",
       "                             nbb_cells[i].set_text(nbb_formatted_code);\n",
       "                        }\n",
       "                        break;\n",
       "                    }\n",
       "                }\n",
       "            }, 500);\n",
       "            "
      ],
      "text/plain": [
       "<IPython.core.display.Javascript object>"
      ]
     },
     "metadata": {},
     "output_type": "display_data"
    }
   ],
   "source": [
    "!python ../src/notebook2script.py 06_CUDA_CNN_Hooks_Init-Imad.ipynb"
   ]
  },
  {
   "cell_type": "code",
   "execution_count": 140,
   "metadata": {
    "hidden": true
   },
   "outputs": [
    {
     "data": {
      "application/javascript": [
       "\n",
       "            setTimeout(function() {\n",
       "                var nbb_cell_id = 140;\n",
       "                var nbb_unformatted_code = \"#export\\nfrom IPython.display import display, Javascript\\ndef nb_auto_export():\\n    display(Javascript(\\\"\\\"\\\"{\\nconst ip = IPython.notebook\\nif (ip) {\\n    ip.save_notebook()\\n    console.log('a')\\n    const s = `!python ../src/notebook2script.py ${ip.notebook_name}`\\n    if (ip.kernel) { ip.kernel.execute(s) }\\n}\\n}\\\"\\\"\\\"))\";\n",
       "                var nbb_formatted_code = \"# export\\nfrom IPython.display import display, Javascript\\n\\n\\ndef nb_auto_export():\\n    display(\\n        Javascript(\\n            \\\"\\\"\\\"{\\nconst ip = IPython.notebook\\nif (ip) {\\n    ip.save_notebook()\\n    console.log('a')\\n    const s = `!python ../src/notebook2script.py ${ip.notebook_name}`\\n    if (ip.kernel) { ip.kernel.execute(s) }\\n}\\n}\\\"\\\"\\\"\\n        )\\n    )\";\n",
       "                var nbb_cells = Jupyter.notebook.get_cells();\n",
       "                for (var i = 0; i < nbb_cells.length; ++i) {\n",
       "                    if (nbb_cells[i].input_prompt_number == nbb_cell_id) {\n",
       "                        if (nbb_cells[i].get_text() == nbb_unformatted_code) {\n",
       "                             nbb_cells[i].set_text(nbb_formatted_code);\n",
       "                        }\n",
       "                        break;\n",
       "                    }\n",
       "                }\n",
       "            }, 500);\n",
       "            "
      ],
      "text/plain": [
       "<IPython.core.display.Javascript object>"
      ]
     },
     "metadata": {},
     "output_type": "display_data"
    }
   ],
   "source": [
    "#export\n",
    "from IPython.display import display, Javascript\n",
    "def nb_auto_export():\n",
    "    display(Javascript(\"\"\"{\n",
    "const ip = IPython.notebook\n",
    "if (ip) {\n",
    "    ip.save_notebook()\n",
    "    console.log('a')\n",
    "    const s = `!python ../src/notebook2script.py ${ip.notebook_name}`\n",
    "    if (ip.kernel) { ip.kernel.execute(s) }\n",
    "}\n",
    "}\"\"\"))"
   ]
  },
  {
   "cell_type": "code",
   "execution_count": 141,
   "metadata": {
    "hidden": true
   },
   "outputs": [
    {
     "data": {
      "application/javascript": [
       "{\n",
       "const ip = IPython.notebook\n",
       "if (ip) {\n",
       "    ip.save_notebook()\n",
       "    console.log('a')\n",
       "    const s = `!python ../src/notebook2script.py ${ip.notebook_name}`\n",
       "    if (ip.kernel) { ip.kernel.execute(s) }\n",
       "}\n",
       "}"
      ],
      "text/plain": [
       "<IPython.core.display.Javascript object>"
      ]
     },
     "metadata": {},
     "output_type": "display_data"
    },
    {
     "data": {
      "application/javascript": [
       "\n",
       "            setTimeout(function() {\n",
       "                var nbb_cell_id = 141;\n",
       "                var nbb_unformatted_code = \"nb_auto_export()\";\n",
       "                var nbb_formatted_code = \"nb_auto_export()\";\n",
       "                var nbb_cells = Jupyter.notebook.get_cells();\n",
       "                for (var i = 0; i < nbb_cells.length; ++i) {\n",
       "                    if (nbb_cells[i].input_prompt_number == nbb_cell_id) {\n",
       "                        if (nbb_cells[i].get_text() == nbb_unformatted_code) {\n",
       "                             nbb_cells[i].set_text(nbb_formatted_code);\n",
       "                        }\n",
       "                        break;\n",
       "                    }\n",
       "                }\n",
       "            }, 500);\n",
       "            "
      ],
      "text/plain": [
       "<IPython.core.display.Javascript object>"
      ]
     },
     "metadata": {},
     "output_type": "display_data"
    }
   ],
   "source": [
    "nb_auto_export()"
   ]
  }
 ],
 "metadata": {
  "hide_input": false,
  "kernelspec": {
   "display_name": "Python 3 (ipykernel)",
   "language": "python",
   "name": "python3"
  },
  "language_info": {
   "codemirror_mode": {
    "name": "ipython",
    "version": 3
   },
   "file_extension": ".py",
   "mimetype": "text/x-python",
   "name": "python",
   "nbconvert_exporter": "python",
   "pygments_lexer": "ipython3",
   "version": "3.10.4"
  },
  "toc": {
   "base_numbering": 1,
   "nav_menu": {},
   "number_sections": true,
   "sideBar": true,
   "skip_h1_title": false,
   "title_cell": "Table of Contents",
   "title_sidebar": "Contents",
   "toc_cell": false,
   "toc_position": {},
   "toc_section_display": true,
   "toc_window_display": false
  }
 },
 "nbformat": 4,
 "nbformat_minor": 4
}
