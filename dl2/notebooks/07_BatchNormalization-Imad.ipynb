{
 "cells": [
  {
   "cell_type": "code",
   "execution_count": 1,
   "metadata": {},
   "outputs": [
    {
     "data": {
      "application/javascript": [
       "\n",
       "            setTimeout(function() {\n",
       "                var nbb_cell_id = 1;\n",
       "                var nbb_unformatted_code = \"%load_ext autoreload\\n%autoreload 2\\n\\n%load_ext nb_black\";\n",
       "                var nbb_formatted_code = \"%load_ext autoreload\\n%autoreload 2\\n\\n%load_ext nb_black\";\n",
       "                var nbb_cells = Jupyter.notebook.get_cells();\n",
       "                for (var i = 0; i < nbb_cells.length; ++i) {\n",
       "                    if (nbb_cells[i].input_prompt_number == nbb_cell_id) {\n",
       "                        if (nbb_cells[i].get_text() == nbb_unformatted_code) {\n",
       "                             nbb_cells[i].set_text(nbb_formatted_code);\n",
       "                        }\n",
       "                        break;\n",
       "                    }\n",
       "                }\n",
       "            }, 500);\n",
       "            "
      ],
      "text/plain": [
       "<IPython.core.display.Javascript object>"
      ]
     },
     "metadata": {},
     "output_type": "display_data"
    }
   ],
   "source": [
    "%load_ext autoreload\n",
    "%autoreload 2\n",
    "\n",
    "%load_ext nb_black"
   ]
  },
  {
   "cell_type": "code",
   "execution_count": 2,
   "metadata": {},
   "outputs": [
    {
     "data": {
      "application/javascript": [
       "\n",
       "            setTimeout(function() {\n",
       "                var nbb_cell_id = 2;\n",
       "                var nbb_unformatted_code = \"#export\\nfrom exp.nb_06 import *\";\n",
       "                var nbb_formatted_code = \"# export\\nfrom exp.nb_06 import *\";\n",
       "                var nbb_cells = Jupyter.notebook.get_cells();\n",
       "                for (var i = 0; i < nbb_cells.length; ++i) {\n",
       "                    if (nbb_cells[i].input_prompt_number == nbb_cell_id) {\n",
       "                        if (nbb_cells[i].get_text() == nbb_unformatted_code) {\n",
       "                             nbb_cells[i].set_text(nbb_formatted_code);\n",
       "                        }\n",
       "                        break;\n",
       "                    }\n",
       "                }\n",
       "            }, 500);\n",
       "            "
      ],
      "text/plain": [
       "<IPython.core.display.Javascript object>"
      ]
     },
     "metadata": {},
     "output_type": "display_data"
    }
   ],
   "source": [
    "#export\n",
    "from exp.nb_06 import *"
   ]
  },
  {
   "cell_type": "markdown",
   "metadata": {},
   "source": [
    "[Jump_to lesson 10 video](https://course.fast.ai/videos/?lesson=10&t=5899)"
   ]
  },
  {
   "cell_type": "markdown",
   "metadata": {
    "heading_collapsed": true
   },
   "source": [
    "## ConvNet"
   ]
  },
  {
   "cell_type": "markdown",
   "metadata": {
    "hidden": true
   },
   "source": [
    "Let's get the data and training interface from where we left in the last notebook."
   ]
  },
  {
   "cell_type": "code",
   "execution_count": 3,
   "metadata": {
    "hidden": true
   },
   "outputs": [
    {
     "data": {
      "application/javascript": [
       "\n",
       "            setTimeout(function() {\n",
       "                var nbb_cell_id = 3;\n",
       "                var nbb_unformatted_code = \"x_train, y_train, x_valid, y_valid = get_data()\\n\\nx_train, x_valid = normalize_to(x_train, x_valid)\\ntrain_ds, valid_ds = Dataset(x_train, y_train), Dataset(x_valid, y_valid)\\n\\nnh, bs = 50, 512\\nc = y_train.max().item() + 1\\nloss_func = F.cross_entropy\\n\\ndata = DataBunch(*get_dls(train_ds, valid_ds, bs), c)\";\n",
       "                var nbb_formatted_code = \"x_train, y_train, x_valid, y_valid = get_data()\\n\\nx_train, x_valid = normalize_to(x_train, x_valid)\\ntrain_ds, valid_ds = Dataset(x_train, y_train), Dataset(x_valid, y_valid)\\n\\nnh, bs = 50, 512\\nc = y_train.max().item() + 1\\nloss_func = F.cross_entropy\\n\\ndata = DataBunch(*get_dls(train_ds, valid_ds, bs), c)\";\n",
       "                var nbb_cells = Jupyter.notebook.get_cells();\n",
       "                for (var i = 0; i < nbb_cells.length; ++i) {\n",
       "                    if (nbb_cells[i].input_prompt_number == nbb_cell_id) {\n",
       "                        if (nbb_cells[i].get_text() == nbb_unformatted_code) {\n",
       "                             nbb_cells[i].set_text(nbb_formatted_code);\n",
       "                        }\n",
       "                        break;\n",
       "                    }\n",
       "                }\n",
       "            }, 500);\n",
       "            "
      ],
      "text/plain": [
       "<IPython.core.display.Javascript object>"
      ]
     },
     "metadata": {},
     "output_type": "display_data"
    }
   ],
   "source": [
    "x_train, y_train, x_valid, y_valid = get_data()\n",
    "\n",
    "x_train, x_valid = normalize_to(x_train, x_valid)\n",
    "train_ds, valid_ds = Dataset(x_train, y_train), Dataset(x_valid, y_valid)\n",
    "\n",
    "nh, bs = 50, 512\n",
    "c = y_train.max().item() + 1\n",
    "loss_func = F.cross_entropy\n",
    "\n",
    "data = DataBunch(*get_dls(train_ds, valid_ds, bs), c)"
   ]
  },
  {
   "cell_type": "code",
   "execution_count": 4,
   "metadata": {
    "hidden": true
   },
   "outputs": [
    {
     "data": {
      "application/javascript": [
       "\n",
       "            setTimeout(function() {\n",
       "                var nbb_cell_id = 4;\n",
       "                var nbb_unformatted_code = \"mnist_view = view_tfm(1, 28, 28)\\ncbfs = [\\n    Recorder,\\n    partial(AvgStatsCallback, accuracy),\\n    partial(BatchTransformXCallback, mnist_view)\\n]\";\n",
       "                var nbb_formatted_code = \"mnist_view = view_tfm(1, 28, 28)\\ncbfs = [\\n    Recorder,\\n    partial(AvgStatsCallback, accuracy),\\n    partial(BatchTransformXCallback, mnist_view),\\n]\";\n",
       "                var nbb_cells = Jupyter.notebook.get_cells();\n",
       "                for (var i = 0; i < nbb_cells.length; ++i) {\n",
       "                    if (nbb_cells[i].input_prompt_number == nbb_cell_id) {\n",
       "                        if (nbb_cells[i].get_text() == nbb_unformatted_code) {\n",
       "                             nbb_cells[i].set_text(nbb_formatted_code);\n",
       "                        }\n",
       "                        break;\n",
       "                    }\n",
       "                }\n",
       "            }, 500);\n",
       "            "
      ],
      "text/plain": [
       "<IPython.core.display.Javascript object>"
      ]
     },
     "metadata": {},
     "output_type": "display_data"
    }
   ],
   "source": [
    "mnist_view = view_tfm(1, 28, 28)\n",
    "cbfs = [\n",
    "    Recorder,\n",
    "    partial(AvgStatsCallback, accuracy),\n",
    "    partial(BatchTransformXCallback, mnist_view)\n",
    "]"
   ]
  },
  {
   "cell_type": "code",
   "execution_count": 5,
   "metadata": {
    "hidden": true
   },
   "outputs": [
    {
     "data": {
      "application/javascript": [
       "\n",
       "            setTimeout(function() {\n",
       "                var nbb_cell_id = 5;\n",
       "                var nbb_unformatted_code = \"nfs = [8, 16, 32, 64, 64]\";\n",
       "                var nbb_formatted_code = \"nfs = [8, 16, 32, 64, 64]\";\n",
       "                var nbb_cells = Jupyter.notebook.get_cells();\n",
       "                for (var i = 0; i < nbb_cells.length; ++i) {\n",
       "                    if (nbb_cells[i].input_prompt_number == nbb_cell_id) {\n",
       "                        if (nbb_cells[i].get_text() == nbb_unformatted_code) {\n",
       "                             nbb_cells[i].set_text(nbb_formatted_code);\n",
       "                        }\n",
       "                        break;\n",
       "                    }\n",
       "                }\n",
       "            }, 500);\n",
       "            "
      ],
      "text/plain": [
       "<IPython.core.display.Javascript object>"
      ]
     },
     "metadata": {},
     "output_type": "display_data"
    }
   ],
   "source": [
    "nfs = [8, 16, 32, 64, 64]"
   ]
  },
  {
   "cell_type": "code",
   "execution_count": 6,
   "metadata": {
    "hidden": true
   },
   "outputs": [
    {
     "data": {
      "application/javascript": [
       "\n",
       "            setTimeout(function() {\n",
       "                var nbb_cell_id = 6;\n",
       "                var nbb_unformatted_code = \"learn, run = get_learn_run(nfs, data, 0.4, conv_layer, cbs=cbfs)\";\n",
       "                var nbb_formatted_code = \"learn, run = get_learn_run(nfs, data, 0.4, conv_layer, cbs=cbfs)\";\n",
       "                var nbb_cells = Jupyter.notebook.get_cells();\n",
       "                for (var i = 0; i < nbb_cells.length; ++i) {\n",
       "                    if (nbb_cells[i].input_prompt_number == nbb_cell_id) {\n",
       "                        if (nbb_cells[i].get_text() == nbb_unformatted_code) {\n",
       "                             nbb_cells[i].set_text(nbb_formatted_code);\n",
       "                        }\n",
       "                        break;\n",
       "                    }\n",
       "                }\n",
       "            }, 500);\n",
       "            "
      ],
      "text/plain": [
       "<IPython.core.display.Javascript object>"
      ]
     },
     "metadata": {},
     "output_type": "display_data"
    }
   ],
   "source": [
    "learn, run = get_learn_run(nfs, data, 0.4, conv_layer, cbs=cbfs)"
   ]
  },
  {
   "cell_type": "code",
   "execution_count": 7,
   "metadata": {
    "hidden": true
   },
   "outputs": [
    {
     "name": "stdout",
     "output_type": "stream",
     "text": [
      "train: [1.52496328125, tensor(0.4912)]\n",
      "valid: [0.29743173828125, tensor(0.9101)]\n",
      "train: [0.23856525390625, tensor(0.9270)]\n",
      "valid: [0.134212939453125, tensor(0.9579)]\n",
      "train: [0.13307724609375, tensor(0.9591)]\n",
      "valid: [0.11205748291015626, tensor(0.9638)]\n",
      "CPU times: user 32 s, sys: 2.77 s, total: 34.8 s\n",
      "Wall time: 17.7 s\n"
     ]
    },
    {
     "data": {
      "application/javascript": [
       "\n",
       "            setTimeout(function() {\n",
       "                var nbb_cell_id = 7;\n",
       "                var nbb_unformatted_code = \"%time run.fit(3, learn)\";\n",
       "                var nbb_formatted_code = \"%time run.fit(3, learn)\";\n",
       "                var nbb_cells = Jupyter.notebook.get_cells();\n",
       "                for (var i = 0; i < nbb_cells.length; ++i) {\n",
       "                    if (nbb_cells[i].input_prompt_number == nbb_cell_id) {\n",
       "                        if (nbb_cells[i].get_text() == nbb_unformatted_code) {\n",
       "                             nbb_cells[i].set_text(nbb_formatted_code);\n",
       "                        }\n",
       "                        break;\n",
       "                    }\n",
       "                }\n",
       "            }, 500);\n",
       "            "
      ],
      "text/plain": [
       "<IPython.core.display.Javascript object>"
      ]
     },
     "metadata": {},
     "output_type": "display_data"
    }
   ],
   "source": [
    "%time run.fit(3, learn)"
   ]
  },
  {
   "cell_type": "markdown",
   "metadata": {
    "collapsed": "true",
    "heading_collapsed": true
   },
   "source": [
    "## Batchnorm"
   ]
  },
  {
   "cell_type": "markdown",
   "metadata": {
    "collapsed": "true",
    "heading_collapsed": true,
    "hidden": true
   },
   "source": [
    "### Custom"
   ]
  },
  {
   "cell_type": "markdown",
   "metadata": {
    "hidden": true
   },
   "source": [
    "Let's start by building our own `BatchNorm` layer from scratch. In the case of computer vision, the average and std are by channel. Therefore, it is as if we concatenate all images with their heights and width by channel. Therefore, the output would be channels x (batches * height * width)."
   ]
  },
  {
   "cell_type": "markdown",
   "metadata": {
    "hidden": true
   },
   "source": [
    "`self.register_buffer`:\n",
    "\n",
    "`self.register_buffer('vars',  torch.ones(1,nf,1,1))` is almost the same as `self.vars = torch.ones(1,nf,1,1))` but has the advantage that if we move everything to GPU, they will be moved to GPU too; otherwise, the won't and we will get an error when we try to do some calculations because you can't do calculations on stuff that are on CPU and GPU. It also allows us to save them when we save the model to disk because we need them at inference time."
   ]
  },
  {
   "cell_type": "code",
   "execution_count": 8,
   "metadata": {
    "hidden": true
   },
   "outputs": [
    {
     "data": {
      "application/javascript": [
       "\n",
       "            setTimeout(function() {\n",
       "                var nbb_cell_id = 8;\n",
       "                var nbb_unformatted_code = \"class BatchNorm(nn.Module):\\n    __constants__ = ['eps', 'mom']\\n\\n    def __init__(self, nf, mom=.1, eps=1e-5):\\n        super().__init__()\\n        # NB: pytorch bn mom is opposite of what you'd expect\\n        # This means the beta in exponential weighted average is\\n        # actually 1 - mom. Therefore, beta is 0.9 here.\\n        self.eps = eps\\n        self.mom = mom\\n        self.gamma = nn.Parameter(torch.ones(nf, 1, 1))\\n        self.beta = nn.Parameter(torch.zeros(nf, 1, 1))\\n        self.register_buffer('means', torch.ones(1, nf, 1, 1))\\n        self.register_buffer('vars', torch.ones(1, nf, 1, 1))\\n\\n    def update_stats(self, x):\\n        # Average across batches, height and width --> average across channels.\\n        mean = x.mean((0, 2, 3), keepdim=True)\\n        var = x.var((0, 2, 3), keepdim=True)\\n\\n        # means = (1 - mom) x means + mom x m; exponentially weighted average\\n        self.means.lerp_(mean, self.mom)\\n        self.vars.lerp_(var, self.mom)\\n        return mean, var\\n\\n    def forward(self, x):\\n        if self.training:\\n            mean, var = self.update_stats(x)\\n        else:\\n            mean, var = self.means, self.vars\\n        x = (x - mean) / (var + self.eps).sqrt()\\n        return self.gamma * x + self.beta\";\n",
       "                var nbb_formatted_code = \"class BatchNorm(nn.Module):\\n    __constants__ = [\\\"eps\\\", \\\"mom\\\"]\\n\\n    def __init__(self, nf, mom=0.1, eps=1e-5):\\n        super().__init__()\\n        # NB: pytorch bn mom is opposite of what you'd expect\\n        # This means the beta in exponential weighted average is\\n        # actually 1 - mom. Therefore, beta is 0.9 here.\\n        self.eps = eps\\n        self.mom = mom\\n        self.gamma = nn.Parameter(torch.ones(nf, 1, 1))\\n        self.beta = nn.Parameter(torch.zeros(nf, 1, 1))\\n        self.register_buffer(\\\"means\\\", torch.ones(1, nf, 1, 1))\\n        self.register_buffer(\\\"vars\\\", torch.ones(1, nf, 1, 1))\\n\\n    def update_stats(self, x):\\n        # Average across batches, height and width --> average across channels.\\n        mean = x.mean((0, 2, 3), keepdim=True)\\n        var = x.var((0, 2, 3), keepdim=True)\\n\\n        # means = (1 - mom) x means + mom x m; exponentially weighted average\\n        self.means.lerp_(mean, self.mom)\\n        self.vars.lerp_(var, self.mom)\\n        return mean, var\\n\\n    def forward(self, x):\\n        if self.training:\\n            mean, var = self.update_stats(x)\\n        else:\\n            mean, var = self.means, self.vars\\n        x = (x - mean) / (var + self.eps).sqrt()\\n        return self.gamma * x + self.beta\";\n",
       "                var nbb_cells = Jupyter.notebook.get_cells();\n",
       "                for (var i = 0; i < nbb_cells.length; ++i) {\n",
       "                    if (nbb_cells[i].input_prompt_number == nbb_cell_id) {\n",
       "                        if (nbb_cells[i].get_text() == nbb_unformatted_code) {\n",
       "                             nbb_cells[i].set_text(nbb_formatted_code);\n",
       "                        }\n",
       "                        break;\n",
       "                    }\n",
       "                }\n",
       "            }, 500);\n",
       "            "
      ],
      "text/plain": [
       "<IPython.core.display.Javascript object>"
      ]
     },
     "metadata": {},
     "output_type": "display_data"
    }
   ],
   "source": [
    "class BatchNorm(nn.Module):\n",
    "    __constants__ = ['eps', 'mom']\n",
    "\n",
    "    def __init__(self, nf, mom=.1, eps=1e-5):\n",
    "        super().__init__()\n",
    "        # NB: pytorch bn mom is opposite of what you'd expect\n",
    "        # This means the beta in exponential weighted average is\n",
    "        # actually 1 - mom. Therefore, beta is 0.9 here.\n",
    "        self.eps = eps\n",
    "        self.mom = mom\n",
    "        self.gamma = nn.Parameter(torch.ones(nf, 1, 1))\n",
    "        self.beta = nn.Parameter(torch.zeros(nf, 1, 1))\n",
    "        self.register_buffer('means', torch.ones(1, nf, 1, 1))\n",
    "        self.register_buffer('vars', torch.ones(1, nf, 1, 1))\n",
    "\n",
    "    def update_stats(self, x):\n",
    "        # Average across batches, height and width --> average across channels.\n",
    "        mean = x.mean((0, 2, 3), keepdim=True)\n",
    "        var = x.var((0, 2, 3), keepdim=True)\n",
    "\n",
    "        # means = (1 - mom) x means + mom x m; exponentially weighted average\n",
    "        self.means.lerp_(mean, self.mom)\n",
    "        self.vars.lerp_(var, self.mom)\n",
    "        return mean, var\n",
    "\n",
    "    def forward(self, x):\n",
    "        if self.training:\n",
    "            mean, var = self.update_stats(x)\n",
    "        else:\n",
    "            mean, var = self.means, self.vars\n",
    "        x = (x - mean) / (var + self.eps).sqrt()\n",
    "        return self.gamma * x + self.beta"
   ]
  },
  {
   "cell_type": "code",
   "execution_count": 9,
   "metadata": {
    "hidden": true
   },
   "outputs": [
    {
     "data": {
      "application/javascript": [
       "\n",
       "            setTimeout(function() {\n",
       "                var nbb_cell_id = 9;\n",
       "                var nbb_unformatted_code = \"def conv_layer(ni, nf, ks=3, stride=2, bn=True, **kwargs):\\n    # No bias needed if using bn\\n    layers = [\\n        nn.Conv2d(ni, nf, ks, padding=ks // 2, stride=stride, bias=not bn),\\n        GeneralRelu(**kwargs)\\n    ]\\n    if bn: \\n        layers.append(BatchNorm(nf))\\n    return nn.Sequential(*layers)\";\n",
       "                var nbb_formatted_code = \"def conv_layer(ni, nf, ks=3, stride=2, bn=True, **kwargs):\\n    # No bias needed if using bn\\n    layers = [\\n        nn.Conv2d(ni, nf, ks, padding=ks // 2, stride=stride, bias=not bn),\\n        GeneralRelu(**kwargs),\\n    ]\\n    if bn:\\n        layers.append(BatchNorm(nf))\\n    return nn.Sequential(*layers)\";\n",
       "                var nbb_cells = Jupyter.notebook.get_cells();\n",
       "                for (var i = 0; i < nbb_cells.length; ++i) {\n",
       "                    if (nbb_cells[i].input_prompt_number == nbb_cell_id) {\n",
       "                        if (nbb_cells[i].get_text() == nbb_unformatted_code) {\n",
       "                             nbb_cells[i].set_text(nbb_formatted_code);\n",
       "                        }\n",
       "                        break;\n",
       "                    }\n",
       "                }\n",
       "            }, 500);\n",
       "            "
      ],
      "text/plain": [
       "<IPython.core.display.Javascript object>"
      ]
     },
     "metadata": {},
     "output_type": "display_data"
    }
   ],
   "source": [
    "def conv_layer(ni, nf, ks=3, stride=2, bn=True, **kwargs):\n",
    "    # No bias needed if using bn\n",
    "    layers = [\n",
    "        nn.Conv2d(ni, nf, ks, padding=ks // 2, stride=stride, bias=not bn),\n",
    "        GeneralRelu(**kwargs)\n",
    "    ]\n",
    "    if bn: \n",
    "        layers.append(BatchNorm(nf))\n",
    "    return nn.Sequential(*layers)"
   ]
  },
  {
   "cell_type": "code",
   "execution_count": 10,
   "metadata": {
    "hidden": true
   },
   "outputs": [
    {
     "data": {
      "application/javascript": [
       "\n",
       "            setTimeout(function() {\n",
       "                var nbb_cell_id = 10;\n",
       "                var nbb_unformatted_code = \"#export\\ndef init_cnn_(m, f):\\n    if isinstance(m, nn.Conv2d):\\n        f(m.weight, a=0.1)\\n        if getattr(m, 'bias', None) is not None:\\n            m.bias.data.zero_()\\n    for l in m.children():\\n        init_cnn_(l, f)\\n\\n\\ndef init_cnn(m, uniform=False):\\n    f = init.kaiming_uniform_ if uniform else init.kaiming_normal_\\n    init_cnn_(m, f)\\n\\n\\ndef get_learn_run(nfs,\\n                  data,\\n                  lr,\\n                  layer,\\n                  cbs=None,\\n                  opt_func=None,\\n                  uniform=False,\\n                  **kwargs):\\n    model = get_cnn_model(data, nfs, layer, **kwargs)\\n    init_cnn(model, uniform=uniform)\\n    return get_runner(model, data, lr=lr, cbs=cbs, opt_func=opt_func)\";\n",
       "                var nbb_formatted_code = \"# export\\ndef init_cnn_(m, f):\\n    if isinstance(m, nn.Conv2d):\\n        f(m.weight, a=0.1)\\n        if getattr(m, \\\"bias\\\", None) is not None:\\n            m.bias.data.zero_()\\n    for l in m.children():\\n        init_cnn_(l, f)\\n\\n\\ndef init_cnn(m, uniform=False):\\n    f = init.kaiming_uniform_ if uniform else init.kaiming_normal_\\n    init_cnn_(m, f)\\n\\n\\ndef get_learn_run(\\n    nfs, data, lr, layer, cbs=None, opt_func=None, uniform=False, **kwargs\\n):\\n    model = get_cnn_model(data, nfs, layer, **kwargs)\\n    init_cnn(model, uniform=uniform)\\n    return get_runner(model, data, lr=lr, cbs=cbs, opt_func=opt_func)\";\n",
       "                var nbb_cells = Jupyter.notebook.get_cells();\n",
       "                for (var i = 0; i < nbb_cells.length; ++i) {\n",
       "                    if (nbb_cells[i].input_prompt_number == nbb_cell_id) {\n",
       "                        if (nbb_cells[i].get_text() == nbb_unformatted_code) {\n",
       "                             nbb_cells[i].set_text(nbb_formatted_code);\n",
       "                        }\n",
       "                        break;\n",
       "                    }\n",
       "                }\n",
       "            }, 500);\n",
       "            "
      ],
      "text/plain": [
       "<IPython.core.display.Javascript object>"
      ]
     },
     "metadata": {},
     "output_type": "display_data"
    }
   ],
   "source": [
    "#export\n",
    "def init_cnn_(m, f):\n",
    "    if isinstance(m, nn.Conv2d):\n",
    "        f(m.weight, a=0.1)\n",
    "        if getattr(m, 'bias', None) is not None:\n",
    "            m.bias.data.zero_()\n",
    "    for l in m.children():\n",
    "        init_cnn_(l, f)\n",
    "\n",
    "\n",
    "def init_cnn(m, uniform=False):\n",
    "    f = init.kaiming_uniform_ if uniform else init.kaiming_normal_\n",
    "    init_cnn_(m, f)\n",
    "\n",
    "\n",
    "def get_learn_run(nfs,\n",
    "                  data,\n",
    "                  lr,\n",
    "                  layer,\n",
    "                  cbs=None,\n",
    "                  opt_func=None,\n",
    "                  uniform=False,\n",
    "                  **kwargs):\n",
    "    model = get_cnn_model(data, nfs, layer, **kwargs)\n",
    "    init_cnn(model, uniform=uniform)\n",
    "    return get_runner(model, data, lr=lr, cbs=cbs, opt_func=opt_func)"
   ]
  },
  {
   "cell_type": "markdown",
   "metadata": {
    "hidden": true
   },
   "source": [
    "We can then use it in training and see how it helps keep the activations means to 0 and the std to 1."
   ]
  },
  {
   "cell_type": "code",
   "execution_count": 11,
   "metadata": {
    "hidden": true
   },
   "outputs": [
    {
     "data": {
      "text/plain": [
       "Sequential(\n",
       "  (0): Sequential(\n",
       "    (0): Conv2d(1, 8, kernel_size=(5, 5), stride=(2, 2), padding=(2, 2), bias=False)\n",
       "    (1): GeneralRelu()\n",
       "    (2): BatchNorm()\n",
       "  )\n",
       "  (1): Sequential(\n",
       "    (0): Conv2d(8, 16, kernel_size=(3, 3), stride=(2, 2), padding=(1, 1), bias=False)\n",
       "    (1): GeneralRelu()\n",
       "    (2): BatchNorm()\n",
       "  )\n",
       "  (2): Sequential(\n",
       "    (0): Conv2d(16, 32, kernel_size=(3, 3), stride=(2, 2), padding=(1, 1), bias=False)\n",
       "    (1): GeneralRelu()\n",
       "    (2): BatchNorm()\n",
       "  )\n",
       "  (3): Sequential(\n",
       "    (0): Conv2d(32, 64, kernel_size=(3, 3), stride=(2, 2), padding=(1, 1), bias=False)\n",
       "    (1): GeneralRelu()\n",
       "    (2): BatchNorm()\n",
       "  )\n",
       "  (4): Sequential(\n",
       "    (0): Conv2d(64, 64, kernel_size=(3, 3), stride=(2, 2), padding=(1, 1), bias=False)\n",
       "    (1): GeneralRelu()\n",
       "    (2): BatchNorm()\n",
       "  )\n",
       "  (5): AdaptiveAvgPool2d(output_size=1)\n",
       "  (6): Lambda()\n",
       "  (7): Linear(in_features=64, out_features=10, bias=True)\n",
       ")"
      ]
     },
     "execution_count": 11,
     "metadata": {},
     "output_type": "execute_result"
    },
    {
     "data": {
      "application/javascript": [
       "\n",
       "            setTimeout(function() {\n",
       "                var nbb_cell_id = 11;\n",
       "                var nbb_unformatted_code = \"learn, run = get_learn_run(nfs, data, 0.9, conv_layer, cbs=cbfs)\\nlearn.model\";\n",
       "                var nbb_formatted_code = \"learn, run = get_learn_run(nfs, data, 0.9, conv_layer, cbs=cbfs)\\nlearn.model\";\n",
       "                var nbb_cells = Jupyter.notebook.get_cells();\n",
       "                for (var i = 0; i < nbb_cells.length; ++i) {\n",
       "                    if (nbb_cells[i].input_prompt_number == nbb_cell_id) {\n",
       "                        if (nbb_cells[i].get_text() == nbb_unformatted_code) {\n",
       "                             nbb_cells[i].set_text(nbb_formatted_code);\n",
       "                        }\n",
       "                        break;\n",
       "                    }\n",
       "                }\n",
       "            }, 500);\n",
       "            "
      ],
      "text/plain": [
       "<IPython.core.display.Javascript object>"
      ]
     },
     "metadata": {},
     "output_type": "display_data"
    }
   ],
   "source": [
    "learn, run = get_learn_run(nfs, data, 0.9, conv_layer, cbs=cbfs)\n",
    "learn.model"
   ]
  },
  {
   "cell_type": "code",
   "execution_count": 12,
   "metadata": {
    "hidden": true
   },
   "outputs": [
    {
     "name": "stdout",
     "output_type": "stream",
     "text": [
      "train: [0.22611978515625, tensor(0.9297)]\n",
      "valid: [0.0941164794921875, tensor(0.9710)]\n"
     ]
    },
    {
     "data": {
      "image/png": "[encoded data removed]",
      "text/plain": [
       "<Figure size 720x288 with 2 Axes>"
      ]
     },
     "metadata": {
      "needs_background": "light"
     },
     "output_type": "display_data"
    },
    {
     "data": {
      "image/png": "[encoded data removed]",
      "text/plain": [
       "<Figure size 720x288 with 2 Axes>"
      ]
     },
     "metadata": {
      "needs_background": "light"
     },
     "output_type": "display_data"
    },
    {
     "data": {
      "application/javascript": [
       "\n",
       "            setTimeout(function() {\n",
       "                var nbb_cell_id = 12;\n",
       "                var nbb_unformatted_code = \"with Hooks(learn.model, compute_stats, True) as hooks:\\n    run.fit(1, learn)\\n    fig, (ax0, ax1) = plt.subplots(1, 2, figsize=(10, 4))\\n    for h in hooks[:-1]:\\n        ms, ss = h.stats\\n        ax0.plot(ms[:10])\\n        ax1.plot(ss[:10])\\n        h.remove()\\n    plt.legend(range(6))\\n\\n    fig, (ax0, ax1) = plt.subplots(1, 2, figsize=(10, 4))\\n    for h in hooks[:-1]:\\n        ms, ss = h.stats\\n        ax0.plot(ms)\\n        ax1.plot(ss)\";\n",
       "                var nbb_formatted_code = \"with Hooks(learn.model, compute_stats, True) as hooks:\\n    run.fit(1, learn)\\n    fig, (ax0, ax1) = plt.subplots(1, 2, figsize=(10, 4))\\n    for h in hooks[:-1]:\\n        ms, ss = h.stats\\n        ax0.plot(ms[:10])\\n        ax1.plot(ss[:10])\\n        h.remove()\\n    plt.legend(range(6))\\n\\n    fig, (ax0, ax1) = plt.subplots(1, 2, figsize=(10, 4))\\n    for h in hooks[:-1]:\\n        ms, ss = h.stats\\n        ax0.plot(ms)\\n        ax1.plot(ss)\";\n",
       "                var nbb_cells = Jupyter.notebook.get_cells();\n",
       "                for (var i = 0; i < nbb_cells.length; ++i) {\n",
       "                    if (nbb_cells[i].input_prompt_number == nbb_cell_id) {\n",
       "                        if (nbb_cells[i].get_text() == nbb_unformatted_code) {\n",
       "                             nbb_cells[i].set_text(nbb_formatted_code);\n",
       "                        }\n",
       "                        break;\n",
       "                    }\n",
       "                }\n",
       "            }, 500);\n",
       "            "
      ],
      "text/plain": [
       "<IPython.core.display.Javascript object>"
      ]
     },
     "metadata": {},
     "output_type": "display_data"
    }
   ],
   "source": [
    "with Hooks(learn.model, compute_stats, True) as hooks:\n",
    "    run.fit(1, learn)\n",
    "    fig, (ax0, ax1) = plt.subplots(1, 2, figsize=(10, 4))\n",
    "    for h in hooks[:-1]:\n",
    "        ms, ss = h.stats\n",
    "        ax0.plot(ms[:10])\n",
    "        ax1.plot(ss[:10])\n",
    "        h.remove()\n",
    "    plt.legend(range(6))\n",
    "\n",
    "    fig, (ax0, ax1) = plt.subplots(1, 2, figsize=(10, 4))\n",
    "    for h in hooks[:-1]:\n",
    "        ms, ss = h.stats\n",
    "        ax0.plot(ms)\n",
    "        ax1.plot(ss)"
   ]
  },
  {
   "cell_type": "code",
   "execution_count": 13,
   "metadata": {
    "hidden": true
   },
   "outputs": [
    {
     "data": {
      "application/javascript": [
       "\n",
       "            setTimeout(function() {\n",
       "                var nbb_cell_id = 13;\n",
       "                var nbb_unformatted_code = \"learn, run = get_learn_run(nfs, data, 1.0, conv_layer, cbs=cbfs)\";\n",
       "                var nbb_formatted_code = \"learn, run = get_learn_run(nfs, data, 1.0, conv_layer, cbs=cbfs)\";\n",
       "                var nbb_cells = Jupyter.notebook.get_cells();\n",
       "                for (var i = 0; i < nbb_cells.length; ++i) {\n",
       "                    if (nbb_cells[i].input_prompt_number == nbb_cell_id) {\n",
       "                        if (nbb_cells[i].get_text() == nbb_unformatted_code) {\n",
       "                             nbb_cells[i].set_text(nbb_formatted_code);\n",
       "                        }\n",
       "                        break;\n",
       "                    }\n",
       "                }\n",
       "            }, 500);\n",
       "            "
      ],
      "text/plain": [
       "<IPython.core.display.Javascript object>"
      ]
     },
     "metadata": {},
     "output_type": "display_data"
    }
   ],
   "source": [
    "learn, run = get_learn_run(nfs, data, 1.0, conv_layer, cbs=cbfs)"
   ]
  },
  {
   "cell_type": "code",
   "execution_count": 14,
   "metadata": {
    "hidden": true
   },
   "outputs": [
    {
     "name": "stdout",
     "output_type": "stream",
     "text": [
      "train: [0.212331796875, tensor(0.9339)]\n",
      "valid: [0.08413507690429688, tensor(0.9751)]\n",
      "train: [0.0620726171875, tensor(0.9807)]\n",
      "valid: [0.06035379638671875, tensor(0.9833)]\n",
      "train: [0.04231357421875, tensor(0.9870)]\n",
      "valid: [0.06713604736328126, tensor(0.9784)]\n",
      "CPU times: user 57.5 s, sys: 4.73 s, total: 1min 2s\n",
      "Wall time: 31.3 s\n"
     ]
    },
    {
     "data": {
      "application/javascript": [
       "\n",
       "            setTimeout(function() {\n",
       "                var nbb_cell_id = 14;\n",
       "                var nbb_unformatted_code = \"%time run.fit(3, learn)\";\n",
       "                var nbb_formatted_code = \"%time run.fit(3, learn)\";\n",
       "                var nbb_cells = Jupyter.notebook.get_cells();\n",
       "                for (var i = 0; i < nbb_cells.length; ++i) {\n",
       "                    if (nbb_cells[i].input_prompt_number == nbb_cell_id) {\n",
       "                        if (nbb_cells[i].get_text() == nbb_unformatted_code) {\n",
       "                             nbb_cells[i].set_text(nbb_formatted_code);\n",
       "                        }\n",
       "                        break;\n",
       "                    }\n",
       "                }\n",
       "            }, 500);\n",
       "            "
      ],
      "text/plain": [
       "<IPython.core.display.Javascript object>"
      ]
     },
     "metadata": {},
     "output_type": "display_data"
    }
   ],
   "source": [
    "%time run.fit(3, learn)"
   ]
  },
  {
   "cell_type": "markdown",
   "metadata": {
    "collapsed": "true",
    "heading_collapsed": true,
    "hidden": true
   },
   "source": [
    "### Builtin batchnorm"
   ]
  },
  {
   "cell_type": "code",
   "execution_count": 15,
   "metadata": {
    "hidden": true
   },
   "outputs": [
    {
     "data": {
      "application/javascript": [
       "\n",
       "            setTimeout(function() {\n",
       "                var nbb_cell_id = 15;\n",
       "                var nbb_unformatted_code = \"#export\\ndef conv_layer(ni, nf, ks=3, stride=2, bn=True, **kwargs):\\n    layers = [\\n        nn.Conv2d(ni, nf, ks, padding=ks // 2, stride=stride, bias=not bn),\\n        GeneralRelu(**kwargs)\\n    ]\\n    if bn: layers.append(nn.BatchNorm2d(nf, eps=1e-5, momentum=0.1))\\n    return nn.Sequential(*layers)\";\n",
       "                var nbb_formatted_code = \"# export\\ndef conv_layer(ni, nf, ks=3, stride=2, bn=True, **kwargs):\\n    layers = [\\n        nn.Conv2d(ni, nf, ks, padding=ks // 2, stride=stride, bias=not bn),\\n        GeneralRelu(**kwargs),\\n    ]\\n    if bn:\\n        layers.append(nn.BatchNorm2d(nf, eps=1e-5, momentum=0.1))\\n    return nn.Sequential(*layers)\";\n",
       "                var nbb_cells = Jupyter.notebook.get_cells();\n",
       "                for (var i = 0; i < nbb_cells.length; ++i) {\n",
       "                    if (nbb_cells[i].input_prompt_number == nbb_cell_id) {\n",
       "                        if (nbb_cells[i].get_text() == nbb_unformatted_code) {\n",
       "                             nbb_cells[i].set_text(nbb_formatted_code);\n",
       "                        }\n",
       "                        break;\n",
       "                    }\n",
       "                }\n",
       "            }, 500);\n",
       "            "
      ],
      "text/plain": [
       "<IPython.core.display.Javascript object>"
      ]
     },
     "metadata": {},
     "output_type": "display_data"
    }
   ],
   "source": [
    "#export\n",
    "def conv_layer(ni, nf, ks=3, stride=2, bn=True, **kwargs):\n",
    "    layers = [\n",
    "        nn.Conv2d(ni, nf, ks, padding=ks // 2, stride=stride, bias=not bn),\n",
    "        GeneralRelu(**kwargs)\n",
    "    ]\n",
    "    if bn: layers.append(nn.BatchNorm2d(nf, eps=1e-5, momentum=0.1))\n",
    "    return nn.Sequential(*layers)"
   ]
  },
  {
   "cell_type": "code",
   "execution_count": 16,
   "metadata": {
    "hidden": true
   },
   "outputs": [
    {
     "data": {
      "application/javascript": [
       "\n",
       "            setTimeout(function() {\n",
       "                var nbb_cell_id = 16;\n",
       "                var nbb_unformatted_code = \"learn, run = get_learn_run(nfs, data, 1., conv_layer, cbs=cbfs)\";\n",
       "                var nbb_formatted_code = \"learn, run = get_learn_run(nfs, data, 1.0, conv_layer, cbs=cbfs)\";\n",
       "                var nbb_cells = Jupyter.notebook.get_cells();\n",
       "                for (var i = 0; i < nbb_cells.length; ++i) {\n",
       "                    if (nbb_cells[i].input_prompt_number == nbb_cell_id) {\n",
       "                        if (nbb_cells[i].get_text() == nbb_unformatted_code) {\n",
       "                             nbb_cells[i].set_text(nbb_formatted_code);\n",
       "                        }\n",
       "                        break;\n",
       "                    }\n",
       "                }\n",
       "            }, 500);\n",
       "            "
      ],
      "text/plain": [
       "<IPython.core.display.Javascript object>"
      ]
     },
     "metadata": {},
     "output_type": "display_data"
    }
   ],
   "source": [
    "learn, run = get_learn_run(nfs, data, 1., conv_layer, cbs=cbfs)"
   ]
  },
  {
   "cell_type": "code",
   "execution_count": 17,
   "metadata": {
    "hidden": true
   },
   "outputs": [
    {
     "name": "stdout",
     "output_type": "stream",
     "text": [
      "train: [0.213002734375, tensor(0.9338)]\n",
      "valid: [0.09222581787109375, tensor(0.9714)]\n",
      "train: [0.060083720703125, tensor(0.9812)]\n",
      "valid: [0.06774615478515625, tensor(0.9796)]\n",
      "train: [0.04006894775390625, tensor(0.9873)]\n",
      "valid: [0.06115048828125, tensor(0.9799)]\n",
      "CPU times: user 47 s, sys: 2.93 s, total: 49.9 s\n",
      "Wall time: 25.1 s\n"
     ]
    },
    {
     "data": {
      "application/javascript": [
       "\n",
       "            setTimeout(function() {\n",
       "                var nbb_cell_id = 17;\n",
       "                var nbb_unformatted_code = \"%time run.fit(3, learn)\";\n",
       "                var nbb_formatted_code = \"%time run.fit(3, learn)\";\n",
       "                var nbb_cells = Jupyter.notebook.get_cells();\n",
       "                for (var i = 0; i < nbb_cells.length; ++i) {\n",
       "                    if (nbb_cells[i].input_prompt_number == nbb_cell_id) {\n",
       "                        if (nbb_cells[i].get_text() == nbb_unformatted_code) {\n",
       "                             nbb_cells[i].set_text(nbb_formatted_code);\n",
       "                        }\n",
       "                        break;\n",
       "                    }\n",
       "                }\n",
       "            }, 500);\n",
       "            "
      ],
      "text/plain": [
       "<IPython.core.display.Javascript object>"
      ]
     },
     "metadata": {},
     "output_type": "display_data"
    }
   ],
   "source": [
    "%time run.fit(3, learn)"
   ]
  },
  {
   "cell_type": "markdown",
   "metadata": {
    "collapsed": "true",
    "heading_collapsed": true,
    "hidden": true
   },
   "source": [
    "### With scheduler"
   ]
  },
  {
   "cell_type": "markdown",
   "metadata": {
    "hidden": true
   },
   "source": [
    "Now let's add the usual warm-up/annealing."
   ]
  },
  {
   "cell_type": "code",
   "execution_count": 18,
   "metadata": {
    "hidden": true
   },
   "outputs": [
    {
     "data": {
      "application/javascript": [
       "\n",
       "            setTimeout(function() {\n",
       "                var nbb_cell_id = 18;\n",
       "                var nbb_unformatted_code = \"sched = combine_scheds([0.3, 0.7], [lin_sched(0.6, 2.), lin_sched(2., 0.1)])\";\n",
       "                var nbb_formatted_code = \"sched = combine_scheds([0.3, 0.7], [lin_sched(0.6, 2.0), lin_sched(2.0, 0.1)])\";\n",
       "                var nbb_cells = Jupyter.notebook.get_cells();\n",
       "                for (var i = 0; i < nbb_cells.length; ++i) {\n",
       "                    if (nbb_cells[i].input_prompt_number == nbb_cell_id) {\n",
       "                        if (nbb_cells[i].get_text() == nbb_unformatted_code) {\n",
       "                             nbb_cells[i].set_text(nbb_formatted_code);\n",
       "                        }\n",
       "                        break;\n",
       "                    }\n",
       "                }\n",
       "            }, 500);\n",
       "            "
      ],
      "text/plain": [
       "<IPython.core.display.Javascript object>"
      ]
     },
     "metadata": {},
     "output_type": "display_data"
    }
   ],
   "source": [
    "sched = combine_scheds([0.3, 0.7], [lin_sched(0.6, 2.), lin_sched(2., 0.1)])"
   ]
  },
  {
   "cell_type": "code",
   "execution_count": 19,
   "metadata": {
    "hidden": true
   },
   "outputs": [
    {
     "data": {
      "application/javascript": [
       "\n",
       "            setTimeout(function() {\n",
       "                var nbb_cell_id = 19;\n",
       "                var nbb_unformatted_code = \"learn, run = get_learn_run(nfs,\\n                           data,\\n                           0.9,\\n                           conv_layer,\\n                           cbs=cbfs + [partial(ParamScheduler, 'lr', sched)])\";\n",
       "                var nbb_formatted_code = \"learn, run = get_learn_run(\\n    nfs, data, 0.9, conv_layer, cbs=cbfs + [partial(ParamScheduler, \\\"lr\\\", sched)]\\n)\";\n",
       "                var nbb_cells = Jupyter.notebook.get_cells();\n",
       "                for (var i = 0; i < nbb_cells.length; ++i) {\n",
       "                    if (nbb_cells[i].input_prompt_number == nbb_cell_id) {\n",
       "                        if (nbb_cells[i].get_text() == nbb_unformatted_code) {\n",
       "                             nbb_cells[i].set_text(nbb_formatted_code);\n",
       "                        }\n",
       "                        break;\n",
       "                    }\n",
       "                }\n",
       "            }, 500);\n",
       "            "
      ],
      "text/plain": [
       "<IPython.core.display.Javascript object>"
      ]
     },
     "metadata": {},
     "output_type": "display_data"
    }
   ],
   "source": [
    "learn, run = get_learn_run(nfs,\n",
    "                           data,\n",
    "                           0.9,\n",
    "                           conv_layer,\n",
    "                           cbs=cbfs + [partial(ParamScheduler, 'lr', sched)])"
   ]
  },
  {
   "cell_type": "code",
   "execution_count": 20,
   "metadata": {
    "hidden": true
   },
   "outputs": [
    {
     "name": "stderr",
     "output_type": "stream",
     "text": [
      "/Users/imad/Documents/courses/fastai-courses/dl2/notebooks/exp/nb_05.py:81: UserWarning: This overload of nonzero is deprecated:\n",
      "\tnonzero()\n",
      "Consider using one of the following signatures instead:\n",
      "\tnonzero(*, bool as_tuple) (Triggered internally at  /Users/distiller/project/conda/conda-bld/pytorch_1595629430416/work/torch/csrc/utils/python_arg_parser.cpp:766.)\n",
      "  idx = (pos >= pcts).nonzero().max()\n"
     ]
    },
    {
     "name": "stdout",
     "output_type": "stream",
     "text": [
      "train: [0.26774140625, tensor(0.9175)]\n",
      "valid: [0.10132388916015625, tensor(0.9699)]\n",
      "train: [0.069213349609375, tensor(0.9783)]\n",
      "valid: [0.056937982177734374, tensor(0.9831)]\n",
      "train: [0.03427287109375, tensor(0.9895)]\n",
      "valid: [0.049336358642578126, tensor(0.9853)]\n"
     ]
    },
    {
     "data": {
      "application/javascript": [
       "\n",
       "            setTimeout(function() {\n",
       "                var nbb_cell_id = 20;\n",
       "                var nbb_unformatted_code = \"run.fit(3, learn)\";\n",
       "                var nbb_formatted_code = \"run.fit(3, learn)\";\n",
       "                var nbb_cells = Jupyter.notebook.get_cells();\n",
       "                for (var i = 0; i < nbb_cells.length; ++i) {\n",
       "                    if (nbb_cells[i].input_prompt_number == nbb_cell_id) {\n",
       "                        if (nbb_cells[i].get_text() == nbb_unformatted_code) {\n",
       "                             nbb_cells[i].set_text(nbb_formatted_code);\n",
       "                        }\n",
       "                        break;\n",
       "                    }\n",
       "                }\n",
       "            }, 500);\n",
       "            "
      ],
      "text/plain": [
       "<IPython.core.display.Javascript object>"
      ]
     },
     "metadata": {},
     "output_type": "display_data"
    }
   ],
   "source": [
    "run.fit(3, learn)"
   ]
  },
  {
   "cell_type": "markdown",
   "metadata": {
    "collapsed": "true"
   },
   "source": [
    "## More norms"
   ]
  },
  {
   "cell_type": "markdown",
   "metadata": {
    "heading_collapsed": true
   },
   "source": [
    "### Layer norm"
   ]
  },
  {
   "cell_type": "markdown",
   "metadata": {
    "hidden": true
   },
   "source": [
    "From [the paper](https://arxiv.org/abs/1607.06450): \"*batch normalization cannot be applied to online learning tasks or to extremely large distributed models where the minibatches have to be small*\".\n",
    "\n",
    "The main challenges to **BatchNorm** are:\n",
    "- How do we handle very small batches because we would have infinite variance or unstable training.\n",
    "- How do we handle RNNs.\n",
    "\n",
    "General equation for a norm layer with learnable affine:\n",
    "\n",
    "$$y = \\frac{x - \\mathrm{E}[x]}{ \\sqrt{\\mathrm{Var}[x] + \\epsilon}} * \\gamma + \\beta$$\n",
    "\n",
    "The difference with BatchNorm is\n",
    "1. we don't keep a moving average\n",
    "2. we don't average over the batches dimension but over the hidden dimension, so it's independent of the batch size"
   ]
  },
  {
   "cell_type": "code",
   "execution_count": 21,
   "metadata": {
    "hidden": true
   },
   "outputs": [
    {
     "data": {
      "application/javascript": [
       "\n",
       "            setTimeout(function() {\n",
       "                var nbb_cell_id = 21;\n",
       "                var nbb_unformatted_code = \"class LayerNorm(nn.Module):\\n    __constants__ = ['eps']\\n\\n    def __init__(self, eps=1e-5):\\n        super().__init__()\\n        self.eps = eps\\n        self.gamma = nn.Parameter(tensor(1.))\\n        self.beta = nn.Parameter(tensor(0.))\\n\\n    def forward(self, x):\\n        mean = x.mean((1, 2, 3), keepdim=True)\\n        var = x.var((1, 2, 3), keepdim=True)\\n        x = (x - mean) / ((var + self.eps).sqrt())\\n        return x * self.gamma + self.beta\";\n",
       "                var nbb_formatted_code = \"class LayerNorm(nn.Module):\\n    __constants__ = [\\\"eps\\\"]\\n\\n    def __init__(self, eps=1e-5):\\n        super().__init__()\\n        self.eps = eps\\n        self.gamma = nn.Parameter(tensor(1.0))\\n        self.beta = nn.Parameter(tensor(0.0))\\n\\n    def forward(self, x):\\n        mean = x.mean((1, 2, 3), keepdim=True)\\n        var = x.var((1, 2, 3), keepdim=True)\\n        x = (x - mean) / ((var + self.eps).sqrt())\\n        return x * self.gamma + self.beta\";\n",
       "                var nbb_cells = Jupyter.notebook.get_cells();\n",
       "                for (var i = 0; i < nbb_cells.length; ++i) {\n",
       "                    if (nbb_cells[i].input_prompt_number == nbb_cell_id) {\n",
       "                        if (nbb_cells[i].get_text() == nbb_unformatted_code) {\n",
       "                             nbb_cells[i].set_text(nbb_formatted_code);\n",
       "                        }\n",
       "                        break;\n",
       "                    }\n",
       "                }\n",
       "            }, 500);\n",
       "            "
      ],
      "text/plain": [
       "<IPython.core.display.Javascript object>"
      ]
     },
     "metadata": {},
     "output_type": "display_data"
    }
   ],
   "source": [
    "class LayerNorm(nn.Module):\n",
    "    __constants__ = ['eps']\n",
    "\n",
    "    def __init__(self, eps=1e-5):\n",
    "        super().__init__()\n",
    "        self.eps = eps\n",
    "        self.gamma = nn.Parameter(tensor(1.))\n",
    "        self.beta = nn.Parameter(tensor(0.))\n",
    "\n",
    "    def forward(self, x):\n",
    "        mean = x.mean((1, 2, 3), keepdim=True)\n",
    "        var = x.var((1, 2, 3), keepdim=True)\n",
    "        x = (x - mean) / ((var + self.eps).sqrt())\n",
    "        return x * self.gamma + self.beta"
   ]
  },
  {
   "cell_type": "code",
   "execution_count": 22,
   "metadata": {
    "hidden": true
   },
   "outputs": [
    {
     "data": {
      "application/javascript": [
       "\n",
       "            setTimeout(function() {\n",
       "                var nbb_cell_id = 22;\n",
       "                var nbb_unformatted_code = \"def conv_ln(ni, nf, ks=3, stride=2, bn=True, **kwargs):\\n    layers = [\\n        nn.Conv2d(ni, nf, ks, padding=ks // 2, stride=stride, bias=True),\\n        GeneralRelu(**kwargs)\\n    ]\\n    if bn: layers.append(LayerNorm())\\n    return nn.Sequential(*layers)\";\n",
       "                var nbb_formatted_code = \"def conv_ln(ni, nf, ks=3, stride=2, bn=True, **kwargs):\\n    layers = [\\n        nn.Conv2d(ni, nf, ks, padding=ks // 2, stride=stride, bias=True),\\n        GeneralRelu(**kwargs),\\n    ]\\n    if bn:\\n        layers.append(LayerNorm())\\n    return nn.Sequential(*layers)\";\n",
       "                var nbb_cells = Jupyter.notebook.get_cells();\n",
       "                for (var i = 0; i < nbb_cells.length; ++i) {\n",
       "                    if (nbb_cells[i].input_prompt_number == nbb_cell_id) {\n",
       "                        if (nbb_cells[i].get_text() == nbb_unformatted_code) {\n",
       "                             nbb_cells[i].set_text(nbb_formatted_code);\n",
       "                        }\n",
       "                        break;\n",
       "                    }\n",
       "                }\n",
       "            }, 500);\n",
       "            "
      ],
      "text/plain": [
       "<IPython.core.display.Javascript object>"
      ]
     },
     "metadata": {},
     "output_type": "display_data"
    }
   ],
   "source": [
    "def conv_ln(ni, nf, ks=3, stride=2, bn=True, **kwargs):\n",
    "    layers = [\n",
    "        nn.Conv2d(ni, nf, ks, padding=ks // 2, stride=stride, bias=True),\n",
    "        GeneralRelu(**kwargs)\n",
    "    ]\n",
    "    if bn: layers.append(LayerNorm())\n",
    "    return nn.Sequential(*layers)"
   ]
  },
  {
   "cell_type": "code",
   "execution_count": 23,
   "metadata": {
    "hidden": true
   },
   "outputs": [
    {
     "data": {
      "application/javascript": [
       "\n",
       "            setTimeout(function() {\n",
       "                var nbb_cell_id = 23;\n",
       "                var nbb_unformatted_code = \"learn, run = get_learn_run(nfs, data, 0.8, conv_ln, cbs=cbfs)\";\n",
       "                var nbb_formatted_code = \"learn, run = get_learn_run(nfs, data, 0.8, conv_ln, cbs=cbfs)\";\n",
       "                var nbb_cells = Jupyter.notebook.get_cells();\n",
       "                for (var i = 0; i < nbb_cells.length; ++i) {\n",
       "                    if (nbb_cells[i].input_prompt_number == nbb_cell_id) {\n",
       "                        if (nbb_cells[i].get_text() == nbb_unformatted_code) {\n",
       "                             nbb_cells[i].set_text(nbb_formatted_code);\n",
       "                        }\n",
       "                        break;\n",
       "                    }\n",
       "                }\n",
       "            }, 500);\n",
       "            "
      ],
      "text/plain": [
       "<IPython.core.display.Javascript object>"
      ]
     },
     "metadata": {},
     "output_type": "display_data"
    }
   ],
   "source": [
    "learn, run = get_learn_run(nfs, data, 0.8, conv_ln, cbs=cbfs)"
   ]
  },
  {
   "cell_type": "code",
   "execution_count": 24,
   "metadata": {
    "hidden": true
   },
   "outputs": [
    {
     "name": "stdout",
     "output_type": "stream",
     "text": [
      "train: [0.4233333984375, tensor(0.8652)]\n",
      "valid: [0.1118630859375, tensor(0.9647)]\n",
      "train: [0.085477177734375, tensor(0.9743)]\n",
      "valid: [0.08900013427734375, tensor(0.9751)]\n",
      "train: [0.0546854052734375, tensor(0.9825)]\n",
      "valid: [0.07122665405273437, tensor(0.9788)]\n",
      "CPU times: user 54.1 s, sys: 4.75 s, total: 58.8 s\n",
      "Wall time: 29.6 s\n"
     ]
    },
    {
     "data": {
      "application/javascript": [
       "\n",
       "            setTimeout(function() {\n",
       "                var nbb_cell_id = 24;\n",
       "                var nbb_unformatted_code = \"%time run.fit(3, learn)\";\n",
       "                var nbb_formatted_code = \"%time run.fit(3, learn)\";\n",
       "                var nbb_cells = Jupyter.notebook.get_cells();\n",
       "                for (var i = 0; i < nbb_cells.length; ++i) {\n",
       "                    if (nbb_cells[i].input_prompt_number == nbb_cell_id) {\n",
       "                        if (nbb_cells[i].get_text() == nbb_unformatted_code) {\n",
       "                             nbb_cells[i].set_text(nbb_formatted_code);\n",
       "                        }\n",
       "                        break;\n",
       "                    }\n",
       "                }\n",
       "            }, 500);\n",
       "            "
      ],
      "text/plain": [
       "<IPython.core.display.Javascript object>"
      ]
     },
     "metadata": {},
     "output_type": "display_data"
    }
   ],
   "source": [
    "%time run.fit(3, learn)"
   ]
  },
  {
   "cell_type": "markdown",
   "metadata": {
    "hidden": true
   },
   "source": [
    "*Thought experiment*: can this distinguish foggy days from sunny days (assuming you're using it before the first conv)?\n",
    "\n",
    "It would be hard to distinguish between them because it forces the means and variances to be the same after normalizing. It throws away the difference in activations and if at inference time there is a difference in distribution that we care about, it would throw that away as well."
   ]
  },
  {
   "cell_type": "markdown",
   "metadata": {
    "heading_collapsed": true
   },
   "source": [
    "### Instance norm"
   ]
  },
  {
   "cell_type": "markdown",
   "metadata": {
    "hidden": true
   },
   "source": [
    "From [the paper](https://arxiv.org/abs/1607.08022): "
   ]
  },
  {
   "cell_type": "markdown",
   "metadata": {
    "hidden": true
   },
   "source": [
    "The key difference between **contrast** and batch normalization is that the latter applies the normalization to a  whole batch of images instead for single ones:\n",
    "\n",
    "\\begin{equation}\\label{eq:bnorm}\n",
    "    y_{tijk} =  \\frac{x_{tijk} - \\mu_{i}}{\\sqrt{\\sigma_i^2 + \\epsilon}},\n",
    "    \\quad\n",
    "    \\mu_i = \\frac{1}{HWT}\\sum_{t=1}^T\\sum_{l=1}^W \\sum_{m=1}^H x_{tilm},\n",
    "    \\quad\n",
    "    \\sigma_i^2 = \\frac{1}{HWT}\\sum_{t=1}^T\\sum_{l=1}^W \\sum_{m=1}^H (x_{tilm} - mu_i)^2.\n",
    "\\end{equation}\n",
    "\n",
    "In order to combine the effects of instance-specific normalization and batch normalization, we propose to replace the latter by the *instance normalization* (also known as *contrast normalization*) layer:\n",
    "\n",
    "\\begin{equation}\\label{eq:inorm}\n",
    "    y_{tijk} =  \\frac{x_{tijk} - \\mu_{ti}}{\\sqrt{\\sigma_{ti}^2 + \\epsilon}},\n",
    "    \\quad\n",
    "    \\mu_{ti} = \\frac{1}{HW}\\sum_{l=1}^W \\sum_{m=1}^H x_{tilm},\n",
    "    \\quad\n",
    "    \\sigma_{ti}^2 = \\frac{1}{HW}\\sum_{l=1}^W \\sum_{m=1}^H (x_{tilm} - mu_{ti})^2.\n",
    "\\end{equation}"
   ]
  },
  {
   "cell_type": "code",
   "execution_count": 25,
   "metadata": {
    "hidden": true
   },
   "outputs": [
    {
     "data": {
      "application/javascript": [
       "\n",
       "            setTimeout(function() {\n",
       "                var nbb_cell_id = 25;\n",
       "                var nbb_unformatted_code = \"class InstanceNorm(nn.Module):\\n    __constants__ = ['eps']\\n\\n    def __init__(self, nf, eps=1e-0):\\n        super().__init__()\\n        self.eps = eps\\n        self.gamma = nn.Parameter(torch.ones(nf, 1, 1))\\n        self.beta = nn.Parameter(torch.zeros(nf, 1, 1))\\n\\n    def forward(self, x):\\n        mean = x.mean((2, 3), keepdim=True)\\n        var = x.var((2, 3), keepdim=True)\\n        res = (x - mean) / ((var + self.eps).sqrt())\\n        return res * self.gamma + self.beta\";\n",
       "                var nbb_formatted_code = \"class InstanceNorm(nn.Module):\\n    __constants__ = [\\\"eps\\\"]\\n\\n    def __init__(self, nf, eps=1e-0):\\n        super().__init__()\\n        self.eps = eps\\n        self.gamma = nn.Parameter(torch.ones(nf, 1, 1))\\n        self.beta = nn.Parameter(torch.zeros(nf, 1, 1))\\n\\n    def forward(self, x):\\n        mean = x.mean((2, 3), keepdim=True)\\n        var = x.var((2, 3), keepdim=True)\\n        res = (x - mean) / ((var + self.eps).sqrt())\\n        return res * self.gamma + self.beta\";\n",
       "                var nbb_cells = Jupyter.notebook.get_cells();\n",
       "                for (var i = 0; i < nbb_cells.length; ++i) {\n",
       "                    if (nbb_cells[i].input_prompt_number == nbb_cell_id) {\n",
       "                        if (nbb_cells[i].get_text() == nbb_unformatted_code) {\n",
       "                             nbb_cells[i].set_text(nbb_formatted_code);\n",
       "                        }\n",
       "                        break;\n",
       "                    }\n",
       "                }\n",
       "            }, 500);\n",
       "            "
      ],
      "text/plain": [
       "<IPython.core.display.Javascript object>"
      ]
     },
     "metadata": {},
     "output_type": "display_data"
    }
   ],
   "source": [
    "class InstanceNorm(nn.Module):\n",
    "    __constants__ = ['eps']\n",
    "\n",
    "    def __init__(self, nf, eps=1e-0):\n",
    "        super().__init__()\n",
    "        self.eps = eps\n",
    "        self.gamma = nn.Parameter(torch.ones(nf, 1, 1))\n",
    "        self.beta = nn.Parameter(torch.zeros(nf, 1, 1))\n",
    "\n",
    "    def forward(self, x):\n",
    "        mean = x.mean((2, 3), keepdim=True)\n",
    "        var = x.var((2, 3), keepdim=True)\n",
    "        res = (x - mean) / ((var + self.eps).sqrt())\n",
    "        return res * self.gamma + self.beta"
   ]
  },
  {
   "cell_type": "code",
   "execution_count": 26,
   "metadata": {
    "hidden": true
   },
   "outputs": [
    {
     "data": {
      "application/javascript": [
       "\n",
       "            setTimeout(function() {\n",
       "                var nbb_cell_id = 26;\n",
       "                var nbb_unformatted_code = \"def conv_in(ni, nf, ks=3, stride=2, bn=True, **kwargs):\\n    layers = [\\n        nn.Conv2d(ni, nf, ks, padding=ks // 2, stride=stride, bias=True),\\n        GeneralRelu(**kwargs)\\n    ]\\n    if bn: layers.append(InstanceNorm(nf))\\n    return nn.Sequential(*layers)\";\n",
       "                var nbb_formatted_code = \"def conv_in(ni, nf, ks=3, stride=2, bn=True, **kwargs):\\n    layers = [\\n        nn.Conv2d(ni, nf, ks, padding=ks // 2, stride=stride, bias=True),\\n        GeneralRelu(**kwargs),\\n    ]\\n    if bn:\\n        layers.append(InstanceNorm(nf))\\n    return nn.Sequential(*layers)\";\n",
       "                var nbb_cells = Jupyter.notebook.get_cells();\n",
       "                for (var i = 0; i < nbb_cells.length; ++i) {\n",
       "                    if (nbb_cells[i].input_prompt_number == nbb_cell_id) {\n",
       "                        if (nbb_cells[i].get_text() == nbb_unformatted_code) {\n",
       "                             nbb_cells[i].set_text(nbb_formatted_code);\n",
       "                        }\n",
       "                        break;\n",
       "                    }\n",
       "                }\n",
       "            }, 500);\n",
       "            "
      ],
      "text/plain": [
       "<IPython.core.display.Javascript object>"
      ]
     },
     "metadata": {},
     "output_type": "display_data"
    }
   ],
   "source": [
    "def conv_in(ni, nf, ks=3, stride=2, bn=True, **kwargs):\n",
    "    layers = [\n",
    "        nn.Conv2d(ni, nf, ks, padding=ks // 2, stride=stride, bias=True),\n",
    "        GeneralRelu(**kwargs)\n",
    "    ]\n",
    "    if bn: layers.append(InstanceNorm(nf))\n",
    "    return nn.Sequential(*layers)"
   ]
  },
  {
   "cell_type": "code",
   "execution_count": 27,
   "metadata": {
    "hidden": true
   },
   "outputs": [
    {
     "data": {
      "application/javascript": [
       "\n",
       "            setTimeout(function() {\n",
       "                var nbb_cell_id = 27;\n",
       "                var nbb_unformatted_code = \"learn, run = get_learn_run(nfs, data, 0.1, conv_in, cbs=cbfs)\";\n",
       "                var nbb_formatted_code = \"learn, run = get_learn_run(nfs, data, 0.1, conv_in, cbs=cbfs)\";\n",
       "                var nbb_cells = Jupyter.notebook.get_cells();\n",
       "                for (var i = 0; i < nbb_cells.length; ++i) {\n",
       "                    if (nbb_cells[i].input_prompt_number == nbb_cell_id) {\n",
       "                        if (nbb_cells[i].get_text() == nbb_unformatted_code) {\n",
       "                             nbb_cells[i].set_text(nbb_formatted_code);\n",
       "                        }\n",
       "                        break;\n",
       "                    }\n",
       "                }\n",
       "            }, 500);\n",
       "            "
      ],
      "text/plain": [
       "<IPython.core.display.Javascript object>"
      ]
     },
     "metadata": {},
     "output_type": "display_data"
    }
   ],
   "source": [
    "learn, run = get_learn_run(nfs, data, 0.1, conv_in, cbs=cbfs)"
   ]
  },
  {
   "cell_type": "code",
   "execution_count": 28,
   "metadata": {
    "hidden": true
   },
   "outputs": [
    {
     "name": "stdout",
     "output_type": "stream",
     "text": [
      "train: [nan, tensor(0.0986)]\n",
      "valid: [nan, tensor(0.0991)]\n",
      "train: [nan, tensor(0.0986)]\n",
      "valid: [nan, tensor(0.0991)]\n",
      "train: [nan, tensor(0.0986)]\n",
      "valid: [nan, tensor(0.0991)]\n",
      "CPU times: user 1min 8s, sys: 4.98 s, total: 1min 13s\n",
      "Wall time: 36.9 s\n"
     ]
    },
    {
     "data": {
      "application/javascript": [
       "\n",
       "            setTimeout(function() {\n",
       "                var nbb_cell_id = 28;\n",
       "                var nbb_unformatted_code = \"%time run.fit(3, learn)\";\n",
       "                var nbb_formatted_code = \"%time run.fit(3, learn)\";\n",
       "                var nbb_cells = Jupyter.notebook.get_cells();\n",
       "                for (var i = 0; i < nbb_cells.length; ++i) {\n",
       "                    if (nbb_cells[i].input_prompt_number == nbb_cell_id) {\n",
       "                        if (nbb_cells[i].get_text() == nbb_unformatted_code) {\n",
       "                             nbb_cells[i].set_text(nbb_formatted_code);\n",
       "                        }\n",
       "                        break;\n",
       "                    }\n",
       "                }\n",
       "            }, 500);\n",
       "            "
      ],
      "text/plain": [
       "<IPython.core.display.Javascript object>"
      ]
     },
     "metadata": {},
     "output_type": "display_data"
    }
   ],
   "source": [
    "%time run.fit(3, learn)"
   ]
  },
  {
   "cell_type": "markdown",
   "metadata": {
    "hidden": true
   },
   "source": [
    "*Question*: why can't this classify anything?\n",
    "\n",
    "Because it throws the difference in the means and variances of each image and each channel. It is useful for style transfer."
   ]
  },
  {
   "cell_type": "markdown",
   "metadata": {
    "heading_collapsed": true
   },
   "source": [
    "### Group norm"
   ]
  },
  {
   "cell_type": "markdown",
   "metadata": {
    "hidden": true
   },
   "source": [
    "Lost in all those norms? The authors from the [group norm paper](https://arxiv.org/pdf/1803.08494.pdf) have you covered:\n",
    "\n",
    "<img src=\"images/norms.png\">"
   ]
  },
  {
   "cell_type": "markdown",
   "metadata": {
    "hidden": true
   },
   "source": [
    "*From the PyTorch docs:*\n",
    "\n",
    "`GroupNorm(num_groups, num_channels, eps=1e-5, affine=True)`\n",
    "\n",
    "The input channels are separated into `num_groups` groups, each containing\n",
    "``num_channels / num_groups`` channels. The mean and standard-deviation are calculated\n",
    "separately over the each group. $\\gamma$ and $\\beta$ are learnable\n",
    "per-channel affine transform parameter vectorss of size `num_channels` if\n",
    "`affine` is ``True``.\n",
    "\n",
    "This layer uses statistics computed from input data in both training and\n",
    "evaluation modes.\n",
    "\n",
    "Args:\n",
    "-    num_groups (int): number of groups to separate the channels into\n",
    "-    num_channels (int): number of channels expected in input\n",
    "-    eps: a value added to the denominator for numerical stability. Default: 1e-5\n",
    "-    affine: a boolean value that when set to ``True``, this module\n",
    "        has learnable per-channel affine parameters initialized to ones (for weights)\n",
    "        and zeros (for biases). Default: ``True``.\n",
    "\n",
    "Shape:\n",
    "- Input: `(N, num_channels, *)`\n",
    "- Output: `(N, num_channels, *)` (same shape as input)\n",
    "\n",
    "Examples::\n",
    "\n",
    "    >>> input = torch.randn(20, 6, 10, 10)\n",
    "    >>> # Separate 6 channels into 3 groups\n",
    "    >>> m = nn.GroupNorm(3, 6)\n",
    "    >>> # Separate 6 channels into 6 groups (equivalent with InstanceNorm)\n",
    "    >>> m = nn.GroupNorm(6, 6)\n",
    "    >>> # Put all 6 channels into a single group (equivalent with LayerNorm)\n",
    "    >>> m = nn.GroupNorm(1, 6)\n",
    "    >>> # Activating the module\n",
    "    >>> output = m(input)"
   ]
  },
  {
   "cell_type": "markdown",
   "metadata": {
    "collapsed": "true",
    "heading_collapsed": true
   },
   "source": [
    "## Fix small batch sizes"
   ]
  },
  {
   "cell_type": "markdown",
   "metadata": {
    "collapsed": "true",
    "heading_collapsed": true,
    "hidden": true
   },
   "source": [
    "### What's the problem?"
   ]
  },
  {
   "cell_type": "markdown",
   "metadata": {
    "hidden": true
   },
   "source": [
    "When we compute the statistics (mean and std) for a BatchNorm Layer on a small batch, it is possible that we get a standard deviation very close to 0. because there aren't many samples (the variance of one thing is 0. since it's equal to its mean)."
   ]
  },
  {
   "cell_type": "code",
   "execution_count": 29,
   "metadata": {
    "hidden": true
   },
   "outputs": [
    {
     "data": {
      "application/javascript": [
       "\n",
       "            setTimeout(function() {\n",
       "                var nbb_cell_id = 29;\n",
       "                var nbb_unformatted_code = \"data = DataBunch(*get_dls(train_ds, valid_ds, 2), c)\";\n",
       "                var nbb_formatted_code = \"data = DataBunch(*get_dls(train_ds, valid_ds, 2), c)\";\n",
       "                var nbb_cells = Jupyter.notebook.get_cells();\n",
       "                for (var i = 0; i < nbb_cells.length; ++i) {\n",
       "                    if (nbb_cells[i].input_prompt_number == nbb_cell_id) {\n",
       "                        if (nbb_cells[i].get_text() == nbb_unformatted_code) {\n",
       "                             nbb_cells[i].set_text(nbb_formatted_code);\n",
       "                        }\n",
       "                        break;\n",
       "                    }\n",
       "                }\n",
       "            }, 500);\n",
       "            "
      ],
      "text/plain": [
       "<IPython.core.display.Javascript object>"
      ]
     },
     "metadata": {},
     "output_type": "display_data"
    }
   ],
   "source": [
    "data = DataBunch(*get_dls(train_ds, valid_ds, 2), c)"
   ]
  },
  {
   "cell_type": "code",
   "execution_count": 30,
   "metadata": {
    "hidden": true
   },
   "outputs": [
    {
     "data": {
      "application/javascript": [
       "\n",
       "            setTimeout(function() {\n",
       "                var nbb_cell_id = 30;\n",
       "                var nbb_unformatted_code = \"def conv_layer(ni, nf, ks=3, stride=2, bn=True, **kwargs):\\n    layers = [\\n        nn.Conv2d(ni, nf, ks, padding=ks // 2, stride=stride, bias=not bn),\\n        GeneralRelu(**kwargs)\\n    ]\\n    if bn: layers.append(nn.BatchNorm2d(nf, eps=1e-5, momentum=0.1))\\n    return nn.Sequential(*layers)\";\n",
       "                var nbb_formatted_code = \"def conv_layer(ni, nf, ks=3, stride=2, bn=True, **kwargs):\\n    layers = [\\n        nn.Conv2d(ni, nf, ks, padding=ks // 2, stride=stride, bias=not bn),\\n        GeneralRelu(**kwargs),\\n    ]\\n    if bn:\\n        layers.append(nn.BatchNorm2d(nf, eps=1e-5, momentum=0.1))\\n    return nn.Sequential(*layers)\";\n",
       "                var nbb_cells = Jupyter.notebook.get_cells();\n",
       "                for (var i = 0; i < nbb_cells.length; ++i) {\n",
       "                    if (nbb_cells[i].input_prompt_number == nbb_cell_id) {\n",
       "                        if (nbb_cells[i].get_text() == nbb_unformatted_code) {\n",
       "                             nbb_cells[i].set_text(nbb_formatted_code);\n",
       "                        }\n",
       "                        break;\n",
       "                    }\n",
       "                }\n",
       "            }, 500);\n",
       "            "
      ],
      "text/plain": [
       "<IPython.core.display.Javascript object>"
      ]
     },
     "metadata": {},
     "output_type": "display_data"
    }
   ],
   "source": [
    "def conv_layer(ni, nf, ks=3, stride=2, bn=True, **kwargs):\n",
    "    layers = [\n",
    "        nn.Conv2d(ni, nf, ks, padding=ks // 2, stride=stride, bias=not bn),\n",
    "        GeneralRelu(**kwargs)\n",
    "    ]\n",
    "    if bn: layers.append(nn.BatchNorm2d(nf, eps=1e-5, momentum=0.1))\n",
    "    return nn.Sequential(*layers)"
   ]
  },
  {
   "cell_type": "code",
   "execution_count": 31,
   "metadata": {
    "hidden": true
   },
   "outputs": [
    {
     "data": {
      "application/javascript": [
       "\n",
       "            setTimeout(function() {\n",
       "                var nbb_cell_id = 31;\n",
       "                var nbb_unformatted_code = \"learn,run = get_learn_run(nfs, data, 0.4, conv_layer, cbs=cbfs)\";\n",
       "                var nbb_formatted_code = \"learn, run = get_learn_run(nfs, data, 0.4, conv_layer, cbs=cbfs)\";\n",
       "                var nbb_cells = Jupyter.notebook.get_cells();\n",
       "                for (var i = 0; i < nbb_cells.length; ++i) {\n",
       "                    if (nbb_cells[i].input_prompt_number == nbb_cell_id) {\n",
       "                        if (nbb_cells[i].get_text() == nbb_unformatted_code) {\n",
       "                             nbb_cells[i].set_text(nbb_formatted_code);\n",
       "                        }\n",
       "                        break;\n",
       "                    }\n",
       "                }\n",
       "            }, 500);\n",
       "            "
      ],
      "text/plain": [
       "<IPython.core.display.Javascript object>"
      ]
     },
     "metadata": {},
     "output_type": "display_data"
    }
   ],
   "source": [
    "learn,run = get_learn_run(nfs, data, 0.4, conv_layer, cbs=cbfs)"
   ]
  },
  {
   "cell_type": "code",
   "execution_count": 32,
   "metadata": {
    "hidden": true
   },
   "outputs": [
    {
     "name": "stdout",
     "output_type": "stream",
     "text": [
      "train: [2.35215484375, tensor(0.1710)]\n",
      "valid: [1548761117.4912, tensor(0.1431)]\n",
      "CPU times: user 1min 51s, sys: 361 ms, total: 1min 51s\n",
      "Wall time: 1min 51s\n"
     ]
    },
    {
     "data": {
      "application/javascript": [
       "\n",
       "            setTimeout(function() {\n",
       "                var nbb_cell_id = 32;\n",
       "                var nbb_unformatted_code = \"%time run.fit(1, learn)\";\n",
       "                var nbb_formatted_code = \"%time run.fit(1, learn)\";\n",
       "                var nbb_cells = Jupyter.notebook.get_cells();\n",
       "                for (var i = 0; i < nbb_cells.length; ++i) {\n",
       "                    if (nbb_cells[i].input_prompt_number == nbb_cell_id) {\n",
       "                        if (nbb_cells[i].get_text() == nbb_unformatted_code) {\n",
       "                             nbb_cells[i].set_text(nbb_formatted_code);\n",
       "                        }\n",
       "                        break;\n",
       "                    }\n",
       "                }\n",
       "            }, 500);\n",
       "            "
      ],
      "text/plain": [
       "<IPython.core.display.Javascript object>"
      ]
     },
     "metadata": {},
     "output_type": "display_data"
    }
   ],
   "source": [
    "%time run.fit(1, learn)"
   ]
  },
  {
   "cell_type": "markdown",
   "metadata": {
    "collapsed": "true",
    "heading_collapsed": true,
    "hidden": true
   },
   "source": [
    "### Running Batch Norm"
   ]
  },
  {
   "cell_type": "markdown",
   "metadata": {
    "hidden": true
   },
   "source": [
    "To solve this problem we introduce a Running BatchNorm that uses smoother running mean and variance for the mean and std."
   ]
  },
  {
   "cell_type": "code",
   "execution_count": 33,
   "metadata": {
    "hidden": true
   },
   "outputs": [
    {
     "data": {
      "application/javascript": [
       "\n",
       "            setTimeout(function() {\n",
       "                var nbb_cell_id = 33;\n",
       "                var nbb_unformatted_code = \"class RunningBatchNorm(nn.Module):\\n    def __init__(self, nf, mom=0.1, eps=1e-5):\\n        super().__init__()\\n        self.mom, self.eps = mom, eps\\n        self.mults = nn.Parameter(torch.ones(nf, 1, 1))\\n        self.adds = nn.Parameter(torch.zeros(nf, 1, 1))\\n        self.register_buffer('sums', torch.zeros(1, nf, 1, 1))\\n        self.register_buffer('sqrs', torch.zeros(1, nf, 1, 1))\\n        self.register_buffer('batch', tensor(0.))\\n        self.register_buffer('count', tensor(0.))\\n        self.register_buffer('factor', tensor(0.))\\n        self.register_buffer('offset', tensor(0.))\\n\\n    def update_stats(self, x):\\n        bs, nc, *_ = x.shape\\n        self.sums.detach_()\\n        self.sqrs.detach_()\\n        dims = (0, 2, 3)\\n        s = x.sum(dims, keepdim=True)\\n        ss = (x * x).sum(dims, keepdim=True)\\n        c = self.count.new_tensor(x.numel() / nc)\\n        mom1 = 1 - (1 - self.mom) / math.sqrt(bs-1)\\n        self.sums.lerp_(s, mom1)\\n        self.sqrs.lerp_(ss, mom1)\\n        self.count.lerp_(c, mom1)\\n        self.batch += bs\\n        means = self.sums / self.count\\n        var = (self.sqrs / self.count).sub_(means * means)\\n\\n        if bool(self.batch < 20):\\n            var.clamp_min_(0.01)\\n\\n        self.factor = self.mults / (var + self.eps).sqrt()\\n        self.offset = self.adds - means * self.factor\\n\\n    def forward(self, x):\\n        if self.training:\\n            self.update_stats(x)\\n        return x * self.factor + self.offset\";\n",
       "                var nbb_formatted_code = \"class RunningBatchNorm(nn.Module):\\n    def __init__(self, nf, mom=0.1, eps=1e-5):\\n        super().__init__()\\n        self.mom, self.eps = mom, eps\\n        self.mults = nn.Parameter(torch.ones(nf, 1, 1))\\n        self.adds = nn.Parameter(torch.zeros(nf, 1, 1))\\n        self.register_buffer(\\\"sums\\\", torch.zeros(1, nf, 1, 1))\\n        self.register_buffer(\\\"sqrs\\\", torch.zeros(1, nf, 1, 1))\\n        self.register_buffer(\\\"batch\\\", tensor(0.0))\\n        self.register_buffer(\\\"count\\\", tensor(0.0))\\n        self.register_buffer(\\\"factor\\\", tensor(0.0))\\n        self.register_buffer(\\\"offset\\\", tensor(0.0))\\n\\n    def update_stats(self, x):\\n        bs, nc, *_ = x.shape\\n        self.sums.detach_()\\n        self.sqrs.detach_()\\n        dims = (0, 2, 3)\\n        s = x.sum(dims, keepdim=True)\\n        ss = (x * x).sum(dims, keepdim=True)\\n        c = self.count.new_tensor(x.numel() / nc)\\n        mom1 = 1 - (1 - self.mom) / math.sqrt(bs - 1)\\n        self.sums.lerp_(s, mom1)\\n        self.sqrs.lerp_(ss, mom1)\\n        self.count.lerp_(c, mom1)\\n        self.batch += bs\\n        means = self.sums / self.count\\n        var = (self.sqrs / self.count).sub_(means * means)\\n\\n        if bool(self.batch < 20):\\n            var.clamp_min_(0.01)\\n\\n        self.factor = self.mults / (var + self.eps).sqrt()\\n        self.offset = self.adds - means * self.factor\\n\\n    def forward(self, x):\\n        if self.training:\\n            self.update_stats(x)\\n        return x * self.factor + self.offset\";\n",
       "                var nbb_cells = Jupyter.notebook.get_cells();\n",
       "                for (var i = 0; i < nbb_cells.length; ++i) {\n",
       "                    if (nbb_cells[i].input_prompt_number == nbb_cell_id) {\n",
       "                        if (nbb_cells[i].get_text() == nbb_unformatted_code) {\n",
       "                             nbb_cells[i].set_text(nbb_formatted_code);\n",
       "                        }\n",
       "                        break;\n",
       "                    }\n",
       "                }\n",
       "            }, 500);\n",
       "            "
      ],
      "text/plain": [
       "<IPython.core.display.Javascript object>"
      ]
     },
     "metadata": {},
     "output_type": "display_data"
    }
   ],
   "source": [
    "class RunningBatchNorm(nn.Module):\n",
    "    def __init__(self, nf, mom=0.1, eps=1e-5):\n",
    "        super().__init__()\n",
    "        self.mom, self.eps = mom, eps\n",
    "        self.mults = nn.Parameter(torch.ones(nf, 1, 1))\n",
    "        self.adds = nn.Parameter(torch.zeros(nf, 1, 1))\n",
    "        self.register_buffer('sums', torch.zeros(1, nf, 1, 1))\n",
    "        self.register_buffer('sqrs', torch.zeros(1, nf, 1, 1))\n",
    "        self.register_buffer('batch', tensor(0.))\n",
    "        self.register_buffer('count', tensor(0.))\n",
    "        self.register_buffer('factor', tensor(0.))\n",
    "        self.register_buffer('offset', tensor(0.))\n",
    "\n",
    "    def update_stats(self, x):\n",
    "        bs, nc, *_ = x.shape\n",
    "        self.sums.detach_()\n",
    "        self.sqrs.detach_()\n",
    "        dims = (0, 2, 3)\n",
    "        s = x.sum(dims, keepdim=True)\n",
    "        ss = (x * x).sum(dims, keepdim=True)\n",
    "        c = self.count.new_tensor(x.numel() / nc)\n",
    "        mom1 = 1 - (1 - self.mom) / math.sqrt(bs-1)\n",
    "        self.sums.lerp_(s, mom1)\n",
    "        self.sqrs.lerp_(ss, mom1)\n",
    "        self.count.lerp_(c, mom1)\n",
    "        self.batch += bs\n",
    "        means = self.sums / self.count\n",
    "        var = (self.sqrs / self.count).sub_(means * means)\n",
    "\n",
    "        if bool(self.batch < 20):\n",
    "            var.clamp_min_(0.01)\n",
    "\n",
    "        self.factor = self.mults / (var + self.eps).sqrt()\n",
    "        self.offset = self.adds - means * self.factor\n",
    "\n",
    "    def forward(self, x):\n",
    "        if self.training:\n",
    "            self.update_stats(x)\n",
    "        return x * self.factor + self.offset"
   ]
  },
  {
   "cell_type": "code",
   "execution_count": 34,
   "metadata": {
    "hidden": true
   },
   "outputs": [
    {
     "data": {
      "application/javascript": [
       "\n",
       "            setTimeout(function() {\n",
       "                var nbb_cell_id = 34;\n",
       "                var nbb_unformatted_code = \"def conv_rbn(ni, nf, ks=3, stride=2, bn=True, **kwargs):\\n    layers = [nn.Conv2d(ni, nf, ks, padding=ks//2, stride=stride, bias=not bn),\\n              GeneralRelu(**kwargs)]\\n    if bn: layers.append(RunningBatchNorm(nf))\\n    return nn.Sequential(*layers)\";\n",
       "                var nbb_formatted_code = \"def conv_rbn(ni, nf, ks=3, stride=2, bn=True, **kwargs):\\n    layers = [\\n        nn.Conv2d(ni, nf, ks, padding=ks // 2, stride=stride, bias=not bn),\\n        GeneralRelu(**kwargs),\\n    ]\\n    if bn:\\n        layers.append(RunningBatchNorm(nf))\\n    return nn.Sequential(*layers)\";\n",
       "                var nbb_cells = Jupyter.notebook.get_cells();\n",
       "                for (var i = 0; i < nbb_cells.length; ++i) {\n",
       "                    if (nbb_cells[i].input_prompt_number == nbb_cell_id) {\n",
       "                        if (nbb_cells[i].get_text() == nbb_unformatted_code) {\n",
       "                             nbb_cells[i].set_text(nbb_formatted_code);\n",
       "                        }\n",
       "                        break;\n",
       "                    }\n",
       "                }\n",
       "            }, 500);\n",
       "            "
      ],
      "text/plain": [
       "<IPython.core.display.Javascript object>"
      ]
     },
     "metadata": {},
     "output_type": "display_data"
    }
   ],
   "source": [
    "def conv_rbn(ni, nf, ks=3, stride=2, bn=True, **kwargs):\n",
    "    layers = [nn.Conv2d(ni, nf, ks, padding=ks//2, stride=stride, bias=not bn),\n",
    "              GeneralRelu(**kwargs)]\n",
    "    if bn: layers.append(RunningBatchNorm(nf))\n",
    "    return nn.Sequential(*layers)"
   ]
  },
  {
   "cell_type": "code",
   "execution_count": 35,
   "metadata": {
    "hidden": true
   },
   "outputs": [
    {
     "data": {
      "application/javascript": [
       "\n",
       "            setTimeout(function() {\n",
       "                var nbb_cell_id = 35;\n",
       "                var nbb_unformatted_code = \"learn,run = get_learn_run(nfs, data, 0.4, conv_rbn, cbs=cbfs)\";\n",
       "                var nbb_formatted_code = \"learn, run = get_learn_run(nfs, data, 0.4, conv_rbn, cbs=cbfs)\";\n",
       "                var nbb_cells = Jupyter.notebook.get_cells();\n",
       "                for (var i = 0; i < nbb_cells.length; ++i) {\n",
       "                    if (nbb_cells[i].input_prompt_number == nbb_cell_id) {\n",
       "                        if (nbb_cells[i].get_text() == nbb_unformatted_code) {\n",
       "                             nbb_cells[i].set_text(nbb_formatted_code);\n",
       "                        }\n",
       "                        break;\n",
       "                    }\n",
       "                }\n",
       "            }, 500);\n",
       "            "
      ],
      "text/plain": [
       "<IPython.core.display.Javascript object>"
      ]
     },
     "metadata": {},
     "output_type": "display_data"
    }
   ],
   "source": [
    "learn,run = get_learn_run(nfs, data, 0.4, conv_rbn, cbs=cbfs)"
   ]
  },
  {
   "cell_type": "code",
   "execution_count": 36,
   "metadata": {
    "hidden": true
   },
   "outputs": [
    {
     "data": {
      "text/plain": [
       "Sequential(\n",
       "  (0): Sequential(\n",
       "    (0): Conv2d(1, 8, kernel_size=(5, 5), stride=(2, 2), padding=(2, 2), bias=False)\n",
       "    (1): GeneralRelu()\n",
       "    (2): RunningBatchNorm()\n",
       "  )\n",
       "  (1): Sequential(\n",
       "    (0): Conv2d(8, 16, kernel_size=(3, 3), stride=(2, 2), padding=(1, 1), bias=False)\n",
       "    (1): GeneralRelu()\n",
       "    (2): RunningBatchNorm()\n",
       "  )\n",
       "  (2): Sequential(\n",
       "    (0): Conv2d(16, 32, kernel_size=(3, 3), stride=(2, 2), padding=(1, 1), bias=False)\n",
       "    (1): GeneralRelu()\n",
       "    (2): RunningBatchNorm()\n",
       "  )\n",
       "  (3): Sequential(\n",
       "    (0): Conv2d(32, 64, kernel_size=(3, 3), stride=(2, 2), padding=(1, 1), bias=False)\n",
       "    (1): GeneralRelu()\n",
       "    (2): RunningBatchNorm()\n",
       "  )\n",
       "  (4): Sequential(\n",
       "    (0): Conv2d(64, 64, kernel_size=(3, 3), stride=(2, 2), padding=(1, 1), bias=False)\n",
       "    (1): GeneralRelu()\n",
       "    (2): RunningBatchNorm()\n",
       "  )\n",
       "  (5): AdaptiveAvgPool2d(output_size=1)\n",
       "  (6): Lambda()\n",
       "  (7): Linear(in_features=64, out_features=10, bias=True)\n",
       ")"
      ]
     },
     "execution_count": 36,
     "metadata": {},
     "output_type": "execute_result"
    },
    {
     "data": {
      "application/javascript": [
       "\n",
       "            setTimeout(function() {\n",
       "                var nbb_cell_id = 36;\n",
       "                var nbb_unformatted_code = \"learn.model\";\n",
       "                var nbb_formatted_code = \"learn.model\";\n",
       "                var nbb_cells = Jupyter.notebook.get_cells();\n",
       "                for (var i = 0; i < nbb_cells.length; ++i) {\n",
       "                    if (nbb_cells[i].input_prompt_number == nbb_cell_id) {\n",
       "                        if (nbb_cells[i].get_text() == nbb_unformatted_code) {\n",
       "                             nbb_cells[i].set_text(nbb_formatted_code);\n",
       "                        }\n",
       "                        break;\n",
       "                    }\n",
       "                }\n",
       "            }, 500);\n",
       "            "
      ],
      "text/plain": [
       "<IPython.core.display.Javascript object>"
      ]
     },
     "metadata": {},
     "output_type": "display_data"
    }
   ],
   "source": [
    "learn.model"
   ]
  },
  {
   "cell_type": "code",
   "execution_count": 37,
   "metadata": {
    "hidden": true
   },
   "outputs": [
    {
     "name": "stdout",
     "output_type": "stream",
     "text": [
      "train: [0.4170171875, tensor(0.8936)]\n",
      "valid: [0.3150417236328125, tensor(0.9235)]\n",
      "CPU times: user 1min 51s, sys: 418 ms, total: 1min 52s\n",
      "Wall time: 1min 52s\n"
     ]
    },
    {
     "data": {
      "application/javascript": [
       "\n",
       "            setTimeout(function() {\n",
       "                var nbb_cell_id = 37;\n",
       "                var nbb_unformatted_code = \"%time run.fit(1, learn)\";\n",
       "                var nbb_formatted_code = \"%time run.fit(1, learn)\";\n",
       "                var nbb_cells = Jupyter.notebook.get_cells();\n",
       "                for (var i = 0; i < nbb_cells.length; ++i) {\n",
       "                    if (nbb_cells[i].input_prompt_number == nbb_cell_id) {\n",
       "                        if (nbb_cells[i].get_text() == nbb_unformatted_code) {\n",
       "                             nbb_cells[i].set_text(nbb_formatted_code);\n",
       "                        }\n",
       "                        break;\n",
       "                    }\n",
       "                }\n",
       "            }, 500);\n",
       "            "
      ],
      "text/plain": [
       "<IPython.core.display.Javascript object>"
      ]
     },
     "metadata": {},
     "output_type": "display_data"
    }
   ],
   "source": [
    "%time run.fit(1, learn)"
   ]
  },
  {
   "cell_type": "markdown",
   "metadata": {
    "hidden": true
   },
   "source": [
    "This solves the small batch size issue!"
   ]
  },
  {
   "cell_type": "markdown",
   "metadata": {
    "heading_collapsed": true,
    "hidden": true
   },
   "source": [
    "### What can we do in a single epoch?"
   ]
  },
  {
   "cell_type": "markdown",
   "metadata": {
    "hidden": true
   },
   "source": [
    "Now let's see with a decent batch size what result we can get."
   ]
  },
  {
   "cell_type": "code",
   "execution_count": 38,
   "metadata": {
    "hidden": true
   },
   "outputs": [
    {
     "data": {
      "application/javascript": [
       "\n",
       "            setTimeout(function() {\n",
       "                var nbb_cell_id = 38;\n",
       "                var nbb_unformatted_code = \"data = DataBunch(*get_dls(train_ds, valid_ds, 512), c)\";\n",
       "                var nbb_formatted_code = \"data = DataBunch(*get_dls(train_ds, valid_ds, 512), c)\";\n",
       "                var nbb_cells = Jupyter.notebook.get_cells();\n",
       "                for (var i = 0; i < nbb_cells.length; ++i) {\n",
       "                    if (nbb_cells[i].input_prompt_number == nbb_cell_id) {\n",
       "                        if (nbb_cells[i].get_text() == nbb_unformatted_code) {\n",
       "                             nbb_cells[i].set_text(nbb_formatted_code);\n",
       "                        }\n",
       "                        break;\n",
       "                    }\n",
       "                }\n",
       "            }, 500);\n",
       "            "
      ],
      "text/plain": [
       "<IPython.core.display.Javascript object>"
      ]
     },
     "metadata": {},
     "output_type": "display_data"
    }
   ],
   "source": [
    "data = DataBunch(*get_dls(train_ds, valid_ds, 512), c)"
   ]
  },
  {
   "cell_type": "code",
   "execution_count": 39,
   "metadata": {
    "hidden": true
   },
   "outputs": [
    {
     "data": {
      "application/javascript": [
       "\n",
       "            setTimeout(function() {\n",
       "                var nbb_cell_id = 39;\n",
       "                var nbb_unformatted_code = \"learn, run = get_learn_run(nfs, data, 1., conv_layer, cbs=cbfs)\";\n",
       "                var nbb_formatted_code = \"learn, run = get_learn_run(nfs, data, 1.0, conv_layer, cbs=cbfs)\";\n",
       "                var nbb_cells = Jupyter.notebook.get_cells();\n",
       "                for (var i = 0; i < nbb_cells.length; ++i) {\n",
       "                    if (nbb_cells[i].input_prompt_number == nbb_cell_id) {\n",
       "                        if (nbb_cells[i].get_text() == nbb_unformatted_code) {\n",
       "                             nbb_cells[i].set_text(nbb_formatted_code);\n",
       "                        }\n",
       "                        break;\n",
       "                    }\n",
       "                }\n",
       "            }, 500);\n",
       "            "
      ],
      "text/plain": [
       "<IPython.core.display.Javascript object>"
      ]
     },
     "metadata": {},
     "output_type": "display_data"
    }
   ],
   "source": [
    "learn, run = get_learn_run(nfs, data, 1., conv_layer, cbs=cbfs)"
   ]
  },
  {
   "cell_type": "code",
   "execution_count": 40,
   "metadata": {
    "hidden": true
   },
   "outputs": [
    {
     "name": "stdout",
     "output_type": "stream",
     "text": [
      "train: [0.22383076171875, tensor(0.9292)]\n",
      "valid: [0.09052369384765625, tensor(0.9712)]\n",
      "train: [0.0656801171875, tensor(0.9794)]\n",
      "valid: [0.06957890014648438, tensor(0.9794)]\n",
      "train: [0.044756376953125, tensor(0.9858)]\n",
      "valid: [0.07446788940429687, tensor(0.9781)]\n",
      "CPU times: user 47.1 s, sys: 2.92 s, total: 50.1 s\n",
      "Wall time: 25.2 s\n"
     ]
    },
    {
     "data": {
      "application/javascript": [
       "\n",
       "            setTimeout(function() {\n",
       "                var nbb_cell_id = 40;\n",
       "                var nbb_unformatted_code = \"%time run.fit(3, learn)\";\n",
       "                var nbb_formatted_code = \"%time run.fit(3, learn)\";\n",
       "                var nbb_cells = Jupyter.notebook.get_cells();\n",
       "                for (var i = 0; i < nbb_cells.length; ++i) {\n",
       "                    if (nbb_cells[i].input_prompt_number == nbb_cell_id) {\n",
       "                        if (nbb_cells[i].get_text() == nbb_unformatted_code) {\n",
       "                             nbb_cells[i].set_text(nbb_formatted_code);\n",
       "                        }\n",
       "                        break;\n",
       "                    }\n",
       "                }\n",
       "            }, 500);\n",
       "            "
      ],
      "text/plain": [
       "<IPython.core.display.Javascript object>"
      ]
     },
     "metadata": {},
     "output_type": "display_data"
    }
   ],
   "source": [
    "%time run.fit(3, learn)"
   ]
  },
  {
   "cell_type": "code",
   "execution_count": 41,
   "metadata": {
    "hidden": true
   },
   "outputs": [
    {
     "data": {
      "application/javascript": [
       "\n",
       "            setTimeout(function() {\n",
       "                var nbb_cell_id = 41;\n",
       "                var nbb_unformatted_code = \"# learn,run = get_learn_run(nfs, data, 0.9, conv_rbn, cbs=cbfs\\n#                           +[partial(ParamScheduler,'lr', sched_lin(1., 0.2))])\";\n",
       "                var nbb_formatted_code = \"# learn,run = get_learn_run(nfs, data, 0.9, conv_rbn, cbs=cbfs\\n#                           +[partial(ParamScheduler,'lr', sched_lin(1., 0.2))])\";\n",
       "                var nbb_cells = Jupyter.notebook.get_cells();\n",
       "                for (var i = 0; i < nbb_cells.length; ++i) {\n",
       "                    if (nbb_cells[i].input_prompt_number == nbb_cell_id) {\n",
       "                        if (nbb_cells[i].get_text() == nbb_unformatted_code) {\n",
       "                             nbb_cells[i].set_text(nbb_formatted_code);\n",
       "                        }\n",
       "                        break;\n",
       "                    }\n",
       "                }\n",
       "            }, 500);\n",
       "            "
      ],
      "text/plain": [
       "<IPython.core.display.Javascript object>"
      ]
     },
     "metadata": {},
     "output_type": "display_data"
    }
   ],
   "source": [
    "# learn,run = get_learn_run(nfs, data, 0.9, conv_rbn, cbs=cbfs\n",
    "#                           +[partial(ParamScheduler,'lr', sched_lin(1., 0.2))])"
   ]
  },
  {
   "cell_type": "code",
   "execution_count": 42,
   "metadata": {
    "hidden": true
   },
   "outputs": [
    {
     "name": "stdout",
     "output_type": "stream",
     "text": [
      "train: [0.032991181640625, tensor(0.9894)]\n",
      "valid: [0.0602272705078125, tensor(0.9817)]\n",
      "train: [0.02374192626953125, tensor(0.9923)]\n",
      "valid: [0.06647666015625, tensor(0.9819)]\n",
      "train: [0.0173309326171875, tensor(0.9948)]\n",
      "valid: [0.08294573974609375, tensor(0.9761)]\n",
      "CPU times: user 46.8 s, sys: 2.88 s, total: 49.7 s\n",
      "Wall time: 25 s\n"
     ]
    },
    {
     "data": {
      "application/javascript": [
       "\n",
       "            setTimeout(function() {\n",
       "                var nbb_cell_id = 42;\n",
       "                var nbb_unformatted_code = \"%time run.fit(3, learn)\";\n",
       "                var nbb_formatted_code = \"%time run.fit(3, learn)\";\n",
       "                var nbb_cells = Jupyter.notebook.get_cells();\n",
       "                for (var i = 0; i < nbb_cells.length; ++i) {\n",
       "                    if (nbb_cells[i].input_prompt_number == nbb_cell_id) {\n",
       "                        if (nbb_cells[i].get_text() == nbb_unformatted_code) {\n",
       "                             nbb_cells[i].set_text(nbb_formatted_code);\n",
       "                        }\n",
       "                        break;\n",
       "                    }\n",
       "                }\n",
       "            }, 500);\n",
       "            "
      ],
      "text/plain": [
       "<IPython.core.display.Javascript object>"
      ]
     },
     "metadata": {},
     "output_type": "display_data"
    }
   ],
   "source": [
    "%time run.fit(3, learn)"
   ]
  },
  {
   "cell_type": "markdown",
   "metadata": {},
   "source": [
    "## Export"
   ]
  },
  {
   "cell_type": "code",
   "execution_count": 43,
   "metadata": {},
   "outputs": [
    {
     "data": {
      "application/javascript": [
       "{\n",
       "const ip = IPython.notebook\n",
       "if (ip) {\n",
       "    ip.save_notebook()\n",
       "    console.log('a')\n",
       "    const s = `!python ../src/notebook2script.py ${ip.notebook_name}`\n",
       "    if (ip.kernel) { ip.kernel.execute(s) }\n",
       "}\n",
       "}"
      ],
      "text/plain": [
       "<IPython.core.display.Javascript object>"
      ]
     },
     "metadata": {},
     "output_type": "display_data"
    },
    {
     "data": {
      "application/javascript": [
       "\n",
       "            setTimeout(function() {\n",
       "                var nbb_cell_id = 43;\n",
       "                var nbb_unformatted_code = \"nb_auto_export()\";\n",
       "                var nbb_formatted_code = \"nb_auto_export()\";\n",
       "                var nbb_cells = Jupyter.notebook.get_cells();\n",
       "                for (var i = 0; i < nbb_cells.length; ++i) {\n",
       "                    if (nbb_cells[i].input_prompt_number == nbb_cell_id) {\n",
       "                        if (nbb_cells[i].get_text() == nbb_unformatted_code) {\n",
       "                             nbb_cells[i].set_text(nbb_formatted_code);\n",
       "                        }\n",
       "                        break;\n",
       "                    }\n",
       "                }\n",
       "            }, 500);\n",
       "            "
      ],
      "text/plain": [
       "<IPython.core.display.Javascript object>"
      ]
     },
     "metadata": {},
     "output_type": "display_data"
    }
   ],
   "source": [
    "nb_auto_export()"
   ]
  }
 ],
 "metadata": {
  "hide_input": false,
  "kernelspec": {
   "display_name": "Python 3",
   "language": "python",
   "name": "python3"
  },
  "language_info": {
   "codemirror_mode": {
    "name": "ipython",
    "version": 3
   },
   "file_extension": ".py",
   "mimetype": "text/x-python",
   "name": "python",
   "nbconvert_exporter": "python",
   "pygments_lexer": "ipython3",
   "version": "3.7.6"
  },
  "toc": {
   "base_numbering": 1,
   "nav_menu": {},
   "number_sections": true,
   "sideBar": true,
   "skip_h1_title": false,
   "title_cell": "Table of Contents",
   "title_sidebar": "Contents",
   "toc_cell": false,
   "toc_position": {},
   "toc_section_display": true,
   "toc_window_display": false
  }
 },
 "nbformat": 4,
 "nbformat_minor": 4
}
