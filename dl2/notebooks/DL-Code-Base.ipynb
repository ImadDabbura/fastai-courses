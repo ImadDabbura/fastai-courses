{
 "cells": [
  {
   "cell_type": "markdown",
   "id": "c9c9c484-6f59-4f2f-8661-794790c1f2b4",
   "metadata": {},
   "source": [
    "# Imports"
   ]
  },
  {
   "cell_type": "code",
   "execution_count": 1,
   "id": "94fc36a8-5426-41a7-9d26-ec353e3c8896",
   "metadata": {},
   "outputs": [
    {
     "name": "stderr",
     "output_type": "stream",
     "text": [
      "/Users/imad/anaconda3/envs/dl/lib/python3.10/site-packages/scipy/__init__.py:146: UserWarning: A NumPy version >=1.16.5 and <1.23.0 is required for this version of SciPy (detected version 1.24.1\n",
      "  warnings.warn(f\"A NumPy version >={np_minversion} and <{np_maxversion}\"\n"
     ]
    }
   ],
   "source": [
    "import math\n",
    "import mimetypes\n",
    "import os\n",
    "import PIL\n",
    "import re\n",
    "import time\n",
    "from collections.abc import Iterable\n",
    "from collections import Counter, OrderedDict\n",
    "from functools import partial, wraps\n",
    "from concurrent.futures import ProcessPoolExecutor, ThreadPoolExecutor\n",
    "from pathlib import Path\n",
    "\n",
    "import fastai\n",
    "import matplotlib.pyplot as plt\n",
    "import torch\n",
    "import torch.nn as nn\n",
    "import torch.nn.functional as F\n",
    "import torch.optim as opt\n",
    "from torch.utils.data import DataLoader\n",
    "from fastai.data.external import untar_data, URLs\n",
    "from fastprogress.fastprogress import format_time, master_bar, progress_bar"
   ]
  },
  {
   "cell_type": "code",
   "execution_count": 2,
   "id": "46e6e9d0-2296-4061-9746-ef3ef6245eb7",
   "metadata": {},
   "outputs": [],
   "source": [
    "%load_ext lab_black"
   ]
  },
  {
   "cell_type": "code",
   "execution_count": 3,
   "id": "a30c6d78-4d48-461c-9b8e-eaeb9812d310",
   "metadata": {},
   "outputs": [
    {
     "data": {
      "text/plain": [
       "'1.13.1'"
      ]
     },
     "execution_count": 3,
     "metadata": {},
     "output_type": "execute_result"
    }
   ],
   "source": [
    "torch.__version__"
   ]
  },
  {
   "cell_type": "code",
   "execution_count": 4,
   "id": "54921e97-b0e3-4ce5-81b8-0f8e072e3567",
   "metadata": {},
   "outputs": [
    {
     "data": {
      "text/plain": [
       "'2.7.9'"
      ]
     },
     "execution_count": 4,
     "metadata": {},
     "output_type": "execute_result"
    }
   ],
   "source": [
    "fastai.__version__"
   ]
  },
  {
   "cell_type": "markdown",
   "id": "45bb19c7-371c-4e89-a504-c32318d686a5",
   "metadata": {},
   "source": [
    "# Data"
   ]
  },
  {
   "cell_type": "markdown",
   "id": "6043f7f5-6761-4265-906c-2298fb632ad5",
   "metadata": {},
   "source": [
    "## Data Loaders"
   ]
  },
  {
   "cell_type": "code",
   "execution_count": 5,
   "id": "ebe3d8d6-3701-430f-8ca6-2de4464bb002",
   "metadata": {},
   "outputs": [],
   "source": [
    "def collate(idxs, ds):\n",
    "    xb, yb = zip([ds[i] for i in idxs])\n",
    "    return torch.stack(xb), torch.stack(yb)"
   ]
  },
  {
   "cell_type": "code",
   "execution_count": 6,
   "id": "79422e70-80fd-4809-8a37-e7820419fa64",
   "metadata": {},
   "outputs": [],
   "source": [
    "class NewDataLoader:\n",
    "    def __init__(self, dataset, bs=64, shuffle=False, n_workers=1):\n",
    "        self.dataset = dataset\n",
    "        self.bs = bs\n",
    "        self.shuffle = shuffle\n",
    "        self.n_workers = n_workers\n",
    "        self.n = len(dataset)\n",
    "\n",
    "    def __len__(self):\n",
    "        return ((self.n - 1) // self.bs) + 1\n",
    "\n",
    "    def __iter__(self):\n",
    "        idxs = torch.randperm(self.n) if self.shuffle else torch.arange(self.n)\n",
    "        chunks = [idxs[i * self.bs : (i + 1) * self.bs] for i in range(len(self))]\n",
    "        with ProcessPoolExecutor(self.n_workers) as ex:\n",
    "            yield from ex.map(collate, idxs=chunks, ds=self.dataset)"
   ]
  },
  {
   "cell_type": "code",
   "execution_count": 7,
   "id": "fcf1d3af-ba66-4c79-bd94-993b110cd5b5",
   "metadata": {},
   "outputs": [],
   "source": [
    "def get_dls(train_ds, valid_ds, bs, **kwargs):\n",
    "    return [\n",
    "        DataLoader(train_ds, bs, shuffle=True, **kwargs),\n",
    "        DataLoader(valid_ds, bs * 2, shuffle=False, **kwargs),\n",
    "    ]"
   ]
  },
  {
   "cell_type": "code",
   "execution_count": 8,
   "id": "84ac4505-4154-4090-8bdd-a0fc3abccd60",
   "metadata": {},
   "outputs": [],
   "source": [
    "class DataBunch:\n",
    "    def __init__(self, train_dl, valid_dl, c_in, c_out):\n",
    "        self.train_dl = train_dl\n",
    "        self.valid_dl = valid_dl\n",
    "        self.c_in = c_in\n",
    "        self.c_out = c_out\n",
    "\n",
    "    @property\n",
    "    def train_ds(self):\n",
    "        return self.train_dl.dataset\n",
    "\n",
    "    @property\n",
    "    def valid_ds(self):\n",
    "        return self.valid.dataset"
   ]
  },
  {
   "cell_type": "markdown",
   "id": "51825530-3003-47ec-9c02-6fec84b53a9e",
   "metadata": {},
   "source": [
    "## Utils"
   ]
  },
  {
   "cell_type": "code",
   "execution_count": 9,
   "id": "f788fac1-4850-49b6-810d-f0c630c6721d",
   "metadata": {},
   "outputs": [],
   "source": [
    "def listify(obj):\n",
    "    if obj is None:\n",
    "        return []\n",
    "    elif isinstance(obj, str):\n",
    "        return [obj]\n",
    "    elif isinstance(obj, Iterable):\n",
    "        return list(obj)\n",
    "    elif isinstance(obj, list):\n",
    "        return obj\n",
    "    return [obj]"
   ]
  },
  {
   "cell_type": "code",
   "execution_count": 10,
   "id": "7944489e-135e-460b-8e43-0f0f9e60f9f3",
   "metadata": {},
   "outputs": [
    {
     "data": {
      "text/plain": [
       "([], [''], ['test'], [1], ['a'], [1])"
      ]
     },
     "execution_count": 10,
     "metadata": {},
     "output_type": "execute_result"
    }
   ],
   "source": [
    "listify(None), listify(\"\"), listify(\"test\"), listify([1]), listify({\"a\": 1}), listify(\n",
    "    (1,)\n",
    ")"
   ]
  },
  {
   "cell_type": "code",
   "execution_count": 11,
   "id": "51ee6268-50bc-49d8-9f3f-14c51e1cf453",
   "metadata": {},
   "outputs": [],
   "source": [
    "def setify(obj):\n",
    "    if isinstance(obj, set):\n",
    "        return obj\n",
    "    return set(listify(obj))"
   ]
  },
  {
   "cell_type": "code",
   "execution_count": 12,
   "id": "bd5cc3ea-2b6a-46a0-9fef-5926781f14eb",
   "metadata": {},
   "outputs": [
    {
     "data": {
      "text/plain": [
       "({1}, {'imad'})"
      ]
     },
     "execution_count": 12,
     "metadata": {},
     "output_type": "execute_result"
    }
   ],
   "source": [
    "setify([1, 1]), setify(\"imad\")"
   ]
  },
  {
   "cell_type": "code",
   "execution_count": 13,
   "id": "87bcb199-8634-4369-9514-dac622099c7b",
   "metadata": {},
   "outputs": [],
   "source": [
    "def uniqueify(x, sort=False):\n",
    "    # res = list(setify(x))\n",
    "    res = list(OrderedDict.fromkeys(x).keys())\n",
    "    if sort:\n",
    "        res.sort()\n",
    "    return res"
   ]
  },
  {
   "cell_type": "code",
   "execution_count": 14,
   "id": "b1b5811f-a463-4bd2-b435-34e62c392677",
   "metadata": {},
   "outputs": [],
   "source": [
    "class ListContainer:\n",
    "    def __init__(self, items):\n",
    "        self.items = listify(items)\n",
    "\n",
    "    def __iter__(self):\n",
    "        return iter(self.items)\n",
    "\n",
    "    def __len__(self):\n",
    "        return len(self.items)\n",
    "\n",
    "    def __getitem__(self, idx):\n",
    "        return self.items[idx]\n",
    "\n",
    "    def __setitem__(self, idx, item):\n",
    "        self.data[idx] = item\n",
    "\n",
    "    def __delitem__(self, idx):\n",
    "        del self.data[idx]\n",
    "\n",
    "    def __repr__(self):\n",
    "        res = (\n",
    "            f\"{self.__class__.__name__}: ({len(self.items)} items)\\n\"\n",
    "            f\"{self.items[:10]}\"\n",
    "        )\n",
    "        if len(self) > 10:\n",
    "            res = res[:-1] + \", ...]\"\n",
    "        return res"
   ]
  },
  {
   "cell_type": "code",
   "execution_count": 15,
   "id": "2ea4a67c-c7d8-4a85-b787-0999b2052677",
   "metadata": {},
   "outputs": [
    {
     "data": {
      "text/plain": [
       "ListContainer: (20 items)\n",
       "[0, 1, 2, 3, 4, 5, 6, 7, 8, 9, ...]"
      ]
     },
     "execution_count": 15,
     "metadata": {},
     "output_type": "execute_result"
    }
   ],
   "source": [
    "l = ListContainer(range(20))\n",
    "l"
   ]
  },
  {
   "cell_type": "code",
   "execution_count": 16,
   "id": "7649a252-a960-48b8-a676-6757579a574f",
   "metadata": {},
   "outputs": [],
   "source": [
    "def compose(x, funcs, *args, order=\"_order\", **kwargs):\n",
    "    key = lambda x: getattr(x, order, 0)\n",
    "    for func in sorted(listify(funcs), key=key):\n",
    "        x = func(x, *args, **kwargs)\n",
    "    return x"
   ]
  },
  {
   "cell_type": "markdown",
   "id": "2909434e-589a-4455-a08e-61ebcb70e7c6",
   "metadata": {},
   "source": [
    "## Get Files"
   ]
  },
  {
   "cell_type": "code",
   "execution_count": 17,
   "id": "5e2ef69d-9ce3-4735-be00-b53f355d53e8",
   "metadata": {},
   "outputs": [],
   "source": [
    "image_extensions = [k for k, v in mimetypes.types_map.items() if v.startswith(\"image/\")]"
   ]
  },
  {
   "cell_type": "code",
   "execution_count": 18,
   "id": "e7e09505-b3ff-4452-8613-efecc2ff045f",
   "metadata": {},
   "outputs": [],
   "source": [
    "def _get_files(path, f_names, extensions=None):\n",
    "    path = Path(path)\n",
    "    res = [\n",
    "        path / f_name\n",
    "        for f_name in f_names\n",
    "        if not f_name.startswith(\".\")\n",
    "        and ((not extensions) or f\".{f_name.split('.')[-1].lower()}\" in extensions)\n",
    "    ]\n",
    "    return res"
   ]
  },
  {
   "cell_type": "code",
   "execution_count": 19,
   "id": "7c101809-c684-44f2-8cc0-9fdefc851fe9",
   "metadata": {},
   "outputs": [],
   "source": [
    "def get_files(path, extensions=None, recurse=False, include=None):\n",
    "    path = Path(path)\n",
    "    extensions = setify(extensions)\n",
    "    extensions = {e.lower() for e in extensions}\n",
    "    if recurse:\n",
    "        res = []\n",
    "        for i, (p, d, fs) in enumerate(os.walk(path)):\n",
    "            if include is not None and i == 0:\n",
    "                d[:] = [o for o in d if o in include]\n",
    "            else:\n",
    "                d[:] = [o for o in d if not o.startswith(\".\")]\n",
    "            res += _get_files(p, fs, extensions)\n",
    "    else:\n",
    "        f_names = [o.name for o in os.scandir(path) if o.is_file()]\n",
    "        res = _get_files(path, f_names, extensions)\n",
    "    return res"
   ]
  },
  {
   "cell_type": "markdown",
   "id": "0ba9755d-30d1-4450-9aeb-973a969a4982",
   "metadata": {},
   "source": [
    "## Item List"
   ]
  },
  {
   "cell_type": "code",
   "execution_count": 20,
   "id": "9edc05a6-e691-40b2-bde8-03ec19afdc36",
   "metadata": {},
   "outputs": [],
   "source": [
    "class ItemList(ListContainer):\n",
    "    def __init__(self, items, path=\".\", tfms=None):\n",
    "        super().__init__(items)\n",
    "        self.path = path\n",
    "        self.tfms = tfms\n",
    "\n",
    "    def new(self, items, cls=None):\n",
    "        if cls is None:\n",
    "            cls = self.__class__\n",
    "        return cls(items, self.path, self.tfms)\n",
    "\n",
    "    def get(self, item):\n",
    "        return item\n",
    "\n",
    "    def _get(self, item):\n",
    "        return compose(self.get(item), self.tfms)\n",
    "\n",
    "    def __getitem__(self, idx):\n",
    "        res = super().__getitem__(idx)\n",
    "        if isinstance(res, list):\n",
    "            return [self._get(item) for item in res]\n",
    "        return self._get(res)\n",
    "\n",
    "    def __repr__(self):\n",
    "        return super().__repr__() + f\"\\nPath: {self.path}\""
   ]
  },
  {
   "cell_type": "markdown",
   "id": "aa13f1bd-96ec-4550-8941-c1ac450bba59",
   "metadata": {},
   "source": [
    "## Image List"
   ]
  },
  {
   "cell_type": "code",
   "execution_count": 21,
   "id": "c3a41e44-760e-449c-bc7c-5787c86bd43c",
   "metadata": {},
   "outputs": [],
   "source": [
    "class ImageList(ItemList):\n",
    "    @classmethod\n",
    "    def from_files(\n",
    "        cls, path, extensions=image_extensions, recurse=True, include=None, **kwargs\n",
    "    ):\n",
    "        return cls(get_files(path, extensions, recurse, include), **kwargs)\n",
    "\n",
    "    def get(self, item):\n",
    "        return PIL.Image.open(item)"
   ]
  },
  {
   "cell_type": "code",
   "execution_count": 22,
   "id": "2bdca4e6-1b19-4fb9-b2bf-1bd4ece40514",
   "metadata": {},
   "outputs": [],
   "source": [
    "class Transform:\n",
    "    _order = 0"
   ]
  },
  {
   "cell_type": "code",
   "execution_count": 23,
   "id": "fcce5cfb-d1a7-4d28-9b52-be9e247614e0",
   "metadata": {},
   "outputs": [],
   "source": [
    "class MakeRGB(Transform):\n",
    "    def __call__(self, item):\n",
    "        return item.convert(\"RGB\")"
   ]
  },
  {
   "cell_type": "code",
   "execution_count": 24,
   "id": "5551063f-0fd6-46b9-bebe-d99c2e6708f9",
   "metadata": {},
   "outputs": [],
   "source": [
    "class ResizeFixed(Transform):\n",
    "    _order = 10\n",
    "\n",
    "    def __init__(self, size):\n",
    "        if isinstance(size, int):\n",
    "            size = (size, size)\n",
    "        self.size = size\n",
    "\n",
    "    def __call__(self, item):\n",
    "        return item.resize(self.size, PIL.Image.Resampling.BILINEAR)\n",
    "\n",
    "\n",
    "def to_byte_tensor(item):\n",
    "    res = torch.ByteTensor(torch.ByteStorage.from_buffer(item.tobytes()))\n",
    "    w, h = item.size\n",
    "    return res.view(h, w, -1).permute(2, 0, 1)\n",
    "\n",
    "\n",
    "to_byte_tensor._order = 20\n",
    "\n",
    "\n",
    "def to_float_tensor(item):\n",
    "    return item.float().div_(255.0)\n",
    "\n",
    "\n",
    "to_float_tensor._order = 20"
   ]
  },
  {
   "cell_type": "markdown",
   "id": "5cbf536a-67e2-49f3-a2df-4b4b990be268",
   "metadata": {},
   "source": [
    "## Text List"
   ]
  },
  {
   "cell_type": "code",
   "execution_count": 25,
   "id": "d99d5c12-afdc-4479-87f2-3eb9edb70cbc",
   "metadata": {},
   "outputs": [],
   "source": [
    "def read_file(f_name):\n",
    "    with open(f_name, \"r\", encoding=\"utf8\") as f:\n",
    "        return f.read()"
   ]
  },
  {
   "cell_type": "code",
   "execution_count": 26,
   "id": "728b7bb7-2091-4bc1-8277-42985dd8838c",
   "metadata": {},
   "outputs": [],
   "source": [
    "class TextList(ItemList):\n",
    "    @classmethod\n",
    "    def from_files(cls, path, extensions=\".txt\", recurse=True, include=None, **kwargs):\n",
    "        return cls(get_files(path, extensions, recurse, include), path, **kwargs)\n",
    "\n",
    "    def get(self, i):\n",
    "        if isinstance(i, Path):\n",
    "            return read_file(i)\n",
    "        return i"
   ]
  },
  {
   "cell_type": "markdown",
   "id": "f2c9e364-9f9f-4a9c-a3a2-d708fdf94370",
   "metadata": {},
   "source": [
    "## Split Data"
   ]
  },
  {
   "cell_type": "code",
   "execution_count": 27,
   "id": "08f3886a-4ab0-4885-9ddb-06782de6e17b",
   "metadata": {},
   "outputs": [],
   "source": [
    "def grandparent_splitter(f_name, train_name=\"train\", valid_name=\"valid\"):\n",
    "    gp = f_name.parent.parent.name\n",
    "    if gp == valid_name:\n",
    "        return True\n",
    "    elif gp == train_name:\n",
    "        return False\n",
    "    return"
   ]
  },
  {
   "cell_type": "code",
   "execution_count": 28,
   "id": "644b3d02-f17c-4ddd-b47e-cfd8ff9bf85d",
   "metadata": {},
   "outputs": [],
   "source": [
    "def random_splitter(f_name, p_valid=0.2):\n",
    "    return np.random.random() < p_valid"
   ]
  },
  {
   "cell_type": "code",
   "execution_count": 29,
   "id": "d80d3232-743c-4540-b145-77897ddc9a41",
   "metadata": {},
   "outputs": [],
   "source": [
    "def split_by_func(items, func):\n",
    "    mask = [func(item) for item in items]\n",
    "    train = [item for item, m in zip(items, mask) if m is False]\n",
    "    valid = [item for item, m in zip(items, mask) if m]\n",
    "    return train, valid"
   ]
  },
  {
   "cell_type": "code",
   "execution_count": 30,
   "id": "b5e8e50c-8960-4b3f-8341-b74a5a1d2bd3",
   "metadata": {},
   "outputs": [],
   "source": [
    "class SplitData:\n",
    "    def __init__(self, train, valid):\n",
    "        self.train = train\n",
    "        self.valid = valid\n",
    "\n",
    "    def __getattr__(self, k):\n",
    "        return getattr(self.train, k)\n",
    "\n",
    "    def __setstate__(self, data):\n",
    "        self.__dict__.update(data)\n",
    "\n",
    "    @classmethod\n",
    "    def split_by_func(cls, item_list, func):\n",
    "        lists = map(item_list.new, split_by_func(item_list.items, func))\n",
    "        return cls(*lists)\n",
    "\n",
    "    def to_databunch(self, bs, c_in, c_out, **kwargs):\n",
    "        dls = get_dls(self.train, self.valid, bs, **kwargs)\n",
    "        return DataBunch(*dls, c_in=c_in, c_out=c_out)\n",
    "\n",
    "    def __repr__(self):\n",
    "        return f\"{self.__class__.__name__}\\nTrain: {self.train}\\nValid: {self.valid}\\n\""
   ]
  },
  {
   "cell_type": "markdown",
   "id": "a9f16686-7df5-4f72-a2b2-4e7a9165ee1e",
   "metadata": {},
   "source": [
    "## Processors"
   ]
  },
  {
   "cell_type": "code",
   "execution_count": 31,
   "id": "a224fe02-fc35-42ea-831f-01d3b24121d9",
   "metadata": {},
   "outputs": [],
   "source": [
    "class Processor:\n",
    "    def process(self, item):\n",
    "        return item"
   ]
  },
  {
   "cell_type": "code",
   "execution_count": 32,
   "id": "1a0a0276-d5e4-4e25-8f06-e08000bf714d",
   "metadata": {},
   "outputs": [],
   "source": [
    "class CategoryProcessor(Processor):\n",
    "    def __init__(self):\n",
    "        self.vocab = None\n",
    "\n",
    "    def __call__(self, items):\n",
    "        if self.vocab is None:\n",
    "            self.vocab = uniqueify(items)\n",
    "            self.otoi = {k: v for v, k in enumerate(self.vocab)}\n",
    "        return [self.process(item) for item in items]\n",
    "\n",
    "    def process(self, item):\n",
    "        return self.otoi[item]\n",
    "\n",
    "    def _deprocess(self, idx):\n",
    "        self.vocab[idx]\n",
    "\n",
    "    def deprocess(self, idxs):\n",
    "        return [self.vocab[idx] for i in idxs]"
   ]
  },
  {
   "cell_type": "markdown",
   "id": "284a3635-fa65-4d63-8dba-3eaf1140b73e",
   "metadata": {},
   "source": [
    "## Labeled Data"
   ]
  },
  {
   "cell_type": "code",
   "execution_count": 33,
   "id": "1269770b-5453-4656-a9b9-098090823ad8",
   "metadata": {},
   "outputs": [],
   "source": [
    "def parnet_labeler(f_name):\n",
    "    return f_name.parent.name"
   ]
  },
  {
   "cell_type": "code",
   "execution_count": 34,
   "id": "609f57bd-de7a-458d-9793-2a9c5cb789b4",
   "metadata": {},
   "outputs": [],
   "source": [
    "def _label_by_func(dataset, func, cls=ItemList):\n",
    "    return cls([func(f_name) for f_name in dataset.items], path=dataset.path)"
   ]
  },
  {
   "cell_type": "code",
   "execution_count": 35,
   "id": "79397199-3b75-4275-a24a-dc441c72393f",
   "metadata": {},
   "outputs": [],
   "source": [
    "class LabeledData:\n",
    "    def __init__(self, x, y, proc_x=None, proc_y=None):\n",
    "        self.x = self.process(x, proc_x)\n",
    "        self.y = self.process(y, proc_y)\n",
    "        self.proc_x = proc_x\n",
    "        self.proc_y = proc_y\n",
    "\n",
    "    def process(self, il, proc):\n",
    "        return il.new(compose(il.items, proc))\n",
    "\n",
    "    def __repr__(self):\n",
    "        return f\"{self.__class__.__name__}\\nx: {self.x}\\ny: {self.y}\\n\"\n",
    "\n",
    "    def __len__(self):\n",
    "        return len(self.x)\n",
    "\n",
    "    def __getitem__(self, idx):\n",
    "        return self.x[idx], self.y[idx]\n",
    "\n",
    "    def obj(self, items, idx, procs):\n",
    "        isint = isinstance(idx, int) or (\n",
    "            isinstance(idx, torch.LongTensor) and not idx.ndim\n",
    "        )\n",
    "        item = items[idx]\n",
    "        for proc in reversed(listify(procs)):\n",
    "            item = proc.deprocess(item) if isint else proc._deprocess(item)\n",
    "        return item\n",
    "\n",
    "    def x_obj(self, idx):\n",
    "        return self.obj(self.x, idx, self.proc_x)\n",
    "\n",
    "    def y_obj(self, idx):\n",
    "        return self.obj(self.y, idx, self.proc_y)\n",
    "\n",
    "    @classmethod\n",
    "    def label_by_func(cls, il, func, proc_x=None, proc_y=None):\n",
    "        return cls(il, _label_by_func(il, func), proc_x, proc_y)"
   ]
  },
  {
   "cell_type": "code",
   "execution_count": 36,
   "id": "3cae7267-3ced-42eb-9d02-8ec8a82a959b",
   "metadata": {},
   "outputs": [],
   "source": [
    "def label_by_func(splitted_data, func, proc_x=None, proc_y=None):\n",
    "    train = LabeledData.label_by_func(splitted_data.train, func, proc_x, proc_y)\n",
    "    valid = LabeledData.label_by_func(splitted_data.valid, func, proc_x, proc_y)\n",
    "    return SplitData(train, valid)"
   ]
  },
  {
   "cell_type": "markdown",
   "id": "c0ae1f2a-86d2-48bd-8db4-9750bf6435d0",
   "metadata": {
    "tags": []
   },
   "source": [
    "# Annealing"
   ]
  },
  {
   "cell_type": "code",
   "execution_count": 37,
   "id": "17c033fd-5592-4bd5-be3d-3697b8c2ce68",
   "metadata": {},
   "outputs": [],
   "source": [
    "def annealer(func):\n",
    "    wraps(func)\n",
    "\n",
    "    def annealer_wrapper(*args, **kwargs):\n",
    "        return partial(func, *args)\n",
    "\n",
    "    return annealer_wrapper\n",
    "\n",
    "\n",
    "@annealer\n",
    "def no_sched(start, end, pos):\n",
    "    return start\n",
    "\n",
    "\n",
    "@annealer\n",
    "def lin_sched(start, end, pos):\n",
    "    return start + (end - start) * pos\n",
    "\n",
    "\n",
    "@annealer\n",
    "def cos_sched(start, end, pos):\n",
    "    return start + (1 + math.cos(math.pi * (1 - pos))) * (end - start) / 2\n",
    "\n",
    "\n",
    "@annealer\n",
    "def exp_sched(start, end, pos):\n",
    "    return start * (end / start) ** pos\n",
    "\n",
    "\n",
    "def cos_1cycle_anneal(start, high, end):\n",
    "    return [cos_sched(start, high), cos_sched(high, end)]\n",
    "\n",
    "\n",
    "def combine_scheds(pcts, scheds):\n",
    "    assert sum(pcts) == 1.0\n",
    "    pcts = torch.tensor([0] + listify(pcts))\n",
    "    assert (pcts >= 0).all()\n",
    "    pcts = torch.cumsum(pcts, 0)\n",
    "\n",
    "    def _inner(pos):\n",
    "        idx = (pos >= pcts).nonzero().max()\n",
    "        actual_pos = (pos - pcts[idx]) / (pcts[idx + 1] - pcts[idx])\n",
    "        return scheds[idx](actual_pos)\n",
    "\n",
    "    return _inner"
   ]
  },
  {
   "cell_type": "markdown",
   "id": "fdfc2fbd-3462-4bc5-8a03-ac0944b46881",
   "metadata": {
    "tags": []
   },
   "source": [
    "# Callbacks"
   ]
  },
  {
   "cell_type": "code",
   "execution_count": 38,
   "id": "3135cfbc-8022-48e6-9696-203f6155acf3",
   "metadata": {},
   "outputs": [],
   "source": [
    "class Callback:\n",
    "    _order = 0\n",
    "\n",
    "    def set_learner(self, learner):\n",
    "        self.learner = learner\n",
    "\n",
    "    def __getattr__(self, k):\n",
    "        return getattr(self.learner, k)\n",
    "\n",
    "    @property\n",
    "    def name(self):\n",
    "        \"\"\"\n",
    "        Returns the name of the callback after removing the word `callback`\n",
    "        and then convert it to snake (split words by underscores).\n",
    "        \"\"\"\n",
    "        name = re.sub(r\"Callback$\", \"\", self.__class__.__name__)\n",
    "        return Callback.camel2snake(name or \"callback\")\n",
    "\n",
    "    def __call__(self, cb_name):\n",
    "        f = getattr(self, cb_name, None)\n",
    "        # if f and f():\n",
    "        #     return True\n",
    "        # return False\n",
    "        if f is not None:\n",
    "            f()\n",
    "\n",
    "    @staticmethod\n",
    "    def camel2snake(name):\n",
    "        \"\"\"\n",
    "        Convert name of callback by inserting underscores between small and capital\n",
    "        letters. For example, `TestCallback` becomes `test_callback`.\n",
    "        \"\"\"\n",
    "        pattern1 = re.compile(\"(.)([A-Z][a-z]+)\")\n",
    "        pattern2 = re.compile(\"([a-z0-9])([A-Z])\")\n",
    "        name = re.sub(pattern1, r\"\\1_\\2\", name)\n",
    "        return re.sub(pattern2, r\"\\1_\\2\", name).lower()"
   ]
  },
  {
   "cell_type": "markdown",
   "id": "b3f0b882-9eb7-4b8d-92c5-73a748724859",
   "metadata": {},
   "source": [
    "## TrainEval"
   ]
  },
  {
   "cell_type": "code",
   "execution_count": 39,
   "id": "21ffee6a-f571-48d2-a950-6abb7daf97cb",
   "metadata": {},
   "outputs": [],
   "source": [
    "class TrainEvalCallback(Callback):\n",
    "    \"\"\"\n",
    "    Tracks the number of iterations and epoch done and set training and eval\n",
    "    modes.\n",
    "    \"\"\"\n",
    "\n",
    "    _order = -10\n",
    "\n",
    "    def before_fit(self):\n",
    "        self.learner.n_iters = 0\n",
    "        self.learner.pct_train = 0\n",
    "\n",
    "    def after_batch(self):\n",
    "        if self.learner.training:\n",
    "            self.learner.n_iters += 1\n",
    "            # Assuming here that all batches are of the same size\n",
    "            # Otherwise, self.iters * self.n_epochs would be smaller\n",
    "            # for the last batch\n",
    "            self.learner.pct_train += 1 / (self.iters * self.n_epochs)\n",
    "\n",
    "    def before_train(self):\n",
    "        self.model.train()\n",
    "        self.learner.training = True\n",
    "        self.learner.pct_train = self.epoch / self.n_epochs\n",
    "\n",
    "    def before_validate(self):\n",
    "        self.model.eval()\n",
    "        self.learner.training = False"
   ]
  },
  {
   "cell_type": "markdown",
   "id": "927a05b9-340c-4b9c-81a8-6e498908e54e",
   "metadata": {},
   "source": [
    "## Average Stats"
   ]
  },
  {
   "cell_type": "code",
   "execution_count": 40,
   "id": "6e6be6ee-2e71-456c-934a-560788519438",
   "metadata": {},
   "outputs": [],
   "source": [
    "class AvgStats:\n",
    "    def __init__(self, metrics, training=True):\n",
    "        self.metrics = listify(metrics)\n",
    "        self.training = training\n",
    "\n",
    "    def reset(self):\n",
    "        self.tot_loss = 0\n",
    "        self.count = 0\n",
    "        self.tot_metrics = [0.0] * len(self.metrics)\n",
    "\n",
    "    @property\n",
    "    def all_stats(self):\n",
    "        \"\"\"Returns a list of both loss and metrics.\"\"\"\n",
    "        return [self.tot_loss.item()] + self.tot_metrics\n",
    "\n",
    "    @property\n",
    "    def avg_stats(self):\n",
    "        \"\"\"Returns the average of loss/metrics.\"\"\"\n",
    "        return [o / self.count for o in self.all_stats]\n",
    "\n",
    "    def __repr__(self):\n",
    "        if not self.count:\n",
    "            return \"\"\n",
    "        return f\"{'train' if self.training else 'valid'}: {self.avg_stats}\"\n",
    "\n",
    "    def accumulate(self, learner):\n",
    "        \"\"\"Evaluate metrics and accumulate them to at the epoch level.\"\"\"\n",
    "        bs = learner.xb.shape[0]\n",
    "        self.count += bs\n",
    "        self.tot_loss += learner.loss * bs\n",
    "        for i, metric in enumerate(self.metrics):\n",
    "            self.tot_metrics[i] += metric(learner.pred, learner.yb) * bs"
   ]
  },
  {
   "cell_type": "code",
   "execution_count": 41,
   "id": "edf31b16-08e8-4997-9df2-8f8510b3473e",
   "metadata": {},
   "outputs": [],
   "source": [
    "class AvgStatsCallback(Callback):\n",
    "    _order = -10\n",
    "\n",
    "    def __init__(self, metrics):\n",
    "        self.train_stats = AvgStats(metrics, True)\n",
    "        self.valid_stats = AvgStats(metrics, False)\n",
    "\n",
    "    def before_fit(self):\n",
    "        metrics_names = [\"loss\"] + [\n",
    "            metric.__name__ for metric in self.train_stats.metrics\n",
    "        ]\n",
    "        names = (\n",
    "            [\"epoch\"]\n",
    "            + [f\"train_{name}\" for name in metrics_names]\n",
    "            + [f\"valid_{name}\" for name in metrics_names]\n",
    "            + [\"time\"]\n",
    "        )\n",
    "        self.logger(names)\n",
    "\n",
    "    def before_epoch(self):\n",
    "        \"\"\"Reset metrics/loss.\"\"\"\n",
    "        self.train_stats.reset()\n",
    "        self.valid_stats.reset()\n",
    "        self.start_time = time.time()\n",
    "\n",
    "    def after_loss(self):\n",
    "        \"\"\"Evaluate metrics and accumulate them.\"\"\"\n",
    "        stats = self.train_stats if self.training else self.valid_stats\n",
    "        with torch.no_grad():\n",
    "            stats.accumulate(self.learner)\n",
    "\n",
    "    def after_epoch(self):\n",
    "        stats = [str(self.epoch)]\n",
    "        for o in [self.train_stats, self.valid_stats]:\n",
    "            stats += [f\"{v:.6f}\" for v in o.avg_stats]\n",
    "        stats += [format_time(time.time() - self.start_time)]\n",
    "        self.logger(stats)"
   ]
  },
  {
   "cell_type": "markdown",
   "id": "ebde3d10-8048-4efc-8c5a-fab6cc4615ae",
   "metadata": {},
   "source": [
    "## Progress Callback"
   ]
  },
  {
   "cell_type": "code",
   "execution_count": 42,
   "id": "38fa944b-8906-401a-8092-5cf32402608f",
   "metadata": {},
   "outputs": [],
   "source": [
    "class ProgressCallback(Callback):\n",
    "    \"\"\"Add progress bar as logger for tracking metrics.\"\"\"\n",
    "\n",
    "    _order = -20\n",
    "\n",
    "    def before_fit(self):\n",
    "        self.mbar = master_bar(range(self.learner.n_epochs))\n",
    "        self.mbar.on_iter_begin()\n",
    "        # Overwrite default learner logger\n",
    "        self.learner.logger = partial(self.mbar.write, table=True)\n",
    "\n",
    "    def after_fit(self):\n",
    "        self.mbar.on_iter_end()\n",
    "\n",
    "    def after_batch(self):\n",
    "        self.pb.update(self.learner.iter)\n",
    "\n",
    "    def before_train(self):\n",
    "        self.set_pb()\n",
    "\n",
    "    def before_validate(self):\n",
    "        self.set_pb()\n",
    "\n",
    "    def set_pb(self):\n",
    "        self.pb = progress_bar(self.learner.dl, parent=self.mbar)\n",
    "        self.mbar.update(self.epoch)"
   ]
  },
  {
   "cell_type": "markdown",
   "id": "d73c1578-379f-4351-8889-33cab1f92530",
   "metadata": {},
   "source": [
    "## Cuda"
   ]
  },
  {
   "cell_type": "code",
   "execution_count": 43,
   "id": "6db01427-1bc1-4066-9baf-54c0449a1595",
   "metadata": {},
   "outputs": [],
   "source": [
    "class CudaCallback(Callback):\n",
    "    def __init__(self, device):\n",
    "        self.device = device\n",
    "\n",
    "    def before_fit(self):\n",
    "        self.learner.model.to(self.device)\n",
    "\n",
    "    def before_batch(self):\n",
    "        self.learner.xb = self.learner.xb.to(self.device)\n",
    "        self.learner.yb = self.learner.yb.to(self.device)"
   ]
  },
  {
   "cell_type": "markdown",
   "id": "0577efbb-8e7e-4e04-8c69-3292d7f00cea",
   "metadata": {},
   "source": [
    "## Recorder"
   ]
  },
  {
   "cell_type": "code",
   "execution_count": 44,
   "id": "041cf909-ca02-4c44-b347-ce2d190abd36",
   "metadata": {},
   "outputs": [],
   "source": [
    "class Recorder(Callback):\n",
    "    _order = 50\n",
    "\n",
    "    def before_fit(self):\n",
    "        self.lrs = [[] for _ in self.opt.param_groups]\n",
    "        self.losses = []\n",
    "\n",
    "    def after_batch(self):\n",
    "        if self.training:\n",
    "            for pg, lr in zip(self.opt.param_groups, self.lrs):\n",
    "                lr.append(pg[\"lr\"])\n",
    "            self.losses.append(self.loss.detach().cpu())\n",
    "\n",
    "    def plot_lr(self, pgid=-1):\n",
    "        \"\"\"\n",
    "        Plot learning rates in the parameter group id `pgid`, default to the last parameter group.\n",
    "        \"\"\"\n",
    "        plt.plot(self.lrs[pgid])\n",
    "\n",
    "    def plot_loss(self, skip_last=0):\n",
    "        \"\"\"\n",
    "        Plot losses, optionally skip last `skip_last` losses.\n",
    "        \"\"\"\n",
    "        n = len(self.losses) - skip_last\n",
    "        plt.plot(self.losses[:n])\n",
    "\n",
    "    def plot(self, skip_last=0, pgid=-1):\n",
    "        \"\"\"\n",
    "        Plot both losses and learning rates.\n",
    "        \"\"\"\n",
    "        losses = [o.item() for o in self.losses]\n",
    "        lrs = self.lrs[pgid]\n",
    "        n = len(losses) - skip_last\n",
    "        plt.xscale(\"log\")\n",
    "        plt.plot(lrs[:n], losses[:n])"
   ]
  },
  {
   "cell_type": "markdown",
   "id": "625f1121-c596-4614-aee0-6efb0710cfa4",
   "metadata": {},
   "source": [
    "## Parameter Scheduler"
   ]
  },
  {
   "cell_type": "code",
   "execution_count": 45,
   "id": "c711b367-0add-4b9e-bd50-e45febccddc7",
   "metadata": {
    "tags": []
   },
   "outputs": [],
   "source": [
    "class ParamScheduler(Callback):\n",
    "    _order = 60\n",
    "\n",
    "    def __init__(self, pname, sched_funcs):\n",
    "        self.pname = pname\n",
    "        self.sched_funcs = sched_funcs\n",
    "\n",
    "    def before_fit(self):\n",
    "        if not isinstance(self.sched_funcs, (list, tuple)):\n",
    "            self.sched_funcs = [self.sched_funcs] * len(self.opt.param_groups)\n",
    "\n",
    "    def set_param(self):\n",
    "        assert_msg = (\n",
    "            f\"Number of schedulers should match number of parameter groups, \"\n",
    "            f\"{print(len(self.opt.param_groups), len(self.sched_funcs))}\"\n",
    "        )\n",
    "        assert len(self.opt.param_groups) == len(self.sched_funcs), assert_msg\n",
    "        for pg, sched_func in zip(self.opt.param_groups, self.sched_funcs):\n",
    "            pg[self.pname] = sched_func(self.pct_train)\n",
    "\n",
    "    def before_batch(self):\n",
    "        if self.training:\n",
    "            self.set_param()"
   ]
  },
  {
   "cell_type": "markdown",
   "id": "64c7ecf4-3d44-4686-ab53-e75436af907a",
   "metadata": {},
   "source": [
    "## Learning Rate Finder"
   ]
  },
  {
   "cell_type": "code",
   "execution_count": 46,
   "id": "60919cde-0577-4ecb-a936-cddc2788d007",
   "metadata": {},
   "outputs": [],
   "source": [
    "class LR_Finder(Callback):\n",
    "    _order = 60\n",
    "\n",
    "    def __init__(self, max_iter=100, min_lr=1e-6, max_lr=10):\n",
    "        self.max_iter = max_iter\n",
    "        self.min_lr = min_lr\n",
    "        self.max_lr = max_lr\n",
    "        self.best_loss = 1e9\n",
    "\n",
    "    def before_batch(self):\n",
    "        if not self.training:\n",
    "            return\n",
    "        pos = self.n_iters / self.max_iter\n",
    "        lr = self.min_lr * (self.max_lr / self.min_lr) ** pos\n",
    "        for pg in self.opt.param_groups:\n",
    "            pg[\"lr\"] = lr\n",
    "\n",
    "    def after_step(self):\n",
    "        if self.n_iters >= self.max_iter or self.loss > self.best_loss * 10:\n",
    "            raise CancelFitException()\n",
    "        elif self.loss < self.best_loss:\n",
    "            self.best_loss = self.loss"
   ]
  },
  {
   "cell_type": "markdown",
   "id": "f9985120-7b0a-4d83-8632-1846eed461df",
   "metadata": {},
   "source": [
    "## Mixup"
   ]
  },
  {
   "cell_type": "code",
   "execution_count": 47,
   "id": "d0e1a88d-8da4-4005-ba4d-bc8049beb383",
   "metadata": {},
   "outputs": [],
   "source": [
    "class NoneReduce:\n",
    "    def __init__(self, loss_func):\n",
    "        self.loss_func = loss_func\n",
    "        self.old_reduction = None\n",
    "\n",
    "    def __enter__(self):\n",
    "        if hasattr(self.loss_func, \"reduction\"):\n",
    "            self.old_reduction = getattr(self.loss_func, \"reduction\")\n",
    "            setattr(self.loss_func, \"reduction\", \"none\")\n",
    "            return self.loss_func\n",
    "        else:\n",
    "            return partial(self.loss_func, reduction=\"none\")\n",
    "\n",
    "    def __exit__(self, exc_type, exc_val, traceback):\n",
    "        if self.old_reduction is not None:\n",
    "            setattr(self.loss_func, \"reduction\", self.old_reduction)"
   ]
  },
  {
   "cell_type": "code",
   "execution_count": 48,
   "id": "cdef6e00-c977-4582-96af-bd33f6e8cbf2",
   "metadata": {},
   "outputs": [],
   "source": [
    "def reduce_loss(loss, reduction=None):\n",
    "    return (\n",
    "        loss.mean()\n",
    "        if reduction == \"mean\"\n",
    "        else loss.sum()\n",
    "        if reduction == \"sum\"\n",
    "        else loss\n",
    "    )"
   ]
  },
  {
   "cell_type": "code",
   "execution_count": 49,
   "id": "d648cd21-8125-4853-ac0f-4a5f18f08df6",
   "metadata": {},
   "outputs": [],
   "source": [
    "class Mixup(Callback):\n",
    "    _order = 90\n",
    "\n",
    "    def __init__(self, alpha=0.4):\n",
    "        self.distrib = torch.distributions.beta.Beta(\n",
    "            torch.tensor([alpha]), torch.tensor([alpha])\n",
    "        )\n",
    "\n",
    "    def before_fit(self):\n",
    "        self.learner.loss_func, self.old_loss_func = (\n",
    "            self.loss_func,\n",
    "            self.learner.loss_func,\n",
    "        )\n",
    "\n",
    "    def after_fit(self):\n",
    "        self.learner.loss_func = self.old_loss_func\n",
    "\n",
    "    def before_batch(self):\n",
    "        λ = self.distrib.sample((len(self.learner.xb),)).to(self.learner.xb.device)\n",
    "        λ = torch.stack([λ, 1 - λ], dim=1)\n",
    "        self.λ = λ.max(1)[0].view(-1, 1, 1, 1)\n",
    "        shuffle = torch.randperm(len(self.learner.xb))\n",
    "        self.learner.xb = self.learner.xb * self.λ + self.learner.xb[shuffle] * (\n",
    "            1 - self.λ\n",
    "        )\n",
    "        self.yb1 = self.learner.yb[shuffle]\n",
    "\n",
    "    def loss_func(self, pred, yb):\n",
    "        if not self.training:\n",
    "            return self.old_loss_func(pred, yb)\n",
    "        with NoneReduce(self.old_loss_func) as loss_func:\n",
    "            loss1 = loss_func(pred, self.yb)\n",
    "            loss2 = loss_func(pred, self.yb1)\n",
    "        loss = loss1 * self.λ + loss2 * (1 - self.λ)\n",
    "        return reduce_loss(loss, getattr(self.old_loss_func, \"reduction\", \"mean\"))"
   ]
  },
  {
   "cell_type": "markdown",
   "id": "2644eb19-288c-4be8-9833-c4e5f7040fd4",
   "metadata": {},
   "source": [
    "## Batch TransformX"
   ]
  },
  {
   "cell_type": "code",
   "execution_count": 50,
   "id": "17250687-b63e-47cb-a1c1-2c442a33f2ec",
   "metadata": {},
   "outputs": [],
   "source": [
    "class BatchTransformXCallback(Callback):\n",
    "    _order = 2\n",
    "\n",
    "    def __init__(self, tfm):\n",
    "        self.tfm = tfm\n",
    "\n",
    "    def before_batch(self):\n",
    "        self.learner.xb = self.tfm(self.learner.xb)"
   ]
  },
  {
   "cell_type": "markdown",
   "id": "891e1d6c-69cb-4952-bbe4-641892f5c487",
   "metadata": {},
   "source": [
    "## Model Resetter"
   ]
  },
  {
   "cell_type": "code",
   "execution_count": 51,
   "id": "5f6c637c-d6af-474a-b509-b2fefc85e932",
   "metadata": {},
   "outputs": [],
   "source": [
    "class ModelResetter(Callback):\n",
    "    def before_train(self):\n",
    "        self.model.reset()\n",
    "\n",
    "    def before_validate(self):\n",
    "        self.model.reset()\n",
    "\n",
    "    def after_fit(self):\n",
    "        self.model.reset()"
   ]
  },
  {
   "cell_type": "markdown",
   "id": "fcd6ea12-dc15-46a5-941b-154c352bc142",
   "metadata": {},
   "source": [
    "# Learner"
   ]
  },
  {
   "cell_type": "markdown",
   "id": "4cf0eaf1-1bf3-44d2-96c2-915cb2797a8b",
   "metadata": {},
   "source": [
    "Basic class handling tweaks of the training loop by changing a [Learner](https://dev.fast.ai/13a_learner#Learner) in various events.\n",
    "\n",
    "The training loop consists of a minimal set of instructions; looping through the data we:\n",
    "- compute the output of the model from the input\n",
    "- calculate a loss between this output and the desired target\n",
    "- compute the gradients of this loss with respect to all the model parameters\n",
    "- update the parameters accordingly\n",
    "- zero all the gradients\n",
    "\n",
    "Any tweak of this training loop is defined in a [Callback](https://dev.fast.ai/callback.core#Callback) to avoid over-complicating the code of the training loop, and to make it easy to mix and match different techniques (since they'll be defined in different callbacks). A callback can implement actions on the following events:\n",
    "1. `before_fit`: called before doing anything, ideal for initial setup\n",
    "1. `before_epoch`: called at the beginning of each epoch, useful for any behavior you need to reset at each epoch\n",
    "1. `before_train`: called at the beginning of the training part of an epoch\n",
    "1. `before_batch`: called at the beginning of each batch, just after drawing said batch. It can be used to do any setup necessary for the batch (like hyper-parameter scheduling) or to change the input/target before it goes in the model (change of the input with techniques like mixup for instance)\n",
    "1. `after_pred`: called after computing the output of the model on the batch. It can be used to change that output before it's fed to the loss\n",
    "1. `after_loss`: called after the loss has been computed, but before the backward pass. It can be used to add any penalty to the loss (AR or TAR in RNN training for instance)\n",
    "1. `after_backward`: called after the backward pass, but before the update of the parameters. It can be used to do any change to the gradients before said update (gradient clipping for instance)\n",
    "1. `after_step`: called after the step and before the gradients are zeroed\n",
    "1. `after_cancel_batch`: reached immediately after a `CancelBatchException` before proceeding to `after_batch`\n",
    "1. `after_batch`: called at the end of a batch, for any clean-up before the next one\n",
    "1. `after_cancel_train`: reached immediately after a `CancelTrainException` before proceeding to `after_train`\n",
    "1. `after_train`: called at the end of the training phase of an epoch\n",
    "1. `before_validate`: called at the beginning of the validation phase of an epoch, useful for any setup needed specifically for validation\n",
    "1. `after_cancel_validate`: reached immediately after a `CancelValidateException` before proceeding to `after_validate`\n",
    "1. `after_validate`: called at the end of the validation part of an epoch\n",
    "1. `after_cancel_epoch`: reached immediately after a `CancelEpochException` before proceeding to `after_epoch`\n",
    "1. `after_epoch`: called at the end of an epoch, for any clean-up before the next one\n",
    "1. `after_cancel_fit`: reached immediately after a `CancelFitException` before proceeding to `after_fit`\n",
    "1. `after_fit`: called at the end of training, for final clean-up"
   ]
  },
  {
   "cell_type": "code",
   "execution_count": 52,
   "id": "d252ccfe-991a-481b-a7b2-6b164fbb3d1a",
   "metadata": {},
   "outputs": [],
   "source": [
    "class CancelFitException(Exception):\n",
    "    \"\"\"Stop training and exit\"\"\"\n",
    "\n",
    "\n",
    "class CancelEpochException(Exception):\n",
    "    \"\"\"Stop current epoch and move to next epoch.\"\"\"\n",
    "\n",
    "\n",
    "class CancelTrainException(Exception):\n",
    "    \"\"\"Stop training current batch and move to validation.\"\"\"\n",
    "\n",
    "\n",
    "class CancelValidException(Exception):\n",
    "    \"\"\"Stop validation phase and move to next epoch\"\"\"\n",
    "\n",
    "\n",
    "class CancelBatchException(Exception):\n",
    "    \"\"\"Stop current batch and move to next batch.\"\"\""
   ]
  },
  {
   "cell_type": "code",
   "execution_count": 53,
   "id": "6511febc-9ea1-4edd-8291-b580ef28f928",
   "metadata": {},
   "outputs": [],
   "source": [
    "def params_getter(model):\n",
    "    return model.parameters()"
   ]
  },
  {
   "cell_type": "code",
   "execution_count": 54,
   "id": "dae21198-c8d7-475c-bb6b-d6100532baff",
   "metadata": {},
   "outputs": [],
   "source": [
    "class Learner:\n",
    "    ALL_CBS: set[str] = {\n",
    "        \"before_fit\",\n",
    "        \"before_epoch\",\n",
    "        \"before_train\",\n",
    "        \"before_validate\",\n",
    "        \"before_batch\",\n",
    "        \"after_pred\",\n",
    "        \"after_loss\",\n",
    "        \"after_backward\",\n",
    "        \"after_step\",\n",
    "        \"after_cancel_batch\",\n",
    "        \"after_batch\",\n",
    "        \"after_cancel_train\",\n",
    "        \"after_train\",\n",
    "        \"after_cancel_validate\",\n",
    "        \"after_validate\",\n",
    "        \"after_cancel_epoch\",\n",
    "        \"after_epoch\",\n",
    "        \"after_cancel_fit\",\n",
    "        \"after_fit\",\n",
    "    }\n",
    "\n",
    "    def __init__(\n",
    "        self,\n",
    "        model,\n",
    "        data,\n",
    "        loss_func,\n",
    "        opt_func,\n",
    "        lr=1e-2,\n",
    "        splitter=params_getter,\n",
    "        cbs=None,\n",
    "        cb_funcs=None,\n",
    "    ):\n",
    "        \"\"\"\n",
    "        Learner is a basic class that handles training loop of pytorch model and utilize a systems of callbacks that makes training loop very customizable and extensible. You just need to provide a\n",
    "        \"\"\"\n",
    "        self.model = model\n",
    "        self.data = data\n",
    "        self.loss_func = loss_func\n",
    "        self.opt_func = opt_func\n",
    "        self.lr = lr\n",
    "        self.splitter = splitter\n",
    "        self.opt, self.training = None, False\n",
    "        # We can customize it & use progress bar or log to a file\n",
    "        self.logger = print\n",
    "\n",
    "        # Callbacks\n",
    "        self.cbs = []\n",
    "        # self.add_cb(TrainEvalCallback())\n",
    "        # self.add_cb(ProgressCallback())\n",
    "        # self.add_cb(Recorder())\n",
    "        # Add default useful callbacks\n",
    "        self.add_cbs([TrainEvalCallback(), ProgressCallback(), Recorder()])\n",
    "        self.add_cbs(cbs)\n",
    "        self.add_cbs(cb_func() for cb_func in listify(cb_funcs))\n",
    "\n",
    "    def add_cbs(self, cbs):\n",
    "        for cb in setify(cbs):\n",
    "            self.add_cb(cb)\n",
    "\n",
    "    def add_cb(self, cb):\n",
    "        cb.set_learner(self)\n",
    "        setattr(self, cb.name, cb)\n",
    "        self.cbs.append(cb)\n",
    "\n",
    "    def remove_cbs(self, cbs):\n",
    "        for cb in cbs:\n",
    "            self.cbs.remove(cb)\n",
    "\n",
    "    def _one_batch(self, i, xb, yb):\n",
    "        self.iter = i\n",
    "        self.xb, self.yb = xb, yb\n",
    "        try:\n",
    "            self(\"before_batch\")\n",
    "            self.pred = self.model(self.xb)\n",
    "            self(\"after_pred\")\n",
    "            self.loss = self.loss_func(self.pred, self.yb)\n",
    "            self(\"after_loss\")\n",
    "            if self.training:\n",
    "                self.loss.backward()\n",
    "                self(\"after_backward\")\n",
    "                self.opt.step()\n",
    "                self(\"after_step\")\n",
    "                self.opt.zero_grad()\n",
    "        except CancelBatchException:\n",
    "            self(\"after_cancel_batch\")\n",
    "        finally:\n",
    "            self(\"after_batch\")\n",
    "\n",
    "    def _all_batches(self, dl):\n",
    "        self.iters = len(dl)\n",
    "        for i, (xb, yb) in enumerate(dl):\n",
    "            self._one_batch(i, xb, yb)\n",
    "\n",
    "    def fit(self, epochs, cbs=None, reset_opt=False):\n",
    "        cbs = listify(cbs)\n",
    "        self.add_cbs(cbs)\n",
    "        if reset_opt or not self.opt:\n",
    "            self.opt = self.opt_func(self.splitter(self.model), lr=self.lr)\n",
    "        self.n_epochs = epochs\n",
    "        self.loss = torch.tensor(0.0)\n",
    "        try:\n",
    "            self(\"before_fit\")\n",
    "            for epoch in range(self.n_epochs):\n",
    "                try:\n",
    "                    self.epoch = epoch\n",
    "                    self.dl = self.data.train_dl\n",
    "                    self(\"before_epoch\")\n",
    "\n",
    "                    try:\n",
    "                        self(\"before_train\")\n",
    "                        self._all_batches(self.data.train_dl)\n",
    "                    except CancelTrainException:\n",
    "                        self(\"after_cancel_train\")\n",
    "                    finally:\n",
    "                        self(\"after_train\")\n",
    "\n",
    "                    try:\n",
    "                        self.dl = self.data.valid_dl\n",
    "                        self(\"before_validate\")\n",
    "                        with torch.no_grad():\n",
    "                            self._all_batches(self.data.valid_dl)\n",
    "                    except CancelValidException:\n",
    "                        self(\"after_cancel_validate\")\n",
    "                    finally:\n",
    "                        self(\"after_validate\")\n",
    "                except CancelEpochException:\n",
    "                    self(\"after_cancel_epoch\")\n",
    "                finally:\n",
    "                    self(\"after_epoch\")\n",
    "        except CancelFitException:\n",
    "            self(\"after_cancel_fit\")\n",
    "        finally:\n",
    "            self(\"after_fit\")\n",
    "            # self.remove_cbs(cbs)\n",
    "\n",
    "    def __call__(self, cb_name):\n",
    "        assert cb_name in Learner.ALL_CBS, f\"{cb_name} isn't a valid callback name\"\n",
    "        # res = False\n",
    "        for cb in sorted(self.cbs, key=lambda x: x._order):\n",
    "            # res = cb(cb_name) and res\n",
    "            cb(cb_name)\n",
    "        # return res"
   ]
  },
  {
   "cell_type": "markdown",
   "id": "bf7cd463-6524-456e-9524-e9268018cced",
   "metadata": {},
   "source": [
    "# Modeling Utils"
   ]
  },
  {
   "cell_type": "code",
   "execution_count": 55,
   "id": "7181995c-4359-4725-a109-a0d0544028bc",
   "metadata": {},
   "outputs": [],
   "source": [
    "def lin_comb(x, y, alpha):\n",
    "    return alpha * x + (1 - alpha) * y"
   ]
  },
  {
   "cell_type": "code",
   "execution_count": 56,
   "id": "19e13ff7-fd07-4ad1-844e-7f7ea1cd1082",
   "metadata": {},
   "outputs": [],
   "source": [
    "class GeneralRelu(nn.Module):\n",
    "    def __init__(self, leak=None, sub=None, maxv=None):\n",
    "        super().__init__()\n",
    "        self.leak = leak\n",
    "        self.sub = sub\n",
    "        self.maxv = maxv\n",
    "\n",
    "    def forward(self, x):\n",
    "        x = F.leaky_relu(x, leak) if self.leak is not None else F.relu(x)\n",
    "        if self.sub is not None:\n",
    "            x.sub_(self.sub)\n",
    "        if self.maxv is not None:\n",
    "            x.clamp_max_()\n",
    "        return x"
   ]
  },
  {
   "cell_type": "code",
   "execution_count": 57,
   "id": "d0db01b2-f36f-4039-9f5d-6633109a4642",
   "metadata": {},
   "outputs": [],
   "source": [
    "def conv_layer(ni, nf, ks, stride=2, **kwargs):\n",
    "    return nn.Sequential(\n",
    "        nn.Conv2d(ni, nf, ks, padding=ks // 2, stride=stride), GeneralRelu(**kwargs)\n",
    "    )"
   ]
  },
  {
   "cell_type": "code",
   "execution_count": 58,
   "id": "0ce0dce8-6cc9-446f-9a6b-050da8e60010",
   "metadata": {},
   "outputs": [],
   "source": [
    "class Lambda(nn.Module):\n",
    "    def __init__(self, func):\n",
    "        super().__init__()\n",
    "        self.func = func\n",
    "\n",
    "    def forward(self, x):\n",
    "        return self.func(x)"
   ]
  },
  {
   "cell_type": "code",
   "execution_count": 59,
   "id": "6c5a481a-19ff-44a6-95da-aa1f4b034ec6",
   "metadata": {},
   "outputs": [],
   "source": [
    "def flatten(x):\n",
    "    return x.view(x.shape[0], -1)"
   ]
  },
  {
   "cell_type": "code",
   "execution_count": 60,
   "id": "85cc9c76-6e50-4ff4-a9c4-41571320a34f",
   "metadata": {},
   "outputs": [
    {
     "data": {
      "text/plain": [
       "Sequential(\n",
       "  (0): Conv2d(3, 32, kernel_size=(3, 3), stride=(2, 2), padding=(1, 1))\n",
       "  (1): GeneralRelu()\n",
       ")"
      ]
     },
     "execution_count": 60,
     "metadata": {},
     "output_type": "execute_result"
    }
   ],
   "source": [
    "conv_layer(3, 32, 3, leak=True)"
   ]
  },
  {
   "cell_type": "code",
   "execution_count": 61,
   "id": "e4e39a30-4e8a-41cd-911a-877930413077",
   "metadata": {},
   "outputs": [],
   "source": [
    "def prev_pow_2(x):\n",
    "    return 2 ** math.floor(math.log2(x))\n",
    "\n",
    "\n",
    "def get_cnn_layers(data, nfs, layer, **kwargs):\n",
    "    def f(ni, nf, stride=2):\n",
    "        return layer(ni, nf, 3, stride=stride, **kwargs)\n",
    "\n",
    "    l1 = data.c_in\n",
    "    l2 = prev_pow_2(l1 * 3 * 3)\n",
    "    layers = [f(l1, l2, stride=1), f(l2, l2 * 2, stride=2), f(l2 * 2, l2 * 4, stride=2)]\n",
    "    nfs = [l2 * 4] + nfs\n",
    "    layers += [f(nfs[i], nfs[i + 1]) for i in range(len(nfs) - 1)]\n",
    "    layers += [nn.AdaptiveAvgPool2d(1), Lambda(flatten), nn.Linear(nfs[-1], data.c_out)]\n",
    "    return layers"
   ]
  },
  {
   "cell_type": "code",
   "execution_count": 62,
   "id": "78835a7e-96a9-4f95-825a-2dbc97cd8042",
   "metadata": {},
   "outputs": [],
   "source": [
    "def get_cnn_model(data, nfs, layer, **kwargs):\n",
    "    return nn.Sequential(*get_cnn_layers(data, nfs, layer, **kwargs))"
   ]
  },
  {
   "cell_type": "code",
   "execution_count": 63,
   "id": "3d9e1e34-040e-4157-b773-752ba05b10ea",
   "metadata": {},
   "outputs": [],
   "source": [
    "def get_learner(nfs, data, lr, layer, cbs=None, opt_func=None, **kwargs):\n",
    "    model = get_cnn_model(data, nfs, layer, **kwargs)\n",
    "    init_cnn(model)\n",
    "    return Learner(model, data, lr=lr, cbs=cbs, opt_func=opt_func)"
   ]
  },
  {
   "cell_type": "code",
   "execution_count": 64,
   "id": "1ef0d0ac-ceab-4608-9701-957661ded9fe",
   "metadata": {},
   "outputs": [],
   "source": [
    "def init_cnn(model, uniform=False):\n",
    "    initializer = nn.init.kaiming_uniform_ if uniform else nn.init.kaiming_normal_\n",
    "    for module in model:\n",
    "        if isinstance(module, nn.Sequential):\n",
    "            initializer(module[0].weight.data)\n",
    "            module[0].bias.data.zero_()"
   ]
  },
  {
   "cell_type": "code",
   "execution_count": 65,
   "id": "b441d8f4-8ff1-4baf-b136-e48f6f527fcb",
   "metadata": {},
   "outputs": [],
   "source": [
    "def accuracy(pred, target):\n",
    "    return (pred.argmax(dim=1) == target).float().mean()"
   ]
  },
  {
   "cell_type": "code",
   "execution_count": 66,
   "id": "e24288c4-d5c1-4549-a6c0-ff68e18f3bb1",
   "metadata": {},
   "outputs": [],
   "source": [
    "def cross_entropy_flat(input, target):\n",
    "    bs, sl = target.size()\n",
    "    return F.cross_entropy(input.view(bs * sl, -1), target.view(bs * sl))\n",
    "\n",
    "\n",
    "def accuracy_flat(input, target):\n",
    "    bs, sl = target.size()\n",
    "    return accuracy(input.view(bs * sl, -1), target.view(bs * sl))"
   ]
  },
  {
   "cell_type": "markdown",
   "id": "973c7a5d-91af-4bce-89d9-3e9f05f4a040",
   "metadata": {
    "tags": []
   },
   "source": [
    "# Training"
   ]
  },
  {
   "cell_type": "code",
   "execution_count": 67,
   "id": "f047fab6-e5cd-416e-815d-88873a3bafe3",
   "metadata": {},
   "outputs": [],
   "source": [
    "img_net_path = untar_data(URLs.IMAGENETTE_160)"
   ]
  },
  {
   "cell_type": "code",
   "execution_count": 68,
   "id": "d037f550-92a8-4673-91cb-00cced1c137d",
   "metadata": {},
   "outputs": [
    {
     "name": "stdout",
     "output_type": "stream",
     "text": [
      "noisy_imagenette.csv \u001b[1m\u001b[36mtrain\u001b[m\u001b[m                \u001b[1m\u001b[36mval\u001b[m\u001b[m\n"
     ]
    }
   ],
   "source": [
    "!ls {img_net_path}"
   ]
  },
  {
   "cell_type": "code",
   "execution_count": 69,
   "id": "bb17bdd2-92a3-48d7-88fb-91e7abc747cd",
   "metadata": {},
   "outputs": [
    {
     "data": {
      "text/plain": [
       "Path('/Users/imad/.fastai/data/imagenette2-160')"
      ]
     },
     "execution_count": 69,
     "metadata": {},
     "output_type": "execute_result"
    }
   ],
   "source": [
    "img_net_path"
   ]
  },
  {
   "cell_type": "code",
   "execution_count": 153,
   "id": "80f2270c-06d8-4553-a9ce-f159c0bab806",
   "metadata": {},
   "outputs": [],
   "source": [
    "# Prepare Data\n",
    "tfms = [MakeRGB(), ResizeFixed(128), to_byte_tensor, to_float_tensor]\n",
    "image_list = ImageList.from_files(img_net_path, tfms=tfms)\n",
    "splitted_data = SplitData.split_by_func(\n",
    "    image_list,\n",
    "    partial(grandparent_splitter, train_name=\"train\", valid_name=\"val\"),\n",
    ")\n",
    "labeled_data = label_by_func(\n",
    "    splitted_data, parnet_labeler, proc_y=[CategoryProcessor()]\n",
    ")\n",
    "data = labeled_data.to_databunch(128, c_in=3, c_out=10, num_workers=4)"
   ]
  },
  {
   "cell_type": "code",
   "execution_count": 155,
   "id": "a0f887be-cf4e-4241-a4e0-bd592277ac51",
   "metadata": {},
   "outputs": [
    {
     "data": {
      "text/plain": [
       "SplitData\n",
       "Train: ImageList: (9469 items)\n",
       "[Path('/Users/imad/.fastai/data/imagenette2-160/train/n03394916/ILSVRC2012_val_00046669.JPEG'), Path('/Users/imad/.fastai/data/imagenette2-160/train/n03394916/n03394916_58454.JPEG'), Path('/Users/imad/.fastai/data/imagenette2-160/train/n03394916/n03394916_32588.JPEG'), Path('/Users/imad/.fastai/data/imagenette2-160/train/n03394916/n03394916_33663.JPEG'), Path('/Users/imad/.fastai/data/imagenette2-160/train/n03394916/n03394916_27948.JPEG'), Path('/Users/imad/.fastai/data/imagenette2-160/train/n03394916/n03394916_38644.JPEG'), Path('/Users/imad/.fastai/data/imagenette2-160/train/n03394916/n03394916_35076.JPEG'), Path('/Users/imad/.fastai/data/imagenette2-160/train/n03394916/n03394916_38214.JPEG'), Path('/Users/imad/.fastai/data/imagenette2-160/train/n03394916/n03394916_23008.JPEG'), Path('/Users/imad/.fastai/data/imagenette2-160/train/n03394916/n03394916_33008.JPEG')...]\n",
       "Path: .\n",
       "Valid: ImageList: (3925 items)\n",
       "[Path('/Users/imad/.fastai/data/imagenette2-160/val/n03394916/n03394916_32422.JPEG'), Path('/Users/imad/.fastai/data/imagenette2-160/val/n03394916/n03394916_69132.JPEG'), Path('/Users/imad/.fastai/data/imagenette2-160/val/n03394916/n03394916_33771.JPEG'), Path('/Users/imad/.fastai/data/imagenette2-160/val/n03394916/n03394916_29940.JPEG'), Path('/Users/imad/.fastai/data/imagenette2-160/val/n03394916/ILSVRC2012_val_00033682.JPEG'), Path('/Users/imad/.fastai/data/imagenette2-160/val/n03394916/n03394916_40160.JPEG'), Path('/Users/imad/.fastai/data/imagenette2-160/val/n03394916/n03394916_36420.JPEG'), Path('/Users/imad/.fastai/data/imagenette2-160/val/n03394916/n03394916_5011.JPEG'), Path('/Users/imad/.fastai/data/imagenette2-160/val/n03394916/n03394916_35871.JPEG'), Path('/Users/imad/.fastai/data/imagenette2-160/val/n03394916/n03394916_35172.JPEG')...]\n",
       "Path: ."
      ]
     },
     "execution_count": 155,
     "metadata": {},
     "output_type": "execute_result"
    }
   ],
   "source": [
    "splitted_data"
   ]
  },
  {
   "cell_type": "code",
   "execution_count": 156,
   "id": "7165d3f3-e663-40ca-934a-3675fc67143d",
   "metadata": {},
   "outputs": [
    {
     "data": {
      "text/plain": [
       "SplitData\n",
       "Train: LabeledData\n",
       "x: ImageList: (9469 items)\n",
       "[Path('/Users/imad/.fastai/data/imagenette2-160/train/n03394916/ILSVRC2012_val_00046669.JPEG'), Path('/Users/imad/.fastai/data/imagenette2-160/train/n03394916/n03394916_58454.JPEG'), Path('/Users/imad/.fastai/data/imagenette2-160/train/n03394916/n03394916_32588.JPEG'), Path('/Users/imad/.fastai/data/imagenette2-160/train/n03394916/n03394916_33663.JPEG'), Path('/Users/imad/.fastai/data/imagenette2-160/train/n03394916/n03394916_27948.JPEG'), Path('/Users/imad/.fastai/data/imagenette2-160/train/n03394916/n03394916_38644.JPEG'), Path('/Users/imad/.fastai/data/imagenette2-160/train/n03394916/n03394916_35076.JPEG'), Path('/Users/imad/.fastai/data/imagenette2-160/train/n03394916/n03394916_38214.JPEG'), Path('/Users/imad/.fastai/data/imagenette2-160/train/n03394916/n03394916_23008.JPEG'), Path('/Users/imad/.fastai/data/imagenette2-160/train/n03394916/n03394916_33008.JPEG')...]\n",
       "Path: .\n",
       "y: ItemList: (9469 items)\n",
       "[0, 0, 0, 0, 0, 0, 0, 0, 0, 0...]\n",
       "Path: .\n",
       "\n",
       "Valid: LabeledData\n",
       "x: ImageList: (3925 items)\n",
       "[Path('/Users/imad/.fastai/data/imagenette2-160/val/n03394916/n03394916_32422.JPEG'), Path('/Users/imad/.fastai/data/imagenette2-160/val/n03394916/n03394916_69132.JPEG'), Path('/Users/imad/.fastai/data/imagenette2-160/val/n03394916/n03394916_33771.JPEG'), Path('/Users/imad/.fastai/data/imagenette2-160/val/n03394916/n03394916_29940.JPEG'), Path('/Users/imad/.fastai/data/imagenette2-160/val/n03394916/ILSVRC2012_val_00033682.JPEG'), Path('/Users/imad/.fastai/data/imagenette2-160/val/n03394916/n03394916_40160.JPEG'), Path('/Users/imad/.fastai/data/imagenette2-160/val/n03394916/n03394916_36420.JPEG'), Path('/Users/imad/.fastai/data/imagenette2-160/val/n03394916/n03394916_5011.JPEG'), Path('/Users/imad/.fastai/data/imagenette2-160/val/n03394916/n03394916_35871.JPEG'), Path('/Users/imad/.fastai/data/imagenette2-160/val/n03394916/n03394916_35172.JPEG')...]\n",
       "Path: .\n",
       "y: ItemList: (3925 items)\n",
       "[0, 0, 0, 0, 0, 0, 0, 0, 0, 0...]\n",
       "Path: .\n"
      ]
     },
     "execution_count": 156,
     "metadata": {},
     "output_type": "execute_result"
    }
   ],
   "source": [
    "labeled_data"
   ]
  },
  {
   "cell_type": "code",
   "execution_count": 76,
   "id": "228888a1-bb8f-4047-9179-440533f85757",
   "metadata": {
    "tags": []
   },
   "outputs": [
    {
     "data": {
      "text/plain": [
       "(torch.Size([128, 3, 128, 128]), torch.Size([128]))"
      ]
     },
     "execution_count": 76,
     "metadata": {},
     "output_type": "execute_result"
    }
   ],
   "source": [
    "batch = next(iter(data.train_dl))\n",
    "batch[0].shape, batch[1].shape"
   ]
  },
  {
   "cell_type": "code",
   "execution_count": 77,
   "id": "670c3e8f-37de-4824-80f6-943b6cb8c464",
   "metadata": {},
   "outputs": [],
   "source": [
    "def normalize(x, mean, std):\n",
    "    return (x - mean[..., None, None]) / std[..., None, None]\n",
    "\n",
    "\n",
    "img_net_mean = torch.tensor([0.47, 0.48, 0.45])\n",
    "img_net_std = torch.tensor([0.29, 0.28, 0.3])\n",
    "norm_img_net = partial(normalize, mean=img_net_mean, std=img_net_std)"
   ]
  },
  {
   "cell_type": "code",
   "execution_count": 78,
   "id": "71c45bbb-7ead-4921-874e-44be60f7cdf8",
   "metadata": {},
   "outputs": [],
   "source": [
    "sched = combine_scheds([0.3, 0.7], cos_1cycle_anneal(0.1, 0.3, 0.05))"
   ]
  },
  {
   "cell_type": "code",
   "execution_count": 114,
   "id": "0bc1cebb-1483-4ec5-bc82-f17ecc1648a9",
   "metadata": {},
   "outputs": [],
   "source": [
    "cbs = [\n",
    "    partial(BatchTransformXCallback, norm_img_net)(),\n",
    "    # ParamScheduler(\"lr\", sched),\n",
    "    AvgStatsCallback(accuracy),\n",
    "]"
   ]
  },
  {
   "cell_type": "code",
   "execution_count": 115,
   "id": "d1f385d8-ba22-4702-b135-86f7f1af7d69",
   "metadata": {},
   "outputs": [],
   "source": [
    "nfs = [64, 64, 128, 256]"
   ]
  },
  {
   "cell_type": "code",
   "execution_count": 116,
   "id": "f0406ea7-ac1d-44ee-8800-84ad71eaf8a2",
   "metadata": {},
   "outputs": [
    {
     "data": {
      "text/plain": [
       "Sequential(\n",
       "  (0): Sequential(\n",
       "    (0): Conv2d(3, 16, kernel_size=(3, 3), stride=(1, 1), padding=(1, 1))\n",
       "    (1): GeneralRelu()\n",
       "  )\n",
       "  (1): Sequential(\n",
       "    (0): Conv2d(16, 32, kernel_size=(3, 3), stride=(2, 2), padding=(1, 1))\n",
       "    (1): GeneralRelu()\n",
       "  )\n",
       "  (2): Sequential(\n",
       "    (0): Conv2d(32, 64, kernel_size=(3, 3), stride=(2, 2), padding=(1, 1))\n",
       "    (1): GeneralRelu()\n",
       "  )\n",
       "  (3): Sequential(\n",
       "    (0): Conv2d(64, 64, kernel_size=(3, 3), stride=(2, 2), padding=(1, 1))\n",
       "    (1): GeneralRelu()\n",
       "  )\n",
       "  (4): Sequential(\n",
       "    (0): Conv2d(64, 64, kernel_size=(3, 3), stride=(2, 2), padding=(1, 1))\n",
       "    (1): GeneralRelu()\n",
       "  )\n",
       "  (5): Sequential(\n",
       "    (0): Conv2d(64, 128, kernel_size=(3, 3), stride=(2, 2), padding=(1, 1))\n",
       "    (1): GeneralRelu()\n",
       "  )\n",
       "  (6): Sequential(\n",
       "    (0): Conv2d(128, 256, kernel_size=(3, 3), stride=(2, 2), padding=(1, 1))\n",
       "    (1): GeneralRelu()\n",
       "  )\n",
       "  (7): AdaptiveAvgPool2d(output_size=1)\n",
       "  (8): Lambda()\n",
       "  (9): Linear(in_features=256, out_features=10, bias=True)\n",
       ")"
      ]
     },
     "execution_count": 116,
     "metadata": {},
     "output_type": "execute_result"
    }
   ],
   "source": [
    "model = nn.Sequential(*get_cnn_layers(data, nfs, conv_layer))\n",
    "model"
   ]
  },
  {
   "cell_type": "code",
   "execution_count": 117,
   "id": "e5eb038c-f03f-4f73-96ac-34e858fd5366",
   "metadata": {},
   "outputs": [],
   "source": [
    "init_cnn(model)"
   ]
  },
  {
   "cell_type": "code",
   "execution_count": 121,
   "id": "662d4a6c-7e83-4305-888d-56c921aba272",
   "metadata": {},
   "outputs": [],
   "source": [
    "learner = Learner(model, data, F.cross_entropy, opt.SGD, lr=0.2, cbs=cbs)"
   ]
  },
  {
   "cell_type": "code",
   "execution_count": 122,
   "id": "4fc9ae67-40e2-4718-8396-63e0933f9bc1",
   "metadata": {},
   "outputs": [
    {
     "data": {
      "text/html": [
       "\n",
       "<style>\n",
       "    /* Turns off some styling */\n",
       "    progress {\n",
       "        /* gets rid of default border in Firefox and Opera. */\n",
       "        border: none;\n",
       "        /* Needs to be in here for Safari polyfill so background images work as expected. */\n",
       "        background-size: auto;\n",
       "    }\n",
       "    progress:not([value]), progress:not([value])::-webkit-progress-bar {\n",
       "        background: repeating-linear-gradient(45deg, #7e7e7e, #7e7e7e 10px, #5c5c5c 10px, #5c5c5c 20px);\n",
       "    }\n",
       "    .progress-bar-interrupted, .progress-bar-interrupted::-webkit-progress-bar {\n",
       "        background: #F44336;\n",
       "    }\n",
       "</style>\n"
      ],
      "text/plain": [
       "<IPython.core.display.HTML object>"
      ]
     },
     "metadata": {},
     "output_type": "display_data"
    },
    {
     "data": {
      "text/html": [
       "\n",
       "    <div>\n",
       "      <progress value='0' class='' max='1' style='width:300px; height:20px; vertical-align: middle;'></progress>\n",
       "      \n",
       "    </div>\n",
       "    \n"
      ],
      "text/plain": [
       "<IPython.core.display.HTML object>"
      ]
     },
     "metadata": {},
     "output_type": "display_data"
    },
    {
     "data": {
      "text/html": [
       "\n",
       "<style>\n",
       "    /* Turns off some styling */\n",
       "    progress {\n",
       "        /* gets rid of default border in Firefox and Opera. */\n",
       "        border: none;\n",
       "        /* Needs to be in here for Safari polyfill so background images work as expected. */\n",
       "        background-size: auto;\n",
       "    }\n",
       "    progress:not([value]), progress:not([value])::-webkit-progress-bar {\n",
       "        background: repeating-linear-gradient(45deg, #7e7e7e, #7e7e7e 10px, #5c5c5c 10px, #5c5c5c 20px);\n",
       "    }\n",
       "    .progress-bar-interrupted, .progress-bar-interrupted::-webkit-progress-bar {\n",
       "        background: #F44336;\n",
       "    }\n",
       "</style>\n"
      ],
      "text/plain": [
       "<IPython.core.display.HTML object>"
      ]
     },
     "metadata": {},
     "output_type": "display_data"
    },
    {
     "data": {
      "text/html": [
       "<table border=\"1\" class=\"dataframe\">\n",
       "  <thead>\n",
       "    <tr style=\"text-align: left;\">\n",
       "      <th>epoch</th>\n",
       "      <th>train_loss</th>\n",
       "      <th>train_accuracy</th>\n",
       "      <th>valid_loss</th>\n",
       "      <th>valid_accuracy</th>\n",
       "      <th>time</th>\n",
       "    </tr>\n",
       "  </thead>\n",
       "  <tbody>\n",
       "    <tr>\n",
       "      <td>0</td>\n",
       "      <td>2.236183</td>\n",
       "      <td>0.186609</td>\n",
       "      <td>2.210573</td>\n",
       "      <td>0.202038</td>\n",
       "      <td>01:18</td>\n",
       "    </tr>\n",
       "  </tbody>\n",
       "</table>"
      ],
      "text/plain": [
       "<IPython.core.display.HTML object>"
      ]
     },
     "metadata": {},
     "output_type": "display_data"
    }
   ],
   "source": [
    "learner.fit(1)"
   ]
  },
  {
   "cell_type": "code",
   "execution_count": 105,
   "id": "9d5272ba-5ac6-425c-bf3e-7237dda74611",
   "metadata": {},
   "outputs": [
    {
     "data": {
      "image/png": "[encoded data removed]",
      "text/plain": [
       "<Figure size 432x288 with 1 Axes>"
      ]
     },
     "metadata": {
      "needs_background": "light"
     },
     "output_type": "display_data"
    }
   ],
   "source": [
    "learner.recorder.plot()"
   ]
  },
  {
   "cell_type": "code",
   "execution_count": 123,
   "id": "8f742589-a5a8-4eeb-ae80-e7f7f3aba0b5",
   "metadata": {},
   "outputs": [
    {
     "data": {
      "image/png": "[encoded data removed]",
      "text/plain": [
       "<Figure size 432x288 with 1 Axes>"
      ]
     },
     "metadata": {
      "needs_background": "light"
     },
     "output_type": "display_data"
    }
   ],
   "source": [
    "learner.recorder.plot_loss()"
   ]
  },
  {
   "cell_type": "code",
   "execution_count": 124,
   "id": "28473ecc-6dca-4e62-b172-4f9203d2bf25",
   "metadata": {},
   "outputs": [
    {
     "data": {
      "image/png": "[encoded data removed]",
      "text/plain": [
       "<Figure size 432x288 with 1 Axes>"
      ]
     },
     "metadata": {
      "needs_background": "light"
     },
     "output_type": "display_data"
    }
   ],
   "source": [
    "learner.recorder.plot_lr()"
   ]
  },
  {
   "cell_type": "code",
   "execution_count": 125,
   "id": "8ffa25ca-3c45-4a12-9ef0-57434adbad34",
   "metadata": {},
   "outputs": [],
   "source": [
    "params = list(learner.model.parameters())"
   ]
  },
  {
   "cell_type": "markdown",
   "id": "6fdc0bea-ca7b-45a6-a093-5e09894d65e5",
   "metadata": {
    "tags": []
   },
   "source": [
    "# Optimizer"
   ]
  },
  {
   "cell_type": "markdown",
   "id": "1ee75b6b-d905-4d9c-b4a4-89ff06280eb8",
   "metadata": {},
   "source": [
    "## Optimizers"
   ]
  },
  {
   "cell_type": "code",
   "execution_count": 373,
   "id": "660e430b-f612-45ea-999e-4d1e4c5584f0",
   "metadata": {
    "tags": []
   },
   "outputs": [],
   "source": [
    "class ParamScheduler(Callback):\n",
    "    _order = 60\n",
    "\n",
    "    def __init__(self, pname, sched_funcs):\n",
    "        self.pname = pname\n",
    "        self.sched_funcs = sched_funcs\n",
    "\n",
    "    def before_fit(self):\n",
    "        if not isinstance(self.sched_funcs, (list, tuple)):\n",
    "            self.sched_funcs = [self.sched_funcs] * len(self.opt.param_groups)\n",
    "\n",
    "    def set_param(self):\n",
    "        assert len(self.opt.param_groups) == len(self.sched_funcs), print(\n",
    "            len(self.opt.param_groups), len(self.sched_funcs)\n",
    "        )\n",
    "        for hyper_param, f in zip(self.opt.hyper_params, self.sched_funcs):\n",
    "            hyper_param[self.pname] = f(self.pct_train)\n",
    "\n",
    "    def before_batch(self):\n",
    "        if self.training:\n",
    "            self.set_param()"
   ]
  },
  {
   "cell_type": "code",
   "execution_count": 374,
   "id": "c0bad5f3-a955-4c26-bcb9-db3188e31603",
   "metadata": {},
   "outputs": [],
   "source": [
    "class Recorder(Callback):\n",
    "    _order = 50\n",
    "\n",
    "    def before_fit(self):\n",
    "        self.lrs = [[] for _ in self.opt.param_groups]\n",
    "        self.losses = []\n",
    "\n",
    "    def after_batch(self):\n",
    "        if not self.training:\n",
    "            return\n",
    "        for hyper_param, lr in zip(self.opt.hyper_params, self.lrs):\n",
    "            lr.append(hyper_param[\"lr\"])\n",
    "        self.losses.append(self.loss.detach().cpu())\n",
    "\n",
    "    def plot_lr(self, pgid=-1):\n",
    "        plt.plot(self.lrs[pgid])\n",
    "\n",
    "    def plot_loss(self, skip_last=0):\n",
    "        n = len(self.losses) - skip_last\n",
    "        plt.plot(self.losses[:n])\n",
    "\n",
    "    def plot(self, skip_last=0, pgid=-1):\n",
    "        losses = [o.item() for o in self.losses]\n",
    "        lrs = self.lrs[pgid]\n",
    "        n = len(losses) - skip_last\n",
    "        plt.xscale(\"log\")\n",
    "        plt.plot(lrs[:n], losses[:n])"
   ]
  },
  {
   "cell_type": "code",
   "execution_count": 375,
   "id": "2eb847fd-1b0a-42ac-add2-b766941b0239",
   "metadata": {},
   "outputs": [],
   "source": [
    "class SimpleOptimizer:\n",
    "    def __init__(self, parameters, steppers, **hyper_params):\n",
    "        self.param_groups = listify(parameters)\n",
    "        if not isinstance(self.param_groups[0], list):\n",
    "            self.param_groups = [self.param_groups]\n",
    "        self.hyper_params = [{**hyper_params} for pg in self.param_groups]\n",
    "        self.steppers = listify(steppers)\n",
    "\n",
    "    def get_params(self):\n",
    "        return [\n",
    "            (p, hp)\n",
    "            for pg, hp in zip(self.param_groups, self.hyper_params)\n",
    "            for p in pg\n",
    "            if p.grad is not None\n",
    "        ]\n",
    "\n",
    "    def step(self):\n",
    "        for p, hp in self.get_params():\n",
    "            compose(p, self.steppers, **hp)\n",
    "\n",
    "    def zero_grad(self):\n",
    "        for p, hp in self.get_params():\n",
    "            p.grad.detach_()\n",
    "            p.grad.zero_()"
   ]
  },
  {
   "cell_type": "code",
   "execution_count": 376,
   "id": "6487d97a-fff0-42ff-a6e7-fd2219eaf267",
   "metadata": {},
   "outputs": [],
   "source": [
    "def sgd_step(p, lr, **kwargs):\n",
    "    p.data.add_(-lr, p.grad.data)"
   ]
  },
  {
   "cell_type": "code",
   "execution_count": 377,
   "id": "fcda6eba-c4f5-4fb4-9f25-27c49e2898b5",
   "metadata": {},
   "outputs": [],
   "source": [
    "def get_defaults(stepper):\n",
    "    return getattr(stepper, \"_defaults\", {})"
   ]
  },
  {
   "cell_type": "code",
   "execution_count": 378,
   "id": "25360f4b-1241-4a32-b39a-1a6cff0965a2",
   "metadata": {},
   "outputs": [],
   "source": [
    "def maybe_update(steppers, defaults, func=get_defaults):\n",
    "    for stepper in steppers:\n",
    "        for k, v in func(stepper).items():\n",
    "            if k not in defaults:\n",
    "                defaults[k] = v"
   ]
  },
  {
   "cell_type": "code",
   "execution_count": 379,
   "id": "04603206-fcba-408b-a948-1cabfca8b33a",
   "metadata": {},
   "outputs": [],
   "source": [
    "def l2_reg(p, lr, wd, **kwargs):\n",
    "    p.grad.data.add_(wd, p.data)\n",
    "\n",
    "\n",
    "l2_reg._defaults = {\"wd\": 0}"
   ]
  },
  {
   "cell_type": "code",
   "execution_count": 192,
   "id": "541c5418-e9a4-4d5e-9944-b7a89672fd0e",
   "metadata": {},
   "outputs": [],
   "source": [
    "def weight_decay(p, lr, wd, **kwargs):\n",
    "    p.data.mul_(1 - lr * wd)\n",
    "\n",
    "\n",
    "weight_decay._defaults = {\"wd\": 0}"
   ]
  },
  {
   "cell_type": "code",
   "execution_count": 193,
   "id": "18d619a7-339a-4fda-bbc8-9ec5cd644352",
   "metadata": {},
   "outputs": [],
   "source": [
    "class Optimizer:\n",
    "    def __init__(self, parameters, steppers, **hyper_params):\n",
    "        self.param_groups = listify(parameters)\n",
    "        self.steppers = listify(steppers)\n",
    "        maybe_update(self.steppers, hyper_params, get_defaults)\n",
    "        if not isinstance(self.param_groups[0], list):\n",
    "            self.param_groups = [self.param_groups]\n",
    "        self.hyper_params = [{**hyper_params} for pg in self.param_groups]\n",
    "\n",
    "    def get_params(self):\n",
    "        return [\n",
    "            (p, hp)\n",
    "            for pg, hp in zip(self.param_groups, self.hyper_params)\n",
    "            for p in pg\n",
    "            if p.grad is not None\n",
    "        ]\n",
    "\n",
    "    def step(self):\n",
    "        for p, hp in self.get_params():\n",
    "            compose(p, self.steppers, **hp)\n",
    "\n",
    "    def zero_grad(self):\n",
    "        for p, hp in self.get_params():\n",
    "            p.grad.detach_()\n",
    "            p.grad.zero_()"
   ]
  },
  {
   "cell_type": "code",
   "execution_count": 194,
   "id": "067052a4-5cb3-4182-a5f8-6a4f250e584f",
   "metadata": {},
   "outputs": [],
   "source": [
    "class StatefulOptimizer(Optimizer):\n",
    "    def __init__(self, params, steppers, stats=None, **hyper_params):\n",
    "        self.stats = listify(stats)\n",
    "        maybe_update(self.stats, hyper_params, get_defaults)\n",
    "        super().__init__(params, steppers, **hyper_params)\n",
    "        self.state = {}\n",
    "\n",
    "    def step(self):\n",
    "        for param, hyper_param in self.get_params():\n",
    "            if param not in self.state:\n",
    "                self.state[param] = {}\n",
    "                maybe_update(\n",
    "                    self.stats, self.state[param], lambda stat: stat.init_state(param)\n",
    "                )\n",
    "            state = self.state[param]\n",
    "            for stat in self.stats:\n",
    "                state = stat.update_state(param, state, **hyper_param)\n",
    "            compose(param, self.steppers, **state, **hyper_param)\n",
    "            self.state[param] = state"
   ]
  },
  {
   "cell_type": "code",
   "execution_count": 195,
   "id": "933d1e5b-4592-46b9-9a9c-5a306435aa11",
   "metadata": {},
   "outputs": [],
   "source": [
    "class Stat:\n",
    "    \"\"\"Initialize and update state of gradients.\"\"\"\n",
    "\n",
    "    _defaults = {}\n",
    "\n",
    "    def init_state(self, p):\n",
    "        raise NotImplementedError\n",
    "\n",
    "    def update_state(self, p, state, **kwargs):\n",
    "        raise NotImplementedError"
   ]
  },
  {
   "cell_type": "code",
   "execution_count": 209,
   "id": "db78adf3-1af9-4f53-b7ab-54e757a8f35a",
   "metadata": {
    "tags": []
   },
   "outputs": [],
   "source": [
    "class AvgGrad(Stat):\n",
    "    _defaults = {\"mom\": 0.9}\n",
    "\n",
    "    def __init__(self, dampening: bool = True):\n",
    "        self.dampening = dampening\n",
    "\n",
    "    def init_state(self, p):\n",
    "        return {\"avg_grad\": torch.zeros_like(p.grad.data)}\n",
    "\n",
    "    def update_state(self, p, state, mom, **kwargs):\n",
    "        state[\"avg_grad\"].mul_(mom).add_(\n",
    "            1 - mom if self.dampening else 1.0, p.grad.data\n",
    "        )\n",
    "        return state"
   ]
  },
  {
   "cell_type": "code",
   "execution_count": 254,
   "id": "34614028-da05-4251-946d-9ff91c778891",
   "metadata": {
    "tags": []
   },
   "outputs": [],
   "source": [
    "class AvgSqrGrad(Stat):\n",
    "    _defaults = {\"sqr_mom\": 0.99}\n",
    "\n",
    "    def __init__(self, dampening: bool = True):\n",
    "        self.dampening = dampening\n",
    "\n",
    "    def init_state(self, p):\n",
    "        return {\"avg_sqr_grad\": torch.zeros_like(p.grad.data)}\n",
    "\n",
    "    def update_state(self, p, state, sqr_mom, **kwargs):\n",
    "        state[\"avg_sqr_grad\"].mul_(sqr_mom).add_(\n",
    "            1 - sqr_mom if self.dampening else 1.0, p.grad.data**2\n",
    "        )\n",
    "        return state"
   ]
  },
  {
   "cell_type": "code",
   "execution_count": 265,
   "id": "ce3d4cab-406d-482a-a629-55bafa4d1239",
   "metadata": {},
   "outputs": [],
   "source": [
    "class StepCount(Stat):\n",
    "    def init_state(self, p):\n",
    "        return {\"step\": 0}\n",
    "\n",
    "    def update_state(self, p, state, **kwargs):\n",
    "        state[\"step\"] += 1\n",
    "        return state"
   ]
  },
  {
   "cell_type": "code",
   "execution_count": 255,
   "id": "da118709-bcff-4b47-b80c-e29838ebc074",
   "metadata": {},
   "outputs": [],
   "source": [
    "def momentum_step(p, lr, avg_grad, **kwargs):\n",
    "    p.data.add_(-lr, avg_grad)\n",
    "    return p"
   ]
  },
  {
   "cell_type": "code",
   "execution_count": 273,
   "id": "599649b0-ec96-4d56-9734-98353d4f0ee6",
   "metadata": {},
   "outputs": [],
   "source": [
    "def rmsprop_step(p, lr, avg_sqr_grad, eps, **kwargs):\n",
    "    p.data.addcdiv_(-lr, p.grad.data, avg_sqr_grad.sqrt() + eps)\n",
    "    return p\n",
    "\n",
    "\n",
    "rmsprop_step._defaults = {\"eps\": 1e-8}"
   ]
  },
  {
   "cell_type": "code",
   "execution_count": 287,
   "id": "3b4d959d-e508-47d6-b5d7-80d6e1416cdc",
   "metadata": {},
   "outputs": [],
   "source": [
    "def adam_step(p, lr, mom, sqr_mom, step, avg_grad, avg_sqr_grad, eps, **kwargs):\n",
    "    debiased_avg_grad = avg_grad / (1 - mom**step)\n",
    "    debiased_sqr_grad = avg_sqr_grad / (1 - sqr_mom**step)\n",
    "    p.data.addcdiv_(-lr, debiased_avg_grad, debiased_sqr_grad.sqrt() + eps)\n",
    "    return p\n",
    "\n",
    "\n",
    "adam_step._defaults = {\"eps\": 1e-5}"
   ]
  },
  {
   "cell_type": "markdown",
   "id": "e95d6439-777c-4c0b-9263-b13d4f1abcb7",
   "metadata": {},
   "source": [
    "# Mixup & Label Smoothing"
   ]
  },
  {
   "cell_type": "code",
   "execution_count": 407,
   "id": "e11e4255-7253-4dc9-a4d2-c3bff40fa357",
   "metadata": {},
   "outputs": [],
   "source": [
    "class LabelSmoothingCrossEntropy(nn.Module):\n",
    "    def __init__(self, ε: float = 0.1, reduction=\"mean\"):\n",
    "        super().__init__()\n",
    "        self.ε, self.reduction = ε, reduction\n",
    "\n",
    "    def forward(self, output, target):\n",
    "        c = output.size()[-1]\n",
    "        log_preds = F.log_softmax(output, dim=-1)\n",
    "        loss = reduce_loss(-log_preds.sum(dim=-1), self.reduction)\n",
    "        nll = F.nll_loss(log_preds, target, reduction=self.reduction)\n",
    "        return lin_comb(loss / c, nll, self.ε)"
   ]
  },
  {
   "cell_type": "code",
   "execution_count": 415,
   "id": "869b1b1f-8cdc-4a94-831e-37434273649d",
   "metadata": {},
   "outputs": [],
   "source": [
    "model = nn.Sequential(*get_cnn_layers(data, nfs, conv_layer))"
   ]
  },
  {
   "cell_type": "code",
   "execution_count": 416,
   "id": "629b4ba4-bd32-422f-be07-f8eab5b31049",
   "metadata": {},
   "outputs": [],
   "source": [
    "init_cnn(model)"
   ]
  },
  {
   "cell_type": "code",
   "execution_count": 417,
   "id": "1b3fe0d1-264f-40cc-a4a5-7ce5fcaa67ed",
   "metadata": {},
   "outputs": [],
   "source": [
    "opt_func = partial(\n",
    "    StatefulOptimizer, steppers=[momentum_step, weight_decay], stats=AvgGrad()\n",
    ")"
   ]
  },
  {
   "cell_type": "code",
   "execution_count": 418,
   "id": "d1556d8e-5afb-4730-9309-93c1f50e1546",
   "metadata": {},
   "outputs": [],
   "source": [
    "cbs = [\n",
    "    partial(BatchTransformXCallback, norm_img_net)(),\n",
    "    ParamScheduler(\"lr\", sched),\n",
    "    AvgStatsCallback(accuracy),\n",
    "    Mixup(),\n",
    "]"
   ]
  },
  {
   "cell_type": "code",
   "execution_count": 419,
   "id": "3bd1864b-da97-400b-9290-4848ea6f1fe9",
   "metadata": {},
   "outputs": [],
   "source": [
    "learner = Learner(\n",
    "    model,\n",
    "    data,\n",
    "    # F.cross_entropy,\n",
    "    LabelSmoothingCrossEntropy(),\n",
    "    opt_func,\n",
    "    cbs=cbs,\n",
    ")"
   ]
  },
  {
   "cell_type": "code",
   "execution_count": 420,
   "id": "2a3c369a-5898-4949-8634-03c0e99ba3b7",
   "metadata": {},
   "outputs": [
    {
     "data": {
      "text/html": [
       "\n",
       "<style>\n",
       "    /* Turns off some styling */\n",
       "    progress {\n",
       "        /* gets rid of default border in Firefox and Opera. */\n",
       "        border: none;\n",
       "        /* Needs to be in here for Safari polyfill so background images work as expected. */\n",
       "        background-size: auto;\n",
       "    }\n",
       "    progress:not([value]), progress:not([value])::-webkit-progress-bar {\n",
       "        background: repeating-linear-gradient(45deg, #7e7e7e, #7e7e7e 10px, #5c5c5c 10px, #5c5c5c 20px);\n",
       "    }\n",
       "    .progress-bar-interrupted, .progress-bar-interrupted::-webkit-progress-bar {\n",
       "        background: #F44336;\n",
       "    }\n",
       "</style>\n"
      ],
      "text/plain": [
       "<IPython.core.display.HTML object>"
      ]
     },
     "metadata": {},
     "output_type": "display_data"
    },
    {
     "data": {
      "text/html": [
       "\n",
       "    <div>\n",
       "      <progress value='0' class='' max='10' style='width:300px; height:20px; vertical-align: middle;'></progress>\n",
       "      \n",
       "    </div>\n",
       "    \n"
      ],
      "text/plain": [
       "<IPython.core.display.HTML object>"
      ]
     },
     "metadata": {},
     "output_type": "display_data"
    },
    {
     "data": {
      "text/html": [
       "\n",
       "<style>\n",
       "    /* Turns off some styling */\n",
       "    progress {\n",
       "        /* gets rid of default border in Firefox and Opera. */\n",
       "        border: none;\n",
       "        /* Needs to be in here for Safari polyfill so background images work as expected. */\n",
       "        background-size: auto;\n",
       "    }\n",
       "    progress:not([value]), progress:not([value])::-webkit-progress-bar {\n",
       "        background: repeating-linear-gradient(45deg, #7e7e7e, #7e7e7e 10px, #5c5c5c 10px, #5c5c5c 20px);\n",
       "    }\n",
       "    .progress-bar-interrupted, .progress-bar-interrupted::-webkit-progress-bar {\n",
       "        background: #F44336;\n",
       "    }\n",
       "</style>\n"
      ],
      "text/plain": [
       "<IPython.core.display.HTML object>"
      ]
     },
     "metadata": {},
     "output_type": "display_data"
    },
    {
     "data": {
      "text/html": [
       "<table border=\"1\" class=\"dataframe\">\n",
       "  <thead>\n",
       "    <tr style=\"text-align: left;\">\n",
       "      <th>epoch</th>\n",
       "      <th>train_loss</th>\n",
       "      <th>train_accuracy</th>\n",
       "      <th>valid_loss</th>\n",
       "      <th>valid_accuracy</th>\n",
       "      <th>time</th>\n",
       "    </tr>\n",
       "  </thead>\n",
       "  <tbody>\n",
       "    <tr>\n",
       "      <td>0</td>\n",
       "      <td>2.237680</td>\n",
       "      <td>0.181751</td>\n",
       "      <td>2.042526</td>\n",
       "      <td>0.301405</td>\n",
       "      <td>01:30</td>\n",
       "    </tr>\n",
       "    <tr>\n",
       "      <td>1</td>\n",
       "      <td>2.092925</td>\n",
       "      <td>0.309008</td>\n",
       "      <td>1.857925</td>\n",
       "      <td>0.402471</td>\n",
       "      <td>01:30</td>\n",
       "    </tr>\n",
       "    <tr>\n",
       "      <td>2</td>\n",
       "      <td>2.003995</td>\n",
       "      <td>0.380505</td>\n",
       "      <td>1.801176</td>\n",
       "      <td>0.454008</td>\n",
       "      <td>01:32</td>\n",
       "    </tr>\n",
       "    <tr>\n",
       "      <td>3</td>\n",
       "      <td>1.936999</td>\n",
       "      <td>0.429296</td>\n",
       "      <td>1.662507</td>\n",
       "      <td>0.509769</td>\n",
       "      <td>01:31</td>\n",
       "    </tr>\n",
       "    <tr>\n",
       "      <td>4</td>\n",
       "      <td>1.860109</td>\n",
       "      <td>0.486218</td>\n",
       "      <td>1.511198</td>\n",
       "      <td>0.605766</td>\n",
       "      <td>01:35</td>\n",
       "    </tr>\n",
       "    <tr>\n",
       "      <td>5</td>\n",
       "      <td>1.792441</td>\n",
       "      <td>0.527616</td>\n",
       "      <td>1.439043</td>\n",
       "      <td>0.635970</td>\n",
       "      <td>01:34</td>\n",
       "    </tr>\n",
       "    <tr>\n",
       "      <td>6</td>\n",
       "      <td>1.741064</td>\n",
       "      <td>0.565846</td>\n",
       "      <td>1.379478</td>\n",
       "      <td>0.663639</td>\n",
       "      <td>01:33</td>\n",
       "    </tr>\n",
       "    <tr>\n",
       "      <td>7</td>\n",
       "      <td>1.680167</td>\n",
       "      <td>0.610941</td>\n",
       "      <td>1.330328</td>\n",
       "      <td>0.693843</td>\n",
       "      <td>01:33</td>\n",
       "    </tr>\n",
       "    <tr>\n",
       "      <td>8</td>\n",
       "      <td>1.651475</td>\n",
       "      <td>0.625937</td>\n",
       "      <td>1.246852</td>\n",
       "      <td>0.728482</td>\n",
       "      <td>01:33</td>\n",
       "    </tr>\n",
       "    <tr>\n",
       "      <td>9</td>\n",
       "      <td>1.604683</td>\n",
       "      <td>0.649699</td>\n",
       "      <td>1.228974</td>\n",
       "      <td>0.748970</td>\n",
       "      <td>01:46</td>\n",
       "    </tr>\n",
       "  </tbody>\n",
       "</table>"
      ],
      "text/plain": [
       "<IPython.core.display.HTML object>"
      ]
     },
     "metadata": {},
     "output_type": "display_data"
    }
   ],
   "source": [
    "learner.fit(10)"
   ]
  },
  {
   "cell_type": "markdown",
   "id": "300ef32e-48c0-4783-9099-9cd1e4d3b583",
   "metadata": {
    "tags": []
   },
   "source": [
    "# NLP"
   ]
  },
  {
   "cell_type": "code",
   "execution_count": 145,
   "id": "d72efa30-347d-462f-9a11-61bb10539b39",
   "metadata": {},
   "outputs": [
    {
     "data": {
      "text/plain": [
       "TextList: (9 items)\n",
       "[Path('tmp/imad.txt'), Path('tmp/test/h.txt'), Path('tmp/test/e.txt'), Path('tmp/test/f.txt'), Path('tmp/test/g.txt'), Path('tmp/train/c.txt'), Path('tmp/train/b.txt'), Path('tmp/train/a.txt'), Path('tmp/train/d.txt')]\n",
       "Path: tmp"
      ]
     },
     "execution_count": 145,
     "metadata": {},
     "output_type": "execute_result"
    }
   ],
   "source": [
    "TextList.from_files(Path(\"tmp/\"))"
   ]
  },
  {
   "cell_type": "code",
   "execution_count": 143,
   "id": "6a2c09a0-7807-4adc-9b7b-11c68efe3eb1",
   "metadata": {},
   "outputs": [
    {
     "name": "stdout",
     "output_type": "stream",
     "text": [
      "\u001b[01;34mtmp/\u001b[0m\n",
      "├── \u001b[00mimad.txt\u001b[0m\n",
      "├── \u001b[01;34mtest\u001b[0m\n",
      "│   ├── \u001b[00me.txt\u001b[0m\n",
      "│   ├── \u001b[00mf.txt\u001b[0m\n",
      "│   ├── \u001b[00mg.txt\u001b[0m\n",
      "│   └── \u001b[00mh.txt\u001b[0m\n",
      "└── \u001b[01;34mtrain\u001b[0m\n",
      "    ├── \u001b[00ma.txt\u001b[0m\n",
      "    ├── \u001b[00mb.txt\u001b[0m\n",
      "    ├── \u001b[00mc.txt\u001b[0m\n",
      "    └── \u001b[00md.txt\u001b[0m\n",
      "\n",
      "2 directories, 9 files\n"
     ]
    }
   ],
   "source": [
    "!tree tmp/"
   ]
  },
  {
   "cell_type": "code",
   "execution_count": 131,
   "id": "5e2b5567-5839-4d9c-b7a9-5525315565de",
   "metadata": {},
   "outputs": [
    {
     "data": {
      "text/plain": [
       "Path('/Users/imad/.fastai/data/imdb')"
      ]
     },
     "execution_count": 131,
     "metadata": {},
     "output_type": "execute_result"
    }
   ],
   "source": [
    "path = untar_data(URLs.IMDB)\n",
    "path"
   ]
  },
  {
   "cell_type": "code",
   "execution_count": 132,
   "id": "d61cd524-281c-4ef9-90db-b2b4326a9497",
   "metadata": {},
   "outputs": [
    {
     "name": "stdout",
     "output_type": "stream",
     "text": [
      "README     imdb.vocab \u001b[1m\u001b[36mtest\u001b[m\u001b[m       \u001b[1m\u001b[36mtmp_clas\u001b[m\u001b[m   \u001b[1m\u001b[36mtmp_lm\u001b[m\u001b[m     \u001b[1m\u001b[36mtrain\u001b[m\u001b[m      \u001b[1m\u001b[36munsup\u001b[m\u001b[m\n"
     ]
    }
   ],
   "source": [
    "!ls {path}"
   ]
  },
  {
   "cell_type": "code",
   "execution_count": 133,
   "id": "78aedf4e-995c-4e15-a31c-5dfb99734f0f",
   "metadata": {},
   "outputs": [
    {
     "data": {
      "text/plain": [
       "TextList: (100000 items)\n",
       "[Path('/Users/imad/.fastai/data/imdb/test/neg/1821_4.txt'), Path('/Users/imad/.fastai/data/imdb/test/neg/9487_1.txt'), Path('/Users/imad/.fastai/data/imdb/test/neg/4604_4.txt'), Path('/Users/imad/.fastai/data/imdb/test/neg/2828_2.txt'), Path('/Users/imad/.fastai/data/imdb/test/neg/10890_1.txt'), Path('/Users/imad/.fastai/data/imdb/test/neg/3351_4.txt'), Path('/Users/imad/.fastai/data/imdb/test/neg/8070_2.txt'), Path('/Users/imad/.fastai/data/imdb/test/neg/1027_4.txt'), Path('/Users/imad/.fastai/data/imdb/test/neg/8248_3.txt'), Path('/Users/imad/.fastai/data/imdb/test/neg/4290_4.txt')...]\n",
       "Path: /Users/imad/.fastai/data/imdb"
      ]
     },
     "execution_count": 133,
     "metadata": {},
     "output_type": "execute_result"
    }
   ],
   "source": [
    "text_list = TextList.from_files(path, include=[\"train\", \"test\", \"unsup\"])\n",
    "text_list"
   ]
  },
  {
   "cell_type": "code",
   "execution_count": 703,
   "id": "5ab3ce9c-2840-4094-8bac-c922fcc849cc",
   "metadata": {},
   "outputs": [
    {
     "data": {
      "text/plain": [
       "\"Alan Rickman & Emma Thompson give good performances with southern/New Orleans accents in this detective flick. It's worth seeing for their scenes- and Rickman's scene with Hal Holbrook. These three actors mannage to entertain us no matter what the movie, it seems. The plot for the movie shows potential, but one gets the impression in watching the film that it was not pulled off as well as it could have been. The fact that it is cluttered by a rather uninteresting subplot and mostly uninteresting kidnappers really muddles things. The movie is worth a view- if for nothing more than entertaining performances by Rickman, Thompson, and Holbrook.\""
      ]
     },
     "execution_count": 703,
     "metadata": {},
     "output_type": "execute_result"
    }
   ],
   "source": [
    "text_list[0]"
   ]
  },
  {
   "cell_type": "code",
   "execution_count": 704,
   "id": "aeffc2fc-f0b0-4b1b-8220-f45add363bed",
   "metadata": {},
   "outputs": [
    {
     "data": {
      "text/plain": [
       "SplitData\n",
       "Train: TextList: (89848 items)\n",
       "[Path('/Users/imad/.fastai/data/imdb/test/neg/1821_4.txt'), Path('/Users/imad/.fastai/data/imdb/test/neg/4604_4.txt'), Path('/Users/imad/.fastai/data/imdb/test/neg/2828_2.txt'), Path('/Users/imad/.fastai/data/imdb/test/neg/10890_1.txt'), Path('/Users/imad/.fastai/data/imdb/test/neg/3351_4.txt'), Path('/Users/imad/.fastai/data/imdb/test/neg/8070_2.txt'), Path('/Users/imad/.fastai/data/imdb/test/neg/1027_4.txt'), Path('/Users/imad/.fastai/data/imdb/test/neg/8248_3.txt'), Path('/Users/imad/.fastai/data/imdb/test/neg/4290_4.txt'), Path('/Users/imad/.fastai/data/imdb/test/neg/10096_1.txt')...]\n",
       "Path: /Users/imad/.fastai/data/imdb\n",
       "Valid: TextList: (10152 items)\n",
       "[Path('/Users/imad/.fastai/data/imdb/test/neg/9487_1.txt'), Path('/Users/imad/.fastai/data/imdb/test/neg/3703_2.txt'), Path('/Users/imad/.fastai/data/imdb/test/neg/5129_4.txt'), Path('/Users/imad/.fastai/data/imdb/test/neg/671_3.txt'), Path('/Users/imad/.fastai/data/imdb/test/neg/3583_3.txt'), Path('/Users/imad/.fastai/data/imdb/test/neg/2813_4.txt'), Path('/Users/imad/.fastai/data/imdb/test/neg/11377_4.txt'), Path('/Users/imad/.fastai/data/imdb/test/neg/11828_1.txt'), Path('/Users/imad/.fastai/data/imdb/test/neg/1162_1.txt'), Path('/Users/imad/.fastai/data/imdb/test/neg/8190_2.txt')...]\n",
       "Path: /Users/imad/.fastai/data/imdb"
      ]
     },
     "execution_count": 704,
     "metadata": {},
     "output_type": "execute_result"
    }
   ],
   "source": [
    "text_splitted = SplitData.split_by_func(\n",
    "    text_list, partial(random_splitter, p_valid=0.1)\n",
    ")\n",
    "text_splitted"
   ]
  },
  {
   "cell_type": "markdown",
   "id": "416c7f5f-c1c2-455d-98fd-f98a00eaf6e7",
   "metadata": {},
   "source": [
    "## Language Model From Scratch"
   ]
  },
  {
   "cell_type": "code",
   "execution_count": 953,
   "id": "721e8bc5-21fd-4f5a-b613-957513515fa9",
   "metadata": {},
   "outputs": [
    {
     "data": {
      "text/plain": [
       "Path('/Users/imad/.fastai/data/human_numbers')"
      ]
     },
     "execution_count": 953,
     "metadata": {},
     "output_type": "execute_result"
    }
   ],
   "source": [
    "path = untar_data(URLs.HUMAN_NUMBERS)\n",
    "path"
   ]
  },
  {
   "cell_type": "code",
   "execution_count": 954,
   "id": "7ce71ab6-a45c-4495-80fc-3f0b26b0eb9d",
   "metadata": {},
   "outputs": [
    {
     "name": "stdout",
     "output_type": "stream",
     "text": [
      "train.txt valid.txt\n"
     ]
    }
   ],
   "source": [
    "!ls {path}"
   ]
  },
  {
   "cell_type": "code",
   "execution_count": 955,
   "id": "e6cf121b-89a3-4e52-9749-b5c96161a1b6",
   "metadata": {},
   "outputs": [
    {
     "name": "stdout",
     "output_type": "stream",
     "text": [
      "    7999 /Users/imad/.fastai/data/human_numbers/train.txt\n",
      "    1999 /Users/imad/.fastai/data/human_numbers/valid.txt\n",
      "    9998 total\n"
     ]
    }
   ],
   "source": [
    "!wc -l {path / \"*.txt\"}"
   ]
  },
  {
   "cell_type": "code",
   "execution_count": 956,
   "id": "83862495-76b9-403e-800b-d3810ec1750c",
   "metadata": {},
   "outputs": [
    {
     "data": {
      "text/plain": [
       "9998"
      ]
     },
     "execution_count": 956,
     "metadata": {},
     "output_type": "execute_result"
    }
   ],
   "source": [
    "lines = []\n",
    "with open(path / \"train.txt\", \"r\") as f:\n",
    "    lines += f.readlines()\n",
    "with open(path / \"valid.txt\", \"r\") as f:\n",
    "    lines += f.readlines()\n",
    "\n",
    "len(lines)"
   ]
  },
  {
   "cell_type": "code",
   "execution_count": 957,
   "id": "3067aec5-458f-4a91-b668-2b58a2d4159d",
   "metadata": {},
   "outputs": [
    {
     "data": {
      "text/plain": [
       "['one \\n',\n",
       " 'two \\n',\n",
       " 'three \\n',\n",
       " 'four \\n',\n",
       " 'five \\n',\n",
       " 'six \\n',\n",
       " 'seven \\n',\n",
       " 'eight \\n',\n",
       " 'nine \\n',\n",
       " 'ten \\n']"
      ]
     },
     "execution_count": 957,
     "metadata": {},
     "output_type": "execute_result"
    }
   ],
   "source": [
    "lines[:10]"
   ]
  },
  {
   "cell_type": "code",
   "execution_count": 795,
   "id": "45239ed4-5507-4586-9d1d-4d582eb465f1",
   "metadata": {},
   "outputs": [
    {
     "data": {
      "text/plain": [
       "'one . two . three . four . five . six . seven . eight . nine . ten . eleven . twelve . thirteen . fo'"
      ]
     },
     "execution_count": 795,
     "metadata": {},
     "output_type": "execute_result"
    }
   ],
   "source": [
    "text = \" . \".join([line.strip() for line in lines])\n",
    "text[:100]"
   ]
  },
  {
   "cell_type": "code",
   "execution_count": 958,
   "id": "61a95a4c-490e-4268-ac5d-454e682723fb",
   "metadata": {},
   "outputs": [
    {
     "data": {
      "text/plain": [
       "['one', '.', 'two', '.', 'three', '.', 'four', '.', 'five', '.']"
      ]
     },
     "execution_count": 958,
     "metadata": {},
     "output_type": "execute_result"
    }
   ],
   "source": [
    "tokens = text.split()\n",
    "tokens[:10]"
   ]
  },
  {
   "cell_type": "code",
   "execution_count": 962,
   "id": "1b988373-3a7a-414b-91fa-ff23a03f9f96",
   "metadata": {},
   "outputs": [
    {
     "data": {
      "text/plain": [
       "{'one': 0,\n",
       " '.': 1,\n",
       " 'two': 2,\n",
       " 'three': 3,\n",
       " 'four': 4,\n",
       " 'five': 5,\n",
       " 'six': 6,\n",
       " 'seven': 7,\n",
       " 'eight': 8,\n",
       " 'nine': 9,\n",
       " 'ten': 10,\n",
       " 'eleven': 11,\n",
       " 'twelve': 12,\n",
       " 'thirteen': 13,\n",
       " 'fourteen': 14,\n",
       " 'fifteen': 15,\n",
       " 'sixteen': 16,\n",
       " 'seventeen': 17,\n",
       " 'eighteen': 18,\n",
       " 'nineteen': 19,\n",
       " 'twenty': 20,\n",
       " 'thirty': 21,\n",
       " 'forty': 22,\n",
       " 'fifty': 23,\n",
       " 'sixty': 24,\n",
       " 'seventy': 25,\n",
       " 'eighty': 26,\n",
       " 'ninety': 27,\n",
       " 'hundred': 28,\n",
       " 'thousand': 29}"
      ]
     },
     "execution_count": 962,
     "metadata": {},
     "output_type": "execute_result"
    }
   ],
   "source": [
    "vocab = uniqueify(tokens)\n",
    "vocab_sz = len(vocab)\n",
    "word_to_index = {w: i for i, w in enumerate(vocab)}\n",
    "index_to_word = {i: w for w, i in word_to_index.items()}\n",
    "word_to_index"
   ]
  },
  {
   "cell_type": "code",
   "execution_count": 963,
   "id": "83750d90-ce0f-4618-a2e2-9e6787ec699f",
   "metadata": {},
   "outputs": [
    {
     "data": {
      "text/plain": [
       "{0: 'one',\n",
       " 1: '.',\n",
       " 2: 'two',\n",
       " 3: 'three',\n",
       " 4: 'four',\n",
       " 5: 'five',\n",
       " 6: 'six',\n",
       " 7: 'seven',\n",
       " 8: 'eight',\n",
       " 9: 'nine',\n",
       " 10: 'ten',\n",
       " 11: 'eleven',\n",
       " 12: 'twelve',\n",
       " 13: 'thirteen',\n",
       " 14: 'fourteen',\n",
       " 15: 'fifteen',\n",
       " 16: 'sixteen',\n",
       " 17: 'seventeen',\n",
       " 18: 'eighteen',\n",
       " 19: 'nineteen',\n",
       " 20: 'twenty',\n",
       " 21: 'thirty',\n",
       " 22: 'forty',\n",
       " 23: 'fifty',\n",
       " 24: 'sixty',\n",
       " 25: 'seventy',\n",
       " 26: 'eighty',\n",
       " 27: 'ninety',\n",
       " 28: 'hundred',\n",
       " 29: 'thousand'}"
      ]
     },
     "execution_count": 963,
     "metadata": {},
     "output_type": "execute_result"
    }
   ],
   "source": [
    "index_to_word"
   ]
  },
  {
   "cell_type": "code",
   "execution_count": 964,
   "id": "441f1f76-8b6f-4c2d-bd72-adf437e99faf",
   "metadata": {},
   "outputs": [
    {
     "data": {
      "text/plain": [
       "[0, 1, 2, 1, 3, 1, 4, 1, 5, 1]"
      ]
     },
     "execution_count": 964,
     "metadata": {},
     "output_type": "execute_result"
    }
   ],
   "source": [
    "numericalized = [word_to_index[w] for w in tokens]\n",
    "numericalized[:10]"
   ]
  },
  {
   "cell_type": "code",
   "execution_count": 965,
   "id": "c1c3eb4b-8798-44a4-ba07-90936f6fd048",
   "metadata": {},
   "outputs": [],
   "source": [
    "# Start with seq_len = 3\n",
    "sl = 3"
   ]
  },
  {
   "cell_type": "code",
   "execution_count": 966,
   "id": "6fc50880-da59-4855-a3ad-8db82aa79de8",
   "metadata": {},
   "outputs": [
    {
     "data": {
      "text/plain": [
       "[(tensor([0, 1, 2]), 1), (tensor([1, 3, 1]), 4)]"
      ]
     },
     "execution_count": 966,
     "metadata": {},
     "output_type": "execute_result"
    }
   ],
   "source": [
    "sequences = ItemList(\n",
    "    [\n",
    "        (torch.tensor(numericalized[i : i + sl]), numericalized[i + sl])\n",
    "        for i in range(0, len(numericalized) - sl - 1, sl)\n",
    "    ]\n",
    ")\n",
    "sequences[:2]"
   ]
  },
  {
   "cell_type": "code",
   "execution_count": 967,
   "id": "0ef6ae4f-4e7b-41bf-b305-68b15ce480b6",
   "metadata": {
    "tags": []
   },
   "outputs": [],
   "source": [
    "# Use 20% for valid\n",
    "bs = 64\n",
    "n_train = int(len(sequences) * 0.8)\n",
    "dls = get_dls(sequences[:n_train], sequences[n_train:], 64)"
   ]
  },
  {
   "cell_type": "code",
   "execution_count": 968,
   "id": "bc8fb554-840a-430b-a468-a12904ff0619",
   "metadata": {},
   "outputs": [
    {
     "data": {
      "text/plain": [
       "(torch.Size([64, 3]),\n",
       " torch.Size([64]),\n",
       " torch.Size([128, 3]),\n",
       " torch.Size([128]))"
      ]
     },
     "execution_count": 968,
     "metadata": {},
     "output_type": "execute_result"
    }
   ],
   "source": [
    "train_batch = next(iter(dls[0]))\n",
    "valid_batch = next(iter(dls[1]))\n",
    "train_batch[0].shape, train_batch[1].shape, valid_batch[0].shape, valid_batch[1].shape"
   ]
  },
  {
   "cell_type": "code",
   "execution_count": 969,
   "id": "dbf245f7-1dec-4729-9516-f73bad27022b",
   "metadata": {},
   "outputs": [],
   "source": [
    "class LMModel1(nn.Module):\n",
    "    def __init__(self, vocab_sz, n_hidden):\n",
    "        super().__init__()\n",
    "        self.i_h = nn.Embedding(vocab_sz, n_hidden)\n",
    "        self.h_h = nn.Linear(n_hidden, n_hidden)\n",
    "        self.h_o = nn.Linear(n_hidden, vocab_sz)\n",
    "\n",
    "    def forward(self, x):\n",
    "        h = F.relu(self.h_h(self.i_h(x[:, 0])))\n",
    "        h = h + self.i_h(x[:, 1])\n",
    "        h = F.relu(self.h_h(h))\n",
    "        h = h + self.i_h(x[:, 2])\n",
    "        h = F.relu(self.h_h(h))\n",
    "        return self.h_o(h)"
   ]
  },
  {
   "cell_type": "code",
   "execution_count": 970,
   "id": "46867319-747a-4456-a268-367c31797f83",
   "metadata": {},
   "outputs": [],
   "source": [
    "cbs = [\n",
    "    AvgStatsCallback(accuracy),\n",
    "]"
   ]
  },
  {
   "cell_type": "code",
   "execution_count": 974,
   "id": "6d23f499-c0ae-4141-9a01-5211e09bba50",
   "metadata": {},
   "outputs": [
    {
     "data": {
      "text/html": [
       "\n",
       "<style>\n",
       "    /* Turns off some styling */\n",
       "    progress {\n",
       "        /* gets rid of default border in Firefox and Opera. */\n",
       "        border: none;\n",
       "        /* Needs to be in here for Safari polyfill so background images work as expected. */\n",
       "        background-size: auto;\n",
       "    }\n",
       "    progress:not([value]), progress:not([value])::-webkit-progress-bar {\n",
       "        background: repeating-linear-gradient(45deg, #7e7e7e, #7e7e7e 10px, #5c5c5c 10px, #5c5c5c 20px);\n",
       "    }\n",
       "    .progress-bar-interrupted, .progress-bar-interrupted::-webkit-progress-bar {\n",
       "        background: #F44336;\n",
       "    }\n",
       "</style>\n"
      ],
      "text/plain": [
       "<IPython.core.display.HTML object>"
      ]
     },
     "metadata": {},
     "output_type": "display_data"
    },
    {
     "data": {
      "text/html": [
       "\n",
       "    <div>\n",
       "      <progress value='0' class='' max='15' style='width:300px; height:20px; vertical-align: middle;'></progress>\n",
       "      \n",
       "    </div>\n",
       "    \n"
      ],
      "text/plain": [
       "<IPython.core.display.HTML object>"
      ]
     },
     "metadata": {},
     "output_type": "display_data"
    },
    {
     "data": {
      "text/html": [
       "\n",
       "<style>\n",
       "    /* Turns off some styling */\n",
       "    progress {\n",
       "        /* gets rid of default border in Firefox and Opera. */\n",
       "        border: none;\n",
       "        /* Needs to be in here for Safari polyfill so background images work as expected. */\n",
       "        background-size: auto;\n",
       "    }\n",
       "    progress:not([value]), progress:not([value])::-webkit-progress-bar {\n",
       "        background: repeating-linear-gradient(45deg, #7e7e7e, #7e7e7e 10px, #5c5c5c 10px, #5c5c5c 20px);\n",
       "    }\n",
       "    .progress-bar-interrupted, .progress-bar-interrupted::-webkit-progress-bar {\n",
       "        background: #F44336;\n",
       "    }\n",
       "</style>\n"
      ],
      "text/plain": [
       "<IPython.core.display.HTML object>"
      ]
     },
     "metadata": {},
     "output_type": "display_data"
    },
    {
     "data": {
      "text/html": [
       "<table border=\"1\" class=\"dataframe\">\n",
       "  <thead>\n",
       "    <tr style=\"text-align: left;\">\n",
       "      <th>epoch</th>\n",
       "      <th>train_loss</th>\n",
       "      <th>train_accuracy</th>\n",
       "      <th>valid_loss</th>\n",
       "      <th>valid_accuracy</th>\n",
       "      <th>time</th>\n",
       "    </tr>\n",
       "  </thead>\n",
       "  <tbody>\n",
       "    <tr>\n",
       "      <td>0</td>\n",
       "      <td>3.314163</td>\n",
       "      <td>0.113469</td>\n",
       "      <td>3.255803</td>\n",
       "      <td>0.141669</td>\n",
       "      <td>00:00</td>\n",
       "    </tr>\n",
       "    <tr>\n",
       "      <td>1</td>\n",
       "      <td>3.119583</td>\n",
       "      <td>0.188243</td>\n",
       "      <td>3.091999</td>\n",
       "      <td>0.145472</td>\n",
       "      <td>00:00</td>\n",
       "    </tr>\n",
       "    <tr>\n",
       "      <td>2</td>\n",
       "      <td>2.907328</td>\n",
       "      <td>0.188362</td>\n",
       "      <td>2.912544</td>\n",
       "      <td>0.145472</td>\n",
       "      <td>00:00</td>\n",
       "    </tr>\n",
       "    <tr>\n",
       "      <td>3</td>\n",
       "      <td>2.685344</td>\n",
       "      <td>0.215704</td>\n",
       "      <td>2.739141</td>\n",
       "      <td>0.219396</td>\n",
       "      <td>00:00</td>\n",
       "    </tr>\n",
       "    <tr>\n",
       "      <td>4</td>\n",
       "      <td>2.494784</td>\n",
       "      <td>0.278293</td>\n",
       "      <td>2.595542</td>\n",
       "      <td>0.280010</td>\n",
       "      <td>00:00</td>\n",
       "    </tr>\n",
       "    <tr>\n",
       "      <td>5</td>\n",
       "      <td>2.340274</td>\n",
       "      <td>0.304149</td>\n",
       "      <td>2.474247</td>\n",
       "      <td>0.344188</td>\n",
       "      <td>00:00</td>\n",
       "    </tr>\n",
       "    <tr>\n",
       "      <td>6</td>\n",
       "      <td>2.213998</td>\n",
       "      <td>0.350808</td>\n",
       "      <td>2.372724</td>\n",
       "      <td>0.388876</td>\n",
       "      <td>00:00</td>\n",
       "    </tr>\n",
       "    <tr>\n",
       "      <td>7</td>\n",
       "      <td>2.112912</td>\n",
       "      <td>0.393723</td>\n",
       "      <td>2.289487</td>\n",
       "      <td>0.416211</td>\n",
       "      <td>00:00</td>\n",
       "    </tr>\n",
       "    <tr>\n",
       "      <td>8</td>\n",
       "      <td>2.032506</td>\n",
       "      <td>0.419698</td>\n",
       "      <td>2.221997</td>\n",
       "      <td>0.435940</td>\n",
       "      <td>00:00</td>\n",
       "    </tr>\n",
       "    <tr>\n",
       "      <td>9</td>\n",
       "      <td>1.966456</td>\n",
       "      <td>0.436341</td>\n",
       "      <td>2.167123</td>\n",
       "      <td>0.449964</td>\n",
       "      <td>00:00</td>\n",
       "    </tr>\n",
       "    <tr>\n",
       "      <td>10</td>\n",
       "      <td>1.910508</td>\n",
       "      <td>0.451498</td>\n",
       "      <td>2.117458</td>\n",
       "      <td>0.468029</td>\n",
       "      <td>00:00</td>\n",
       "    </tr>\n",
       "    <tr>\n",
       "      <td>11</td>\n",
       "      <td>1.861194</td>\n",
       "      <td>0.465228</td>\n",
       "      <td>2.073441</td>\n",
       "      <td>0.475160</td>\n",
       "      <td>00:00</td>\n",
       "    </tr>\n",
       "    <tr>\n",
       "      <td>12</td>\n",
       "      <td>1.817155</td>\n",
       "      <td>0.469032</td>\n",
       "      <td>2.033022</td>\n",
       "      <td>0.478013</td>\n",
       "      <td>00:00</td>\n",
       "    </tr>\n",
       "    <tr>\n",
       "      <td>13</td>\n",
       "      <td>1.777467</td>\n",
       "      <td>0.472004</td>\n",
       "      <td>1.999024</td>\n",
       "      <td>0.480390</td>\n",
       "      <td>00:00</td>\n",
       "    </tr>\n",
       "    <tr>\n",
       "      <td>14</td>\n",
       "      <td>1.742131</td>\n",
       "      <td>0.473669</td>\n",
       "      <td>1.968690</td>\n",
       "      <td>0.480865</td>\n",
       "      <td>00:00</td>\n",
       "    </tr>\n",
       "  </tbody>\n",
       "</table>"
      ],
      "text/plain": [
       "<IPython.core.display.HTML object>"
      ]
     },
     "metadata": {},
     "output_type": "display_data"
    }
   ],
   "source": [
    "model = LMModel1(vocab_sz, 64)\n",
    "opt_func = partial(Optimizer, steppers=[sgd_step])\n",
    "learner = Learner(\n",
    "    model, DataBunch(*dls, None, None), F.cross_entropy, opt_func, cbs=cbs, lr=1e-3\n",
    ")\n",
    "learner.fit(15)"
   ]
  },
  {
   "cell_type": "code",
   "execution_count": 989,
   "id": "f929b29a-57e5-46a0-b858-83ee4284fee8",
   "metadata": {},
   "outputs": [
    {
     "data": {
      "text/plain": [
       "('.', tensor(0.1601))"
      ]
     },
     "execution_count": 989,
     "metadata": {},
     "output_type": "execute_result"
    }
   ],
   "source": [
    "# Compute baseline accuracy -> Predict the most common token\n",
    "n, counts = 0, torch.zeros(vocab_sz)\n",
    "for _, y in dls[0]:\n",
    "    n += y.shape[0]\n",
    "    for i in range(vocab_sz):\n",
    "        counts[i] += (y == i).long().sum()\n",
    "\n",
    "common_token_idx = torch.argmax(counts).item()\n",
    "index_to_word[common_token_idx], counts[common_token_idx] / n"
   ]
  },
  {
   "cell_type": "code",
   "execution_count": 995,
   "id": "eddd92ff-845b-4fcc-828e-1e0b39991894",
   "metadata": {},
   "outputs": [
    {
     "data": {
      "text/plain": [
       "tensor(0.1514)"
      ]
     },
     "execution_count": 995,
     "metadata": {},
     "output_type": "execute_result"
    }
   ],
   "source": [
    "tmp = []\n",
    "for _, y in dls[1]:\n",
    "    tmp += y.tolist()\n",
    "(torch.tensor(tmp) == common_token_idx).float().mean()"
   ]
  },
  {
   "cell_type": "code",
   "execution_count": 997,
   "id": "ecbed654-88a9-403d-9c0f-3d7ea931ac45",
   "metadata": {},
   "outputs": [],
   "source": [
    "class LMModel2(nn.Module):\n",
    "    def __init__(self, vocab_sz, n_hidden):\n",
    "        super().__init__()\n",
    "        self.i_h = nn.Embedding(vocab_sz, n_hidden)\n",
    "        self.h_h = nn.Linear(n_hidden, n_hidden)\n",
    "        self.h_o = nn.Linear(n_hidden, vocab_sz)\n",
    "\n",
    "    def forward(self, x):\n",
    "        h = 0\n",
    "        for i in range(sl):\n",
    "            h = h + self.i_h(x[:, i])\n",
    "            h = self.h_h(h)\n",
    "        return self.h_o(h)"
   ]
  },
  {
   "cell_type": "code",
   "execution_count": 999,
   "id": "cba2e3e0-f82f-4b47-bf54-9fc6e519a0a7",
   "metadata": {},
   "outputs": [
    {
     "data": {
      "text/html": [
       "\n",
       "<style>\n",
       "    /* Turns off some styling */\n",
       "    progress {\n",
       "        /* gets rid of default border in Firefox and Opera. */\n",
       "        border: none;\n",
       "        /* Needs to be in here for Safari polyfill so background images work as expected. */\n",
       "        background-size: auto;\n",
       "    }\n",
       "    progress:not([value]), progress:not([value])::-webkit-progress-bar {\n",
       "        background: repeating-linear-gradient(45deg, #7e7e7e, #7e7e7e 10px, #5c5c5c 10px, #5c5c5c 20px);\n",
       "    }\n",
       "    .progress-bar-interrupted, .progress-bar-interrupted::-webkit-progress-bar {\n",
       "        background: #F44336;\n",
       "    }\n",
       "</style>\n"
      ],
      "text/plain": [
       "<IPython.core.display.HTML object>"
      ]
     },
     "metadata": {},
     "output_type": "display_data"
    },
    {
     "data": {
      "text/html": [
       "\n",
       "    <div>\n",
       "      <progress value='0' class='' max='15' style='width:300px; height:20px; vertical-align: middle;'></progress>\n",
       "      \n",
       "    </div>\n",
       "    \n"
      ],
      "text/plain": [
       "<IPython.core.display.HTML object>"
      ]
     },
     "metadata": {},
     "output_type": "display_data"
    },
    {
     "data": {
      "text/html": [
       "\n",
       "<style>\n",
       "    /* Turns off some styling */\n",
       "    progress {\n",
       "        /* gets rid of default border in Firefox and Opera. */\n",
       "        border: none;\n",
       "        /* Needs to be in here for Safari polyfill so background images work as expected. */\n",
       "        background-size: auto;\n",
       "    }\n",
       "    progress:not([value]), progress:not([value])::-webkit-progress-bar {\n",
       "        background: repeating-linear-gradient(45deg, #7e7e7e, #7e7e7e 10px, #5c5c5c 10px, #5c5c5c 20px);\n",
       "    }\n",
       "    .progress-bar-interrupted, .progress-bar-interrupted::-webkit-progress-bar {\n",
       "        background: #F44336;\n",
       "    }\n",
       "</style>\n"
      ],
      "text/plain": [
       "<IPython.core.display.HTML object>"
      ]
     },
     "metadata": {},
     "output_type": "display_data"
    },
    {
     "data": {
      "text/html": [
       "<table border=\"1\" class=\"dataframe\">\n",
       "  <thead>\n",
       "    <tr style=\"text-align: left;\">\n",
       "      <th>epoch</th>\n",
       "      <th>train_loss</th>\n",
       "      <th>train_accuracy</th>\n",
       "      <th>valid_loss</th>\n",
       "      <th>valid_accuracy</th>\n",
       "      <th>time</th>\n",
       "    </tr>\n",
       "  </thead>\n",
       "  <tbody>\n",
       "    <tr>\n",
       "      <td>0</td>\n",
       "      <td>3.275491</td>\n",
       "      <td>0.108952</td>\n",
       "      <td>3.142990</td>\n",
       "      <td>0.234134</td>\n",
       "      <td>00:00</td>\n",
       "    </tr>\n",
       "    <tr>\n",
       "      <td>1</td>\n",
       "      <td>2.860596</td>\n",
       "      <td>0.357406</td>\n",
       "      <td>2.737163</td>\n",
       "      <td>0.445923</td>\n",
       "      <td>00:00</td>\n",
       "    </tr>\n",
       "    <tr>\n",
       "      <td>2</td>\n",
       "      <td>2.429721</td>\n",
       "      <td>0.440204</td>\n",
       "      <td>2.365122</td>\n",
       "      <td>0.456145</td>\n",
       "      <td>00:00</td>\n",
       "    </tr>\n",
       "    <tr>\n",
       "      <td>3</td>\n",
       "      <td>2.129485</td>\n",
       "      <td>0.450547</td>\n",
       "      <td>2.164614</td>\n",
       "      <td>0.459472</td>\n",
       "      <td>00:00</td>\n",
       "    </tr>\n",
       "    <tr>\n",
       "      <td>4</td>\n",
       "      <td>1.967991</td>\n",
       "      <td>0.456431</td>\n",
       "      <td>2.058883</td>\n",
       "      <td>0.466841</td>\n",
       "      <td>00:00</td>\n",
       "    </tr>\n",
       "    <tr>\n",
       "      <td>5</td>\n",
       "      <td>1.865803</td>\n",
       "      <td>0.460592</td>\n",
       "      <td>1.990213</td>\n",
       "      <td>0.473497</td>\n",
       "      <td>00:00</td>\n",
       "    </tr>\n",
       "    <tr>\n",
       "      <td>6</td>\n",
       "      <td>1.792001</td>\n",
       "      <td>0.465169</td>\n",
       "      <td>1.941263</td>\n",
       "      <td>0.473972</td>\n",
       "      <td>00:00</td>\n",
       "    </tr>\n",
       "    <tr>\n",
       "      <td>7</td>\n",
       "      <td>1.736395</td>\n",
       "      <td>0.466001</td>\n",
       "      <td>1.906071</td>\n",
       "      <td>0.474447</td>\n",
       "      <td>00:00</td>\n",
       "    </tr>\n",
       "    <tr>\n",
       "      <td>8</td>\n",
       "      <td>1.693881</td>\n",
       "      <td>0.467487</td>\n",
       "      <td>1.881186</td>\n",
       "      <td>0.473972</td>\n",
       "      <td>00:00</td>\n",
       "    </tr>\n",
       "    <tr>\n",
       "      <td>9</td>\n",
       "      <td>1.660994</td>\n",
       "      <td>0.468676</td>\n",
       "      <td>1.863959</td>\n",
       "      <td>0.467792</td>\n",
       "      <td>00:00</td>\n",
       "    </tr>\n",
       "    <tr>\n",
       "      <td>10</td>\n",
       "      <td>1.634973</td>\n",
       "      <td>0.469330</td>\n",
       "      <td>1.849653</td>\n",
       "      <td>0.470169</td>\n",
       "      <td>00:00</td>\n",
       "    </tr>\n",
       "    <tr>\n",
       "      <td>11</td>\n",
       "      <td>1.614236</td>\n",
       "      <td>0.470934</td>\n",
       "      <td>1.840467</td>\n",
       "      <td>0.470644</td>\n",
       "      <td>00:00</td>\n",
       "    </tr>\n",
       "    <tr>\n",
       "      <td>12</td>\n",
       "      <td>1.597337</td>\n",
       "      <td>0.472836</td>\n",
       "      <td>1.832649</td>\n",
       "      <td>0.471120</td>\n",
       "      <td>00:00</td>\n",
       "    </tr>\n",
       "    <tr>\n",
       "      <td>13</td>\n",
       "      <td>1.583274</td>\n",
       "      <td>0.474798</td>\n",
       "      <td>1.826546</td>\n",
       "      <td>0.472546</td>\n",
       "      <td>00:00</td>\n",
       "    </tr>\n",
       "    <tr>\n",
       "      <td>14</td>\n",
       "      <td>1.571394</td>\n",
       "      <td>0.476581</td>\n",
       "      <td>1.820644</td>\n",
       "      <td>0.473497</td>\n",
       "      <td>00:00</td>\n",
       "    </tr>\n",
       "  </tbody>\n",
       "</table>"
      ],
      "text/plain": [
       "<IPython.core.display.HTML object>"
      ]
     },
     "metadata": {},
     "output_type": "display_data"
    }
   ],
   "source": [
    "model = LMModel2(vocab_sz, 64)\n",
    "opt_func = partial(Optimizer, steppers=[sgd_step])\n",
    "learner = Learner(\n",
    "    model, DataBunch(*dls, None, None), F.cross_entropy, opt_func, cbs=cbs, lr=1e-3\n",
    ")\n",
    "learner.fit(15)"
   ]
  },
  {
   "cell_type": "code",
   "execution_count": 1000,
   "id": "f73ebb66-3c2a-4d68-8b22-0083ccfe0245",
   "metadata": {},
   "outputs": [],
   "source": [
    "class LMModel3(nn.Module):\n",
    "    def __init__(self, vocab_sz, n_hidden):\n",
    "        super().__init__()\n",
    "        self.i_h = nn.Embedding(vocab_sz, n_hidden)\n",
    "        self.h_h = nn.Linear(n_hidden, n_hidden)\n",
    "        self.h_o = nn.Linear(n_hidden, vocab_sz)\n",
    "        self.h = 0\n",
    "\n",
    "    def forward(self, x):\n",
    "        for i in range(sl):\n",
    "            self.h = self.h + self.i_h(x[:, i])\n",
    "            self.h = F.relu(self.h_h(self.h))\n",
    "        out = self.h_o(self.h)\n",
    "        self.h = self.h.detach()\n",
    "        return out\n",
    "\n",
    "    def reset(self):\n",
    "        self.h = 0"
   ]
  },
  {
   "cell_type": "code",
   "execution_count": 1003,
   "id": "875d6c6c-9a7d-464b-b5b5-0d17ad5e7cab",
   "metadata": {
    "tags": []
   },
   "outputs": [
    {
     "data": {
      "text/plain": [
       "(20992, 16793)"
      ]
     },
     "execution_count": 1003,
     "metadata": {},
     "output_type": "execute_result"
    }
   ],
   "source": [
    "# Arrange text in certain order so that 1st window in 2nd\n",
    "# batch will be continuation of 1st window in 2nd batch\n",
    "bptt = len(sequences) // bs\n",
    "trimmed_seq = sequences[: bptt * bs]\n",
    "ordered_sequences = []\n",
    "for i in range(bptt):\n",
    "    ordered_sequences += [trimmed_seq[i + bptt * j] for j in range(bs)]\n",
    "n_train = int(len(trimmed_seq) * 0.8)\n",
    "dls = [\n",
    "    DataLoader(ordered_sequences[:n_train], bs, shuffle=False, drop_last=True),\n",
    "    DataLoader(ordered_sequences[n_train:], bs * 2, shuffle=False, drop_last=True),\n",
    "]\n",
    "len(ordered_sequences), n_train"
   ]
  },
  {
   "cell_type": "code",
   "execution_count": 1004,
   "id": "d214962b-7618-440d-9de6-d3da3bd67b4b",
   "metadata": {},
   "outputs": [
    {
     "data": {
      "text/plain": [
       "(torch.Size([64, 3]),\n",
       " torch.Size([64]),\n",
       " torch.Size([128, 3]),\n",
       " torch.Size([128]))"
      ]
     },
     "execution_count": 1004,
     "metadata": {},
     "output_type": "execute_result"
    }
   ],
   "source": [
    "train_batch = next(iter(dls[0]))\n",
    "valid_batch = next(iter(dls[1]))\n",
    "train_batch[0].shape, train_batch[1].shape, valid_batch[0].shape, valid_batch[1].shape"
   ]
  },
  {
   "cell_type": "code",
   "execution_count": 1006,
   "id": "98e9c74a-dcc0-4d1f-820e-0a8bdee55886",
   "metadata": {},
   "outputs": [],
   "source": [
    "cbs = [AvgStatsCallback(accuracy), ModelResetter()]"
   ]
  },
  {
   "cell_type": "code",
   "execution_count": 1007,
   "id": "039b4e2d-86dd-442b-8d35-58c08251a0c6",
   "metadata": {},
   "outputs": [
    {
     "data": {
      "text/html": [
       "\n",
       "<style>\n",
       "    /* Turns off some styling */\n",
       "    progress {\n",
       "        /* gets rid of default border in Firefox and Opera. */\n",
       "        border: none;\n",
       "        /* Needs to be in here for Safari polyfill so background images work as expected. */\n",
       "        background-size: auto;\n",
       "    }\n",
       "    progress:not([value]), progress:not([value])::-webkit-progress-bar {\n",
       "        background: repeating-linear-gradient(45deg, #7e7e7e, #7e7e7e 10px, #5c5c5c 10px, #5c5c5c 20px);\n",
       "    }\n",
       "    .progress-bar-interrupted, .progress-bar-interrupted::-webkit-progress-bar {\n",
       "        background: #F44336;\n",
       "    }\n",
       "</style>\n"
      ],
      "text/plain": [
       "<IPython.core.display.HTML object>"
      ]
     },
     "metadata": {},
     "output_type": "display_data"
    },
    {
     "data": {
      "text/html": [
       "\n",
       "    <div>\n",
       "      <progress value='0' class='' max='15' style='width:300px; height:20px; vertical-align: middle;'></progress>\n",
       "      \n",
       "    </div>\n",
       "    \n"
      ],
      "text/plain": [
       "<IPython.core.display.HTML object>"
      ]
     },
     "metadata": {},
     "output_type": "display_data"
    },
    {
     "data": {
      "text/html": [
       "\n",
       "<style>\n",
       "    /* Turns off some styling */\n",
       "    progress {\n",
       "        /* gets rid of default border in Firefox and Opera. */\n",
       "        border: none;\n",
       "        /* Needs to be in here for Safari polyfill so background images work as expected. */\n",
       "        background-size: auto;\n",
       "    }\n",
       "    progress:not([value]), progress:not([value])::-webkit-progress-bar {\n",
       "        background: repeating-linear-gradient(45deg, #7e7e7e, #7e7e7e 10px, #5c5c5c 10px, #5c5c5c 20px);\n",
       "    }\n",
       "    .progress-bar-interrupted, .progress-bar-interrupted::-webkit-progress-bar {\n",
       "        background: #F44336;\n",
       "    }\n",
       "</style>\n"
      ],
      "text/plain": [
       "<IPython.core.display.HTML object>"
      ]
     },
     "metadata": {},
     "output_type": "display_data"
    },
    {
     "data": {
      "text/html": [
       "<table border=\"1\" class=\"dataframe\">\n",
       "  <thead>\n",
       "    <tr style=\"text-align: left;\">\n",
       "      <th>epoch</th>\n",
       "      <th>train_loss</th>\n",
       "      <th>train_accuracy</th>\n",
       "      <th>valid_loss</th>\n",
       "      <th>valid_accuracy</th>\n",
       "      <th>time</th>\n",
       "    </tr>\n",
       "  </thead>\n",
       "  <tbody>\n",
       "    <tr>\n",
       "      <td>0</td>\n",
       "      <td>3.407872</td>\n",
       "      <td>0.045444</td>\n",
       "      <td>3.330662</td>\n",
       "      <td>0.065186</td>\n",
       "      <td>00:00</td>\n",
       "    </tr>\n",
       "    <tr>\n",
       "      <td>1</td>\n",
       "      <td>3.256225</td>\n",
       "      <td>0.121004</td>\n",
       "      <td>3.184708</td>\n",
       "      <td>0.167236</td>\n",
       "      <td>00:00</td>\n",
       "    </tr>\n",
       "    <tr>\n",
       "      <td>2</td>\n",
       "      <td>3.106930</td>\n",
       "      <td>0.198831</td>\n",
       "      <td>3.032690</td>\n",
       "      <td>0.240479</td>\n",
       "      <td>00:00</td>\n",
       "    </tr>\n",
       "    <tr>\n",
       "      <td>3</td>\n",
       "      <td>2.945402</td>\n",
       "      <td>0.256918</td>\n",
       "      <td>2.862518</td>\n",
       "      <td>0.271973</td>\n",
       "      <td>00:00</td>\n",
       "    </tr>\n",
       "    <tr>\n",
       "      <td>4</td>\n",
       "      <td>2.766773</td>\n",
       "      <td>0.272603</td>\n",
       "      <td>2.678149</td>\n",
       "      <td>0.287842</td>\n",
       "      <td>00:00</td>\n",
       "    </tr>\n",
       "    <tr>\n",
       "      <td>5</td>\n",
       "      <td>2.586037</td>\n",
       "      <td>0.295026</td>\n",
       "      <td>2.503462</td>\n",
       "      <td>0.314209</td>\n",
       "      <td>00:00</td>\n",
       "    </tr>\n",
       "    <tr>\n",
       "      <td>6</td>\n",
       "      <td>2.422326</td>\n",
       "      <td>0.339933</td>\n",
       "      <td>2.350495</td>\n",
       "      <td>0.356445</td>\n",
       "      <td>00:00</td>\n",
       "    </tr>\n",
       "    <tr>\n",
       "      <td>7</td>\n",
       "      <td>2.273276</td>\n",
       "      <td>0.392772</td>\n",
       "      <td>2.212600</td>\n",
       "      <td>0.395020</td>\n",
       "      <td>00:00</td>\n",
       "    </tr>\n",
       "    <tr>\n",
       "      <td>8</td>\n",
       "      <td>2.135283</td>\n",
       "      <td>0.434220</td>\n",
       "      <td>2.091578</td>\n",
       "      <td>0.430664</td>\n",
       "      <td>00:00</td>\n",
       "    </tr>\n",
       "    <tr>\n",
       "      <td>9</td>\n",
       "      <td>2.013641</td>\n",
       "      <td>0.447937</td>\n",
       "      <td>1.992820</td>\n",
       "      <td>0.440918</td>\n",
       "      <td>00:00</td>\n",
       "    </tr>\n",
       "    <tr>\n",
       "      <td>10</td>\n",
       "      <td>1.911728</td>\n",
       "      <td>0.453841</td>\n",
       "      <td>1.914628</td>\n",
       "      <td>0.445068</td>\n",
       "      <td>00:00</td>\n",
       "    </tr>\n",
       "    <tr>\n",
       "      <td>11</td>\n",
       "      <td>1.829159</td>\n",
       "      <td>0.460997</td>\n",
       "      <td>1.852948</td>\n",
       "      <td>0.447998</td>\n",
       "      <td>00:00</td>\n",
       "    </tr>\n",
       "    <tr>\n",
       "      <td>12</td>\n",
       "      <td>1.763619</td>\n",
       "      <td>0.466782</td>\n",
       "      <td>1.803957</td>\n",
       "      <td>0.452637</td>\n",
       "      <td>00:00</td>\n",
       "    </tr>\n",
       "    <tr>\n",
       "      <td>13</td>\n",
       "      <td>1.712594</td>\n",
       "      <td>0.472030</td>\n",
       "      <td>1.765250</td>\n",
       "      <td>0.456299</td>\n",
       "      <td>00:00</td>\n",
       "    </tr>\n",
       "    <tr>\n",
       "      <td>14</td>\n",
       "      <td>1.673329</td>\n",
       "      <td>0.474058</td>\n",
       "      <td>1.734904</td>\n",
       "      <td>0.458008</td>\n",
       "      <td>00:00</td>\n",
       "    </tr>\n",
       "  </tbody>\n",
       "</table>"
      ],
      "text/plain": [
       "<IPython.core.display.HTML object>"
      ]
     },
     "metadata": {},
     "output_type": "display_data"
    }
   ],
   "source": [
    "model = LMModel3(vocab_sz, 64)\n",
    "opt_func = partial(Optimizer, steppers=[sgd_step])\n",
    "learner = Learner(\n",
    "    model, DataBunch(*dls, None, None), F.cross_entropy, opt_func, cbs=cbs, lr=1e-3\n",
    ")\n",
    "learner.fit(15)"
   ]
  },
  {
   "cell_type": "code",
   "execution_count": 1008,
   "id": "d2d77ef1-c2ef-4da5-94a9-c7fe2b612d2d",
   "metadata": {},
   "outputs": [
    {
     "data": {
      "text/plain": [
       "[(tensor([0, 1, 2, 1, 3, 1, 4, 1, 5, 1, 6, 1, 7, 1, 8, 1]),\n",
       "  tensor([1, 2, 1, 3, 1, 4, 1, 5, 1, 6, 1, 7, 1, 8, 1, 9])),\n",
       " (tensor([ 9,  1, 10,  1, 11,  1, 12,  1, 13,  1, 14,  1, 15,  1, 16,  1]),\n",
       "  tensor([ 1, 10,  1, 11,  1, 12,  1, 13,  1, 14,  1, 15,  1, 16,  1, 17]))]"
      ]
     },
     "execution_count": 1008,
     "metadata": {},
     "output_type": "execute_result"
    }
   ],
   "source": [
    "seq_len = 16\n",
    "sequences = ItemList(\n",
    "    [\n",
    "        (\n",
    "            torch.tensor(numericalized[i : i + seq_len]),\n",
    "            torch.tensor(numericalized[i + 1 : i + 1 + seq_len]),\n",
    "        )\n",
    "        for i in range(0, len(numericalized) - seq_len - 1, seq_len)\n",
    "    ]\n",
    ")\n",
    "sequences[:2]"
   ]
  },
  {
   "cell_type": "code",
   "execution_count": 1009,
   "id": "517ad194-cfeb-4a45-9bb5-52dedec8eeb4",
   "metadata": {
    "tags": []
   },
   "outputs": [
    {
     "data": {
      "text/plain": [
       "(3904, 3123)"
      ]
     },
     "execution_count": 1009,
     "metadata": {},
     "output_type": "execute_result"
    }
   ],
   "source": [
    "# Arrange text in certain order so that 1st window in 2nd\n",
    "# batch will be continuation of 1st window in 2nd batch\n",
    "bptt = len(sequences) // bs\n",
    "trimmed_seq = sequences[: bptt * bs]\n",
    "ordered_sequences = []\n",
    "for i in range(bptt):\n",
    "    ordered_sequences += [trimmed_seq[i + bptt * j] for j in range(bs)]\n",
    "n_train = int(len(trimmed_seq) * 0.8)\n",
    "dls = [\n",
    "    DataLoader(ordered_sequences[:n_train], bs, shuffle=False, drop_last=True),\n",
    "    DataLoader(ordered_sequences[n_train:], bs * 2, shuffle=False, drop_last=True),\n",
    "]\n",
    "len(ordered_sequences), n_train"
   ]
  },
  {
   "cell_type": "code",
   "execution_count": 1010,
   "id": "0ecf620d-79f5-4cf5-8879-e48fe434833e",
   "metadata": {},
   "outputs": [
    {
     "data": {
      "text/plain": [
       "(torch.Size([64, 16]),\n",
       " torch.Size([64, 16]),\n",
       " torch.Size([128, 16]),\n",
       " torch.Size([128, 16]))"
      ]
     },
     "execution_count": 1010,
     "metadata": {},
     "output_type": "execute_result"
    }
   ],
   "source": [
    "train_batch = next(iter(dls[0]))\n",
    "valid_batch = next(iter(dls[1]))\n",
    "train_batch[0].shape, train_batch[1].shape, valid_batch[0].shape, valid_batch[1].shape"
   ]
  },
  {
   "cell_type": "code",
   "execution_count": 1011,
   "id": "5b28033d-57c5-4ee9-8b48-1e944e08b60c",
   "metadata": {},
   "outputs": [],
   "source": [
    "class LMModel4(nn.Module):\n",
    "    def __init__(self, vocab_sz, n_hidden, seq_len):\n",
    "        super().__init__()\n",
    "        self.seq_len = seq_len\n",
    "        self.i_h = nn.Embedding(vocab_sz, n_hidden)\n",
    "        self.h_h = nn.Linear(n_hidden, n_hidden)\n",
    "        self.h_o = nn.Linear(n_hidden, vocab_sz)\n",
    "        self.h = 0\n",
    "\n",
    "    def forward(self, x):\n",
    "        outs = []\n",
    "        for i in range(self.seq_len):\n",
    "            self.h = self.h + self.i_h(x[:, i])\n",
    "            self.h = F.relu(self.h_h(self.h))\n",
    "            outs.append(self.h_o(self.h))\n",
    "        self.h = self.h.detach()\n",
    "        return torch.stack(outs, dim=1)\n",
    "\n",
    "    def reset(self):\n",
    "        self.h = 0"
   ]
  },
  {
   "cell_type": "code",
   "execution_count": 1012,
   "id": "f438cfe0-55a5-4a97-b62d-490459eebbfa",
   "metadata": {},
   "outputs": [],
   "source": [
    "def loss_func(inp, target):\n",
    "    return F.cross_entropy(inp.view(-1, vocab_sz), target.view(-1))"
   ]
  },
  {
   "cell_type": "code",
   "execution_count": 1013,
   "id": "a61f9e68-13bd-44c5-a56d-82c8699d0457",
   "metadata": {},
   "outputs": [],
   "source": [
    "def accuracy_mod(pred, target):\n",
    "    return (pred.view(-1, vocab_sz).argmax(dim=1) == target.view(-1)).float().mean()"
   ]
  },
  {
   "cell_type": "code",
   "execution_count": 1015,
   "id": "7ad3544f-4b31-4c50-9ddd-c8e2dbf992e5",
   "metadata": {},
   "outputs": [],
   "source": [
    "cbs = [AvgStatsCallback(accuracy_mod), ModelResetter()]"
   ]
  },
  {
   "cell_type": "code",
   "execution_count": 1019,
   "id": "5676b39f-7b6e-4eec-8bf6-e9e9582f1518",
   "metadata": {},
   "outputs": [
    {
     "data": {
      "text/html": [
       "\n",
       "<style>\n",
       "    /* Turns off some styling */\n",
       "    progress {\n",
       "        /* gets rid of default border in Firefox and Opera. */\n",
       "        border: none;\n",
       "        /* Needs to be in here for Safari polyfill so background images work as expected. */\n",
       "        background-size: auto;\n",
       "    }\n",
       "    progress:not([value]), progress:not([value])::-webkit-progress-bar {\n",
       "        background: repeating-linear-gradient(45deg, #7e7e7e, #7e7e7e 10px, #5c5c5c 10px, #5c5c5c 20px);\n",
       "    }\n",
       "    .progress-bar-interrupted, .progress-bar-interrupted::-webkit-progress-bar {\n",
       "        background: #F44336;\n",
       "    }\n",
       "</style>\n"
      ],
      "text/plain": [
       "<IPython.core.display.HTML object>"
      ]
     },
     "metadata": {},
     "output_type": "display_data"
    },
    {
     "data": {
      "text/html": [
       "\n",
       "    <div>\n",
       "      <progress value='0' class='' max='15' style='width:300px; height:20px; vertical-align: middle;'></progress>\n",
       "      \n",
       "    </div>\n",
       "    \n"
      ],
      "text/plain": [
       "<IPython.core.display.HTML object>"
      ]
     },
     "metadata": {},
     "output_type": "display_data"
    },
    {
     "data": {
      "text/html": [
       "\n",
       "<style>\n",
       "    /* Turns off some styling */\n",
       "    progress {\n",
       "        /* gets rid of default border in Firefox and Opera. */\n",
       "        border: none;\n",
       "        /* Needs to be in here for Safari polyfill so background images work as expected. */\n",
       "        background-size: auto;\n",
       "    }\n",
       "    progress:not([value]), progress:not([value])::-webkit-progress-bar {\n",
       "        background: repeating-linear-gradient(45deg, #7e7e7e, #7e7e7e 10px, #5c5c5c 10px, #5c5c5c 20px);\n",
       "    }\n",
       "    .progress-bar-interrupted, .progress-bar-interrupted::-webkit-progress-bar {\n",
       "        background: #F44336;\n",
       "    }\n",
       "</style>\n"
      ],
      "text/plain": [
       "<IPython.core.display.HTML object>"
      ]
     },
     "metadata": {},
     "output_type": "display_data"
    },
    {
     "data": {
      "text/html": [
       "<table border=\"1\" class=\"dataframe\">\n",
       "  <thead>\n",
       "    <tr style=\"text-align: left;\">\n",
       "      <th>epoch</th>\n",
       "      <th>train_loss</th>\n",
       "      <th>train_accuracy_mod</th>\n",
       "      <th>valid_loss</th>\n",
       "      <th>valid_accuracy_mod</th>\n",
       "      <th>time</th>\n",
       "    </tr>\n",
       "  </thead>\n",
       "  <tbody>\n",
       "    <tr>\n",
       "      <td>0</td>\n",
       "      <td>3.461289</td>\n",
       "      <td>0.023499</td>\n",
       "      <td>3.453429</td>\n",
       "      <td>0.027669</td>\n",
       "      <td>00:00</td>\n",
       "    </tr>\n",
       "    <tr>\n",
       "      <td>1</td>\n",
       "      <td>3.429416</td>\n",
       "      <td>0.043844</td>\n",
       "      <td>3.422153</td>\n",
       "      <td>0.055664</td>\n",
       "      <td>00:00</td>\n",
       "    </tr>\n",
       "    <tr>\n",
       "      <td>2</td>\n",
       "      <td>3.398503</td>\n",
       "      <td>0.063599</td>\n",
       "      <td>3.391668</td>\n",
       "      <td>0.066976</td>\n",
       "      <td>00:00</td>\n",
       "    </tr>\n",
       "    <tr>\n",
       "      <td>3</td>\n",
       "      <td>3.368210</td>\n",
       "      <td>0.075989</td>\n",
       "      <td>3.361670</td>\n",
       "      <td>0.082438</td>\n",
       "      <td>00:00</td>\n",
       "    </tr>\n",
       "    <tr>\n",
       "      <td>4</td>\n",
       "      <td>3.338241</td>\n",
       "      <td>0.102153</td>\n",
       "      <td>3.331842</td>\n",
       "      <td>0.116536</td>\n",
       "      <td>00:00</td>\n",
       "    </tr>\n",
       "    <tr>\n",
       "      <td>5</td>\n",
       "      <td>3.308299</td>\n",
       "      <td>0.135579</td>\n",
       "      <td>3.301946</td>\n",
       "      <td>0.142904</td>\n",
       "      <td>00:00</td>\n",
       "    </tr>\n",
       "    <tr>\n",
       "      <td>6</td>\n",
       "      <td>3.278153</td>\n",
       "      <td>0.157125</td>\n",
       "      <td>3.271731</td>\n",
       "      <td>0.161051</td>\n",
       "      <td>00:00</td>\n",
       "    </tr>\n",
       "    <tr>\n",
       "      <td>7</td>\n",
       "      <td>3.247546</td>\n",
       "      <td>0.174438</td>\n",
       "      <td>3.240968</td>\n",
       "      <td>0.173584</td>\n",
       "      <td>00:00</td>\n",
       "    </tr>\n",
       "    <tr>\n",
       "      <td>8</td>\n",
       "      <td>3.216268</td>\n",
       "      <td>0.186198</td>\n",
       "      <td>3.209457</td>\n",
       "      <td>0.185628</td>\n",
       "      <td>00:00</td>\n",
       "    </tr>\n",
       "    <tr>\n",
       "      <td>9</td>\n",
       "      <td>3.184102</td>\n",
       "      <td>0.199137</td>\n",
       "      <td>3.176949</td>\n",
       "      <td>0.205160</td>\n",
       "      <td>00:00</td>\n",
       "    </tr>\n",
       "    <tr>\n",
       "      <td>10</td>\n",
       "      <td>3.150711</td>\n",
       "      <td>0.225789</td>\n",
       "      <td>3.143076</td>\n",
       "      <td>0.232829</td>\n",
       "      <td>00:00</td>\n",
       "    </tr>\n",
       "    <tr>\n",
       "      <td>11</td>\n",
       "      <td>3.115798</td>\n",
       "      <td>0.245483</td>\n",
       "      <td>3.107614</td>\n",
       "      <td>0.246257</td>\n",
       "      <td>00:00</td>\n",
       "    </tr>\n",
       "    <tr>\n",
       "      <td>12</td>\n",
       "      <td>3.079200</td>\n",
       "      <td>0.251790</td>\n",
       "      <td>3.070413</td>\n",
       "      <td>0.252035</td>\n",
       "      <td>00:00</td>\n",
       "    </tr>\n",
       "    <tr>\n",
       "      <td>13</td>\n",
       "      <td>3.040651</td>\n",
       "      <td>0.254374</td>\n",
       "      <td>3.031153</td>\n",
       "      <td>0.254557</td>\n",
       "      <td>00:00</td>\n",
       "    </tr>\n",
       "    <tr>\n",
       "      <td>14</td>\n",
       "      <td>2.999812</td>\n",
       "      <td>0.256348</td>\n",
       "      <td>2.989470</td>\n",
       "      <td>0.257243</td>\n",
       "      <td>00:00</td>\n",
       "    </tr>\n",
       "  </tbody>\n",
       "</table>"
      ],
      "text/plain": [
       "<IPython.core.display.HTML object>"
      ]
     },
     "metadata": {},
     "output_type": "display_data"
    }
   ],
   "source": [
    "model = LMModel4(vocab_sz, 64, seq_len)\n",
    "opt_func = partial(Optimizer, steppers=[sgd_step])\n",
    "learner = Learner(\n",
    "    model, DataBunch(*dls, None, None), loss_func, opt_func, cbs=cbs, lr=1e-3\n",
    ")\n",
    "learner.fit(15)"
   ]
  },
  {
   "cell_type": "code",
   "execution_count": 1031,
   "id": "67e3520b-ca79-4ec4-9e26-da10a5265a3e",
   "metadata": {},
   "outputs": [],
   "source": [
    "class LMModel5(nn.Module):\n",
    "    def __init__(self, vocab_sz, n_hidden, n_layers):\n",
    "        super().__init__()\n",
    "        self.i_h = nn.Embedding(vocab_sz, n_hidden)\n",
    "        self.rnn = nn.RNN(n_hidden, n_hidden, n_layers, batch_first=True)\n",
    "        self.h_o = nn.Linear(n_hidden, vocab_sz)\n",
    "        self.h = torch.zeros(n_layers, bs, n_hidden)\n",
    "\n",
    "    def forward(self, x):\n",
    "        res, h = self.rnn(self.i_h(x), self.h)\n",
    "        out = self.h_o(res)\n",
    "        self.h = h.detach()\n",
    "        return out\n",
    "\n",
    "    def reset(self):\n",
    "        self.h = self.h.zero_()"
   ]
  },
  {
   "cell_type": "code",
   "execution_count": 1032,
   "id": "9b59dbaf-6c49-44a0-a037-a90b63b0dd91",
   "metadata": {},
   "outputs": [],
   "source": [
    "cbs = [AvgStatsCallback(accuracy_mod), ModelResetter()]"
   ]
  },
  {
   "cell_type": "code",
   "execution_count": 1034,
   "id": "091e8bc3-302c-418e-841b-9fcf3d4bda89",
   "metadata": {},
   "outputs": [
    {
     "data": {
      "text/plain": [
       "(3904, 3123)"
      ]
     },
     "execution_count": 1034,
     "metadata": {},
     "output_type": "execute_result"
    }
   ],
   "source": [
    "dls = [\n",
    "    DataLoader(ordered_sequences[:n_train], bs, shuffle=False, drop_last=True),\n",
    "    DataLoader(ordered_sequences[n_train:], bs, shuffle=False, drop_last=True),\n",
    "]\n",
    "len(ordered_sequences), n_train"
   ]
  },
  {
   "cell_type": "code",
   "execution_count": 1035,
   "id": "e25f02f4-2f5b-4914-9285-94cd4ceac301",
   "metadata": {},
   "outputs": [
    {
     "data": {
      "text/html": [
       "\n",
       "<style>\n",
       "    /* Turns off some styling */\n",
       "    progress {\n",
       "        /* gets rid of default border in Firefox and Opera. */\n",
       "        border: none;\n",
       "        /* Needs to be in here for Safari polyfill so background images work as expected. */\n",
       "        background-size: auto;\n",
       "    }\n",
       "    progress:not([value]), progress:not([value])::-webkit-progress-bar {\n",
       "        background: repeating-linear-gradient(45deg, #7e7e7e, #7e7e7e 10px, #5c5c5c 10px, #5c5c5c 20px);\n",
       "    }\n",
       "    .progress-bar-interrupted, .progress-bar-interrupted::-webkit-progress-bar {\n",
       "        background: #F44336;\n",
       "    }\n",
       "</style>\n"
      ],
      "text/plain": [
       "<IPython.core.display.HTML object>"
      ]
     },
     "metadata": {},
     "output_type": "display_data"
    },
    {
     "data": {
      "text/html": [
       "\n",
       "    <div>\n",
       "      <progress value='0' class='' max='15' style='width:300px; height:20px; vertical-align: middle;'></progress>\n",
       "      \n",
       "    </div>\n",
       "    \n"
      ],
      "text/plain": [
       "<IPython.core.display.HTML object>"
      ]
     },
     "metadata": {},
     "output_type": "display_data"
    },
    {
     "data": {
      "text/html": [
       "\n",
       "<style>\n",
       "    /* Turns off some styling */\n",
       "    progress {\n",
       "        /* gets rid of default border in Firefox and Opera. */\n",
       "        border: none;\n",
       "        /* Needs to be in here for Safari polyfill so background images work as expected. */\n",
       "        background-size: auto;\n",
       "    }\n",
       "    progress:not([value]), progress:not([value])::-webkit-progress-bar {\n",
       "        background: repeating-linear-gradient(45deg, #7e7e7e, #7e7e7e 10px, #5c5c5c 10px, #5c5c5c 20px);\n",
       "    }\n",
       "    .progress-bar-interrupted, .progress-bar-interrupted::-webkit-progress-bar {\n",
       "        background: #F44336;\n",
       "    }\n",
       "</style>\n"
      ],
      "text/plain": [
       "<IPython.core.display.HTML object>"
      ]
     },
     "metadata": {},
     "output_type": "display_data"
    },
    {
     "data": {
      "text/html": [
       "<table border=\"1\" class=\"dataframe\">\n",
       "  <thead>\n",
       "    <tr style=\"text-align: left;\">\n",
       "      <th>epoch</th>\n",
       "      <th>train_loss</th>\n",
       "      <th>train_accuracy_mod</th>\n",
       "      <th>valid_loss</th>\n",
       "      <th>valid_accuracy_mod</th>\n",
       "      <th>time</th>\n",
       "    </tr>\n",
       "  </thead>\n",
       "  <tbody>\n",
       "    <tr>\n",
       "      <td>0</td>\n",
       "      <td>3.406582</td>\n",
       "      <td>0.031657</td>\n",
       "      <td>3.388903</td>\n",
       "      <td>0.036540</td>\n",
       "      <td>00:00</td>\n",
       "    </tr>\n",
       "    <tr>\n",
       "      <td>1</td>\n",
       "      <td>3.378893</td>\n",
       "      <td>0.044902</td>\n",
       "      <td>3.361177</td>\n",
       "      <td>0.052897</td>\n",
       "      <td>00:00</td>\n",
       "    </tr>\n",
       "    <tr>\n",
       "      <td>2</td>\n",
       "      <td>3.351142</td>\n",
       "      <td>0.064575</td>\n",
       "      <td>3.333314</td>\n",
       "      <td>0.073893</td>\n",
       "      <td>00:00</td>\n",
       "    </tr>\n",
       "    <tr>\n",
       "      <td>3</td>\n",
       "      <td>3.323182</td>\n",
       "      <td>0.089274</td>\n",
       "      <td>3.305174</td>\n",
       "      <td>0.101807</td>\n",
       "      <td>00:00</td>\n",
       "    </tr>\n",
       "    <tr>\n",
       "      <td>4</td>\n",
       "      <td>3.294881</td>\n",
       "      <td>0.117004</td>\n",
       "      <td>3.276621</td>\n",
       "      <td>0.135254</td>\n",
       "      <td>00:00</td>\n",
       "    </tr>\n",
       "    <tr>\n",
       "      <td>5</td>\n",
       "      <td>3.266109</td>\n",
       "      <td>0.159709</td>\n",
       "      <td>3.247526</td>\n",
       "      <td>0.190186</td>\n",
       "      <td>00:00</td>\n",
       "    </tr>\n",
       "    <tr>\n",
       "      <td>6</td>\n",
       "      <td>3.236745</td>\n",
       "      <td>0.212056</td>\n",
       "      <td>3.217771</td>\n",
       "      <td>0.232178</td>\n",
       "      <td>00:00</td>\n",
       "    </tr>\n",
       "    <tr>\n",
       "      <td>7</td>\n",
       "      <td>3.206675</td>\n",
       "      <td>0.253194</td>\n",
       "      <td>3.187242</td>\n",
       "      <td>0.271240</td>\n",
       "      <td>00:00</td>\n",
       "    </tr>\n",
       "    <tr>\n",
       "      <td>8</td>\n",
       "      <td>3.175797</td>\n",
       "      <td>0.287740</td>\n",
       "      <td>3.155838</td>\n",
       "      <td>0.306152</td>\n",
       "      <td>00:00</td>\n",
       "    </tr>\n",
       "    <tr>\n",
       "      <td>9</td>\n",
       "      <td>3.144017</td>\n",
       "      <td>0.316406</td>\n",
       "      <td>3.123473</td>\n",
       "      <td>0.332926</td>\n",
       "      <td>00:00</td>\n",
       "    </tr>\n",
       "    <tr>\n",
       "      <td>10</td>\n",
       "      <td>3.111264</td>\n",
       "      <td>0.338338</td>\n",
       "      <td>3.090077</td>\n",
       "      <td>0.351562</td>\n",
       "      <td>00:00</td>\n",
       "    </tr>\n",
       "    <tr>\n",
       "      <td>11</td>\n",
       "      <td>3.077478</td>\n",
       "      <td>0.354390</td>\n",
       "      <td>3.055598</td>\n",
       "      <td>0.370931</td>\n",
       "      <td>00:00</td>\n",
       "    </tr>\n",
       "    <tr>\n",
       "      <td>12</td>\n",
       "      <td>3.042626</td>\n",
       "      <td>0.368042</td>\n",
       "      <td>3.020015</td>\n",
       "      <td>0.382406</td>\n",
       "      <td>00:00</td>\n",
       "    </tr>\n",
       "    <tr>\n",
       "      <td>13</td>\n",
       "      <td>3.006704</td>\n",
       "      <td>0.377543</td>\n",
       "      <td>2.983335</td>\n",
       "      <td>0.391276</td>\n",
       "      <td>00:00</td>\n",
       "    </tr>\n",
       "    <tr>\n",
       "      <td>14</td>\n",
       "      <td>2.969740</td>\n",
       "      <td>0.385315</td>\n",
       "      <td>2.945600</td>\n",
       "      <td>0.400146</td>\n",
       "      <td>00:00</td>\n",
       "    </tr>\n",
       "  </tbody>\n",
       "</table>"
      ],
      "text/plain": [
       "<IPython.core.display.HTML object>"
      ]
     },
     "metadata": {},
     "output_type": "display_data"
    }
   ],
   "source": [
    "model = LMModel5(vocab_sz, 64, 2)\n",
    "opt_func = partial(Optimizer, steppers=[sgd_step])\n",
    "learner = Learner(\n",
    "    model, DataBunch(*dls, None, None), loss_func, opt_func, cbs=cbs, lr=1e-3\n",
    ")\n",
    "learner.fit(15)"
   ]
  },
  {
   "cell_type": "code",
   "execution_count": 1075,
   "id": "a081de1a-4b45-4a41-b9b5-17c08edf815e",
   "metadata": {},
   "outputs": [],
   "source": [
    "class LSTMCell(nn.Module):\n",
    "    def __init__(self, ni, nh):\n",
    "        super().__init__()\n",
    "        self.ih = nn.Linear(ni, 4 * nh)\n",
    "        self.hh = nn.Linear(nh, 4 * nh)\n",
    "\n",
    "    def forward(self, input, state):\n",
    "        # input is assumed to be bs x ni\n",
    "        # h is assumed to be bs x nh\n",
    "        # c is assumed to be bs x nh\n",
    "        h, c = state\n",
    "        # One big multiplication for all the gates is better than 4 smaller ones\n",
    "        # each gate will be bs x nh\n",
    "        gates = (self.ih(input) + self.hh(h)).chunk(4, 1)\n",
    "        ingate, forgetgate, outgate = map(torch.sigmoid, gates[:3])\n",
    "        cellgate = gates[3].tanh()\n",
    "\n",
    "        c = (forgetgate * c) + (ingate * cellgate)\n",
    "        h = outgate * c.tanh()\n",
    "        return h, (h, c)"
   ]
  },
  {
   "cell_type": "code",
   "execution_count": null,
   "id": "5f7f064b-cf81-4336-9d1c-33436ac2438f",
   "metadata": {},
   "outputs": [],
   "source": [
    "class LSTMLayer(nn.Module):\n",
    "    def __init__(self, cell, *cell_args):\n",
    "        super().__init__()\n",
    "        self.cell = cell(*cell_args)\n",
    "\n",
    "    def forward(self, input, state):\n",
    "        # print(input.shape)\n",
    "        inputs = input.unbind(1)\n",
    "        # print(inputs[0].shape)\n",
    "        outputs = []\n",
    "        for i in range(len(inputs)):\n",
    "            out, state = self.cell(inputs[i], state)\n",
    "            outputs += [out]\n",
    "        return torch.stack(outputs, dim=1), state"
   ]
  },
  {
   "cell_type": "code",
   "execution_count": 1060,
   "id": "585f3245-0768-4a3e-a8b8-05de673d72e4",
   "metadata": {},
   "outputs": [],
   "source": [
    "class LMModel6(nn.Module):\n",
    "    def __init__(self, vocab_sz, n_hidden, n_layers):\n",
    "        super().__init__()\n",
    "        self.i_h = nn.Embedding(vocab_sz, n_hidden)\n",
    "        self.rnn = nn.LSTM(n_hidden, n_hidden, n_layers, batch_first=True)\n",
    "        self.h_o = nn.Linear(n_hidden, vocab_sz)\n",
    "        self.h = [torch.zeros(n_layers, bs, n_hidden) for _ in range(2)]\n",
    "\n",
    "    def forward(self, x):\n",
    "        res, h = self.rnn(self.i_h(x), self.h)\n",
    "        self.h = [h_.detach() for h_ in h]\n",
    "        out = self.h_o(res)\n",
    "        return out\n",
    "\n",
    "    def reset(self):\n",
    "        for h in self.h:\n",
    "            h.zero_()"
   ]
  },
  {
   "cell_type": "code",
   "execution_count": 1061,
   "id": "6d66b212-1490-405c-b714-66d2cd01fd13",
   "metadata": {},
   "outputs": [],
   "source": [
    "cbs = [AvgStatsCallback(accuracy_mod), ModelResetter()]"
   ]
  },
  {
   "cell_type": "code",
   "execution_count": 1062,
   "id": "88a55cf5-851c-40f1-8a75-8d2fa6fe6601",
   "metadata": {},
   "outputs": [
    {
     "data": {
      "text/plain": [
       "(3904, 3123)"
      ]
     },
     "execution_count": 1062,
     "metadata": {},
     "output_type": "execute_result"
    }
   ],
   "source": [
    "dls = [\n",
    "    DataLoader(ordered_sequences[:n_train], bs, shuffle=False, drop_last=True),\n",
    "    DataLoader(ordered_sequences[n_train:], bs, shuffle=False, drop_last=True),\n",
    "]\n",
    "len(ordered_sequences), n_train"
   ]
  },
  {
   "cell_type": "code",
   "execution_count": 1064,
   "id": "4081c13a-0886-4047-a1db-1dc7d6a0bbfa",
   "metadata": {},
   "outputs": [
    {
     "data": {
      "text/html": [
       "\n",
       "<style>\n",
       "    /* Turns off some styling */\n",
       "    progress {\n",
       "        /* gets rid of default border in Firefox and Opera. */\n",
       "        border: none;\n",
       "        /* Needs to be in here for Safari polyfill so background images work as expected. */\n",
       "        background-size: auto;\n",
       "    }\n",
       "    progress:not([value]), progress:not([value])::-webkit-progress-bar {\n",
       "        background: repeating-linear-gradient(45deg, #7e7e7e, #7e7e7e 10px, #5c5c5c 10px, #5c5c5c 20px);\n",
       "    }\n",
       "    .progress-bar-interrupted, .progress-bar-interrupted::-webkit-progress-bar {\n",
       "        background: #F44336;\n",
       "    }\n",
       "</style>\n"
      ],
      "text/plain": [
       "<IPython.core.display.HTML object>"
      ]
     },
     "metadata": {},
     "output_type": "display_data"
    },
    {
     "data": {
      "text/html": [
       "\n",
       "    <div>\n",
       "      <progress value='0' class='' max='15' style='width:300px; height:20px; vertical-align: middle;'></progress>\n",
       "      \n",
       "    </div>\n",
       "    \n"
      ],
      "text/plain": [
       "<IPython.core.display.HTML object>"
      ]
     },
     "metadata": {},
     "output_type": "display_data"
    },
    {
     "data": {
      "text/html": [
       "\n",
       "<style>\n",
       "    /* Turns off some styling */\n",
       "    progress {\n",
       "        /* gets rid of default border in Firefox and Opera. */\n",
       "        border: none;\n",
       "        /* Needs to be in here for Safari polyfill so background images work as expected. */\n",
       "        background-size: auto;\n",
       "    }\n",
       "    progress:not([value]), progress:not([value])::-webkit-progress-bar {\n",
       "        background: repeating-linear-gradient(45deg, #7e7e7e, #7e7e7e 10px, #5c5c5c 10px, #5c5c5c 20px);\n",
       "    }\n",
       "    .progress-bar-interrupted, .progress-bar-interrupted::-webkit-progress-bar {\n",
       "        background: #F44336;\n",
       "    }\n",
       "</style>\n"
      ],
      "text/plain": [
       "<IPython.core.display.HTML object>"
      ]
     },
     "metadata": {},
     "output_type": "display_data"
    },
    {
     "data": {
      "text/html": [
       "<table border=\"1\" class=\"dataframe\">\n",
       "  <thead>\n",
       "    <tr style=\"text-align: left;\">\n",
       "      <th>epoch</th>\n",
       "      <th>train_loss</th>\n",
       "      <th>train_accuracy_mod</th>\n",
       "      <th>valid_loss</th>\n",
       "      <th>valid_accuracy_mod</th>\n",
       "      <th>time</th>\n",
       "    </tr>\n",
       "  </thead>\n",
       "  <tbody>\n",
       "    <tr>\n",
       "      <td>0</td>\n",
       "      <td>3.422623</td>\n",
       "      <td>0.002116</td>\n",
       "      <td>3.404549</td>\n",
       "      <td>0.002848</td>\n",
       "      <td>00:00</td>\n",
       "    </tr>\n",
       "    <tr>\n",
       "      <td>1</td>\n",
       "      <td>3.386213</td>\n",
       "      <td>0.018046</td>\n",
       "      <td>3.368580</td>\n",
       "      <td>0.036133</td>\n",
       "      <td>00:00</td>\n",
       "    </tr>\n",
       "    <tr>\n",
       "      <td>2</td>\n",
       "      <td>3.351518</td>\n",
       "      <td>0.054810</td>\n",
       "      <td>3.334128</td>\n",
       "      <td>0.103841</td>\n",
       "      <td>00:01</td>\n",
       "    </tr>\n",
       "    <tr>\n",
       "      <td>3</td>\n",
       "      <td>3.318163</td>\n",
       "      <td>0.112996</td>\n",
       "      <td>3.300864</td>\n",
       "      <td>0.121826</td>\n",
       "      <td>00:00</td>\n",
       "    </tr>\n",
       "    <tr>\n",
       "      <td>4</td>\n",
       "      <td>3.285855</td>\n",
       "      <td>0.119954</td>\n",
       "      <td>3.268531</td>\n",
       "      <td>0.127686</td>\n",
       "      <td>00:00</td>\n",
       "    </tr>\n",
       "    <tr>\n",
       "      <td>5</td>\n",
       "      <td>3.254374</td>\n",
       "      <td>0.128092</td>\n",
       "      <td>3.236934</td>\n",
       "      <td>0.137777</td>\n",
       "      <td>00:00</td>\n",
       "    </tr>\n",
       "    <tr>\n",
       "      <td>6</td>\n",
       "      <td>3.223550</td>\n",
       "      <td>0.145915</td>\n",
       "      <td>3.205931</td>\n",
       "      <td>0.156250</td>\n",
       "      <td>00:00</td>\n",
       "    </tr>\n",
       "    <tr>\n",
       "      <td>7</td>\n",
       "      <td>3.193270</td>\n",
       "      <td>0.158183</td>\n",
       "      <td>3.175431</td>\n",
       "      <td>0.163574</td>\n",
       "      <td>00:00</td>\n",
       "    </tr>\n",
       "    <tr>\n",
       "      <td>8</td>\n",
       "      <td>3.163469</td>\n",
       "      <td>0.167236</td>\n",
       "      <td>3.145398</td>\n",
       "      <td>0.168620</td>\n",
       "      <td>00:00</td>\n",
       "    </tr>\n",
       "    <tr>\n",
       "      <td>9</td>\n",
       "      <td>3.134137</td>\n",
       "      <td>0.170532</td>\n",
       "      <td>3.115848</td>\n",
       "      <td>0.166992</td>\n",
       "      <td>00:00</td>\n",
       "    </tr>\n",
       "    <tr>\n",
       "      <td>10</td>\n",
       "      <td>3.105321</td>\n",
       "      <td>0.166646</td>\n",
       "      <td>3.086858</td>\n",
       "      <td>0.161377</td>\n",
       "      <td>00:00</td>\n",
       "    </tr>\n",
       "    <tr>\n",
       "      <td>11</td>\n",
       "      <td>3.077126</td>\n",
       "      <td>0.161458</td>\n",
       "      <td>3.058564</td>\n",
       "      <td>0.157959</td>\n",
       "      <td>00:00</td>\n",
       "    </tr>\n",
       "    <tr>\n",
       "      <td>12</td>\n",
       "      <td>3.049717</td>\n",
       "      <td>0.159139</td>\n",
       "      <td>3.031158</td>\n",
       "      <td>0.157552</td>\n",
       "      <td>00:00</td>\n",
       "    </tr>\n",
       "    <tr>\n",
       "      <td>13</td>\n",
       "      <td>3.023308</td>\n",
       "      <td>0.158976</td>\n",
       "      <td>3.004879</td>\n",
       "      <td>0.157552</td>\n",
       "      <td>00:00</td>\n",
       "    </tr>\n",
       "    <tr>\n",
       "      <td>14</td>\n",
       "      <td>2.998151</td>\n",
       "      <td>0.158936</td>\n",
       "      <td>2.979986</td>\n",
       "      <td>0.157471</td>\n",
       "      <td>00:01</td>\n",
       "    </tr>\n",
       "  </tbody>\n",
       "</table>"
      ],
      "text/plain": [
       "<IPython.core.display.HTML object>"
      ]
     },
     "metadata": {},
     "output_type": "display_data"
    }
   ],
   "source": [
    "model = LMModel6(vocab_sz, 64, 2)\n",
    "opt_func = partial(Optimizer, steppers=[sgd_step])\n",
    "learner = Learner(\n",
    "    model, DataBunch(*dls, None, None), loss_func, opt_func, cbs=cbs, lr=1e-2\n",
    ")\n",
    "learner.fit(15)"
   ]
  },
  {
   "cell_type": "code",
   "execution_count": 1071,
   "id": "6a0facc0-8e49-4825-b087-77784e6e6669",
   "metadata": {},
   "outputs": [],
   "source": [
    "class LMModel7(nn.Module):\n",
    "    def __init__(self, vocab_sz, n_hidden, n_layers, p):\n",
    "        super().__init__()\n",
    "        self.i_h = nn.Embedding(vocab_sz, n_hidden)\n",
    "        self.rnn = nn.LSTM(n_hidden, n_hidden, n_layers, batch_first=True)\n",
    "        self.drop = nn.Dropout(p)\n",
    "        self.h_o = nn.Linear(n_hidden, vocab_sz)\n",
    "        # Weight tying\n",
    "        self.h_o.weight = self.i_h.weight\n",
    "        self.h = [torch.zeros(n_layers, bs, n_hidden) for _ in range(2)]\n",
    "\n",
    "    def forward(self, x):\n",
    "        raw, h = self.rnn(self.i_h(x), self.h)\n",
    "        out = self.drop(raw)\n",
    "        self.h = [h_.detach() for h_ in h]\n",
    "        out = self.h_o(res)\n",
    "        return self.h_o(out), raw, out\n",
    "\n",
    "    def reset(self):\n",
    "        for h in self.h:\n",
    "            h.zero_()"
   ]
  },
  {
   "cell_type": "code",
   "execution_count": 1061,
   "id": "b9ea1a2b-5a4b-473a-acfd-6eab281c4200",
   "metadata": {},
   "outputs": [],
   "source": [
    "cbs = [AvgStatsCallback(accuracy_mod), ModelResetter()]"
   ]
  },
  {
   "cell_type": "code",
   "execution_count": 1062,
   "id": "0cc86602-2ac3-40c0-a10e-2b3ef480e9a5",
   "metadata": {},
   "outputs": [
    {
     "data": {
      "text/plain": [
       "(3904, 3123)"
      ]
     },
     "execution_count": 1062,
     "metadata": {},
     "output_type": "execute_result"
    }
   ],
   "source": [
    "dls = [\n",
    "    DataLoader(ordered_sequences[:n_train], bs, shuffle=False, drop_last=True),\n",
    "    DataLoader(ordered_sequences[n_train:], bs, shuffle=False, drop_last=True),\n",
    "]\n",
    "len(ordered_sequences), n_train"
   ]
  },
  {
   "cell_type": "code",
   "execution_count": 1064,
   "id": "ed950822-b243-4e71-9530-018b28b62a78",
   "metadata": {},
   "outputs": [
    {
     "data": {
      "text/html": [
       "\n",
       "<style>\n",
       "    /* Turns off some styling */\n",
       "    progress {\n",
       "        /* gets rid of default border in Firefox and Opera. */\n",
       "        border: none;\n",
       "        /* Needs to be in here for Safari polyfill so background images work as expected. */\n",
       "        background-size: auto;\n",
       "    }\n",
       "    progress:not([value]), progress:not([value])::-webkit-progress-bar {\n",
       "        background: repeating-linear-gradient(45deg, #7e7e7e, #7e7e7e 10px, #5c5c5c 10px, #5c5c5c 20px);\n",
       "    }\n",
       "    .progress-bar-interrupted, .progress-bar-interrupted::-webkit-progress-bar {\n",
       "        background: #F44336;\n",
       "    }\n",
       "</style>\n"
      ],
      "text/plain": [
       "<IPython.core.display.HTML object>"
      ]
     },
     "metadata": {},
     "output_type": "display_data"
    },
    {
     "data": {
      "text/html": [
       "\n",
       "    <div>\n",
       "      <progress value='0' class='' max='15' style='width:300px; height:20px; vertical-align: middle;'></progress>\n",
       "      \n",
       "    </div>\n",
       "    \n"
      ],
      "text/plain": [
       "<IPython.core.display.HTML object>"
      ]
     },
     "metadata": {},
     "output_type": "display_data"
    },
    {
     "data": {
      "text/html": [
       "\n",
       "<style>\n",
       "    /* Turns off some styling */\n",
       "    progress {\n",
       "        /* gets rid of default border in Firefox and Opera. */\n",
       "        border: none;\n",
       "        /* Needs to be in here for Safari polyfill so background images work as expected. */\n",
       "        background-size: auto;\n",
       "    }\n",
       "    progress:not([value]), progress:not([value])::-webkit-progress-bar {\n",
       "        background: repeating-linear-gradient(45deg, #7e7e7e, #7e7e7e 10px, #5c5c5c 10px, #5c5c5c 20px);\n",
       "    }\n",
       "    .progress-bar-interrupted, .progress-bar-interrupted::-webkit-progress-bar {\n",
       "        background: #F44336;\n",
       "    }\n",
       "</style>\n"
      ],
      "text/plain": [
       "<IPython.core.display.HTML object>"
      ]
     },
     "metadata": {},
     "output_type": "display_data"
    },
    {
     "data": {
      "text/html": [
       "<table border=\"1\" class=\"dataframe\">\n",
       "  <thead>\n",
       "    <tr style=\"text-align: left;\">\n",
       "      <th>epoch</th>\n",
       "      <th>train_loss</th>\n",
       "      <th>train_accuracy_mod</th>\n",
       "      <th>valid_loss</th>\n",
       "      <th>valid_accuracy_mod</th>\n",
       "      <th>time</th>\n",
       "    </tr>\n",
       "  </thead>\n",
       "  <tbody>\n",
       "    <tr>\n",
       "      <td>0</td>\n",
       "      <td>3.422623</td>\n",
       "      <td>0.002116</td>\n",
       "      <td>3.404549</td>\n",
       "      <td>0.002848</td>\n",
       "      <td>00:00</td>\n",
       "    </tr>\n",
       "    <tr>\n",
       "      <td>1</td>\n",
       "      <td>3.386213</td>\n",
       "      <td>0.018046</td>\n",
       "      <td>3.368580</td>\n",
       "      <td>0.036133</td>\n",
       "      <td>00:00</td>\n",
       "    </tr>\n",
       "    <tr>\n",
       "      <td>2</td>\n",
       "      <td>3.351518</td>\n",
       "      <td>0.054810</td>\n",
       "      <td>3.334128</td>\n",
       "      <td>0.103841</td>\n",
       "      <td>00:01</td>\n",
       "    </tr>\n",
       "    <tr>\n",
       "      <td>3</td>\n",
       "      <td>3.318163</td>\n",
       "      <td>0.112996</td>\n",
       "      <td>3.300864</td>\n",
       "      <td>0.121826</td>\n",
       "      <td>00:00</td>\n",
       "    </tr>\n",
       "    <tr>\n",
       "      <td>4</td>\n",
       "      <td>3.285855</td>\n",
       "      <td>0.119954</td>\n",
       "      <td>3.268531</td>\n",
       "      <td>0.127686</td>\n",
       "      <td>00:00</td>\n",
       "    </tr>\n",
       "    <tr>\n",
       "      <td>5</td>\n",
       "      <td>3.254374</td>\n",
       "      <td>0.128092</td>\n",
       "      <td>3.236934</td>\n",
       "      <td>0.137777</td>\n",
       "      <td>00:00</td>\n",
       "    </tr>\n",
       "    <tr>\n",
       "      <td>6</td>\n",
       "      <td>3.223550</td>\n",
       "      <td>0.145915</td>\n",
       "      <td>3.205931</td>\n",
       "      <td>0.156250</td>\n",
       "      <td>00:00</td>\n",
       "    </tr>\n",
       "    <tr>\n",
       "      <td>7</td>\n",
       "      <td>3.193270</td>\n",
       "      <td>0.158183</td>\n",
       "      <td>3.175431</td>\n",
       "      <td>0.163574</td>\n",
       "      <td>00:00</td>\n",
       "    </tr>\n",
       "    <tr>\n",
       "      <td>8</td>\n",
       "      <td>3.163469</td>\n",
       "      <td>0.167236</td>\n",
       "      <td>3.145398</td>\n",
       "      <td>0.168620</td>\n",
       "      <td>00:00</td>\n",
       "    </tr>\n",
       "    <tr>\n",
       "      <td>9</td>\n",
       "      <td>3.134137</td>\n",
       "      <td>0.170532</td>\n",
       "      <td>3.115848</td>\n",
       "      <td>0.166992</td>\n",
       "      <td>00:00</td>\n",
       "    </tr>\n",
       "    <tr>\n",
       "      <td>10</td>\n",
       "      <td>3.105321</td>\n",
       "      <td>0.166646</td>\n",
       "      <td>3.086858</td>\n",
       "      <td>0.161377</td>\n",
       "      <td>00:00</td>\n",
       "    </tr>\n",
       "    <tr>\n",
       "      <td>11</td>\n",
       "      <td>3.077126</td>\n",
       "      <td>0.161458</td>\n",
       "      <td>3.058564</td>\n",
       "      <td>0.157959</td>\n",
       "      <td>00:00</td>\n",
       "    </tr>\n",
       "    <tr>\n",
       "      <td>12</td>\n",
       "      <td>3.049717</td>\n",
       "      <td>0.159139</td>\n",
       "      <td>3.031158</td>\n",
       "      <td>0.157552</td>\n",
       "      <td>00:00</td>\n",
       "    </tr>\n",
       "    <tr>\n",
       "      <td>13</td>\n",
       "      <td>3.023308</td>\n",
       "      <td>0.158976</td>\n",
       "      <td>3.004879</td>\n",
       "      <td>0.157552</td>\n",
       "      <td>00:00</td>\n",
       "    </tr>\n",
       "    <tr>\n",
       "      <td>14</td>\n",
       "      <td>2.998151</td>\n",
       "      <td>0.158936</td>\n",
       "      <td>2.979986</td>\n",
       "      <td>0.157471</td>\n",
       "      <td>00:01</td>\n",
       "    </tr>\n",
       "  </tbody>\n",
       "</table>"
      ],
      "text/plain": [
       "<IPython.core.display.HTML object>"
      ]
     },
     "metadata": {},
     "output_type": "display_data"
    }
   ],
   "source": [
    "model = LMModel6(vocab_sz, 64, 2)\n",
    "opt_func = partial(Optimizer, steppers=[sgd_step])\n",
    "learner = Learner(\n",
    "    model, DataBunch(*dls, None, None), loss_func, opt_func, cbs=cbs, lr=1e-2\n",
    ")\n",
    "learner.fit(15)"
   ]
  }
 ],
 "metadata": {
  "kernelspec": {
   "display_name": "Python 3 (ipykernel)",
   "language": "python",
   "name": "python3"
  },
  "language_info": {
   "codemirror_mode": {
    "name": "ipython",
    "version": 3
   },
   "file_extension": ".py",
   "mimetype": "text/x-python",
   "name": "python",
   "nbconvert_exporter": "python",
   "pygments_lexer": "ipython3",
   "version": "3.10.4"
  }
 },
 "nbformat": 4,
 "nbformat_minor": 5
}
