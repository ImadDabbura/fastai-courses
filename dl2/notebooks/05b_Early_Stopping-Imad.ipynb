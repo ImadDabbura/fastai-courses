{
 "cells": [
  {
   "cell_type": "markdown",
   "metadata": {
    "heading_collapsed": "true"
   },
   "source": [
    "# Imports"
   ]
  },
  {
   "cell_type": "code",
   "execution_count": null,
   "metadata": {},
   "outputs": [],
   "source": [
    "%load_ext autoreload\n",
    "%autoreload 2\n",
    "\n",
    "%matplotlib inline"
   ]
  },
  {
   "cell_type": "code",
   "execution_count": 2,
   "metadata": {},
   "outputs": [],
   "source": [
    "#export\n",
    "from exp.nb_05 import *\n",
    "from fastprogress.fastprogress import format_time, master_bar, progress_bar"
   ]
  },
  {
   "cell_type": "markdown",
   "metadata": {},
   "source": [
    "[Jump_to notebook introduction in lesson 10 video](https://course.fast.ai/videos/?lesson=10&t=3167)"
   ]
  },
  {
   "cell_type": "markdown",
   "metadata": {
    "heading_collapsed": "true"
   },
   "source": [
    "# Data"
   ]
  },
  {
   "cell_type": "code",
   "execution_count": 3,
   "metadata": {
    "hidden": true
   },
   "outputs": [],
   "source": [
    "x_train, y_train, x_valid, y_valid = get_data()\n",
    "train_ds, valid_ds = Dataset(x_train, y_train), Dataset(x_valid, y_valid)\n",
    "nh, bs = 50, 512\n",
    "c = y_train.max().item() + 1\n",
    "loss_func = F.cross_entropy"
   ]
  },
  {
   "cell_type": "code",
   "execution_count": 4,
   "metadata": {
    "hidden": true
   },
   "outputs": [
    {
     "data": {
      "text/plain": [
       "(50000, 10000)"
      ]
     },
     "execution_count": 4,
     "metadata": {},
     "output_type": "execute_result"
    }
   ],
   "source": [
    "data = DataBunch(*get_dls(train_ds, valid_ds, bs), c)\n",
    "len(data.train_ds), len(data.valid_ds)"
   ]
  },
  {
   "cell_type": "code",
   "execution_count": 5,
   "metadata": {},
   "outputs": [
    {
     "data": {
      "text/plain": [
       "(98, 10)"
      ]
     },
     "execution_count": 5,
     "metadata": {},
     "output_type": "execute_result"
    }
   ],
   "source": [
    "len(data.train_dl), len(data.valid_dl)"
   ]
  },
  {
   "cell_type": "markdown",
   "metadata": {
    "heading_collapsed": "true"
   },
   "source": [
    "# Helpful Functions"
   ]
  },
  {
   "cell_type": "code",
   "execution_count": 6,
   "metadata": {
    "hidden": true
   },
   "outputs": [],
   "source": [
    "def listify(obj):\n",
    "    \"\"\"Convert `obj` to list\"\"\"\n",
    "    if obj is None:\n",
    "        return []\n",
    "    if isinstance(obj, str):\n",
    "        return [obj]\n",
    "    if isinstance(obj, list):\n",
    "        return obj\n",
    "    if isinstance(obj, Iterable):\n",
    "        return list(obj)\n",
    "    return [obj]"
   ]
  },
  {
   "cell_type": "code",
   "execution_count": 7,
   "metadata": {
    "hidden": true
   },
   "outputs": [
    {
     "data": {
      "text/plain": [
       "(['test'], [], [1, 2], [1], [2])"
      ]
     },
     "execution_count": 7,
     "metadata": {},
     "output_type": "execute_result"
    }
   ],
   "source": [
    "listify('test'), listify(None), listify((1, 2)), listify([1]), listify(2)"
   ]
  },
  {
   "cell_type": "code",
   "execution_count": 8,
   "metadata": {
    "hidden": true
   },
   "outputs": [],
   "source": [
    "def camel2snake(name):\n",
    "    \"\"\"\n",
    "    Convert name of callback by inserting underscores between small and capital\n",
    "    letters. For example, `TestCallback` becomes `test_callback`.\n",
    "    \"\"\"\n",
    "    pattern1 = re.compile(\"(.)([A-Z][a-z]+)\")\n",
    "    pattern2 = re.compile(\"([a-z0-9])([A-Z])\")\n",
    "    name = re.sub(pattern1, r\"\\1_\\2\", name)\n",
    "    return re.sub(pattern2, r\"\\1_\\2\", name).lower()"
   ]
  },
  {
   "cell_type": "code",
   "execution_count": 9,
   "metadata": {
    "hidden": true
   },
   "outputs": [
    {
     "data": {
      "text/plain": [
       "'test_callback_another_test'"
      ]
     },
     "execution_count": 9,
     "metadata": {},
     "output_type": "execute_result"
    }
   ],
   "source": [
    "camel2snake('TestCallbackAnotherTest')"
   ]
  },
  {
   "cell_type": "code",
   "execution_count": 10,
   "metadata": {},
   "outputs": [
    {
     "data": {
      "text/plain": [
       "'Test__Another_Test'"
      ]
     },
     "execution_count": 10,
     "metadata": {},
     "output_type": "execute_result"
    }
   ],
   "source": [
    "# pattern1 = re.compile(\"(.)([A-Z][a-z]+)\")\n",
    "pattern2 = re.compile(\"([a-z0-9])([A-Z])\")\n",
    "name = re.sub(pattern2, r\"\\1_\\2\", 'TestCallbackAnotherTest')\n",
    "re.sub(\"Callback\", \"\", name)"
   ]
  },
  {
   "cell_type": "markdown",
   "metadata": {
    "heading_collapsed": "true"
   },
   "source": [
    "# Callbacks"
   ]
  },
  {
   "cell_type": "markdown",
   "metadata": {
    "hidden": true
   },
   "source": [
    "Basic class handling tweaks of the training loop by changing a [Learner](https://dev.fast.ai/13a_learner#Learner) in various events.\n",
    "\n",
    "The training loop consists of a minimal set of instructions; looping through the data we:\n",
    "- compute the output of the model from the input\n",
    "- calculate a loss between this output and the desired target\n",
    "- compute the gradients of this loss with respect to all the model parameters\n",
    "- update the parameters accordingly\n",
    "- zero all the gradients\n",
    "\n",
    "Any tweak of this training loop is defined in a [Callback](https://dev.fast.ai/callback.core#Callback) to avoid over-complicating the code of the training loop, and to make it easy to mix and match different techniques (since they'll be defined in different callbacks). A callback can implement actions on the following events:\n",
    "1. `before_fit`: called before doing anything, ideal for initial setup\n",
    "1. `before_epoch`: called at the beginning of each epoch, useful for any behavior you need to reset at each epoch\n",
    "1. `before_train`: called at the beginning of the training part of an epoch\n",
    "1. `before_batch`: called at the beginning of each batch, just after drawing said batch. It can be used to do any setup necessary for the batch (like hyper-parameter scheduling) or to change the input/target before it goes in the model (change of the input with techniques like mixup for instance)\n",
    "1. `after_pred`: called after computing the output of the model on the batch. It can be used to change that output before it's fed to the loss\n",
    "1. `after_loss`: called after the loss has been computed, but before the backward pass. It can be used to add any penalty to the loss (AR or TAR in RNN training for instance)\n",
    "1. `after_backward`: called after the backward pass, but before the update of the parameters. It can be used to do any change to the gradients before said update (gradient clipping for instance)\n",
    "1. `after_step`: called after the step and before the gradients are zeroed\n",
    "1. `after_cancel_batch`: reached immediately after a `CancelBatchException` before proceeding to `after_batch`\n",
    "1. `after_batch`: called at the end of a batch, for any clean-up before the next one\n",
    "1. `after_cancel_train`: reached immediately after a `CancelTrainException` before proceeding to `after_train`\n",
    "1. `after_train`: called at the end of the training phase of an epoch\n",
    "1. `before_validate`: called at the beginning of the validation phase of an epoch, useful for any setup needed specifically for validation\n",
    "1. `after_cancel_validate`: reached immediately after a `CancelValidateException` before proceeding to `after_validate`\n",
    "1. `after_validate`: called at the end of the validation part of an epoch\n",
    "1. `after_cancel_epoch`: reached immediately after a `CancelEpochException` before proceeding to `after_epoch`\n",
    "1. `after_epoch`: called at the end of an epoch, for any clean-up before the next one\n",
    "1. `after_cancel_fit`: reached immediately after a `CancelFitException` before proceeding to `after_fit`\n",
    "1. `after_fit`: called at the end of training, for final clean-up"
   ]
  },
  {
   "cell_type": "code",
   "execution_count": 11,
   "metadata": {
    "hidden": true
   },
   "outputs": [],
   "source": [
    "# export\n",
    "class Callback:\n",
    "    # Determines the order of the when each callback is run; useful when\n",
    "    # are dealing with transformation\n",
    "    _order = 0\n",
    "    def set_learner(self, learner): \n",
    "        self.learner = learner\n",
    "\n",
    "    # This is used if we try to access a callback attribute\n",
    "    # but most likely the attribute is from runner.\n",
    "    def __getattr__(self, k):\n",
    "        return getattr(self.learner, k)\n",
    "\n",
    "    @property\n",
    "    def name(self):\n",
    "        '''\n",
    "        Returns the name of the callback after removing the word `callback` \n",
    "        and then convert it to snake (split words by underscores).\n",
    "        '''\n",
    "        name = re.sub(r'Callback$', '', self.__class__.__name__)\n",
    "        return camel2snake(name or 'callback')\n",
    "\n",
    "    # We have this method here so that the user has more flexibility\n",
    "    # about what to do when each callback is called. we can just change\n",
    "    # the behavior of the __call__ method\n",
    "    def __call__(self, cb_name):\n",
    "        f = getattr(self, cb_name, None)\n",
    "        if f and f():\n",
    "            return True\n",
    "        return False\n",
    "\n",
    "    @staticmethod\n",
    "    def camel2snake(name):\n",
    "        \"\"\"\n",
    "        Convert name of callback by inserting underscores between small and capital\n",
    "        letters. For example, `TestCallback` becomes `test_callback`.\n",
    "        \"\"\"\n",
    "        pattern1 = re.compile(\"(.)([A-Z][a-z]+)\")\n",
    "        pattern2 = re.compile(\"([a-z0-9])([A-Z])\")\n",
    "        name = re.sub(pattern1, r\"\\1_\\2\", name)\n",
    "        return re.sub(pattern2, r\"\\1_\\2\", name).lower()"
   ]
  },
  {
   "cell_type": "code",
   "execution_count": 12,
   "metadata": {
    "hidden": true
   },
   "outputs": [],
   "source": [
    "# export\n",
    "class CancelFitException(Exception):\n",
    "    \"\"\"Stop training and exit\"\"\"\n",
    "\n",
    "    pass\n",
    "\n",
    "\n",
    "class CancelEpochException(Exception):\n",
    "    \"\"\"Stop current epoch and move to next epoch.\"\"\"\n",
    "\n",
    "    pass\n",
    "\n",
    "\n",
    "class CancelTrainException(Exception):\n",
    "    \"\"\"Stop training current batch and move to validation.\"\"\"\n",
    "\n",
    "    pass\n",
    "\n",
    "\n",
    "class CancelValidException(Exception):\n",
    "    \"\"\"Stop validation phase and move to next epoch\"\"\"\n",
    "\n",
    "    pass\n",
    "\n",
    "\n",
    "class CancelBatchException(Exception):\n",
    "    \"\"\"Stop current batch and move to next batch.\"\"\"\n",
    "\n",
    "    pass"
   ]
  },
  {
   "cell_type": "code",
   "execution_count": 13,
   "metadata": {
    "hidden": true
   },
   "outputs": [],
   "source": [
    "# export\n",
    "class TrainEvalCallback(Callback):\n",
    "    \"\"\"\n",
    "    Tracks the number of iterations and epoch done and set training and eval\n",
    "    modes.\n",
    "    \"\"\"\n",
    "\n",
    "    def before_fit(self):\n",
    "        self.learner.n_iters = 0\n",
    "        self.learner.pct_train = 0\n",
    "\n",
    "    def after_batch(self):\n",
    "        if self.learner.training:\n",
    "            self.learner.n_iters += 1\n",
    "            self.learner.pct_train += 1 / (self.iters * self.n_epochs)\n",
    "\n",
    "    def before_train(self):\n",
    "        self.model.train()\n",
    "        self.learner.training = True\n",
    "        self.learner.pct_train = self.epoch / self.n_epochs\n",
    "\n",
    "    def before_validate(self):\n",
    "        self.model.eval()\n",
    "        self.learner.training = False"
   ]
  },
  {
   "cell_type": "markdown",
   "metadata": {
    "heading_collapsed": "true"
   },
   "source": [
    "# Learner"
   ]
  },
  {
   "cell_type": "code",
   "execution_count": 14,
   "metadata": {},
   "outputs": [],
   "source": [
    "# export\n",
    "class Learner:\n",
    "    ALL_CBS = {\n",
    "        \"before_fit\",\n",
    "        \"before_epoch\",\n",
    "        \"before_train\",\n",
    "        \"before_validate\",\n",
    "        \"before_batch\",\n",
    "        \"after_pred\",\n",
    "        \"after_loss\",\n",
    "        \"after_backward\",\n",
    "        \"after_step\",\n",
    "        \"after_cancel_batch\",\n",
    "        \"after_batch\",\n",
    "        \"after_cancel_train\",\n",
    "        \"after_train\",\n",
    "        \"after_cancel_validate\",\n",
    "        \"after_validate\",\n",
    "        \"after_cancel_epoch\",\n",
    "        \"after_epoch\",\n",
    "        \"after_cancel_fit\",\n",
    "        \"after_fit\",\n",
    "    }\n",
    "\n",
    "\n",
    "    def __init__(self, model, data, loss_func, opt, cbs=None, cb_funcs=None):\n",
    "        self.model = model\n",
    "        self.data = data\n",
    "        self.loss_func = loss_func\n",
    "        self.opt = opt\n",
    "        self.training = False\n",
    "        self.logger = print # We can customize it and use it in something like progress bar or log to a file\n",
    "\n",
    "        # Callbacks\n",
    "        self.cbs = []\n",
    "        self.add_cb(TrainEvalCallback())\n",
    "        self.add_cbs(listify(cbs))\n",
    "        self.add_cbs([cb_func() for cb_func in listify(cb_funcs)])\n",
    "\n",
    "    def add_cbs(self, cbs):\n",
    "        for cb in cbs:\n",
    "            self.add_cb(cb)\n",
    "\n",
    "    def add_cb(self, cb):\n",
    "        cb.set_learner(self)\n",
    "        setattr(self, cb.name, cb)\n",
    "        self.cbs.append(cb)\n",
    "\n",
    "    def remove_cbs(self, cbs):\n",
    "        for cb in cbs:\n",
    "            self.cbs.remove(cb)\n",
    "\n",
    "    def _one_batch(self, i, xb, yb):\n",
    "        self.iter = i\n",
    "        self.xb, self.yb = xb, yb\n",
    "        try:\n",
    "            self(\"before_batch\")\n",
    "            self.pred = self.model(self.xb)\n",
    "            self(\"after_pred\")\n",
    "            self.loss = self.loss_func(self.pred, self.yb)\n",
    "            self(\"after_loss\")\n",
    "            if not self.training:\n",
    "                return\n",
    "            self.loss.backward()\n",
    "            self(\"after_backward\")\n",
    "            self.opt.step()\n",
    "            self(\"after_step\")\n",
    "            self.opt.zero_grad()\n",
    "        except CancelBatchException:\n",
    "            self(\"after_cancel_batch\")\n",
    "        finally:\n",
    "            self(\"after_batch\")\n",
    "\n",
    "    def _all_batches(self):\n",
    "        self.iters = len(self.dl)\n",
    "        for i, (xb, yb) in enumerate(self.dl):\n",
    "            self._one_batch(i, xb, yb)\n",
    "\n",
    "    def fit(self, epochs):\n",
    "        self.n_epochs = epochs\n",
    "        try:\n",
    "            self(\"before_fit\")\n",
    "            for epoch in range(self.n_epochs):\n",
    "                try:\n",
    "                    self.epoch = epoch\n",
    "                    self.dl = self.data.train_dl\n",
    "                    self(\"before_epoch\")\n",
    "\n",
    "                    try:\n",
    "                        self(\"before_train\")\n",
    "                        self._all_batches()\n",
    "                    except CancelTrainException:\n",
    "                        self(\"after_cancel_train\")\n",
    "                    finally:\n",
    "                        self(\"after_train\")\n",
    "\n",
    "                    try:\n",
    "                        self.dl = self.data.valid_dl\n",
    "                        self(\"before_validate\")\n",
    "                        with torch.no_grad():\n",
    "                            self._all_batches()\n",
    "                    except CancelValidException:\n",
    "                        self(\"after_cancel_validate\")\n",
    "                    finally:\n",
    "                        self(\"after_validate\")\n",
    "                except CancelEpochException:\n",
    "                    self(\"after_cancel_epoch\")\n",
    "                finally:\n",
    "                    self(\"after_epoch\")\n",
    "        except CancelFitException:\n",
    "            self(\"after_cancel_fit\")\n",
    "        finally:\n",
    "            self(\"after_fit\")\n",
    "            self.learn = None\n",
    "\n",
    "    def __call__(self, cb_name):\n",
    "        assert cb_name in Learner.ALL_CBS, f\"{cb_name} is not a valid callback name\"\n",
    "        res = False\n",
    "        for cb in sorted(self.cbs, key=lambda x: x._order):\n",
    "            res = cb(cb_name) and res\n",
    "        return res"
   ]
  },
  {
   "cell_type": "code",
   "execution_count": 15,
   "metadata": {
    "hidden": true
   },
   "outputs": [],
   "source": [
    "# # export\n",
    "# class Runner:\n",
    "#     def __init__(self, cbs=None, cb_funcs=None):\n",
    "#         self.cbs = listify(cbs)\n",
    "#         for cb_func in listify(cb_funcs):\n",
    "#             cb = cb_func()\n",
    "#             setattr(self, cb.name, cb)\n",
    "#             self.cbs.append(cb)\n",
    "#         self.cbs = [TrainEvalCallback()] + self.cbs\n",
    "\n",
    "#     @property\n",
    "#     def model(self):\n",
    "#         return self.learn.model\n",
    "\n",
    "#     @property\n",
    "#     def opt(self):\n",
    "#         return self.learn.opt\n",
    "\n",
    "#     @property\n",
    "#     def loss_func(self):\n",
    "#         return self.learn.loss_func\n",
    "\n",
    "#     @property\n",
    "#     def data(self):\n",
    "#         return self.learn.data\n",
    "\n",
    "#     def _one_batch(self, xb, yb):\n",
    "#         self.xb, self.yb = xb, yb\n",
    "#         try:\n",
    "#             self('begin_batch')\n",
    "#             self.pred = self.model(self.xb)\n",
    "#             self('after_pred')\n",
    "#             self.loss = self.loss_func(self.pred, self.yb)\n",
    "#             self('after_loss')\n",
    "#             if not self.training:\n",
    "#                 return\n",
    "#             self.loss.backward()\n",
    "#             self('after_backward')\n",
    "#             self.opt.step()\n",
    "#             self('after_step')\n",
    "#             self.opt.zero_grad()\n",
    "#         except CancelBatchException:\n",
    "#             self('after_cancel_batch')\n",
    "#         finally:\n",
    "#             self('after_batch')\n",
    "\n",
    "#     def _all_batches(self, dl):\n",
    "#         self.iters = len(dl)\n",
    "#         for xb, yb in dl:\n",
    "#             self._one_batch(xb, yb)\n",
    "        \n",
    "#     def fit(self, epochs, learn):\n",
    "#         self.n_epochs = epochs\n",
    "#         self.learn = learn\n",
    "\n",
    "#         try:\n",
    "#             for cb in self.cbs:\n",
    "#                 cb.set_runner(self)\n",
    "\n",
    "#             self('begin_fit')\n",
    "#             for epoch in range(self.n_epochs):\n",
    "#                 try:\n",
    "#                     self('begin_epoch')\n",
    "#                     self.epoch = epoch\n",
    "                \n",
    "#                     try:\n",
    "#                         self('begin_train') \n",
    "#                         self._all_batches(self.data.train_dl)\n",
    "#                     except CancelTrainException:\n",
    "#                         self('after_cancel_train')\n",
    "#                     finally:\n",
    "#                         self('after_train')\n",
    "\n",
    "#                     try:\n",
    "#                         self('begin_validate')\n",
    "#                         with torch.no_grad():\n",
    "#                                 self._all_batches(self.data.valid_dl)\n",
    "#                     except CancelValidException:\n",
    "#                         self('after_cancel_validate')\n",
    "#                     finally:\n",
    "#                         self('after_validate')\n",
    "#                 except CancelEpochException:\n",
    "#                     self('after_cancel_epoch')\n",
    "#                 finally:\n",
    "#                     self('after_epoch')\n",
    "#         except CancelFitException:\n",
    "#             self('after_cancel_fit')\n",
    "#         finally:\n",
    "#             self('after_fit')\n",
    "#             self.learn = None\n",
    "\n",
    "#     def __call__(self, cb_name):\n",
    "#         res = False\n",
    "#         for cb in sorted(self.cbs, key=lambda x: x._order):\n",
    "#             res = cb(cb_name) or res\n",
    "#         return res"
   ]
  },
  {
   "cell_type": "code",
   "execution_count": 16,
   "metadata": {},
   "outputs": [],
   "source": [
    "model, opt = get_model(data)"
   ]
  },
  {
   "cell_type": "code",
   "execution_count": 17,
   "metadata": {},
   "outputs": [],
   "source": [
    "loss_func = F.cross_entropy"
   ]
  },
  {
   "cell_type": "code",
   "execution_count": 18,
   "metadata": {
    "hidden": true
   },
   "outputs": [],
   "source": [
    "class TestCallback(Callback):\n",
    "    _order = 1\n",
    "\n",
    "    def after_step(self):\n",
    "        self.logger(self.n_iters, self.pct_train)\n",
    "        if self.n_iters >= 10:\n",
    "            raise CancelFitException()"
   ]
  },
  {
   "cell_type": "code",
   "execution_count": 19,
   "metadata": {
    "hidden": true
   },
   "outputs": [],
   "source": [
    "learner = Learner(model, data, loss_func, opt, cb_funcs=TestCallback)"
   ]
  },
  {
   "cell_type": "code",
   "execution_count": 20,
   "metadata": {},
   "outputs": [
    {
     "name": "stdout",
     "output_type": "stream",
     "text": [
      "0 0.0\n",
      "1 0.003401360544217687\n",
      "2 0.006802721088435374\n",
      "3 0.01020408163265306\n",
      "4 0.013605442176870748\n",
      "5 0.017006802721088433\n",
      "6 0.02040816326530612\n",
      "7 0.023809523809523808\n",
      "8 0.027210884353741496\n",
      "9 0.030612244897959183\n",
      "10 0.03401360544217687\n"
     ]
    }
   ],
   "source": [
    "learner.fit(3)"
   ]
  },
  {
   "cell_type": "markdown",
   "metadata": {
    "heading_collapsed": "true"
   },
   "source": [
    "# Useful callbacks"
   ]
  },
  {
   "cell_type": "markdown",
   "metadata": {
    "heading_collapsed": "true",
    "hidden": true
   },
   "source": [
    "## Stats"
   ]
  },
  {
   "cell_type": "code",
   "execution_count": 21,
   "metadata": {
    "hidden": true
   },
   "outputs": [],
   "source": [
    "# export\n",
    "class AvgStats:\n",
    "    def __init__(self, metrics, training=True):\n",
    "        self.metrics = listify(metrics)\n",
    "        self.training = training\n",
    "\n",
    "    def reset(self):\n",
    "        self.tot_loss = 0\n",
    "        self.count = 0\n",
    "        self.tot_metrics = [0.] * len(self.metrics)\n",
    "\n",
    "    @property\n",
    "    def all_stats(self):\n",
    "        '''Returns a list of both loss and metrics.'''\n",
    "        return [self.tot_loss.item()] + self.tot_metrics\n",
    "\n",
    "    @property\n",
    "    def avg_stats(self):\n",
    "        '''Returns the average of loss/metrics.'''\n",
    "        return [o / self.count for o in self.all_stats]\n",
    "\n",
    "    def __repr__(self):\n",
    "        if not self.count: \n",
    "            return ''\n",
    "        return f\"{'train' if self.training else 'valid'}: {self.avg_stats}\"\n",
    "\n",
    "    def accumulate(self, learner):\n",
    "        '''Evaluate metrics and accumulate them to at the epoch level.'''\n",
    "        bs = len(learner.xb)\n",
    "        self.count += bs\n",
    "        self.tot_loss += learner.loss * bs\n",
    "        for i, metric in enumerate(self.metrics):\n",
    "            self.tot_metrics[i] += metric(learner.pred, learner.yb) * bs"
   ]
  },
  {
   "cell_type": "code",
   "execution_count": 22,
   "metadata": {
    "hidden": true
   },
   "outputs": [],
   "source": [
    "# export\n",
    "class AvgStatsCallback(Callback):\n",
    "    _order = -10\n",
    "    def __init__(self, metrics):\n",
    "        self.train_stats = AvgStats(metrics, True)\n",
    "        self.valid_stats = AvgStats(metrics, False)\n",
    "\n",
    "    def before_epoch(self):\n",
    "        '''Reset metrics/loss.'''\n",
    "        self.train_stats.reset()\n",
    "        self.valid_stats.reset()\n",
    "\n",
    "    def after_loss(self):\n",
    "        '''Evaluate metrics and accumulate them.'''\n",
    "        stats = self.train_stats if self.training else self.valid_stats\n",
    "        with torch.no_grad():\n",
    "            stats.accumulate(self.learner)\n",
    "\n",
    "    def after_epoch(self):\n",
    "        print(self.train_stats)\n",
    "        print(self.valid_stats)"
   ]
  },
  {
   "cell_type": "code",
   "execution_count": 23,
   "metadata": {},
   "outputs": [],
   "source": [
    "model, opt = get_model(data)"
   ]
  },
  {
   "cell_type": "code",
   "execution_count": 24,
   "metadata": {},
   "outputs": [],
   "source": [
    "loss_func = F.cross_entropy"
   ]
  },
  {
   "cell_type": "code",
   "execution_count": 25,
   "metadata": {
    "hidden": true
   },
   "outputs": [],
   "source": [
    "learner = Learner(model, data, loss_func, opt, cbs=AvgStatsCallback([accuracy]))"
   ]
  },
  {
   "cell_type": "code",
   "execution_count": 26,
   "metadata": {
    "hidden": true
   },
   "outputs": [
    {
     "name": "stdout",
     "output_type": "stream",
     "text": [
      "train: [0.656556328125, tensor(0.8068)]\n",
      "valid: [0.3059111572265625, tensor(0.9146)]\n",
      "train: [0.29674427734375, tensor(0.9136)]\n",
      "valid: [0.2408109130859375, tensor(0.9321)]\n",
      "train: [0.23895392578125, tensor(0.9308)]\n",
      "valid: [0.20018004150390625, tensor(0.9443)]\n"
     ]
    }
   ],
   "source": [
    "learner.fit(3)"
   ]
  },
  {
   "cell_type": "markdown",
   "metadata": {
    "heading_collapsed": "true",
    "hidden": true
   },
   "source": [
    "## Recorder"
   ]
  },
  {
   "cell_type": "code",
   "execution_count": 27,
   "metadata": {
    "hidden": true
   },
   "outputs": [],
   "source": [
    "# export\n",
    "class Recorder(Callback):\n",
    "    _order = 50\n",
    "    def before_fit(self):\n",
    "        self.lrs = [[] for _ in self.opt.param_groups]\n",
    "        self.losses = []\n",
    "\n",
    "    def after_batch(self):\n",
    "        if not self.training:\n",
    "            return\n",
    "        for pg, lr in zip(self.opt.param_groups, self.lrs):\n",
    "            lr.append(pg['lr'])\n",
    "        self.losses.append(self.loss.detach().cpu())\n",
    "\n",
    "    def plot_lr(self, pgid=-1):\n",
    "        plt.plot(self.lrs[pgid])\n",
    "\n",
    "    def plot_loss(self, skip_last=0):\n",
    "        n = len(self.losses) - skip_last\n",
    "        plt.plot(self.losses[:n])\n",
    "\n",
    "    def plot(self, skip_last=0, pgid=-1):\n",
    "        losses = [o.item() for o in self.losses]\n",
    "        lrs = self.lrs[pgid]\n",
    "        n = len(losses) - skip_last\n",
    "        plt.xscale('log')\n",
    "        plt.plot(lrs[:n], losses[:n])"
   ]
  },
  {
   "cell_type": "code",
   "execution_count": 28,
   "metadata": {},
   "outputs": [],
   "source": [
    "model, opt = get_model(data)"
   ]
  },
  {
   "cell_type": "code",
   "execution_count": 29,
   "metadata": {},
   "outputs": [],
   "source": [
    "loss_func = F.cross_entropy"
   ]
  },
  {
   "cell_type": "code",
   "execution_count": 30,
   "metadata": {
    "hidden": true
   },
   "outputs": [],
   "source": [
    "learner = Learner(model, data, loss_func, opt, cbs=AvgStatsCallback([accuracy]), cb_funcs=Recorder)"
   ]
  },
  {
   "cell_type": "code",
   "execution_count": 31,
   "metadata": {
    "hidden": true
   },
   "outputs": [
    {
     "name": "stdout",
     "output_type": "stream",
     "text": [
      "train: [0.674924609375, tensor(0.7978)]\n",
      "valid: [0.3087734130859375, tensor(0.9110)]\n",
      "train: [0.3115500390625, tensor(0.9079)]\n",
      "valid: [0.2528210205078125, tensor(0.9277)]\n",
      "train: [0.24996732421875, tensor(0.9278)]\n",
      "valid: [0.221538720703125, tensor(0.9376)]\n"
     ]
    }
   ],
   "source": [
    "learner.fit(3)"
   ]
  },
  {
   "cell_type": "code",
   "execution_count": 32,
   "metadata": {},
   "outputs": [
    {
     "data": {
      "image/png": "[encoded data removed]",
      "text/plain": [
       "<Figure size 432x288 with 1 Axes>"
      ]
     },
     "metadata": {
      "needs_background": "light"
     },
     "output_type": "display_data"
    }
   ],
   "source": [
    "learner.recorder.plot_loss()"
   ]
  },
  {
   "cell_type": "code",
   "execution_count": 33,
   "metadata": {},
   "outputs": [
    {
     "data": {
      "image/png": "[encoded data removed]",
      "text/plain": [
       "<Figure size 432x288 with 1 Axes>"
      ]
     },
     "metadata": {
      "needs_background": "light"
     },
     "output_type": "display_data"
    }
   ],
   "source": [
    "learner.recorder.plot_lr()"
   ]
  },
  {
   "cell_type": "markdown",
   "metadata": {
    "heading_collapsed": "true",
    "hidden": true
   },
   "source": [
    "## Parameter Scheduler"
   ]
  },
  {
   "cell_type": "code",
   "execution_count": 34,
   "metadata": {
    "hidden": true
   },
   "outputs": [],
   "source": [
    "# export\n",
    "class ParamScheduler(Callback):\n",
    "    _order = 60\n",
    "\n",
    "    def __init__(self, pname, sched_funcs):\n",
    "        self.pname = pname\n",
    "        self.sched_funcs = sched_funcs\n",
    "\n",
    "    def before_fit(self):\n",
    "        if not isinstance(self.sched_funcs, (list, tuple)):\n",
    "            self.sched_funcs = [self.sched_funcs] * len(self.opt.param_groups)\n",
    "\n",
    "    def set_param(self):\n",
    "        assert len(self.opt.param_groups) == len(self.sched_funcs)\n",
    "        for pg, f in zip(self.opt.param_groups, self.sched_funcs):\n",
    "            pg[self.pname] = f(self.pct_train)\n",
    "\n",
    "    def before_batch(self):\n",
    "        if self.training:\n",
    "            self.set_param()"
   ]
  },
  {
   "cell_type": "code",
   "execution_count": 35,
   "metadata": {
    "hidden": true
   },
   "outputs": [],
   "source": [
    "sched = combine_scheds([0.3, 0.7], [sched_cos(0.3, 0.6), sched_cos(0.6, 0.2)]) "
   ]
  },
  {
   "cell_type": "code",
   "execution_count": 36,
   "metadata": {},
   "outputs": [],
   "source": [
    "model, opt = get_model(data)"
   ]
  },
  {
   "cell_type": "code",
   "execution_count": 37,
   "metadata": {},
   "outputs": [],
   "source": [
    "loss_func = F.cross_entropy"
   ]
  },
  {
   "cell_type": "code",
   "execution_count": 38,
   "metadata": {
    "hidden": true
   },
   "outputs": [],
   "source": [
    "learner = Learner(model, data, loss_func, opt, cbs=[AvgStatsCallback([accuracy]), ParamScheduler('lr', sched)], cb_funcs=Recorder)"
   ]
  },
  {
   "cell_type": "code",
   "execution_count": 39,
   "metadata": {
    "hidden": true
   },
   "outputs": [
    {
     "name": "stdout",
     "output_type": "stream",
     "text": [
      "train: [0.78102890625, tensor(0.7841)]\n",
      "valid: [0.3549895263671875, tensor(0.8911)]\n",
      "train: [0.3018090625, tensor(0.9120)]\n",
      "valid: [0.236168115234375, tensor(0.9332)]\n",
      "train: [0.23684572265625, tensor(0.9322)]\n",
      "valid: [0.209265771484375, tensor(0.9412)]\n"
     ]
    }
   ],
   "source": [
    "learner.fit(3)"
   ]
  },
  {
   "cell_type": "code",
   "execution_count": 40,
   "metadata": {
    "hidden": true
   },
   "outputs": [
    {
     "data": {
      "image/png": "[encoded data removed]",
      "text/plain": [
       "<Figure size 432x288 with 1 Axes>"
      ]
     },
     "metadata": {
      "needs_background": "light"
     },
     "output_type": "display_data"
    }
   ],
   "source": [
    "learner.recorder.plot_loss()"
   ]
  },
  {
   "cell_type": "code",
   "execution_count": 41,
   "metadata": {
    "hidden": true
   },
   "outputs": [
    {
     "data": {
      "image/png": "[encoded data removed]",
      "text/plain": [
       "<Figure size 432x288 with 1 Axes>"
      ]
     },
     "metadata": {
      "needs_background": "light"
     },
     "output_type": "display_data"
    }
   ],
   "source": [
    "learner.recorder.plot_lr()"
   ]
  },
  {
   "cell_type": "markdown",
   "metadata": {
    "heading_collapsed": "true",
    "hidden": true
   },
   "source": [
    "## LR Finder"
   ]
  },
  {
   "cell_type": "markdown",
   "metadata": {
    "hidden": true
   },
   "source": [
    "NB: You may want to also add something that saves the model before running this, and loads it back after running - otherwise you'll lose your weights!"
   ]
  },
  {
   "cell_type": "code",
   "execution_count": 43,
   "metadata": {
    "hidden": true
   },
   "outputs": [],
   "source": [
    "# export\n",
    "class LR_Find(Callback):\n",
    "    _order = 60\n",
    "\n",
    "    def __init__(self, max_iter=100, min_lr=1e-6, max_lr=10):\n",
    "        self.max_iter = max_iter\n",
    "        self.min_lr = min_lr\n",
    "        self.max_lr = max_lr\n",
    "        self.best_loss = 1e9\n",
    "\n",
    "    def before_batch(self):\n",
    "        if not self.training:\n",
    "            return\n",
    "        pos = self.n_iters / self.max_iter\n",
    "        lr = self.min_lr * (self.max_lr / self.min_lr)**pos\n",
    "        for pg in self.opt.param_groups:\n",
    "            pg['lr'] = lr\n",
    "\n",
    "    def after_step(self):\n",
    "        if self.n_iters >= self.max_iter or self.loss > self.best_loss * 10:\n",
    "            raise CancelFitException()\n",
    "        elif self.loss < self.best_loss:\n",
    "            self.best_loss = self.loss"
   ]
  },
  {
   "cell_type": "markdown",
   "metadata": {
    "hidden": true
   },
   "source": [
    "NB: In fastai we also use exponential smoothing on the loss. For that reason we check for `best_loss*3` instead of `best_loss*10`."
   ]
  },
  {
   "cell_type": "code",
   "execution_count": 44,
   "metadata": {},
   "outputs": [],
   "source": [
    "model, opt = get_model(data)"
   ]
  },
  {
   "cell_type": "code",
   "execution_count": 45,
   "metadata": {},
   "outputs": [],
   "source": [
    "loss_func = F.cross_entropy"
   ]
  },
  {
   "cell_type": "code",
   "execution_count": 46,
   "metadata": {
    "hidden": true
   },
   "outputs": [],
   "source": [
    "learner = Learner(model, data, loss_func, opt, cbs=[AvgStatsCallback([accuracy])], cb_funcs=[Recorder, LR_Find])"
   ]
  },
  {
   "cell_type": "code",
   "execution_count": 47,
   "metadata": {
    "hidden": true
   },
   "outputs": [
    {
     "name": "stdout",
     "output_type": "stream",
     "text": [
      "train: [2.4405178313559674, tensor(0.1947)]\n",
      "\n"
     ]
    }
   ],
   "source": [
    "learner.fit(3)"
   ]
  },
  {
   "cell_type": "code",
   "execution_count": 48,
   "metadata": {
    "hidden": true
   },
   "outputs": [
    {
     "data": {
      "image/png": "[encoded data removed]",
      "text/plain": [
       "<Figure size 432x288 with 1 Axes>"
      ]
     },
     "metadata": {
      "needs_background": "light"
     },
     "output_type": "display_data"
    }
   ],
   "source": [
    "learner.recorder.plot(skip_last=5)"
   ]
  },
  {
   "cell_type": "code",
   "execution_count": 49,
   "metadata": {
    "hidden": true
   },
   "outputs": [
    {
     "data": {
      "image/png": "[encoded data removed]",
      "text/plain": [
       "<Figure size 432x288 with 1 Axes>"
      ]
     },
     "metadata": {
      "needs_background": "light"
     },
     "output_type": "display_data"
    }
   ],
   "source": [
    "learner.recorder.plot_lr()"
   ]
  },
  {
   "cell_type": "markdown",
   "metadata": {
    "heading_collapsed": "true"
   },
   "source": [
    "## Progress"
   ]
  },
  {
   "cell_type": "code",
   "execution_count": 50,
   "metadata": {},
   "outputs": [],
   "source": [
    "class ProgressCallback(Callback):\n",
    "    \"\"\"Add progress bar as logger for tracking metrics.\"\"\"\n",
    "\n",
    "    _order = 60\n",
    "\n",
    "    def before_fit(self):\n",
    "        self.mbar = master_bar(range(self.learner.n_epochs))\n",
    "        self.mbar.on_iter_begin()\n",
    "        self.learner.logger = partial(self.mbar.write, table=True)\n",
    "\n",
    "    def after_fit(self):\n",
    "        self.mbar.on_iter_end()\n",
    "\n",
    "    def after_batch(self):\n",
    "        self.pb.update(self.learner.iter)\n",
    "\n",
    "    def before_epoch(self):\n",
    "        self.set_pb()\n",
    "\n",
    "    def before_validate(self):\n",
    "        self.set_pb()\n",
    "\n",
    "    def set_pb(self):\n",
    "        self.pb = progress_bar(self.learner.dl, parent=self.mbar)\n",
    "        self.mbar.update(self.epoch)"
   ]
  },
  {
   "cell_type": "code",
   "execution_count": 51,
   "metadata": {},
   "outputs": [],
   "source": [
    "model, opt = get_model(data)"
   ]
  },
  {
   "cell_type": "code",
   "execution_count": 52,
   "metadata": {},
   "outputs": [],
   "source": [
    "loss_func = F.cross_entropy"
   ]
  },
  {
   "cell_type": "code",
   "execution_count": 53,
   "metadata": {
    "hidden": true
   },
   "outputs": [],
   "source": [
    "learner = Learner(model, data, loss_func, opt, cbs=[AvgStatsCallback([accuracy])], cb_funcs=[Recorder, ProgressCallback])"
   ]
  },
  {
   "cell_type": "code",
   "execution_count": 54,
   "metadata": {},
   "outputs": [
    {
     "data": {
      "text/html": [
       "\n",
       "    <div>\n",
       "        <style>\n",
       "            /* Turns off some styling */\n",
       "            progress {\n",
       "                /* gets rid of default border in Firefox and Opera. */\n",
       "                border: none;\n",
       "                /* Needs to be in here for Safari polyfill so background images work as expected. */\n",
       "                background-size: auto;\n",
       "            }\n",
       "            .progress-bar-interrupted, .progress-bar-interrupted::-webkit-progress-bar {\n",
       "                background: #F44336;\n",
       "            }\n",
       "        </style>\n",
       "      <progress value='0' class='' max='3' style='width:300px; height:20px; vertical-align: middle;'></progress>\n",
       "      \n",
       "    </div>\n",
       "    \n"
      ],
      "text/plain": [
       "<IPython.core.display.HTML object>"
      ]
     },
     "metadata": {},
     "output_type": "display_data"
    },
    {
     "data": {
      "text/html": [],
      "text/plain": [
       "<IPython.core.display.HTML object>"
      ]
     },
     "metadata": {},
     "output_type": "display_data"
    },
    {
     "name": "stdout",
     "output_type": "stream",
     "text": [
      "train: [0.68213546875, tensor(0.7986)]\n",
      "valid: [0.3151760009765625, tensor(0.9094)]\n",
      "train: [0.3106803125, tensor(0.9083)]\n",
      "valid: [0.244204150390625, tensor(0.9318)]\n",
      "train: [0.2467671875, tensor(0.9285)]\n",
      "valid: [0.20470655517578126, tensor(0.9424)]\n"
     ]
    }
   ],
   "source": [
    "learner.fit(3)"
   ]
  },
  {
   "cell_type": "markdown",
   "metadata": {},
   "source": [
    "# Export"
   ]
  },
  {
   "cell_type": "code",
   "execution_count": 55,
   "metadata": {
    "hidden": true
   },
   "outputs": [
    {
     "name": "stdout",
     "output_type": "stream",
     "text": [
      "Converted 05b_Early_Stopping-Imad.ipynb to exp/nb_05b.py\n"
     ]
    }
   ],
   "source": [
    "!python ../src/notebook2script.py 05b_Early_Stopping-Imad.ipynb"
   ]
  }
 ],
 "metadata": {
  "hide_input": false,
  "kernelspec": {
   "display_name": "Python 3 (ipykernel)",
   "language": "python",
   "name": "python3"
  },
  "language_info": {
   "codemirror_mode": {
    "name": "ipython",
    "version": 3
   },
   "file_extension": ".py",
   "mimetype": "text/x-python",
   "name": "python",
   "nbconvert_exporter": "python",
   "pygments_lexer": "ipython3",
   "version": "3.10.4"
  },
  "toc": {
   "base_numbering": 1,
   "nav_menu": {},
   "number_sections": true,
   "sideBar": true,
   "skip_h1_title": false,
   "title_cell": "Table of Contents",
   "title_sidebar": "Contents",
   "toc_cell": false,
   "toc_position": {},
   "toc_section_display": true,
   "toc_window_display": false
  }
 },
 "nbformat": 4,
 "nbformat_minor": 4
}
