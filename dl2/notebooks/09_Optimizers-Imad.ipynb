{
 "cells": [
  {
   "cell_type": "markdown",
   "metadata": {},
   "source": [
    "# Imports"
   ]
  },
  {
   "cell_type": "code",
   "execution_count": 1,
   "metadata": {},
   "outputs": [],
   "source": [
    "%load_ext autoreload\n",
    "%autoreload 2\n",
    "\n",
    "%load_ext lab_black"
   ]
  },
  {
   "cell_type": "code",
   "execution_count": 2,
   "metadata": {},
   "outputs": [
    {
     "name": "stderr",
     "output_type": "stream",
     "text": [
      "/Users/imad/anaconda3/envs/dl/lib/python3.10/site-packages/scipy/__init__.py:146: UserWarning: A NumPy version >=1.16.5 and <1.23.0 is required for this version of SciPy (detected version 1.23.1\n",
      "  warnings.warn(f\"A NumPy version >={np_minversion} and <{np_maxversion}\"\n"
     ]
    }
   ],
   "source": [
    "# export\n",
    "from exp.nb_08 import *"
   ]
  },
  {
   "cell_type": "markdown",
   "metadata": {
    "heading_collapsed": "true"
   },
   "source": [
    "# Imagenette data"
   ]
  },
  {
   "cell_type": "markdown",
   "metadata": {
    "hidden": true
   },
   "source": [
    "We grab the data from the previous notebook."
   ]
  },
  {
   "cell_type": "code",
   "execution_count": 7,
   "metadata": {},
   "outputs": [
    {
     "data": {
      "text/plain": [
       "[tensor([0, 1, 2, 3, 4, 5, 6, 7, 8, 9]),\n",
       " tensor([0, 1, 2, 3, 4, 5, 6, 7, 8, 9])]"
      ]
     },
     "execution_count": 7,
     "metadata": {},
     "output_type": "execute_result"
    }
   ],
   "source": [
    "next(iter(dl))"
   ]
  },
  {
   "cell_type": "markdown",
   "metadata": {
    "hidden": true
   },
   "source": [
    "[Jump_to lesson 11 video](https://course.fast.ai/videos/?lesson=11&t=3917) "
   ]
  },
  {
   "cell_type": "code",
   "execution_count": 3,
   "metadata": {
    "hidden": true
   },
   "outputs": [],
   "source": [
    "path = untar_data(URLs.IMAGENETTE_160)"
   ]
  },
  {
   "cell_type": "code",
   "execution_count": 4,
   "metadata": {
    "hidden": true
   },
   "outputs": [],
   "source": [
    "tfms = [make_rgb, ResizeFixed(128), to_byte_tensor, to_float_tensor]\n",
    "bs = 128\n",
    "\n",
    "il = ImageList.from_files(path, tfms=tfms)\n",
    "sd = SplitData.split_by_func(il, partial(grandparent_splitter, valid_name=\"val\"))\n",
    "ll = label_by_func(sd, parent_labeler, proc_y=CategoryProcessor())\n",
    "data = ll.to_databunch(bs, c_in=3, c_out=10, num_workers=4)"
   ]
  },
  {
   "cell_type": "code",
   "execution_count": 5,
   "metadata": {},
   "outputs": [
    {
     "data": {
      "text/plain": [
       "exp.nb_08.ImageList"
      ]
     },
     "execution_count": 5,
     "metadata": {},
     "output_type": "execute_result"
    }
   ],
   "source": [
    "type(il)"
   ]
  },
  {
   "cell_type": "code",
   "execution_count": 6,
   "metadata": {},
   "outputs": [
    {
     "data": {
      "text/plain": [
       "(exp.nb_08.SplitData, exp.nb_08.ImageList, exp.nb_08.ImageList)"
      ]
     },
     "execution_count": 6,
     "metadata": {},
     "output_type": "execute_result"
    }
   ],
   "source": [
    "type(sd), type(sd.train), type(sd.valid)"
   ]
  },
  {
   "cell_type": "code",
   "execution_count": 7,
   "metadata": {},
   "outputs": [
    {
     "data": {
      "text/plain": [
       "(exp.nb_08.SplitData, exp.nb_08.LabeledData, exp.nb_08.LabeledData)"
      ]
     },
     "execution_count": 7,
     "metadata": {},
     "output_type": "execute_result"
    }
   ],
   "source": [
    "type(ll), type(ll.train), type(ll.valid)"
   ]
  },
  {
   "cell_type": "code",
   "execution_count": 8,
   "metadata": {},
   "outputs": [
    {
     "data": {
      "text/plain": [
       "(exp.nb_08.ImageList,\n",
       " exp.nb_08.ItemList,\n",
       " exp.nb_08.ImageList,\n",
       " exp.nb_08.ItemList)"
      ]
     },
     "execution_count": 8,
     "metadata": {},
     "output_type": "execute_result"
    }
   ],
   "source": [
    "type(ll.train.x), type(ll.train.y), type(ll.valid.x), type(ll.valid.y)"
   ]
  },
  {
   "cell_type": "markdown",
   "metadata": {
    "hidden": true
   },
   "source": [
    "Then a model:"
   ]
  },
  {
   "cell_type": "code",
   "execution_count": 9,
   "metadata": {
    "hidden": true
   },
   "outputs": [],
   "source": [
    "nfs = [32, 64, 128, 256]"
   ]
  },
  {
   "cell_type": "code",
   "execution_count": 10,
   "metadata": {
    "hidden": true
   },
   "outputs": [],
   "source": [
    "cbfs = [\n",
    "    partial(AvgStatsCallback, accuracy),  # $CudaCallback,\n",
    "    partial(BatchTransformXCallback, norm_imagenette),\n",
    "]"
   ]
  },
  {
   "cell_type": "markdown",
   "metadata": {
    "hidden": true
   },
   "source": [
    "This is the baseline of training with vanilla SGD."
   ]
  },
  {
   "cell_type": "code",
   "execution_count": 7,
   "metadata": {
    "hidden": true
   },
   "outputs": [],
   "source": [
    "learner = get_learn_run(nfs, data, 0.4, conv_layer, cbs=cbfs)"
   ]
  },
  {
   "cell_type": "code",
   "execution_count": 8,
   "metadata": {
    "hidden": true
   },
   "outputs": [
    {
     "name": "stdout",
     "output_type": "stream",
     "text": [
      "train: [2.0267733619326638, tensor(0.2757)]\n",
      "\n"
     ]
    },
    {
     "name": "stderr",
     "output_type": "stream",
     "text": [
      "Traceback (most recent call last):\n",
      "Traceback (most recent call last):\n",
      "Traceback (most recent call last):\n",
      "  File \"/Users/imad/anaconda3/envs/fastbook/lib/python3.9/multiprocessing/queues.py\", line 251, in _feed\n",
      "    send_bytes(obj)\n",
      "  File \"/Users/imad/anaconda3/envs/fastbook/lib/python3.9/multiprocessing/connection.py\", line 205, in send_bytes\n",
      "    self._send_bytes(m[offset:offset + size])\n",
      "  File \"/Users/imad/anaconda3/envs/fastbook/lib/python3.9/multiprocessing/connection.py\", line 416, in _send_bytes\n",
      "    self._send(header + buf)\n",
      "  File \"/Users/imad/anaconda3/envs/fastbook/lib/python3.9/multiprocessing/queues.py\", line 251, in _feed\n",
      "    send_bytes(obj)\n",
      "  File \"/Users/imad/anaconda3/envs/fastbook/lib/python3.9/multiprocessing/connection.py\", line 205, in send_bytes\n",
      "    self._send_bytes(m[offset:offset + size])\n",
      "  File \"/Users/imad/anaconda3/envs/fastbook/lib/python3.9/multiprocessing/connection.py\", line 416, in _send_bytes\n",
      "    self._send(header + buf)\n",
      "  File \"/Users/imad/anaconda3/envs/fastbook/lib/python3.9/multiprocessing/connection.py\", line 373, in _send\n",
      "    n = write(self._handle, buf)\n",
      "BrokenPipeError: [Errno 32] Broken pipe\n",
      "  File \"/Users/imad/anaconda3/envs/fastbook/lib/python3.9/multiprocessing/queues.py\", line 251, in _feed\n",
      "    send_bytes(obj)\n",
      "  File \"/Users/imad/anaconda3/envs/fastbook/lib/python3.9/multiprocessing/connection.py\", line 205, in send_bytes\n",
      "    self._send_bytes(m[offset:offset + size])\n",
      "  File \"/Users/imad/anaconda3/envs/fastbook/lib/python3.9/multiprocessing/connection.py\", line 416, in _send_bytes\n",
      "    self._send(header + buf)\n",
      "  File \"/Users/imad/anaconda3/envs/fastbook/lib/python3.9/multiprocessing/connection.py\", line 373, in _send\n",
      "    n = write(self._handle, buf)\n",
      "BrokenPipeError: [Errno 32] Broken pipe\n",
      "Traceback (most recent call last):\n",
      "  File \"/Users/imad/anaconda3/envs/fastbook/lib/python3.9/multiprocessing/connection.py\", line 373, in _send\n",
      "    n = write(self._handle, buf)\n",
      "BrokenPipeError: [Errno 32] Broken pipe\n",
      "  File \"/Users/imad/anaconda3/envs/fastbook/lib/python3.9/multiprocessing/queues.py\", line 251, in _feed\n",
      "    send_bytes(obj)\n",
      "  File \"/Users/imad/anaconda3/envs/fastbook/lib/python3.9/multiprocessing/connection.py\", line 205, in send_bytes\n",
      "    self._send_bytes(m[offset:offset + size])\n",
      "  File \"/Users/imad/anaconda3/envs/fastbook/lib/python3.9/multiprocessing/connection.py\", line 416, in _send_bytes\n",
      "    self._send(header + buf)\n",
      "  File \"/Users/imad/anaconda3/envs/fastbook/lib/python3.9/multiprocessing/connection.py\", line 373, in _send\n",
      "    n = write(self._handle, buf)\n",
      "BrokenPipeError: [Errno 32] Broken pipe\n"
     ]
    },
    {
     "ename": "KeyboardInterrupt",
     "evalue": "",
     "output_type": "error",
     "traceback": [
      "\u001b[0;31m---------------------------------------------------------------------------\u001b[0m",
      "\u001b[0;31mKeyboardInterrupt\u001b[0m                         Traceback (most recent call last)",
      "\u001b[0;32m<ipython-input-8-60cbf548015d>\u001b[0m in \u001b[0;36m<module>\u001b[0;34m\u001b[0m\n\u001b[0;32m----> 1\u001b[0;31m \u001b[0mlearner\u001b[0m\u001b[0;34m.\u001b[0m\u001b[0mfit\u001b[0m\u001b[0;34m(\u001b[0m\u001b[0;36m1\u001b[0m\u001b[0;34m)\u001b[0m\u001b[0;34m\u001b[0m\u001b[0;34m\u001b[0m\u001b[0m\n\u001b[0m",
      "\u001b[0;32m~/Documents/courses/fastai-courses/dl2/notebooks/exp/nb_05b.py\u001b[0m in \u001b[0;36mfit\u001b[0;34m(self, epochs)\u001b[0m\n\u001b[1;32m    191\u001b[0m                     \u001b[0;32mtry\u001b[0m\u001b[0;34m:\u001b[0m\u001b[0;34m\u001b[0m\u001b[0;34m\u001b[0m\u001b[0m\n\u001b[1;32m    192\u001b[0m                         \u001b[0mself\u001b[0m\u001b[0;34m(\u001b[0m\u001b[0;34m\"before_train\"\u001b[0m\u001b[0;34m)\u001b[0m\u001b[0;34m\u001b[0m\u001b[0;34m\u001b[0m\u001b[0m\n\u001b[0;32m--> 193\u001b[0;31m                         \u001b[0mself\u001b[0m\u001b[0;34m.\u001b[0m\u001b[0m_all_batches\u001b[0m\u001b[0;34m(\u001b[0m\u001b[0;34m)\u001b[0m\u001b[0;34m\u001b[0m\u001b[0;34m\u001b[0m\u001b[0m\n\u001b[0m\u001b[1;32m    194\u001b[0m                     \u001b[0;32mexcept\u001b[0m \u001b[0mCancelTrainException\u001b[0m\u001b[0;34m:\u001b[0m\u001b[0;34m\u001b[0m\u001b[0;34m\u001b[0m\u001b[0m\n\u001b[1;32m    195\u001b[0m                         \u001b[0mself\u001b[0m\u001b[0;34m(\u001b[0m\u001b[0;34m\"after_cancel_train\"\u001b[0m\u001b[0;34m)\u001b[0m\u001b[0;34m\u001b[0m\u001b[0;34m\u001b[0m\u001b[0m\n",
      "\u001b[0;32m~/Documents/courses/fastai-courses/dl2/notebooks/exp/nb_05b.py\u001b[0m in \u001b[0;36m_all_batches\u001b[0;34m(self)\u001b[0m\n\u001b[1;32m    177\u001b[0m         \u001b[0mself\u001b[0m\u001b[0;34m.\u001b[0m\u001b[0miters\u001b[0m \u001b[0;34m=\u001b[0m \u001b[0mlen\u001b[0m\u001b[0;34m(\u001b[0m\u001b[0mself\u001b[0m\u001b[0;34m.\u001b[0m\u001b[0mdl\u001b[0m\u001b[0;34m)\u001b[0m\u001b[0;34m\u001b[0m\u001b[0;34m\u001b[0m\u001b[0m\n\u001b[1;32m    178\u001b[0m         \u001b[0;32mfor\u001b[0m \u001b[0mi\u001b[0m\u001b[0;34m,\u001b[0m \u001b[0;34m(\u001b[0m\u001b[0mxb\u001b[0m\u001b[0;34m,\u001b[0m \u001b[0myb\u001b[0m\u001b[0;34m)\u001b[0m \u001b[0;32min\u001b[0m \u001b[0menumerate\u001b[0m\u001b[0;34m(\u001b[0m\u001b[0mself\u001b[0m\u001b[0;34m.\u001b[0m\u001b[0mdl\u001b[0m\u001b[0;34m)\u001b[0m\u001b[0;34m:\u001b[0m\u001b[0;34m\u001b[0m\u001b[0;34m\u001b[0m\u001b[0m\n\u001b[0;32m--> 179\u001b[0;31m             \u001b[0mself\u001b[0m\u001b[0;34m.\u001b[0m\u001b[0m_one_batch\u001b[0m\u001b[0;34m(\u001b[0m\u001b[0mi\u001b[0m\u001b[0;34m,\u001b[0m \u001b[0mxb\u001b[0m\u001b[0;34m,\u001b[0m \u001b[0myb\u001b[0m\u001b[0;34m)\u001b[0m\u001b[0;34m\u001b[0m\u001b[0;34m\u001b[0m\u001b[0m\n\u001b[0m\u001b[1;32m    180\u001b[0m \u001b[0;34m\u001b[0m\u001b[0m\n\u001b[1;32m    181\u001b[0m     \u001b[0;32mdef\u001b[0m \u001b[0mfit\u001b[0m\u001b[0;34m(\u001b[0m\u001b[0mself\u001b[0m\u001b[0;34m,\u001b[0m \u001b[0mepochs\u001b[0m\u001b[0;34m)\u001b[0m\u001b[0;34m:\u001b[0m\u001b[0;34m\u001b[0m\u001b[0;34m\u001b[0m\u001b[0m\n",
      "\u001b[0;32m~/Documents/courses/fastai-courses/dl2/notebooks/exp/nb_05b.py\u001b[0m in \u001b[0;36m_one_batch\u001b[0;34m(self, i, xb, yb)\u001b[0m\n\u001b[1;32m    164\u001b[0m             \u001b[0;32mif\u001b[0m \u001b[0;32mnot\u001b[0m \u001b[0mself\u001b[0m\u001b[0;34m.\u001b[0m\u001b[0mtraining\u001b[0m\u001b[0;34m:\u001b[0m\u001b[0;34m\u001b[0m\u001b[0;34m\u001b[0m\u001b[0m\n\u001b[1;32m    165\u001b[0m                 \u001b[0;32mreturn\u001b[0m\u001b[0;34m\u001b[0m\u001b[0;34m\u001b[0m\u001b[0m\n\u001b[0;32m--> 166\u001b[0;31m             \u001b[0mself\u001b[0m\u001b[0;34m.\u001b[0m\u001b[0mloss\u001b[0m\u001b[0;34m.\u001b[0m\u001b[0mbackward\u001b[0m\u001b[0;34m(\u001b[0m\u001b[0;34m)\u001b[0m\u001b[0;34m\u001b[0m\u001b[0;34m\u001b[0m\u001b[0m\n\u001b[0m\u001b[1;32m    167\u001b[0m             \u001b[0mself\u001b[0m\u001b[0;34m(\u001b[0m\u001b[0;34m\"after_backward\"\u001b[0m\u001b[0;34m)\u001b[0m\u001b[0;34m\u001b[0m\u001b[0;34m\u001b[0m\u001b[0m\n\u001b[1;32m    168\u001b[0m             \u001b[0mself\u001b[0m\u001b[0;34m.\u001b[0m\u001b[0mopt\u001b[0m\u001b[0;34m.\u001b[0m\u001b[0mstep\u001b[0m\u001b[0;34m(\u001b[0m\u001b[0;34m)\u001b[0m\u001b[0;34m\u001b[0m\u001b[0;34m\u001b[0m\u001b[0m\n",
      "\u001b[0;32m~/anaconda3/envs/fastbook/lib/python3.9/site-packages/torch/_tensor.py\u001b[0m in \u001b[0;36mbackward\u001b[0;34m(self, gradient, retain_graph, create_graph, inputs)\u001b[0m\n\u001b[1;32m    253\u001b[0m                 \u001b[0mcreate_graph\u001b[0m\u001b[0;34m=\u001b[0m\u001b[0mcreate_graph\u001b[0m\u001b[0;34m,\u001b[0m\u001b[0;34m\u001b[0m\u001b[0;34m\u001b[0m\u001b[0m\n\u001b[1;32m    254\u001b[0m                 inputs=inputs)\n\u001b[0;32m--> 255\u001b[0;31m         \u001b[0mtorch\u001b[0m\u001b[0;34m.\u001b[0m\u001b[0mautograd\u001b[0m\u001b[0;34m.\u001b[0m\u001b[0mbackward\u001b[0m\u001b[0;34m(\u001b[0m\u001b[0mself\u001b[0m\u001b[0;34m,\u001b[0m \u001b[0mgradient\u001b[0m\u001b[0;34m,\u001b[0m \u001b[0mretain_graph\u001b[0m\u001b[0;34m,\u001b[0m \u001b[0mcreate_graph\u001b[0m\u001b[0;34m,\u001b[0m \u001b[0minputs\u001b[0m\u001b[0;34m=\u001b[0m\u001b[0minputs\u001b[0m\u001b[0;34m)\u001b[0m\u001b[0;34m\u001b[0m\u001b[0;34m\u001b[0m\u001b[0m\n\u001b[0m\u001b[1;32m    256\u001b[0m \u001b[0;34m\u001b[0m\u001b[0m\n\u001b[1;32m    257\u001b[0m     \u001b[0;32mdef\u001b[0m \u001b[0mregister_hook\u001b[0m\u001b[0;34m(\u001b[0m\u001b[0mself\u001b[0m\u001b[0;34m,\u001b[0m \u001b[0mhook\u001b[0m\u001b[0;34m)\u001b[0m\u001b[0;34m:\u001b[0m\u001b[0;34m\u001b[0m\u001b[0;34m\u001b[0m\u001b[0m\n",
      "\u001b[0;32m~/anaconda3/envs/fastbook/lib/python3.9/site-packages/torch/autograd/__init__.py\u001b[0m in \u001b[0;36mbackward\u001b[0;34m(tensors, grad_tensors, retain_graph, create_graph, grad_variables, inputs)\u001b[0m\n\u001b[1;32m    145\u001b[0m         \u001b[0mretain_graph\u001b[0m \u001b[0;34m=\u001b[0m \u001b[0mcreate_graph\u001b[0m\u001b[0;34m\u001b[0m\u001b[0;34m\u001b[0m\u001b[0m\n\u001b[1;32m    146\u001b[0m \u001b[0;34m\u001b[0m\u001b[0m\n\u001b[0;32m--> 147\u001b[0;31m     Variable._execution_engine.run_backward(\n\u001b[0m\u001b[1;32m    148\u001b[0m         \u001b[0mtensors\u001b[0m\u001b[0;34m,\u001b[0m \u001b[0mgrad_tensors_\u001b[0m\u001b[0;34m,\u001b[0m \u001b[0mretain_graph\u001b[0m\u001b[0;34m,\u001b[0m \u001b[0mcreate_graph\u001b[0m\u001b[0;34m,\u001b[0m \u001b[0minputs\u001b[0m\u001b[0;34m,\u001b[0m\u001b[0;34m\u001b[0m\u001b[0;34m\u001b[0m\u001b[0m\n\u001b[1;32m    149\u001b[0m         allow_unreachable=True, accumulate_grad=True)  # allow_unreachable flag\n",
      "\u001b[0;31mKeyboardInterrupt\u001b[0m: "
     ]
    }
   ],
   "source": [
    "learner.fit(1)"
   ]
  },
  {
   "cell_type": "markdown",
   "metadata": {},
   "source": [
    "# Refining the optimizer"
   ]
  },
  {
   "cell_type": "markdown",
   "metadata": {
    "heading_collapsed": "true"
   },
   "source": [
    "## BaseOptimizer"
   ]
  },
  {
   "cell_type": "markdown",
   "metadata": {
    "hidden": true
   },
   "source": [
    "In PyTorch, the base optimizer in `torch.optim` is just a dictionary that stores the hyper-parameters and references to the parameters of the model we want to train in parameter groups (different groups can have different learning rates/momentum/weight decay... which is what lets us do discriminative learning rates).\n",
    "\n",
    "It contains a method `step` that will update our parameters with the gradients and a method `zero_grad` to detach and zero the gradients of all our parameters.\n",
    "\n",
    "We build the equivalent from scratch, only ours will be more flexible. In our implementation, the step function loops over all the parameters to execute the step using stepper functions that we have to provide when initializing the optimizer."
   ]
  },
  {
   "cell_type": "markdown",
   "metadata": {
    "hidden": true
   },
   "source": [
    "[Jump_to lesson 11 video](https://course.fast.ai/videos/?lesson=11&t=4074)"
   ]
  },
  {
   "cell_type": "code",
   "execution_count": 9,
   "metadata": {},
   "outputs": [
    {
     "data": {
      "text/plain": [
       "Sequential(\n",
       "  (0): Sequential(\n",
       "    (0): Conv2d(3, 16, kernel_size=(3, 3), stride=(1, 1), padding=(1, 1), bias=False)\n",
       "    (1): GeneralRelu()\n",
       "    (2): BatchNorm2d(16, eps=1e-05, momentum=0.1, affine=True, track_running_stats=True)\n",
       "  )\n",
       "  (1): Sequential(\n",
       "    (0): Conv2d(16, 32, kernel_size=(3, 3), stride=(2, 2), padding=(1, 1), bias=False)\n",
       "    (1): GeneralRelu()\n",
       "    (2): BatchNorm2d(32, eps=1e-05, momentum=0.1, affine=True, track_running_stats=True)\n",
       "  )\n",
       "  (2): Sequential(\n",
       "    (0): Conv2d(32, 64, kernel_size=(3, 3), stride=(2, 2), padding=(1, 1), bias=False)\n",
       "    (1): GeneralRelu()\n",
       "    (2): BatchNorm2d(64, eps=1e-05, momentum=0.1, affine=True, track_running_stats=True)\n",
       "  )\n",
       "  (3): Sequential(\n",
       "    (0): Conv2d(64, 32, kernel_size=(3, 3), stride=(2, 2), padding=(1, 1), bias=False)\n",
       "    (1): GeneralRelu()\n",
       "    (2): BatchNorm2d(32, eps=1e-05, momentum=0.1, affine=True, track_running_stats=True)\n",
       "  )\n",
       "  (4): Sequential(\n",
       "    (0): Conv2d(32, 64, kernel_size=(3, 3), stride=(2, 2), padding=(1, 1), bias=False)\n",
       "    (1): GeneralRelu()\n",
       "    (2): BatchNorm2d(64, eps=1e-05, momentum=0.1, affine=True, track_running_stats=True)\n",
       "  )\n",
       "  (5): Sequential(\n",
       "    (0): Conv2d(64, 128, kernel_size=(3, 3), stride=(2, 2), padding=(1, 1), bias=False)\n",
       "    (1): GeneralRelu()\n",
       "    (2): BatchNorm2d(128, eps=1e-05, momentum=0.1, affine=True, track_running_stats=True)\n",
       "  )\n",
       "  (6): Sequential(\n",
       "    (0): Conv2d(128, 256, kernel_size=(3, 3), stride=(2, 2), padding=(1, 1), bias=False)\n",
       "    (1): GeneralRelu()\n",
       "    (2): BatchNorm2d(256, eps=1e-05, momentum=0.1, affine=True, track_running_stats=True)\n",
       "  )\n",
       "  (7): AdaptiveAvgPool2d(output_size=1)\n",
       "  (8): Lambda()\n",
       "  (9): Linear(in_features=256, out_features=10, bias=True)\n",
       ")"
      ]
     },
     "execution_count": 9,
     "metadata": {},
     "output_type": "execute_result"
    }
   ],
   "source": [
    "learner.model"
   ]
  },
  {
   "cell_type": "code",
   "execution_count": 13,
   "metadata": {},
   "outputs": [
    {
     "data": {
      "text/plain": [
       "list"
      ]
     },
     "execution_count": 13,
     "metadata": {},
     "output_type": "execute_result"
    }
   ],
   "source": [
    "type(learner.opt.param_groups)"
   ]
  },
  {
   "cell_type": "code",
   "execution_count": 14,
   "metadata": {},
   "outputs": [
    {
     "data": {
      "text/plain": [
       "dict"
      ]
     },
     "execution_count": 14,
     "metadata": {},
     "output_type": "execute_result"
    }
   ],
   "source": [
    "type(learner.opt.param_groups[0])"
   ]
  },
  {
   "cell_type": "code",
   "execution_count": 15,
   "metadata": {},
   "outputs": [
    {
     "data": {
      "text/plain": [
       "dict_keys(['params', 'lr', 'momentum', 'dampening', 'weight_decay', 'nesterov'])"
      ]
     },
     "execution_count": 15,
     "metadata": {},
     "output_type": "execute_result"
    }
   ],
   "source": [
    "learner.opt.param_groups[0].keys()"
   ]
  },
  {
   "cell_type": "code",
   "execution_count": 17,
   "metadata": {},
   "outputs": [
    {
     "data": {
      "text/plain": [
       "list"
      ]
     },
     "execution_count": 17,
     "metadata": {},
     "output_type": "execute_result"
    }
   ],
   "source": [
    "type(learner.opt.param_groups[0][\"params\"])"
   ]
  },
  {
   "cell_type": "code",
   "execution_count": 19,
   "metadata": {},
   "outputs": [
    {
     "data": {
      "text/plain": [
       "23"
      ]
     },
     "execution_count": 19,
     "metadata": {},
     "output_type": "execute_result"
    }
   ],
   "source": [
    "len(learner.opt.param_groups[0][\"params\"]) "
   ]
  },
  {
   "cell_type": "markdown",
   "metadata": {},
   "source": [
    "We have 23 parameters:\n",
    "- conv_layer has 1 parameter (weight; bias is False); we have 7 layers\n",
    "- BatchNorm has 2 parameters (gamma and beta); we have 7 layers\n",
    "- Linear layer has 2 parameters (weight and biases), we have 1 layer"
   ]
  },
  {
   "cell_type": "code",
   "execution_count": 21,
   "metadata": {},
   "outputs": [
    {
     "data": {
      "text/plain": [
       "torch.nn.parameter.Parameter"
      ]
     },
     "execution_count": 21,
     "metadata": {},
     "output_type": "execute_result"
    }
   ],
   "source": [
    "type(learner.opt.param_groups[0][\"params\"][0])"
   ]
  },
  {
   "cell_type": "code",
   "execution_count": 24,
   "metadata": {},
   "outputs": [
    {
     "data": {
      "text/plain": [
       "Parameter containing:\n",
       "tensor([[[[-3.6560e-02, -9.2549e-03, -1.1498e-01],\n",
       "          [ 2.6020e-01,  4.4937e-01,  3.8764e-02],\n",
       "          [-6.5948e-02,  3.4887e-01,  6.5561e-02]],\n",
       "\n",
       "         [[-4.3624e-01, -2.1917e-01, -7.7126e-02],\n",
       "          [-3.2529e-01, -3.7441e-03, -1.7599e-01],\n",
       "          [ 2.4527e-01,  1.6689e-01,  2.5825e-01]],\n",
       "\n",
       "         [[-1.3695e-01,  4.1942e-01,  3.1105e-01],\n",
       "          [-5.5321e-01, -3.7746e-01,  3.2867e-01],\n",
       "          [ 1.4311e-01, -2.3511e-02,  1.3933e-01]]],\n",
       "\n",
       "\n",
       "        [[[ 3.1387e-01,  5.5576e-01,  2.1660e-01],\n",
       "          [-4.8649e-01,  7.2154e-02, -7.2564e-01],\n",
       "          [ 7.9597e-03,  7.4844e-02,  1.8869e-01]],\n",
       "\n",
       "         [[ 1.4533e-03,  3.6716e-01, -1.0911e-01],\n",
       "          [ 3.1937e-01, -1.4083e-01,  3.5648e-01],\n",
       "          [-1.9823e-01, -8.0791e-03,  5.8795e-01]],\n",
       "\n",
       "         [[ 9.6583e-02,  2.0461e-02, -4.7271e-03],\n",
       "          [ 2.3859e-01,  1.7194e-01,  3.3744e-01],\n",
       "          [-2.0123e-01, -3.2929e-01, -1.4210e-01]]],\n",
       "\n",
       "\n",
       "        [[[ 6.6139e-02, -3.8988e-01,  2.0892e-01],\n",
       "          [-1.7935e-01,  8.1542e-02, -2.0164e-01],\n",
       "          [-1.4107e-01, -1.4363e-01,  1.6824e-01]],\n",
       "\n",
       "         [[-3.4894e-01, -5.0436e-01,  3.1750e-02],\n",
       "          [ 5.8930e-01,  2.7534e-01,  2.3969e-01],\n",
       "          [ 3.7783e-01,  1.4416e-01, -3.0517e-01]],\n",
       "\n",
       "         [[-2.1238e-01, -1.5376e-01,  1.8110e-01],\n",
       "          [ 2.5411e-01, -3.8979e-02,  2.1823e-01],\n",
       "          [-5.0991e-01, -5.0458e-01, -2.1922e-02]]],\n",
       "\n",
       "\n",
       "        [[[-3.7161e-02, -4.0336e-01, -5.7440e-01],\n",
       "          [-2.5622e-01,  1.1604e-01, -1.8018e-01],\n",
       "          [ 4.4689e-01, -5.6094e-02,  8.0827e-02]],\n",
       "\n",
       "         [[-2.5737e-01, -1.3569e-01,  1.2805e-01],\n",
       "          [-1.8021e-02,  5.1261e-02,  1.1778e-01],\n",
       "          [ 1.7714e-01, -2.7489e-01,  2.9081e-01]],\n",
       "\n",
       "         [[-4.7062e-01, -2.3100e-01,  1.0051e-01],\n",
       "          [ 6.7919e-02,  3.1524e-01,  2.3483e-01],\n",
       "          [-1.6765e-01,  4.4341e-01, -1.1134e-04]]],\n",
       "\n",
       "\n",
       "        [[[-4.4125e-02, -4.3077e-02, -2.3248e-02],\n",
       "          [ 1.6743e-01,  2.4235e-02, -1.6127e-01],\n",
       "          [ 4.4301e-01,  1.8340e-01,  2.1531e-01]],\n",
       "\n",
       "         [[-1.4182e-01,  2.9576e-01, -1.8666e-01],\n",
       "          [-2.2165e-01, -5.3650e-01, -3.1106e-01],\n",
       "          [ 2.0666e-01, -1.8013e-01,  2.1731e-01]],\n",
       "\n",
       "         [[ 1.3821e-01,  1.7733e-01,  4.2188e-02],\n",
       "          [-1.1532e-01, -2.7025e-01,  3.3288e-01],\n",
       "          [-6.4870e-01, -1.2490e-01, -4.3523e-01]]],\n",
       "\n",
       "\n",
       "        [[[ 9.2698e-02,  6.4145e-01, -5.6656e-01],\n",
       "          [-5.0025e-02,  5.5005e-02,  1.1576e-01],\n",
       "          [-1.1889e-02, -1.7146e-01,  3.3189e-02]],\n",
       "\n",
       "         [[-8.7903e-02,  3.1463e-01,  4.4814e-01],\n",
       "          [ 5.3542e-01, -2.2844e-01,  6.3645e-03],\n",
       "          [-1.0769e-02, -1.7971e-01, -2.5796e-01]],\n",
       "\n",
       "         [[-2.2489e-01,  1.6455e-01,  4.9903e-02],\n",
       "          [ 3.9947e-01, -4.1469e-01, -2.2678e-01],\n",
       "          [ 2.7801e-01,  9.3540e-02, -2.6187e-01]]],\n",
       "\n",
       "\n",
       "        [[[ 1.1524e-01, -3.0545e-01,  3.6982e-01],\n",
       "          [-1.8928e-01,  6.6362e-02,  3.9691e-01],\n",
       "          [ 1.0003e-01, -4.3768e-02, -2.5170e-01]],\n",
       "\n",
       "         [[-5.1536e-01, -6.8394e-01, -3.4394e-01],\n",
       "          [-2.8510e-01,  5.7477e-02,  2.3688e-01],\n",
       "          [-1.0594e-01,  1.7968e-02, -2.3493e-01]],\n",
       "\n",
       "         [[ 1.5235e-01, -9.3905e-02, -2.2075e-01],\n",
       "          [ 2.0992e-01,  2.6306e-01, -1.0730e-01],\n",
       "          [ 2.6563e-01, -1.1510e-01,  4.5704e-01]]],\n",
       "\n",
       "\n",
       "        [[[ 5.8807e-02, -4.2308e-01,  1.6301e-01],\n",
       "          [-2.0475e-01, -4.7722e-01,  1.5140e-02],\n",
       "          [-4.1582e-02, -3.4300e-01,  7.0193e-02]],\n",
       "\n",
       "         [[ 1.6966e-01,  1.0991e-01,  7.2364e-02],\n",
       "          [-8.2017e-02, -7.5089e-01, -4.1983e-01],\n",
       "          [ 3.5050e-01,  1.4324e-01,  3.1538e-01]],\n",
       "\n",
       "         [[ 3.3977e-01, -4.1315e-01,  2.0953e-01],\n",
       "          [-4.9689e-02,  2.5775e-02, -2.1629e-01],\n",
       "          [ 3.6337e-02,  4.3621e-02, -5.3316e-02]]],\n",
       "\n",
       "\n",
       "        [[[-2.0112e-01, -2.5123e-01, -3.6898e-01],\n",
       "          [ 2.4005e-01,  2.3859e-01, -1.4361e-01],\n",
       "          [-1.4058e-01,  2.3244e-02, -1.2040e-01]],\n",
       "\n",
       "         [[ 2.7071e-03,  4.3252e-01, -1.7657e-01],\n",
       "          [ 1.8180e-01, -4.3989e-02,  9.0146e-03],\n",
       "          [ 3.5652e-01,  2.4206e-01,  3.6457e-01]],\n",
       "\n",
       "         [[-6.8848e-02, -3.3776e-01, -1.1748e-01],\n",
       "          [-6.0509e-03,  4.1252e-01,  2.2536e-01],\n",
       "          [-4.7787e-02,  4.9034e-01, -3.4596e-01]]],\n",
       "\n",
       "\n",
       "        [[[-3.0041e-01,  1.1178e-01, -1.4390e-01],\n",
       "          [ 5.4382e-01, -2.8554e-01,  1.9963e-01],\n",
       "          [ 6.9963e-02, -1.6951e-01, -7.7890e-01]],\n",
       "\n",
       "         [[ 4.0270e-01,  1.1413e-02, -2.8220e-01],\n",
       "          [ 4.3949e-01, -3.3107e-01, -7.3504e-02],\n",
       "          [ 1.6587e-01,  3.8061e-01, -1.4455e-01]],\n",
       "\n",
       "         [[-1.0869e-01, -5.1540e-01, -7.5019e-01],\n",
       "          [ 5.8399e-02,  2.4320e-01,  2.1169e-01],\n",
       "          [-1.0134e-01,  3.6229e-01,  1.8929e-01]]],\n",
       "\n",
       "\n",
       "        [[[-1.8325e-01,  4.0833e-01, -3.2512e-05],\n",
       "          [ 2.9744e-01, -3.6943e-02,  3.9331e-01],\n",
       "          [ 3.1076e-01, -6.8878e-01, -3.8752e-01]],\n",
       "\n",
       "         [[ 3.4394e-01, -2.9717e-01,  1.7148e-01],\n",
       "          [ 3.4662e-01, -4.0155e-01,  7.8568e-02],\n",
       "          [ 2.9439e-01, -6.8449e-01,  1.6075e-02]],\n",
       "\n",
       "         [[-2.9178e-02, -5.4132e-02, -8.4054e-02],\n",
       "          [-1.7591e-01,  7.1899e-02,  1.9788e-01],\n",
       "          [ 8.1040e-03,  2.6182e-01, -1.9082e-02]]],\n",
       "\n",
       "\n",
       "        [[[ 1.0772e-01,  5.4552e-02,  2.5907e-01],\n",
       "          [ 5.1612e-01,  1.2092e-01,  4.7934e-01],\n",
       "          [-2.7002e-01, -1.8926e-01,  4.9212e-02]],\n",
       "\n",
       "         [[-3.3386e-01,  2.1537e-01,  7.5173e-02],\n",
       "          [-2.9563e-01, -4.2348e-02, -8.3303e-02],\n",
       "          [ 2.7548e-01,  9.0174e-01, -4.7711e-01]],\n",
       "\n",
       "         [[-3.0195e-01,  2.7449e-02, -1.8482e-01],\n",
       "          [ 5.0164e-02,  4.3865e-02,  1.4572e-01],\n",
       "          [ 1.4718e-03, -4.0155e-01,  9.8611e-02]]],\n",
       "\n",
       "\n",
       "        [[[ 7.2000e-02, -4.8985e-01,  6.0982e-01],\n",
       "          [-1.9802e-01,  1.4363e-01, -2.8428e-01],\n",
       "          [ 3.6214e-01, -1.3821e-01, -5.4098e-02]],\n",
       "\n",
       "         [[ 1.9039e-02, -2.5131e-01, -3.4765e-01],\n",
       "          [ 1.6743e-01,  2.5598e-01,  5.3532e-01],\n",
       "          [ 1.3138e-01, -8.3088e-02,  3.5255e-01]],\n",
       "\n",
       "         [[ 5.8755e-01,  1.3023e-01, -1.0282e-01],\n",
       "          [-9.5152e-02, -7.0746e-01,  2.4153e-01],\n",
       "          [ 2.7546e-02,  6.6702e-01, -2.7603e-01]]],\n",
       "\n",
       "\n",
       "        [[[ 6.3175e-01, -3.7472e-01, -3.9895e-02],\n",
       "          [-8.6522e-02, -3.6010e-01, -1.4256e-01],\n",
       "          [ 2.8061e-01,  1.1052e-01, -2.8138e-02]],\n",
       "\n",
       "         [[-5.3233e-03, -3.1993e-01,  8.1429e-02],\n",
       "          [ 2.3904e-02,  4.6110e-01, -1.9401e-01],\n",
       "          [-1.3700e-01, -4.9574e-02, -1.4128e-01]],\n",
       "\n",
       "         [[ 2.1207e-01,  3.8867e-01, -9.8857e-02],\n",
       "          [ 1.5614e-01,  2.8465e-01,  3.6432e-01],\n",
       "          [-1.1889e-01,  2.6812e-01,  2.2078e-01]]],\n",
       "\n",
       "\n",
       "        [[[ 4.3170e-01, -7.0622e-02,  1.4408e-01],\n",
       "          [-2.8849e-02, -2.4178e-01,  1.3667e-02],\n",
       "          [ 2.4779e-01, -2.9893e-01,  8.9420e-02]],\n",
       "\n",
       "         [[ 1.7306e-02,  6.7988e-02,  6.6051e-02],\n",
       "          [ 2.4584e-01,  6.3417e-01, -6.8014e-01],\n",
       "          [ 3.5035e-01, -2.1063e-01,  9.0964e-04]],\n",
       "\n",
       "         [[-2.3709e-01, -1.5663e-01,  1.8652e-01],\n",
       "          [ 7.3755e-02,  1.6767e-03,  4.3219e-03],\n",
       "          [-1.6723e-01, -5.6996e-02,  6.3242e-01]]],\n",
       "\n",
       "\n",
       "        [[[ 3.0480e-01, -1.0971e-01, -7.5599e-02],\n",
       "          [ 2.4108e-01, -1.8867e-01,  3.4110e-02],\n",
       "          [ 2.6242e-02, -1.9190e-01, -2.7627e-01]],\n",
       "\n",
       "         [[ 5.4956e-02,  1.5715e-01, -1.9234e-01],\n",
       "          [-4.6830e-01, -3.2693e-01,  5.1418e-01],\n",
       "          [ 6.6213e-02,  1.6401e-01,  5.1382e-02]],\n",
       "\n",
       "         [[ 9.0677e-02,  1.2658e-01, -6.9565e-02],\n",
       "          [-2.2009e-01,  4.2289e-01,  3.2961e-01],\n",
       "          [ 2.3343e-01,  4.5763e-01,  3.6406e-02]]]], requires_grad=True)"
      ]
     },
     "execution_count": 24,
     "metadata": {},
     "output_type": "execute_result"
    }
   ],
   "source": [
    "learner.opt.param_groups[0][\"params\"][0]"
   ]
  },
  {
   "cell_type": "code",
   "execution_count": 11,
   "metadata": {
    "hidden": true
   },
   "outputs": [],
   "source": [
    "class Optimizer:\n",
    "    def __init__(self, params, steppers, **defaults):\n",
    "        # might be a generator\n",
    "        self.param_groups = listify(params)\n",
    "        # ensure params is a list of lists\n",
    "        if not isinstance(self.param_groups[0], list):\n",
    "            # If we have one 1 parameter group -> Treat all parameters the same\n",
    "            self.param_groups = [self.param_groups]\n",
    "        # each param group will have its own hyperparameters dictionary\n",
    "        # so they don't reference the same dictionary\n",
    "        self.hyper_params = [{**defaults} for pg in self.param_groups]\n",
    "        self.steppers = listify(steppers)\n",
    "\n",
    "    def grad_params(self):\n",
    "        return [\n",
    "            (p, hyper_param)\n",
    "            for pg, hyper_param in zip(self.param_groups, self.hyper_params)\n",
    "            for p in pg\n",
    "            if p.grad is not None\n",
    "        ]\n",
    "\n",
    "    def zero_grad(self):\n",
    "        for p, hyper_param in self.grad_params():\n",
    "            p.grad.detach_()\n",
    "            p.grad.zero_()\n",
    "\n",
    "    def step(self):\n",
    "        for p, hyper_param in self.grad_params():\n",
    "            compose(p, self.steppers, **hyper_param)"
   ]
  },
  {
   "cell_type": "markdown",
   "metadata": {
    "hidden": true
   },
   "source": [
    "To do basic SGD, this what a step looks like:"
   ]
  },
  {
   "cell_type": "code",
   "execution_count": 12,
   "metadata": {
    "hidden": true
   },
   "outputs": [],
   "source": [
    "# export\n",
    "def sgd_step(p, lr, **kwargs):\n",
    "    p.data.add_(-lr, p.grad.data)\n",
    "    return p"
   ]
  },
  {
   "cell_type": "code",
   "execution_count": null,
   "metadata": {
    "hidden": true
   },
   "outputs": [],
   "source": [
    "opt_func = partial(Optimizer, steppers=[sgd_step])"
   ]
  },
  {
   "cell_type": "markdown",
   "metadata": {
    "hidden": true
   },
   "source": [
    "Now that we have changed the optimizer, we will need to adjust the callbacks that were using properties from the PyTorch optimizer: in particular the hyper-parameters are in the list of dictionaries `opt.hypers` (PyTorch has everything in the the list of param groups)."
   ]
  },
  {
   "cell_type": "code",
   "execution_count": 1,
   "metadata": {
    "hidden": true
   },
   "outputs": [
    {
     "ename": "NameError",
     "evalue": "name 'Callback' is not defined",
     "output_type": "error",
     "traceback": [
      "\u001b[0;31m---------------------------------------------------------------------------\u001b[0m",
      "\u001b[0;31mNameError\u001b[0m                                 Traceback (most recent call last)",
      "\u001b[0;32m<ipython-input-1-dd9268307ab9>\u001b[0m in \u001b[0;36m<module>\u001b[0;34m\u001b[0m\n\u001b[1;32m      1\u001b[0m \u001b[0;31m# export\u001b[0m\u001b[0;34m\u001b[0m\u001b[0;34m\u001b[0m\u001b[0;34m\u001b[0m\u001b[0m\n\u001b[0;32m----> 2\u001b[0;31m \u001b[0;32mclass\u001b[0m \u001b[0mRecorder\u001b[0m\u001b[0;34m(\u001b[0m\u001b[0mCallback\u001b[0m\u001b[0;34m)\u001b[0m\u001b[0;34m:\u001b[0m\u001b[0;34m\u001b[0m\u001b[0;34m\u001b[0m\u001b[0m\n\u001b[0m\u001b[1;32m      3\u001b[0m     \u001b[0;32mdef\u001b[0m \u001b[0mbegin_fit\u001b[0m\u001b[0;34m(\u001b[0m\u001b[0mself\u001b[0m\u001b[0;34m)\u001b[0m\u001b[0;34m:\u001b[0m\u001b[0;34m\u001b[0m\u001b[0;34m\u001b[0m\u001b[0m\n\u001b[1;32m      4\u001b[0m         \u001b[0mself\u001b[0m\u001b[0;34m.\u001b[0m\u001b[0mlrs\u001b[0m\u001b[0;34m,\u001b[0m \u001b[0mself\u001b[0m\u001b[0;34m.\u001b[0m\u001b[0mlosses\u001b[0m \u001b[0;34m=\u001b[0m \u001b[0;34m[\u001b[0m\u001b[0;34m]\u001b[0m\u001b[0;34m,\u001b[0m \u001b[0;34m[\u001b[0m\u001b[0;34m]\u001b[0m\u001b[0;34m\u001b[0m\u001b[0;34m\u001b[0m\u001b[0m\n\u001b[1;32m      5\u001b[0m \u001b[0;34m\u001b[0m\u001b[0m\n",
      "\u001b[0;31mNameError\u001b[0m: name 'Callback' is not defined"
     ]
    }
   ],
   "source": [
    "# export\n",
    "class Recorder(Callback):\n",
    "    def begin_fit(self):\n",
    "        self.lrs, self.losses = [], []\n",
    "\n",
    "    def after_batch(self):\n",
    "        if not self.training:\n",
    "            return\n",
    "        self.lrs.append(self.opt.hypers[-1][\"lr\"])\n",
    "        self.losses.append(self.loss.detach().cpu())\n",
    "\n",
    "    def plot_lr(self):\n",
    "        plt.plot(self.lrs)\n",
    "\n",
    "    def plot_loss(self):\n",
    "        plt.plot(self.losses)\n",
    "\n",
    "    def plot(self, skip_last=0):\n",
    "        losses = [o.item() for o in self.losses]\n",
    "        n = len(losses) - skip_last\n",
    "        plt.xscale(\"log\")\n",
    "        plt.plot(self.lrs[:n], losses[:n])\n",
    "\n",
    "\n",
    "class ParamScheduler(Callback):\n",
    "    _order = 1\n",
    "\n",
    "    def __init__(self, pname, sched_funcs):\n",
    "        self.pname, self.sched_funcs = pname, listify(sched_funcs)\n",
    "\n",
    "    def begin_batch(self):\n",
    "        if not self.training:\n",
    "            return\n",
    "        fs = self.sched_funcs\n",
    "        if len(fs) == 1:\n",
    "            fs = fs * len(self.opt.param_groups)\n",
    "        pos = self.n_epochs / self.epochs\n",
    "        for f, h in zip(fs, self.opt.hypers):\n",
    "            h[self.pname] = f(pos)\n",
    "\n",
    "\n",
    "class LR_Find(Callback):\n",
    "    _order = 1\n",
    "\n",
    "    def __init__(self, max_iter=100, min_lr=1e-6, max_lr=10):\n",
    "        self.max_iter, self.min_lr, self.max_lr = max_iter, min_lr, max_lr\n",
    "        self.best_loss = 1e9\n",
    "\n",
    "    def begin_batch(self):\n",
    "        if not self.training:\n",
    "            return\n",
    "        pos = self.n_iter / self.max_iter\n",
    "        lr = self.min_lr * (self.max_lr / self.min_lr) ** pos\n",
    "        for pg in self.opt.hypers:\n",
    "            pg[\"lr\"] = lr\n",
    "\n",
    "    def after_step(self):\n",
    "        if self.n_iter >= self.max_iter or self.loss > self.best_loss * 10:\n",
    "            raise CancelTrainException()\n",
    "        if self.loss < self.best_loss:\n",
    "            self.best_loss = self.loss"
   ]
  },
  {
   "cell_type": "markdown",
   "metadata": {
    "hidden": true
   },
   "source": [
    "So let's check we didn't break anything and that recorder and param scheduler work properly."
   ]
  },
  {
   "cell_type": "code",
   "execution_count": null,
   "metadata": {
    "hidden": true
   },
   "outputs": [],
   "source": [
    "sched = combine_scheds([0.3, 0.7], [sched_cos(0.3, 0.6), sched_cos(0.6, 0.2)]) "
   ]
  },
  {
   "cell_type": "code",
   "execution_count": null,
   "metadata": {
    "hidden": true
   },
   "outputs": [],
   "source": [
    "cbfs = [partial(AvgStatsCallback,accuracy),\n",
    "        CudaCallback, Recorder,\n",
    "        partial(ParamScheduler, 'lr', sched)]"
   ]
  },
  {
   "cell_type": "code",
   "execution_count": null,
   "metadata": {
    "hidden": true
   },
   "outputs": [],
   "source": [
    "learn,run = get_learn_run(nfs, data, 0.4, conv_layer, cbs=cbfs, opt_func=opt_func)"
   ]
  },
  {
   "cell_type": "code",
   "execution_count": null,
   "metadata": {
    "hidden": true
   },
   "outputs": [
    {
     "name": "stdout",
     "output_type": "stream",
     "text": [
      "train: [1.7421688685144252, tensor(0.4011, device='cuda:0')]\n",
      "valid: [1.589141357421875, tensor(0.4820, device='cuda:0')]\n",
      "CPU times: user 4.72 s, sys: 2.29 s, total: 7.01 s\n",
      "Wall time: 11.2 s\n"
     ]
    }
   ],
   "source": [
    "%time run.fit(1, learn)"
   ]
  },
  {
   "cell_type": "code",
   "execution_count": null,
   "metadata": {
    "collapsed": true,
    "hidden": true,
    "jupyter": {
     "outputs_hidden": true
    },
    "tags": []
   },
   "outputs": [
    {
     "data": {
      "image/png": "[encoded data removed]",
      "text/plain": [
       "<Figure size 432x288 with 1 Axes>"
      ]
     },
     "metadata": {
      "needs_background": "light"
     },
     "output_type": "display_data"
    }
   ],
   "source": [
    "run.recorder.plot_loss()"
   ]
  },
  {
   "cell_type": "code",
   "execution_count": null,
   "metadata": {
    "hidden": true
   },
   "outputs": [
    {
     "data": {
      "image/png": "[encoded data removed]",
      "text/plain": [
       "<Figure size 432x288 with 1 Axes>"
      ]
     },
     "metadata": {
      "needs_background": "light"
     },
     "output_type": "display_data"
    }
   ],
   "source": [
    "run.recorder.plot_lr()"
   ]
  },
  {
   "cell_type": "markdown",
   "metadata": {
    "heading_collapsed": "true"
   },
   "source": [
    "## Weight decay"
   ]
  },
  {
   "cell_type": "markdown",
   "metadata": {
    "hidden": true
   },
   "source": [
    "[Jump_to lesson 11 video](https://course.fast.ai/videos/?lesson=11&t=4623)"
   ]
  },
  {
   "cell_type": "markdown",
   "metadata": {
    "hidden": true
   },
   "source": [
    "By letting our model learn high parameters, it might fit all the data points in the training set with an over-complex function that has very sharp changes, which will lead to overfitting.\n",
    "\n",
    "<img src=\"images/overfit.png\" alt=\"Fitting vs over-fitting\" width=\"600\">\n",
    "\n",
    "Weight decay comes from the idea of L2 regularization, which consists in adding to your loss function the sum of all the weights squared. Why do that? Because when we compute the gradients, it will add a contribution to them that will encourage the weights to be as small as possible."
   ]
  },
  {
   "cell_type": "markdown",
   "metadata": {
    "hidden": true
   },
   "source": [
    "Limiting our weights from growing too much is going to hinder the training of the model, but it will yield to a state where it generalizes better. Going back to the theory a little bit, weight decay (or just `wd`) is a parameter that controls that sum of squares we add to our loss:\n",
    "``` python\n",
    "loss_with_wd = loss + (wd/2) * (weights**2).sum()\n",
    "```\n",
    "\n",
    "In practice though, it would be very inefficient (and maybe numerically unstable) to compute that big sum and add it to the loss. If you remember a little bit of high school math, the derivative of `p**2` with respect to `p` is `2*p`. So adding that big sum to our loss is exactly the same as doing:\n",
    "``` python\n",
    "weight.grad += wd * weight\n",
    "```\n",
    "\n",
    "for every weight in our model, which in the case of vanilla SGD is equivalent to updating the parameters with:\n",
    "``` python\n",
    "weight = weight - lr*(weight.grad + wd*weight)\n",
    "```\n",
    "\n",
    "This technique is called \"weight decay\", as each weight is decayed by a factor `lr * wd`, as it's shown in this last formula.\n",
    "\n",
    "This only works for standard SGD, as we have seen that with momentum, RMSProp and Adam, the update has some additional formulas around the gradient. In those cases, the formula that comes from L2 regularization:\n",
    "``` python\n",
    "weight.grad += wd * weight\n",
    "```\n",
    "is different than weight decay\n",
    "``` python\n",
    "new_weight = weight - lr * weight.grad - lr * wd * weight\n",
    "```\n",
    "\n",
    "Most libraries use the first one, but as it was pointed out in [Decoupled Weight Regularization](https://arxiv.org/pdf/1711.05101.pdf) by Ilya Loshchilov and Frank Hutter, it is better to use the second one with the Adam optimizer, which is why fastai made it its default."
   ]
  },
  {
   "cell_type": "markdown",
   "metadata": {
    "hidden": true
   },
   "source": [
    "Weight decay is subtracting `lr*wd*weight` from the weights. We need this function to have an attribute `_defaults` so that we are sure there is an hyper-parameter of the same name in our `Optimizer`."
   ]
  },
  {
   "cell_type": "code",
   "execution_count": 13,
   "metadata": {
    "hidden": true
   },
   "outputs": [],
   "source": [
    "# export\n",
    "def weight_decay(p, lr, wd, **kwargs):\n",
    "    p.data.mul_(1 - lr * wd)\n",
    "    return p\n",
    "\n",
    "\n",
    "weight_decay._defaults = dict(wd=0.0)"
   ]
  },
  {
   "cell_type": "markdown",
   "metadata": {
    "hidden": true
   },
   "source": [
    "L2 regularization is adding `wd*weight` to the gradients."
   ]
  },
  {
   "cell_type": "raw",
   "metadata": {
    "hidden": true
   },
   "source": [
    "# export\n",
    "def l2_reg(p, lr, wd, **kwargs):\n",
    "    p.grad.data.add_(wd, p.data)\n",
    "    return p\n",
    "\n",
    "\n",
    "l2_reg._defaults = dict(wd=0.0)"
   ]
  },
  {
   "cell_type": "markdown",
   "metadata": {
    "hidden": true
   },
   "source": [
    "Let's allow steppers to add to our `defaults` (which are the default values of all the hyper-parameters). This helper function adds in `dest` the key/values it finds while going through `os` and applying `f` when they was no `key` of the same name."
   ]
  },
  {
   "cell_type": "code",
   "execution_count": 15,
   "metadata": {
    "hidden": true
   },
   "outputs": [],
   "source": [
    "# export\n",
    "def maybe_update(os, dest, f):\n",
    "    for o in os:\n",
    "        for k, v in f(o).items():\n",
    "            if k not in dest:\n",
    "                dest[k] = v\n",
    "\n",
    "\n",
    "def get_defaults(d):\n",
    "    return getattr(d, \"_defaults\", {})"
   ]
  },
  {
   "cell_type": "markdown",
   "metadata": {
    "hidden": true
   },
   "source": [
    "This is the same as before, we just take the default values of the steppers when none are provided in the kwargs."
   ]
  },
  {
   "cell_type": "code",
   "execution_count": 16,
   "metadata": {
    "hidden": true
   },
   "outputs": [],
   "source": [
    "# export\n",
    "class Optimizer:\n",
    "    def __init__(self, params, steppers, **defaults):\n",
    "        # might be a generator\n",
    "        self.param_groups = listify(params)\n",
    "        self.steppers = listify(steppers)\n",
    "        maybe_update(self.steppers, defaults, get_defaults)\n",
    "        # ensure params is a list of lists\n",
    "        if not isinstance(self.param_groups[0], list):\n",
    "            # If we have one 1 parameter group -> Treat all parameters the same\n",
    "            self.param_groups = [self.param_groups]\n",
    "        # each param group will have its own hyperparameters dictionary\n",
    "        # so they don't reference the same dictionary\n",
    "        self.hyper_params = [{**defaults} for pg in self.param_groups]\n",
    "\n",
    "    def grad_params(self):\n",
    "        return [\n",
    "            (p, hyper_param)\n",
    "            for pg, hyper_param in zip(self.param_groups, self.hyper_params)\n",
    "            for p in pg\n",
    "            if p.grad is not None\n",
    "        ]\n",
    "\n",
    "    def zero_grad(self):\n",
    "        for p, hyper_param in self.grad_params():\n",
    "            p.grad.detach_()\n",
    "            p.grad.zero_()\n",
    "\n",
    "    def step(self):\n",
    "        for p, hyper_param in self.grad_params():\n",
    "            compose(p, self.steppers, **hyper_param)"
   ]
  },
  {
   "cell_type": "code",
   "execution_count": 17,
   "metadata": {
    "hidden": true
   },
   "outputs": [],
   "source": [
    "# export\n",
    "sgd_opt = partial(Optimizer, steppers=[weight_decay, sgd_step])"
   ]
  },
  {
   "cell_type": "code",
   "execution_count": null,
   "metadata": {
    "hidden": true
   },
   "outputs": [],
   "source": [
    "learn,run = get_learn_run(nfs, data, 0.4, conv_layer, cbs=cbfs, opt_func=sgd_opt)"
   ]
  },
  {
   "cell_type": "markdown",
   "metadata": {
    "hidden": true
   },
   "source": [
    "Before trying to train, let's check the behavior works as intended: when we don't provide a value for `wd`, we pull the corresponding default from `weight_decay`."
   ]
  },
  {
   "cell_type": "code",
   "execution_count": null,
   "metadata": {
    "hidden": true
   },
   "outputs": [],
   "source": [
    "model = learn.model"
   ]
  },
  {
   "cell_type": "code",
   "execution_count": null,
   "metadata": {
    "hidden": true
   },
   "outputs": [],
   "source": [
    "opt = sgd_opt(model.parameters(), lr=0.1)\n",
    "test_eq(opt.hypers[0]['wd'], 0.)\n",
    "test_eq(opt.hypers[0]['lr'], 0.1)"
   ]
  },
  {
   "cell_type": "markdown",
   "metadata": {
    "hidden": true
   },
   "source": [
    "But if we provide a value, it overrides the default."
   ]
  },
  {
   "cell_type": "code",
   "execution_count": null,
   "metadata": {
    "hidden": true
   },
   "outputs": [],
   "source": [
    "opt = sgd_opt(model.parameters(), lr=0.1, wd=1e-4)\n",
    "test_eq(opt.hypers[0]['wd'], 1e-4)\n",
    "test_eq(opt.hypers[0]['lr'], 0.1)"
   ]
  },
  {
   "cell_type": "markdown",
   "metadata": {
    "hidden": true
   },
   "source": [
    "Now let's fit."
   ]
  },
  {
   "cell_type": "code",
   "execution_count": null,
   "metadata": {
    "hidden": true
   },
   "outputs": [],
   "source": [
    "cbfs = [partial(AvgStatsCallback,accuracy), CudaCallback]"
   ]
  },
  {
   "cell_type": "code",
   "execution_count": null,
   "metadata": {
    "hidden": true
   },
   "outputs": [],
   "source": [
    "learn,run = get_learn_run(nfs, data, 0.3, conv_layer, cbs=cbfs, opt_func=partial(sgd_opt, wd=0.01))"
   ]
  },
  {
   "cell_type": "code",
   "execution_count": null,
   "metadata": {
    "hidden": true
   },
   "outputs": [
    {
     "name": "stdout",
     "output_type": "stream",
     "text": [
      "train: [1.8518677231173415, tensor(0.3537, device='cuda:0')]\n",
      "valid: [1.947130615234375, tensor(0.3100, device='cuda:0')]\n"
     ]
    }
   ],
   "source": [
    "run.fit(1, learn)"
   ]
  },
  {
   "cell_type": "markdown",
   "metadata": {
    "hidden": true
   },
   "source": [
    "This is already better than the baseline!"
   ]
  },
  {
   "cell_type": "markdown",
   "metadata": {},
   "source": [
    "## With momentum"
   ]
  },
  {
   "cell_type": "markdown",
   "metadata": {
    "hidden": true
   },
   "source": [
    "[Jump_to lesson 11 video](https://course.fast.ai/videos/?lesson=11&t=4872)"
   ]
  },
  {
   "cell_type": "markdown",
   "metadata": {
    "hidden": true
   },
   "source": [
    "Momentum requires to add some state. We need to save the moving average of the gradients to be able to do the step and store this inside the optimizer state. To do this, we introduce statistics. Statistics are object with two methods:\n",
    "- `init_state`, that returns the initial state (a tensor of 0. for the moving average of gradients)\n",
    "- `update`, that updates the state with the new gradient value\n",
    "\n",
    "We also read the `_defaults` values of those objects, to allow them to provide default values to hyper-parameters."
   ]
  },
  {
   "cell_type": "code",
   "execution_count": 32,
   "metadata": {},
   "outputs": [
    {
     "ename": "NameError",
     "evalue": "name 'learner' is not defined",
     "output_type": "error",
     "traceback": [
      "\u001b[0;31m---------------------------------------------------------------------------\u001b[0m",
      "\u001b[0;31mNameError\u001b[0m                                 Traceback (most recent call last)",
      "\u001b[0;32m<ipython-input-32-eaa0fc4944ca>\u001b[0m in \u001b[0;36m<module>\u001b[0;34m\u001b[0m\n\u001b[0;32m----> 1\u001b[0;31m \u001b[0mlist\u001b[0m\u001b[0;34m(\u001b[0m\u001b[0mlearner\u001b[0m\u001b[0;34m.\u001b[0m\u001b[0mmodel\u001b[0m\u001b[0;34m.\u001b[0m\u001b[0mparameters\u001b[0m\u001b[0;34m(\u001b[0m\u001b[0;34m)\u001b[0m\u001b[0;34m)\u001b[0m\u001b[0;34m[\u001b[0m\u001b[0;36m0\u001b[0m\u001b[0;34m]\u001b[0m\u001b[0;34m.\u001b[0m\u001b[0mshape\u001b[0m\u001b[0;34m\u001b[0m\u001b[0;34m\u001b[0m\u001b[0m\n\u001b[0m",
      "\u001b[0;31mNameError\u001b[0m: name 'learner' is not defined"
     ]
    }
   ],
   "source": [
    "list(learner.model.parameters())[0].shape"
   ]
  },
  {
   "cell_type": "code",
   "execution_count": 33,
   "metadata": {
    "hidden": true
   },
   "outputs": [],
   "source": [
    "# export\n",
    "class StatefulOptimizer(Optimizer):\n",
    "    def __init__(self, params, steppers, stats=None, **defaults):\n",
    "        self.stats = listify(stats)\n",
    "        maybe_update(self.stats, defaults, get_defaults)\n",
    "        super().__init__(params, steppers, **defaults)\n",
    "        self.state = {}\n",
    "\n",
    "    def step(self):\n",
    "        for p, hyper in self.grad_params():\n",
    "            if p not in self.state:\n",
    "                # Create a state for p and call all the statistics to initialize it.\n",
    "                self.state[p] = {}\n",
    "                print(self.state[p])\n",
    "                maybe_update(self.stats, self.state[p], lambda o: o.init_state(p))\n",
    "            state = self.state[p]\n",
    "            for stat in self.stats:\n",
    "                state = stat.update(p, state, **hyper)\n",
    "            compose(p, self.steppers, **state, **hyper)\n",
    "            self.state[p] = state"
   ]
  },
  {
   "cell_type": "code",
   "execution_count": 34,
   "metadata": {
    "hidden": true
   },
   "outputs": [],
   "source": [
    "# export\n",
    "class Stat:\n",
    "    _defaults = {}\n",
    "\n",
    "    def init_state(self, p):\n",
    "        raise NotImplementedError\n",
    "\n",
    "    def update(self, p, state, **kwargs):\n",
    "        raise NotImplementedError"
   ]
  },
  {
   "cell_type": "markdown",
   "metadata": {
    "hidden": true
   },
   "source": [
    "Here is an example of `Stat`:"
   ]
  },
  {
   "cell_type": "code",
   "execution_count": 35,
   "metadata": {
    "hidden": true
   },
   "outputs": [],
   "source": [
    "class AverageGrad(Stat):\n",
    "    _defaults = dict(mom=0.9)\n",
    "\n",
    "    def init_state(self, p):\n",
    "        return {\"grad_avg\": torch.zeros_like(p.grad.data)}\n",
    "\n",
    "    def update(self, p, state, mom, **kwargs):\n",
    "        state[\"grad_avg\"].mul_(mom).add_(p.grad.data)\n",
    "        return state"
   ]
  },
  {
   "cell_type": "markdown",
   "metadata": {
    "hidden": true
   },
   "source": [
    "Then we add the momentum step (instead of using the gradients to perform the step, we use the average)."
   ]
  },
  {
   "cell_type": "code",
   "execution_count": 36,
   "metadata": {
    "hidden": true
   },
   "outputs": [],
   "source": [
    "# export\n",
    "def momentum_step(p, lr, grad_avg, **kwargs):\n",
    "    p.data.add_(-lr, grad_avg)\n",
    "    return p"
   ]
  },
  {
   "cell_type": "code",
   "execution_count": 37,
   "metadata": {
    "hidden": true
   },
   "outputs": [],
   "source": [
    "sgd_mom_opt = partial(\n",
    "    StatefulOptimizer,\n",
    "    steppers=[momentum_step, weight_decay],\n",
    "    stats=AverageGrad(),\n",
    "    wd=0.01,\n",
    ")"
   ]
  },
  {
   "cell_type": "code",
   "execution_count": 38,
   "metadata": {
    "hidden": true
   },
   "outputs": [],
   "source": [
    "learn = get_learn_run(nfs, data, 0.3, conv_layer, cbs=cbfs, opt_func=sgd_mom_opt)"
   ]
  },
  {
   "cell_type": "code",
   "execution_count": null,
   "metadata": {
    "hidden": true
   },
   "outputs": [],
   "source": [
    "learn.fit(1)"
   ]
  },
  {
   "cell_type": "markdown",
   "metadata": {
    "hidden": true
   },
   "source": [
    "[Jump_to lesson 11 video](https://course.fast.ai/videos/?lesson=11&t=5115) for discussion about weight decay interaction with batch normalisation"
   ]
  },
  {
   "cell_type": "markdown",
   "metadata": {
    "heading_collapsed": "true",
    "hidden": true
   },
   "source": [
    "### Momentum experiments"
   ]
  },
  {
   "cell_type": "markdown",
   "metadata": {
    "hidden": true
   },
   "source": [
    "What does momentum do to the gradients exactly? Let's do some plots to find out!"
   ]
  },
  {
   "cell_type": "markdown",
   "metadata": {
    "hidden": true
   },
   "source": [
    "[Jump_to lesson 11 video](https://course.fast.ai/videos/?lesson=11&t=5487)"
   ]
  },
  {
   "cell_type": "code",
   "execution_count": 65,
   "metadata": {
    "hidden": true
   },
   "outputs": [],
   "source": [
    "x = torch.linspace(-4, 4, 200)\n",
    "y = torch.randn(200) + 0.3\n",
    "betas = [0.5, 0.7, 0.9, 0.99]"
   ]
  },
  {
   "cell_type": "code",
   "execution_count": 66,
   "metadata": {
    "hidden": true
   },
   "outputs": [],
   "source": [
    "def plot_mom(f):\n",
    "    _, axs = plt.subplots(2, 2, figsize=(12, 8))\n",
    "    for beta, ax in zip(betas, axs.flatten()):\n",
    "        ax.plot(y, linestyle=\"None\", marker=\".\")\n",
    "        avg, res = None, []\n",
    "        for i, yi in enumerate(y):\n",
    "            avg, p = f(avg, beta, yi, i)\n",
    "            res.append(p)\n",
    "        ax.plot(res, color=\"red\")\n",
    "        ax.set_title(f\"beta={beta}\")"
   ]
  },
  {
   "cell_type": "markdown",
   "metadata": {
    "hidden": true
   },
   "source": [
    "This is the regular momentum."
   ]
  },
  {
   "cell_type": "code",
   "execution_count": 67,
   "metadata": {
    "hidden": true
   },
   "outputs": [
    {
     "data": {
      "image/png": "[encoded data removed]",
      "text/plain": [
       "<Figure size 864x576 with 4 Axes>"
      ]
     },
     "metadata": {
      "needs_background": "light"
     },
     "output_type": "display_data"
    }
   ],
   "source": [
    "def mom1(avg, beta, yi, i):\n",
    "    if avg is None:\n",
    "        avg = yi\n",
    "    res = beta * avg + yi\n",
    "    return res, res\n",
    "\n",
    "\n",
    "plot_mom(mom1)"
   ]
  },
  {
   "cell_type": "markdown",
   "metadata": {
    "hidden": true
   },
   "source": [
    "As we can see, with a too high value, it may go way too high with no way to change its course.\n",
    "\n",
    "Another way to smooth noisy data is to do an exponentially weighted moving average. In this case, there is a dampening of (1-beta) in front of the new value, which is less trusted than the current average. We'll define `lin_comb` (*linear combination*) to make this easier (note that in the lesson this was named `ewma`)."
   ]
  },
  {
   "cell_type": "code",
   "execution_count": 68,
   "metadata": {
    "hidden": true
   },
   "outputs": [],
   "source": [
    "# export\n",
    "def lin_comb(v1, v2, beta):\n",
    "    return beta * v1 + (1 - beta) * v2"
   ]
  },
  {
   "cell_type": "code",
   "execution_count": 69,
   "metadata": {
    "hidden": true
   },
   "outputs": [
    {
     "data": {
      "image/png": "[encoded data removed]",
      "text/plain": [
       "<Figure size 864x576 with 4 Axes>"
      ]
     },
     "metadata": {
      "needs_background": "light"
     },
     "output_type": "display_data"
    }
   ],
   "source": [
    "def mom2(avg, beta, yi, i):\n",
    "    if avg is None:\n",
    "        avg = yi\n",
    "    avg = lin_comb(avg, yi, beta)\n",
    "    return avg, avg\n",
    "\n",
    "\n",
    "plot_mom(mom2)"
   ]
  },
  {
   "cell_type": "markdown",
   "metadata": {
    "hidden": true
   },
   "source": [
    "We can see it gets to a zero-constant when the data is purely random. If the data has a certain shape, it will get that shape (with some delay for high beta)."
   ]
  },
  {
   "cell_type": "code",
   "execution_count": 70,
   "metadata": {
    "hidden": true
   },
   "outputs": [],
   "source": [
    "y = 1 - (x / 3) ** 2 + torch.randn(200) * 0.1"
   ]
  },
  {
   "cell_type": "code",
   "execution_count": 71,
   "metadata": {
    "hidden": true
   },
   "outputs": [],
   "source": [
    "y[0] = 0.5"
   ]
  },
  {
   "cell_type": "code",
   "execution_count": 72,
   "metadata": {
    "hidden": true
   },
   "outputs": [
    {
     "data": {
      "image/png": "[encoded data removed]",
      "text/plain": [
       "<Figure size 864x576 with 4 Axes>"
      ]
     },
     "metadata": {
      "needs_background": "light"
     },
     "output_type": "display_data"
    }
   ],
   "source": [
    "plot_mom(mom2)"
   ]
  },
  {
   "cell_type": "markdown",
   "metadata": {
    "hidden": true
   },
   "source": [
    "Debiasing is here to correct the wrong information we may have in the very first batch. The debias term corresponds to the sum of the coefficient in our moving average. At the time step i, our average is:\n",
    "\n",
    "$\\begin{align*}\n",
    "avg_{i} &= \\beta\\ avg_{i-1} + (1-\\beta)\\ v_{i} = \\beta\\ (\\beta\\ avg_{i-2} + (1-\\beta)\\ v_{i-1}) + (1-\\beta)\\ v_{i} \\\\\n",
    "&= \\beta^{2}\\ avg_{i-2} + (1-\\beta)\\ \\beta\\ v_{i-1} + (1-\\beta)\\ v_{i} \\\\\n",
    "&= \\beta^{3}\\ avg_{i-3} + (1-\\beta)\\ \\beta^{2}\\ v_{i-2} + (1-\\beta)\\ \\beta\\ v_{i-1} + (1-\\beta)\\ v_{i} \\\\\n",
    "&\\vdots \\\\\n",
    "&= (1-\\beta)\\ \\beta^{i}\\ v_{0} + (1-\\beta)\\ \\beta^{i-1}\\ v_{1} + \\cdots + (1-\\beta)\\ \\beta^{2}\\ v_{i-2} + (1-\\beta)\\ \\beta\\  v_{i-1} + (1-\\beta)\\ v_{i}\n",
    "\\end{align*}$\n",
    "\n",
    "and so the sum of the coefficients is\n",
    "\n",
    "$\\begin{align*}\n",
    "S &=(1-\\beta)\\ \\beta^{i} + (1-\\beta)\\ \\beta^{i-1} + \\cdots + (1-\\beta)\\ \\beta^{2} + (1-\\beta)\\ \\beta + (1-\\beta) \\\\\n",
    "&= (\\beta^{i} - \\beta^{i+1}) + (\\beta^{i-1} - \\beta^{i}) + \\cdots + (\\beta^{2} - \\beta^{3}) + (\\beta - \\beta^{2}) + (1-\\beta) \\\\\n",
    "&= 1 - \\beta^{i+1}\n",
    "\\end{align*}$\n",
    "\n",
    "since all the other terms cancel out each other.\n",
    "\n",
    "By dividing by this term, we make our moving average a true average (in the sense that all the coefficients we used for the average sum up to 1)."
   ]
  },
  {
   "cell_type": "code",
   "execution_count": 73,
   "metadata": {
    "hidden": true
   },
   "outputs": [
    {
     "data": {
      "image/png": "[encoded data removed]",
      "text/plain": [
       "<Figure size 864x576 with 4 Axes>"
      ]
     },
     "metadata": {
      "needs_background": "light"
     },
     "output_type": "display_data"
    }
   ],
   "source": [
    "def mom3(avg, beta, yi, i):\n",
    "    if avg is None:\n",
    "        avg = 0\n",
    "    avg = lin_comb(avg, yi, beta)\n",
    "    return avg, avg / (1 - beta ** (i + 1))\n",
    "\n",
    "\n",
    "plot_mom(mom3)"
   ]
  },
  {
   "cell_type": "markdown",
   "metadata": {
    "heading_collapsed": "true"
   },
   "source": [
    "## Adam and friends"
   ]
  },
  {
   "cell_type": "markdown",
   "metadata": {
    "hidden": true
   },
   "source": [
    "In Adam, we use the gradient averages but with dampening (not like in SGD with momentum), so let's add this to the `AverageGrad` class."
   ]
  },
  {
   "cell_type": "markdown",
   "metadata": {
    "hidden": true
   },
   "source": [
    "[Jump_to lesson 11 video](https://course.fast.ai/videos/?lesson=11&t=5889)"
   ]
  },
  {
   "cell_type": "code",
   "execution_count": 74,
   "metadata": {
    "hidden": true
   },
   "outputs": [],
   "source": [
    "# export\n",
    "class AverageGrad(Stat):\n",
    "    _defaults = dict(mom=0.9)\n",
    "\n",
    "    def __init__(self, dampening: bool = False):\n",
    "        self.dampening = dampening\n",
    "\n",
    "    def init_state(self, p):\n",
    "        return {\"grad_avg\": torch.zeros_like(p.grad.data)}\n",
    "\n",
    "    def update(self, p, state, mom, **kwargs):\n",
    "        state[\"mom_damp\"] = 1 - mom if self.dampening else 1.0\n",
    "        state[\"grad_avg\"].mul_(mom).add_(state[\"mom_damp\"], p.grad.data)\n",
    "        return state"
   ]
  },
  {
   "cell_type": "markdown",
   "metadata": {
    "hidden": true
   },
   "source": [
    "We also need to track the moving average of the gradients squared."
   ]
  },
  {
   "cell_type": "code",
   "execution_count": 76,
   "metadata": {
    "hidden": true
   },
   "outputs": [],
   "source": [
    "# export\n",
    "class AverageSqrGrad(Stat):\n",
    "    _defaults = dict(sqr_mom=0.99)\n",
    "\n",
    "    def __init__(self, dampening: bool = True):\n",
    "        self.dampening = dampening\n",
    "\n",
    "    def init_state(self, p):\n",
    "        return {\"sqr_avg\": torch.zeros_like(p.grad.data)}\n",
    "\n",
    "    def update(self, p, state, sqr_mom, **kwargs):\n",
    "        state[\"sqr_damp\"] = 1 - sqr_mom if self.dampening else 1.0\n",
    "        state[\"sqr_avg\"].mul_(sqr_mom).addcmul_(\n",
    "            state[\"sqr_damp\"], p.grad.data, p.grad.data\n",
    "        )\n",
    "        return state"
   ]
  },
  {
   "cell_type": "markdown",
   "metadata": {
    "hidden": true
   },
   "source": [
    "We will also need the number of steps done during training for the debiasing."
   ]
  },
  {
   "cell_type": "code",
   "execution_count": 77,
   "metadata": {
    "hidden": true
   },
   "outputs": [],
   "source": [
    "# export\n",
    "class StepCount(Stat):\n",
    "    def init_state(self, p):\n",
    "        return {\"step\": 0}\n",
    "\n",
    "    def update(self, p, state, **kwargs):\n",
    "        state[\"step\"] += 1\n",
    "        return state"
   ]
  },
  {
   "cell_type": "markdown",
   "metadata": {
    "hidden": true
   },
   "source": [
    "This helper function computes the debias term. If we dampening, `damp = 1 - mom` and we get the same result as before. If we don't use dampening, (`damp = 1`) we will need to divide by `1 - mom` because that term is missing everywhere."
   ]
  },
  {
   "cell_type": "code",
   "execution_count": 78,
   "metadata": {
    "hidden": true
   },
   "outputs": [],
   "source": [
    "# export\n",
    "def debias(mom, damp, step):\n",
    "    return damp * (1 - mom ** step) / (1 - mom)"
   ]
  },
  {
   "cell_type": "markdown",
   "metadata": {
    "hidden": true
   },
   "source": [
    "Then the Adam step is just the following:"
   ]
  },
  {
   "cell_type": "code",
   "execution_count": 79,
   "metadata": {
    "hidden": true
   },
   "outputs": [],
   "source": [
    "# export\n",
    "def adam_step(\n",
    "    p, lr, mom, mom_damp, step, sqr_mom, sqr_damp, grad_avg, sqr_avg, eps, **kwargs\n",
    "):\n",
    "    debias1 = debias(mom, mom_damp, step)\n",
    "    debias2 = debias(sqr_mom, sqr_damp, step)\n",
    "    p.data.addcdiv_(-lr / debias1, grad_avg, (sqr_avg / debias2).sqrt() + eps)\n",
    "    return p\n",
    "\n",
    "\n",
    "adam_step._defaults = dict(eps=1e-5)"
   ]
  },
  {
   "cell_type": "markdown",
   "metadata": {},
   "source": [
    "According to Jeremy, best value for `epsilon` is something between `1e-1` and `1e-3`."
   ]
  },
  {
   "cell_type": "code",
   "execution_count": 80,
   "metadata": {
    "hidden": true
   },
   "outputs": [],
   "source": [
    "# export\n",
    "def adam_opt(xtra_step=None, **kwargs):\n",
    "    return partial(\n",
    "        StatefulOptimizer,\n",
    "        steppers=[adam_step, weight_decay] + listify(xtra_step),\n",
    "        stats=[AverageGrad(dampening=True), AverageSqrGrad(), StepCount()],\n",
    "        **kwargs\n",
    "    )"
   ]
  },
  {
   "cell_type": "code",
   "execution_count": null,
   "metadata": {
    "hidden": true
   },
   "outputs": [],
   "source": [
    "learn,run = get_learn_run(nfs, data, 0.001, conv_layer, cbs=cbfs, opt_func=adam_opt())"
   ]
  },
  {
   "cell_type": "code",
   "execution_count": null,
   "metadata": {
    "hidden": true
   },
   "outputs": [
    {
     "name": "stdout",
     "output_type": "stream",
     "text": [
      "train: [1.7606317618659841, tensor(0.3931, device='cuda:0')]\n",
      "valid: [1.4439287109375, tensor(0.5320, device='cuda:0')]\n",
      "train: [1.246226745482395, tensor(0.5872, device='cuda:0')]\n",
      "valid: [1.113287353515625, tensor(0.6260, device='cuda:0')]\n",
      "train: [0.9583190188992943, tensor(0.6872, device='cuda:0')]\n",
      "valid: [0.9859400634765625, tensor(0.6720, device='cuda:0')]\n"
     ]
    }
   ],
   "source": [
    "run.fit(3, learn)"
   ]
  },
  {
   "cell_type": "markdown",
   "metadata": {
    "heading_collapsed": "true"
   },
   "source": [
    "## LAMB"
   ]
  },
  {
   "cell_type": "markdown",
   "metadata": {},
   "source": [
    "[Jump_to lesson 11 video](https://course.fast.ai/videos/?lesson=11&t=6038)"
   ]
  },
  {
   "cell_type": "markdown",
   "metadata": {},
   "source": [
    "It's then super easy to implement a new optimizer. This is LAMB from a [very recent paper](https://arxiv.org/pdf/1904.00962.pdf):\n",
    "\n",
    "$\\begin{align}\n",
    "g_{t}^{l} &= \\nabla L(w_{t-1}^{l}, x_{t}) \\\\\n",
    "m_{t}^{l} &= \\beta_{1} m_{t-1}^{l} + (1-\\beta_{1}) g_{t}^{l} \\\\\n",
    "v_{t}^{l} &= \\beta_{2} v_{t-1}^{l} + (1-\\beta_{2}) g_{t}^{l} \\odot g_{t}^{l} \\\\\n",
    "m_{t}^{l} &= m_{t}^{l} / (1 - \\beta_{1}^{t}) \\\\\n",
    "v_{t}^{l} &= v_{t}^{l} / (1 - \\beta_{2}^{t}) \\\\\n",
    "r_{1} &= \\|w_{t-1}^{l}\\|_{2} \\\\\n",
    "s_{t}^{l} &= \\frac{m_{t}^{l}}{\\sqrt{v_{t}^{l} + \\epsilon}} + \\lambda w_{t-1}^{l} \\\\ \n",
    "r_{2} &= \\| s_{t}^{l} \\|_{2} \\\\\n",
    "\\eta^{l} &= \\eta * r_{1}/r_{2} \\\\ \n",
    "w_{t}^{l} &= w_{t}^{l-1} - \\eta_{l} * s_{t}^{l} \\\\\n",
    "\\end{align}$"
   ]
  },
  {
   "cell_type": "code",
   "execution_count": null,
   "metadata": {},
   "outputs": [],
   "source": [
    "def lamb_step(p, lr, mom, mom_damp, step, sqr_mom, sqr_damp, grad_avg, sqr_avg, eps, wd, **kwargs):\n",
    "    debias1 = debias(mom,     mom_damp, step)\n",
    "    debias2 = debias(sqr_mom, sqr_damp, step)\n",
    "    r1 = p.data.pow(2).mean().sqrt()\n",
    "    step = (grad_avg/debias1) / ((sqr_avg/debias2).sqrt()+eps) + wd*p.data\n",
    "    r2 = step.pow(2).mean().sqrt()\n",
    "    p.data.add_(-lr * min(r1/r2,10), step)\n",
    "    return p\n",
    "lamb_step._defaults = dict(eps=1e-6, wd=0.)"
   ]
  },
  {
   "cell_type": "code",
   "execution_count": null,
   "metadata": {},
   "outputs": [],
   "source": [
    "lamb = partial(StatefulOptimizer, steppers=lamb_step, stats=[AverageGrad(dampening=True), AverageSqrGrad(), StepCount()])"
   ]
  },
  {
   "cell_type": "code",
   "execution_count": null,
   "metadata": {},
   "outputs": [],
   "source": [
    "learn,run = get_learn_run(nfs, data, 0.003, conv_layer, cbs=cbfs, opt_func=lamb)"
   ]
  },
  {
   "cell_type": "code",
   "execution_count": null,
   "metadata": {},
   "outputs": [
    {
     "name": "stdout",
     "output_type": "stream",
     "text": [
      "train: [1.8728660132619823, tensor(0.3419, device='cuda:0')]\n",
      "valid: [1.484662841796875, tensor(0.4860, device='cuda:0')]\n",
      "train: [1.3553239394291918, tensor(0.5506, device='cuda:0')]\n",
      "valid: [1.537447021484375, tensor(0.4840, device='cuda:0')]\n",
      "train: [1.0624497101364976, tensor(0.6537, device='cuda:0')]\n",
      "valid: [1.11101806640625, tensor(0.6460, device='cuda:0')]\n"
     ]
    }
   ],
   "source": [
    "run.fit(3, learn)"
   ]
  },
  {
   "cell_type": "markdown",
   "metadata": {},
   "source": [
    "Other recent variants of optimizers:\n",
    "- [Large Batch Training of Convolutional Networks](https://arxiv.org/abs/1708.03888) (LARS also uses weight statistics, not just gradient statistics. Can you add that to this class?)\n",
    "- [Adafactor: Adaptive Learning Rates with Sublinear Memory Cost](https://arxiv.org/abs/1804.04235) (Adafactor combines stats over multiple sets of axes)\n",
    "- [Adaptive Gradient Methods with Dynamic Bound of Learning Rate](https://arxiv.org/abs/1902.09843)"
   ]
  },
  {
   "cell_type": "markdown",
   "metadata": {},
   "source": [
    "## Export"
   ]
  },
  {
   "cell_type": "code",
   "execution_count": 3,
   "metadata": {
    "hidden": true
   },
   "outputs": [
    {
     "name": "stdout",
     "output_type": "stream",
     "text": [
      "Converted 09_Optimizers-Imad.ipynb to exp/nb_09.py\n"
     ]
    }
   ],
   "source": [
    "!python ../src/notebook2script.py 09_Optimizers-Imad.ipynb"
   ]
  }
 ],
 "metadata": {
  "hide_input": false,
  "kernelspec": {
   "display_name": "Python 3 (ipykernel)",
   "language": "python",
   "name": "python3"
  },
  "language_info": {
   "codemirror_mode": {
    "name": "ipython",
    "version": 3
   },
   "file_extension": ".py",
   "mimetype": "text/x-python",
   "name": "python",
   "nbconvert_exporter": "python",
   "pygments_lexer": "ipython3",
   "version": "3.10.4"
  },
  "toc": {
   "base_numbering": 1,
   "nav_menu": {},
   "number_sections": true,
   "sideBar": true,
   "skip_h1_title": false,
   "title_cell": "Table of Contents",
   "title_sidebar": "Contents",
   "toc_cell": false,
   "toc_position": {},
   "toc_section_display": true,
   "toc_window_display": false
  }
 },
 "nbformat": 4,
 "nbformat_minor": 4
}
