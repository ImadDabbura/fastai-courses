{
 "cells": [
  {
   "cell_type": "code",
   "execution_count": 136,
   "metadata": {},
   "outputs": [],
   "source": [
    "import torch\n",
    "import torch.nn as nn\n",
    "from pathlib import Path\n",
    "from PIL import Image\n",
    "from concurrent.futures import ProcessPoolExecutor\n",
    "from functools import partial"
   ]
  },
  {
   "cell_type": "code",
   "execution_count": 9,
   "metadata": {},
   "outputs": [
    {
     "data": {
      "text/plain": [
       "[PosixPath('/Users/imad/.fastai/data/imagenette2-160/train/n03394916/ILSVRC2012_val_00046669.JPEG'),\n",
       " PosixPath('/Users/imad/.fastai/data/imagenette2-160/train/n03394916/n03394916_58454.JPEG'),\n",
       " PosixPath('/Users/imad/.fastai/data/imagenette2-160/train/n03394916/n03394916_32588.JPEG')]"
      ]
     },
     "execution_count": 9,
     "metadata": {},
     "output_type": "execute_result"
    }
   ],
   "source": [
    "fnames = list(Path('/Users/imad/.fastai/data/imagenette2-160/').rglob('*.JPEG'))\n",
    "fnames[:3]"
   ]
  },
  {
   "cell_type": "code",
   "execution_count": 67,
   "metadata": {},
   "outputs": [
    {
     "data": {
      "text/plain": [
       "{'n01440764',\n",
       " 'n02102040',\n",
       " 'n02979186',\n",
       " 'n03000684',\n",
       " 'n03028079',\n",
       " 'n03394916',\n",
       " 'n03417042',\n",
       " 'n03425413',\n",
       " 'n03445777',\n",
       " 'n03888257'}"
      ]
     },
     "execution_count": 67,
     "metadata": {},
     "output_type": "execute_result"
    }
   ],
   "source": [
    "set(fname.parent.name for fname in fnames)"
   ]
  },
  {
   "cell_type": "code",
   "execution_count": 105,
   "metadata": {},
   "outputs": [],
   "source": [
    "class Dataset:\n",
    "    def __init__(self, fnames):\n",
    "        self.fnames = fnames\n",
    "        self.classes = set(fname.parent.name for fname in fnames)\n",
    "        self.labels = {fname:i for i, fname in enumerate(self.classes)}\n",
    "    \n",
    "    def __len__(self):\n",
    "        return len(self.fnames)\n",
    "    \n",
    "    def __getitem__(self, i):\n",
    "        x = PIL.Image.open(self.fnames[i]).resize((64, 64)).convert('RGB')\n",
    "        y = self.labels[self.fnames[i].parent.name]\n",
    "        return torch.tensor(np.array(x)).float() / 2555, torch.tensor(y)"
   ]
  },
  {
   "cell_type": "code",
   "execution_count": 106,
   "metadata": {},
   "outputs": [
    {
     "data": {
      "image/png": "[encoded data removed]",
      "text/plain": [
       "<PIL.Image.Image image mode=RGB size=64x64 at 0x7F8FD0747580>"
      ]
     },
     "execution_count": 106,
     "metadata": {},
     "output_type": "execute_result"
    }
   ],
   "source": [
    "img = Image.open(fnames[0]).resize((64, 64)).convert('RGB')\n",
    "img"
   ]
  },
  {
   "cell_type": "code",
   "execution_count": 107,
   "metadata": {},
   "outputs": [
    {
     "data": {
      "text/plain": [
       "(9469, 3925)"
      ]
     },
     "execution_count": 107,
     "metadata": {},
     "output_type": "execute_result"
    }
   ],
   "source": [
    "train_ds = Dataset([fname for fname in fnames if fname.parent.parent.name == 'train'])\n",
    "valid_ds = Dataset([fname for fname in fnames if fname.parent.parent.name == 'val'])\n",
    "len(train_ds), len(valid_ds)"
   ]
  },
  {
   "cell_type": "code",
   "execution_count": 120,
   "metadata": {},
   "outputs": [],
   "source": [
    "def collate_fn(idxs, ds):\n",
    "    xs, ys = zip(*[ds[i] for i in idxs])\n",
    "    return torch.stack(xs), torch.stack(ys)"
   ]
  },
  {
   "cell_type": "code",
   "execution_count": 121,
   "metadata": {},
   "outputs": [],
   "source": [
    "class DataLoader:\n",
    "    def __init__(self, ds, bs=2, shuffle=True, n_workers=1):\n",
    "        self.ds = ds\n",
    "        self.n = len(self.ds)\n",
    "        self.bs = bs\n",
    "        self.shuffle = shuffle\n",
    "        self.n_workers = n_workers\n",
    "    \n",
    "    def __len__(self):\n",
    "        return (self.n - 1) // self.bs + 1\n",
    "    \n",
    "    def __iter__(self):\n",
    "        idxs = torch.randperm(self.n) if self.shuffle else torch.arange(self.n)\n",
    "        chunks = [idxs[i:(i + self.bs)] for i in range(0, self.n, self.bs)]\n",
    "        for chunk in chunks:\n",
    "            yield collate_fn(chunk, self.ds)\n",
    "#         with ProcessPoolExecutor() as ex:\n",
    "#             yield from ex.map(partial(collate_fn, ds=self.ds), chunks)"
   ]
  },
  {
   "cell_type": "code",
   "execution_count": 123,
   "metadata": {},
   "outputs": [
    {
     "data": {
      "text/plain": [
       "(128, 128)"
      ]
     },
     "execution_count": 123,
     "metadata": {},
     "output_type": "execute_result"
    }
   ],
   "source": [
    "train_dl = DataLoader(train_ds, bs=128, shuffle=True, n_workers=4)\n",
    "x, y = next(iter(train_dl))\n",
    "len(x), len(y)"
   ]
  },
  {
   "cell_type": "code",
   "execution_count": 124,
   "metadata": {},
   "outputs": [
    {
     "data": {
      "text/plain": [
       "tensor([[[[0.0266, 0.0294, 0.0266],\n",
       "          [0.0286, 0.0313, 0.0286],\n",
       "          [0.0305, 0.0333, 0.0305],\n",
       "          ...,\n",
       "          [0.0325, 0.0372, 0.0360],\n",
       "          [0.0297, 0.0344, 0.0337],\n",
       "          [0.0274, 0.0321, 0.0321]],\n",
       "\n",
       "         [[0.0309, 0.0337, 0.0309],\n",
       "          [0.0333, 0.0360, 0.0333],\n",
       "          [0.0352, 0.0380, 0.0352],\n",
       "          ...,\n",
       "          [0.0372, 0.0419, 0.0407],\n",
       "          [0.0352, 0.0399, 0.0391],\n",
       "          [0.0333, 0.0380, 0.0376]],\n",
       "\n",
       "         [[0.0356, 0.0384, 0.0356],\n",
       "          [0.0376, 0.0403, 0.0376],\n",
       "          [0.0395, 0.0423, 0.0395],\n",
       "          ...,\n",
       "          [0.0423, 0.0470, 0.0458],\n",
       "          [0.0403, 0.0450, 0.0446],\n",
       "          [0.0391, 0.0438, 0.0434]],\n",
       "\n",
       "         ...,\n",
       "\n",
       "         [[0.0035, 0.0012, 0.0016],\n",
       "          [0.0031, 0.0020, 0.0020],\n",
       "          [0.0012, 0.0008, 0.0008],\n",
       "          ...,\n",
       "          [0.0027, 0.0023, 0.0016],\n",
       "          [0.0027, 0.0023, 0.0016],\n",
       "          [0.0043, 0.0039, 0.0031]],\n",
       "\n",
       "         [[0.0027, 0.0020, 0.0016],\n",
       "          [0.0012, 0.0016, 0.0008],\n",
       "          [0.0027, 0.0051, 0.0031],\n",
       "          ...,\n",
       "          [0.0016, 0.0012, 0.0004],\n",
       "          [0.0016, 0.0012, 0.0004],\n",
       "          [0.0031, 0.0027, 0.0020]],\n",
       "\n",
       "         [[0.0012, 0.0012, 0.0008],\n",
       "          [0.0016, 0.0035, 0.0023],\n",
       "          [0.0317, 0.0376, 0.0348],\n",
       "          ...,\n",
       "          [0.0016, 0.0012, 0.0004],\n",
       "          [0.0020, 0.0016, 0.0008],\n",
       "          [0.0023, 0.0020, 0.0012]]],\n",
       "\n",
       "\n",
       "        [[[0.0877, 0.0869, 0.0873],\n",
       "          [0.0575, 0.0568, 0.0571],\n",
       "          [0.0168, 0.0160, 0.0164],\n",
       "          ...,\n",
       "          [0.0145, 0.0145, 0.0141],\n",
       "          [0.0141, 0.0141, 0.0133],\n",
       "          [0.0114, 0.0114, 0.0114]],\n",
       "\n",
       "         [[0.0834, 0.0826, 0.0830],\n",
       "          [0.0575, 0.0568, 0.0571],\n",
       "          [0.0168, 0.0160, 0.0164],\n",
       "          ...,\n",
       "          [0.0145, 0.0145, 0.0141],\n",
       "          [0.0141, 0.0141, 0.0133],\n",
       "          [0.0114, 0.0114, 0.0114]],\n",
       "\n",
       "         [[0.0787, 0.0779, 0.0783],\n",
       "          [0.0575, 0.0568, 0.0571],\n",
       "          [0.0160, 0.0153, 0.0157],\n",
       "          ...,\n",
       "          [0.0145, 0.0145, 0.0141],\n",
       "          [0.0141, 0.0141, 0.0133],\n",
       "          [0.0114, 0.0114, 0.0114]],\n",
       "\n",
       "         ...,\n",
       "\n",
       "         [[0.0387, 0.0333, 0.0290],\n",
       "          [0.0384, 0.0329, 0.0290],\n",
       "          [0.0348, 0.0294, 0.0258],\n",
       "          ...,\n",
       "          [0.0826, 0.0642, 0.0086],\n",
       "          [0.0798, 0.0607, 0.0098],\n",
       "          [0.0771, 0.0575, 0.0106]],\n",
       "\n",
       "         [[0.0380, 0.0325, 0.0282],\n",
       "          [0.0380, 0.0325, 0.0286],\n",
       "          [0.0348, 0.0290, 0.0258],\n",
       "          ...,\n",
       "          [0.0818, 0.0634, 0.0094],\n",
       "          [0.0826, 0.0638, 0.0121],\n",
       "          [0.0806, 0.0614, 0.0114]],\n",
       "\n",
       "         [[0.0364, 0.0309, 0.0266],\n",
       "          [0.0364, 0.0309, 0.0270],\n",
       "          [0.0344, 0.0290, 0.0258],\n",
       "          ...,\n",
       "          [0.0818, 0.0630, 0.0102],\n",
       "          [0.0822, 0.0638, 0.0090],\n",
       "          [0.0818, 0.0638, 0.0070]]],\n",
       "\n",
       "\n",
       "        [[[0.0701, 0.0697, 0.0712],\n",
       "          [0.0634, 0.0634, 0.0638],\n",
       "          [0.0642, 0.0642, 0.0642],\n",
       "          ...,\n",
       "          [0.0297, 0.0325, 0.0368],\n",
       "          [0.0305, 0.0337, 0.0372],\n",
       "          [0.0313, 0.0356, 0.0380]],\n",
       "\n",
       "         [[0.0697, 0.0697, 0.0708],\n",
       "          [0.0634, 0.0634, 0.0638],\n",
       "          [0.0646, 0.0646, 0.0646],\n",
       "          ...,\n",
       "          [0.0313, 0.0341, 0.0372],\n",
       "          [0.0305, 0.0341, 0.0368],\n",
       "          [0.0321, 0.0364, 0.0387]],\n",
       "\n",
       "         [[0.0697, 0.0693, 0.0708],\n",
       "          [0.0638, 0.0638, 0.0646],\n",
       "          [0.0646, 0.0646, 0.0646],\n",
       "          ...,\n",
       "          [0.0333, 0.0364, 0.0372],\n",
       "          [0.0305, 0.0344, 0.0360],\n",
       "          [0.0329, 0.0372, 0.0395]],\n",
       "\n",
       "         ...,\n",
       "\n",
       "         [[0.0325, 0.0313, 0.0274],\n",
       "          [0.0356, 0.0344, 0.0301],\n",
       "          [0.0380, 0.0368, 0.0325],\n",
       "          ...,\n",
       "          [0.0771, 0.0708, 0.0646],\n",
       "          [0.0775, 0.0712, 0.0650],\n",
       "          [0.0767, 0.0705, 0.0642]],\n",
       "\n",
       "         [[0.0434, 0.0395, 0.0360],\n",
       "          [0.0481, 0.0442, 0.0403],\n",
       "          [0.0677, 0.0638, 0.0591],\n",
       "          ...,\n",
       "          [0.0767, 0.0705, 0.0642],\n",
       "          [0.0775, 0.0712, 0.0650],\n",
       "          [0.0775, 0.0712, 0.0658]],\n",
       "\n",
       "         [[0.0489, 0.0423, 0.0395],\n",
       "          [0.0489, 0.0427, 0.0391],\n",
       "          [0.0654, 0.0591, 0.0540],\n",
       "          ...,\n",
       "          [0.0779, 0.0716, 0.0654],\n",
       "          [0.0779, 0.0716, 0.0654],\n",
       "          [0.0775, 0.0712, 0.0654]]]])"
      ]
     },
     "execution_count": 124,
     "metadata": {},
     "output_type": "execute_result"
    }
   ],
   "source": [
    "x[:3]"
   ]
  },
  {
   "cell_type": "code",
   "execution_count": 127,
   "metadata": {},
   "outputs": [],
   "source": [
    "class Parameter(torch.Tensor):\n",
    "    def __new__(self, x):\n",
    "        return self._make_subclass(Parameter, x, True)\n",
    "    def __init__(self, *args, **kwargs):\n",
    "        self.requires_grad_()\n",
    "                "
   ]
  },
  {
   "cell_type": "code",
   "execution_count": 129,
   "metadata": {},
   "outputs": [
    {
     "data": {
      "text/plain": [
       "tensor(10., requires_grad=True)"
      ]
     },
     "execution_count": 129,
     "metadata": {},
     "output_type": "execute_result"
    }
   ],
   "source": [
    "Parameter(torch.tensor(10.))"
   ]
  },
  {
   "cell_type": "code",
   "execution_count": 131,
   "metadata": {},
   "outputs": [],
   "source": [
    "class Module:\n",
    "    def __init__(self):\n",
    "        self.hook, self.params, self.children, self._training = None, [], [], False\n",
    "    \n",
    "    def register_parameters(self, *ps):\n",
    "        self.params += ps\n",
    "    \n",
    "    def register_modules(self, *ms):\n",
    "        self.children += ms\n",
    "    \n",
    "    @property\n",
    "    def training(self):\n",
    "        return self._training\n",
    "    \n",
    "    @training.setter\n",
    "    def training(self, v):\n",
    "        self._training = v\n",
    "        for module in self.children:\n",
    "            module.training = v\n",
    "    \n",
    "    def parameters(self):\n",
    "        return self.params + sum([module.parameters() for module in self.children], [])\n",
    "    \n",
    "    def __setattr__(self, k, v):\n",
    "        super().__setattr__(k, v)\n",
    "        if isinstance(v, Parameter):\n",
    "            self.register_parameters(v)\n",
    "        if isinstance(v, Module):\n",
    "            self.register_modules(v)\n",
    "    \n",
    "    def __call__(self, *args, **kwargs):\n",
    "        res = self.forward(*args, **kwargs)\n",
    "        if self.hook is not None:\n",
    "            self.hook(res, args)\n",
    "    \n",
    "    def cude(self):\n",
    "        for param in self.parameters():\n",
    "            param.data = param.data.cuda()"
   ]
  },
  {
   "cell_type": "code",
   "execution_count": 134,
   "metadata": {},
   "outputs": [],
   "source": [
    "class Linear(Module):\n",
    "    def __init__(self, n_in, n_out):\n",
    "        self.w = Parameter(torch.zeros(n_out, n_in))\n",
    "        self.b = Parameter(torch.zeros(n_out))\n",
    "        nn.init.xavier_normal_(self.w)\n",
    "    \n",
    "    def forward(self, x):\n",
    "        return x @ self.w.t() + self.b"
   ]
  },
  {
   "cell_type": "code",
   "execution_count": 147,
   "metadata": {},
   "outputs": [],
   "source": [
    "class Net(nn.Module):\n",
    "    def __init__(self):\n",
    "        super().__init__()\n",
    "        self.x = nn.Sequential(nn.Linear(10, 20), nn.Linear(20, 30))\n",
    "        self.y = nn.Sequential(nn.Linear(10, 20), nn.Linear(20, 30))\n",
    "    \n",
    "    def forward(self):\n",
    "        pass"
   ]
  },
  {
   "cell_type": "code",
   "execution_count": 148,
   "metadata": {},
   "outputs": [],
   "source": [
    "net = Net()"
   ]
  },
  {
   "cell_type": "code",
   "execution_count": 151,
   "metadata": {},
   "outputs": [
    {
     "data": {
      "text/plain": [
       "[('x',\n",
       "  Sequential(\n",
       "    (0): Linear(in_features=10, out_features=20, bias=True)\n",
       "    (1): Linear(in_features=20, out_features=30, bias=True)\n",
       "  )),\n",
       " ('y',\n",
       "  Sequential(\n",
       "    (0): Linear(in_features=10, out_features=20, bias=True)\n",
       "    (1): Linear(in_features=20, out_features=30, bias=True)\n",
       "  ))]"
      ]
     },
     "execution_count": 151,
     "metadata": {},
     "output_type": "execute_result"
    }
   ],
   "source": [
    "list(net.named_children())"
   ]
  },
  {
   "cell_type": "code",
   "execution_count": null,
   "metadata": {},
   "outputs": [],
   "source": []
  }
 ],
 "metadata": {
  "kernelspec": {
   "display_name": "Python 3",
   "language": "python",
   "name": "python3"
  },
  "language_info": {
   "codemirror_mode": {
    "name": "ipython",
    "version": 3
   },
   "file_extension": ".py",
   "mimetype": "text/x-python",
   "name": "python",
   "nbconvert_exporter": "python",
   "pygments_lexer": "ipython3",
   "version": "3.8.5"
  }
 },
 "nbformat": 4,
 "nbformat_minor": 4
}
